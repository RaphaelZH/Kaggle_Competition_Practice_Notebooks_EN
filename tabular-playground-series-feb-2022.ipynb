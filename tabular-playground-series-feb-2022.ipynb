{
 "cells": [
  {
   "cell_type": "code",
   "execution_count": 1,
   "id": "6c765bdd",
   "metadata": {
    "_cell_guid": "b1076dfc-b9ad-4769-8c92-a6c4dae69d19",
    "_uuid": "8f2839f25d086af736a60e9eeb907d3b93b6e0e5",
    "execution": {
     "iopub.execute_input": "2022-02-28T22:58:26.749267Z",
     "iopub.status.busy": "2022-02-28T22:58:26.747161Z",
     "iopub.status.idle": "2022-02-28T22:58:26.763023Z",
     "shell.execute_reply": "2022-02-28T22:58:26.764291Z",
     "shell.execute_reply.started": "2022-02-28T22:58:01.488954Z"
    },
    "papermill": {
     "duration": 0.071278,
     "end_time": "2022-02-28T22:58:26.765194",
     "exception": false,
     "start_time": "2022-02-28T22:58:26.693916",
     "status": "completed"
    },
    "tags": []
   },
   "outputs": [
    {
     "name": "stdout",
     "output_type": "stream",
     "text": [
      "/kaggle/input/tabular-playground-series-feb-2022/sample_submission.csv\n",
      "/kaggle/input/tabular-playground-series-feb-2022/train.csv\n",
      "/kaggle/input/tabular-playground-series-feb-2022/test.csv\n"
     ]
    }
   ],
   "source": [
    "# This Python 3 environment comes with many helpful analytics libraries installed\n",
    "# It is defined by the kaggle/python Docker image: https://github.com/kaggle/docker-python\n",
    "# For example, here's several helpful packages to load\n",
    "\n",
    "import numpy as np # linear algebra\n",
    "import pandas as pd # data processing, CSV file I/O (e.g. pd.read_csv)\n",
    "\n",
    "# Input data files are available in the read-only \"../input/\" directory\n",
    "# For example, running this (by clicking run or pressing Shift+Enter) will list all files under the input directory\n",
    "\n",
    "import os\n",
    "for dirname, _, filenames in os.walk('/kaggle/input'):\n",
    "    for filename in filenames:\n",
    "        print(os.path.join(dirname, filename))\n",
    "\n",
    "# You can write up to 20GB to the current directory (/kaggle/working/) that gets preserved as output when you create a version using \"Save & Run All\" \n",
    "# You can also write temporary files to /kaggle/temp/, but they won't be saved outside of the current session"
   ]
  },
  {
   "cell_type": "markdown",
   "id": "aa154bec",
   "metadata": {
    "papermill": {
     "duration": 0.046163,
     "end_time": "2022-02-28T22:58:26.860192",
     "exception": false,
     "start_time": "2022-02-28T22:58:26.814029",
     "status": "completed"
    },
    "tags": []
   },
   "source": [
    "# Importing Libraries"
   ]
  },
  {
   "cell_type": "code",
   "execution_count": 2,
   "id": "3dfd2117",
   "metadata": {
    "execution": {
     "iopub.execute_input": "2022-02-28T22:58:27.056465Z",
     "iopub.status.busy": "2022-02-28T22:58:27.055403Z",
     "iopub.status.idle": "2022-02-28T22:58:28.458703Z",
     "shell.execute_reply": "2022-02-28T22:58:28.458071Z",
     "shell.execute_reply.started": "2022-02-28T22:58:01.508200Z"
    },
    "papermill": {
     "duration": 1.508564,
     "end_time": "2022-02-28T22:58:28.458893",
     "exception": false,
     "start_time": "2022-02-28T22:58:26.950329",
     "status": "completed"
    },
    "tags": []
   },
   "outputs": [],
   "source": [
    "import pandas as pd\n",
    "import matplotlib.pyplot as plt\n",
    "import numpy as np\n",
    "import seaborn as sns\n",
    "from sklearn import model_selection, preprocessing\n",
    "from sklearn.metrics import accuracy_score\n",
    "from sklearn.model_selection import train_test_split\n",
    "from sklearn.ensemble import RandomForestClassifier\n",
    "from sklearn.metrics import confusion_matrix\n",
    "%matplotlib inline"
   ]
  },
  {
   "cell_type": "markdown",
   "id": "5645a125",
   "metadata": {
    "papermill": {
     "duration": 0.044572,
     "end_time": "2022-02-28T22:58:28.547597",
     "exception": false,
     "start_time": "2022-02-28T22:58:28.503025",
     "status": "completed"
    },
    "tags": []
   },
   "source": [
    "# Importing data"
   ]
  },
  {
   "cell_type": "code",
   "execution_count": 3,
   "id": "bd0fcf3c",
   "metadata": {
    "execution": {
     "iopub.execute_input": "2022-02-28T22:58:28.645737Z",
     "iopub.status.busy": "2022-02-28T22:58:28.644811Z",
     "iopub.status.idle": "2022-02-28T22:59:06.076959Z",
     "shell.execute_reply": "2022-02-28T22:59:06.076011Z"
    },
    "papermill": {
     "duration": 37.483888,
     "end_time": "2022-02-28T22:59:06.077119",
     "exception": false,
     "start_time": "2022-02-28T22:58:28.593231",
     "status": "completed"
    },
    "tags": []
   },
   "outputs": [],
   "source": [
    "train = pd.read_csv('../input/tabular-playground-series-feb-2022/train.csv', index_col=0)\n",
    "test = pd.read_csv('../input/tabular-playground-series-feb-2022/test.csv', index_col=0)\n",
    "submission = pd.read_csv('../input/tabular-playground-series-feb-2022/sample_submission.csv')"
   ]
  },
  {
   "cell_type": "code",
   "execution_count": 4,
   "id": "384f3c79",
   "metadata": {
    "execution": {
     "iopub.execute_input": "2022-02-28T22:59:06.180198Z",
     "iopub.status.busy": "2022-02-28T22:59:06.179003Z",
     "iopub.status.idle": "2022-02-28T22:59:06.208782Z",
     "shell.execute_reply": "2022-02-28T22:59:06.209361Z"
    },
    "papermill": {
     "duration": 0.087285,
     "end_time": "2022-02-28T22:59:06.209513",
     "exception": false,
     "start_time": "2022-02-28T22:59:06.122228",
     "status": "completed"
    },
    "tags": []
   },
   "outputs": [
    {
     "data": {
      "text/html": [
       "<div>\n",
       "<style scoped>\n",
       "    .dataframe tbody tr th:only-of-type {\n",
       "        vertical-align: middle;\n",
       "    }\n",
       "\n",
       "    .dataframe tbody tr th {\n",
       "        vertical-align: top;\n",
       "    }\n",
       "\n",
       "    .dataframe thead th {\n",
       "        text-align: right;\n",
       "    }\n",
       "</style>\n",
       "<table border=\"1\" class=\"dataframe\">\n",
       "  <thead>\n",
       "    <tr style=\"text-align: right;\">\n",
       "      <th></th>\n",
       "      <th>A0T0G0C10</th>\n",
       "      <th>A0T0G1C9</th>\n",
       "      <th>A0T0G2C8</th>\n",
       "      <th>A0T0G3C7</th>\n",
       "      <th>A0T0G4C6</th>\n",
       "      <th>A0T0G5C5</th>\n",
       "      <th>A0T0G6C4</th>\n",
       "      <th>A0T0G7C3</th>\n",
       "      <th>A0T0G8C2</th>\n",
       "      <th>A0T0G9C1</th>\n",
       "      <th>...</th>\n",
       "      <th>A8T0G1C1</th>\n",
       "      <th>A8T0G2C0</th>\n",
       "      <th>A8T1G0C1</th>\n",
       "      <th>A8T1G1C0</th>\n",
       "      <th>A8T2G0C0</th>\n",
       "      <th>A9T0G0C1</th>\n",
       "      <th>A9T0G1C0</th>\n",
       "      <th>A9T1G0C0</th>\n",
       "      <th>A10T0G0C0</th>\n",
       "      <th>target</th>\n",
       "    </tr>\n",
       "    <tr>\n",
       "      <th>row_id</th>\n",
       "      <th></th>\n",
       "      <th></th>\n",
       "      <th></th>\n",
       "      <th></th>\n",
       "      <th></th>\n",
       "      <th></th>\n",
       "      <th></th>\n",
       "      <th></th>\n",
       "      <th></th>\n",
       "      <th></th>\n",
       "      <th></th>\n",
       "      <th></th>\n",
       "      <th></th>\n",
       "      <th></th>\n",
       "      <th></th>\n",
       "      <th></th>\n",
       "      <th></th>\n",
       "      <th></th>\n",
       "      <th></th>\n",
       "      <th></th>\n",
       "      <th></th>\n",
       "    </tr>\n",
       "  </thead>\n",
       "  <tbody>\n",
       "    <tr>\n",
       "      <th>0</th>\n",
       "      <td>-9.536743e-07</td>\n",
       "      <td>-0.000010</td>\n",
       "      <td>-0.000043</td>\n",
       "      <td>-0.000114</td>\n",
       "      <td>-0.000200</td>\n",
       "      <td>-0.000240</td>\n",
       "      <td>-0.000200</td>\n",
       "      <td>-0.000114</td>\n",
       "      <td>-0.000043</td>\n",
       "      <td>-0.000010</td>\n",
       "      <td>...</td>\n",
       "      <td>-0.000086</td>\n",
       "      <td>-0.000043</td>\n",
       "      <td>-0.000086</td>\n",
       "      <td>-0.000086</td>\n",
       "      <td>-0.000043</td>\n",
       "      <td>-0.000010</td>\n",
       "      <td>-0.000010</td>\n",
       "      <td>-0.000010</td>\n",
       "      <td>-9.536743e-07</td>\n",
       "      <td>Streptococcus_pyogenes</td>\n",
       "    </tr>\n",
       "    <tr>\n",
       "      <th>1</th>\n",
       "      <td>-9.536743e-07</td>\n",
       "      <td>-0.000010</td>\n",
       "      <td>-0.000043</td>\n",
       "      <td>0.000886</td>\n",
       "      <td>-0.000200</td>\n",
       "      <td>0.000760</td>\n",
       "      <td>-0.000200</td>\n",
       "      <td>-0.000114</td>\n",
       "      <td>-0.000043</td>\n",
       "      <td>-0.000010</td>\n",
       "      <td>...</td>\n",
       "      <td>-0.000086</td>\n",
       "      <td>-0.000043</td>\n",
       "      <td>0.000914</td>\n",
       "      <td>0.000914</td>\n",
       "      <td>-0.000043</td>\n",
       "      <td>-0.000010</td>\n",
       "      <td>-0.000010</td>\n",
       "      <td>-0.000010</td>\n",
       "      <td>-9.536743e-07</td>\n",
       "      <td>Salmonella_enterica</td>\n",
       "    </tr>\n",
       "    <tr>\n",
       "      <th>2</th>\n",
       "      <td>-9.536743e-07</td>\n",
       "      <td>-0.000002</td>\n",
       "      <td>0.000007</td>\n",
       "      <td>0.000129</td>\n",
       "      <td>0.000268</td>\n",
       "      <td>0.000270</td>\n",
       "      <td>0.000243</td>\n",
       "      <td>0.000125</td>\n",
       "      <td>0.000001</td>\n",
       "      <td>-0.000007</td>\n",
       "      <td>...</td>\n",
       "      <td>0.000084</td>\n",
       "      <td>0.000048</td>\n",
       "      <td>0.000081</td>\n",
       "      <td>0.000106</td>\n",
       "      <td>0.000072</td>\n",
       "      <td>0.000010</td>\n",
       "      <td>0.000008</td>\n",
       "      <td>0.000019</td>\n",
       "      <td>1.046326e-06</td>\n",
       "      <td>Salmonella_enterica</td>\n",
       "    </tr>\n",
       "    <tr>\n",
       "      <th>3</th>\n",
       "      <td>4.632568e-08</td>\n",
       "      <td>-0.000006</td>\n",
       "      <td>0.000012</td>\n",
       "      <td>0.000245</td>\n",
       "      <td>0.000492</td>\n",
       "      <td>0.000522</td>\n",
       "      <td>0.000396</td>\n",
       "      <td>0.000197</td>\n",
       "      <td>-0.000003</td>\n",
       "      <td>-0.000007</td>\n",
       "      <td>...</td>\n",
       "      <td>0.000151</td>\n",
       "      <td>0.000100</td>\n",
       "      <td>0.000180</td>\n",
       "      <td>0.000202</td>\n",
       "      <td>0.000153</td>\n",
       "      <td>0.000021</td>\n",
       "      <td>0.000015</td>\n",
       "      <td>0.000046</td>\n",
       "      <td>-9.536743e-07</td>\n",
       "      <td>Salmonella_enterica</td>\n",
       "    </tr>\n",
       "    <tr>\n",
       "      <th>4</th>\n",
       "      <td>-9.536743e-07</td>\n",
       "      <td>-0.000010</td>\n",
       "      <td>-0.000043</td>\n",
       "      <td>-0.000114</td>\n",
       "      <td>-0.000200</td>\n",
       "      <td>-0.000240</td>\n",
       "      <td>-0.000200</td>\n",
       "      <td>-0.000114</td>\n",
       "      <td>-0.000043</td>\n",
       "      <td>-0.000010</td>\n",
       "      <td>...</td>\n",
       "      <td>-0.000086</td>\n",
       "      <td>-0.000043</td>\n",
       "      <td>-0.000086</td>\n",
       "      <td>-0.000086</td>\n",
       "      <td>-0.000043</td>\n",
       "      <td>-0.000010</td>\n",
       "      <td>-0.000010</td>\n",
       "      <td>-0.000010</td>\n",
       "      <td>-9.536743e-07</td>\n",
       "      <td>Enterococcus_hirae</td>\n",
       "    </tr>\n",
       "  </tbody>\n",
       "</table>\n",
       "<p>5 rows × 287 columns</p>\n",
       "</div>"
      ],
      "text/plain": [
       "           A0T0G0C10  A0T0G1C9  A0T0G2C8  A0T0G3C7  A0T0G4C6  A0T0G5C5  \\\n",
       "row_id                                                                   \n",
       "0      -9.536743e-07 -0.000010 -0.000043 -0.000114 -0.000200 -0.000240   \n",
       "1      -9.536743e-07 -0.000010 -0.000043  0.000886 -0.000200  0.000760   \n",
       "2      -9.536743e-07 -0.000002  0.000007  0.000129  0.000268  0.000270   \n",
       "3       4.632568e-08 -0.000006  0.000012  0.000245  0.000492  0.000522   \n",
       "4      -9.536743e-07 -0.000010 -0.000043 -0.000114 -0.000200 -0.000240   \n",
       "\n",
       "        A0T0G6C4  A0T0G7C3  A0T0G8C2  A0T0G9C1  ...  A8T0G1C1  A8T0G2C0  \\\n",
       "row_id                                          ...                       \n",
       "0      -0.000200 -0.000114 -0.000043 -0.000010  ... -0.000086 -0.000043   \n",
       "1      -0.000200 -0.000114 -0.000043 -0.000010  ... -0.000086 -0.000043   \n",
       "2       0.000243  0.000125  0.000001 -0.000007  ...  0.000084  0.000048   \n",
       "3       0.000396  0.000197 -0.000003 -0.000007  ...  0.000151  0.000100   \n",
       "4      -0.000200 -0.000114 -0.000043 -0.000010  ... -0.000086 -0.000043   \n",
       "\n",
       "        A8T1G0C1  A8T1G1C0  A8T2G0C0  A9T0G0C1  A9T0G1C0  A9T1G0C0  \\\n",
       "row_id                                                               \n",
       "0      -0.000086 -0.000086 -0.000043 -0.000010 -0.000010 -0.000010   \n",
       "1       0.000914  0.000914 -0.000043 -0.000010 -0.000010 -0.000010   \n",
       "2       0.000081  0.000106  0.000072  0.000010  0.000008  0.000019   \n",
       "3       0.000180  0.000202  0.000153  0.000021  0.000015  0.000046   \n",
       "4      -0.000086 -0.000086 -0.000043 -0.000010 -0.000010 -0.000010   \n",
       "\n",
       "           A10T0G0C0                  target  \n",
       "row_id                                        \n",
       "0      -9.536743e-07  Streptococcus_pyogenes  \n",
       "1      -9.536743e-07     Salmonella_enterica  \n",
       "2       1.046326e-06     Salmonella_enterica  \n",
       "3      -9.536743e-07     Salmonella_enterica  \n",
       "4      -9.536743e-07      Enterococcus_hirae  \n",
       "\n",
       "[5 rows x 287 columns]"
      ]
     },
     "execution_count": 4,
     "metadata": {},
     "output_type": "execute_result"
    }
   ],
   "source": [
    "train.head()"
   ]
  },
  {
   "cell_type": "code",
   "execution_count": 5,
   "id": "8e8d7819",
   "metadata": {
    "execution": {
     "iopub.execute_input": "2022-02-28T22:59:06.313334Z",
     "iopub.status.busy": "2022-02-28T22:59:06.311678Z",
     "iopub.status.idle": "2022-02-28T22:59:06.316512Z",
     "shell.execute_reply": "2022-02-28T22:59:06.315920Z"
    },
    "papermill": {
     "duration": 0.060492,
     "end_time": "2022-02-28T22:59:06.316665",
     "exception": false,
     "start_time": "2022-02-28T22:59:06.256173",
     "status": "completed"
    },
    "tags": []
   },
   "outputs": [
    {
     "data": {
      "text/plain": [
       "A0T0G0C10    float64\n",
       "A0T0G1C9     float64\n",
       "A0T0G2C8     float64\n",
       "A0T0G3C7     float64\n",
       "A0T0G4C6     float64\n",
       "              ...   \n",
       "A9T0G0C1     float64\n",
       "A9T0G1C0     float64\n",
       "A9T1G0C0     float64\n",
       "A10T0G0C0    float64\n",
       "target        object\n",
       "Length: 287, dtype: object"
      ]
     },
     "execution_count": 5,
     "metadata": {},
     "output_type": "execute_result"
    }
   ],
   "source": [
    "train.dtypes"
   ]
  },
  {
   "cell_type": "code",
   "execution_count": 6,
   "id": "4e84f3f0",
   "metadata": {
    "execution": {
     "iopub.execute_input": "2022-02-28T22:59:06.593758Z",
     "iopub.status.busy": "2022-02-28T22:59:06.592650Z",
     "iopub.status.idle": "2022-02-28T22:59:08.802370Z",
     "shell.execute_reply": "2022-02-28T22:59:08.802909Z"
    },
    "papermill": {
     "duration": 2.439751,
     "end_time": "2022-02-28T22:59:08.803084",
     "exception": false,
     "start_time": "2022-02-28T22:59:06.363333",
     "status": "completed"
    },
    "tags": []
   },
   "outputs": [
    {
     "data": {
      "text/html": [
       "<div>\n",
       "<style scoped>\n",
       "    .dataframe tbody tr th:only-of-type {\n",
       "        vertical-align: middle;\n",
       "    }\n",
       "\n",
       "    .dataframe tbody tr th {\n",
       "        vertical-align: top;\n",
       "    }\n",
       "\n",
       "    .dataframe thead th {\n",
       "        text-align: right;\n",
       "    }\n",
       "</style>\n",
       "<table border=\"1\" class=\"dataframe\">\n",
       "  <thead>\n",
       "    <tr style=\"text-align: right;\">\n",
       "      <th></th>\n",
       "      <th>A0T0G0C10</th>\n",
       "      <th>A0T0G1C9</th>\n",
       "      <th>A0T0G2C8</th>\n",
       "      <th>A0T0G3C7</th>\n",
       "      <th>A0T0G4C6</th>\n",
       "      <th>A0T0G5C5</th>\n",
       "      <th>A0T0G6C4</th>\n",
       "      <th>A0T0G7C3</th>\n",
       "      <th>A0T0G8C2</th>\n",
       "      <th>A0T0G9C1</th>\n",
       "      <th>...</th>\n",
       "      <th>A8T0G0C2</th>\n",
       "      <th>A8T0G1C1</th>\n",
       "      <th>A8T0G2C0</th>\n",
       "      <th>A8T1G0C1</th>\n",
       "      <th>A8T1G1C0</th>\n",
       "      <th>A8T2G0C0</th>\n",
       "      <th>A9T0G0C1</th>\n",
       "      <th>A9T0G1C0</th>\n",
       "      <th>A9T1G0C0</th>\n",
       "      <th>A10T0G0C0</th>\n",
       "    </tr>\n",
       "  </thead>\n",
       "  <tbody>\n",
       "    <tr>\n",
       "      <th>count</th>\n",
       "      <td>2.000000e+05</td>\n",
       "      <td>200000.000000</td>\n",
       "      <td>200000.000000</td>\n",
       "      <td>200000.000000</td>\n",
       "      <td>200000.000000</td>\n",
       "      <td>200000.000000</td>\n",
       "      <td>200000.000000</td>\n",
       "      <td>200000.000000</td>\n",
       "      <td>200000.000000</td>\n",
       "      <td>200000.000000</td>\n",
       "      <td>...</td>\n",
       "      <td>200000.000000</td>\n",
       "      <td>200000.000000</td>\n",
       "      <td>200000.000000</td>\n",
       "      <td>200000.000000</td>\n",
       "      <td>200000.000000</td>\n",
       "      <td>200000.000000</td>\n",
       "      <td>200000.000000</td>\n",
       "      <td>2.000000e+05</td>\n",
       "      <td>2.000000e+05</td>\n",
       "      <td>2.000000e+05</td>\n",
       "    </tr>\n",
       "    <tr>\n",
       "      <th>mean</th>\n",
       "      <td>6.421457e-07</td>\n",
       "      <td>-0.000003</td>\n",
       "      <td>-0.000014</td>\n",
       "      <td>-0.000010</td>\n",
       "      <td>0.000005</td>\n",
       "      <td>0.000025</td>\n",
       "      <td>0.000014</td>\n",
       "      <td>-0.000009</td>\n",
       "      <td>-0.000028</td>\n",
       "      <td>-0.000008</td>\n",
       "      <td>...</td>\n",
       "      <td>0.000135</td>\n",
       "      <td>0.000348</td>\n",
       "      <td>0.000253</td>\n",
       "      <td>0.000464</td>\n",
       "      <td>0.000581</td>\n",
       "      <td>0.000379</td>\n",
       "      <td>0.000062</td>\n",
       "      <td>8.982134e-05</td>\n",
       "      <td>1.170014e-04</td>\n",
       "      <td>2.215407e-07</td>\n",
       "    </tr>\n",
       "    <tr>\n",
       "      <th>std</th>\n",
       "      <td>8.654927e-05</td>\n",
       "      <td>0.000132</td>\n",
       "      <td>0.000287</td>\n",
       "      <td>0.000436</td>\n",
       "      <td>0.000683</td>\n",
       "      <td>0.000869</td>\n",
       "      <td>0.000775</td>\n",
       "      <td>0.000441</td>\n",
       "      <td>0.000107</td>\n",
       "      <td>0.000083</td>\n",
       "      <td>...</td>\n",
       "      <td>0.000711</td>\n",
       "      <td>0.001117</td>\n",
       "      <td>0.000914</td>\n",
       "      <td>0.001238</td>\n",
       "      <td>0.001528</td>\n",
       "      <td>0.001182</td>\n",
       "      <td>0.000466</td>\n",
       "      <td>5.475606e-04</td>\n",
       "      <td>6.788277e-04</td>\n",
       "      <td>2.050081e-05</td>\n",
       "    </tr>\n",
       "    <tr>\n",
       "      <th>min</th>\n",
       "      <td>-9.536743e-07</td>\n",
       "      <td>-0.000010</td>\n",
       "      <td>-0.000043</td>\n",
       "      <td>-0.000114</td>\n",
       "      <td>-0.000200</td>\n",
       "      <td>-0.000240</td>\n",
       "      <td>-0.000200</td>\n",
       "      <td>-0.000114</td>\n",
       "      <td>-0.000043</td>\n",
       "      <td>-0.000010</td>\n",
       "      <td>...</td>\n",
       "      <td>-0.000043</td>\n",
       "      <td>-0.000086</td>\n",
       "      <td>-0.000043</td>\n",
       "      <td>-0.000086</td>\n",
       "      <td>-0.000086</td>\n",
       "      <td>-0.000043</td>\n",
       "      <td>-0.000010</td>\n",
       "      <td>-9.536743e-06</td>\n",
       "      <td>-9.536743e-06</td>\n",
       "      <td>-9.536743e-07</td>\n",
       "    </tr>\n",
       "    <tr>\n",
       "      <th>25%</th>\n",
       "      <td>-9.536743e-07</td>\n",
       "      <td>-0.000010</td>\n",
       "      <td>-0.000043</td>\n",
       "      <td>-0.000114</td>\n",
       "      <td>-0.000200</td>\n",
       "      <td>-0.000240</td>\n",
       "      <td>-0.000200</td>\n",
       "      <td>-0.000114</td>\n",
       "      <td>-0.000043</td>\n",
       "      <td>-0.000010</td>\n",
       "      <td>...</td>\n",
       "      <td>-0.000043</td>\n",
       "      <td>-0.000086</td>\n",
       "      <td>-0.000043</td>\n",
       "      <td>-0.000086</td>\n",
       "      <td>-0.000086</td>\n",
       "      <td>-0.000043</td>\n",
       "      <td>-0.000010</td>\n",
       "      <td>-9.536743e-06</td>\n",
       "      <td>-9.536743e-06</td>\n",
       "      <td>-9.536743e-07</td>\n",
       "    </tr>\n",
       "    <tr>\n",
       "      <th>50%</th>\n",
       "      <td>-9.536743e-07</td>\n",
       "      <td>-0.000010</td>\n",
       "      <td>-0.000043</td>\n",
       "      <td>-0.000114</td>\n",
       "      <td>-0.000200</td>\n",
       "      <td>-0.000237</td>\n",
       "      <td>-0.000199</td>\n",
       "      <td>-0.000114</td>\n",
       "      <td>-0.000043</td>\n",
       "      <td>-0.000010</td>\n",
       "      <td>...</td>\n",
       "      <td>0.000014</td>\n",
       "      <td>0.000064</td>\n",
       "      <td>0.000047</td>\n",
       "      <td>0.000124</td>\n",
       "      <td>0.000114</td>\n",
       "      <td>0.000043</td>\n",
       "      <td>-0.000010</td>\n",
       "      <td>4.632568e-07</td>\n",
       "      <td>4.632568e-07</td>\n",
       "      <td>-9.536743e-07</td>\n",
       "    </tr>\n",
       "    <tr>\n",
       "      <th>75%</th>\n",
       "      <td>-9.536743e-07</td>\n",
       "      <td>-0.000003</td>\n",
       "      <td>-0.000013</td>\n",
       "      <td>-0.000004</td>\n",
       "      <td>-0.000011</td>\n",
       "      <td>0.000003</td>\n",
       "      <td>-0.000030</td>\n",
       "      <td>0.000004</td>\n",
       "      <td>-0.000028</td>\n",
       "      <td>-0.000010</td>\n",
       "      <td>...</td>\n",
       "      <td>0.000111</td>\n",
       "      <td>0.000463</td>\n",
       "      <td>0.000297</td>\n",
       "      <td>0.000684</td>\n",
       "      <td>0.000774</td>\n",
       "      <td>0.000365</td>\n",
       "      <td>0.000030</td>\n",
       "      <td>6.046326e-05</td>\n",
       "      <td>6.946326e-05</td>\n",
       "      <td>-9.536743e-07</td>\n",
       "    </tr>\n",
       "    <tr>\n",
       "      <th>max</th>\n",
       "      <td>9.999046e-03</td>\n",
       "      <td>0.009990</td>\n",
       "      <td>0.009957</td>\n",
       "      <td>0.009886</td>\n",
       "      <td>0.019800</td>\n",
       "      <td>0.019760</td>\n",
       "      <td>0.019800</td>\n",
       "      <td>0.009886</td>\n",
       "      <td>0.009957</td>\n",
       "      <td>0.009990</td>\n",
       "      <td>...</td>\n",
       "      <td>0.019957</td>\n",
       "      <td>0.019914</td>\n",
       "      <td>0.019957</td>\n",
       "      <td>0.019914</td>\n",
       "      <td>0.019914</td>\n",
       "      <td>0.019957</td>\n",
       "      <td>0.009990</td>\n",
       "      <td>9.990463e-03</td>\n",
       "      <td>1.999046e-02</td>\n",
       "      <td>9.990463e-04</td>\n",
       "    </tr>\n",
       "  </tbody>\n",
       "</table>\n",
       "<p>8 rows × 286 columns</p>\n",
       "</div>"
      ],
      "text/plain": [
       "          A0T0G0C10       A0T0G1C9       A0T0G2C8       A0T0G3C7  \\\n",
       "count  2.000000e+05  200000.000000  200000.000000  200000.000000   \n",
       "mean   6.421457e-07      -0.000003      -0.000014      -0.000010   \n",
       "std    8.654927e-05       0.000132       0.000287       0.000436   \n",
       "min   -9.536743e-07      -0.000010      -0.000043      -0.000114   \n",
       "25%   -9.536743e-07      -0.000010      -0.000043      -0.000114   \n",
       "50%   -9.536743e-07      -0.000010      -0.000043      -0.000114   \n",
       "75%   -9.536743e-07      -0.000003      -0.000013      -0.000004   \n",
       "max    9.999046e-03       0.009990       0.009957       0.009886   \n",
       "\n",
       "            A0T0G4C6       A0T0G5C5       A0T0G6C4       A0T0G7C3  \\\n",
       "count  200000.000000  200000.000000  200000.000000  200000.000000   \n",
       "mean        0.000005       0.000025       0.000014      -0.000009   \n",
       "std         0.000683       0.000869       0.000775       0.000441   \n",
       "min        -0.000200      -0.000240      -0.000200      -0.000114   \n",
       "25%        -0.000200      -0.000240      -0.000200      -0.000114   \n",
       "50%        -0.000200      -0.000237      -0.000199      -0.000114   \n",
       "75%        -0.000011       0.000003      -0.000030       0.000004   \n",
       "max         0.019800       0.019760       0.019800       0.009886   \n",
       "\n",
       "            A0T0G8C2       A0T0G9C1  ...       A8T0G0C2       A8T0G1C1  \\\n",
       "count  200000.000000  200000.000000  ...  200000.000000  200000.000000   \n",
       "mean       -0.000028      -0.000008  ...       0.000135       0.000348   \n",
       "std         0.000107       0.000083  ...       0.000711       0.001117   \n",
       "min        -0.000043      -0.000010  ...      -0.000043      -0.000086   \n",
       "25%        -0.000043      -0.000010  ...      -0.000043      -0.000086   \n",
       "50%        -0.000043      -0.000010  ...       0.000014       0.000064   \n",
       "75%        -0.000028      -0.000010  ...       0.000111       0.000463   \n",
       "max         0.009957       0.009990  ...       0.019957       0.019914   \n",
       "\n",
       "            A8T0G2C0       A8T1G0C1       A8T1G1C0       A8T2G0C0  \\\n",
       "count  200000.000000  200000.000000  200000.000000  200000.000000   \n",
       "mean        0.000253       0.000464       0.000581       0.000379   \n",
       "std         0.000914       0.001238       0.001528       0.001182   \n",
       "min        -0.000043      -0.000086      -0.000086      -0.000043   \n",
       "25%        -0.000043      -0.000086      -0.000086      -0.000043   \n",
       "50%         0.000047       0.000124       0.000114       0.000043   \n",
       "75%         0.000297       0.000684       0.000774       0.000365   \n",
       "max         0.019957       0.019914       0.019914       0.019957   \n",
       "\n",
       "            A9T0G0C1      A9T0G1C0      A9T1G0C0     A10T0G0C0  \n",
       "count  200000.000000  2.000000e+05  2.000000e+05  2.000000e+05  \n",
       "mean        0.000062  8.982134e-05  1.170014e-04  2.215407e-07  \n",
       "std         0.000466  5.475606e-04  6.788277e-04  2.050081e-05  \n",
       "min        -0.000010 -9.536743e-06 -9.536743e-06 -9.536743e-07  \n",
       "25%        -0.000010 -9.536743e-06 -9.536743e-06 -9.536743e-07  \n",
       "50%        -0.000010  4.632568e-07  4.632568e-07 -9.536743e-07  \n",
       "75%         0.000030  6.046326e-05  6.946326e-05 -9.536743e-07  \n",
       "max         0.009990  9.990463e-03  1.999046e-02  9.990463e-04  \n",
       "\n",
       "[8 rows x 286 columns]"
      ]
     },
     "execution_count": 6,
     "metadata": {},
     "output_type": "execute_result"
    }
   ],
   "source": [
    "train.describe()"
   ]
  },
  {
   "cell_type": "code",
   "execution_count": 7,
   "id": "bbed3a2e",
   "metadata": {
    "execution": {
     "iopub.execute_input": "2022-02-28T22:59:08.956446Z",
     "iopub.status.busy": "2022-02-28T22:59:08.907518Z",
     "iopub.status.idle": "2022-02-28T22:59:08.965681Z",
     "shell.execute_reply": "2022-02-28T22:59:08.966237Z"
    },
    "papermill": {
     "duration": 0.114607,
     "end_time": "2022-02-28T22:59:08.966424",
     "exception": false,
     "start_time": "2022-02-28T22:59:08.851817",
     "status": "completed"
    },
    "tags": []
   },
   "outputs": [
    {
     "data": {
      "text/html": [
       "<div>\n",
       "<style scoped>\n",
       "    .dataframe tbody tr th:only-of-type {\n",
       "        vertical-align: middle;\n",
       "    }\n",
       "\n",
       "    .dataframe tbody tr th {\n",
       "        vertical-align: top;\n",
       "    }\n",
       "\n",
       "    .dataframe thead th {\n",
       "        text-align: right;\n",
       "    }\n",
       "</style>\n",
       "<table border=\"1\" class=\"dataframe\">\n",
       "  <thead>\n",
       "    <tr style=\"text-align: right;\">\n",
       "      <th></th>\n",
       "      <th>target</th>\n",
       "    </tr>\n",
       "  </thead>\n",
       "  <tbody>\n",
       "    <tr>\n",
       "      <th>count</th>\n",
       "      <td>200000</td>\n",
       "    </tr>\n",
       "    <tr>\n",
       "      <th>unique</th>\n",
       "      <td>10</td>\n",
       "    </tr>\n",
       "    <tr>\n",
       "      <th>top</th>\n",
       "      <td>Bacteroides_fragilis</td>\n",
       "    </tr>\n",
       "    <tr>\n",
       "      <th>freq</th>\n",
       "      <td>20139</td>\n",
       "    </tr>\n",
       "  </tbody>\n",
       "</table>\n",
       "</div>"
      ],
      "text/plain": [
       "                      target\n",
       "count                 200000\n",
       "unique                    10\n",
       "top     Bacteroides_fragilis\n",
       "freq                   20139"
      ]
     },
     "execution_count": 7,
     "metadata": {},
     "output_type": "execute_result"
    }
   ],
   "source": [
    "train.describe(include='object')"
   ]
  },
  {
   "cell_type": "code",
   "execution_count": 8,
   "id": "45996a65",
   "metadata": {
    "execution": {
     "iopub.execute_input": "2022-02-28T22:59:09.100604Z",
     "iopub.status.busy": "2022-02-28T22:59:09.093693Z",
     "iopub.status.idle": "2022-02-28T22:59:09.105839Z",
     "shell.execute_reply": "2022-02-28T22:59:09.104904Z"
    },
    "papermill": {
     "duration": 0.088285,
     "end_time": "2022-02-28T22:59:09.106012",
     "exception": false,
     "start_time": "2022-02-28T22:59:09.017727",
     "status": "completed"
    },
    "tags": []
   },
   "outputs": [
    {
     "name": "stdout",
     "output_type": "stream",
     "text": [
      "<class 'pandas.core.frame.DataFrame'>\n",
      "Int64Index: 200000 entries, 0 to 199999\n",
      "Columns: 287 entries, A0T0G0C10 to target\n",
      "dtypes: float64(286), object(1)\n",
      "memory usage: 439.5+ MB\n"
     ]
    }
   ],
   "source": [
    "train.info()"
   ]
  },
  {
   "cell_type": "code",
   "execution_count": 9,
   "id": "63007594",
   "metadata": {
    "execution": {
     "iopub.execute_input": "2022-02-28T22:59:09.212866Z",
     "iopub.status.busy": "2022-02-28T22:59:09.211666Z",
     "iopub.status.idle": "2022-02-28T22:59:09.365394Z",
     "shell.execute_reply": "2022-02-28T22:59:09.365969Z"
    },
    "papermill": {
     "duration": 0.210105,
     "end_time": "2022-02-28T22:59:09.366157",
     "exception": false,
     "start_time": "2022-02-28T22:59:09.156052",
     "status": "completed"
    },
    "tags": []
   },
   "outputs": [
    {
     "data": {
      "text/plain": [
       "A0T0G0C10    0\n",
       "A0T0G1C9     0\n",
       "A0T0G2C8     0\n",
       "A0T0G3C7     0\n",
       "A0T0G4C6     0\n",
       "            ..\n",
       "A9T0G0C1     0\n",
       "A9T0G1C0     0\n",
       "A9T1G0C0     0\n",
       "A10T0G0C0    0\n",
       "target       0\n",
       "Length: 287, dtype: int64"
      ]
     },
     "execution_count": 9,
     "metadata": {},
     "output_type": "execute_result"
    }
   ],
   "source": [
    "train.isnull().sum() #check for null data"
   ]
  },
  {
   "cell_type": "code",
   "execution_count": 10,
   "id": "0d9672b4",
   "metadata": {
    "execution": {
     "iopub.execute_input": "2022-02-28T22:59:09.471891Z",
     "iopub.status.busy": "2022-02-28T22:59:09.470634Z",
     "iopub.status.idle": "2022-02-28T22:59:09.623016Z",
     "shell.execute_reply": "2022-02-28T22:59:09.623585Z"
    },
    "papermill": {
     "duration": 0.207944,
     "end_time": "2022-02-28T22:59:09.623781",
     "exception": false,
     "start_time": "2022-02-28T22:59:09.415837",
     "status": "completed"
    },
    "tags": []
   },
   "outputs": [
    {
     "data": {
      "text/plain": [
       "0"
      ]
     },
     "execution_count": 10,
     "metadata": {},
     "output_type": "execute_result"
    }
   ],
   "source": [
    "train.isnull().sum().sum()"
   ]
  },
  {
   "cell_type": "code",
   "execution_count": 11,
   "id": "51f7d3e1",
   "metadata": {
    "execution": {
     "iopub.execute_input": "2022-02-28T22:59:09.902860Z",
     "iopub.status.busy": "2022-02-28T22:59:09.901817Z",
     "iopub.status.idle": "2022-02-28T22:59:09.904802Z",
     "shell.execute_reply": "2022-02-28T22:59:09.905485Z"
    },
    "papermill": {
     "duration": 0.232125,
     "end_time": "2022-02-28T22:59:09.905703",
     "exception": false,
     "start_time": "2022-02-28T22:59:09.673578",
     "status": "completed"
    },
    "tags": []
   },
   "outputs": [],
   "source": [
    "y = train['target'] \n",
    "X = train.drop(columns=['target'])"
   ]
  },
  {
   "cell_type": "markdown",
   "id": "e5afd1c0",
   "metadata": {
    "papermill": {
     "duration": 0.050546,
     "end_time": "2022-02-28T22:59:10.006551",
     "exception": false,
     "start_time": "2022-02-28T22:59:09.956005",
     "status": "completed"
    },
    "tags": []
   },
   "source": [
    "# Exploring target data"
   ]
  },
  {
   "cell_type": "code",
   "execution_count": 12,
   "id": "ad494964",
   "metadata": {
    "execution": {
     "iopub.execute_input": "2022-02-28T22:59:10.143775Z",
     "iopub.status.busy": "2022-02-28T22:59:10.142720Z",
     "iopub.status.idle": "2022-02-28T22:59:10.146384Z",
     "shell.execute_reply": "2022-02-28T22:59:10.146949Z"
    },
    "papermill": {
     "duration": 0.091262,
     "end_time": "2022-02-28T22:59:10.147124",
     "exception": false,
     "start_time": "2022-02-28T22:59:10.055862",
     "status": "completed"
    },
    "tags": []
   },
   "outputs": [
    {
     "data": {
      "text/plain": [
       "Bacteroides_fragilis        20139\n",
       "Streptococcus_pyogenes      20076\n",
       "Streptococcus_pneumoniae    20074\n",
       "Campylobacter_jejuni        20063\n",
       "Salmonella_enterica         20030\n",
       "Escherichia_coli            19958\n",
       "Enterococcus_hirae          19947\n",
       "Escherichia_fergusonii      19937\n",
       "Staphylococcus_aureus       19929\n",
       "Klebsiella_pneumoniae       19847\n",
       "Name: target, dtype: int64"
      ]
     },
     "execution_count": 12,
     "metadata": {},
     "output_type": "execute_result"
    }
   ],
   "source": [
    "y.value_counts()"
   ]
  },
  {
   "cell_type": "code",
   "execution_count": 13,
   "id": "56a53f21",
   "metadata": {
    "execution": {
     "iopub.execute_input": "2022-02-28T22:59:10.284030Z",
     "iopub.status.busy": "2022-02-28T22:59:10.283329Z",
     "iopub.status.idle": "2022-02-28T22:59:10.583039Z",
     "shell.execute_reply": "2022-02-28T22:59:10.583908Z"
    },
    "papermill": {
     "duration": 0.384095,
     "end_time": "2022-02-28T22:59:10.584072",
     "exception": false,
     "start_time": "2022-02-28T22:59:10.199977",
     "status": "completed"
    },
    "tags": []
   },
   "outputs": [
    {
     "data": {
      "image/png": "[encoded data removed]",
      "text/plain": [
       "<Figure size 432x288 with 1 Axes>"
      ]
     },
     "metadata": {
      "needs_background": "light"
     },
     "output_type": "display_data"
    }
   ],
   "source": [
    "y.value_counts().transpose().plot(kind='bar')\n",
    "plt.title('Target data')\n",
    "plt.ylabel('Frequency')\n",
    "plt.xlabel('Bactrria type')\n",
    "plt.show()"
   ]
  },
  {
   "cell_type": "markdown",
   "id": "b46996de",
   "metadata": {
    "papermill": {
     "duration": 0.052807,
     "end_time": "2022-02-28T22:59:10.690530",
     "exception": false,
     "start_time": "2022-02-28T22:59:10.637723",
     "status": "completed"
    },
    "tags": []
   },
   "source": [
    "# Using Model: RandomForestClassifier"
   ]
  },
  {
   "cell_type": "code",
   "execution_count": 14,
   "id": "2f9c3220",
   "metadata": {
    "execution": {
     "iopub.execute_input": "2022-02-28T22:59:11.012934Z",
     "iopub.status.busy": "2022-02-28T22:59:11.011928Z",
     "iopub.status.idle": "2022-02-28T22:59:11.931422Z",
     "shell.execute_reply": "2022-02-28T22:59:11.932160Z"
    },
    "papermill": {
     "duration": 1.188769,
     "end_time": "2022-02-28T22:59:11.932446",
     "exception": false,
     "start_time": "2022-02-28T22:59:10.743677",
     "status": "completed"
    },
    "tags": []
   },
   "outputs": [
    {
     "data": {
      "image/png": "[encoded data removed]",
      "text/plain": [
       "<Figure size 1800x720 with 1 Axes>"
      ]
     },
     "metadata": {
      "needs_background": "light"
     },
     "output_type": "display_data"
    }
   ],
   "source": [
    "avg = train.groupby(['target']).mean() # getting the average contributuion for each target\n",
    "# avg.head()\n",
    "avg.transpose().plot(kind='line',figsize=(25, 10))\n",
    "plt.title('Contribution to the target')\n",
    "plt.ylabel('Average contribution')\n",
    "plt.xlabel('ATGC combination')\n",
    "plt.show()\n"
   ]
  },
  {
   "cell_type": "code",
   "execution_count": 15,
   "id": "558a586b",
   "metadata": {
    "execution": {
     "iopub.execute_input": "2022-02-28T22:59:12.063383Z",
     "iopub.status.busy": "2022-02-28T22:59:12.062548Z",
     "iopub.status.idle": "2022-02-28T22:59:12.538350Z",
     "shell.execute_reply": "2022-02-28T22:59:12.537142Z"
    },
    "papermill": {
     "duration": 0.544779,
     "end_time": "2022-02-28T22:59:12.538500",
     "exception": false,
     "start_time": "2022-02-28T22:59:11.993721",
     "status": "completed"
    },
    "tags": []
   },
   "outputs": [],
   "source": [
    "train_X, val_X, train_y, val_y = train_test_split(X, y, random_state=42)"
   ]
  },
  {
   "cell_type": "code",
   "execution_count": 16,
   "id": "bcdeb6c7",
   "metadata": {
    "execution": {
     "iopub.execute_input": "2022-02-28T22:59:12.666857Z",
     "iopub.status.busy": "2022-02-28T22:59:12.665715Z",
     "iopub.status.idle": "2022-02-28T23:00:59.746077Z",
     "shell.execute_reply": "2022-02-28T23:00:59.746663Z"
    },
    "papermill": {
     "duration": 107.149271,
     "end_time": "2022-02-28T23:00:59.746849",
     "exception": false,
     "start_time": "2022-02-28T22:59:12.597578",
     "status": "completed"
    },
    "tags": []
   },
   "outputs": [
    {
     "data": {
      "text/plain": [
       "RandomForestClassifier(random_state=1)"
      ]
     },
     "execution_count": 16,
     "metadata": {},
     "output_type": "execute_result"
    }
   ],
   "source": [
    "rf_model = RandomForestClassifier(random_state=1)\n",
    "rf_model.fit(train_X, train_y)"
   ]
  },
  {
   "cell_type": "code",
   "execution_count": 17,
   "id": "b7a6f731",
   "metadata": {
    "execution": {
     "iopub.execute_input": "2022-02-28T23:00:59.880326Z",
     "iopub.status.busy": "2022-02-28T23:00:59.879198Z",
     "iopub.status.idle": "2022-02-28T23:01:02.632447Z",
     "shell.execute_reply": "2022-02-28T23:01:02.634051Z"
    },
    "papermill": {
     "duration": 2.826957,
     "end_time": "2022-02-28T23:01:02.634401",
     "exception": false,
     "start_time": "2022-02-28T23:00:59.807444",
     "status": "completed"
    },
    "tags": []
   },
   "outputs": [
    {
     "data": {
      "text/plain": [
       "array(['Escherichia_fergusonii', 'Staphylococcus_aureus',\n",
       "       'Streptococcus_pyogenes', 'Escherichia_fergusonii',\n",
       "       'Klebsiella_pneumoniae', 'Enterococcus_hirae',\n",
       "       'Bacteroides_fragilis', 'Salmonella_enterica',\n",
       "       'Campylobacter_jejuni', 'Salmonella_enterica',\n",
       "       'Staphylococcus_aureus', 'Enterococcus_hirae',\n",
       "       'Campylobacter_jejuni', 'Salmonella_enterica',\n",
       "       'Klebsiella_pneumoniae', 'Streptococcus_pyogenes',\n",
       "       'Streptococcus_pyogenes', 'Salmonella_enterica',\n",
       "       'Streptococcus_pneumoniae', 'Klebsiella_pneumoniae',\n",
       "       'Streptococcus_pyogenes', 'Salmonella_enterica',\n",
       "       'Enterococcus_hirae', 'Klebsiella_pneumoniae',\n",
       "       'Enterococcus_hirae'], dtype=object)"
      ]
     },
     "execution_count": 17,
     "metadata": {},
     "output_type": "execute_result"
    }
   ],
   "source": [
    "rf_val_predictions = rf_model.predict(val_X) # predicting for validation\n",
    "rf_val_predictions[:25]"
   ]
  },
  {
   "cell_type": "markdown",
   "id": "add163d9",
   "metadata": {
    "papermill": {
     "duration": 0.073192,
     "end_time": "2022-02-28T23:01:02.844847",
     "exception": false,
     "start_time": "2022-02-28T23:01:02.771655",
     "status": "completed"
    },
    "tags": []
   },
   "source": [
    "# Validation"
   ]
  },
  {
   "cell_type": "code",
   "execution_count": 18,
   "id": "c81c98f3",
   "metadata": {
    "execution": {
     "iopub.execute_input": "2022-02-28T23:01:03.029602Z",
     "iopub.status.busy": "2022-02-28T23:01:03.028653Z",
     "iopub.status.idle": "2022-02-28T23:01:03.075412Z",
     "shell.execute_reply": "2022-02-28T23:01:03.074821Z"
    },
    "papermill": {
     "duration": 0.168101,
     "end_time": "2022-02-28T23:01:03.075553",
     "exception": false,
     "start_time": "2022-02-28T23:01:02.907452",
     "status": "completed"
    },
    "tags": []
   },
   "outputs": [
    {
     "name": "stdout",
     "output_type": "stream",
     "text": [
      "Accuracy score: 0.99232\n"
     ]
    }
   ],
   "source": [
    "a_s = accuracy_score(val_y, rf_val_predictions)\n",
    "print('Accuracy score:',a_s)"
   ]
  },
  {
   "cell_type": "markdown",
   "id": "ccf8c3be",
   "metadata": {
    "papermill": {
     "duration": 0.060492,
     "end_time": "2022-02-28T23:01:03.196216",
     "exception": false,
     "start_time": "2022-02-28T23:01:03.135724",
     "status": "completed"
    },
    "tags": []
   },
   "source": [
    "# Visualizing accuracy"
   ]
  },
  {
   "cell_type": "code",
   "execution_count": 19,
   "id": "a2b806ed",
   "metadata": {
    "execution": {
     "iopub.execute_input": "2022-02-28T23:01:03.338114Z",
     "iopub.status.busy": "2022-02-28T23:01:03.337167Z",
     "iopub.status.idle": "2022-02-28T23:01:03.492821Z",
     "shell.execute_reply": "2022-02-28T23:01:03.491992Z"
    },
    "papermill": {
     "duration": 0.233321,
     "end_time": "2022-02-28T23:01:03.493031",
     "exception": false,
     "start_time": "2022-02-28T23:01:03.259710",
     "status": "completed"
    },
    "tags": []
   },
   "outputs": [
    {
     "name": "stdout",
     "output_type": "stream",
     "text": [
      "[[4934    0   22    0    4   13   17    2    4    0]\n",
      " [   1 4966    0   17    0    3    0   15    2   20]\n",
      " [   4    4 4975    0    7   12   11    0    1    0]\n",
      " [   0   15    4 4873    0    2    0   42    2    5]\n",
      " [   5    0    0    0 5015    1   11    0    0    0]\n",
      " [   7    0    4    0    6 5022    4    2    5    0]\n",
      " [   5    0    4    2   15    3 4942    0    0    0]\n",
      " [   4    7    3   14    0    0    2 4961    1    3]\n",
      " [   6    0    3   13    1    4    1    8 5011    0]\n",
      " [   0    4    0    3    0    2    0    0    2 4917]]\n"
     ]
    }
   ],
   "source": [
    "labl = y.unique().tolist() #List of Names of Bacteria\n",
    "# using confusion_matrix from sklearn.metrics\n",
    "cm = confusion_matrix(val_y, rf_val_predictions, labels= labl)\n",
    "print(cm)\n",
    "# Normalise\n",
    "cmn = cm.astype('float') / cm.sum(axis=1)"
   ]
  },
  {
   "cell_type": "code",
   "execution_count": 20,
   "id": "fe3bdf13",
   "metadata": {
    "execution": {
     "iopub.execute_input": "2022-02-28T23:01:03.622443Z",
     "iopub.status.busy": "2022-02-28T23:01:03.621433Z",
     "iopub.status.idle": "2022-02-28T23:01:04.477619Z",
     "shell.execute_reply": "2022-02-28T23:01:04.477042Z"
    },
    "papermill": {
     "duration": 0.924301,
     "end_time": "2022-02-28T23:01:04.477778",
     "exception": false,
     "start_time": "2022-02-28T23:01:03.553477",
     "status": "completed"
    },
    "tags": []
   },
   "outputs": [
    {
     "data": {
      "image/png": "[encoded data removed]",
      "text/plain": [
       "<Figure size 864x720 with 2 Axes>"
      ]
     },
     "metadata": {
      "needs_background": "light"
     },
     "output_type": "display_data"
    }
   ],
   "source": [
    "fig, ax = plt.subplots(figsize=(12,10))           \n",
    "ax = sns.heatmap(cmn, annot=True, fmt='.5f',cmap=\"Blues\",vmin=0.0, vmax=0.005)\n",
    "ax.set_xticklabels(labl, rotation=90)\n",
    "ax.set_yticklabels(labl,rotation=0)\n",
    "plt.show()"
   ]
  },
  {
   "cell_type": "markdown",
   "id": "f9ea1ce2",
   "metadata": {
    "papermill": {
     "duration": 0.063982,
     "end_time": "2022-02-28T23:01:04.606834",
     "exception": false,
     "start_time": "2022-02-28T23:01:04.542852",
     "status": "completed"
    },
    "tags": []
   },
   "source": [
    "# Retrain the model with whole train data set"
   ]
  },
  {
   "cell_type": "code",
   "execution_count": 21,
   "id": "629e7b6d",
   "metadata": {
    "execution": {
     "iopub.execute_input": "2022-02-28T23:01:04.750612Z",
     "iopub.status.busy": "2022-02-28T23:01:04.749392Z",
     "iopub.status.idle": "2022-02-28T23:03:29.038700Z",
     "shell.execute_reply": "2022-02-28T23:03:29.039205Z"
    },
    "papermill": {
     "duration": 144.366842,
     "end_time": "2022-02-28T23:03:29.039382",
     "exception": false,
     "start_time": "2022-02-28T23:01:04.672540",
     "status": "completed"
    },
    "tags": []
   },
   "outputs": [
    {
     "data": {
      "text/plain": [
       "RandomForestClassifier(random_state=1)"
      ]
     },
     "execution_count": 21,
     "metadata": {},
     "output_type": "execute_result"
    }
   ],
   "source": [
    "rf_model.fit(X,y)"
   ]
  },
  {
   "cell_type": "code",
   "execution_count": 22,
   "id": "16659dc8",
   "metadata": {
    "execution": {
     "iopub.execute_input": "2022-02-28T23:03:29.199664Z",
     "iopub.status.busy": "2022-02-28T23:03:29.197386Z",
     "iopub.status.idle": "2022-02-28T23:03:29.202783Z",
     "shell.execute_reply": "2022-02-28T23:03:29.202175Z"
    },
    "papermill": {
     "duration": 0.099098,
     "end_time": "2022-02-28T23:03:29.202915",
     "exception": false,
     "start_time": "2022-02-28T23:03:29.103817",
     "status": "completed"
    },
    "tags": []
   },
   "outputs": [
    {
     "data": {
      "text/html": [
       "<div>\n",
       "<style scoped>\n",
       "    .dataframe tbody tr th:only-of-type {\n",
       "        vertical-align: middle;\n",
       "    }\n",
       "\n",
       "    .dataframe tbody tr th {\n",
       "        vertical-align: top;\n",
       "    }\n",
       "\n",
       "    .dataframe thead th {\n",
       "        text-align: right;\n",
       "    }\n",
       "</style>\n",
       "<table border=\"1\" class=\"dataframe\">\n",
       "  <thead>\n",
       "    <tr style=\"text-align: right;\">\n",
       "      <th></th>\n",
       "      <th>A0T0G0C10</th>\n",
       "      <th>A0T0G1C9</th>\n",
       "      <th>A0T0G2C8</th>\n",
       "      <th>A0T0G3C7</th>\n",
       "      <th>A0T0G4C6</th>\n",
       "      <th>A0T0G5C5</th>\n",
       "      <th>A0T0G6C4</th>\n",
       "      <th>A0T0G7C3</th>\n",
       "      <th>A0T0G8C2</th>\n",
       "      <th>A0T0G9C1</th>\n",
       "      <th>...</th>\n",
       "      <th>A8T0G0C2</th>\n",
       "      <th>A8T0G1C1</th>\n",
       "      <th>A8T0G2C0</th>\n",
       "      <th>A8T1G0C1</th>\n",
       "      <th>A8T1G1C0</th>\n",
       "      <th>A8T2G0C0</th>\n",
       "      <th>A9T0G0C1</th>\n",
       "      <th>A9T0G1C0</th>\n",
       "      <th>A9T1G0C0</th>\n",
       "      <th>A10T0G0C0</th>\n",
       "    </tr>\n",
       "    <tr>\n",
       "      <th>row_id</th>\n",
       "      <th></th>\n",
       "      <th></th>\n",
       "      <th></th>\n",
       "      <th></th>\n",
       "      <th></th>\n",
       "      <th></th>\n",
       "      <th></th>\n",
       "      <th></th>\n",
       "      <th></th>\n",
       "      <th></th>\n",
       "      <th></th>\n",
       "      <th></th>\n",
       "      <th></th>\n",
       "      <th></th>\n",
       "      <th></th>\n",
       "      <th></th>\n",
       "      <th></th>\n",
       "      <th></th>\n",
       "      <th></th>\n",
       "      <th></th>\n",
       "      <th></th>\n",
       "    </tr>\n",
       "  </thead>\n",
       "  <tbody>\n",
       "    <tr>\n",
       "      <th>200000</th>\n",
       "      <td>-9.536743e-07</td>\n",
       "      <td>-0.000002</td>\n",
       "      <td>-9.153442e-07</td>\n",
       "      <td>0.000024</td>\n",
       "      <td>0.000034</td>\n",
       "      <td>-0.000002</td>\n",
       "      <td>0.000021</td>\n",
       "      <td>0.000024</td>\n",
       "      <td>-0.000009</td>\n",
       "      <td>-0.000008</td>\n",
       "      <td>...</td>\n",
       "      <td>0.000039</td>\n",
       "      <td>0.000085</td>\n",
       "      <td>0.000055</td>\n",
       "      <td>0.000108</td>\n",
       "      <td>0.000090</td>\n",
       "      <td>0.000059</td>\n",
       "      <td>0.000010</td>\n",
       "      <td>0.000006</td>\n",
       "      <td>0.000027</td>\n",
       "      <td>4.632568e-08</td>\n",
       "    </tr>\n",
       "    <tr>\n",
       "      <th>200001</th>\n",
       "      <td>-9.536743e-07</td>\n",
       "      <td>-0.000010</td>\n",
       "      <td>-4.291534e-05</td>\n",
       "      <td>-0.000114</td>\n",
       "      <td>0.001800</td>\n",
       "      <td>-0.000240</td>\n",
       "      <td>0.001800</td>\n",
       "      <td>-0.000114</td>\n",
       "      <td>0.000957</td>\n",
       "      <td>-0.000010</td>\n",
       "      <td>...</td>\n",
       "      <td>-0.000043</td>\n",
       "      <td>0.000914</td>\n",
       "      <td>-0.000043</td>\n",
       "      <td>-0.000086</td>\n",
       "      <td>-0.000086</td>\n",
       "      <td>-0.000043</td>\n",
       "      <td>-0.000010</td>\n",
       "      <td>-0.000010</td>\n",
       "      <td>-0.000010</td>\n",
       "      <td>-9.536743e-07</td>\n",
       "    </tr>\n",
       "    <tr>\n",
       "      <th>200002</th>\n",
       "      <td>4.632568e-08</td>\n",
       "      <td>0.000003</td>\n",
       "      <td>8.465576e-08</td>\n",
       "      <td>-0.000014</td>\n",
       "      <td>0.000007</td>\n",
       "      <td>-0.000005</td>\n",
       "      <td>-0.000004</td>\n",
       "      <td>0.000003</td>\n",
       "      <td>0.000004</td>\n",
       "      <td>-0.000008</td>\n",
       "      <td>...</td>\n",
       "      <td>0.000041</td>\n",
       "      <td>0.000102</td>\n",
       "      <td>0.000084</td>\n",
       "      <td>0.000111</td>\n",
       "      <td>0.000117</td>\n",
       "      <td>0.000070</td>\n",
       "      <td>0.000020</td>\n",
       "      <td>0.000030</td>\n",
       "      <td>0.000021</td>\n",
       "      <td>4.632568e-08</td>\n",
       "    </tr>\n",
       "    <tr>\n",
       "      <th>200003</th>\n",
       "      <td>-9.536743e-07</td>\n",
       "      <td>-0.000008</td>\n",
       "      <td>8.084656e-06</td>\n",
       "      <td>0.000216</td>\n",
       "      <td>0.000420</td>\n",
       "      <td>0.000514</td>\n",
       "      <td>0.000452</td>\n",
       "      <td>0.000187</td>\n",
       "      <td>-0.000005</td>\n",
       "      <td>-0.000008</td>\n",
       "      <td>...</td>\n",
       "      <td>0.000069</td>\n",
       "      <td>0.000158</td>\n",
       "      <td>0.000098</td>\n",
       "      <td>0.000175</td>\n",
       "      <td>0.000217</td>\n",
       "      <td>0.000150</td>\n",
       "      <td>0.000018</td>\n",
       "      <td>0.000016</td>\n",
       "      <td>0.000051</td>\n",
       "      <td>-9.536743e-07</td>\n",
       "    </tr>\n",
       "    <tr>\n",
       "      <th>200004</th>\n",
       "      <td>-9.536743e-07</td>\n",
       "      <td>-0.000010</td>\n",
       "      <td>-4.291534e-05</td>\n",
       "      <td>-0.000114</td>\n",
       "      <td>-0.000200</td>\n",
       "      <td>-0.000240</td>\n",
       "      <td>-0.000200</td>\n",
       "      <td>-0.000114</td>\n",
       "      <td>-0.000043</td>\n",
       "      <td>-0.000010</td>\n",
       "      <td>...</td>\n",
       "      <td>-0.000043</td>\n",
       "      <td>-0.000086</td>\n",
       "      <td>-0.000043</td>\n",
       "      <td>-0.000086</td>\n",
       "      <td>0.000914</td>\n",
       "      <td>-0.000043</td>\n",
       "      <td>-0.000010</td>\n",
       "      <td>-0.000010</td>\n",
       "      <td>0.000990</td>\n",
       "      <td>-9.536743e-07</td>\n",
       "    </tr>\n",
       "  </tbody>\n",
       "</table>\n",
       "<p>5 rows × 286 columns</p>\n",
       "</div>"
      ],
      "text/plain": [
       "           A0T0G0C10  A0T0G1C9      A0T0G2C8  A0T0G3C7  A0T0G4C6  A0T0G5C5  \\\n",
       "row_id                                                                       \n",
       "200000 -9.536743e-07 -0.000002 -9.153442e-07  0.000024  0.000034 -0.000002   \n",
       "200001 -9.536743e-07 -0.000010 -4.291534e-05 -0.000114  0.001800 -0.000240   \n",
       "200002  4.632568e-08  0.000003  8.465576e-08 -0.000014  0.000007 -0.000005   \n",
       "200003 -9.536743e-07 -0.000008  8.084656e-06  0.000216  0.000420  0.000514   \n",
       "200004 -9.536743e-07 -0.000010 -4.291534e-05 -0.000114 -0.000200 -0.000240   \n",
       "\n",
       "        A0T0G6C4  A0T0G7C3  A0T0G8C2  A0T0G9C1  ...  A8T0G0C2  A8T0G1C1  \\\n",
       "row_id                                          ...                       \n",
       "200000  0.000021  0.000024 -0.000009 -0.000008  ...  0.000039  0.000085   \n",
       "200001  0.001800 -0.000114  0.000957 -0.000010  ... -0.000043  0.000914   \n",
       "200002 -0.000004  0.000003  0.000004 -0.000008  ...  0.000041  0.000102   \n",
       "200003  0.000452  0.000187 -0.000005 -0.000008  ...  0.000069  0.000158   \n",
       "200004 -0.000200 -0.000114 -0.000043 -0.000010  ... -0.000043 -0.000086   \n",
       "\n",
       "        A8T0G2C0  A8T1G0C1  A8T1G1C0  A8T2G0C0  A9T0G0C1  A9T0G1C0  A9T1G0C0  \\\n",
       "row_id                                                                         \n",
       "200000  0.000055  0.000108  0.000090  0.000059  0.000010  0.000006  0.000027   \n",
       "200001 -0.000043 -0.000086 -0.000086 -0.000043 -0.000010 -0.000010 -0.000010   \n",
       "200002  0.000084  0.000111  0.000117  0.000070  0.000020  0.000030  0.000021   \n",
       "200003  0.000098  0.000175  0.000217  0.000150  0.000018  0.000016  0.000051   \n",
       "200004 -0.000043 -0.000086  0.000914 -0.000043 -0.000010 -0.000010  0.000990   \n",
       "\n",
       "           A10T0G0C0  \n",
       "row_id                \n",
       "200000  4.632568e-08  \n",
       "200001 -9.536743e-07  \n",
       "200002  4.632568e-08  \n",
       "200003 -9.536743e-07  \n",
       "200004 -9.536743e-07  \n",
       "\n",
       "[5 rows x 286 columns]"
      ]
     },
     "execution_count": 22,
     "metadata": {},
     "output_type": "execute_result"
    }
   ],
   "source": [
    "test.head()"
   ]
  },
  {
   "cell_type": "code",
   "execution_count": 23,
   "id": "bfc584e6",
   "metadata": {
    "execution": {
     "iopub.execute_input": "2022-02-28T23:03:29.346098Z",
     "iopub.status.busy": "2022-02-28T23:03:29.344870Z",
     "iopub.status.idle": "2022-02-28T23:03:34.004044Z",
     "shell.execute_reply": "2022-02-28T23:03:34.003514Z"
    },
    "papermill": {
     "duration": 4.735619,
     "end_time": "2022-02-28T23:03:34.004204",
     "exception": false,
     "start_time": "2022-02-28T23:03:29.268585",
     "status": "completed"
    },
    "tags": []
   },
   "outputs": [
    {
     "data": {
      "text/plain": [
       "array(['Escherichia_fergusonii', 'Salmonella_enterica',\n",
       "       'Enterococcus_hirae', 'Salmonella_enterica',\n",
       "       'Staphylococcus_aureus', 'Escherichia_fergusonii',\n",
       "       'Salmonella_enterica', 'Staphylococcus_aureus',\n",
       "       'Streptococcus_pneumoniae', 'Klebsiella_pneumoniae',\n",
       "       'Streptococcus_pneumoniae', 'Bacteroides_fragilis',\n",
       "       'Klebsiella_pneumoniae', 'Campylobacter_jejuni',\n",
       "       'Streptococcus_pyogenes', 'Streptococcus_pneumoniae',\n",
       "       'Campylobacter_jejuni', 'Campylobacter_jejuni', 'Escherichia_coli',\n",
       "       'Bacteroides_fragilis', 'Campylobacter_jejuni', 'Escherichia_coli',\n",
       "       'Bacteroides_fragilis', 'Streptococcus_pneumoniae',\n",
       "       'Streptococcus_pyogenes'], dtype=object)"
      ]
     },
     "execution_count": 23,
     "metadata": {},
     "output_type": "execute_result"
    }
   ],
   "source": [
    "rf_val_predictions_test = rf_model.predict(test) #predictions for test data set\n",
    "rf_val_predictions_test[:25]"
   ]
  },
  {
   "cell_type": "markdown",
   "id": "ff336c6e",
   "metadata": {
    "papermill": {
     "duration": 0.069973,
     "end_time": "2022-02-28T23:03:34.143669",
     "exception": false,
     "start_time": "2022-02-28T23:03:34.073696",
     "status": "completed"
    },
    "tags": []
   },
   "source": [
    "# Preparing submission"
   ]
  },
  {
   "cell_type": "code",
   "execution_count": 24,
   "id": "d25922ea",
   "metadata": {
    "execution": {
     "iopub.execute_input": "2022-02-28T23:03:34.290187Z",
     "iopub.status.busy": "2022-02-28T23:03:34.288709Z",
     "iopub.status.idle": "2022-02-28T23:03:34.302016Z",
     "shell.execute_reply": "2022-02-28T23:03:34.302534Z"
    },
    "papermill": {
     "duration": 0.089515,
     "end_time": "2022-02-28T23:03:34.302709",
     "exception": false,
     "start_time": "2022-02-28T23:03:34.213194",
     "status": "completed"
    },
    "tags": []
   },
   "outputs": [
    {
     "data": {
      "text/html": [
       "<div>\n",
       "<style scoped>\n",
       "    .dataframe tbody tr th:only-of-type {\n",
       "        vertical-align: middle;\n",
       "    }\n",
       "\n",
       "    .dataframe tbody tr th {\n",
       "        vertical-align: top;\n",
       "    }\n",
       "\n",
       "    .dataframe thead th {\n",
       "        text-align: right;\n",
       "    }\n",
       "</style>\n",
       "<table border=\"1\" class=\"dataframe\">\n",
       "  <thead>\n",
       "    <tr style=\"text-align: right;\">\n",
       "      <th></th>\n",
       "      <th>row_id</th>\n",
       "      <th>target</th>\n",
       "    </tr>\n",
       "  </thead>\n",
       "  <tbody>\n",
       "    <tr>\n",
       "      <th>0</th>\n",
       "      <td>200000</td>\n",
       "      <td>Escherichia_fergusonii</td>\n",
       "    </tr>\n",
       "    <tr>\n",
       "      <th>1</th>\n",
       "      <td>200001</td>\n",
       "      <td>Salmonella_enterica</td>\n",
       "    </tr>\n",
       "    <tr>\n",
       "      <th>2</th>\n",
       "      <td>200002</td>\n",
       "      <td>Enterococcus_hirae</td>\n",
       "    </tr>\n",
       "    <tr>\n",
       "      <th>3</th>\n",
       "      <td>200003</td>\n",
       "      <td>Salmonella_enterica</td>\n",
       "    </tr>\n",
       "    <tr>\n",
       "      <th>4</th>\n",
       "      <td>200004</td>\n",
       "      <td>Staphylococcus_aureus</td>\n",
       "    </tr>\n",
       "  </tbody>\n",
       "</table>\n",
       "</div>"
      ],
      "text/plain": [
       "   row_id                  target\n",
       "0  200000  Escherichia_fergusonii\n",
       "1  200001     Salmonella_enterica\n",
       "2  200002      Enterococcus_hirae\n",
       "3  200003     Salmonella_enterica\n",
       "4  200004   Staphylococcus_aureus"
      ]
     },
     "execution_count": 24,
     "metadata": {},
     "output_type": "execute_result"
    }
   ],
   "source": [
    "col_nam = test.columns # all column names of test data set\n",
    "test_pred = test.copy(deep=False) # make a copy of test data set\n",
    "test_pred['target'] = rf_val_predictions_test # adding new column to test tata set\n",
    "output= test_pred.drop(columns=col_nam) # droping unnecessary columns\n",
    "output.reset_index(inplace=True) # rest index\n",
    "output.head()"
   ]
  },
  {
   "cell_type": "markdown",
   "id": "c75cb471",
   "metadata": {
    "papermill": {
     "duration": 0.066152,
     "end_time": "2022-02-28T23:03:34.436960",
     "exception": false,
     "start_time": "2022-02-28T23:03:34.370808",
     "status": "completed"
    },
    "tags": []
   },
   "source": [
    "# Writing in to a csv file"
   ]
  },
  {
   "cell_type": "code",
   "execution_count": 25,
   "id": "f6a48ff0",
   "metadata": {
    "execution": {
     "iopub.execute_input": "2022-02-28T23:03:34.577656Z",
     "iopub.status.busy": "2022-02-28T23:03:34.576769Z",
     "iopub.status.idle": "2022-02-28T23:03:34.807827Z",
     "shell.execute_reply": "2022-02-28T23:03:34.808408Z"
    },
    "papermill": {
     "duration": 0.304491,
     "end_time": "2022-02-28T23:03:34.808613",
     "exception": false,
     "start_time": "2022-02-28T23:03:34.504122",
     "status": "completed"
    },
    "tags": []
   },
   "outputs": [
    {
     "name": "stdout",
     "output_type": "stream",
     "text": [
      "submission was successful\n"
     ]
    }
   ],
   "source": [
    "output.to_csv('submission.csv', index=False)\n",
    "print(\"submission was successful\")"
   ]
  },
  {
   "cell_type": "code",
   "execution_count": 26,
   "id": "5db0dbc4",
   "metadata": {
    "execution": {
     "iopub.execute_input": "2022-02-28T23:03:35.066574Z",
     "iopub.status.busy": "2022-02-28T23:03:35.063205Z",
     "iopub.status.idle": "2022-02-28T23:03:35.726246Z",
     "shell.execute_reply": "2022-02-28T23:03:35.726760Z"
    },
    "papermill": {
     "duration": 0.82386,
     "end_time": "2022-02-28T23:03:35.726974",
     "exception": false,
     "start_time": "2022-02-28T23:03:34.903114",
     "status": "completed"
    },
    "tags": []
   },
   "outputs": [],
   "source": [
    "from xgboost import XGBClassifier\n",
    "import optuna"
   ]
  },
  {
   "cell_type": "code",
   "execution_count": 27,
   "id": "21eb1772",
   "metadata": {
    "execution": {
     "iopub.execute_input": "2022-02-28T23:03:35.869942Z",
     "iopub.status.busy": "2022-02-28T23:03:35.868241Z",
     "iopub.status.idle": "2022-02-28T23:04:00.120708Z",
     "shell.execute_reply": "2022-02-28T23:04:00.119733Z"
    },
    "papermill": {
     "duration": 24.326404,
     "end_time": "2022-02-28T23:04:00.120892",
     "exception": false,
     "start_time": "2022-02-28T23:03:35.794488",
     "status": "completed"
    },
    "tags": []
   },
   "outputs": [],
   "source": [
    "df_train = pd.read_csv('../input/tabular-playground-series-feb-2022/train.csv')\n",
    "df_test = pd.read_csv('../input/tabular-playground-series-feb-2022/test.csv')"
   ]
  },
  {
   "cell_type": "code",
   "execution_count": 28,
   "id": "c4de875b",
   "metadata": {
    "execution": {
     "iopub.execute_input": "2022-02-28T23:04:00.268313Z",
     "iopub.status.busy": "2022-02-28T23:04:00.266950Z",
     "iopub.status.idle": "2022-02-28T23:04:00.452720Z",
     "shell.execute_reply": "2022-02-28T23:04:00.451918Z"
    },
    "papermill": {
     "duration": 0.261516,
     "end_time": "2022-02-28T23:04:00.452911",
     "exception": false,
     "start_time": "2022-02-28T23:04:00.191395",
     "status": "completed"
    },
    "tags": []
   },
   "outputs": [],
   "source": [
    "df_test_row_id = df_test.row_id \n",
    "train_data = df_train.copy()"
   ]
  },
  {
   "cell_type": "code",
   "execution_count": 29,
   "id": "7355d47d",
   "metadata": {
    "execution": {
     "iopub.execute_input": "2022-02-28T23:04:00.642535Z",
     "iopub.status.busy": "2022-02-28T23:04:00.641404Z",
     "iopub.status.idle": "2022-02-28T23:04:00.645549Z",
     "shell.execute_reply": "2022-02-28T23:04:00.646086Z"
    },
    "papermill": {
     "duration": 0.123337,
     "end_time": "2022-02-28T23:04:00.646276",
     "exception": false,
     "start_time": "2022-02-28T23:04:00.522939",
     "status": "completed"
    },
    "tags": []
   },
   "outputs": [
    {
     "data": {
      "text/html": [
       "<div>\n",
       "<style scoped>\n",
       "    .dataframe tbody tr th:only-of-type {\n",
       "        vertical-align: middle;\n",
       "    }\n",
       "\n",
       "    .dataframe tbody tr th {\n",
       "        vertical-align: top;\n",
       "    }\n",
       "\n",
       "    .dataframe thead th {\n",
       "        text-align: right;\n",
       "    }\n",
       "</style>\n",
       "<table border=\"1\" class=\"dataframe\">\n",
       "  <thead>\n",
       "    <tr style=\"text-align: right;\">\n",
       "      <th></th>\n",
       "      <th>target</th>\n",
       "      <th>species</th>\n",
       "      <th>percentage</th>\n",
       "    </tr>\n",
       "  </thead>\n",
       "  <tbody>\n",
       "    <tr>\n",
       "      <th>0</th>\n",
       "      <td>20139</td>\n",
       "      <td>Bacteroides_fragilis</td>\n",
       "      <td>10.0695</td>\n",
       "    </tr>\n",
       "    <tr>\n",
       "      <th>1</th>\n",
       "      <td>20076</td>\n",
       "      <td>Streptococcus_pyogenes</td>\n",
       "      <td>10.0380</td>\n",
       "    </tr>\n",
       "    <tr>\n",
       "      <th>2</th>\n",
       "      <td>20074</td>\n",
       "      <td>Streptococcus_pneumoniae</td>\n",
       "      <td>10.0370</td>\n",
       "    </tr>\n",
       "    <tr>\n",
       "      <th>3</th>\n",
       "      <td>20063</td>\n",
       "      <td>Campylobacter_jejuni</td>\n",
       "      <td>10.0315</td>\n",
       "    </tr>\n",
       "    <tr>\n",
       "      <th>4</th>\n",
       "      <td>20030</td>\n",
       "      <td>Salmonella_enterica</td>\n",
       "      <td>10.0150</td>\n",
       "    </tr>\n",
       "    <tr>\n",
       "      <th>5</th>\n",
       "      <td>19958</td>\n",
       "      <td>Escherichia_coli</td>\n",
       "      <td>9.9790</td>\n",
       "    </tr>\n",
       "    <tr>\n",
       "      <th>6</th>\n",
       "      <td>19947</td>\n",
       "      <td>Enterococcus_hirae</td>\n",
       "      <td>9.9735</td>\n",
       "    </tr>\n",
       "    <tr>\n",
       "      <th>7</th>\n",
       "      <td>19937</td>\n",
       "      <td>Escherichia_fergusonii</td>\n",
       "      <td>9.9685</td>\n",
       "    </tr>\n",
       "    <tr>\n",
       "      <th>8</th>\n",
       "      <td>19929</td>\n",
       "      <td>Staphylococcus_aureus</td>\n",
       "      <td>9.9645</td>\n",
       "    </tr>\n",
       "    <tr>\n",
       "      <th>9</th>\n",
       "      <td>19847</td>\n",
       "      <td>Klebsiella_pneumoniae</td>\n",
       "      <td>9.9235</td>\n",
       "    </tr>\n",
       "  </tbody>\n",
       "</table>\n",
       "</div>"
      ],
      "text/plain": [
       "   target                   species  percentage\n",
       "0   20139      Bacteroides_fragilis     10.0695\n",
       "1   20076    Streptococcus_pyogenes     10.0380\n",
       "2   20074  Streptococcus_pneumoniae     10.0370\n",
       "3   20063      Campylobacter_jejuni     10.0315\n",
       "4   20030       Salmonella_enterica     10.0150\n",
       "5   19958          Escherichia_coli      9.9790\n",
       "6   19947        Enterococcus_hirae      9.9735\n",
       "7   19937    Escherichia_fergusonii      9.9685\n",
       "8   19929     Staphylococcus_aureus      9.9645\n",
       "9   19847     Klebsiella_pneumoniae      9.9235"
      ]
     },
     "execution_count": 29,
     "metadata": {},
     "output_type": "execute_result"
    }
   ],
   "source": [
    "df_tar = pd.DataFrame(df_train['target'].value_counts())\n",
    "df_tar['species']=df_tar.index\n",
    "df_tar = df_tar.reset_index(drop=True)\n",
    "for i in df_tar.index:\n",
    "    df_tar['percentage']=df_tar['target']/df_tar['target'].sum()*100\n",
    "df_tar"
   ]
  },
  {
   "cell_type": "code",
   "execution_count": 30,
   "id": "b2e4c651",
   "metadata": {
    "execution": {
     "iopub.execute_input": "2022-02-28T23:04:00.819376Z",
     "iopub.status.busy": "2022-02-28T23:04:00.803679Z",
     "iopub.status.idle": "2022-02-28T23:04:01.100494Z",
     "shell.execute_reply": "2022-02-28T23:04:01.101012Z"
    },
    "papermill": {
     "duration": 0.383435,
     "end_time": "2022-02-28T23:04:01.101202",
     "exception": false,
     "start_time": "2022-02-28T23:04:00.717767",
     "status": "completed"
    },
    "tags": []
   },
   "outputs": [
    {
     "data": {
      "image/png": "[encoded data removed]",
      "text/plain": [
       "<Figure size 864x432 with 1 Axes>"
      ]
     },
     "metadata": {
      "needs_background": "light"
     },
     "output_type": "display_data"
    }
   ],
   "source": [
    "plt.figure(figsize=(12,6))\n",
    "sns.barplot(y='species',x='target',data=df_tar)\n",
    "plt.xticks(rotation=90)\n",
    "plt.show()"
   ]
  },
  {
   "cell_type": "code",
   "execution_count": 31,
   "id": "aeadaba7",
   "metadata": {
    "execution": {
     "iopub.execute_input": "2022-02-28T23:04:01.253750Z",
     "iopub.status.busy": "2022-02-28T23:04:01.252797Z",
     "iopub.status.idle": "2022-02-28T23:04:01.255632Z",
     "shell.execute_reply": "2022-02-28T23:04:01.256235Z"
    },
    "papermill": {
     "duration": 0.081476,
     "end_time": "2022-02-28T23:04:01.256390",
     "exception": false,
     "start_time": "2022-02-28T23:04:01.174914",
     "status": "completed"
    },
    "tags": []
   },
   "outputs": [],
   "source": [
    "cols = [e for e in df_test.columns if e not in ('row_id')]"
   ]
  },
  {
   "cell_type": "code",
   "execution_count": 32,
   "id": "559d23bd",
   "metadata": {
    "execution": {
     "iopub.execute_input": "2022-02-28T23:04:01.449230Z",
     "iopub.status.busy": "2022-02-28T23:04:01.444850Z",
     "iopub.status.idle": "2022-02-28T23:04:19.194676Z",
     "shell.execute_reply": "2022-02-28T23:04:19.196061Z"
    },
    "papermill": {
     "duration": 17.867638,
     "end_time": "2022-02-28T23:04:19.196343",
     "exception": false,
     "start_time": "2022-02-28T23:04:01.328705",
     "status": "completed"
    },
    "tags": []
   },
   "outputs": [
    {
     "data": {
      "text/html": [
       "<div>\n",
       "<style scoped>\n",
       "    .dataframe tbody tr th:only-of-type {\n",
       "        vertical-align: middle;\n",
       "    }\n",
       "\n",
       "    .dataframe tbody tr th {\n",
       "        vertical-align: top;\n",
       "    }\n",
       "\n",
       "    .dataframe thead th {\n",
       "        text-align: right;\n",
       "    }\n",
       "</style>\n",
       "<table border=\"1\" class=\"dataframe\">\n",
       "  <thead>\n",
       "    <tr style=\"text-align: right;\">\n",
       "      <th></th>\n",
       "      <th>row_id_x</th>\n",
       "      <th>A0T0G0C10</th>\n",
       "      <th>A0T0G1C9</th>\n",
       "      <th>A0T0G2C8</th>\n",
       "      <th>A0T0G3C7</th>\n",
       "      <th>A0T0G4C6</th>\n",
       "      <th>A0T0G5C5</th>\n",
       "      <th>A0T0G6C4</th>\n",
       "      <th>A0T0G7C3</th>\n",
       "      <th>A0T0G8C2</th>\n",
       "      <th>...</th>\n",
       "      <th>A8T0G2C0</th>\n",
       "      <th>A8T1G0C1</th>\n",
       "      <th>A8T1G1C0</th>\n",
       "      <th>A8T2G0C0</th>\n",
       "      <th>A9T0G0C1</th>\n",
       "      <th>A9T0G1C0</th>\n",
       "      <th>A9T1G0C0</th>\n",
       "      <th>A10T0G0C0</th>\n",
       "      <th>target</th>\n",
       "      <th>row_id_y</th>\n",
       "    </tr>\n",
       "  </thead>\n",
       "  <tbody>\n",
       "    <tr>\n",
       "      <th>0</th>\n",
       "      <td>12</td>\n",
       "      <td>-9.536743e-07</td>\n",
       "      <td>-0.00001</td>\n",
       "      <td>-0.000043</td>\n",
       "      <td>-0.000114</td>\n",
       "      <td>-0.0002</td>\n",
       "      <td>-0.00024</td>\n",
       "      <td>-0.0002</td>\n",
       "      <td>-0.000114</td>\n",
       "      <td>-0.000043</td>\n",
       "      <td>...</td>\n",
       "      <td>-0.000043</td>\n",
       "      <td>-0.000086</td>\n",
       "      <td>-0.000086</td>\n",
       "      <td>-0.000043</td>\n",
       "      <td>-0.00001</td>\n",
       "      <td>-0.00001</td>\n",
       "      <td>-0.00001</td>\n",
       "      <td>-9.536743e-07</td>\n",
       "      <td>Escherichia_fergusonii</td>\n",
       "      <td>262823</td>\n",
       "    </tr>\n",
       "    <tr>\n",
       "      <th>1</th>\n",
       "      <td>21584</td>\n",
       "      <td>-9.536743e-07</td>\n",
       "      <td>-0.00001</td>\n",
       "      <td>-0.000043</td>\n",
       "      <td>-0.000114</td>\n",
       "      <td>-0.0002</td>\n",
       "      <td>-0.00024</td>\n",
       "      <td>-0.0002</td>\n",
       "      <td>-0.000114</td>\n",
       "      <td>-0.000043</td>\n",
       "      <td>...</td>\n",
       "      <td>-0.000043</td>\n",
       "      <td>-0.000086</td>\n",
       "      <td>-0.000086</td>\n",
       "      <td>-0.000043</td>\n",
       "      <td>-0.00001</td>\n",
       "      <td>-0.00001</td>\n",
       "      <td>-0.00001</td>\n",
       "      <td>-9.536743e-07</td>\n",
       "      <td>Escherichia_fergusonii</td>\n",
       "      <td>262823</td>\n",
       "    </tr>\n",
       "    <tr>\n",
       "      <th>2</th>\n",
       "      <td>89255</td>\n",
       "      <td>-9.536743e-07</td>\n",
       "      <td>-0.00001</td>\n",
       "      <td>-0.000043</td>\n",
       "      <td>-0.000114</td>\n",
       "      <td>-0.0002</td>\n",
       "      <td>-0.00024</td>\n",
       "      <td>-0.0002</td>\n",
       "      <td>-0.000114</td>\n",
       "      <td>-0.000043</td>\n",
       "      <td>...</td>\n",
       "      <td>-0.000043</td>\n",
       "      <td>-0.000086</td>\n",
       "      <td>-0.000086</td>\n",
       "      <td>-0.000043</td>\n",
       "      <td>-0.00001</td>\n",
       "      <td>-0.00001</td>\n",
       "      <td>-0.00001</td>\n",
       "      <td>-9.536743e-07</td>\n",
       "      <td>Escherichia_fergusonii</td>\n",
       "      <td>262823</td>\n",
       "    </tr>\n",
       "    <tr>\n",
       "      <th>3</th>\n",
       "      <td>114311</td>\n",
       "      <td>-9.536743e-07</td>\n",
       "      <td>-0.00001</td>\n",
       "      <td>-0.000043</td>\n",
       "      <td>-0.000114</td>\n",
       "      <td>-0.0002</td>\n",
       "      <td>-0.00024</td>\n",
       "      <td>-0.0002</td>\n",
       "      <td>-0.000114</td>\n",
       "      <td>-0.000043</td>\n",
       "      <td>...</td>\n",
       "      <td>-0.000043</td>\n",
       "      <td>-0.000086</td>\n",
       "      <td>-0.000086</td>\n",
       "      <td>-0.000043</td>\n",
       "      <td>-0.00001</td>\n",
       "      <td>-0.00001</td>\n",
       "      <td>-0.00001</td>\n",
       "      <td>-9.536743e-07</td>\n",
       "      <td>Escherichia_fergusonii</td>\n",
       "      <td>262823</td>\n",
       "    </tr>\n",
       "    <tr>\n",
       "      <th>4</th>\n",
       "      <td>148398</td>\n",
       "      <td>-9.536743e-07</td>\n",
       "      <td>-0.00001</td>\n",
       "      <td>-0.000043</td>\n",
       "      <td>-0.000114</td>\n",
       "      <td>-0.0002</td>\n",
       "      <td>-0.00024</td>\n",
       "      <td>-0.0002</td>\n",
       "      <td>-0.000114</td>\n",
       "      <td>-0.000043</td>\n",
       "      <td>...</td>\n",
       "      <td>-0.000043</td>\n",
       "      <td>-0.000086</td>\n",
       "      <td>-0.000086</td>\n",
       "      <td>-0.000043</td>\n",
       "      <td>-0.00001</td>\n",
       "      <td>-0.00001</td>\n",
       "      <td>-0.00001</td>\n",
       "      <td>-9.536743e-07</td>\n",
       "      <td>Escherichia_fergusonii</td>\n",
       "      <td>262823</td>\n",
       "    </tr>\n",
       "  </tbody>\n",
       "</table>\n",
       "<p>5 rows × 289 columns</p>\n",
       "</div>"
      ],
      "text/plain": [
       "   row_id_x     A0T0G0C10  A0T0G1C9  A0T0G2C8  A0T0G3C7  A0T0G4C6  A0T0G5C5  \\\n",
       "0        12 -9.536743e-07  -0.00001 -0.000043 -0.000114   -0.0002  -0.00024   \n",
       "1     21584 -9.536743e-07  -0.00001 -0.000043 -0.000114   -0.0002  -0.00024   \n",
       "2     89255 -9.536743e-07  -0.00001 -0.000043 -0.000114   -0.0002  -0.00024   \n",
       "3    114311 -9.536743e-07  -0.00001 -0.000043 -0.000114   -0.0002  -0.00024   \n",
       "4    148398 -9.536743e-07  -0.00001 -0.000043 -0.000114   -0.0002  -0.00024   \n",
       "\n",
       "   A0T0G6C4  A0T0G7C3  A0T0G8C2  ...  A8T0G2C0  A8T1G0C1  A8T1G1C0  A8T2G0C0  \\\n",
       "0   -0.0002 -0.000114 -0.000043  ... -0.000043 -0.000086 -0.000086 -0.000043   \n",
       "1   -0.0002 -0.000114 -0.000043  ... -0.000043 -0.000086 -0.000086 -0.000043   \n",
       "2   -0.0002 -0.000114 -0.000043  ... -0.000043 -0.000086 -0.000086 -0.000043   \n",
       "3   -0.0002 -0.000114 -0.000043  ... -0.000043 -0.000086 -0.000086 -0.000043   \n",
       "4   -0.0002 -0.000114 -0.000043  ... -0.000043 -0.000086 -0.000086 -0.000043   \n",
       "\n",
       "   A9T0G0C1  A9T0G1C0  A9T1G0C0     A10T0G0C0                  target  \\\n",
       "0  -0.00001  -0.00001  -0.00001 -9.536743e-07  Escherichia_fergusonii   \n",
       "1  -0.00001  -0.00001  -0.00001 -9.536743e-07  Escherichia_fergusonii   \n",
       "2  -0.00001  -0.00001  -0.00001 -9.536743e-07  Escherichia_fergusonii   \n",
       "3  -0.00001  -0.00001  -0.00001 -9.536743e-07  Escherichia_fergusonii   \n",
       "4  -0.00001  -0.00001  -0.00001 -9.536743e-07  Escherichia_fergusonii   \n",
       "\n",
       "   row_id_y  \n",
       "0    262823  \n",
       "1    262823  \n",
       "2    262823  \n",
       "3    262823  \n",
       "4    262823  \n",
       "\n",
       "[5 rows x 289 columns]"
      ]
     },
     "execution_count": 32,
     "metadata": {},
     "output_type": "execute_result"
    }
   ],
   "source": [
    "s1 = pd.merge(df_train, df_test, how='inner', on=cols)\n",
    "s1.head()"
   ]
  },
  {
   "cell_type": "code",
   "execution_count": 33,
   "id": "d8d9b5cf",
   "metadata": {
    "execution": {
     "iopub.execute_input": "2022-02-28T23:04:19.638375Z",
     "iopub.status.busy": "2022-02-28T23:04:19.635343Z",
     "iopub.status.idle": "2022-02-28T23:04:21.505769Z",
     "shell.execute_reply": "2022-02-28T23:04:21.506447Z"
    },
    "papermill": {
     "duration": 2.128018,
     "end_time": "2022-02-28T23:04:21.506665",
     "exception": false,
     "start_time": "2022-02-28T23:04:19.378647",
     "status": "completed"
    },
    "tags": []
   },
   "outputs": [],
   "source": [
    "dic = {}\n",
    "for i in range(len(s1)):\n",
    "    dic[s1.loc[i]['row_id_y']] = s1.loc[i]['row_id_x']"
   ]
  },
  {
   "cell_type": "code",
   "execution_count": 34,
   "id": "879be01f",
   "metadata": {
    "execution": {
     "iopub.execute_input": "2022-02-28T23:04:21.683348Z",
     "iopub.status.busy": "2022-02-28T23:04:21.682191Z",
     "iopub.status.idle": "2022-02-28T23:04:23.940884Z",
     "shell.execute_reply": "2022-02-28T23:04:23.941745Z"
    },
    "papermill": {
     "duration": 2.350395,
     "end_time": "2022-02-28T23:04:23.941934",
     "exception": false,
     "start_time": "2022-02-28T23:04:21.591539",
     "status": "completed"
    },
    "tags": []
   },
   "outputs": [],
   "source": [
    "s1 = s1.set_index('row_id_x')\n",
    "s1_idx = s1.index.to_list()\n",
    "df_train = df_train.drop(s1_idx)\n",
    "\n",
    "df_train = df_train.drop_duplicates(subset=cols, keep='first')\n",
    "df_train = df_train.reset_index(drop=True)"
   ]
  },
  {
   "cell_type": "code",
   "execution_count": 35,
   "id": "cffb73eb",
   "metadata": {
    "execution": {
     "iopub.execute_input": "2022-02-28T23:04:24.095804Z",
     "iopub.status.busy": "2022-02-28T23:04:24.094878Z",
     "iopub.status.idle": "2022-02-28T23:04:24.119671Z",
     "shell.execute_reply": "2022-02-28T23:04:24.119083Z"
    },
    "papermill": {
     "duration": 0.104608,
     "end_time": "2022-02-28T23:04:24.119825",
     "exception": false,
     "start_time": "2022-02-28T23:04:24.015217",
     "status": "completed"
    },
    "tags": []
   },
   "outputs": [],
   "source": [
    "kf = model_selection.KFold(n_splits=5, shuffle=True, random_state=42)\n",
    "for fold, (train_indicies, valid_indicies) in enumerate(kf.split(X=df_train)):\n",
    "    df_train.loc[valid_indicies,\"kfold\"] = fold"
   ]
  },
  {
   "cell_type": "code",
   "execution_count": 36,
   "id": "c4594272",
   "metadata": {
    "execution": {
     "iopub.execute_input": "2022-02-28T23:04:24.275997Z",
     "iopub.status.busy": "2022-02-28T23:04:24.274581Z",
     "iopub.status.idle": "2022-02-28T23:04:25.199602Z",
     "shell.execute_reply": "2022-02-28T23:04:25.198510Z"
    },
    "papermill": {
     "duration": 1.006431,
     "end_time": "2022-02-28T23:04:25.199745",
     "exception": false,
     "start_time": "2022-02-28T23:04:24.193314",
     "status": "completed"
    },
    "tags": []
   },
   "outputs": [],
   "source": [
    "useful_features = [c for c in df_train.columns if c not in (\"row_id\", \"target\", \"kfold\")]\n",
    "df_test = df_test[useful_features]\n",
    "for col in useful_features:\n",
    "    df_train[col] = np.log1p(df_train[col])\n",
    "    df_test[col] = np.log1p(df_test[col])"
   ]
  },
  {
   "cell_type": "code",
   "execution_count": 37,
   "id": "e35796d5",
   "metadata": {
    "execution": {
     "iopub.execute_input": "2022-02-28T23:04:25.361893Z",
     "iopub.status.busy": "2022-02-28T23:04:25.360554Z",
     "iopub.status.idle": "2022-02-28T23:04:25.364256Z",
     "shell.execute_reply": "2022-02-28T23:04:25.363594Z"
    },
    "papermill": {
     "duration": 0.089294,
     "end_time": "2022-02-28T23:04:25.364421",
     "exception": false,
     "start_time": "2022-02-28T23:04:25.275127",
     "status": "completed"
    },
    "tags": []
   },
   "outputs": [],
   "source": [
    "def xgboost(trial):\n",
    "    fold = 0\n",
    "    \n",
    "    learning_rate = trial.suggest_float(\"learning_rate\", 1e-2, 0.1, log=True)\n",
    "    reg_lambda = trial.suggest_loguniform(\"reg_lambda\", 1e-8, 100.0)\n",
    "    reg_alpha = trial.suggest_loguniform(\"reg_alpha\", 1e-8, 100.0)\n",
    "    subsample = trial.suggest_float(\"subsample\", 0.1, 1.0)\n",
    "    colsample_bytree = trial.suggest_float(\"colsample_bytree\", 0.1, 1.0)\n",
    "    max_depth = trial.suggest_int(\"max_depth\", 3, 25)\n",
    "    \n",
    "    xtrain =  df_train[df_train.kfold != fold].reset_index(drop=True)\n",
    "    xvalid = df_train[df_train.kfold == fold].reset_index(drop=True)\n",
    "    \n",
    "    ytrain = xtrain.target\n",
    "    yvalid = xvalid.target\n",
    "    \n",
    "    xtrain = xtrain[useful_features]\n",
    "    xvalid = xvalid[useful_features]\n",
    "    \n",
    "    le = preprocessing.LabelEncoder()\n",
    "    ytrain = le.fit_transform(ytrain)\n",
    "    yvalid = le.fit_transform(yvalid)\n",
    "    \n",
    "    model = XGBClassifier(random_state=fold,\n",
    "                          tree_method='gpu_hist',\n",
    "                          gpu_id=0, predictor=\"gpu_predictor\",\n",
    "                          use_label_encoder =False,\n",
    "                          n_jobs=-1,\n",
    "                          n_estimators=1000,\n",
    "                          eval_metric='rmse',\n",
    "                          learning_rate=learning_rate,\n",
    "                          reg_lambda=reg_lambda,\n",
    "                          reg_alpha=reg_alpha,\n",
    "                          subsample=subsample,\n",
    "                          colsample_bytree=colsample_bytree,\n",
    "                          max_depth=max_depth,\n",
    "                         )\n",
    "    model.fit(xtrain, ytrain)\n",
    "    preds_valid = model.predict(xvalid)\n",
    "    rmse = mean_squared_error(yvalid, preds_valid, squared=False)\n",
    "    return rmse"
   ]
  },
  {
   "cell_type": "code",
   "execution_count": 38,
   "id": "61917b26",
   "metadata": {
    "execution": {
     "iopub.execute_input": "2022-02-28T23:04:25.520119Z",
     "iopub.status.busy": "2022-02-28T23:04:25.518910Z",
     "iopub.status.idle": "2022-02-28T23:04:25.521898Z",
     "shell.execute_reply": "2022-02-28T23:04:25.521126Z"
    },
    "papermill": {
     "duration": 0.08253,
     "end_time": "2022-02-28T23:04:25.522022",
     "exception": false,
     "start_time": "2022-02-28T23:04:25.439492",
     "status": "completed"
    },
    "tags": []
   },
   "outputs": [],
   "source": [
    "#study = optuna.create_study(direction=\"minimize\")\n",
    "#study.optimize(xgboost, n_trials=20,gc_after_trial=True)"
   ]
  },
  {
   "cell_type": "code",
   "execution_count": 39,
   "id": "67158a41",
   "metadata": {
    "execution": {
     "iopub.execute_input": "2022-02-28T23:04:25.677840Z",
     "iopub.status.busy": "2022-02-28T23:04:25.676938Z",
     "iopub.status.idle": "2022-02-28T23:04:25.681307Z",
     "shell.execute_reply": "2022-02-28T23:04:25.680674Z"
    },
    "papermill": {
     "duration": 0.084172,
     "end_time": "2022-02-28T23:04:25.681443",
     "exception": false,
     "start_time": "2022-02-28T23:04:25.597271",
     "status": "completed"
    },
    "tags": []
   },
   "outputs": [],
   "source": [
    "#study.best_params"
   ]
  },
  {
   "cell_type": "code",
   "execution_count": 40,
   "id": "db3b9477",
   "metadata": {
    "execution": {
     "iopub.execute_input": "2022-02-28T23:04:25.840882Z",
     "iopub.status.busy": "2022-02-28T23:04:25.839556Z",
     "iopub.status.idle": "2022-02-28T23:19:51.604467Z",
     "shell.execute_reply": "2022-02-28T23:19:51.605326Z"
    },
    "papermill": {
     "duration": 925.849521,
     "end_time": "2022-02-28T23:19:51.605609",
     "exception": false,
     "start_time": "2022-02-28T23:04:25.756088",
     "status": "completed"
    },
    "tags": []
   },
   "outputs": [
    {
     "name": "stdout",
     "output_type": "stream",
     "text": [
      "fold0  0.9749858563000081\n",
      "fold1  0.9755111937282793\n",
      "fold2  0.9757122651040614\n",
      "fold3  0.9760355627399475\n",
      "fold4  0.9759951505354617\n"
     ]
    }
   ],
   "source": [
    "for fold in range(5):\n",
    "    \n",
    "    xtrain = df_train[df_train.kfold != fold].reset_index(drop=True)\n",
    "    xvalid = df_train[df_train.kfold == fold].reset_index(drop=True)\n",
    "    \n",
    "    ytrain = xtrain.target\n",
    "    yvalid = xvalid.target\n",
    "    \n",
    "    xtrain = xtrain[useful_features]\n",
    "    xvalid = xvalid[useful_features]\n",
    "    \n",
    "    le = preprocessing.LabelEncoder()\n",
    "    ytrain = le.fit_transform(ytrain)\n",
    "    yvalid = le.fit_transform(yvalid)\n",
    "    \n",
    "    model = XGBClassifier(random_state=fold,\n",
    "                          tree_method='gpu_hist',\n",
    "                          gpu_id=0, predictor=\"gpu_predictor\",\n",
    "                          use_label_encoder =False,\n",
    "                          n_jobs=-1,\n",
    "                          n_estimators=1000,\n",
    "                          eval_metric='rmse',\n",
    "                          learning_rate=0.0958614407371858,\n",
    "                          reg_lambda= 0.013277441840190538,\n",
    "                          reg_alpha= 0.0078106631860548935,\n",
    "                          subsample= 0.5644494238856632,\n",
    "                          colsample_bytree=0.854776309994251,\n",
    "                          max_depth=15,\n",
    "                         )\n",
    "    model.fit(xtrain, ytrain)\n",
    "    print(f'fold{fold} ',model.score(xvalid,yvalid))"
   ]
  },
  {
   "cell_type": "code",
   "execution_count": 41,
   "id": "14c00fdb",
   "metadata": {
    "execution": {
     "iopub.execute_input": "2022-02-28T23:19:51.765051Z",
     "iopub.status.busy": "2022-02-28T23:19:51.763915Z",
     "iopub.status.idle": "2022-02-28T23:19:54.694109Z",
     "shell.execute_reply": "2022-02-28T23:19:54.693285Z"
    },
    "papermill": {
     "duration": 3.011603,
     "end_time": "2022-02-28T23:19:54.694292",
     "exception": false,
     "start_time": "2022-02-28T23:19:51.682689",
     "status": "completed"
    },
    "tags": []
   },
   "outputs": [],
   "source": [
    "preds = model.predict(df_test)\n",
    "res = le.inverse_transform(preds)\n",
    "df = pd.DataFrame({'row_id': df_test_row_id,'target': res})"
   ]
  },
  {
   "cell_type": "code",
   "execution_count": 42,
   "id": "ea398241",
   "metadata": {
    "execution": {
     "iopub.execute_input": "2022-02-28T23:19:54.855042Z",
     "iopub.status.busy": "2022-02-28T23:19:54.853934Z",
     "iopub.status.idle": "2022-02-28T23:19:56.089539Z",
     "shell.execute_reply": "2022-02-28T23:19:56.088936Z"
    },
    "papermill": {
     "duration": 1.318012,
     "end_time": "2022-02-28T23:19:56.089682",
     "exception": false,
     "start_time": "2022-02-28T23:19:54.771670",
     "status": "completed"
    },
    "tags": []
   },
   "outputs": [],
   "source": [
    "for e in dic:\n",
    "    df.loc[df[df['row_id']==e].index.to_list(),'target'] = train_data.loc[train_data[train_data['row_id']==dic[e]].index.tolist()[0],'target']"
   ]
  },
  {
   "cell_type": "code",
   "execution_count": 43,
   "id": "159aa664",
   "metadata": {
    "execution": {
     "iopub.execute_input": "2022-02-28T23:19:56.247657Z",
     "iopub.status.busy": "2022-02-28T23:19:56.246595Z",
     "iopub.status.idle": "2022-02-28T23:19:56.480974Z",
     "shell.execute_reply": "2022-02-28T23:19:56.480392Z"
    },
    "papermill": {
     "duration": 0.316015,
     "end_time": "2022-02-28T23:19:56.481120",
     "exception": false,
     "start_time": "2022-02-28T23:19:56.165105",
     "status": "completed"
    },
    "tags": []
   },
   "outputs": [],
   "source": [
    "df.to_csv('Submission_01.csv',index=False)"
   ]
  },
  {
   "cell_type": "code",
   "execution_count": null,
   "id": "566e4216",
   "metadata": {
    "papermill": {
     "duration": 0.076019,
     "end_time": "2022-02-28T23:19:56.635022",
     "exception": false,
     "start_time": "2022-02-28T23:19:56.559003",
     "status": "completed"
    },
    "tags": []
   },
   "outputs": [],
   "source": []
  }
 ],
 "metadata": {
  "kernelspec": {
   "display_name": "Python 3",
   "language": "python",
   "name": "python3"
  },
  "language_info": {
   "codemirror_mode": {
    "name": "ipython",
    "version": 3
   },
   "file_extension": ".py",
   "mimetype": "text/x-python",
   "name": "python",
   "nbconvert_exporter": "python",
   "pygments_lexer": "ipython3",
   "version": "3.7.12"
  },
  "papermill": {
   "default_parameters": {},
   "duration": 1301.600627,
   "end_time": "2022-02-28T23:19:58.130450",
   "environment_variables": {},
   "exception": null,
   "input_path": "__notebook__.ipynb",
   "output_path": "__notebook__.ipynb",
   "parameters": {},
   "start_time": "2022-02-28T22:58:16.529823",
   "version": "2.3.3"
  }
 },
 "nbformat": 4,
 "nbformat_minor": 5
}
