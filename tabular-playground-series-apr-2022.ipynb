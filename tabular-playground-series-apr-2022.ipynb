{
 "cells": [
  {
   "cell_type": "code",
   "execution_count": 1,
   "id": "81266b72",
   "metadata": {
    "_cell_guid": "b1076dfc-b9ad-4769-8c92-a6c4dae69d19",
    "_uuid": "8f2839f25d086af736a60e9eeb907d3b93b6e0e5",
    "execution": {
     "iopub.execute_input": "2022-04-04T21:38:19.763590Z",
     "iopub.status.busy": "2022-04-04T21:38:19.762404Z",
     "iopub.status.idle": "2022-04-04T21:38:19.775328Z",
     "shell.execute_reply": "2022-04-04T21:38:19.776063Z"
    },
    "papermill": {
     "duration": 0.02377,
     "end_time": "2022-04-04T21:38:19.776368",
     "exception": false,
     "start_time": "2022-04-04T21:38:19.752598",
     "status": "completed"
    },
    "tags": []
   },
   "outputs": [
    {
     "name": "stdout",
     "output_type": "stream",
     "text": [
      "/kaggle/input/tabular-playground-series-apr-2022/sample_submission.csv\n",
      "/kaggle/input/tabular-playground-series-apr-2022/train_labels.csv\n",
      "/kaggle/input/tabular-playground-series-apr-2022/train.csv\n",
      "/kaggle/input/tabular-playground-series-apr-2022/test.csv\n"
     ]
    }
   ],
   "source": [
    "# This Python 3 environment comes with many helpful analytics libraries installed\n",
    "# It is defined by the kaggle/python Docker image: https://github.com/kaggle/docker-python\n",
    "# For example, here's several helpful packages to load\n",
    "\n",
    "import numpy as np # linear algebra\n",
    "import pandas as pd # data processing, CSV file I/O (e.g. pd.read_csv)\n",
    "\n",
    "# Input data files are available in the read-only \"../input/\" directory\n",
    "# For example, running this (by clicking run or pressing Shift+Enter) will list all files under the input directory\n",
    "\n",
    "import os\n",
    "for dirname, _, filenames in os.walk('/kaggle/input'):\n",
    "    for filename in filenames:\n",
    "        print(os.path.join(dirname, filename))\n",
    "\n",
    "# You can write up to 20GB to the current directory (/kaggle/working/) that gets preserved as output when you create a version using \"Save & Run All\" \n",
    "# You can also write temporary files to /kaggle/temp/, but they won't be saved outside of the current session"
   ]
  },
  {
   "cell_type": "markdown",
   "id": "cd978067",
   "metadata": {
    "papermill": {
     "duration": 0.005573,
     "end_time": "2022-04-04T21:38:19.788665",
     "exception": false,
     "start_time": "2022-04-04T21:38:19.783092",
     "status": "completed"
    },
    "tags": []
   },
   "source": [
    "---\n",
    "$\\Huge{Tabular\\ Playground\\ Series\\ -\\ Apr\\ 2022}$\n",
    "\n",
    "$Practice\\ your\\ ML\\ skills\\ on\\ this\\ approachable\\ dataset!$\n",
    "\n",
    "---"
   ]
  },
  {
   "cell_type": "markdown",
   "id": "12e29198",
   "metadata": {
    "papermill": {
     "duration": 0.005533,
     "end_time": "2022-04-04T21:38:19.799993",
     "exception": false,
     "start_time": "2022-04-04T21:38:19.794460",
     "status": "completed"
    },
    "tags": []
   },
   "source": [
    "# Overview\n",
    "\n",
    "## Description\n",
    "\n",
    "Welcome to the April edition of the 2022 Tabular Playground Series! This month's challenge is a time series classification problem.\n",
    "\n",
    "You've been provided with thousands of sixty-second sequences of biological sensor data recorded from several hundred participants who could have been in either of two possible activity states. Can you determine what state a participant was in from the sensor data?\n",
    "\n",
    "### About the Tabular Playground Series\n",
    "\n",
    "Kaggle competitions are incredibly fun and rewarding, but they can also be intimidating for people who are relatively new in their data science journey. In the past, we've launched many Playground competitions that are more approachable than our Featured competitions and thus, more beginner-friendly.\n",
    "\n",
    "The goal of these competitions is to provide a fun and approachable-for-anyone tabular dataset to model. These competitions are a great choice for people looking for something in between the Titanic Getting Started competition and the Featured competitions. If you're an established competitions master or grandmaster, these probably won't be much of a challenge for you; thus, we encourage you to avoid saturating the leaderboard.\n",
    "\n",
    "For each monthly competition, we'll be offering Kaggle Merchandise for the top three teams. And finally, because we want these competitions to be more about learning, we're limiting team sizes to 3 individuals.\n",
    "\n",
    "## Evaluation\n",
    "\n",
    "Submissions are evaluated on area under the ROC curve between the predicted probability and the observed target.\n",
    "\n",
    "### Submission File\n",
    "\n",
    "For each sequence in the test set, you must predict a probability for the state variable. The file should contain a header and have the following format:\n",
    "\n",
    "```\n",
    "sequence,state\n",
    "25968,0\n",
    "25969,0\n",
    "25970,0\n",
    "...\n",
    "```"
   ]
  },
  {
   "cell_type": "code",
   "execution_count": null,
   "id": "34a7dea5",
   "metadata": {
    "papermill": {
     "duration": 0.005583,
     "end_time": "2022-04-04T21:38:19.811401",
     "exception": false,
     "start_time": "2022-04-04T21:38:19.805818",
     "status": "completed"
    },
    "tags": []
   },
   "outputs": [],
   "source": []
  },
  {
   "cell_type": "code",
   "execution_count": null,
   "id": "3eb9002d",
   "metadata": {
    "papermill": {
     "duration": 0.005371,
     "end_time": "2022-04-04T21:38:19.822591",
     "exception": false,
     "start_time": "2022-04-04T21:38:19.817220",
     "status": "completed"
    },
    "tags": []
   },
   "outputs": [],
   "source": []
  }
 ],
 "metadata": {
  "kernelspec": {
   "display_name": "Python 3",
   "language": "python",
   "name": "python3"
  },
  "language_info": {
   "codemirror_mode": {
    "name": "ipython",
    "version": 3
   },
   "file_extension": ".py",
   "mimetype": "text/x-python",
   "name": "python",
   "nbconvert_exporter": "python",
   "pygments_lexer": "ipython3",
   "version": "3.7.12"
  },
  "papermill": {
   "default_parameters": {},
   "duration": 10.717376,
   "end_time": "2022-04-04T21:38:20.438464",
   "environment_variables": {},
   "exception": null,
   "input_path": "__notebook__.ipynb",
   "output_path": "__notebook__.ipynb",
   "parameters": {},
   "start_time": "2022-04-04T21:38:09.721088",
   "version": "2.3.3"
  }
 },
 "nbformat": 4,
 "nbformat_minor": 5
}
