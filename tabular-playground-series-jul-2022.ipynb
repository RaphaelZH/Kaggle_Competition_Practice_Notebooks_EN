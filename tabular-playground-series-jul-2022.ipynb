{
 "cells": [
  {
   "cell_type": "markdown",
   "id": "578307ae",
   "metadata": {
    "_cell_guid": "b1076dfc-b9ad-4769-8c92-a6c4dae69d19",
    "_uuid": "8f2839f25d086af736a60e9eeb907d3b93b6e0e5",
    "papermill": {
     "duration": 0.008779,
     "end_time": "2022-07-29T20:49:58.785290",
     "exception": false,
     "start_time": "2022-07-29T20:49:58.776511",
     "status": "completed"
    },
    "tags": []
   },
   "source": [
    "$\\Huge\\sf{Tabular\\ Playground\\ Series\\ -\\ Jul\\ 2022}$\n",
    "\n",
    "$\\large\\rm{Practice\\ your\\ ML\\ skills\\ on\\ this\\ approachable\\ dataset!}$"
   ]
  },
  {
   "cell_type": "code",
   "execution_count": 1,
   "id": "c1a47653",
   "metadata": {
    "execution": {
     "iopub.execute_input": "2022-07-29T20:49:58.802836Z",
     "iopub.status.busy": "2022-07-29T20:49:58.802364Z",
     "iopub.status.idle": "2022-07-29T20:50:01.854898Z",
     "shell.execute_reply": "2022-07-29T20:50:01.853732Z"
    },
    "papermill": {
     "duration": 3.064999,
     "end_time": "2022-07-29T20:50:01.858089",
     "exception": false,
     "start_time": "2022-07-29T20:49:58.793090",
     "status": "completed"
    },
    "tags": []
   },
   "outputs": [
    {
     "data": {
      "text/html": [
       "<style type='text/css'>\n",
       ".datatable table.frame { margin-bottom: 0; }\n",
       ".datatable table.frame thead { border-bottom: none; }\n",
       ".datatable table.frame tr.coltypes td {  color: #FFFFFF;  line-height: 6px;  padding: 0 0.5em;}\n",
       ".datatable .bool    { background: #DDDD99; }\n",
       ".datatable .object  { background: #565656; }\n",
       ".datatable .int     { background: #5D9E5D; }\n",
       ".datatable .float   { background: #4040CC; }\n",
       ".datatable .str     { background: #CC4040; }\n",
       ".datatable .time    { background: #40CC40; }\n",
       ".datatable .row_index {  background: var(--jp-border-color3);  border-right: 1px solid var(--jp-border-color0);  color: var(--jp-ui-font-color3);  font-size: 9px;}\n",
       ".datatable .frame tbody td { text-align: left; }\n",
       ".datatable .frame tr.coltypes .row_index {  background: var(--jp-border-color0);}\n",
       ".datatable th:nth-child(2) { padding-left: 12px; }\n",
       ".datatable .hellipsis {  color: var(--jp-cell-editor-border-color);}\n",
       ".datatable .vellipsis {  background: var(--jp-layout-color0);  color: var(--jp-cell-editor-border-color);}\n",
       ".datatable .na {  color: var(--jp-cell-editor-border-color);  font-size: 80%;}\n",
       ".datatable .sp {  opacity: 0.25;}\n",
       ".datatable .footer { font-size: 9px; }\n",
       ".datatable .frame_dimensions {  background: var(--jp-border-color3);  border-top: 1px solid var(--jp-border-color0);  color: var(--jp-ui-font-color3);  display: inline-block;  opacity: 0.6;  padding: 1px 10px 1px 5px;}\n",
       "</style>\n"
      ],
      "text/plain": [
       "<IPython.core.display.HTML object>"
      ]
     },
     "metadata": {},
     "output_type": "display_data"
    }
   ],
   "source": [
    "import numpy as np\n",
    "import pandas as pd\n",
    "\n",
    "from scipy.stats import shapiro\n",
    "from scipy import stats\n",
    "from scipy.stats import chi2\n",
    "\n",
    "\n",
    "from sklearn.cluster import KMeans\n",
    "from sklearn.preprocessing import PowerTransformer,MinMaxScaler,RobustScaler\n",
    "from sklearn.model_selection import StratifiedKFold\n",
    "from sklearn.mixture import BayesianGaussianMixture\n",
    "from sklearn import metrics\n",
    "import lightgbm as lgb\n",
    "\n",
    "import matplotlib.pyplot as plt\n",
    "import seaborn as sns\n",
    "\n",
    "from termcolor import colored\n",
    "\n",
    "import optuna"
   ]
  },
  {
   "cell_type": "markdown",
   "id": "8576caa4",
   "metadata": {
    "papermill": {
     "duration": 0.007969,
     "end_time": "2022-07-29T20:50:01.874321",
     "exception": false,
     "start_time": "2022-07-29T20:50:01.866352",
     "status": "completed"
    },
    "tags": []
   },
   "source": [
    "# Import Dataset"
   ]
  },
  {
   "cell_type": "code",
   "execution_count": 2,
   "id": "a41f3e54",
   "metadata": {
    "execution": {
     "iopub.execute_input": "2022-07-29T20:50:01.893558Z",
     "iopub.status.busy": "2022-07-29T20:50:01.892740Z",
     "iopub.status.idle": "2022-07-29T20:50:03.155479Z",
     "shell.execute_reply": "2022-07-29T20:50:03.154300Z"
    },
    "papermill": {
     "duration": 1.275282,
     "end_time": "2022-07-29T20:50:03.157809",
     "exception": false,
     "start_time": "2022-07-29T20:50:01.882527",
     "status": "completed"
    },
    "tags": []
   },
   "outputs": [
    {
     "data": {
      "text/html": [
       "<div>\n",
       "<style scoped>\n",
       "    .dataframe tbody tr th:only-of-type {\n",
       "        vertical-align: middle;\n",
       "    }\n",
       "\n",
       "    .dataframe tbody tr th {\n",
       "        vertical-align: top;\n",
       "    }\n",
       "\n",
       "    .dataframe thead th {\n",
       "        text-align: right;\n",
       "    }\n",
       "</style>\n",
       "<table border=\"1\" class=\"dataframe\">\n",
       "  <thead>\n",
       "    <tr style=\"text-align: right;\">\n",
       "      <th></th>\n",
       "      <th>f_00</th>\n",
       "      <th>f_01</th>\n",
       "      <th>f_02</th>\n",
       "      <th>f_03</th>\n",
       "      <th>f_04</th>\n",
       "      <th>f_05</th>\n",
       "      <th>f_06</th>\n",
       "      <th>f_07</th>\n",
       "      <th>f_08</th>\n",
       "      <th>f_09</th>\n",
       "      <th>...</th>\n",
       "      <th>f_19</th>\n",
       "      <th>f_20</th>\n",
       "      <th>f_21</th>\n",
       "      <th>f_22</th>\n",
       "      <th>f_23</th>\n",
       "      <th>f_24</th>\n",
       "      <th>f_25</th>\n",
       "      <th>f_26</th>\n",
       "      <th>f_27</th>\n",
       "      <th>f_28</th>\n",
       "    </tr>\n",
       "    <tr>\n",
       "      <th>id</th>\n",
       "      <th></th>\n",
       "      <th></th>\n",
       "      <th></th>\n",
       "      <th></th>\n",
       "      <th></th>\n",
       "      <th></th>\n",
       "      <th></th>\n",
       "      <th></th>\n",
       "      <th></th>\n",
       "      <th></th>\n",
       "      <th></th>\n",
       "      <th></th>\n",
       "      <th></th>\n",
       "      <th></th>\n",
       "      <th></th>\n",
       "      <th></th>\n",
       "      <th></th>\n",
       "      <th></th>\n",
       "      <th></th>\n",
       "      <th></th>\n",
       "      <th></th>\n",
       "    </tr>\n",
       "  </thead>\n",
       "  <tbody>\n",
       "    <tr>\n",
       "      <th>0</th>\n",
       "      <td>-0.389420</td>\n",
       "      <td>-0.912791</td>\n",
       "      <td>0.648951</td>\n",
       "      <td>0.589045</td>\n",
       "      <td>-0.830817</td>\n",
       "      <td>0.733624</td>\n",
       "      <td>2.258560</td>\n",
       "      <td>2</td>\n",
       "      <td>13</td>\n",
       "      <td>14</td>\n",
       "      <td>...</td>\n",
       "      <td>-0.478412</td>\n",
       "      <td>-0.757002</td>\n",
       "      <td>-0.763635</td>\n",
       "      <td>-1.090369</td>\n",
       "      <td>1.142641</td>\n",
       "      <td>-0.884274</td>\n",
       "      <td>1.137896</td>\n",
       "      <td>1.309073</td>\n",
       "      <td>1.463002</td>\n",
       "      <td>0.813527</td>\n",
       "    </tr>\n",
       "    <tr>\n",
       "      <th>1</th>\n",
       "      <td>-0.689249</td>\n",
       "      <td>-0.453954</td>\n",
       "      <td>0.654175</td>\n",
       "      <td>0.995248</td>\n",
       "      <td>-1.653020</td>\n",
       "      <td>0.863810</td>\n",
       "      <td>-0.090651</td>\n",
       "      <td>2</td>\n",
       "      <td>3</td>\n",
       "      <td>6</td>\n",
       "      <td>...</td>\n",
       "      <td>-0.428791</td>\n",
       "      <td>-0.089908</td>\n",
       "      <td>-1.784204</td>\n",
       "      <td>-0.839474</td>\n",
       "      <td>0.459685</td>\n",
       "      <td>1.759412</td>\n",
       "      <td>-0.275422</td>\n",
       "      <td>-0.852168</td>\n",
       "      <td>0.562457</td>\n",
       "      <td>-2.680541</td>\n",
       "    </tr>\n",
       "    <tr>\n",
       "      <th>2</th>\n",
       "      <td>0.809079</td>\n",
       "      <td>0.324568</td>\n",
       "      <td>-1.170602</td>\n",
       "      <td>-0.624491</td>\n",
       "      <td>0.105448</td>\n",
       "      <td>0.783948</td>\n",
       "      <td>1.988301</td>\n",
       "      <td>5</td>\n",
       "      <td>11</td>\n",
       "      <td>5</td>\n",
       "      <td>...</td>\n",
       "      <td>-0.413534</td>\n",
       "      <td>-1.602377</td>\n",
       "      <td>1.190984</td>\n",
       "      <td>3.267116</td>\n",
       "      <td>-0.088322</td>\n",
       "      <td>-2.168635</td>\n",
       "      <td>-0.974989</td>\n",
       "      <td>1.335763</td>\n",
       "      <td>-1.110655</td>\n",
       "      <td>-3.630723</td>\n",
       "    </tr>\n",
       "    <tr>\n",
       "      <th>3</th>\n",
       "      <td>-0.500923</td>\n",
       "      <td>0.229049</td>\n",
       "      <td>0.264109</td>\n",
       "      <td>0.231520</td>\n",
       "      <td>0.415012</td>\n",
       "      <td>-1.221269</td>\n",
       "      <td>0.138850</td>\n",
       "      <td>6</td>\n",
       "      <td>2</td>\n",
       "      <td>13</td>\n",
       "      <td>...</td>\n",
       "      <td>0.619283</td>\n",
       "      <td>1.287801</td>\n",
       "      <td>0.532837</td>\n",
       "      <td>1.036631</td>\n",
       "      <td>-2.041828</td>\n",
       "      <td>1.440490</td>\n",
       "      <td>-1.900191</td>\n",
       "      <td>-0.630771</td>\n",
       "      <td>-0.050641</td>\n",
       "      <td>0.238333</td>\n",
       "    </tr>\n",
       "    <tr>\n",
       "      <th>4</th>\n",
       "      <td>-0.671268</td>\n",
       "      <td>-1.039533</td>\n",
       "      <td>-0.270155</td>\n",
       "      <td>-1.830264</td>\n",
       "      <td>-0.290108</td>\n",
       "      <td>-1.852809</td>\n",
       "      <td>0.781898</td>\n",
       "      <td>8</td>\n",
       "      <td>7</td>\n",
       "      <td>5</td>\n",
       "      <td>...</td>\n",
       "      <td>-1.628830</td>\n",
       "      <td>-0.434948</td>\n",
       "      <td>0.322505</td>\n",
       "      <td>0.284326</td>\n",
       "      <td>-2.438365</td>\n",
       "      <td>1.473930</td>\n",
       "      <td>-1.044684</td>\n",
       "      <td>1.602686</td>\n",
       "      <td>-0.405263</td>\n",
       "      <td>-1.987263</td>\n",
       "    </tr>\n",
       "  </tbody>\n",
       "</table>\n",
       "<p>5 rows × 29 columns</p>\n",
       "</div>"
      ],
      "text/plain": [
       "        f_00      f_01      f_02      f_03      f_04      f_05      f_06  \\\n",
       "id                                                                         \n",
       "0  -0.389420 -0.912791  0.648951  0.589045 -0.830817  0.733624  2.258560   \n",
       "1  -0.689249 -0.453954  0.654175  0.995248 -1.653020  0.863810 -0.090651   \n",
       "2   0.809079  0.324568 -1.170602 -0.624491  0.105448  0.783948  1.988301   \n",
       "3  -0.500923  0.229049  0.264109  0.231520  0.415012 -1.221269  0.138850   \n",
       "4  -0.671268 -1.039533 -0.270155 -1.830264 -0.290108 -1.852809  0.781898   \n",
       "\n",
       "    f_07  f_08  f_09  ...      f_19      f_20      f_21      f_22      f_23  \\\n",
       "id                    ...                                                     \n",
       "0      2    13    14  ... -0.478412 -0.757002 -0.763635 -1.090369  1.142641   \n",
       "1      2     3     6  ... -0.428791 -0.089908 -1.784204 -0.839474  0.459685   \n",
       "2      5    11     5  ... -0.413534 -1.602377  1.190984  3.267116 -0.088322   \n",
       "3      6     2    13  ...  0.619283  1.287801  0.532837  1.036631 -2.041828   \n",
       "4      8     7     5  ... -1.628830 -0.434948  0.322505  0.284326 -2.438365   \n",
       "\n",
       "        f_24      f_25      f_26      f_27      f_28  \n",
       "id                                                    \n",
       "0  -0.884274  1.137896  1.309073  1.463002  0.813527  \n",
       "1   1.759412 -0.275422 -0.852168  0.562457 -2.680541  \n",
       "2  -2.168635 -0.974989  1.335763 -1.110655 -3.630723  \n",
       "3   1.440490 -1.900191 -0.630771 -0.050641  0.238333  \n",
       "4   1.473930 -1.044684  1.602686 -0.405263 -1.987263  \n",
       "\n",
       "[5 rows x 29 columns]"
      ]
     },
     "execution_count": 2,
     "metadata": {},
     "output_type": "execute_result"
    }
   ],
   "source": [
    "data = pd.read_csv(\"../input/tabular-playground-series-jul-2022/data.csv\", index_col='id')\n",
    "data.head()"
   ]
  },
  {
   "cell_type": "code",
   "execution_count": 3,
   "id": "199f94ca",
   "metadata": {
    "execution": {
     "iopub.execute_input": "2022-07-29T20:50:03.176533Z",
     "iopub.status.busy": "2022-07-29T20:50:03.176141Z",
     "iopub.status.idle": "2022-07-29T20:50:03.210188Z",
     "shell.execute_reply": "2022-07-29T20:50:03.208983Z"
    },
    "papermill": {
     "duration": 0.046481,
     "end_time": "2022-07-29T20:50:03.212980",
     "exception": false,
     "start_time": "2022-07-29T20:50:03.166499",
     "status": "completed"
    },
    "tags": []
   },
   "outputs": [
    {
     "data": {
      "text/html": [
       "<div>\n",
       "<style scoped>\n",
       "    .dataframe tbody tr th:only-of-type {\n",
       "        vertical-align: middle;\n",
       "    }\n",
       "\n",
       "    .dataframe tbody tr th {\n",
       "        vertical-align: top;\n",
       "    }\n",
       "\n",
       "    .dataframe thead th {\n",
       "        text-align: right;\n",
       "    }\n",
       "</style>\n",
       "<table border=\"1\" class=\"dataframe\">\n",
       "  <thead>\n",
       "    <tr style=\"text-align: right;\">\n",
       "      <th></th>\n",
       "      <th>Id</th>\n",
       "      <th>Predicted</th>\n",
       "    </tr>\n",
       "  </thead>\n",
       "  <tbody>\n",
       "    <tr>\n",
       "      <th>0</th>\n",
       "      <td>0</td>\n",
       "      <td>0</td>\n",
       "    </tr>\n",
       "    <tr>\n",
       "      <th>1</th>\n",
       "      <td>1</td>\n",
       "      <td>0</td>\n",
       "    </tr>\n",
       "    <tr>\n",
       "      <th>2</th>\n",
       "      <td>2</td>\n",
       "      <td>0</td>\n",
       "    </tr>\n",
       "    <tr>\n",
       "      <th>3</th>\n",
       "      <td>3</td>\n",
       "      <td>0</td>\n",
       "    </tr>\n",
       "    <tr>\n",
       "      <th>4</th>\n",
       "      <td>4</td>\n",
       "      <td>0</td>\n",
       "    </tr>\n",
       "  </tbody>\n",
       "</table>\n",
       "</div>"
      ],
      "text/plain": [
       "   Id  Predicted\n",
       "0   0          0\n",
       "1   1          0\n",
       "2   2          0\n",
       "3   3          0\n",
       "4   4          0"
      ]
     },
     "execution_count": 3,
     "metadata": {},
     "output_type": "execute_result"
    }
   ],
   "source": [
    "submission = pd.read_csv(\"/kaggle/input/tabular-playground-series-jul-2022/sample_submission.csv\")\n",
    "submission.head()"
   ]
  },
  {
   "cell_type": "markdown",
   "id": "6802b231",
   "metadata": {
    "papermill": {
     "duration": 0.01151,
     "end_time": "2022-07-29T20:50:03.235523",
     "exception": false,
     "start_time": "2022-07-29T20:50:03.224013",
     "status": "completed"
    },
    "tags": []
   },
   "source": [
    "# Data Preprocessing"
   ]
  },
  {
   "cell_type": "code",
   "execution_count": 4,
   "id": "f08dad15",
   "metadata": {
    "execution": {
     "iopub.execute_input": "2022-07-29T20:50:03.255686Z",
     "iopub.status.busy": "2022-07-29T20:50:03.255275Z",
     "iopub.status.idle": "2022-07-29T20:50:03.262255Z",
     "shell.execute_reply": "2022-07-29T20:50:03.260538Z"
    },
    "papermill": {
     "duration": 0.019753,
     "end_time": "2022-07-29T20:50:03.264639",
     "exception": false,
     "start_time": "2022-07-29T20:50:03.244886",
     "status": "completed"
    },
    "tags": []
   },
   "outputs": [
    {
     "name": "stdout",
     "output_type": "stream",
     "text": [
      "Dataframe shape: (98000, 29)\n"
     ]
    }
   ],
   "source": [
    "print('Dataframe shape:', data.shape)"
   ]
  },
  {
   "cell_type": "code",
   "execution_count": 5,
   "id": "85cfca4a",
   "metadata": {
    "execution": {
     "iopub.execute_input": "2022-07-29T20:50:03.286869Z",
     "iopub.status.busy": "2022-07-29T20:50:03.285925Z",
     "iopub.status.idle": "2022-07-29T20:50:03.512595Z",
     "shell.execute_reply": "2022-07-29T20:50:03.510367Z"
    },
    "papermill": {
     "duration": 0.240917,
     "end_time": "2022-07-29T20:50:03.515251",
     "exception": false,
     "start_time": "2022-07-29T20:50:03.274334",
     "status": "completed"
    },
    "tags": []
   },
   "outputs": [
    {
     "data": {
      "text/html": [
       "<div>\n",
       "<style scoped>\n",
       "    .dataframe tbody tr th:only-of-type {\n",
       "        vertical-align: middle;\n",
       "    }\n",
       "\n",
       "    .dataframe tbody tr th {\n",
       "        vertical-align: top;\n",
       "    }\n",
       "\n",
       "    .dataframe thead th {\n",
       "        text-align: right;\n",
       "    }\n",
       "</style>\n",
       "<table border=\"1\" class=\"dataframe\">\n",
       "  <thead>\n",
       "    <tr style=\"text-align: right;\">\n",
       "      <th></th>\n",
       "      <th>f_00</th>\n",
       "      <th>f_01</th>\n",
       "      <th>f_02</th>\n",
       "      <th>f_03</th>\n",
       "      <th>f_04</th>\n",
       "      <th>f_05</th>\n",
       "      <th>f_06</th>\n",
       "      <th>f_07</th>\n",
       "      <th>f_08</th>\n",
       "      <th>f_09</th>\n",
       "      <th>...</th>\n",
       "      <th>f_19</th>\n",
       "      <th>f_20</th>\n",
       "      <th>f_21</th>\n",
       "      <th>f_22</th>\n",
       "      <th>f_23</th>\n",
       "      <th>f_24</th>\n",
       "      <th>f_25</th>\n",
       "      <th>f_26</th>\n",
       "      <th>f_27</th>\n",
       "      <th>f_28</th>\n",
       "    </tr>\n",
       "  </thead>\n",
       "  <tbody>\n",
       "    <tr>\n",
       "      <th>count</th>\n",
       "      <td>98000.000000</td>\n",
       "      <td>98000.000000</td>\n",
       "      <td>98000.000000</td>\n",
       "      <td>98000.000000</td>\n",
       "      <td>98000.000000</td>\n",
       "      <td>98000.000000</td>\n",
       "      <td>98000.000000</td>\n",
       "      <td>98000.000000</td>\n",
       "      <td>98000.000000</td>\n",
       "      <td>98000.000000</td>\n",
       "      <td>...</td>\n",
       "      <td>98000.000000</td>\n",
       "      <td>98000.000000</td>\n",
       "      <td>98000.000000</td>\n",
       "      <td>98000.000000</td>\n",
       "      <td>98000.000000</td>\n",
       "      <td>98000.000000</td>\n",
       "      <td>98000.000000</td>\n",
       "      <td>98000.000000</td>\n",
       "      <td>98000.000000</td>\n",
       "      <td>98000.000000</td>\n",
       "    </tr>\n",
       "    <tr>\n",
       "      <th>mean</th>\n",
       "      <td>0.001220</td>\n",
       "      <td>0.005580</td>\n",
       "      <td>-0.001042</td>\n",
       "      <td>-0.000700</td>\n",
       "      <td>-0.003522</td>\n",
       "      <td>-0.001612</td>\n",
       "      <td>-0.003042</td>\n",
       "      <td>5.545918</td>\n",
       "      <td>6.763061</td>\n",
       "      <td>8.193163</td>\n",
       "      <td>...</td>\n",
       "      <td>-0.004513</td>\n",
       "      <td>-0.000515</td>\n",
       "      <td>-0.001670</td>\n",
       "      <td>-0.038752</td>\n",
       "      <td>-0.220002</td>\n",
       "      <td>0.166434</td>\n",
       "      <td>-0.064309</td>\n",
       "      <td>-0.062540</td>\n",
       "      <td>0.098472</td>\n",
       "      <td>-0.230910</td>\n",
       "    </tr>\n",
       "    <tr>\n",
       "      <th>std</th>\n",
       "      <td>1.002801</td>\n",
       "      <td>1.000742</td>\n",
       "      <td>1.001373</td>\n",
       "      <td>1.000422</td>\n",
       "      <td>1.003061</td>\n",
       "      <td>1.000532</td>\n",
       "      <td>0.997434</td>\n",
       "      <td>3.691840</td>\n",
       "      <td>4.152348</td>\n",
       "      <td>5.904919</td>\n",
       "      <td>...</td>\n",
       "      <td>1.004372</td>\n",
       "      <td>1.002962</td>\n",
       "      <td>0.999703</td>\n",
       "      <td>1.477858</td>\n",
       "      <td>1.494836</td>\n",
       "      <td>1.543014</td>\n",
       "      <td>1.576086</td>\n",
       "      <td>1.428055</td>\n",
       "      <td>1.305407</td>\n",
       "      <td>1.528476</td>\n",
       "    </tr>\n",
       "    <tr>\n",
       "      <th>min</th>\n",
       "      <td>-4.732235</td>\n",
       "      <td>-4.202795</td>\n",
       "      <td>-4.377021</td>\n",
       "      <td>-4.010826</td>\n",
       "      <td>-4.535903</td>\n",
       "      <td>-4.300767</td>\n",
       "      <td>-4.894525</td>\n",
       "      <td>0.000000</td>\n",
       "      <td>0.000000</td>\n",
       "      <td>0.000000</td>\n",
       "      <td>...</td>\n",
       "      <td>-4.894525</td>\n",
       "      <td>-4.732235</td>\n",
       "      <td>-4.438130</td>\n",
       "      <td>-6.873999</td>\n",
       "      <td>-8.234305</td>\n",
       "      <td>-7.792363</td>\n",
       "      <td>-6.593842</td>\n",
       "      <td>-7.375719</td>\n",
       "      <td>-7.335556</td>\n",
       "      <td>-6.954151</td>\n",
       "    </tr>\n",
       "    <tr>\n",
       "      <th>25%</th>\n",
       "      <td>-0.675226</td>\n",
       "      <td>-0.670985</td>\n",
       "      <td>-0.672779</td>\n",
       "      <td>-0.672540</td>\n",
       "      <td>-0.682510</td>\n",
       "      <td>-0.675066</td>\n",
       "      <td>-0.680421</td>\n",
       "      <td>3.000000</td>\n",
       "      <td>4.000000</td>\n",
       "      <td>4.000000</td>\n",
       "      <td>...</td>\n",
       "      <td>-0.678773</td>\n",
       "      <td>-0.679777</td>\n",
       "      <td>-0.675147</td>\n",
       "      <td>-1.022964</td>\n",
       "      <td>-1.203204</td>\n",
       "      <td>-0.903385</td>\n",
       "      <td>-1.128966</td>\n",
       "      <td>-0.975680</td>\n",
       "      <td>-0.746489</td>\n",
       "      <td>-1.262606</td>\n",
       "    </tr>\n",
       "    <tr>\n",
       "      <th>50%</th>\n",
       "      <td>0.002022</td>\n",
       "      <td>0.006650</td>\n",
       "      <td>-0.000324</td>\n",
       "      <td>-0.003185</td>\n",
       "      <td>-0.003307</td>\n",
       "      <td>0.001024</td>\n",
       "      <td>-0.002053</td>\n",
       "      <td>5.000000</td>\n",
       "      <td>6.000000</td>\n",
       "      <td>7.000000</td>\n",
       "      <td>...</td>\n",
       "      <td>-0.000587</td>\n",
       "      <td>-0.000806</td>\n",
       "      <td>0.000819</td>\n",
       "      <td>-0.056687</td>\n",
       "      <td>-0.219046</td>\n",
       "      <td>0.167074</td>\n",
       "      <td>-0.099221</td>\n",
       "      <td>-0.070852</td>\n",
       "      <td>0.082230</td>\n",
       "      <td>-0.271319</td>\n",
       "    </tr>\n",
       "    <tr>\n",
       "      <th>75%</th>\n",
       "      <td>0.677271</td>\n",
       "      <td>0.677746</td>\n",
       "      <td>0.677086</td>\n",
       "      <td>0.672097</td>\n",
       "      <td>0.677589</td>\n",
       "      <td>0.673344</td>\n",
       "      <td>0.668112</td>\n",
       "      <td>8.000000</td>\n",
       "      <td>9.000000</td>\n",
       "      <td>11.000000</td>\n",
       "      <td>...</td>\n",
       "      <td>0.672149</td>\n",
       "      <td>0.675437</td>\n",
       "      <td>0.676881</td>\n",
       "      <td>0.930158</td>\n",
       "      <td>0.764690</td>\n",
       "      <td>1.217432</td>\n",
       "      <td>0.987684</td>\n",
       "      <td>0.843212</td>\n",
       "      <td>0.925306</td>\n",
       "      <td>0.770516</td>\n",
       "    </tr>\n",
       "    <tr>\n",
       "      <th>max</th>\n",
       "      <td>4.490521</td>\n",
       "      <td>4.324974</td>\n",
       "      <td>4.560247</td>\n",
       "      <td>4.399373</td>\n",
       "      <td>4.050549</td>\n",
       "      <td>4.710316</td>\n",
       "      <td>3.998595</td>\n",
       "      <td>32.000000</td>\n",
       "      <td>30.000000</td>\n",
       "      <td>44.000000</td>\n",
       "      <td>...</td>\n",
       "      <td>4.560247</td>\n",
       "      <td>4.399373</td>\n",
       "      <td>4.135419</td>\n",
       "      <td>6.517721</td>\n",
       "      <td>6.054831</td>\n",
       "      <td>7.527271</td>\n",
       "      <td>7.544731</td>\n",
       "      <td>7.005608</td>\n",
       "      <td>7.205971</td>\n",
       "      <td>6.977150</td>\n",
       "    </tr>\n",
       "  </tbody>\n",
       "</table>\n",
       "<p>8 rows × 29 columns</p>\n",
       "</div>"
      ],
      "text/plain": [
       "               f_00          f_01          f_02          f_03          f_04  \\\n",
       "count  98000.000000  98000.000000  98000.000000  98000.000000  98000.000000   \n",
       "mean       0.001220      0.005580     -0.001042     -0.000700     -0.003522   \n",
       "std        1.002801      1.000742      1.001373      1.000422      1.003061   \n",
       "min       -4.732235     -4.202795     -4.377021     -4.010826     -4.535903   \n",
       "25%       -0.675226     -0.670985     -0.672779     -0.672540     -0.682510   \n",
       "50%        0.002022      0.006650     -0.000324     -0.003185     -0.003307   \n",
       "75%        0.677271      0.677746      0.677086      0.672097      0.677589   \n",
       "max        4.490521      4.324974      4.560247      4.399373      4.050549   \n",
       "\n",
       "               f_05          f_06          f_07          f_08          f_09  \\\n",
       "count  98000.000000  98000.000000  98000.000000  98000.000000  98000.000000   \n",
       "mean      -0.001612     -0.003042      5.545918      6.763061      8.193163   \n",
       "std        1.000532      0.997434      3.691840      4.152348      5.904919   \n",
       "min       -4.300767     -4.894525      0.000000      0.000000      0.000000   \n",
       "25%       -0.675066     -0.680421      3.000000      4.000000      4.000000   \n",
       "50%        0.001024     -0.002053      5.000000      6.000000      7.000000   \n",
       "75%        0.673344      0.668112      8.000000      9.000000     11.000000   \n",
       "max        4.710316      3.998595     32.000000     30.000000     44.000000   \n",
       "\n",
       "       ...          f_19          f_20          f_21          f_22  \\\n",
       "count  ...  98000.000000  98000.000000  98000.000000  98000.000000   \n",
       "mean   ...     -0.004513     -0.000515     -0.001670     -0.038752   \n",
       "std    ...      1.004372      1.002962      0.999703      1.477858   \n",
       "min    ...     -4.894525     -4.732235     -4.438130     -6.873999   \n",
       "25%    ...     -0.678773     -0.679777     -0.675147     -1.022964   \n",
       "50%    ...     -0.000587     -0.000806      0.000819     -0.056687   \n",
       "75%    ...      0.672149      0.675437      0.676881      0.930158   \n",
       "max    ...      4.560247      4.399373      4.135419      6.517721   \n",
       "\n",
       "               f_23          f_24          f_25          f_26          f_27  \\\n",
       "count  98000.000000  98000.000000  98000.000000  98000.000000  98000.000000   \n",
       "mean      -0.220002      0.166434     -0.064309     -0.062540      0.098472   \n",
       "std        1.494836      1.543014      1.576086      1.428055      1.305407   \n",
       "min       -8.234305     -7.792363     -6.593842     -7.375719     -7.335556   \n",
       "25%       -1.203204     -0.903385     -1.128966     -0.975680     -0.746489   \n",
       "50%       -0.219046      0.167074     -0.099221     -0.070852      0.082230   \n",
       "75%        0.764690      1.217432      0.987684      0.843212      0.925306   \n",
       "max        6.054831      7.527271      7.544731      7.005608      7.205971   \n",
       "\n",
       "               f_28  \n",
       "count  98000.000000  \n",
       "mean      -0.230910  \n",
       "std        1.528476  \n",
       "min       -6.954151  \n",
       "25%       -1.262606  \n",
       "50%       -0.271319  \n",
       "75%        0.770516  \n",
       "max        6.977150  \n",
       "\n",
       "[8 rows x 29 columns]"
      ]
     },
     "execution_count": 5,
     "metadata": {},
     "output_type": "execute_result"
    }
   ],
   "source": [
    "data.describe()"
   ]
  },
  {
   "cell_type": "code",
   "execution_count": 6,
   "id": "e70bb7ac",
   "metadata": {
    "execution": {
     "iopub.execute_input": "2022-07-29T20:50:03.537735Z",
     "iopub.status.busy": "2022-07-29T20:50:03.537166Z",
     "iopub.status.idle": "2022-07-29T20:50:03.561085Z",
     "shell.execute_reply": "2022-07-29T20:50:03.559609Z"
    },
    "papermill": {
     "duration": 0.037458,
     "end_time": "2022-07-29T20:50:03.563944",
     "exception": false,
     "start_time": "2022-07-29T20:50:03.526486",
     "status": "completed"
    },
    "tags": []
   },
   "outputs": [
    {
     "name": "stdout",
     "output_type": "stream",
     "text": [
      "<class 'pandas.core.frame.DataFrame'>\n",
      "Int64Index: 98000 entries, 0 to 97999\n",
      "Data columns (total 29 columns):\n",
      " #   Column  Non-Null Count  Dtype  \n",
      "---  ------  --------------  -----  \n",
      " 0   f_00    98000 non-null  float64\n",
      " 1   f_01    98000 non-null  float64\n",
      " 2   f_02    98000 non-null  float64\n",
      " 3   f_03    98000 non-null  float64\n",
      " 4   f_04    98000 non-null  float64\n",
      " 5   f_05    98000 non-null  float64\n",
      " 6   f_06    98000 non-null  float64\n",
      " 7   f_07    98000 non-null  int64  \n",
      " 8   f_08    98000 non-null  int64  \n",
      " 9   f_09    98000 non-null  int64  \n",
      " 10  f_10    98000 non-null  int64  \n",
      " 11  f_11    98000 non-null  int64  \n",
      " 12  f_12    98000 non-null  int64  \n",
      " 13  f_13    98000 non-null  int64  \n",
      " 14  f_14    98000 non-null  float64\n",
      " 15  f_15    98000 non-null  float64\n",
      " 16  f_16    98000 non-null  float64\n",
      " 17  f_17    98000 non-null  float64\n",
      " 18  f_18    98000 non-null  float64\n",
      " 19  f_19    98000 non-null  float64\n",
      " 20  f_20    98000 non-null  float64\n",
      " 21  f_21    98000 non-null  float64\n",
      " 22  f_22    98000 non-null  float64\n",
      " 23  f_23    98000 non-null  float64\n",
      " 24  f_24    98000 non-null  float64\n",
      " 25  f_25    98000 non-null  float64\n",
      " 26  f_26    98000 non-null  float64\n",
      " 27  f_27    98000 non-null  float64\n",
      " 28  f_28    98000 non-null  float64\n",
      "dtypes: float64(22), int64(7)\n",
      "memory usage: 22.4 MB\n"
     ]
    }
   ],
   "source": [
    "data.info()"
   ]
  },
  {
   "cell_type": "code",
   "execution_count": 7,
   "id": "9ea6b048",
   "metadata": {
    "execution": {
     "iopub.execute_input": "2022-07-29T20:50:03.594041Z",
     "iopub.status.busy": "2022-07-29T20:50:03.593605Z",
     "iopub.status.idle": "2022-07-29T20:50:03.606716Z",
     "shell.execute_reply": "2022-07-29T20:50:03.604877Z"
    },
    "papermill": {
     "duration": 0.031442,
     "end_time": "2022-07-29T20:50:03.609840",
     "exception": false,
     "start_time": "2022-07-29T20:50:03.578398",
     "status": "completed"
    },
    "tags": []
   },
   "outputs": [
    {
     "name": "stdout",
     "output_type": "stream",
     "text": [
      "MISSING VALUES:\n",
      "0\n"
     ]
    }
   ],
   "source": [
    "print('MISSING VALUES:')\n",
    "print(data.isna().sum().sum())"
   ]
  },
  {
   "cell_type": "code",
   "execution_count": 8,
   "id": "88c29e2e",
   "metadata": {
    "execution": {
     "iopub.execute_input": "2022-07-29T20:50:03.637727Z",
     "iopub.status.busy": "2022-07-29T20:50:03.637097Z",
     "iopub.status.idle": "2022-07-29T20:50:04.096587Z",
     "shell.execute_reply": "2022-07-29T20:50:04.095399Z"
    },
    "papermill": {
     "duration": 0.474742,
     "end_time": "2022-07-29T20:50:04.099054",
     "exception": false,
     "start_time": "2022-07-29T20:50:03.624312",
     "status": "completed"
    },
    "tags": []
   },
   "outputs": [
    {
     "name": "stdout",
     "output_type": "stream",
     "text": [
      "Duplicates in dataset: 0, (0.0%)\n"
     ]
    }
   ],
   "source": [
    "print(f'Duplicates in dataset: {data.duplicated().sum()}, ({np.round(100*data.duplicated().sum()/len(data),1)}%)')"
   ]
  },
  {
   "cell_type": "code",
   "execution_count": 9,
   "id": "601292c2",
   "metadata": {
    "execution": {
     "iopub.execute_input": "2022-07-29T20:50:04.119529Z",
     "iopub.status.busy": "2022-07-29T20:50:04.119108Z",
     "iopub.status.idle": "2022-07-29T20:50:04.127536Z",
     "shell.execute_reply": "2022-07-29T20:50:04.126390Z"
    },
    "papermill": {
     "duration": 0.021287,
     "end_time": "2022-07-29T20:50:04.129675",
     "exception": false,
     "start_time": "2022-07-29T20:50:04.108388",
     "status": "completed"
    },
    "tags": []
   },
   "outputs": [
    {
     "data": {
      "text/plain": [
       "f_00    float64\n",
       "f_01    float64\n",
       "f_02    float64\n",
       "f_03    float64\n",
       "f_04    float64\n",
       "f_05    float64\n",
       "f_06    float64\n",
       "f_07      int64\n",
       "f_08      int64\n",
       "f_09      int64\n",
       "f_10      int64\n",
       "f_11      int64\n",
       "f_12      int64\n",
       "f_13      int64\n",
       "f_14    float64\n",
       "f_15    float64\n",
       "f_16    float64\n",
       "f_17    float64\n",
       "f_18    float64\n",
       "f_19    float64\n",
       "f_20    float64\n",
       "f_21    float64\n",
       "f_22    float64\n",
       "f_23    float64\n",
       "f_24    float64\n",
       "f_25    float64\n",
       "f_26    float64\n",
       "f_27    float64\n",
       "f_28    float64\n",
       "dtype: object"
      ]
     },
     "execution_count": 9,
     "metadata": {},
     "output_type": "execute_result"
    }
   ],
   "source": [
    "data.dtypes"
   ]
  },
  {
   "cell_type": "markdown",
   "id": "9c2e5357",
   "metadata": {
    "papermill": {
     "duration": 0.008946,
     "end_time": "2022-07-29T20:50:04.147902",
     "exception": false,
     "start_time": "2022-07-29T20:50:04.138956",
     "status": "completed"
    },
    "tags": []
   },
   "source": [
    "# EDA and Visualization"
   ]
  },
  {
   "cell_type": "code",
   "execution_count": 10,
   "id": "47c9de4d",
   "metadata": {
    "execution": {
     "iopub.execute_input": "2022-07-29T20:50:04.168553Z",
     "iopub.status.busy": "2022-07-29T20:50:04.167819Z",
     "iopub.status.idle": "2022-07-29T20:50:05.991280Z",
     "shell.execute_reply": "2022-07-29T20:50:05.990123Z"
    },
    "papermill": {
     "duration": 1.836661,
     "end_time": "2022-07-29T20:50:05.993822",
     "exception": false,
     "start_time": "2022-07-29T20:50:04.157161",
     "status": "completed"
    },
    "tags": []
   },
   "outputs": [
    {
     "data": {
      "image/png": "[encoded data removed]",
      "text/plain": [
       "<Figure size 1080x1008 with 7 Axes>"
      ]
     },
     "metadata": {
      "needs_background": "light"
     },
     "output_type": "display_data"
    }
   ],
   "source": [
    "# Figure with subplots\n",
    "fig=plt.figure(figsize=(15,14))\n",
    "\n",
    "for i in range(7):\n",
    "    # New subplot\n",
    "    plt.subplot(4,2,i+1)\n",
    "    feat_num=i+7\n",
    "    sns.countplot(x=data.iloc[:,feat_num])\n",
    "    \n",
    "    # Aesthetics\n",
    "    plt.title(f'Feature: 0{feat_num}')\n",
    "    plt.xlim([-1,44])      # same scale for all plots\n",
    "    plt.ylim([0,11000])   # same scale for all plots\n",
    "    plt.xticks(np.arange(0,44,2))\n",
    "    plt.xlabel('')\n",
    "    \n",
    "# Overall aesthetics\n",
    "fig.suptitle('Discrete feature distributions',  size=20)\n",
    "fig.tight_layout()  # Improves appearance a bit\n",
    "plt.show()"
   ]
  },
  {
   "cell_type": "code",
   "execution_count": 11,
   "id": "94be1f03",
   "metadata": {
    "execution": {
     "iopub.execute_input": "2022-07-29T20:50:06.016411Z",
     "iopub.status.busy": "2022-07-29T20:50:06.015993Z",
     "iopub.status.idle": "2022-07-29T20:50:15.672316Z",
     "shell.execute_reply": "2022-07-29T20:50:15.671495Z"
    },
    "papermill": {
     "duration": 9.670469,
     "end_time": "2022-07-29T20:50:15.674679",
     "exception": false,
     "start_time": "2022-07-29T20:50:06.004210",
     "status": "completed"
    },
    "tags": []
   },
   "outputs": [
    {
     "data": {
      "image/png": "[encoded data removed]",
      "text/plain": [
       "<Figure size 1080x1008 with 22 Axes>"
      ]
     },
     "metadata": {
      "needs_background": "light"
     },
     "output_type": "display_data"
    }
   ],
   "source": [
    "cont_feats=[f'f_0{i}' for i in range(7)]\n",
    "cont_feats=cont_feats + [f'f_{i}' for i in range(14,29)]\n",
    "\n",
    "# Figure with subplots\n",
    "fig=plt.figure(figsize=(15,14))\n",
    "\n",
    "for i, f in enumerate(cont_feats):\n",
    "    # New subplot\n",
    "    plt.subplot(6,4,i+1)\n",
    "    sns.histplot(x=data[f], color=np.random.rand(3))\n",
    "    \n",
    "    # Aesthetics\n",
    "    plt.title(f'Feature: {f}')\n",
    "    plt.xlabel('')\n",
    "    \n",
    "# Overall aesthetics\n",
    "fig.suptitle('Continuous feature distributions',  size=20)\n",
    "fig.tight_layout()  # Improves appearance a bit\n",
    "plt.show()\n"
   ]
  },
  {
   "cell_type": "code",
   "execution_count": 12,
   "id": "6a2eb4b8",
   "metadata": {
    "execution": {
     "iopub.execute_input": "2022-07-29T20:50:15.700401Z",
     "iopub.status.busy": "2022-07-29T20:50:15.700012Z",
     "iopub.status.idle": "2022-07-29T20:50:23.994905Z",
     "shell.execute_reply": "2022-07-29T20:50:23.993429Z"
    },
    "papermill": {
     "duration": 8.310827,
     "end_time": "2022-07-29T20:50:23.997609",
     "exception": false,
     "start_time": "2022-07-29T20:50:15.686782",
     "status": "completed"
    },
    "tags": []
   },
   "outputs": [
    {
     "data": {
      "image/png": "[encoded data removed]",
      "text/plain": [
       "<Figure size 1152x864 with 29 Axes>"
      ]
     },
     "metadata": {
      "needs_background": "light"
     },
     "output_type": "display_data"
    }
   ],
   "source": [
    "figure = plt.figure(figsize = (16,12))\n",
    "for i in range(len(data.columns)):\n",
    "    \n",
    "    # Q-Q plot\n",
    "    ax = plt.subplot(6,5, i+1)\n",
    "    stats.probplot(data.iloc[:,i], dist='norm', plot=plt)\n",
    "    \n",
    "    # Aesthetics\n",
    "    ax.get_lines()[0].set_markersize(6.0)\n",
    "    ax.get_lines()[1].set_linewidth(3.0)\n",
    "    ax.set_xticklabels([])\n",
    "    ax.set_yticklabels([])\n",
    "    plt.title(data.columns[i])\n",
    "    \n",
    "figure.tight_layout(h_pad=1.0, w_pad=0.5)\n",
    "plt.suptitle('Normal Q-Q Charts', y=1.02, fontsize=20)\n",
    "plt.show()"
   ]
  },
  {
   "cell_type": "code",
   "execution_count": 13,
   "id": "d3d63570",
   "metadata": {
    "execution": {
     "iopub.execute_input": "2022-07-29T20:50:24.027930Z",
     "iopub.status.busy": "2022-07-29T20:50:24.027520Z",
     "iopub.status.idle": "2022-07-29T20:50:27.290867Z",
     "shell.execute_reply": "2022-07-29T20:50:27.289546Z"
    },
    "papermill": {
     "duration": 3.281159,
     "end_time": "2022-07-29T20:50:27.293196",
     "exception": false,
     "start_time": "2022-07-29T20:50:24.012037",
     "status": "completed"
    },
    "tags": []
   },
   "outputs": [
    {
     "data": {
      "image/png": "[encoded data removed]",
      "text/plain": [
       "<Figure size 1152x360 with 7 Axes>"
      ]
     },
     "metadata": {
      "needs_background": "light"
     },
     "output_type": "display_data"
    }
   ],
   "source": [
    "int_feats = ['f_07', 'f_08', 'f_09', 'f_10', 'f_11', 'f_12', 'f_13']\n",
    "\n",
    "\n",
    "# Poisson Q-Q plots\n",
    "figure = plt.figure(figsize = (16,5))\n",
    "for i, col in enumerate(int_feats):\n",
    "    \n",
    "    # Q-Q plot\n",
    "    ax = plt.subplot(2, 4, i+1)\n",
    "    mu = data[col].mean()\n",
    "    stats.probplot(data[col], dist='poisson', sparams=(mu,), plot=plt)\n",
    "    \n",
    "    # Aesthetics\n",
    "    ax.get_lines()[0].set_markersize(6.0)\n",
    "    ax.get_lines()[1].set_linewidth(3.0)\n",
    "    ax.set_xticklabels([])\n",
    "    ax.set_yticklabels([])\n",
    "    plt.title(col)\n",
    "    \n",
    "figure.tight_layout(h_pad=1.0, w_pad=0.5)\n",
    "plt.suptitle('Poisson Q-Q Charts', y=1.02, fontsize=20)\n",
    "plt.show()"
   ]
  },
  {
   "cell_type": "code",
   "execution_count": 14,
   "id": "ba8bf724",
   "metadata": {
    "execution": {
     "iopub.execute_input": "2022-07-29T20:50:27.324431Z",
     "iopub.status.busy": "2022-07-29T20:50:27.324049Z",
     "iopub.status.idle": "2022-07-29T20:50:28.221754Z",
     "shell.execute_reply": "2022-07-29T20:50:28.220794Z"
    },
    "papermill": {
     "duration": 0.916331,
     "end_time": "2022-07-29T20:50:28.224313",
     "exception": false,
     "start_time": "2022-07-29T20:50:27.307982",
     "status": "completed"
    },
    "tags": []
   },
   "outputs": [
    {
     "data": {
      "text/plain": [
       "Text(0.5, 1.0, 'Absolute correlations')"
      ]
     },
     "execution_count": 14,
     "metadata": {},
     "output_type": "execute_result"
    },
    {
     "data": {
      "image/png": "[encoded data removed]",
      "text/plain": [
       "<Figure size 1440x1080 with 2 Axes>"
      ]
     },
     "metadata": {
      "needs_background": "light"
     },
     "output_type": "display_data"
    }
   ],
   "source": [
    "# Heatmap of correlations\n",
    "plt.figure(figsize=(20, 15))\n",
    "sns.heatmap(data.corr().abs(), cmap='coolwarm', vmin=0, vmax=1)\n",
    "plt.title('Absolute correlations')"
   ]
  },
  {
   "cell_type": "code",
   "execution_count": 15,
   "id": "8515de9d",
   "metadata": {
    "execution": {
     "iopub.execute_input": "2022-07-29T20:50:28.257739Z",
     "iopub.status.busy": "2022-07-29T20:50:28.257323Z",
     "iopub.status.idle": "2022-07-29T20:51:47.166518Z",
     "shell.execute_reply": "2022-07-29T20:51:47.165217Z"
    },
    "papermill": {
     "duration": 78.941078,
     "end_time": "2022-07-29T20:51:47.181001",
     "exception": false,
     "start_time": "2022-07-29T20:50:28.239923",
     "status": "completed"
    },
    "tags": []
   },
   "outputs": [
    {
     "data": {
      "image/png": "[encoded data removed]",
      "text/plain": [
       "<Figure size 1152x432 with 1 Axes>"
      ]
     },
     "metadata": {
      "needs_background": "light"
     },
     "output_type": "display_data"
    }
   ],
   "source": [
    "inertias = []\n",
    "for k in range(1,30):\n",
    "    km = KMeans(n_clusters=k)\n",
    "    km.fit(data.iloc[:10000,:])\n",
    "    inertias.append(km.inertia_)\n",
    "\n",
    "# Plot inertias\n",
    "plt.figure(figsize=(16,6))\n",
    "plt.plot(range(1,30), inertias, 'bx-')\n",
    "plt.xlabel('Number of clusters, k')\n",
    "plt.ylabel('Inertia')\n",
    "plt.title('Elbow method')\n",
    "plt.show()"
   ]
  },
  {
   "cell_type": "code",
   "execution_count": 16,
   "id": "24bd4cec",
   "metadata": {
    "execution": {
     "iopub.execute_input": "2022-07-29T20:51:47.214590Z",
     "iopub.status.busy": "2022-07-29T20:51:47.214158Z",
     "iopub.status.idle": "2022-07-29T20:51:47.473630Z",
     "shell.execute_reply": "2022-07-29T20:51:47.472252Z"
    },
    "papermill": {
     "duration": 0.279521,
     "end_time": "2022-07-29T20:51:47.476307",
     "exception": false,
     "start_time": "2022-07-29T20:51:47.196786",
     "status": "completed"
    },
    "tags": []
   },
   "outputs": [
    {
     "name": "stderr",
     "output_type": "stream",
     "text": [
      "/opt/conda/lib/python3.7/site-packages/scipy/stats/morestats.py:1760: UserWarning: p-value may not be accurate for N > 5000.\n",
      "  warnings.warn(\"p-value may not be accurate for N > 5000.\")\n"
     ]
    },
    {
     "name": "stdout",
     "output_type": "stream",
     "text": [
      "Feature: f_00\t Hypothesis: \u001b[32mAccepted\u001b[0m\n",
      "Feature: f_01\t Hypothesis: \u001b[32mAccepted\u001b[0m\n",
      "Feature: f_02\t Hypothesis: \u001b[32mAccepted\u001b[0m\n",
      "Feature: f_03\t Hypothesis: \u001b[32mAccepted\u001b[0m\n",
      "Feature: f_04\t Hypothesis: \u001b[32mAccepted\u001b[0m\n",
      "Feature: f_05\t Hypothesis: \u001b[32mAccepted\u001b[0m\n",
      "Feature: f_06\t Hypothesis: \u001b[32mAccepted\u001b[0m\n",
      "Feature: f_07\t Hypothesis: \u001b[31mRejected\u001b[0m\n",
      "Feature: f_08\t Hypothesis: \u001b[31mRejected\u001b[0m\n",
      "Feature: f_09\t Hypothesis: \u001b[31mRejected\u001b[0m\n",
      "Feature: f_10\t Hypothesis: \u001b[31mRejected\u001b[0m\n",
      "Feature: f_11\t Hypothesis: \u001b[31mRejected\u001b[0m\n",
      "Feature: f_12\t Hypothesis: \u001b[31mRejected\u001b[0m\n",
      "Feature: f_13\t Hypothesis: \u001b[31mRejected\u001b[0m\n",
      "Feature: f_14\t Hypothesis: \u001b[32mAccepted\u001b[0m\n",
      "Feature: f_15\t Hypothesis: \u001b[32mAccepted\u001b[0m\n",
      "Feature: f_16\t Hypothesis: \u001b[32mAccepted\u001b[0m\n",
      "Feature: f_17\t Hypothesis: \u001b[32mAccepted\u001b[0m\n",
      "Feature: f_18\t Hypothesis: \u001b[32mAccepted\u001b[0m\n",
      "Feature: f_19\t Hypothesis: \u001b[32mAccepted\u001b[0m\n",
      "Feature: f_20\t Hypothesis: \u001b[32mAccepted\u001b[0m\n",
      "Feature: f_21\t Hypothesis: \u001b[32mAccepted\u001b[0m\n",
      "Feature: f_22\t Hypothesis: \u001b[31mRejected\u001b[0m\n",
      "Feature: f_23\t Hypothesis: \u001b[31mRejected\u001b[0m\n",
      "Feature: f_24\t Hypothesis: \u001b[31mRejected\u001b[0m\n",
      "Feature: f_25\t Hypothesis: \u001b[31mRejected\u001b[0m\n",
      "Feature: f_26\t Hypothesis: \u001b[31mRejected\u001b[0m\n",
      "Feature: f_27\t Hypothesis: \u001b[31mRejected\u001b[0m\n",
      "Feature: f_28\t Hypothesis: \u001b[31mRejected\u001b[0m\n"
     ]
    }
   ],
   "source": [
    "for col in data.columns:\n",
    "    stat, p_value = shapiro(data[col])\n",
    "    alpha = 0.05    # significance level\n",
    "    if p_value > alpha: \n",
    "        result = colored('Accepted', 'green')  \n",
    "    else:\n",
    "        result = colored('Rejected','red')        \n",
    "    print('Feature: {}\\t Hypothesis: {}'.format(col, result))"
   ]
  },
  {
   "cell_type": "code",
   "execution_count": 17,
   "id": "d45a9a05",
   "metadata": {
    "execution": {
     "iopub.execute_input": "2022-07-29T20:51:47.510130Z",
     "iopub.status.busy": "2022-07-29T20:51:47.509746Z",
     "iopub.status.idle": "2022-07-29T20:51:47.533438Z",
     "shell.execute_reply": "2022-07-29T20:51:47.532300Z"
    },
    "papermill": {
     "duration": 0.043581,
     "end_time": "2022-07-29T20:51:47.535902",
     "exception": false,
     "start_time": "2022-07-29T20:51:47.492321",
     "status": "completed"
    },
    "tags": []
   },
   "outputs": [
    {
     "name": "stdout",
     "output_type": "stream",
     "text": [
      "Feature: f_07\t Hypothesis: \u001b[31mRejected\u001b[0m\n",
      "Feature: f_08\t Hypothesis: \u001b[31mRejected\u001b[0m\n",
      "Feature: f_09\t Hypothesis: \u001b[31mRejected\u001b[0m\n",
      "Feature: f_10\t Hypothesis: \u001b[31mRejected\u001b[0m\n",
      "Feature: f_11\t Hypothesis: \u001b[31mRejected\u001b[0m\n",
      "Feature: f_12\t Hypothesis: \u001b[31mRejected\u001b[0m\n",
      "Feature: f_13\t Hypothesis: \u001b[31mRejected\u001b[0m\n"
     ]
    }
   ],
   "source": [
    "# Discrete features to test\n",
    "int_feats = ['f_07', 'f_08', 'f_09', 'f_10', 'f_11', 'f_12', 'f_13']\n",
    "\n",
    "# Univariate poisson test\n",
    "for col in data[int_feats].columns:\n",
    "    # Parameters\n",
    "    alpha = 0.05                  # significance level\n",
    "    n = len(data[col])            # sample size\n",
    "    df = n-1                      # degrees of freedom\n",
    "    \n",
    "    # Statistics\n",
    "    mu = data[col].mean()               # sample mean\n",
    "    D = ((data[col]-mu)**2).sum()/mu    # test statistic\n",
    "    \n",
    "    # Two-tailed test\n",
    "    q_lower = alpha/2\n",
    "    q_upper = (1-alpha)/2\n",
    "    \n",
    "    # percentile point function = inverse of cdata\n",
    "    chi2_crit_lower = chi2.ppf(q_lower, df)\n",
    "    chi2_crit_upper = chi2.ppf(q_upper, df)\n",
    "    \n",
    "    if (D<chi2_crit_lower) or (D>chi2_crit_upper):\n",
    "        result = colored('Rejected', 'red')\n",
    "    else:\n",
    "        result = colored('Accepted', 'green')\n",
    "    print('Feature: {}\\t Hypothesis: {}'.format(col, result))\n",
    "    #print('D:',int(D),', chi2_crit_lower:',int(chi2_crit_lower),', chi2_crit_upper:',int(chi2_crit_upper),'\\n')"
   ]
  },
  {
   "cell_type": "code",
   "execution_count": 18,
   "id": "8005df9c",
   "metadata": {
    "execution": {
     "iopub.execute_input": "2022-07-29T20:51:47.570188Z",
     "iopub.status.busy": "2022-07-29T20:51:47.569147Z",
     "iopub.status.idle": "2022-07-29T20:51:47.624208Z",
     "shell.execute_reply": "2022-07-29T20:51:47.623164Z"
    },
    "papermill": {
     "duration": 0.075001,
     "end_time": "2022-07-29T20:51:47.626794",
     "exception": false,
     "start_time": "2022-07-29T20:51:47.551793",
     "status": "completed"
    },
    "tags": []
   },
   "outputs": [],
   "source": [
    "best_cols =['f_07','f_08', 'f_09', 'f_10','f_11', 'f_12', 'f_13', 'f_22','f_23', 'f_24', 'f_25','f_26','f_27', 'f_28']\n",
    "int_cols=['f_07','f_08', 'f_09', 'f_10','f_11', 'f_12', 'f_13']\n",
    "float_cols=[col for col in best_cols if col not in int_cols]\n",
    "\n",
    "def iqr_outliers(df,col_list):\n",
    "    for col in col_list:\n",
    "        q1 = df[col].quantile(0.25)\n",
    "        q3 = df[col].quantile(0.75)\n",
    "        iqr = q3-q1\n",
    "        Lower_tail = q1 - 2 * iqr\n",
    "        Upper_tail = q3 + 2 * iqr\n",
    "        df.loc[df[col] > Upper_tail,col ]=Upper_tail\n",
    "        df.loc[df[col] < Lower_tail,col]=Lower_tail\n",
    "    return df\n",
    "\n",
    "\n",
    "train=iqr_outliers(data,float_cols)"
   ]
  },
  {
   "cell_type": "code",
   "execution_count": 19,
   "id": "3ad2fdf7",
   "metadata": {
    "execution": {
     "iopub.execute_input": "2022-07-29T20:51:47.661580Z",
     "iopub.status.busy": "2022-07-29T20:51:47.660844Z",
     "iopub.status.idle": "2022-07-29T20:51:47.687359Z",
     "shell.execute_reply": "2022-07-29T20:51:47.686076Z"
    },
    "papermill": {
     "duration": 0.046543,
     "end_time": "2022-07-29T20:51:47.689775",
     "exception": false,
     "start_time": "2022-07-29T20:51:47.643232",
     "status": "completed"
    },
    "tags": []
   },
   "outputs": [
    {
     "data": {
      "text/html": [
       "<div>\n",
       "<style scoped>\n",
       "    .dataframe tbody tr th:only-of-type {\n",
       "        vertical-align: middle;\n",
       "    }\n",
       "\n",
       "    .dataframe tbody tr th {\n",
       "        vertical-align: top;\n",
       "    }\n",
       "\n",
       "    .dataframe thead th {\n",
       "        text-align: right;\n",
       "    }\n",
       "</style>\n",
       "<table border=\"1\" class=\"dataframe\">\n",
       "  <thead>\n",
       "    <tr style=\"text-align: right;\">\n",
       "      <th></th>\n",
       "      <th>f_00</th>\n",
       "      <th>f_01</th>\n",
       "      <th>f_02</th>\n",
       "      <th>f_03</th>\n",
       "      <th>f_04</th>\n",
       "      <th>f_05</th>\n",
       "      <th>f_06</th>\n",
       "      <th>f_07</th>\n",
       "      <th>f_08</th>\n",
       "      <th>f_09</th>\n",
       "      <th>...</th>\n",
       "      <th>f_19</th>\n",
       "      <th>f_20</th>\n",
       "      <th>f_21</th>\n",
       "      <th>f_22</th>\n",
       "      <th>f_23</th>\n",
       "      <th>f_24</th>\n",
       "      <th>f_25</th>\n",
       "      <th>f_26</th>\n",
       "      <th>f_27</th>\n",
       "      <th>f_28</th>\n",
       "    </tr>\n",
       "    <tr>\n",
       "      <th>id</th>\n",
       "      <th></th>\n",
       "      <th></th>\n",
       "      <th></th>\n",
       "      <th></th>\n",
       "      <th></th>\n",
       "      <th></th>\n",
       "      <th></th>\n",
       "      <th></th>\n",
       "      <th></th>\n",
       "      <th></th>\n",
       "      <th></th>\n",
       "      <th></th>\n",
       "      <th></th>\n",
       "      <th></th>\n",
       "      <th></th>\n",
       "      <th></th>\n",
       "      <th></th>\n",
       "      <th></th>\n",
       "      <th></th>\n",
       "      <th></th>\n",
       "      <th></th>\n",
       "    </tr>\n",
       "  </thead>\n",
       "  <tbody>\n",
       "    <tr>\n",
       "      <th>0</th>\n",
       "      <td>-0.389420</td>\n",
       "      <td>-0.912791</td>\n",
       "      <td>0.648951</td>\n",
       "      <td>0.589045</td>\n",
       "      <td>-0.830817</td>\n",
       "      <td>0.733624</td>\n",
       "      <td>2.258560</td>\n",
       "      <td>2</td>\n",
       "      <td>13</td>\n",
       "      <td>14</td>\n",
       "      <td>...</td>\n",
       "      <td>-0.478412</td>\n",
       "      <td>-0.757002</td>\n",
       "      <td>-0.763635</td>\n",
       "      <td>-1.090369</td>\n",
       "      <td>1.142641</td>\n",
       "      <td>-0.884274</td>\n",
       "      <td>1.137896</td>\n",
       "      <td>1.309073</td>\n",
       "      <td>1.463002</td>\n",
       "      <td>0.813527</td>\n",
       "    </tr>\n",
       "    <tr>\n",
       "      <th>1</th>\n",
       "      <td>-0.689249</td>\n",
       "      <td>-0.453954</td>\n",
       "      <td>0.654175</td>\n",
       "      <td>0.995248</td>\n",
       "      <td>-1.653020</td>\n",
       "      <td>0.863810</td>\n",
       "      <td>-0.090651</td>\n",
       "      <td>2</td>\n",
       "      <td>3</td>\n",
       "      <td>6</td>\n",
       "      <td>...</td>\n",
       "      <td>-0.428791</td>\n",
       "      <td>-0.089908</td>\n",
       "      <td>-1.784204</td>\n",
       "      <td>-0.839474</td>\n",
       "      <td>0.459685</td>\n",
       "      <td>1.759412</td>\n",
       "      <td>-0.275422</td>\n",
       "      <td>-0.852168</td>\n",
       "      <td>0.562457</td>\n",
       "      <td>-2.680541</td>\n",
       "    </tr>\n",
       "    <tr>\n",
       "      <th>2</th>\n",
       "      <td>0.809079</td>\n",
       "      <td>0.324568</td>\n",
       "      <td>-1.170602</td>\n",
       "      <td>-0.624491</td>\n",
       "      <td>0.105448</td>\n",
       "      <td>0.783948</td>\n",
       "      <td>1.988301</td>\n",
       "      <td>5</td>\n",
       "      <td>11</td>\n",
       "      <td>5</td>\n",
       "      <td>...</td>\n",
       "      <td>-0.413534</td>\n",
       "      <td>-1.602377</td>\n",
       "      <td>1.190984</td>\n",
       "      <td>3.267116</td>\n",
       "      <td>-0.088322</td>\n",
       "      <td>-2.168635</td>\n",
       "      <td>-0.974989</td>\n",
       "      <td>1.335763</td>\n",
       "      <td>-1.110655</td>\n",
       "      <td>-3.630723</td>\n",
       "    </tr>\n",
       "    <tr>\n",
       "      <th>3</th>\n",
       "      <td>-0.500923</td>\n",
       "      <td>0.229049</td>\n",
       "      <td>0.264109</td>\n",
       "      <td>0.231520</td>\n",
       "      <td>0.415012</td>\n",
       "      <td>-1.221269</td>\n",
       "      <td>0.138850</td>\n",
       "      <td>6</td>\n",
       "      <td>2</td>\n",
       "      <td>13</td>\n",
       "      <td>...</td>\n",
       "      <td>0.619283</td>\n",
       "      <td>1.287801</td>\n",
       "      <td>0.532837</td>\n",
       "      <td>1.036631</td>\n",
       "      <td>-2.041828</td>\n",
       "      <td>1.440490</td>\n",
       "      <td>-1.900191</td>\n",
       "      <td>-0.630771</td>\n",
       "      <td>-0.050641</td>\n",
       "      <td>0.238333</td>\n",
       "    </tr>\n",
       "    <tr>\n",
       "      <th>4</th>\n",
       "      <td>-0.671268</td>\n",
       "      <td>-1.039533</td>\n",
       "      <td>-0.270155</td>\n",
       "      <td>-1.830264</td>\n",
       "      <td>-0.290108</td>\n",
       "      <td>-1.852809</td>\n",
       "      <td>0.781898</td>\n",
       "      <td>8</td>\n",
       "      <td>7</td>\n",
       "      <td>5</td>\n",
       "      <td>...</td>\n",
       "      <td>-1.628830</td>\n",
       "      <td>-0.434948</td>\n",
       "      <td>0.322505</td>\n",
       "      <td>0.284326</td>\n",
       "      <td>-2.438365</td>\n",
       "      <td>1.473930</td>\n",
       "      <td>-1.044684</td>\n",
       "      <td>1.602686</td>\n",
       "      <td>-0.405263</td>\n",
       "      <td>-1.987263</td>\n",
       "    </tr>\n",
       "  </tbody>\n",
       "</table>\n",
       "<p>5 rows × 29 columns</p>\n",
       "</div>"
      ],
      "text/plain": [
       "        f_00      f_01      f_02      f_03      f_04      f_05      f_06  \\\n",
       "id                                                                         \n",
       "0  -0.389420 -0.912791  0.648951  0.589045 -0.830817  0.733624  2.258560   \n",
       "1  -0.689249 -0.453954  0.654175  0.995248 -1.653020  0.863810 -0.090651   \n",
       "2   0.809079  0.324568 -1.170602 -0.624491  0.105448  0.783948  1.988301   \n",
       "3  -0.500923  0.229049  0.264109  0.231520  0.415012 -1.221269  0.138850   \n",
       "4  -0.671268 -1.039533 -0.270155 -1.830264 -0.290108 -1.852809  0.781898   \n",
       "\n",
       "    f_07  f_08  f_09  ...      f_19      f_20      f_21      f_22      f_23  \\\n",
       "id                    ...                                                     \n",
       "0      2    13    14  ... -0.478412 -0.757002 -0.763635 -1.090369  1.142641   \n",
       "1      2     3     6  ... -0.428791 -0.089908 -1.784204 -0.839474  0.459685   \n",
       "2      5    11     5  ... -0.413534 -1.602377  1.190984  3.267116 -0.088322   \n",
       "3      6     2    13  ...  0.619283  1.287801  0.532837  1.036631 -2.041828   \n",
       "4      8     7     5  ... -1.628830 -0.434948  0.322505  0.284326 -2.438365   \n",
       "\n",
       "        f_24      f_25      f_26      f_27      f_28  \n",
       "id                                                    \n",
       "0  -0.884274  1.137896  1.309073  1.463002  0.813527  \n",
       "1   1.759412 -0.275422 -0.852168  0.562457 -2.680541  \n",
       "2  -2.168635 -0.974989  1.335763 -1.110655 -3.630723  \n",
       "3   1.440490 -1.900191 -0.630771 -0.050641  0.238333  \n",
       "4   1.473930 -1.044684  1.602686 -0.405263 -1.987263  \n",
       "\n",
       "[5 rows x 29 columns]"
      ]
     },
     "execution_count": 19,
     "metadata": {},
     "output_type": "execute_result"
    }
   ],
   "source": [
    "train.head()"
   ]
  },
  {
   "cell_type": "code",
   "execution_count": 20,
   "id": "d960e63a",
   "metadata": {
    "execution": {
     "iopub.execute_input": "2022-07-29T20:51:47.725272Z",
     "iopub.status.busy": "2022-07-29T20:51:47.724885Z",
     "iopub.status.idle": "2022-07-29T20:51:49.453915Z",
     "shell.execute_reply": "2022-07-29T20:51:49.452527Z"
    },
    "papermill": {
     "duration": 1.750293,
     "end_time": "2022-07-29T20:51:49.456838",
     "exception": false,
     "start_time": "2022-07-29T20:51:47.706545",
     "status": "completed"
    },
    "tags": []
   },
   "outputs": [],
   "source": [
    "train_scaled=train.copy()\n",
    "train_scaled[best_cols]= PowerTransformer().fit_transform(train_scaled[best_cols])\n",
    "train_scaled[best_cols]= MinMaxScaler().fit_transform(train_scaled[best_cols])"
   ]
  },
  {
   "cell_type": "code",
   "execution_count": 21,
   "id": "1a58e796",
   "metadata": {
    "execution": {
     "iopub.execute_input": "2022-07-29T20:51:49.491856Z",
     "iopub.status.busy": "2022-07-29T20:51:49.491057Z",
     "iopub.status.idle": "2022-07-29T20:51:49.517398Z",
     "shell.execute_reply": "2022-07-29T20:51:49.516343Z"
    },
    "papermill": {
     "duration": 0.046148,
     "end_time": "2022-07-29T20:51:49.519419",
     "exception": false,
     "start_time": "2022-07-29T20:51:49.473271",
     "status": "completed"
    },
    "tags": []
   },
   "outputs": [
    {
     "data": {
      "text/html": [
       "<div>\n",
       "<style scoped>\n",
       "    .dataframe tbody tr th:only-of-type {\n",
       "        vertical-align: middle;\n",
       "    }\n",
       "\n",
       "    .dataframe tbody tr th {\n",
       "        vertical-align: top;\n",
       "    }\n",
       "\n",
       "    .dataframe thead th {\n",
       "        text-align: right;\n",
       "    }\n",
       "</style>\n",
       "<table border=\"1\" class=\"dataframe\">\n",
       "  <thead>\n",
       "    <tr style=\"text-align: right;\">\n",
       "      <th></th>\n",
       "      <th>f_00</th>\n",
       "      <th>f_01</th>\n",
       "      <th>f_02</th>\n",
       "      <th>f_03</th>\n",
       "      <th>f_04</th>\n",
       "      <th>f_05</th>\n",
       "      <th>f_06</th>\n",
       "      <th>f_07</th>\n",
       "      <th>f_08</th>\n",
       "      <th>f_09</th>\n",
       "      <th>...</th>\n",
       "      <th>f_19</th>\n",
       "      <th>f_20</th>\n",
       "      <th>f_21</th>\n",
       "      <th>f_22</th>\n",
       "      <th>f_23</th>\n",
       "      <th>f_24</th>\n",
       "      <th>f_25</th>\n",
       "      <th>f_26</th>\n",
       "      <th>f_27</th>\n",
       "      <th>f_28</th>\n",
       "    </tr>\n",
       "    <tr>\n",
       "      <th>id</th>\n",
       "      <th></th>\n",
       "      <th></th>\n",
       "      <th></th>\n",
       "      <th></th>\n",
       "      <th></th>\n",
       "      <th></th>\n",
       "      <th></th>\n",
       "      <th></th>\n",
       "      <th></th>\n",
       "      <th></th>\n",
       "      <th></th>\n",
       "      <th></th>\n",
       "      <th></th>\n",
       "      <th></th>\n",
       "      <th></th>\n",
       "      <th></th>\n",
       "      <th></th>\n",
       "      <th></th>\n",
       "      <th></th>\n",
       "      <th></th>\n",
       "      <th></th>\n",
       "    </tr>\n",
       "  </thead>\n",
       "  <tbody>\n",
       "    <tr>\n",
       "      <th>0</th>\n",
       "      <td>-0.389420</td>\n",
       "      <td>-0.912791</td>\n",
       "      <td>0.648951</td>\n",
       "      <td>0.589045</td>\n",
       "      <td>-0.830817</td>\n",
       "      <td>0.733624</td>\n",
       "      <td>2.258560</td>\n",
       "      <td>0.175151</td>\n",
       "      <td>0.588714</td>\n",
       "      <td>0.586435</td>\n",
       "      <td>...</td>\n",
       "      <td>-0.478412</td>\n",
       "      <td>-0.757002</td>\n",
       "      <td>-0.763635</td>\n",
       "      <td>0.404753</td>\n",
       "      <td>0.638146</td>\n",
       "      <td>0.406952</td>\n",
       "      <td>0.632694</td>\n",
       "      <td>0.655791</td>\n",
       "      <td>0.677505</td>\n",
       "      <td>0.628052</td>\n",
       "    </tr>\n",
       "    <tr>\n",
       "      <th>1</th>\n",
       "      <td>-0.689249</td>\n",
       "      <td>-0.453954</td>\n",
       "      <td>0.654175</td>\n",
       "      <td>0.995248</td>\n",
       "      <td>-1.653020</td>\n",
       "      <td>0.863810</td>\n",
       "      <td>-0.090651</td>\n",
       "      <td>0.175151</td>\n",
       "      <td>0.208920</td>\n",
       "      <td>0.370471</td>\n",
       "      <td>...</td>\n",
       "      <td>-0.428791</td>\n",
       "      <td>-0.089908</td>\n",
       "      <td>-1.784204</td>\n",
       "      <td>0.430814</td>\n",
       "      <td>0.568713</td>\n",
       "      <td>0.655737</td>\n",
       "      <td>0.500832</td>\n",
       "      <td>0.418572</td>\n",
       "      <td>0.571967</td>\n",
       "      <td>0.278010</td>\n",
       "    </tr>\n",
       "    <tr>\n",
       "      <th>2</th>\n",
       "      <td>0.809079</td>\n",
       "      <td>0.324568</td>\n",
       "      <td>-1.170602</td>\n",
       "      <td>-0.624491</td>\n",
       "      <td>0.105448</td>\n",
       "      <td>0.783948</td>\n",
       "      <td>1.988301</td>\n",
       "      <td>0.335412</td>\n",
       "      <td>0.527220</td>\n",
       "      <td>0.332528</td>\n",
       "      <td>...</td>\n",
       "      <td>-0.413534</td>\n",
       "      <td>-1.602377</td>\n",
       "      <td>1.190984</td>\n",
       "      <td>0.845087</td>\n",
       "      <td>0.513011</td>\n",
       "      <td>0.284756</td>\n",
       "      <td>0.433763</td>\n",
       "      <td>0.658701</td>\n",
       "      <td>0.370488</td>\n",
       "      <td>0.179035</td>\n",
       "    </tr>\n",
       "    <tr>\n",
       "      <th>3</th>\n",
       "      <td>-0.500923</td>\n",
       "      <td>0.229049</td>\n",
       "      <td>0.264109</td>\n",
       "      <td>0.231520</td>\n",
       "      <td>0.415012</td>\n",
       "      <td>-1.221269</td>\n",
       "      <td>0.138850</td>\n",
       "      <td>0.377866</td>\n",
       "      <td>0.152067</td>\n",
       "      <td>0.564770</td>\n",
       "      <td>...</td>\n",
       "      <td>0.619283</td>\n",
       "      <td>1.287801</td>\n",
       "      <td>0.532837</td>\n",
       "      <td>0.622495</td>\n",
       "      <td>0.314536</td>\n",
       "      <td>0.625911</td>\n",
       "      <td>0.343819</td>\n",
       "      <td>0.443040</td>\n",
       "      <td>0.499071</td>\n",
       "      <td>0.572794</td>\n",
       "    </tr>\n",
       "    <tr>\n",
       "      <th>4</th>\n",
       "      <td>-0.671268</td>\n",
       "      <td>-1.039533</td>\n",
       "      <td>-0.270155</td>\n",
       "      <td>-1.830264</td>\n",
       "      <td>-0.290108</td>\n",
       "      <td>-1.852809</td>\n",
       "      <td>0.781898</td>\n",
       "      <td>0.453268</td>\n",
       "      <td>0.387645</td>\n",
       "      <td>0.332528</td>\n",
       "      <td>...</td>\n",
       "      <td>-1.628830</td>\n",
       "      <td>-0.434948</td>\n",
       "      <td>0.322505</td>\n",
       "      <td>0.546364</td>\n",
       "      <td>0.274258</td>\n",
       "      <td>0.629040</td>\n",
       "      <td>0.427031</td>\n",
       "      <td>0.687786</td>\n",
       "      <td>0.456364</td>\n",
       "      <td>0.349529</td>\n",
       "    </tr>\n",
       "  </tbody>\n",
       "</table>\n",
       "<p>5 rows × 29 columns</p>\n",
       "</div>"
      ],
      "text/plain": [
       "        f_00      f_01      f_02      f_03      f_04      f_05      f_06  \\\n",
       "id                                                                         \n",
       "0  -0.389420 -0.912791  0.648951  0.589045 -0.830817  0.733624  2.258560   \n",
       "1  -0.689249 -0.453954  0.654175  0.995248 -1.653020  0.863810 -0.090651   \n",
       "2   0.809079  0.324568 -1.170602 -0.624491  0.105448  0.783948  1.988301   \n",
       "3  -0.500923  0.229049  0.264109  0.231520  0.415012 -1.221269  0.138850   \n",
       "4  -0.671268 -1.039533 -0.270155 -1.830264 -0.290108 -1.852809  0.781898   \n",
       "\n",
       "        f_07      f_08      f_09  ...      f_19      f_20      f_21      f_22  \\\n",
       "id                                ...                                           \n",
       "0   0.175151  0.588714  0.586435  ... -0.478412 -0.757002 -0.763635  0.404753   \n",
       "1   0.175151  0.208920  0.370471  ... -0.428791 -0.089908 -1.784204  0.430814   \n",
       "2   0.335412  0.527220  0.332528  ... -0.413534 -1.602377  1.190984  0.845087   \n",
       "3   0.377866  0.152067  0.564770  ...  0.619283  1.287801  0.532837  0.622495   \n",
       "4   0.453268  0.387645  0.332528  ... -1.628830 -0.434948  0.322505  0.546364   \n",
       "\n",
       "        f_23      f_24      f_25      f_26      f_27      f_28  \n",
       "id                                                              \n",
       "0   0.638146  0.406952  0.632694  0.655791  0.677505  0.628052  \n",
       "1   0.568713  0.655737  0.500832  0.418572  0.571967  0.278010  \n",
       "2   0.513011  0.284756  0.433763  0.658701  0.370488  0.179035  \n",
       "3   0.314536  0.625911  0.343819  0.443040  0.499071  0.572794  \n",
       "4   0.274258  0.629040  0.427031  0.687786  0.456364  0.349529  \n",
       "\n",
       "[5 rows x 29 columns]"
      ]
     },
     "execution_count": 21,
     "metadata": {},
     "output_type": "execute_result"
    }
   ],
   "source": [
    "train_scaled.head()"
   ]
  },
  {
   "cell_type": "code",
   "execution_count": 22,
   "id": "a15c8eab",
   "metadata": {
    "execution": {
     "iopub.execute_input": "2022-07-29T20:51:49.555020Z",
     "iopub.status.busy": "2022-07-29T20:51:49.554323Z",
     "iopub.status.idle": "2022-07-29T20:51:49.559246Z",
     "shell.execute_reply": "2022-07-29T20:51:49.558212Z"
    },
    "papermill": {
     "duration": 0.025527,
     "end_time": "2022-07-29T20:51:49.561738",
     "exception": false,
     "start_time": "2022-07-29T20:51:49.536211",
     "status": "completed"
    },
    "tags": []
   },
   "outputs": [],
   "source": [
    "N_cluster=7"
   ]
  },
  {
   "cell_type": "code",
   "execution_count": 23,
   "id": "0abbdb5b",
   "metadata": {
    "execution": {
     "iopub.execute_input": "2022-07-29T20:51:49.597235Z",
     "iopub.status.busy": "2022-07-29T20:51:49.596452Z",
     "iopub.status.idle": "2022-07-29T20:54:19.914841Z",
     "shell.execute_reply": "2022-07-29T20:54:19.913551Z"
    },
    "papermill": {
     "duration": 150.356561,
     "end_time": "2022-07-29T20:54:19.934956",
     "exception": false,
     "start_time": "2022-07-29T20:51:49.578395",
     "status": "completed"
    },
    "tags": []
   },
   "outputs": [
    {
     "name": "stdout",
     "output_type": "stream",
     "text": [
      "0.742\n"
     ]
    }
   ],
   "source": [
    "BGM = BayesianGaussianMixture(n_components=N_cluster,covariance_type='full', max_iter=300, random_state=1,n_init = 5)\n",
    "BGM.fit(train_scaled[best_cols])\n",
    "\n",
    "predict=BGM.predict(train_scaled[best_cols])\n",
    "proba=BGM.predict_proba(train_scaled[best_cols])\n",
    "\n",
    "train_scaled['predict']=predict\n",
    "train_scaled['predict_proba']=np.max(proba, axis=1) \n",
    "\n",
    "train_index=train_scaled[train_scaled.predict_proba > 0.7].index\n",
    "print(round(len(train_index)/len(train),3))"
   ]
  },
  {
   "cell_type": "code",
   "execution_count": 24,
   "id": "74d78bc5",
   "metadata": {
    "execution": {
     "iopub.execute_input": "2022-07-29T20:54:19.971052Z",
     "iopub.status.busy": "2022-07-29T20:54:19.970618Z",
     "iopub.status.idle": "2022-07-29T21:02:11.535925Z",
     "shell.execute_reply": "2022-07-29T21:02:11.534831Z"
    },
    "papermill": {
     "duration": 471.586454,
     "end_time": "2022-07-29T21:02:11.538622",
     "exception": false,
     "start_time": "2022-07-29T20:54:19.952168",
     "status": "completed"
    },
    "tags": []
   },
   "outputs": [
    {
     "name": "stdout",
     "output_type": "stream",
     "text": [
      "Training until validation scores don't improve for 300 rounds\n",
      "[200]\tvalid_0's multi_logloss: 0.0420353\n",
      "[400]\tvalid_0's multi_logloss: 0.0253648\n",
      "[600]\tvalid_0's multi_logloss: 0.022281\n",
      "[800]\tvalid_0's multi_logloss: 0.0221204\n",
      "[1000]\tvalid_0's multi_logloss: 0.022443\n",
      "Early stopping, best iteration is:\n",
      "[778]\tvalid_0's multi_logloss: 0.0219442\n",
      "Training until validation scores don't improve for 300 rounds\n",
      "[200]\tvalid_0's multi_logloss: 0.0381044\n",
      "[400]\tvalid_0's multi_logloss: 0.0219534\n",
      "[600]\tvalid_0's multi_logloss: 0.0187407\n",
      "[800]\tvalid_0's multi_logloss: 0.0179452\n",
      "[1000]\tvalid_0's multi_logloss: 0.018651\n",
      "Early stopping, best iteration is:\n",
      "[810]\tvalid_0's multi_logloss: 0.0178339\n",
      "Training until validation scores don't improve for 300 rounds\n",
      "[200]\tvalid_0's multi_logloss: 0.0403228\n",
      "[400]\tvalid_0's multi_logloss: 0.0232848\n",
      "[600]\tvalid_0's multi_logloss: 0.0198201\n",
      "[800]\tvalid_0's multi_logloss: 0.0198825\n",
      "Early stopping, best iteration is:\n",
      "[699]\tvalid_0's multi_logloss: 0.0195429\n",
      "Training until validation scores don't improve for 300 rounds\n",
      "[200]\tvalid_0's multi_logloss: 0.0387828\n",
      "[400]\tvalid_0's multi_logloss: 0.021402\n",
      "[600]\tvalid_0's multi_logloss: 0.0174622\n",
      "[800]\tvalid_0's multi_logloss: 0.016775\n",
      "[1000]\tvalid_0's multi_logloss: 0.0176029\n",
      "Early stopping, best iteration is:\n",
      "[756]\tvalid_0's multi_logloss: 0.0166377\n",
      "Training until validation scores don't improve for 300 rounds\n",
      "[200]\tvalid_0's multi_logloss: 0.0425437\n",
      "[400]\tvalid_0's multi_logloss: 0.0259143\n",
      "[600]\tvalid_0's multi_logloss: 0.0234545\n",
      "[800]\tvalid_0's multi_logloss: 0.023463\n",
      "[1000]\tvalid_0's multi_logloss: 0.024386\n",
      "Early stopping, best iteration is:\n",
      "[757]\tvalid_0's multi_logloss: 0.0231699\n",
      "Training until validation scores don't improve for 300 rounds\n",
      "[200]\tvalid_0's multi_logloss: 0.038998\n",
      "[400]\tvalid_0's multi_logloss: 0.0228816\n",
      "[600]\tvalid_0's multi_logloss: 0.0200626\n",
      "[800]\tvalid_0's multi_logloss: 0.0197285\n",
      "[1000]\tvalid_0's multi_logloss: 0.0209291\n",
      "Early stopping, best iteration is:\n",
      "[755]\tvalid_0's multi_logloss: 0.0195303\n",
      "Training until validation scores don't improve for 300 rounds\n",
      "[200]\tvalid_0's multi_logloss: 0.0411968\n",
      "[400]\tvalid_0's multi_logloss: 0.0241701\n",
      "[600]\tvalid_0's multi_logloss: 0.021088\n",
      "[800]\tvalid_0's multi_logloss: 0.0207243\n",
      "[1000]\tvalid_0's multi_logloss: 0.0212927\n",
      "Early stopping, best iteration is:\n",
      "[749]\tvalid_0's multi_logloss: 0.0204818\n",
      "Training until validation scores don't improve for 300 rounds\n",
      "[200]\tvalid_0's multi_logloss: 0.0380929\n",
      "[400]\tvalid_0's multi_logloss: 0.0213411\n",
      "[600]\tvalid_0's multi_logloss: 0.0179527\n",
      "[800]\tvalid_0's multi_logloss: 0.0169549\n",
      "[1000]\tvalid_0's multi_logloss: 0.0176457\n",
      "Early stopping, best iteration is:\n",
      "[774]\tvalid_0's multi_logloss: 0.0168648\n",
      "Training until validation scores don't improve for 300 rounds\n",
      "[200]\tvalid_0's multi_logloss: 0.0405462\n",
      "[400]\tvalid_0's multi_logloss: 0.0221312\n",
      "[600]\tvalid_0's multi_logloss: 0.0186018\n",
      "[800]\tvalid_0's multi_logloss: 0.0173355\n",
      "[1000]\tvalid_0's multi_logloss: 0.0172498\n",
      "Early stopping, best iteration is:\n",
      "[782]\tvalid_0's multi_logloss: 0.0171957\n",
      "Training until validation scores don't improve for 300 rounds\n",
      "[200]\tvalid_0's multi_logloss: 0.0403615\n",
      "[400]\tvalid_0's multi_logloss: 0.0250009\n",
      "[600]\tvalid_0's multi_logloss: 0.021883\n",
      "[800]\tvalid_0's multi_logloss: 0.0221785\n",
      "[1000]\tvalid_0's multi_logloss: 0.0238695\n",
      "Early stopping, best iteration is:\n",
      "[724]\tvalid_0's multi_logloss: 0.0216447\n"
     ]
    }
   ],
   "source": [
    "N_FOLDS =10\n",
    "X=train_scaled.loc[train_index][best_cols]\n",
    "y=train_scaled.loc[train_index]['predict']\n",
    "\n",
    "params_lgb = {'learning_rate': 0.07,'objective': 'multiclass','boosting': 'gbdt','verbosity': -1,'n_jobs': -1, 'num_classes':N_cluster} \n",
    "\n",
    "model_list=[]\n",
    "\n",
    "gkf = StratifiedKFold(N_FOLDS)\n",
    "for fold, (train_idx, valid_idx) in enumerate(gkf.split(X,y)):   \n",
    "\n",
    "    tr_dataset = lgb.Dataset(X.iloc[train_idx],y.iloc[train_idx],feature_name = best_cols)\n",
    "    vl_dataset = lgb.Dataset(X.iloc[valid_idx],y.iloc[valid_idx],feature_name = best_cols)\n",
    "    \n",
    "    model = lgb.train(params = params_lgb, \n",
    "                train_set = tr_dataset, \n",
    "                valid_sets =  vl_dataset, \n",
    "                num_boost_round = 5000, \n",
    "                callbacks=[ lgb.early_stopping(stopping_rounds=300, verbose=True), lgb.log_evaluation(period=200)])  \n",
    "    \n",
    "    model_list.append(model)"
   ]
  },
  {
   "cell_type": "code",
   "execution_count": 25,
   "id": "024edbe0",
   "metadata": {
    "execution": {
     "iopub.execute_input": "2022-07-29T21:02:11.582889Z",
     "iopub.status.busy": "2022-07-29T21:02:11.582270Z",
     "iopub.status.idle": "2022-07-29T21:05:10.741814Z",
     "shell.execute_reply": "2022-07-29T21:05:10.740579Z"
    },
    "papermill": {
     "duration": 179.185171,
     "end_time": "2022-07-29T21:05:10.744887",
     "exception": false,
     "start_time": "2022-07-29T21:02:11.559716",
     "status": "completed"
    },
    "tags": []
   },
   "outputs": [],
   "source": [
    "lgb_preds=0\n",
    "for model in model_list:\n",
    "    lgb_preds+=model.predict(train_scaled[best_cols])"
   ]
  },
  {
   "cell_type": "code",
   "execution_count": 26,
   "id": "acbbdfc9",
   "metadata": {
    "execution": {
     "iopub.execute_input": "2022-07-29T21:05:10.790763Z",
     "iopub.status.busy": "2022-07-29T21:05:10.789850Z",
     "iopub.status.idle": "2022-07-29T21:05:10.926121Z",
     "shell.execute_reply": "2022-07-29T21:05:10.925081Z"
    },
    "papermill": {
     "duration": 0.161225,
     "end_time": "2022-07-29T21:05:10.928350",
     "exception": false,
     "start_time": "2022-07-29T21:05:10.767125",
     "status": "completed"
    },
    "tags": []
   },
   "outputs": [
    {
     "data": {
      "text/html": [
       "<div>\n",
       "<style scoped>\n",
       "    .dataframe tbody tr th:only-of-type {\n",
       "        vertical-align: middle;\n",
       "    }\n",
       "\n",
       "    .dataframe tbody tr th {\n",
       "        vertical-align: top;\n",
       "    }\n",
       "\n",
       "    .dataframe thead th {\n",
       "        text-align: right;\n",
       "    }\n",
       "</style>\n",
       "<table border=\"1\" class=\"dataframe\">\n",
       "  <thead>\n",
       "    <tr style=\"text-align: right;\">\n",
       "      <th></th>\n",
       "      <th>Id</th>\n",
       "      <th>Predicted</th>\n",
       "    </tr>\n",
       "  </thead>\n",
       "  <tbody>\n",
       "    <tr>\n",
       "      <th>0</th>\n",
       "      <td>0</td>\n",
       "      <td>3</td>\n",
       "    </tr>\n",
       "    <tr>\n",
       "      <th>1</th>\n",
       "      <td>1</td>\n",
       "      <td>6</td>\n",
       "    </tr>\n",
       "    <tr>\n",
       "      <th>2</th>\n",
       "      <td>2</td>\n",
       "      <td>3</td>\n",
       "    </tr>\n",
       "    <tr>\n",
       "      <th>3</th>\n",
       "      <td>3</td>\n",
       "      <td>5</td>\n",
       "    </tr>\n",
       "    <tr>\n",
       "      <th>4</th>\n",
       "      <td>4</td>\n",
       "      <td>0</td>\n",
       "    </tr>\n",
       "  </tbody>\n",
       "</table>\n",
       "</div>"
      ],
      "text/plain": [
       "   Id  Predicted\n",
       "0   0          3\n",
       "1   1          6\n",
       "2   2          3\n",
       "3   3          5\n",
       "4   4          0"
      ]
     },
     "execution_count": 26,
     "metadata": {},
     "output_type": "execute_result"
    }
   ],
   "source": [
    "sub=pd.read_csv(\"../input/tabular-playground-series-jul-2022/sample_submission.csv\")\n",
    "sub['Predicted']=np.argmax(lgb_preds, axis=1)\n",
    "sub.to_csv(\"submission.csv\",index=False)\n",
    "sub.head()"
   ]
  },
  {
   "cell_type": "code",
   "execution_count": 27,
   "id": "771a7071",
   "metadata": {
    "execution": {
     "iopub.execute_input": "2022-07-29T21:05:10.972112Z",
     "iopub.status.busy": "2022-07-29T21:05:10.971414Z",
     "iopub.status.idle": "2022-07-29T21:05:10.981113Z",
     "shell.execute_reply": "2022-07-29T21:05:10.980368Z"
    },
    "papermill": {
     "duration": 0.033919,
     "end_time": "2022-07-29T21:05:10.983143",
     "exception": false,
     "start_time": "2022-07-29T21:05:10.949224",
     "status": "completed"
    },
    "tags": []
   },
   "outputs": [],
   "source": [
    "def objective(trial):\n",
    "    N_FOLDS =10\n",
    "    X=train_scaled.loc[train_index][best_cols]\n",
    "    y=train_scaled.loc[train_index]['predict']\n",
    "\n",
    "    params_lgb = {'learning_rate': 0.07,\n",
    "                  'objective': 'multiclass',\n",
    "                  'boosting': 'gbdt',\n",
    "                  'verbosity': -1,\n",
    "                  'n_jobs': -1,\n",
    "                  'num_classes':N_cluster,\n",
    "                  'max_bin': trial.suggest_int('max_bin', 255, 500),\n",
    "                  'num_leaves': trial.suggest_int('num_leaves', 32, 128)\n",
    "                 } \n",
    "\n",
    "    model_list=[]\n",
    "\n",
    "    gkf = StratifiedKFold(N_FOLDS)\n",
    "    for fold, (train_idx, valid_idx) in enumerate(gkf.split(X,y)):   \n",
    "\n",
    "        tr_dataset = lgb.Dataset(X.iloc[train_idx],y.iloc[train_idx],feature_name = best_cols)\n",
    "        vl_dataset = lgb.Dataset(X.iloc[valid_idx],y.iloc[valid_idx],feature_name = best_cols)\n",
    "    \n",
    "        model = lgb.train(params = params_lgb, \n",
    "                train_set = tr_dataset, \n",
    "                valid_sets =  vl_dataset, \n",
    "                num_boost_round = 5000, \n",
    "                callbacks=[ lgb.early_stopping(stopping_rounds=300, verbose=True), lgb.log_evaluation(period=200)])  \n",
    "    \n",
    "        model_list.append(model)\n",
    "        \n",
    "    lgb_preds=0\n",
    "    for model in model_list:\n",
    "        lgb_preds+=model.predict(train_scaled[best_cols])\n",
    "    return lgb_preds"
   ]
  },
  {
   "cell_type": "code",
   "execution_count": null,
   "id": "c9282aea",
   "metadata": {
    "papermill": {
     "duration": 0.020724,
     "end_time": "2022-07-29T21:05:11.024851",
     "exception": false,
     "start_time": "2022-07-29T21:05:11.004127",
     "status": "completed"
    },
    "tags": []
   },
   "outputs": [],
   "source": []
  },
  {
   "cell_type": "code",
   "execution_count": null,
   "id": "99424fe3",
   "metadata": {
    "papermill": {
     "duration": 0.020323,
     "end_time": "2022-07-29T21:05:11.066077",
     "exception": false,
     "start_time": "2022-07-29T21:05:11.045754",
     "status": "completed"
    },
    "tags": []
   },
   "outputs": [],
   "source": []
  },
  {
   "cell_type": "code",
   "execution_count": null,
   "id": "58b39f20",
   "metadata": {
    "papermill": {
     "duration": 0.020427,
     "end_time": "2022-07-29T21:05:11.107179",
     "exception": false,
     "start_time": "2022-07-29T21:05:11.086752",
     "status": "completed"
    },
    "tags": []
   },
   "outputs": [],
   "source": []
  }
 ],
 "metadata": {
  "kernelspec": {
   "display_name": "Python 3",
   "language": "python",
   "name": "python3"
  },
  "language_info": {
   "codemirror_mode": {
    "name": "ipython",
    "version": 3
   },
   "file_extension": ".py",
   "mimetype": "text/x-python",
   "name": "python",
   "nbconvert_exporter": "python",
   "pygments_lexer": "ipython3",
   "version": "3.7.12"
  },
  "papermill": {
   "default_parameters": {},
   "duration": 923.221536,
   "end_time": "2022-07-29T21:05:12.653121",
   "environment_variables": {},
   "exception": null,
   "input_path": "__notebook__.ipynb",
   "output_path": "__notebook__.ipynb",
   "parameters": {},
   "start_time": "2022-07-29T20:49:49.431585",
   "version": "2.3.4"
  }
 },
 "nbformat": 4,
 "nbformat_minor": 5
}
