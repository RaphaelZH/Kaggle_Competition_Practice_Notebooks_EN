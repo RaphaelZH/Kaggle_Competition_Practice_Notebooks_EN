{
 "cells": [
  {
   "cell_type": "markdown",
   "id": "084de983",
   "metadata": {
    "_cell_guid": "b1076dfc-b9ad-4769-8c92-a6c4dae69d19",
    "_uuid": "8f2839f25d086af736a60e9eeb907d3b93b6e0e5",
    "papermill": {
     "duration": 0.006514,
     "end_time": "2022-07-16T20:54:10.771234",
     "exception": false,
     "start_time": "2022-07-16T20:54:10.764720",
     "status": "completed"
    },
    "tags": []
   },
   "source": [
    "$\\Huge\\sf{Tabular\\ Playground\\ Series\\ -\\ Jul\\ 2022}$\n",
    "\n",
    "$\\large\\rm{Practice\\ your\\ ML\\ skills\\ on\\ this\\ approachable\\ dataset!}$"
   ]
  },
  {
   "cell_type": "code",
   "execution_count": 1,
   "id": "4baa11c4",
   "metadata": {
    "execution": {
     "iopub.execute_input": "2022-07-16T20:54:10.784088Z",
     "iopub.status.busy": "2022-07-16T20:54:10.783556Z",
     "iopub.status.idle": "2022-07-16T20:54:10.799177Z",
     "shell.execute_reply": "2022-07-16T20:54:10.798273Z"
    },
    "papermill": {
     "duration": 0.024738,
     "end_time": "2022-07-16T20:54:10.801571",
     "exception": false,
     "start_time": "2022-07-16T20:54:10.776833",
     "status": "completed"
    },
    "tags": []
   },
   "outputs": [],
   "source": [
    "import numpy as np\n",
    "import pandas as pd"
   ]
  },
  {
   "cell_type": "code",
   "execution_count": 2,
   "id": "a8979730",
   "metadata": {
    "execution": {
     "iopub.execute_input": "2022-07-16T20:54:10.813978Z",
     "iopub.status.busy": "2022-07-16T20:54:10.813468Z",
     "iopub.status.idle": "2022-07-16T20:54:11.763270Z",
     "shell.execute_reply": "2022-07-16T20:54:11.762295Z"
    },
    "papermill": {
     "duration": 0.958264,
     "end_time": "2022-07-16T20:54:11.765408",
     "exception": false,
     "start_time": "2022-07-16T20:54:10.807144",
     "status": "completed"
    },
    "tags": []
   },
   "outputs": [],
   "source": [
    "import matplotlib.pyplot as plt\n",
    "import seaborn as sns"
   ]
  },
  {
   "cell_type": "markdown",
   "id": "1d9fa6b7",
   "metadata": {
    "papermill": {
     "duration": 0.00315,
     "end_time": "2022-07-16T20:54:11.772349",
     "exception": false,
     "start_time": "2022-07-16T20:54:11.769199",
     "status": "completed"
    },
    "tags": []
   },
   "source": [
    "# Import Dataset"
   ]
  },
  {
   "cell_type": "code",
   "execution_count": 3,
   "id": "b931c4a7",
   "metadata": {
    "execution": {
     "iopub.execute_input": "2022-07-16T20:54:11.780645Z",
     "iopub.status.busy": "2022-07-16T20:54:11.780292Z",
     "iopub.status.idle": "2022-07-16T20:54:13.037456Z",
     "shell.execute_reply": "2022-07-16T20:54:13.036527Z"
    },
    "papermill": {
     "duration": 1.264579,
     "end_time": "2022-07-16T20:54:13.040187",
     "exception": false,
     "start_time": "2022-07-16T20:54:11.775608",
     "status": "completed"
    },
    "tags": []
   },
   "outputs": [
    {
     "data": {
      "text/html": [
       "<div>\n",
       "<style scoped>\n",
       "    .dataframe tbody tr th:only-of-type {\n",
       "        vertical-align: middle;\n",
       "    }\n",
       "\n",
       "    .dataframe tbody tr th {\n",
       "        vertical-align: top;\n",
       "    }\n",
       "\n",
       "    .dataframe thead th {\n",
       "        text-align: right;\n",
       "    }\n",
       "</style>\n",
       "<table border=\"1\" class=\"dataframe\">\n",
       "  <thead>\n",
       "    <tr style=\"text-align: right;\">\n",
       "      <th></th>\n",
       "      <th>f_00</th>\n",
       "      <th>f_01</th>\n",
       "      <th>f_02</th>\n",
       "      <th>f_03</th>\n",
       "      <th>f_04</th>\n",
       "      <th>f_05</th>\n",
       "      <th>f_06</th>\n",
       "      <th>f_07</th>\n",
       "      <th>f_08</th>\n",
       "      <th>f_09</th>\n",
       "      <th>...</th>\n",
       "      <th>f_19</th>\n",
       "      <th>f_20</th>\n",
       "      <th>f_21</th>\n",
       "      <th>f_22</th>\n",
       "      <th>f_23</th>\n",
       "      <th>f_24</th>\n",
       "      <th>f_25</th>\n",
       "      <th>f_26</th>\n",
       "      <th>f_27</th>\n",
       "      <th>f_28</th>\n",
       "    </tr>\n",
       "    <tr>\n",
       "      <th>id</th>\n",
       "      <th></th>\n",
       "      <th></th>\n",
       "      <th></th>\n",
       "      <th></th>\n",
       "      <th></th>\n",
       "      <th></th>\n",
       "      <th></th>\n",
       "      <th></th>\n",
       "      <th></th>\n",
       "      <th></th>\n",
       "      <th></th>\n",
       "      <th></th>\n",
       "      <th></th>\n",
       "      <th></th>\n",
       "      <th></th>\n",
       "      <th></th>\n",
       "      <th></th>\n",
       "      <th></th>\n",
       "      <th></th>\n",
       "      <th></th>\n",
       "      <th></th>\n",
       "    </tr>\n",
       "  </thead>\n",
       "  <tbody>\n",
       "    <tr>\n",
       "      <th>0</th>\n",
       "      <td>-0.389420</td>\n",
       "      <td>-0.912791</td>\n",
       "      <td>0.648951</td>\n",
       "      <td>0.589045</td>\n",
       "      <td>-0.830817</td>\n",
       "      <td>0.733624</td>\n",
       "      <td>2.258560</td>\n",
       "      <td>2</td>\n",
       "      <td>13</td>\n",
       "      <td>14</td>\n",
       "      <td>...</td>\n",
       "      <td>-0.478412</td>\n",
       "      <td>-0.757002</td>\n",
       "      <td>-0.763635</td>\n",
       "      <td>-1.090369</td>\n",
       "      <td>1.142641</td>\n",
       "      <td>-0.884274</td>\n",
       "      <td>1.137896</td>\n",
       "      <td>1.309073</td>\n",
       "      <td>1.463002</td>\n",
       "      <td>0.813527</td>\n",
       "    </tr>\n",
       "    <tr>\n",
       "      <th>1</th>\n",
       "      <td>-0.689249</td>\n",
       "      <td>-0.453954</td>\n",
       "      <td>0.654175</td>\n",
       "      <td>0.995248</td>\n",
       "      <td>-1.653020</td>\n",
       "      <td>0.863810</td>\n",
       "      <td>-0.090651</td>\n",
       "      <td>2</td>\n",
       "      <td>3</td>\n",
       "      <td>6</td>\n",
       "      <td>...</td>\n",
       "      <td>-0.428791</td>\n",
       "      <td>-0.089908</td>\n",
       "      <td>-1.784204</td>\n",
       "      <td>-0.839474</td>\n",
       "      <td>0.459685</td>\n",
       "      <td>1.759412</td>\n",
       "      <td>-0.275422</td>\n",
       "      <td>-0.852168</td>\n",
       "      <td>0.562457</td>\n",
       "      <td>-2.680541</td>\n",
       "    </tr>\n",
       "    <tr>\n",
       "      <th>2</th>\n",
       "      <td>0.809079</td>\n",
       "      <td>0.324568</td>\n",
       "      <td>-1.170602</td>\n",
       "      <td>-0.624491</td>\n",
       "      <td>0.105448</td>\n",
       "      <td>0.783948</td>\n",
       "      <td>1.988301</td>\n",
       "      <td>5</td>\n",
       "      <td>11</td>\n",
       "      <td>5</td>\n",
       "      <td>...</td>\n",
       "      <td>-0.413534</td>\n",
       "      <td>-1.602377</td>\n",
       "      <td>1.190984</td>\n",
       "      <td>3.267116</td>\n",
       "      <td>-0.088322</td>\n",
       "      <td>-2.168635</td>\n",
       "      <td>-0.974989</td>\n",
       "      <td>1.335763</td>\n",
       "      <td>-1.110655</td>\n",
       "      <td>-3.630723</td>\n",
       "    </tr>\n",
       "    <tr>\n",
       "      <th>3</th>\n",
       "      <td>-0.500923</td>\n",
       "      <td>0.229049</td>\n",
       "      <td>0.264109</td>\n",
       "      <td>0.231520</td>\n",
       "      <td>0.415012</td>\n",
       "      <td>-1.221269</td>\n",
       "      <td>0.138850</td>\n",
       "      <td>6</td>\n",
       "      <td>2</td>\n",
       "      <td>13</td>\n",
       "      <td>...</td>\n",
       "      <td>0.619283</td>\n",
       "      <td>1.287801</td>\n",
       "      <td>0.532837</td>\n",
       "      <td>1.036631</td>\n",
       "      <td>-2.041828</td>\n",
       "      <td>1.440490</td>\n",
       "      <td>-1.900191</td>\n",
       "      <td>-0.630771</td>\n",
       "      <td>-0.050641</td>\n",
       "      <td>0.238333</td>\n",
       "    </tr>\n",
       "    <tr>\n",
       "      <th>4</th>\n",
       "      <td>-0.671268</td>\n",
       "      <td>-1.039533</td>\n",
       "      <td>-0.270155</td>\n",
       "      <td>-1.830264</td>\n",
       "      <td>-0.290108</td>\n",
       "      <td>-1.852809</td>\n",
       "      <td>0.781898</td>\n",
       "      <td>8</td>\n",
       "      <td>7</td>\n",
       "      <td>5</td>\n",
       "      <td>...</td>\n",
       "      <td>-1.628830</td>\n",
       "      <td>-0.434948</td>\n",
       "      <td>0.322505</td>\n",
       "      <td>0.284326</td>\n",
       "      <td>-2.438365</td>\n",
       "      <td>1.473930</td>\n",
       "      <td>-1.044684</td>\n",
       "      <td>1.602686</td>\n",
       "      <td>-0.405263</td>\n",
       "      <td>-1.987263</td>\n",
       "    </tr>\n",
       "  </tbody>\n",
       "</table>\n",
       "<p>5 rows × 29 columns</p>\n",
       "</div>"
      ],
      "text/plain": [
       "        f_00      f_01      f_02      f_03      f_04      f_05      f_06  \\\n",
       "id                                                                         \n",
       "0  -0.389420 -0.912791  0.648951  0.589045 -0.830817  0.733624  2.258560   \n",
       "1  -0.689249 -0.453954  0.654175  0.995248 -1.653020  0.863810 -0.090651   \n",
       "2   0.809079  0.324568 -1.170602 -0.624491  0.105448  0.783948  1.988301   \n",
       "3  -0.500923  0.229049  0.264109  0.231520  0.415012 -1.221269  0.138850   \n",
       "4  -0.671268 -1.039533 -0.270155 -1.830264 -0.290108 -1.852809  0.781898   \n",
       "\n",
       "    f_07  f_08  f_09  ...      f_19      f_20      f_21      f_22      f_23  \\\n",
       "id                    ...                                                     \n",
       "0      2    13    14  ... -0.478412 -0.757002 -0.763635 -1.090369  1.142641   \n",
       "1      2     3     6  ... -0.428791 -0.089908 -1.784204 -0.839474  0.459685   \n",
       "2      5    11     5  ... -0.413534 -1.602377  1.190984  3.267116 -0.088322   \n",
       "3      6     2    13  ...  0.619283  1.287801  0.532837  1.036631 -2.041828   \n",
       "4      8     7     5  ... -1.628830 -0.434948  0.322505  0.284326 -2.438365   \n",
       "\n",
       "        f_24      f_25      f_26      f_27      f_28  \n",
       "id                                                    \n",
       "0  -0.884274  1.137896  1.309073  1.463002  0.813527  \n",
       "1   1.759412 -0.275422 -0.852168  0.562457 -2.680541  \n",
       "2  -2.168635 -0.974989  1.335763 -1.110655 -3.630723  \n",
       "3   1.440490 -1.900191 -0.630771 -0.050641  0.238333  \n",
       "4   1.473930 -1.044684  1.602686 -0.405263 -1.987263  \n",
       "\n",
       "[5 rows x 29 columns]"
      ]
     },
     "execution_count": 3,
     "metadata": {},
     "output_type": "execute_result"
    }
   ],
   "source": [
    "df = pd.read_csv(\"../input/tabular-playground-series-jul-2022/data.csv\", index_col='id')\n",
    "df.head()"
   ]
  },
  {
   "cell_type": "code",
   "execution_count": 4,
   "id": "05debdc9",
   "metadata": {
    "execution": {
     "iopub.execute_input": "2022-07-16T20:54:13.053371Z",
     "iopub.status.busy": "2022-07-16T20:54:13.053064Z",
     "iopub.status.idle": "2022-07-16T20:54:13.086498Z",
     "shell.execute_reply": "2022-07-16T20:54:13.085625Z"
    },
    "papermill": {
     "duration": 0.042073,
     "end_time": "2022-07-16T20:54:13.088352",
     "exception": false,
     "start_time": "2022-07-16T20:54:13.046279",
     "status": "completed"
    },
    "tags": []
   },
   "outputs": [
    {
     "data": {
      "text/html": [
       "<div>\n",
       "<style scoped>\n",
       "    .dataframe tbody tr th:only-of-type {\n",
       "        vertical-align: middle;\n",
       "    }\n",
       "\n",
       "    .dataframe tbody tr th {\n",
       "        vertical-align: top;\n",
       "    }\n",
       "\n",
       "    .dataframe thead th {\n",
       "        text-align: right;\n",
       "    }\n",
       "</style>\n",
       "<table border=\"1\" class=\"dataframe\">\n",
       "  <thead>\n",
       "    <tr style=\"text-align: right;\">\n",
       "      <th></th>\n",
       "      <th>Id</th>\n",
       "      <th>Predicted</th>\n",
       "    </tr>\n",
       "  </thead>\n",
       "  <tbody>\n",
       "    <tr>\n",
       "      <th>0</th>\n",
       "      <td>0</td>\n",
       "      <td>0</td>\n",
       "    </tr>\n",
       "    <tr>\n",
       "      <th>1</th>\n",
       "      <td>1</td>\n",
       "      <td>0</td>\n",
       "    </tr>\n",
       "    <tr>\n",
       "      <th>2</th>\n",
       "      <td>2</td>\n",
       "      <td>0</td>\n",
       "    </tr>\n",
       "    <tr>\n",
       "      <th>3</th>\n",
       "      <td>3</td>\n",
       "      <td>0</td>\n",
       "    </tr>\n",
       "    <tr>\n",
       "      <th>4</th>\n",
       "      <td>4</td>\n",
       "      <td>0</td>\n",
       "    </tr>\n",
       "  </tbody>\n",
       "</table>\n",
       "</div>"
      ],
      "text/plain": [
       "   Id  Predicted\n",
       "0   0          0\n",
       "1   1          0\n",
       "2   2          0\n",
       "3   3          0\n",
       "4   4          0"
      ]
     },
     "execution_count": 4,
     "metadata": {},
     "output_type": "execute_result"
    }
   ],
   "source": [
    "submission = pd.read_csv(\"/kaggle/input/tabular-playground-series-jul-2022/sample_submission.csv\")\n",
    "submission.head()"
   ]
  },
  {
   "cell_type": "markdown",
   "id": "5df79b86",
   "metadata": {
    "papermill": {
     "duration": 0.003468,
     "end_time": "2022-07-16T20:54:13.095732",
     "exception": false,
     "start_time": "2022-07-16T20:54:13.092264",
     "status": "completed"
    },
    "tags": []
   },
   "source": [
    "# Data Preprocessing"
   ]
  },
  {
   "cell_type": "code",
   "execution_count": 5,
   "id": "3199a83d",
   "metadata": {
    "execution": {
     "iopub.execute_input": "2022-07-16T20:54:13.104708Z",
     "iopub.status.busy": "2022-07-16T20:54:13.104341Z",
     "iopub.status.idle": "2022-07-16T20:54:13.111268Z",
     "shell.execute_reply": "2022-07-16T20:54:13.110286Z"
    },
    "papermill": {
     "duration": 0.013717,
     "end_time": "2022-07-16T20:54:13.113098",
     "exception": false,
     "start_time": "2022-07-16T20:54:13.099381",
     "status": "completed"
    },
    "tags": []
   },
   "outputs": [
    {
     "data": {
      "text/plain": [
       "(98000, 29)"
      ]
     },
     "execution_count": 5,
     "metadata": {},
     "output_type": "execute_result"
    }
   ],
   "source": [
    "df.shape"
   ]
  },
  {
   "cell_type": "code",
   "execution_count": 6,
   "id": "328de3ff",
   "metadata": {
    "execution": {
     "iopub.execute_input": "2022-07-16T20:54:13.122191Z",
     "iopub.status.busy": "2022-07-16T20:54:13.121869Z",
     "iopub.status.idle": "2022-07-16T20:54:13.276491Z",
     "shell.execute_reply": "2022-07-16T20:54:13.275938Z"
    },
    "papermill": {
     "duration": 0.161616,
     "end_time": "2022-07-16T20:54:13.278713",
     "exception": false,
     "start_time": "2022-07-16T20:54:13.117097",
     "status": "completed"
    },
    "tags": []
   },
   "outputs": [
    {
     "data": {
      "text/html": [
       "<div>\n",
       "<style scoped>\n",
       "    .dataframe tbody tr th:only-of-type {\n",
       "        vertical-align: middle;\n",
       "    }\n",
       "\n",
       "    .dataframe tbody tr th {\n",
       "        vertical-align: top;\n",
       "    }\n",
       "\n",
       "    .dataframe thead th {\n",
       "        text-align: right;\n",
       "    }\n",
       "</style>\n",
       "<table border=\"1\" class=\"dataframe\">\n",
       "  <thead>\n",
       "    <tr style=\"text-align: right;\">\n",
       "      <th></th>\n",
       "      <th>f_00</th>\n",
       "      <th>f_01</th>\n",
       "      <th>f_02</th>\n",
       "      <th>f_03</th>\n",
       "      <th>f_04</th>\n",
       "      <th>f_05</th>\n",
       "      <th>f_06</th>\n",
       "      <th>f_07</th>\n",
       "      <th>f_08</th>\n",
       "      <th>f_09</th>\n",
       "      <th>...</th>\n",
       "      <th>f_19</th>\n",
       "      <th>f_20</th>\n",
       "      <th>f_21</th>\n",
       "      <th>f_22</th>\n",
       "      <th>f_23</th>\n",
       "      <th>f_24</th>\n",
       "      <th>f_25</th>\n",
       "      <th>f_26</th>\n",
       "      <th>f_27</th>\n",
       "      <th>f_28</th>\n",
       "    </tr>\n",
       "  </thead>\n",
       "  <tbody>\n",
       "    <tr>\n",
       "      <th>count</th>\n",
       "      <td>98000.000000</td>\n",
       "      <td>98000.000000</td>\n",
       "      <td>98000.000000</td>\n",
       "      <td>98000.000000</td>\n",
       "      <td>98000.000000</td>\n",
       "      <td>98000.000000</td>\n",
       "      <td>98000.000000</td>\n",
       "      <td>98000.000000</td>\n",
       "      <td>98000.000000</td>\n",
       "      <td>98000.000000</td>\n",
       "      <td>...</td>\n",
       "      <td>98000.000000</td>\n",
       "      <td>98000.000000</td>\n",
       "      <td>98000.000000</td>\n",
       "      <td>98000.000000</td>\n",
       "      <td>98000.000000</td>\n",
       "      <td>98000.000000</td>\n",
       "      <td>98000.000000</td>\n",
       "      <td>98000.000000</td>\n",
       "      <td>98000.000000</td>\n",
       "      <td>98000.000000</td>\n",
       "    </tr>\n",
       "    <tr>\n",
       "      <th>mean</th>\n",
       "      <td>0.001220</td>\n",
       "      <td>0.005580</td>\n",
       "      <td>-0.001042</td>\n",
       "      <td>-0.000700</td>\n",
       "      <td>-0.003522</td>\n",
       "      <td>-0.001612</td>\n",
       "      <td>-0.003042</td>\n",
       "      <td>5.545918</td>\n",
       "      <td>6.763061</td>\n",
       "      <td>8.193163</td>\n",
       "      <td>...</td>\n",
       "      <td>-0.004513</td>\n",
       "      <td>-0.000515</td>\n",
       "      <td>-0.001670</td>\n",
       "      <td>-0.038752</td>\n",
       "      <td>-0.220002</td>\n",
       "      <td>0.166434</td>\n",
       "      <td>-0.064309</td>\n",
       "      <td>-0.062540</td>\n",
       "      <td>0.098472</td>\n",
       "      <td>-0.230910</td>\n",
       "    </tr>\n",
       "    <tr>\n",
       "      <th>std</th>\n",
       "      <td>1.002801</td>\n",
       "      <td>1.000742</td>\n",
       "      <td>1.001373</td>\n",
       "      <td>1.000422</td>\n",
       "      <td>1.003061</td>\n",
       "      <td>1.000532</td>\n",
       "      <td>0.997434</td>\n",
       "      <td>3.691840</td>\n",
       "      <td>4.152348</td>\n",
       "      <td>5.904919</td>\n",
       "      <td>...</td>\n",
       "      <td>1.004372</td>\n",
       "      <td>1.002962</td>\n",
       "      <td>0.999703</td>\n",
       "      <td>1.477858</td>\n",
       "      <td>1.494836</td>\n",
       "      <td>1.543014</td>\n",
       "      <td>1.576086</td>\n",
       "      <td>1.428055</td>\n",
       "      <td>1.305407</td>\n",
       "      <td>1.528476</td>\n",
       "    </tr>\n",
       "    <tr>\n",
       "      <th>min</th>\n",
       "      <td>-4.732235</td>\n",
       "      <td>-4.202795</td>\n",
       "      <td>-4.377021</td>\n",
       "      <td>-4.010826</td>\n",
       "      <td>-4.535903</td>\n",
       "      <td>-4.300767</td>\n",
       "      <td>-4.894525</td>\n",
       "      <td>0.000000</td>\n",
       "      <td>0.000000</td>\n",
       "      <td>0.000000</td>\n",
       "      <td>...</td>\n",
       "      <td>-4.894525</td>\n",
       "      <td>-4.732235</td>\n",
       "      <td>-4.438130</td>\n",
       "      <td>-6.873999</td>\n",
       "      <td>-8.234305</td>\n",
       "      <td>-7.792363</td>\n",
       "      <td>-6.593842</td>\n",
       "      <td>-7.375719</td>\n",
       "      <td>-7.335556</td>\n",
       "      <td>-6.954151</td>\n",
       "    </tr>\n",
       "    <tr>\n",
       "      <th>25%</th>\n",
       "      <td>-0.675226</td>\n",
       "      <td>-0.670985</td>\n",
       "      <td>-0.672779</td>\n",
       "      <td>-0.672540</td>\n",
       "      <td>-0.682510</td>\n",
       "      <td>-0.675066</td>\n",
       "      <td>-0.680421</td>\n",
       "      <td>3.000000</td>\n",
       "      <td>4.000000</td>\n",
       "      <td>4.000000</td>\n",
       "      <td>...</td>\n",
       "      <td>-0.678773</td>\n",
       "      <td>-0.679777</td>\n",
       "      <td>-0.675147</td>\n",
       "      <td>-1.022964</td>\n",
       "      <td>-1.203204</td>\n",
       "      <td>-0.903385</td>\n",
       "      <td>-1.128966</td>\n",
       "      <td>-0.975680</td>\n",
       "      <td>-0.746489</td>\n",
       "      <td>-1.262606</td>\n",
       "    </tr>\n",
       "    <tr>\n",
       "      <th>50%</th>\n",
       "      <td>0.002022</td>\n",
       "      <td>0.006650</td>\n",
       "      <td>-0.000324</td>\n",
       "      <td>-0.003185</td>\n",
       "      <td>-0.003307</td>\n",
       "      <td>0.001024</td>\n",
       "      <td>-0.002053</td>\n",
       "      <td>5.000000</td>\n",
       "      <td>6.000000</td>\n",
       "      <td>7.000000</td>\n",
       "      <td>...</td>\n",
       "      <td>-0.000587</td>\n",
       "      <td>-0.000806</td>\n",
       "      <td>0.000819</td>\n",
       "      <td>-0.056687</td>\n",
       "      <td>-0.219046</td>\n",
       "      <td>0.167074</td>\n",
       "      <td>-0.099221</td>\n",
       "      <td>-0.070852</td>\n",
       "      <td>0.082230</td>\n",
       "      <td>-0.271319</td>\n",
       "    </tr>\n",
       "    <tr>\n",
       "      <th>75%</th>\n",
       "      <td>0.677271</td>\n",
       "      <td>0.677746</td>\n",
       "      <td>0.677086</td>\n",
       "      <td>0.672097</td>\n",
       "      <td>0.677589</td>\n",
       "      <td>0.673344</td>\n",
       "      <td>0.668112</td>\n",
       "      <td>8.000000</td>\n",
       "      <td>9.000000</td>\n",
       "      <td>11.000000</td>\n",
       "      <td>...</td>\n",
       "      <td>0.672149</td>\n",
       "      <td>0.675437</td>\n",
       "      <td>0.676881</td>\n",
       "      <td>0.930158</td>\n",
       "      <td>0.764690</td>\n",
       "      <td>1.217432</td>\n",
       "      <td>0.987684</td>\n",
       "      <td>0.843212</td>\n",
       "      <td>0.925306</td>\n",
       "      <td>0.770516</td>\n",
       "    </tr>\n",
       "    <tr>\n",
       "      <th>max</th>\n",
       "      <td>4.490521</td>\n",
       "      <td>4.324974</td>\n",
       "      <td>4.560247</td>\n",
       "      <td>4.399373</td>\n",
       "      <td>4.050549</td>\n",
       "      <td>4.710316</td>\n",
       "      <td>3.998595</td>\n",
       "      <td>32.000000</td>\n",
       "      <td>30.000000</td>\n",
       "      <td>44.000000</td>\n",
       "      <td>...</td>\n",
       "      <td>4.560247</td>\n",
       "      <td>4.399373</td>\n",
       "      <td>4.135419</td>\n",
       "      <td>6.517721</td>\n",
       "      <td>6.054831</td>\n",
       "      <td>7.527271</td>\n",
       "      <td>7.544731</td>\n",
       "      <td>7.005608</td>\n",
       "      <td>7.205971</td>\n",
       "      <td>6.977150</td>\n",
       "    </tr>\n",
       "  </tbody>\n",
       "</table>\n",
       "<p>8 rows × 29 columns</p>\n",
       "</div>"
      ],
      "text/plain": [
       "               f_00          f_01          f_02          f_03          f_04  \\\n",
       "count  98000.000000  98000.000000  98000.000000  98000.000000  98000.000000   \n",
       "mean       0.001220      0.005580     -0.001042     -0.000700     -0.003522   \n",
       "std        1.002801      1.000742      1.001373      1.000422      1.003061   \n",
       "min       -4.732235     -4.202795     -4.377021     -4.010826     -4.535903   \n",
       "25%       -0.675226     -0.670985     -0.672779     -0.672540     -0.682510   \n",
       "50%        0.002022      0.006650     -0.000324     -0.003185     -0.003307   \n",
       "75%        0.677271      0.677746      0.677086      0.672097      0.677589   \n",
       "max        4.490521      4.324974      4.560247      4.399373      4.050549   \n",
       "\n",
       "               f_05          f_06          f_07          f_08          f_09  \\\n",
       "count  98000.000000  98000.000000  98000.000000  98000.000000  98000.000000   \n",
       "mean      -0.001612     -0.003042      5.545918      6.763061      8.193163   \n",
       "std        1.000532      0.997434      3.691840      4.152348      5.904919   \n",
       "min       -4.300767     -4.894525      0.000000      0.000000      0.000000   \n",
       "25%       -0.675066     -0.680421      3.000000      4.000000      4.000000   \n",
       "50%        0.001024     -0.002053      5.000000      6.000000      7.000000   \n",
       "75%        0.673344      0.668112      8.000000      9.000000     11.000000   \n",
       "max        4.710316      3.998595     32.000000     30.000000     44.000000   \n",
       "\n",
       "       ...          f_19          f_20          f_21          f_22  \\\n",
       "count  ...  98000.000000  98000.000000  98000.000000  98000.000000   \n",
       "mean   ...     -0.004513     -0.000515     -0.001670     -0.038752   \n",
       "std    ...      1.004372      1.002962      0.999703      1.477858   \n",
       "min    ...     -4.894525     -4.732235     -4.438130     -6.873999   \n",
       "25%    ...     -0.678773     -0.679777     -0.675147     -1.022964   \n",
       "50%    ...     -0.000587     -0.000806      0.000819     -0.056687   \n",
       "75%    ...      0.672149      0.675437      0.676881      0.930158   \n",
       "max    ...      4.560247      4.399373      4.135419      6.517721   \n",
       "\n",
       "               f_23          f_24          f_25          f_26          f_27  \\\n",
       "count  98000.000000  98000.000000  98000.000000  98000.000000  98000.000000   \n",
       "mean      -0.220002      0.166434     -0.064309     -0.062540      0.098472   \n",
       "std        1.494836      1.543014      1.576086      1.428055      1.305407   \n",
       "min       -8.234305     -7.792363     -6.593842     -7.375719     -7.335556   \n",
       "25%       -1.203204     -0.903385     -1.128966     -0.975680     -0.746489   \n",
       "50%       -0.219046      0.167074     -0.099221     -0.070852      0.082230   \n",
       "75%        0.764690      1.217432      0.987684      0.843212      0.925306   \n",
       "max        6.054831      7.527271      7.544731      7.005608      7.205971   \n",
       "\n",
       "               f_28  \n",
       "count  98000.000000  \n",
       "mean      -0.230910  \n",
       "std        1.528476  \n",
       "min       -6.954151  \n",
       "25%       -1.262606  \n",
       "50%       -0.271319  \n",
       "75%        0.770516  \n",
       "max        6.977150  \n",
       "\n",
       "[8 rows x 29 columns]"
      ]
     },
     "execution_count": 6,
     "metadata": {},
     "output_type": "execute_result"
    }
   ],
   "source": [
    "df.describe()"
   ]
  },
  {
   "cell_type": "code",
   "execution_count": 7,
   "id": "59d4002b",
   "metadata": {
    "execution": {
     "iopub.execute_input": "2022-07-16T20:54:13.293785Z",
     "iopub.status.busy": "2022-07-16T20:54:13.292820Z",
     "iopub.status.idle": "2022-07-16T20:54:13.312356Z",
     "shell.execute_reply": "2022-07-16T20:54:13.311352Z"
    },
    "papermill": {
     "duration": 0.028831,
     "end_time": "2022-07-16T20:54:13.314305",
     "exception": false,
     "start_time": "2022-07-16T20:54:13.285474",
     "status": "completed"
    },
    "tags": []
   },
   "outputs": [
    {
     "name": "stdout",
     "output_type": "stream",
     "text": [
      "<class 'pandas.core.frame.DataFrame'>\n",
      "Int64Index: 98000 entries, 0 to 97999\n",
      "Data columns (total 29 columns):\n",
      " #   Column  Non-Null Count  Dtype  \n",
      "---  ------  --------------  -----  \n",
      " 0   f_00    98000 non-null  float64\n",
      " 1   f_01    98000 non-null  float64\n",
      " 2   f_02    98000 non-null  float64\n",
      " 3   f_03    98000 non-null  float64\n",
      " 4   f_04    98000 non-null  float64\n",
      " 5   f_05    98000 non-null  float64\n",
      " 6   f_06    98000 non-null  float64\n",
      " 7   f_07    98000 non-null  int64  \n",
      " 8   f_08    98000 non-null  int64  \n",
      " 9   f_09    98000 non-null  int64  \n",
      " 10  f_10    98000 non-null  int64  \n",
      " 11  f_11    98000 non-null  int64  \n",
      " 12  f_12    98000 non-null  int64  \n",
      " 13  f_13    98000 non-null  int64  \n",
      " 14  f_14    98000 non-null  float64\n",
      " 15  f_15    98000 non-null  float64\n",
      " 16  f_16    98000 non-null  float64\n",
      " 17  f_17    98000 non-null  float64\n",
      " 18  f_18    98000 non-null  float64\n",
      " 19  f_19    98000 non-null  float64\n",
      " 20  f_20    98000 non-null  float64\n",
      " 21  f_21    98000 non-null  float64\n",
      " 22  f_22    98000 non-null  float64\n",
      " 23  f_23    98000 non-null  float64\n",
      " 24  f_24    98000 non-null  float64\n",
      " 25  f_25    98000 non-null  float64\n",
      " 26  f_26    98000 non-null  float64\n",
      " 27  f_27    98000 non-null  float64\n",
      " 28  f_28    98000 non-null  float64\n",
      "dtypes: float64(22), int64(7)\n",
      "memory usage: 22.4 MB\n"
     ]
    }
   ],
   "source": [
    "df.info()"
   ]
  },
  {
   "cell_type": "code",
   "execution_count": 8,
   "id": "3105f745",
   "metadata": {
    "execution": {
     "iopub.execute_input": "2022-07-16T20:54:13.324918Z",
     "iopub.status.busy": "2022-07-16T20:54:13.324031Z",
     "iopub.status.idle": "2022-07-16T20:54:13.336528Z",
     "shell.execute_reply": "2022-07-16T20:54:13.335480Z"
    },
    "papermill": {
     "duration": 0.020178,
     "end_time": "2022-07-16T20:54:13.338968",
     "exception": false,
     "start_time": "2022-07-16T20:54:13.318790",
     "status": "completed"
    },
    "tags": []
   },
   "outputs": [
    {
     "data": {
      "text/plain": [
       "f_00    0\n",
       "f_01    0\n",
       "f_02    0\n",
       "f_03    0\n",
       "f_04    0\n",
       "f_05    0\n",
       "f_06    0\n",
       "f_07    0\n",
       "f_08    0\n",
       "f_09    0\n",
       "f_10    0\n",
       "f_11    0\n",
       "f_12    0\n",
       "f_13    0\n",
       "f_14    0\n",
       "f_15    0\n",
       "f_16    0\n",
       "f_17    0\n",
       "f_18    0\n",
       "f_19    0\n",
       "f_20    0\n",
       "f_21    0\n",
       "f_22    0\n",
       "f_23    0\n",
       "f_24    0\n",
       "f_25    0\n",
       "f_26    0\n",
       "f_27    0\n",
       "f_28    0\n",
       "dtype: int64"
      ]
     },
     "execution_count": 8,
     "metadata": {},
     "output_type": "execute_result"
    }
   ],
   "source": [
    "df.isnull().sum()"
   ]
  },
  {
   "cell_type": "markdown",
   "id": "934a9fb0",
   "metadata": {
    "papermill": {
     "duration": 0.005661,
     "end_time": "2022-07-16T20:54:13.352860",
     "exception": false,
     "start_time": "2022-07-16T20:54:13.347199",
     "status": "completed"
    },
    "tags": []
   },
   "source": [
    "# EDA and Visualization"
   ]
  },
  {
   "cell_type": "code",
   "execution_count": 9,
   "id": "ed212092",
   "metadata": {
    "execution": {
     "iopub.execute_input": "2022-07-16T20:54:13.364057Z",
     "iopub.status.busy": "2022-07-16T20:54:13.363704Z",
     "iopub.status.idle": "2022-07-16T20:54:15.066940Z",
     "shell.execute_reply": "2022-07-16T20:54:15.065772Z"
    },
    "papermill": {
     "duration": 1.710928,
     "end_time": "2022-07-16T20:54:15.069036",
     "exception": false,
     "start_time": "2022-07-16T20:54:13.358108",
     "status": "completed"
    },
    "tags": []
   },
   "outputs": [
    {
     "data": {
      "image/png": "[encoded data removed]",
      "text/plain": [
       "<Figure size 1080x1008 with 7 Axes>"
      ]
     },
     "metadata": {
      "needs_background": "light"
     },
     "output_type": "display_data"
    }
   ],
   "source": [
    "# Figure with subplots\n",
    "fig=plt.figure(figsize=(15,14))\n",
    "\n",
    "for i in range(7):\n",
    "    # New subplot\n",
    "    plt.subplot(4,2,i+1)\n",
    "    feat_num=i+7\n",
    "    sns.countplot(x=df.iloc[:,feat_num])\n",
    "    \n",
    "    # Aesthetics\n",
    "    plt.title(f'Feature: 0{feat_num}')\n",
    "    plt.xlim([-1,44])      # same scale for all plots\n",
    "    plt.ylim([0,11000])   # same scale for all plots\n",
    "    plt.xticks(np.arange(0,44,2))\n",
    "    plt.xlabel('')\n",
    "    \n",
    "# Overall aesthetics\n",
    "fig.suptitle('Discrete feature distributions',  size=20)\n",
    "fig.tight_layout()  # Improves appearance a bit\n",
    "plt.show()"
   ]
  },
  {
   "cell_type": "code",
   "execution_count": 10,
   "id": "79329878",
   "metadata": {
    "execution": {
     "iopub.execute_input": "2022-07-16T20:54:15.087069Z",
     "iopub.status.busy": "2022-07-16T20:54:15.086723Z",
     "iopub.status.idle": "2022-07-16T20:54:22.673785Z",
     "shell.execute_reply": "2022-07-16T20:54:22.672516Z"
    },
    "papermill": {
     "duration": 7.598027,
     "end_time": "2022-07-16T20:54:22.675515",
     "exception": false,
     "start_time": "2022-07-16T20:54:15.077488",
     "status": "completed"
    },
    "tags": []
   },
   "outputs": [
    {
     "data": {
      "image/png": "[encoded data removed]",
      "text/plain": [
       "<Figure size 1080x1008 with 22 Axes>"
      ]
     },
     "metadata": {
      "needs_background": "light"
     },
     "output_type": "display_data"
    }
   ],
   "source": [
    "cont_feats=[f'f_0{i}' for i in range(7)]\n",
    "cont_feats=cont_feats + [f'f_{i}' for i in range(14,29)]\n",
    "\n",
    "# Figure with subplots\n",
    "fig=plt.figure(figsize=(15,14))\n",
    "\n",
    "for i, f in enumerate(cont_feats):\n",
    "    # New subplot\n",
    "    plt.subplot(6,4,i+1)\n",
    "    sns.histplot(x=df[f])\n",
    "    \n",
    "    # Aesthetics\n",
    "    plt.title(f'Feature: {f}')\n",
    "    plt.xlabel('')\n",
    "    \n",
    "# Overall aesthetics\n",
    "fig.suptitle('Continuous feature distributions',  size=20)\n",
    "fig.tight_layout()  # Improves appearance a bit\n",
    "plt.show()\n"
   ]
  },
  {
   "cell_type": "code",
   "execution_count": null,
   "id": "291bddb8",
   "metadata": {
    "papermill": {
     "duration": 0.005866,
     "end_time": "2022-07-16T20:54:22.687826",
     "exception": false,
     "start_time": "2022-07-16T20:54:22.681960",
     "status": "completed"
    },
    "tags": []
   },
   "outputs": [],
   "source": []
  },
  {
   "cell_type": "code",
   "execution_count": null,
   "id": "adc05b9e",
   "metadata": {
    "papermill": {
     "duration": 0.005794,
     "end_time": "2022-07-16T20:54:22.699565",
     "exception": false,
     "start_time": "2022-07-16T20:54:22.693771",
     "status": "completed"
    },
    "tags": []
   },
   "outputs": [],
   "source": []
  },
  {
   "cell_type": "code",
   "execution_count": null,
   "id": "f5d57720",
   "metadata": {
    "papermill": {
     "duration": 0.005932,
     "end_time": "2022-07-16T20:54:22.712062",
     "exception": false,
     "start_time": "2022-07-16T20:54:22.706130",
     "status": "completed"
    },
    "tags": []
   },
   "outputs": [],
   "source": []
  }
 ],
 "metadata": {
  "kernelspec": {
   "display_name": "Python 3",
   "language": "python",
   "name": "python3"
  },
  "language_info": {
   "codemirror_mode": {
    "name": "ipython",
    "version": 3
   },
   "file_extension": ".py",
   "mimetype": "text/x-python",
   "name": "python",
   "nbconvert_exporter": "python",
   "pygments_lexer": "ipython3",
   "version": "3.7.12"
  },
  "papermill": {
   "default_parameters": {},
   "duration": 20.82825,
   "end_time": "2022-07-16T20:54:23.840802",
   "environment_variables": {},
   "exception": null,
   "input_path": "__notebook__.ipynb",
   "output_path": "__notebook__.ipynb",
   "parameters": {},
   "start_time": "2022-07-16T20:54:03.012552",
   "version": "2.3.4"
  }
 },
 "nbformat": 4,
 "nbformat_minor": 5
}
