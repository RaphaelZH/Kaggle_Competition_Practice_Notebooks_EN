{
 "cells": [
  {
   "cell_type": "markdown",
   "id": "77381e5f",
   "metadata": {
    "papermill": {
     "duration": 0.036959,
     "end_time": "2022-03-15T20:14:51.206682",
     "exception": false,
     "start_time": "2022-03-15T20:14:51.169723",
     "status": "completed"
    },
    "tags": []
   },
   "source": []
  },
  {
   "cell_type": "markdown",
   "id": "525c2891",
   "metadata": {
    "papermill": {
     "duration": 0.03477,
     "end_time": "2022-03-15T20:14:51.278856",
     "exception": false,
     "start_time": "2022-03-15T20:14:51.244086",
     "status": "completed"
    },
    "tags": []
   },
   "source": [
    "# Libraries Import\n",
    "\n",
    "## Regular Libraries"
   ]
  },
  {
   "cell_type": "code",
   "execution_count": 1,
   "id": "34babcbc",
   "metadata": {
    "execution": {
     "iopub.execute_input": "2022-03-15T20:14:51.361196Z",
     "iopub.status.busy": "2022-03-15T20:14:51.360418Z",
     "iopub.status.idle": "2022-03-15T20:16:08.177560Z",
     "shell.execute_reply": "2022-03-15T20:16:08.178304Z"
    },
    "papermill": {
     "duration": 76.863033,
     "end_time": "2022-03-15T20:16:08.178652",
     "exception": false,
     "start_time": "2022-03-15T20:14:51.315619",
     "status": "completed"
    },
    "tags": []
   },
   "outputs": [
    {
     "name": "stdout",
     "output_type": "stream",
     "text": [
      "Collecting GPUtil\r\n",
      "  Downloading GPUtil-1.4.0.tar.gz (5.5 kB)\r\n",
      "  Preparing metadata (setup.py) ... \u001b[?25l-\b \bdone\r\n",
      "\u001b[?25hBuilding wheels for collected packages: GPUtil\r\n",
      "  Building wheel for GPUtil (setup.py) ... \u001b[?25l-\b \b\\\b \bdone\r\n",
      "\u001b[?25h  Created wheel for GPUtil: filename=GPUtil-1.4.0-py3-none-any.whl size=7411 sha256=9f2c527a802a515d874e814bb961e1d1d71f63aa1a1a5882dfe314023cf9b6b7\r\n",
      "  Stored in directory: /root/.cache/pip/wheels/6e/f8/83/534c52482d6da64622ddbf72cd93c35d2ef2881b78fd08ff0c\r\n",
      "Successfully built GPUtil\r\n",
      "Installing collected packages: GPUtil\r\n",
      "Successfully installed GPUtil-1.4.0\r\n",
      "\u001b[33mWARNING: Running pip as the 'root' user can result in broken permissions and conflicting behaviour with the system package manager. It is recommended to use a virtual environment instead: https://pip.pypa.io/warnings/venv\u001b[0m\r\n",
      "Requirement already satisfied: torch in /opt/conda/lib/python3.7/site-packages (1.9.1)\r\n",
      "Collecting torch\r\n",
      "  Downloading torch-1.11.0-cp37-cp37m-manylinux1_x86_64.whl (750.6 MB)\r\n",
      "     |████████████████████████████████| 750.6 MB 8.9 kB/s             \r\n",
      "\u001b[?25hRequirement already satisfied: typing-extensions in /opt/conda/lib/python3.7/site-packages (from torch) (4.0.1)\r\n",
      "Installing collected packages: torch\r\n",
      "  Attempting uninstall: torch\r\n",
      "    Found existing installation: torch 1.9.1\r\n",
      "    Uninstalling torch-1.9.1:\r\n",
      "      Successfully uninstalled torch-1.9.1\r\n",
      "\u001b[31mERROR: pip's dependency resolver does not currently take into account all the packages that are installed. This behaviour is the source of the following dependency conflicts.\r\n",
      "fastai 2.5.3 requires torch<1.11,>=1.7.0, but you have torch 1.11.0 which is incompatible.\r\n",
      "allennlp 2.9.0 requires torch<1.11.0,>=1.6.0, but you have torch 1.11.0 which is incompatible.\u001b[0m\r\n",
      "Successfully installed torch-1.11.0\r\n",
      "\u001b[33mWARNING: Running pip as the 'root' user can result in broken permissions and conflicting behaviour with the system package manager. It is recommended to use a virtual environment instead: https://pip.pypa.io/warnings/venv\u001b[0m\r\n"
     ]
    }
   ],
   "source": [
    "!pip install GPUtil\n",
    "!pip install torch --upgrade"
   ]
  },
  {
   "cell_type": "code",
   "execution_count": 2,
   "id": "8ecbc376",
   "metadata": {
    "execution": {
     "iopub.execute_input": "2022-03-15T20:16:08.786581Z",
     "iopub.status.busy": "2022-03-15T20:16:08.785772Z",
     "iopub.status.idle": "2022-03-15T20:16:08.787187Z",
     "shell.execute_reply": "2022-03-15T20:16:08.787599Z"
    },
    "papermill": {
     "duration": 0.316917,
     "end_time": "2022-03-15T20:16:08.787734",
     "exception": false,
     "start_time": "2022-03-15T20:16:08.470817",
     "status": "completed"
    },
    "tags": []
   },
   "outputs": [],
   "source": [
    "import numpy as np\n",
    "import pandas as pd\n",
    "import os"
   ]
  },
  {
   "cell_type": "markdown",
   "id": "35ab064f",
   "metadata": {
    "papermill": {
     "duration": 0.291428,
     "end_time": "2022-03-15T20:16:09.368532",
     "exception": false,
     "start_time": "2022-03-15T20:16:09.077104",
     "status": "completed"
    },
    "tags": []
   },
   "source": [
    "## Auxiliary Library"
   ]
  },
  {
   "cell_type": "code",
   "execution_count": 3,
   "id": "bfbde5cf",
   "metadata": {
    "execution": {
     "iopub.execute_input": "2022-03-15T20:16:10.204827Z",
     "iopub.status.busy": "2022-03-15T20:16:10.204201Z",
     "iopub.status.idle": "2022-03-15T20:16:10.205771Z",
     "shell.execute_reply": "2022-03-15T20:16:10.205328Z"
    },
    "papermill": {
     "duration": 0.424564,
     "end_time": "2022-03-15T20:16:10.205881",
     "exception": false,
     "start_time": "2022-03-15T20:16:09.781317",
     "status": "completed"
    },
    "tags": []
   },
   "outputs": [],
   "source": [
    "from glob import glob\n",
    "\n",
    "from tqdm import tqdm\n",
    "\n",
    "import random"
   ]
  },
  {
   "cell_type": "markdown",
   "id": "6ded0554",
   "metadata": {
    "papermill": {
     "duration": 0.301718,
     "end_time": "2022-03-15T20:16:10.799809",
     "exception": false,
     "start_time": "2022-03-15T20:16:10.498091",
     "status": "completed"
    },
    "tags": []
   },
   "source": [
    "## Data Visualization Library"
   ]
  },
  {
   "cell_type": "code",
   "execution_count": 4,
   "id": "f7700bbe",
   "metadata": {
    "execution": {
     "iopub.execute_input": "2022-03-15T20:16:11.392833Z",
     "iopub.status.busy": "2022-03-15T20:16:11.391958Z",
     "iopub.status.idle": "2022-03-15T20:16:11.394527Z",
     "shell.execute_reply": "2022-03-15T20:16:11.394081Z"
    },
    "papermill": {
     "duration": 0.303046,
     "end_time": "2022-03-15T20:16:11.394655",
     "exception": false,
     "start_time": "2022-03-15T20:16:11.091609",
     "status": "completed"
    },
    "tags": []
   },
   "outputs": [],
   "source": [
    "import matplotlib.pyplot as plt"
   ]
  },
  {
   "cell_type": "code",
   "execution_count": 5,
   "id": "7c42ff37",
   "metadata": {
    "execution": {
     "iopub.execute_input": "2022-03-15T20:16:11.990050Z",
     "iopub.status.busy": "2022-03-15T20:16:11.989212Z",
     "iopub.status.idle": "2022-03-15T20:16:13.987738Z",
     "shell.execute_reply": "2022-03-15T20:16:13.987101Z"
    },
    "papermill": {
     "duration": 2.301908,
     "end_time": "2022-03-15T20:16:13.987867",
     "exception": false,
     "start_time": "2022-03-15T20:16:11.685959",
     "status": "completed"
    },
    "tags": []
   },
   "outputs": [],
   "source": [
    "from transformers import RobertaTokenizerFast, RobertaForTokenClassification\n",
    "from torch.utils.data import Dataset, DataLoader\n",
    "import pdb\n",
    "import torch\n",
    "from torch import cuda\n",
    "from sklearn.metrics import accuracy_score\n",
    "\n",
    "MODEL_NAME = \"../input/roberta-base\""
   ]
  },
  {
   "cell_type": "markdown",
   "id": "72a80c86",
   "metadata": {
    "papermill": {
     "duration": 0.291873,
     "end_time": "2022-03-15T20:16:14.571226",
     "exception": false,
     "start_time": "2022-03-15T20:16:14.279353",
     "status": "completed"
    },
    "tags": []
   },
   "source": [
    "---"
   ]
  },
  {
   "cell_type": "markdown",
   "id": "e853e052",
   "metadata": {
    "papermill": {
     "duration": 0.290007,
     "end_time": "2022-03-15T20:16:15.152432",
     "exception": false,
     "start_time": "2022-03-15T20:16:14.862425",
     "status": "completed"
    },
    "tags": []
   },
   "source": [
    "# Data Extraction\n",
    "\n",
    "## Main Data"
   ]
  },
  {
   "cell_type": "code",
   "execution_count": 6,
   "id": "6cc3b873",
   "metadata": {
    "execution": {
     "iopub.execute_input": "2022-03-15T20:16:15.743917Z",
     "iopub.status.busy": "2022-03-15T20:16:15.743336Z",
     "iopub.status.idle": "2022-03-15T20:16:17.249528Z",
     "shell.execute_reply": "2022-03-15T20:16:17.248979Z"
    },
    "papermill": {
     "duration": 1.805261,
     "end_time": "2022-03-15T20:16:17.249666",
     "exception": false,
     "start_time": "2022-03-15T20:16:15.444405",
     "status": "completed"
    },
    "tags": []
   },
   "outputs": [],
   "source": [
    "train = pd.read_csv('../input/feedback-prize-2021/train.csv')\n",
    "sample_submission = pd.read_csv('../input/feedback-prize-2021/sample_submission.csv')"
   ]
  },
  {
   "cell_type": "code",
   "execution_count": 7,
   "id": "18200306",
   "metadata": {
    "execution": {
     "iopub.execute_input": "2022-03-15T20:16:17.848883Z",
     "iopub.status.busy": "2022-03-15T20:16:17.848318Z",
     "iopub.status.idle": "2022-03-15T20:16:17.867184Z",
     "shell.execute_reply": "2022-03-15T20:16:17.867609Z"
    },
    "papermill": {
     "duration": 0.326786,
     "end_time": "2022-03-15T20:16:17.867746",
     "exception": false,
     "start_time": "2022-03-15T20:16:17.540960",
     "status": "completed"
    },
    "tags": []
   },
   "outputs": [
    {
     "name": "stdout",
     "output_type": "stream",
     "text": [
      "(144293, 8)\n"
     ]
    },
    {
     "data": {
      "text/html": [
       "<div>\n",
       "<style scoped>\n",
       "    .dataframe tbody tr th:only-of-type {\n",
       "        vertical-align: middle;\n",
       "    }\n",
       "\n",
       "    .dataframe tbody tr th {\n",
       "        vertical-align: top;\n",
       "    }\n",
       "\n",
       "    .dataframe thead th {\n",
       "        text-align: right;\n",
       "    }\n",
       "</style>\n",
       "<table border=\"1\" class=\"dataframe\">\n",
       "  <thead>\n",
       "    <tr style=\"text-align: right;\">\n",
       "      <th></th>\n",
       "      <th>id</th>\n",
       "      <th>discourse_id</th>\n",
       "      <th>discourse_start</th>\n",
       "      <th>discourse_end</th>\n",
       "      <th>discourse_text</th>\n",
       "      <th>discourse_type</th>\n",
       "      <th>discourse_type_num</th>\n",
       "      <th>predictionstring</th>\n",
       "    </tr>\n",
       "  </thead>\n",
       "  <tbody>\n",
       "    <tr>\n",
       "      <th>0</th>\n",
       "      <td>423A1CA112E2</td>\n",
       "      <td>1.622628e+12</td>\n",
       "      <td>8.0</td>\n",
       "      <td>229.0</td>\n",
       "      <td>Modern humans today are always on their phone....</td>\n",
       "      <td>Lead</td>\n",
       "      <td>Lead 1</td>\n",
       "      <td>1 2 3 4 5 6 7 8 9 10 11 12 13 14 15 16 17 18 1...</td>\n",
       "    </tr>\n",
       "    <tr>\n",
       "      <th>1</th>\n",
       "      <td>423A1CA112E2</td>\n",
       "      <td>1.622628e+12</td>\n",
       "      <td>230.0</td>\n",
       "      <td>312.0</td>\n",
       "      <td>They are some really bad consequences when stu...</td>\n",
       "      <td>Position</td>\n",
       "      <td>Position 1</td>\n",
       "      <td>45 46 47 48 49 50 51 52 53 54 55 56 57 58 59</td>\n",
       "    </tr>\n",
       "    <tr>\n",
       "      <th>2</th>\n",
       "      <td>423A1CA112E2</td>\n",
       "      <td>1.622628e+12</td>\n",
       "      <td>313.0</td>\n",
       "      <td>401.0</td>\n",
       "      <td>Some certain areas in the United States ban ph...</td>\n",
       "      <td>Evidence</td>\n",
       "      <td>Evidence 1</td>\n",
       "      <td>60 61 62 63 64 65 66 67 68 69 70 71 72 73 74 75</td>\n",
       "    </tr>\n",
       "    <tr>\n",
       "      <th>3</th>\n",
       "      <td>423A1CA112E2</td>\n",
       "      <td>1.622628e+12</td>\n",
       "      <td>402.0</td>\n",
       "      <td>758.0</td>\n",
       "      <td>When people have phones, they know about certa...</td>\n",
       "      <td>Evidence</td>\n",
       "      <td>Evidence 2</td>\n",
       "      <td>76 77 78 79 80 81 82 83 84 85 86 87 88 89 90 9...</td>\n",
       "    </tr>\n",
       "    <tr>\n",
       "      <th>4</th>\n",
       "      <td>423A1CA112E2</td>\n",
       "      <td>1.622628e+12</td>\n",
       "      <td>759.0</td>\n",
       "      <td>886.0</td>\n",
       "      <td>Driving is one of the way how to get around. P...</td>\n",
       "      <td>Claim</td>\n",
       "      <td>Claim 1</td>\n",
       "      <td>139 140 141 142 143 144 145 146 147 148 149 15...</td>\n",
       "    </tr>\n",
       "  </tbody>\n",
       "</table>\n",
       "</div>"
      ],
      "text/plain": [
       "             id  discourse_id  discourse_start  discourse_end  \\\n",
       "0  423A1CA112E2  1.622628e+12              8.0          229.0   \n",
       "1  423A1CA112E2  1.622628e+12            230.0          312.0   \n",
       "2  423A1CA112E2  1.622628e+12            313.0          401.0   \n",
       "3  423A1CA112E2  1.622628e+12            402.0          758.0   \n",
       "4  423A1CA112E2  1.622628e+12            759.0          886.0   \n",
       "\n",
       "                                      discourse_text discourse_type  \\\n",
       "0  Modern humans today are always on their phone....           Lead   \n",
       "1  They are some really bad consequences when stu...       Position   \n",
       "2  Some certain areas in the United States ban ph...       Evidence   \n",
       "3  When people have phones, they know about certa...       Evidence   \n",
       "4  Driving is one of the way how to get around. P...          Claim   \n",
       "\n",
       "  discourse_type_num                                   predictionstring  \n",
       "0             Lead 1  1 2 3 4 5 6 7 8 9 10 11 12 13 14 15 16 17 18 1...  \n",
       "1         Position 1       45 46 47 48 49 50 51 52 53 54 55 56 57 58 59  \n",
       "2         Evidence 1    60 61 62 63 64 65 66 67 68 69 70 71 72 73 74 75  \n",
       "3         Evidence 2  76 77 78 79 80 81 82 83 84 85 86 87 88 89 90 9...  \n",
       "4            Claim 1  139 140 141 142 143 144 145 146 147 148 149 15...  "
      ]
     },
     "execution_count": 7,
     "metadata": {},
     "output_type": "execute_result"
    }
   ],
   "source": [
    "print(train.shape)\n",
    "train.head()"
   ]
  },
  {
   "cell_type": "code",
   "execution_count": null,
   "id": "33289ce7",
   "metadata": {
    "papermill": {
     "duration": 0.293755,
     "end_time": "2022-03-15T20:16:18.451619",
     "exception": false,
     "start_time": "2022-03-15T20:16:18.157864",
     "status": "completed"
    },
    "tags": []
   },
   "outputs": [],
   "source": []
  },
  {
   "cell_type": "code",
   "execution_count": 8,
   "id": "7b7359a7",
   "metadata": {
    "execution": {
     "iopub.execute_input": "2022-03-15T20:16:19.072399Z",
     "iopub.status.busy": "2022-03-15T20:16:19.071471Z",
     "iopub.status.idle": "2022-03-15T20:16:19.074844Z",
     "shell.execute_reply": "2022-03-15T20:16:19.074153Z"
    },
    "papermill": {
     "duration": 0.300667,
     "end_time": "2022-03-15T20:16:19.074998",
     "exception": false,
     "start_time": "2022-03-15T20:16:18.774331",
     "status": "completed"
    },
    "tags": []
   },
   "outputs": [
    {
     "name": "stdout",
     "output_type": "stream",
     "text": [
      "Training data consists of 144293 annotaions\n"
     ]
    }
   ],
   "source": [
    "print(f'Training data consists of {train.shape[0]} annotaions')"
   ]
  },
  {
   "cell_type": "code",
   "execution_count": 9,
   "id": "f070df30",
   "metadata": {
    "execution": {
     "iopub.execute_input": "2022-03-15T20:16:19.737978Z",
     "iopub.status.busy": "2022-03-15T20:16:19.718210Z",
     "iopub.status.idle": "2022-03-15T20:16:19.849590Z",
     "shell.execute_reply": "2022-03-15T20:16:19.850179Z"
    },
    "papermill": {
     "duration": 0.47628,
     "end_time": "2022-03-15T20:16:19.850383",
     "exception": false,
     "start_time": "2022-03-15T20:16:19.374103",
     "status": "completed"
    },
    "tags": []
   },
   "outputs": [
    {
     "name": "stdout",
     "output_type": "stream",
     "text": [
      "50355\n",
      "------------------------------------\n",
      "44\n",
      "['Lead 1' 'Position 1' 'Evidence 1' 'Evidence 2' 'Claim 1' 'Evidence 3'\n",
      " 'Evidence 4' 'Claim 2' 'Evidence 5' 'Concluding Statement 1'\n",
      " 'Counterclaim 1' 'Rebuttal 1' 'Claim 3' 'Claim 4' 'Claim 5' 'Claim 6'\n",
      " 'Claim 7' 'Counterclaim 2' 'Rebuttal 2' 'Counterclaim 3' 'Rebuttal 3'\n",
      " 'Evidence 6' 'Lead 2' 'Counterclaim 4' 'Counterclaim 5' 'Counterclaim 6'\n",
      " 'Evidence 7' 'Claim 8' 'Evidence 8' 'Concluding Statement 2' 'Rebuttal 4'\n",
      " 'Rebuttal 5' 'Claim 9' 'Position 2' 'Claim 10' 'Claim 11' 'Claim 12'\n",
      " 'Evidence 9' 'Concluding Statement 3' 'Concluding Statement 4'\n",
      " 'Evidence 10' 'Evidence 11' 'Rebuttal 6' 'Evidence 12']\n",
      "------------------------------------\n",
      "['Lead' 'Position' 'Evidence' 'Claim' 'Concluding Statement'\n",
      " 'Counterclaim' 'Rebuttal']\n"
     ]
    }
   ],
   "source": [
    "print(train[\"predictionstring\"].nunique())\n",
    "print(\"------------------------------------\")\n",
    "print(train[\"discourse_type_num\"].nunique())\n",
    "print(train[\"discourse_type_num\"].unique())\n",
    "print(\"------------------------------------\")\n",
    "print(train[\"discourse_type\"].unique())"
   ]
  },
  {
   "cell_type": "code",
   "execution_count": 10,
   "id": "f7d2aa40",
   "metadata": {
    "execution": {
     "iopub.execute_input": "2022-03-15T20:16:20.448526Z",
     "iopub.status.busy": "2022-03-15T20:16:20.445900Z",
     "iopub.status.idle": "2022-03-15T20:16:21.109018Z",
     "shell.execute_reply": "2022-03-15T20:16:21.108548Z"
    },
    "papermill": {
     "duration": 0.965714,
     "end_time": "2022-03-15T20:16:21.109158",
     "exception": false,
     "start_time": "2022-03-15T20:16:20.143444",
     "status": "completed"
    },
    "tags": []
   },
   "outputs": [],
   "source": [
    "train[\"discourse_len\"] = train[\"discourse_text\"].apply(lambda x:len(x.split()))"
   ]
  },
  {
   "cell_type": "code",
   "execution_count": 11,
   "id": "8e67b949",
   "metadata": {
    "execution": {
     "iopub.execute_input": "2022-03-15T20:16:21.942828Z",
     "iopub.status.busy": "2022-03-15T20:16:21.941844Z",
     "iopub.status.idle": "2022-03-15T20:16:22.533827Z",
     "shell.execute_reply": "2022-03-15T20:16:22.533108Z"
    },
    "papermill": {
     "duration": 1.114182,
     "end_time": "2022-03-15T20:16:22.534002",
     "exception": false,
     "start_time": "2022-03-15T20:16:21.419820",
     "status": "completed"
    },
    "tags": []
   },
   "outputs": [],
   "source": [
    "train[\"predictionstring_len\"] = train[\"predictionstring\"].apply(lambda x:len(x.split()))"
   ]
  },
  {
   "cell_type": "code",
   "execution_count": 12,
   "id": "ed865252",
   "metadata": {
    "execution": {
     "iopub.execute_input": "2022-03-15T20:16:23.170398Z",
     "iopub.status.busy": "2022-03-15T20:16:23.168697Z",
     "iopub.status.idle": "2022-03-15T20:16:23.170954Z",
     "shell.execute_reply": "2022-03-15T20:16:23.171399Z"
    },
    "papermill": {
     "duration": 0.307825,
     "end_time": "2022-03-15T20:16:23.171544",
     "exception": false,
     "start_time": "2022-03-15T20:16:22.863719",
     "status": "completed"
    },
    "tags": []
   },
   "outputs": [],
   "source": [
    "train[\"len_predict\"] = 0"
   ]
  },
  {
   "cell_type": "code",
   "execution_count": 13,
   "id": "ee86bcbf",
   "metadata": {
    "execution": {
     "iopub.execute_input": "2022-03-15T20:16:23.774335Z",
     "iopub.status.busy": "2022-03-15T20:16:23.773515Z",
     "iopub.status.idle": "2022-03-15T20:16:59.299552Z",
     "shell.execute_reply": "2022-03-15T20:16:59.300024Z"
    },
    "papermill": {
     "duration": 35.830616,
     "end_time": "2022-03-15T20:16:59.300228",
     "exception": false,
     "start_time": "2022-03-15T20:16:23.469612",
     "status": "completed"
    },
    "tags": []
   },
   "outputs": [
    {
     "name": "stderr",
     "output_type": "stream",
     "text": [
      "/opt/conda/lib/python3.7/site-packages/ipykernel_launcher.py:3: SettingWithCopyWarning: \n",
      "A value is trying to be set on a copy of a slice from a DataFrame\n",
      "\n",
      "See the caveats in the documentation: https://pandas.pydata.org/pandas-docs/stable/user_guide/indexing.html#returning-a-view-versus-a-copy\n",
      "  This is separate from the ipykernel package so we can avoid doing imports until\n",
      "/opt/conda/lib/python3.7/site-packages/ipykernel_launcher.py:5: SettingWithCopyWarning: \n",
      "A value is trying to be set on a copy of a slice from a DataFrame\n",
      "\n",
      "See the caveats in the documentation: https://pandas.pydata.org/pandas-docs/stable/user_guide/indexing.html#returning-a-view-versus-a-copy\n",
      "  \"\"\"\n"
     ]
    }
   ],
   "source": [
    "for i in range(0,len(train[\"discourse_len\"])):\n",
    "    if train[\"discourse_len\"][i] == train[\"predictionstring_len\"][i]:\n",
    "        train[\"len_predict\"][i] = 0\n",
    "    else:\n",
    "        train[\"len_predict\"][i] = 1"
   ]
  },
  {
   "cell_type": "code",
   "execution_count": 14,
   "id": "be17d811",
   "metadata": {
    "execution": {
     "iopub.execute_input": "2022-03-15T20:16:59.893488Z",
     "iopub.status.busy": "2022-03-15T20:16:59.892782Z",
     "iopub.status.idle": "2022-03-15T20:16:59.895557Z",
     "shell.execute_reply": "2022-03-15T20:16:59.895944Z"
    },
    "papermill": {
     "duration": 0.300135,
     "end_time": "2022-03-15T20:16:59.896083",
     "exception": false,
     "start_time": "2022-03-15T20:16:59.595948",
     "status": "completed"
    },
    "tags": []
   },
   "outputs": [
    {
     "data": {
      "text/plain": [
       "468"
      ]
     },
     "execution_count": 14,
     "metadata": {},
     "output_type": "execute_result"
    }
   ],
   "source": [
    "train[\"len_predict\"].sum()"
   ]
  },
  {
   "cell_type": "code",
   "execution_count": 15,
   "id": "c570b760",
   "metadata": {
    "execution": {
     "iopub.execute_input": "2022-03-15T20:17:00.484224Z",
     "iopub.status.busy": "2022-03-15T20:17:00.483350Z",
     "iopub.status.idle": "2022-03-15T20:17:00.500952Z",
     "shell.execute_reply": "2022-03-15T20:17:00.501964Z"
    },
    "papermill": {
     "duration": 0.316727,
     "end_time": "2022-03-15T20:17:00.502187",
     "exception": false,
     "start_time": "2022-03-15T20:17:00.185460",
     "status": "completed"
    },
    "tags": []
   },
   "outputs": [
    {
     "data": {
      "text/html": [
       "<div>\n",
       "<style scoped>\n",
       "    .dataframe tbody tr th:only-of-type {\n",
       "        vertical-align: middle;\n",
       "    }\n",
       "\n",
       "    .dataframe tbody tr th {\n",
       "        vertical-align: top;\n",
       "    }\n",
       "\n",
       "    .dataframe thead th {\n",
       "        text-align: right;\n",
       "    }\n",
       "</style>\n",
       "<table border=\"1\" class=\"dataframe\">\n",
       "  <thead>\n",
       "    <tr style=\"text-align: right;\">\n",
       "      <th></th>\n",
       "      <th>id</th>\n",
       "      <th>discourse_id</th>\n",
       "      <th>discourse_start</th>\n",
       "      <th>discourse_end</th>\n",
       "      <th>discourse_text</th>\n",
       "      <th>discourse_type</th>\n",
       "      <th>discourse_type_num</th>\n",
       "      <th>predictionstring</th>\n",
       "      <th>discourse_len</th>\n",
       "      <th>predictionstring_len</th>\n",
       "      <th>len_predict</th>\n",
       "    </tr>\n",
       "  </thead>\n",
       "  <tbody>\n",
       "    <tr>\n",
       "      <th>0</th>\n",
       "      <td>423A1CA112E2</td>\n",
       "      <td>1.622628e+12</td>\n",
       "      <td>8.0</td>\n",
       "      <td>229.0</td>\n",
       "      <td>Modern humans today are always on their phone....</td>\n",
       "      <td>Lead</td>\n",
       "      <td>Lead 1</td>\n",
       "      <td>1 2 3 4 5 6 7 8 9 10 11 12 13 14 15 16 17 18 1...</td>\n",
       "      <td>44</td>\n",
       "      <td>44</td>\n",
       "      <td>0</td>\n",
       "    </tr>\n",
       "    <tr>\n",
       "      <th>1</th>\n",
       "      <td>423A1CA112E2</td>\n",
       "      <td>1.622628e+12</td>\n",
       "      <td>230.0</td>\n",
       "      <td>312.0</td>\n",
       "      <td>They are some really bad consequences when stu...</td>\n",
       "      <td>Position</td>\n",
       "      <td>Position 1</td>\n",
       "      <td>45 46 47 48 49 50 51 52 53 54 55 56 57 58 59</td>\n",
       "      <td>15</td>\n",
       "      <td>15</td>\n",
       "      <td>0</td>\n",
       "    </tr>\n",
       "    <tr>\n",
       "      <th>2</th>\n",
       "      <td>423A1CA112E2</td>\n",
       "      <td>1.622628e+12</td>\n",
       "      <td>313.0</td>\n",
       "      <td>401.0</td>\n",
       "      <td>Some certain areas in the United States ban ph...</td>\n",
       "      <td>Evidence</td>\n",
       "      <td>Evidence 1</td>\n",
       "      <td>60 61 62 63 64 65 66 67 68 69 70 71 72 73 74 75</td>\n",
       "      <td>16</td>\n",
       "      <td>16</td>\n",
       "      <td>0</td>\n",
       "    </tr>\n",
       "    <tr>\n",
       "      <th>3</th>\n",
       "      <td>423A1CA112E2</td>\n",
       "      <td>1.622628e+12</td>\n",
       "      <td>402.0</td>\n",
       "      <td>758.0</td>\n",
       "      <td>When people have phones, they know about certa...</td>\n",
       "      <td>Evidence</td>\n",
       "      <td>Evidence 2</td>\n",
       "      <td>76 77 78 79 80 81 82 83 84 85 86 87 88 89 90 9...</td>\n",
       "      <td>63</td>\n",
       "      <td>63</td>\n",
       "      <td>0</td>\n",
       "    </tr>\n",
       "    <tr>\n",
       "      <th>4</th>\n",
       "      <td>423A1CA112E2</td>\n",
       "      <td>1.622628e+12</td>\n",
       "      <td>759.0</td>\n",
       "      <td>886.0</td>\n",
       "      <td>Driving is one of the way how to get around. P...</td>\n",
       "      <td>Claim</td>\n",
       "      <td>Claim 1</td>\n",
       "      <td>139 140 141 142 143 144 145 146 147 148 149 15...</td>\n",
       "      <td>24</td>\n",
       "      <td>24</td>\n",
       "      <td>0</td>\n",
       "    </tr>\n",
       "  </tbody>\n",
       "</table>\n",
       "</div>"
      ],
      "text/plain": [
       "             id  discourse_id  discourse_start  discourse_end  \\\n",
       "0  423A1CA112E2  1.622628e+12              8.0          229.0   \n",
       "1  423A1CA112E2  1.622628e+12            230.0          312.0   \n",
       "2  423A1CA112E2  1.622628e+12            313.0          401.0   \n",
       "3  423A1CA112E2  1.622628e+12            402.0          758.0   \n",
       "4  423A1CA112E2  1.622628e+12            759.0          886.0   \n",
       "\n",
       "                                      discourse_text discourse_type  \\\n",
       "0  Modern humans today are always on their phone....           Lead   \n",
       "1  They are some really bad consequences when stu...       Position   \n",
       "2  Some certain areas in the United States ban ph...       Evidence   \n",
       "3  When people have phones, they know about certa...       Evidence   \n",
       "4  Driving is one of the way how to get around. P...          Claim   \n",
       "\n",
       "  discourse_type_num                                   predictionstring  \\\n",
       "0             Lead 1  1 2 3 4 5 6 7 8 9 10 11 12 13 14 15 16 17 18 1...   \n",
       "1         Position 1       45 46 47 48 49 50 51 52 53 54 55 56 57 58 59   \n",
       "2         Evidence 1    60 61 62 63 64 65 66 67 68 69 70 71 72 73 74 75   \n",
       "3         Evidence 2  76 77 78 79 80 81 82 83 84 85 86 87 88 89 90 9...   \n",
       "4            Claim 1  139 140 141 142 143 144 145 146 147 148 149 15...   \n",
       "\n",
       "   discourse_len  predictionstring_len  len_predict  \n",
       "0             44                    44            0  \n",
       "1             15                    15            0  \n",
       "2             16                    16            0  \n",
       "3             63                    63            0  \n",
       "4             24                    24            0  "
      ]
     },
     "execution_count": 15,
     "metadata": {},
     "output_type": "execute_result"
    }
   ],
   "source": [
    "train.head()"
   ]
  },
  {
   "cell_type": "code",
   "execution_count": 16,
   "id": "dd509504",
   "metadata": {
    "execution": {
     "iopub.execute_input": "2022-03-15T20:17:01.091229Z",
     "iopub.status.busy": "2022-03-15T20:17:01.090414Z",
     "iopub.status.idle": "2022-03-15T20:17:01.092174Z",
     "shell.execute_reply": "2022-03-15T20:17:01.091734Z"
    },
    "papermill": {
     "duration": 0.300043,
     "end_time": "2022-03-15T20:17:01.092287",
     "exception": false,
     "start_time": "2022-03-15T20:17:00.792244",
     "status": "completed"
    },
    "tags": []
   },
   "outputs": [],
   "source": [
    "#test_names, test_texts = [], []\n",
    "#for f in tqdm(list(os.listdir('../input/feedback-prize-2021/test'))):\n",
    "#    test_names.append(f.replace('.txt', ''))\n",
    "#    test_texts.append(open('../input/feedback-prize-2021/test/' + f, 'r').read())\n",
    "#test_texts = pd.DataFrame({'id': test_names, 'text': test_texts})\n",
    "#\n",
    "#test_texts.head()"
   ]
  },
  {
   "cell_type": "code",
   "execution_count": 17,
   "id": "7b1c0a71",
   "metadata": {
    "execution": {
     "iopub.execute_input": "2022-03-15T20:17:01.681281Z",
     "iopub.status.busy": "2022-03-15T20:17:01.680374Z",
     "iopub.status.idle": "2022-03-15T20:17:52.746108Z",
     "shell.execute_reply": "2022-03-15T20:17:52.745490Z"
    },
    "papermill": {
     "duration": 51.364074,
     "end_time": "2022-03-15T20:17:52.746285",
     "exception": false,
     "start_time": "2022-03-15T20:17:01.382211",
     "status": "completed"
    },
    "tags": []
   },
   "outputs": [
    {
     "name": "stderr",
     "output_type": "stream",
     "text": [
      "100%|██████████| 15594/15594 [00:50<00:00, 307.65it/s]\n"
     ]
    },
    {
     "data": {
      "text/html": [
       "<div>\n",
       "<style scoped>\n",
       "    .dataframe tbody tr th:only-of-type {\n",
       "        vertical-align: middle;\n",
       "    }\n",
       "\n",
       "    .dataframe tbody tr th {\n",
       "        vertical-align: top;\n",
       "    }\n",
       "\n",
       "    .dataframe thead th {\n",
       "        text-align: right;\n",
       "    }\n",
       "</style>\n",
       "<table border=\"1\" class=\"dataframe\">\n",
       "  <thead>\n",
       "    <tr style=\"text-align: right;\">\n",
       "      <th></th>\n",
       "      <th>id</th>\n",
       "      <th>text</th>\n",
       "    </tr>\n",
       "  </thead>\n",
       "  <tbody>\n",
       "    <tr>\n",
       "      <th>0</th>\n",
       "      <td>62C57C524CD2</td>\n",
       "      <td>I think we should be able to play in a sport i...</td>\n",
       "    </tr>\n",
       "    <tr>\n",
       "      <th>1</th>\n",
       "      <td>80667AD3FFD8</td>\n",
       "      <td>Some schools require summer projects for stude...</td>\n",
       "    </tr>\n",
       "    <tr>\n",
       "      <th>2</th>\n",
       "      <td>21868C40B94F</td>\n",
       "      <td>Driverless cars have been argued and talked ab...</td>\n",
       "    </tr>\n",
       "    <tr>\n",
       "      <th>3</th>\n",
       "      <td>87A6EF3113C6</td>\n",
       "      <td>The author of \"The Challenge of Exploring Venu...</td>\n",
       "    </tr>\n",
       "    <tr>\n",
       "      <th>4</th>\n",
       "      <td>24687D08CFDA</td>\n",
       "      <td>Wow, from the mar really look like humans face...</td>\n",
       "    </tr>\n",
       "  </tbody>\n",
       "</table>\n",
       "</div>"
      ],
      "text/plain": [
       "             id                                               text\n",
       "0  62C57C524CD2  I think we should be able to play in a sport i...\n",
       "1  80667AD3FFD8  Some schools require summer projects for stude...\n",
       "2  21868C40B94F  Driverless cars have been argued and talked ab...\n",
       "3  87A6EF3113C6  The author of \"The Challenge of Exploring Venu...\n",
       "4  24687D08CFDA  Wow, from the mar really look like humans face..."
      ]
     },
     "execution_count": 17,
     "metadata": {},
     "output_type": "execute_result"
    }
   ],
   "source": [
    "test_names, train_texts = [], []\n",
    "for f in tqdm(list(os.listdir('../input/feedback-prize-2021/train'))):\n",
    "    test_names.append(f.replace('.txt', ''))\n",
    "    train_texts.append(open('../input/feedback-prize-2021/train/' + f, 'r').read())\n",
    "train_text_df = pd.DataFrame({'id': test_names, 'text': train_texts})\n",
    "\n",
    "train_text_df.head()"
   ]
  },
  {
   "cell_type": "code",
   "execution_count": 18,
   "id": "f5a66d2a",
   "metadata": {
    "execution": {
     "iopub.execute_input": "2022-03-15T20:17:53.651813Z",
     "iopub.status.busy": "2022-03-15T20:17:53.650848Z",
     "iopub.status.idle": "2022-03-15T20:23:32.661908Z",
     "shell.execute_reply": "2022-03-15T20:23:32.662337Z"
    },
    "papermill": {
     "duration": 339.464364,
     "end_time": "2022-03-15T20:23:32.662524",
     "exception": false,
     "start_time": "2022-03-15T20:17:53.198160",
     "status": "completed"
    },
    "tags": []
   },
   "outputs": [
    {
     "name": "stderr",
     "output_type": "stream",
     "text": [
      "15594it [05:38, 46.00it/s]\n"
     ]
    }
   ],
   "source": [
    "train_df = train.copy()\n",
    "all_entities = []\n",
    "for i in tqdm(train_text_df.iterrows()):\n",
    "    total = i[1]['text'].split(' ').__len__()\n",
    "    start = -1\n",
    "    entities = []\n",
    "    for j in train_df[train_df['id'] == i[1]['id']].iterrows():\n",
    "        discourse = j[1]['discourse_type']\n",
    "        list_ix = j[1]['predictionstring'].split(' ')\n",
    "        ent = [f\"I-{discourse}\" for ix in list_ix]\n",
    "        ent[0] = f\"B-{discourse}\"\n",
    "        ds = int(list_ix[0])\n",
    "        de = int(list_ix[-1])\n",
    "        if start < ds-1:\n",
    "            ent_add = ['O' for ix in range(int(ds-1-start))]\n",
    "            ent = ent_add + ent\n",
    "        entities.extend(ent)\n",
    "        start = de\n",
    "    if len(entities) < total:\n",
    "        ent_add = [\"O\" for ix in range(total-len(entities))]\n",
    "        entities += ent_add\n",
    "    else:\n",
    "        entities = entities[:total]\n",
    "    all_entities.append(entities)"
   ]
  },
  {
   "cell_type": "code",
   "execution_count": 19,
   "id": "b12ec6de",
   "metadata": {
    "execution": {
     "iopub.execute_input": "2022-03-15T20:23:35.554923Z",
     "iopub.status.busy": "2022-03-15T20:23:35.544538Z",
     "iopub.status.idle": "2022-03-15T20:23:35.557615Z",
     "shell.execute_reply": "2022-03-15T20:23:35.558019Z"
    },
    "papermill": {
     "duration": 1.456594,
     "end_time": "2022-03-15T20:23:35.558203",
     "exception": false,
     "start_time": "2022-03-15T20:23:34.101609",
     "status": "completed"
    },
    "tags": []
   },
   "outputs": [
    {
     "data": {
      "text/html": [
       "<div>\n",
       "<style scoped>\n",
       "    .dataframe tbody tr th:only-of-type {\n",
       "        vertical-align: middle;\n",
       "    }\n",
       "\n",
       "    .dataframe tbody tr th {\n",
       "        vertical-align: top;\n",
       "    }\n",
       "\n",
       "    .dataframe thead th {\n",
       "        text-align: right;\n",
       "    }\n",
       "</style>\n",
       "<table border=\"1\" class=\"dataframe\">\n",
       "  <thead>\n",
       "    <tr style=\"text-align: right;\">\n",
       "      <th></th>\n",
       "      <th>id</th>\n",
       "      <th>text</th>\n",
       "      <th>entities</th>\n",
       "    </tr>\n",
       "  </thead>\n",
       "  <tbody>\n",
       "    <tr>\n",
       "      <th>0</th>\n",
       "      <td>62C57C524CD2</td>\n",
       "      <td>I think we should be able to play in a sport i...</td>\n",
       "      <td>[B-Position, I-Position, I-Position, I-Positio...</td>\n",
       "    </tr>\n",
       "    <tr>\n",
       "      <th>1</th>\n",
       "      <td>80667AD3FFD8</td>\n",
       "      <td>Some schools require summer projects for stude...</td>\n",
       "      <td>[B-Position, I-Position, I-Position, I-Positio...</td>\n",
       "    </tr>\n",
       "    <tr>\n",
       "      <th>2</th>\n",
       "      <td>21868C40B94F</td>\n",
       "      <td>Driverless cars have been argued and talked ab...</td>\n",
       "      <td>[B-Lead, I-Lead, I-Lead, I-Lead, I-Lead, I-Lea...</td>\n",
       "    </tr>\n",
       "    <tr>\n",
       "      <th>3</th>\n",
       "      <td>87A6EF3113C6</td>\n",
       "      <td>The author of \"The Challenge of Exploring Venu...</td>\n",
       "      <td>[B-Position, I-Position, I-Position, I-Positio...</td>\n",
       "    </tr>\n",
       "    <tr>\n",
       "      <th>4</th>\n",
       "      <td>24687D08CFDA</td>\n",
       "      <td>Wow, from the mar really look like humans face...</td>\n",
       "      <td>[B-Lead, I-Lead, I-Lead, I-Lead, I-Lead, I-Lea...</td>\n",
       "    </tr>\n",
       "  </tbody>\n",
       "</table>\n",
       "</div>"
      ],
      "text/plain": [
       "             id                                               text  \\\n",
       "0  62C57C524CD2  I think we should be able to play in a sport i...   \n",
       "1  80667AD3FFD8  Some schools require summer projects for stude...   \n",
       "2  21868C40B94F  Driverless cars have been argued and talked ab...   \n",
       "3  87A6EF3113C6  The author of \"The Challenge of Exploring Venu...   \n",
       "4  24687D08CFDA  Wow, from the mar really look like humans face...   \n",
       "\n",
       "                                            entities  \n",
       "0  [B-Position, I-Position, I-Position, I-Positio...  \n",
       "1  [B-Position, I-Position, I-Position, I-Positio...  \n",
       "2  [B-Lead, I-Lead, I-Lead, I-Lead, I-Lead, I-Lea...  \n",
       "3  [B-Position, I-Position, I-Position, I-Positio...  \n",
       "4  [B-Lead, I-Lead, I-Lead, I-Lead, I-Lead, I-Lea...  "
      ]
     },
     "execution_count": 19,
     "metadata": {},
     "output_type": "execute_result"
    }
   ],
   "source": [
    "train_text_df['entities'] = all_entities\n",
    "train_text_df.head()"
   ]
  },
  {
   "cell_type": "code",
   "execution_count": 20,
   "id": "947af9df",
   "metadata": {
    "execution": {
     "iopub.execute_input": "2022-03-15T20:23:38.532621Z",
     "iopub.status.busy": "2022-03-15T20:23:38.531732Z",
     "iopub.status.idle": "2022-03-15T20:23:38.533535Z",
     "shell.execute_reply": "2022-03-15T20:23:38.534296Z"
    },
    "papermill": {
     "duration": 1.513643,
     "end_time": "2022-03-15T20:23:38.534448",
     "exception": false,
     "start_time": "2022-03-15T20:23:37.020805",
     "status": "completed"
    },
    "tags": []
   },
   "outputs": [],
   "source": [
    "config = {'model_name': '/kaggle/input/roberta-base/',\n",
    "         'max_length': 512,\n",
    "         'train_batch_size':8,\n",
    "         'valid_batch_size':16,\n",
    "         'epochs':3,\n",
    "         'learning_rate':1e-05,\n",
    "         'max_grad_norm':10,\n",
    "         'device': 'cuda' if cuda.is_available() else 'cpu'}"
   ]
  },
  {
   "cell_type": "code",
   "execution_count": 21,
   "id": "fb3099c9",
   "metadata": {
    "execution": {
     "iopub.execute_input": "2022-03-15T20:23:41.704394Z",
     "iopub.status.busy": "2022-03-15T20:23:41.703560Z",
     "iopub.status.idle": "2022-03-15T20:23:41.705593Z",
     "shell.execute_reply": "2022-03-15T20:23:41.705953Z"
    },
    "papermill": {
     "duration": 1.706461,
     "end_time": "2022-03-15T20:23:41.706099",
     "exception": false,
     "start_time": "2022-03-15T20:23:39.999638",
     "status": "completed"
    },
    "tags": []
   },
   "outputs": [],
   "source": [
    "output_labels = ['O', 'B-Lead', 'I-Lead', 'B-Position', 'I-Position', 'B-Claim', 'I-Claim', 'B-Counterclaim', 'I-Counterclaim', \n",
    "          'B-Rebuttal', 'I-Rebuttal', 'B-Evidence', 'I-Evidence', 'B-Concluding Statement', 'I-Concluding Statement']\n",
    "\n",
    "labels_to_ids = {v:k for k,v in enumerate(output_labels)}\n",
    "ids_to_labels = {k:v for k,v in enumerate(output_labels)}"
   ]
  },
  {
   "cell_type": "code",
   "execution_count": 22,
   "id": "0e026b71",
   "metadata": {
    "execution": {
     "iopub.execute_input": "2022-03-15T20:23:44.530636Z",
     "iopub.status.busy": "2022-03-15T20:23:44.529944Z",
     "iopub.status.idle": "2022-03-15T20:23:44.533300Z",
     "shell.execute_reply": "2022-03-15T20:23:44.533924Z"
    },
    "papermill": {
     "duration": 1.421327,
     "end_time": "2022-03-15T20:23:44.534118",
     "exception": false,
     "start_time": "2022-03-15T20:23:43.112791",
     "status": "completed"
    },
    "tags": []
   },
   "outputs": [
    {
     "name": "stdout",
     "output_type": "stream",
     "text": [
      "{'O': 0, 'B-Lead': 1, 'I-Lead': 2, 'B-Position': 3, 'I-Position': 4, 'B-Claim': 5, 'I-Claim': 6, 'B-Counterclaim': 7, 'I-Counterclaim': 8, 'B-Rebuttal': 9, 'I-Rebuttal': 10, 'B-Evidence': 11, 'I-Evidence': 12, 'B-Concluding Statement': 13, 'I-Concluding Statement': 14}\n",
      "{0: 'O', 1: 'B-Lead', 2: 'I-Lead', 3: 'B-Position', 4: 'I-Position', 5: 'B-Claim', 6: 'I-Claim', 7: 'B-Counterclaim', 8: 'I-Counterclaim', 9: 'B-Rebuttal', 10: 'I-Rebuttal', 11: 'B-Evidence', 12: 'I-Evidence', 13: 'B-Concluding Statement', 14: 'I-Concluding Statement'}\n"
     ]
    }
   ],
   "source": [
    "print(labels_to_ids)\n",
    "print(ids_to_labels)"
   ]
  },
  {
   "cell_type": "code",
   "execution_count": 23,
   "id": "5ce23b92",
   "metadata": {
    "execution": {
     "iopub.execute_input": "2022-03-15T20:23:47.400635Z",
     "iopub.status.busy": "2022-03-15T20:23:47.399965Z",
     "iopub.status.idle": "2022-03-15T20:23:53.733109Z",
     "shell.execute_reply": "2022-03-15T20:23:53.733574Z"
    },
    "papermill": {
     "duration": 7.791767,
     "end_time": "2022-03-15T20:23:53.733738",
     "exception": false,
     "start_time": "2022-03-15T20:23:45.941971",
     "status": "completed"
    },
    "tags": []
   },
   "outputs": [
    {
     "name": "stderr",
     "output_type": "stream",
     "text": [
      "Some weights of the model checkpoint at /kaggle/input/roberta-base/ were not used when initializing RobertaForTokenClassification: ['lm_head.layer_norm.weight', 'lm_head.dense.weight', 'lm_head.dense.bias', 'lm_head.decoder.weight', 'lm_head.bias', 'lm_head.layer_norm.bias']\n",
      "- This IS expected if you are initializing RobertaForTokenClassification from the checkpoint of a model trained on another task or with another architecture (e.g. initializing a BertForSequenceClassification model from a BertForPreTraining model).\n",
      "- This IS NOT expected if you are initializing RobertaForTokenClassification from the checkpoint of a model that you expect to be exactly identical (initializing a BertForSequenceClassification model from a BertForSequenceClassification model).\n",
      "Some weights of RobertaForTokenClassification were not initialized from the model checkpoint at /kaggle/input/roberta-base/ and are newly initialized: ['classifier.bias', 'classifier.weight']\n",
      "You should probably TRAIN this model on a down-stream task to be able to use it for predictions and inference.\n"
     ]
    }
   ],
   "source": [
    "tokenizer = RobertaTokenizerFast.from_pretrained(MODEL_NAME)\n",
    "\n",
    "model = RobertaForTokenClassification.from_pretrained(config['model_name'], num_labels=len(output_labels))"
   ]
  },
  {
   "cell_type": "code",
   "execution_count": 24,
   "id": "a4e41292",
   "metadata": {
    "execution": {
     "iopub.execute_input": "2022-03-15T20:23:56.569002Z",
     "iopub.status.busy": "2022-03-15T20:23:56.567157Z",
     "iopub.status.idle": "2022-03-15T20:23:56.570930Z",
     "shell.execute_reply": "2022-03-15T20:23:56.571393Z"
    },
    "papermill": {
     "duration": 1.428781,
     "end_time": "2022-03-15T20:23:56.571542",
     "exception": false,
     "start_time": "2022-03-15T20:23:55.142761",
     "status": "completed"
    },
    "tags": []
   },
   "outputs": [],
   "source": [
    "class dataset(Dataset):\n",
    "    def __init__(self, dataframe, tokenizer, max_len):\n",
    "        self.len = len(dataframe)\n",
    "        self.data = dataframe\n",
    "        self.tokenizer = tokenizer\n",
    "        self.max_len = max_len\n",
    "\n",
    "    def __getitem__(self, index):\n",
    "        # step 1: get the sentence and word labels \n",
    "        sentence = self.data.text[index]\n",
    "        word_labels = self.data.entities[index]\n",
    "\n",
    "        # step 2: use tokenizer to encode sentence (includes padding/truncation up to max length)\n",
    "        # BertTokenizerFast provides a handy \"return_offsets_mapping\" functionality for individual tokens\n",
    "        encoding = self.tokenizer(sentence,\n",
    "#                              is_pretokenized=True, \n",
    "#                                   is_split_into_words=True,\n",
    "                             return_offsets_mapping=True, \n",
    "                             padding='max_length', \n",
    "                             truncation=True,\n",
    "                            max_length=self.max_len)\n",
    "        \n",
    "        # step 3: create token labels only for first word pieces of each tokenized word\n",
    "#         pdb.set_trace()\n",
    "        labels = [labels_to_ids[label] for label in word_labels] \n",
    "        # code based on https://huggingface.co/transformers/custom_datasets.html#tok-ner\n",
    "        # create an empty array of -100 of length max_length\n",
    "        encoded_labels = np.ones(len(encoding[\"offset_mapping\"]), dtype=int) * -100\n",
    "#         print(len(sentence), len(labels))\n",
    "        # set only labels whose first offset position is 0 and the second is not 0\n",
    "        i = 0\n",
    "        for idx, mapping in enumerate(encoding[\"offset_mapping\"]):\n",
    "#             print(idx)\n",
    "            if mapping[0] != 0 and mapping[0] != encoding['offset_mapping'][idx-1][1]:\n",
    "            # overwrite label\n",
    "#             pdb.set_trace()\n",
    "#             print(mapping)\n",
    "#             print(encoded_labels.shape, len(labels), idx, i)\n",
    "                try:\n",
    "                    encoded_labels[idx] = labels[i]\n",
    "                except:\n",
    "                    pass\n",
    "                i += 1\n",
    "            else:\n",
    "                if idx==1:\n",
    "    #                 print(idx)\n",
    "                    encoded_labels[idx] = labels[i]\n",
    "                    i += 1\n",
    "        # step 4: turn everything into PyTorch tensors\n",
    "        item = {key: torch.as_tensor(val) for key, val in encoding.items()}\n",
    "        item['labels'] = torch.as_tensor(encoded_labels)\n",
    "        \n",
    "        return item\n",
    "\n",
    "    def __len__(self):\n",
    "        return self.len\n",
    "                                  "
   ]
  },
  {
   "cell_type": "code",
   "execution_count": 25,
   "id": "ba1b0de4",
   "metadata": {
    "execution": {
     "iopub.execute_input": "2022-03-15T20:23:59.860539Z",
     "iopub.status.busy": "2022-03-15T20:23:59.859812Z",
     "iopub.status.idle": "2022-03-15T20:23:59.872173Z",
     "shell.execute_reply": "2022-03-15T20:23:59.871551Z"
    },
    "papermill": {
     "duration": 1.895291,
     "end_time": "2022-03-15T20:23:59.872327",
     "exception": false,
     "start_time": "2022-03-15T20:23:57.977036",
     "status": "completed"
    },
    "tags": []
   },
   "outputs": [
    {
     "name": "stdout",
     "output_type": "stream",
     "text": [
      "FULL Dataset: (15594, 2)\n",
      "TRAIN Dataset: (12475, 2)\n",
      "TEST Dataset: (3119, 2)\n"
     ]
    }
   ],
   "source": [
    "data = train_text_df[['text', 'entities']]\n",
    "train_size = 0.8\n",
    "train_dataset = data.sample(frac=train_size,random_state=200)\n",
    "test_dataset = data.drop(train_dataset.index).reset_index(drop=True)\n",
    "train_dataset = train_dataset.reset_index(drop=True)\n",
    "\n",
    "print(\"FULL Dataset: {}\".format(data.shape))\n",
    "print(\"TRAIN Dataset: {}\".format(train_dataset.shape))\n",
    "print(\"TEST Dataset: {}\".format(test_dataset.shape))\n",
    "\n",
    "training_set = dataset(train_dataset, tokenizer, config['max_length'])\n",
    "testing_set = dataset(test_dataset, tokenizer, config['max_length'])"
   ]
  },
  {
   "cell_type": "code",
   "execution_count": 26,
   "id": "7d4d0dcb",
   "metadata": {
    "execution": {
     "iopub.execute_input": "2022-03-15T20:24:02.864205Z",
     "iopub.status.busy": "2022-03-15T20:24:02.863403Z",
     "iopub.status.idle": "2022-03-15T20:24:02.866346Z",
     "shell.execute_reply": "2022-03-15T20:24:02.866992Z"
    },
    "papermill": {
     "duration": 1.581134,
     "end_time": "2022-03-15T20:24:02.867180",
     "exception": false,
     "start_time": "2022-03-15T20:24:01.286046",
     "status": "completed"
    },
    "tags": []
   },
   "outputs": [],
   "source": [
    "train_params = {'batch_size': config['train_batch_size'],\n",
    "                'shuffle': True,\n",
    "                'num_workers': 1,\n",
    "                'pin_memory':True\n",
    "                }\n",
    "\n",
    "test_params = {'batch_size': config['valid_batch_size'],\n",
    "                'shuffle': True,\n",
    "                'num_workers': 1,\n",
    "                'pin_memory':True\n",
    "                }\n",
    "\n",
    "training_loader = DataLoader(training_set, **train_params)\n",
    "testing_loader = DataLoader(testing_set, **test_params)"
   ]
  },
  {
   "cell_type": "code",
   "execution_count": 27,
   "id": "c93c09a9",
   "metadata": {
    "execution": {
     "iopub.execute_input": "2022-03-15T20:24:05.828560Z",
     "iopub.status.busy": "2022-03-15T20:24:05.827969Z",
     "iopub.status.idle": "2022-03-15T20:24:05.832364Z",
     "shell.execute_reply": "2022-03-15T20:24:05.831914Z"
    },
    "papermill": {
     "duration": 1.421111,
     "end_time": "2022-03-15T20:24:05.832485",
     "exception": false,
     "start_time": "2022-03-15T20:24:04.411374",
     "status": "completed"
    },
    "tags": []
   },
   "outputs": [
    {
     "data": {
      "text/plain": [
       "'cuda'"
      ]
     },
     "execution_count": 27,
     "metadata": {},
     "output_type": "execute_result"
    }
   ],
   "source": [
    "device = config['device']\n",
    "device"
   ]
  },
  {
   "cell_type": "code",
   "execution_count": 28,
   "id": "98f4db01",
   "metadata": {
    "execution": {
     "iopub.execute_input": "2022-03-15T20:24:08.919443Z",
     "iopub.status.busy": "2022-03-15T20:24:08.917775Z",
     "iopub.status.idle": "2022-03-15T20:24:08.920013Z",
     "shell.execute_reply": "2022-03-15T20:24:08.920442Z"
    },
    "papermill": {
     "duration": 1.672833,
     "end_time": "2022-03-15T20:24:08.920614",
     "exception": false,
     "start_time": "2022-03-15T20:24:07.247781",
     "status": "completed"
    },
    "tags": []
   },
   "outputs": [],
   "source": [
    "import gc\n",
    "\n",
    "gc.collect()\n",
    "torch.cuda.empty_cache()"
   ]
  },
  {
   "cell_type": "code",
   "execution_count": 29,
   "id": "410c2a07",
   "metadata": {
    "execution": {
     "iopub.execute_input": "2022-03-15T20:24:11.759324Z",
     "iopub.status.busy": "2022-03-15T20:24:11.758237Z",
     "iopub.status.idle": "2022-03-15T20:24:12.568590Z",
     "shell.execute_reply": "2022-03-15T20:24:12.569127Z"
    },
    "papermill": {
     "duration": 2.234688,
     "end_time": "2022-03-15T20:24:12.569340",
     "exception": false,
     "start_time": "2022-03-15T20:24:10.334652",
     "status": "completed"
    },
    "tags": []
   },
   "outputs": [
    {
     "name": "stdout",
     "output_type": "stream",
     "text": [
      "Initial GPU Usage\n",
      "| ID | GPU | MEM |\n",
      "------------------\n",
      "|  0 |  0% |  0% |\n",
      "GPU Usage after emptying the cache\n",
      "| ID | GPU | MEM |\n",
      "------------------\n",
      "|  0 |  9% |  2% |\n"
     ]
    }
   ],
   "source": [
    "import torch\n",
    "from GPUtil import showUtilization as gpu_usage\n",
    "from numba import cuda\n",
    "\n",
    "def free_gpu_cache():\n",
    "    print(\"Initial GPU Usage\")\n",
    "    gpu_usage()                             \n",
    "\n",
    "    torch.cuda.empty_cache()\n",
    "\n",
    "    cuda.select_device(0)\n",
    "    cuda.close()\n",
    "    cuda.select_device(0)\n",
    "\n",
    "    print(\"GPU Usage after emptying the cache\")\n",
    "    gpu_usage()\n",
    "\n",
    "free_gpu_cache()                         "
   ]
  },
  {
   "cell_type": "code",
   "execution_count": 30,
   "id": "cb678df9",
   "metadata": {
    "execution": {
     "iopub.execute_input": "2022-03-15T20:24:15.753629Z",
     "iopub.status.busy": "2022-03-15T20:24:15.752675Z",
     "iopub.status.idle": "2022-03-15T20:24:18.171967Z",
     "shell.execute_reply": "2022-03-15T20:24:18.171534Z"
    },
    "papermill": {
     "duration": 3.892592,
     "end_time": "2022-03-15T20:24:18.172086",
     "exception": false,
     "start_time": "2022-03-15T20:24:14.279494",
     "status": "completed"
    },
    "tags": []
   },
   "outputs": [
    {
     "data": {
      "text/plain": [
       "tensor(2.7029, device='cuda:0', grad_fn=<NllLossBackward0>)"
      ]
     },
     "execution_count": 30,
     "metadata": {},
     "output_type": "execute_result"
    }
   ],
   "source": [
    "model.to(device)\n",
    "inputs = training_set[2]\n",
    "input_ids = inputs[\"input_ids\"].unsqueeze(0)\n",
    "attention_mask = inputs[\"attention_mask\"].unsqueeze(0)\n",
    "labels = inputs[\"labels\"].unsqueeze(0)\n",
    "\n",
    "input_ids = input_ids.to(device)\n",
    "attention_mask = attention_mask.to(device)\n",
    "labels = labels.to(device)\n",
    "\n",
    "outputs = model(input_ids, attention_mask=attention_mask, labels=labels,\n",
    "               return_dict=False)\n",
    "initial_loss = outputs[0]\n",
    "initial_loss"
   ]
  },
  {
   "cell_type": "code",
   "execution_count": 31,
   "id": "966cda88",
   "metadata": {
    "execution": {
     "iopub.execute_input": "2022-03-15T20:24:21.052712Z",
     "iopub.status.busy": "2022-03-15T20:24:21.051809Z",
     "iopub.status.idle": "2022-03-15T20:24:21.053714Z",
     "shell.execute_reply": "2022-03-15T20:24:21.054111Z"
    },
    "papermill": {
     "duration": 1.438981,
     "end_time": "2022-03-15T20:24:21.054268",
     "exception": false,
     "start_time": "2022-03-15T20:24:19.615287",
     "status": "completed"
    },
    "tags": []
   },
   "outputs": [],
   "source": [
    "optimizer = torch.optim.Adam(params=model.parameters(), lr=config['learning_rate'])"
   ]
  },
  {
   "cell_type": "code",
   "execution_count": 32,
   "id": "5aed45f0",
   "metadata": {
    "execution": {
     "iopub.execute_input": "2022-03-15T20:24:23.899440Z",
     "iopub.status.busy": "2022-03-15T20:24:23.898523Z",
     "iopub.status.idle": "2022-03-15T20:24:23.900553Z",
     "shell.execute_reply": "2022-03-15T20:24:23.900944Z"
    },
    "papermill": {
     "duration": 1.429049,
     "end_time": "2022-03-15T20:24:23.901079",
     "exception": false,
     "start_time": "2022-03-15T20:24:22.472030",
     "status": "completed"
    },
    "tags": []
   },
   "outputs": [],
   "source": [
    "# Defining the training function on the 80% of the dataset for tuning the bert model\n",
    "def train(epoch):\n",
    "    tr_loss, tr_accuracy = 0, 0\n",
    "    nb_tr_examples, nb_tr_steps = 0, 0\n",
    "    tr_preds, tr_labels = [], []\n",
    "    # put model in training mode\n",
    "    model.train()\n",
    "    \n",
    "    for idx, batch in enumerate(training_loader):\n",
    "        \n",
    "        ids = batch['input_ids'].to(device, dtype = torch.long)\n",
    "        mask = batch['attention_mask'].to(device, dtype = torch.long)\n",
    "        labels = batch['labels'].to(device, dtype = torch.long)\n",
    "\n",
    "        loss, tr_logits = model(input_ids=ids, attention_mask=mask, labels=labels,\n",
    "                               return_dict=False)\n",
    "        tr_loss += loss.item()\n",
    "\n",
    "        nb_tr_steps += 1\n",
    "        nb_tr_examples += labels.size(0)\n",
    "        \n",
    "        if idx % 100==0:\n",
    "            loss_step = tr_loss/nb_tr_steps\n",
    "            print(f\"Training loss per 100 training steps: {loss_step}\")\n",
    "           \n",
    "        # compute training accuracy\n",
    "        flattened_targets = labels.view(-1) # shape (batch_size * seq_len,)\n",
    "        active_logits = tr_logits.view(-1, model.num_labels) # shape (batch_size * seq_len, num_labels)\n",
    "        flattened_predictions = torch.argmax(active_logits, axis=1) # shape (batch_size * seq_len,)\n",
    "        \n",
    "        # only compute accuracy at active labels\n",
    "        active_accuracy = labels.view(-1) != -100 # shape (batch_size, seq_len)\n",
    "        #active_labels = torch.where(active_accuracy, labels.view(-1), torch.tensor(-100).type_as(labels))\n",
    "        \n",
    "        labels = torch.masked_select(flattened_targets, active_accuracy)\n",
    "        predictions = torch.masked_select(flattened_predictions, active_accuracy)\n",
    "        \n",
    "        tr_labels.extend(labels)\n",
    "        tr_preds.extend(predictions)\n",
    "        \n",
    "        tmp_tr_accuracy = accuracy_score(labels.cpu().numpy(), predictions.cpu().numpy())\n",
    "        tr_accuracy += tmp_tr_accuracy\n",
    "    \n",
    "        # gradient clipping\n",
    "        torch.nn.utils.clip_grad_norm_(\n",
    "            parameters=model.parameters(), max_norm=config['max_grad_norm']\n",
    "        )\n",
    "        \n",
    "        # backward pass\n",
    "        optimizer.zero_grad()\n",
    "        loss.backward()\n",
    "        optimizer.step()\n",
    "\n",
    "    epoch_loss = tr_loss / nb_tr_steps\n",
    "    tr_accuracy = tr_accuracy / nb_tr_steps\n",
    "    print(f\"Training loss epoch: {epoch_loss}\")\n",
    "    print(f\"Training accuracy epoch: {tr_accuracy}\")"
   ]
  },
  {
   "cell_type": "code",
   "execution_count": 33,
   "id": "4e19948d",
   "metadata": {
    "execution": {
     "iopub.execute_input": "2022-03-15T20:24:27.200003Z",
     "iopub.status.busy": "2022-03-15T20:24:27.199213Z",
     "iopub.status.idle": "2022-03-15T21:00:44.152812Z",
     "shell.execute_reply": "2022-03-15T21:00:44.153925Z"
    },
    "papermill": {
     "duration": 2178.460523,
     "end_time": "2022-03-15T21:00:44.154156",
     "exception": false,
     "start_time": "2022-03-15T20:24:25.693633",
     "status": "completed"
    },
    "tags": []
   },
   "outputs": [
    {
     "name": "stdout",
     "output_type": "stream",
     "text": [
      "Training epoch: 1\n",
      "huggingface/tokenizers: The current process just got forked, after parallelism has already been used. Disabling parallelism to avoid deadlocks...\n",
      "To disable this warning, you can either:\n",
      "\t- Avoid using `tokenizers` before the fork if possible\n",
      "\t- Explicitly set the environment variable TOKENIZERS_PARALLELISM=(true | false)\n",
      "Training loss per 100 training steps: 2.8035030364990234\n",
      "Training loss per 100 training steps: 1.5915674030190647\n",
      "Training loss per 100 training steps: 1.3179802826387965\n",
      "Training loss per 100 training steps: 1.204242420750995\n",
      "Training loss per 100 training steps: 1.1234495012540175\n",
      "Training loss per 100 training steps: 1.070767992389892\n",
      "Training loss per 100 training steps: 1.0294878682161925\n",
      "Training loss per 100 training steps: 1.0006333890978178\n",
      "Training loss per 100 training steps: 0.977517056442825\n",
      "Training loss per 100 training steps: 0.9561313176062475\n",
      "Training loss per 100 training steps: 0.9376044185249718\n",
      "Training loss per 100 training steps: 0.922626945942126\n",
      "Training loss per 100 training steps: 0.9062690159661089\n",
      "Training loss per 100 training steps: 0.8942154357059473\n",
      "Training loss per 100 training steps: 0.882120008535848\n",
      "Training loss per 100 training steps: 0.8726202700433534\n",
      "Training loss epoch: 0.8671581832262186\n",
      "Training accuracy epoch: 0.7306145029743489\n",
      "Training epoch: 2\n",
      "huggingface/tokenizers: The current process just got forked, after parallelism has already been used. Disabling parallelism to avoid deadlocks...\n",
      "To disable this warning, you can either:\n",
      "\t- Avoid using `tokenizers` before the fork if possible\n",
      "\t- Explicitly set the environment variable TOKENIZERS_PARALLELISM=(true | false)\n",
      "Training loss per 100 training steps: 0.8853148818016052\n",
      "Training loss per 100 training steps: 0.6809888659137311\n",
      "Training loss per 100 training steps: 0.674350887240462\n",
      "Training loss per 100 training steps: 0.6725498349761646\n",
      "Training loss per 100 training steps: 0.6755217665300107\n",
      "Training loss per 100 training steps: 0.6750737350144073\n",
      "Training loss per 100 training steps: 0.6728402595353404\n",
      "Training loss per 100 training steps: 0.6723925791861497\n",
      "Training loss per 100 training steps: 0.6717412753051586\n",
      "Training loss per 100 training steps: 0.6719970258240165\n",
      "Training loss per 100 training steps: 0.6706939751094395\n",
      "Training loss per 100 training steps: 0.6698504860676169\n",
      "Training loss per 100 training steps: 0.6688044865760676\n",
      "Training loss per 100 training steps: 0.6675107463518534\n",
      "Training loss per 100 training steps: 0.6660145625397617\n",
      "Training loss per 100 training steps: 0.6665603173009401\n",
      "Training loss epoch: 0.6661682903766633\n",
      "Training accuracy epoch: 0.7800676241098742\n",
      "Training epoch: 3\n",
      "huggingface/tokenizers: The current process just got forked, after parallelism has already been used. Disabling parallelism to avoid deadlocks...\n",
      "To disable this warning, you can either:\n",
      "\t- Avoid using `tokenizers` before the fork if possible\n",
      "\t- Explicitly set the environment variable TOKENIZERS_PARALLELISM=(true | false)\n",
      "Training loss per 100 training steps: 0.5027984380722046\n",
      "Training loss per 100 training steps: 0.6342261622447779\n",
      "Training loss per 100 training steps: 0.6312379196508607\n",
      "Training loss per 100 training steps: 0.6233330683850766\n",
      "Training loss per 100 training steps: 0.6199972734709928\n",
      "Training loss per 100 training steps: 0.6214764059601192\n",
      "Training loss per 100 training steps: 0.6161854823248557\n",
      "Training loss per 100 training steps: 0.6161856365399422\n",
      "Training loss per 100 training steps: 0.6149446741955706\n",
      "Training loss per 100 training steps: 0.6100905112731999\n",
      "Training loss per 100 training steps: 0.6084764776202468\n",
      "Training loss per 100 training steps: 0.6080315825643592\n",
      "Training loss per 100 training steps: 0.6066641220815175\n",
      "Training loss per 100 training steps: 0.6056422271996988\n",
      "Training loss per 100 training steps: 0.6039725621945512\n",
      "Training loss per 100 training steps: 0.6030219019273374\n",
      "Training loss epoch: 0.6010230301759946\n",
      "Training accuracy epoch: 0.7970725932693157\n"
     ]
    }
   ],
   "source": [
    "for epoch in range(config['epochs']):\n",
    "    print(f\"Training epoch: {epoch + 1}\")\n",
    "    train(epoch)"
   ]
  },
  {
   "cell_type": "code",
   "execution_count": 34,
   "id": "cd22f666",
   "metadata": {
    "execution": {
     "iopub.execute_input": "2022-03-15T21:00:47.008902Z",
     "iopub.status.busy": "2022-03-15T21:00:47.008080Z",
     "iopub.status.idle": "2022-03-15T21:00:47.010188Z",
     "shell.execute_reply": "2022-03-15T21:00:47.010605Z"
    },
    "papermill": {
     "duration": 1.436582,
     "end_time": "2022-03-15T21:00:47.010742",
     "exception": false,
     "start_time": "2022-03-15T21:00:45.574160",
     "status": "completed"
    },
    "tags": []
   },
   "outputs": [],
   "source": [
    "def valid(model, testing_loader):\n",
    "    # put model in evaluation mode\n",
    "    model.eval()\n",
    "    \n",
    "    eval_loss, eval_accuracy = 0, 0\n",
    "    nb_eval_examples, nb_eval_steps = 0, 0\n",
    "    eval_preds, eval_labels = [], []\n",
    "    \n",
    "    with torch.no_grad():\n",
    "        for idx, batch in enumerate(testing_loader):\n",
    "            \n",
    "            ids = batch['input_ids'].to(device, dtype = torch.long)\n",
    "            mask = batch['attention_mask'].to(device, dtype = torch.long)\n",
    "            labels = batch['labels'].to(device, dtype = torch.long)\n",
    "            \n",
    "            loss, eval_logits = model(input_ids=ids, attention_mask=mask, labels=labels,\n",
    "                                     return_dict=False)\n",
    "            \n",
    "            eval_loss += loss.item()\n",
    "\n",
    "            nb_eval_steps += 1\n",
    "            nb_eval_examples += labels.size(0)\n",
    "            nb_eval_steps += 1\n",
    "            nb_eval_examples += labels.size(0)\n",
    "        \n",
    "            if idx % 100==0:\n",
    "                loss_step = eval_loss/nb_eval_steps\n",
    "                print(f\"Validation loss per 100 evaluation steps: {loss_step}\")\n",
    "              \n",
    "            # compute evaluation accuracy\n",
    "            flattened_targets = labels.view(-1) # shape (batch_size * seq_len,)\n",
    "            active_logits = eval_logits.view(-1, model.num_labels) # shape (batch_size * seq_len, num_labels)\n",
    "            flattened_predictions = torch.argmax(active_logits, axis=1) # shape (batch_size * seq_len,)\n",
    "            \n",
    "            # only compute accuracy at active labels\n",
    "            active_accuracy = labels.view(-1) != -100 # shape (batch_size, seq_len)\n",
    "        \n",
    "            labels = torch.masked_select(flattened_targets, active_accuracy)\n",
    "            predictions = torch.masked_select(flattened_predictions, active_accuracy)\n",
    "            \n",
    "            eval_labels.extend(labels)\n",
    "            eval_preds.extend(predictions)\n",
    "            \n",
    "            tmp_eval_accuracy = accuracy_score(labels.cpu().numpy(), predictions.cpu().numpy())\n",
    "            eval_accuracy += tmp_eval_accuracy\n",
    "\n",
    "    labels = [ids_to_labels[id.item()] for id in eval_labels]\n",
    "    predictions = [ids_to_labels[id.item()] for id in eval_preds]\n",
    "    \n",
    "    eval_loss = eval_loss / nb_eval_steps\n",
    "    eval_accuracy = eval_accuracy / nb_eval_steps\n",
    "    print(f\"Validation Loss: {eval_loss}\")\n",
    "    print(f\"Validation Accuracy: {eval_accuracy}\")\n",
    "\n",
    "    return labels, predictions"
   ]
  },
  {
   "cell_type": "code",
   "execution_count": 35,
   "id": "82d638c7",
   "metadata": {
    "execution": {
     "iopub.execute_input": "2022-03-15T21:00:49.903592Z",
     "iopub.status.busy": "2022-03-15T21:00:49.902787Z",
     "iopub.status.idle": "2022-03-15T21:02:15.540003Z",
     "shell.execute_reply": "2022-03-15T21:02:15.540678Z"
    },
    "papermill": {
     "duration": 87.12002,
     "end_time": "2022-03-15T21:02:15.540885",
     "exception": false,
     "start_time": "2022-03-15T21:00:48.420865",
     "status": "completed"
    },
    "tags": []
   },
   "outputs": [
    {
     "name": "stdout",
     "output_type": "stream",
     "text": [
      "huggingface/tokenizers: The current process just got forked, after parallelism has already been used. Disabling parallelism to avoid deadlocks...\n",
      "To disable this warning, you can either:\n",
      "\t- Avoid using `tokenizers` before the fork if possible\n",
      "\t- Explicitly set the environment variable TOKENIZERS_PARALLELISM=(true | false)\n",
      "Validation loss per 100 evaluation steps: 0.22863662242889404\n",
      "Validation loss per 100 evaluation steps: 0.3360337756647922\n",
      "Validation Loss: 0.3307263692984214\n",
      "Validation Accuracy: 0.3916413786568976\n"
     ]
    }
   ],
   "source": [
    "labels, predictions = valid(model, testing_loader)"
   ]
  },
  {
   "cell_type": "code",
   "execution_count": 36,
   "id": "6f174b1d",
   "metadata": {
    "execution": {
     "iopub.execute_input": "2022-03-15T21:02:18.410122Z",
     "iopub.status.busy": "2022-03-15T21:02:18.408485Z",
     "iopub.status.idle": "2022-03-15T21:02:18.410722Z",
     "shell.execute_reply": "2022-03-15T21:02:18.411120Z"
    },
    "papermill": {
     "duration": 1.46345,
     "end_time": "2022-03-15T21:02:18.411299",
     "exception": false,
     "start_time": "2022-03-15T21:02:16.947849",
     "status": "completed"
    },
    "tags": []
   },
   "outputs": [],
   "source": [
    "sentence = \"@HuggingFace is a company based in New York, but is also has employees working in Paris\"\n",
    "model.eval()\n",
    "def inference(sentence):\n",
    "    inputs = tokenizer(sentence,\n",
    "#                         is_split_into_words=True, \n",
    "                        return_offsets_mapping=True, \n",
    "                        padding='max_length', \n",
    "                        truncation=True, \n",
    "                        max_length=config['max_length'],\n",
    "                        return_tensors=\"pt\")\n",
    "\n",
    "    # move to gpu\n",
    "    ids = inputs[\"input_ids\"].to(device)\n",
    "    mask = inputs[\"attention_mask\"].to(device)\n",
    "    # forward pass\n",
    "    outputs = model(ids, attention_mask=mask, return_dict=False)\n",
    "    logits = outputs[0]\n",
    "    \n",
    "    active_logits = logits.view(-1, model.num_labels) # shape (batch_size * seq_len, num_labels)\n",
    "    flattened_predictions = torch.argmax(active_logits, axis=1) # shape (batch_size*seq_len,) - predictions at the token level\n",
    "\n",
    "    tokens = tokenizer.convert_ids_to_tokens(ids.squeeze().tolist())\n",
    "    token_predictions = [ids_to_labels[i] for i in flattened_predictions.cpu().numpy()]\n",
    "    wp_preds = list(zip(tokens, token_predictions)) # list of tuples. Each tuple = (wordpiece, prediction)\n",
    "\n",
    "    prediction = []\n",
    "    out_str = []\n",
    "    off_list = inputs[\"offset_mapping\"].squeeze().tolist()\n",
    "    for idx, mapping in enumerate(off_list):\n",
    "#         print(mapping, token_pred[1], token_pred[0],\"####\")\n",
    "\n",
    "#         only predictions on first word pieces are important\n",
    "        if mapping[0] != 0 and mapping[0] != off_list[idx-1][1]:\n",
    "#             print(mapping, token_pred[1], token_pred[0])\n",
    "            prediction.append(wp_preds[idx][1])\n",
    "            out_str.append(wp_preds[idx][0])\n",
    "        else:\n",
    "            if idx == 1:\n",
    "                prediction.append(wp_preds[idx][1])\n",
    "                out_str.append(wp_preds[idx][0])\n",
    "            continue\n",
    "    return prediction, out_str"
   ]
  },
  {
   "cell_type": "code",
   "execution_count": 37,
   "id": "3aed7df2",
   "metadata": {
    "execution": {
     "iopub.execute_input": "2022-03-15T21:02:21.364537Z",
     "iopub.status.busy": "2022-03-15T21:02:21.363575Z",
     "iopub.status.idle": "2022-03-15T21:02:21.398094Z",
     "shell.execute_reply": "2022-03-15T21:02:21.398682Z"
    },
    "papermill": {
     "duration": 1.578793,
     "end_time": "2022-03-15T21:02:21.398858",
     "exception": false,
     "start_time": "2022-03-15T21:02:19.820065",
     "status": "completed"
    },
    "tags": []
   },
   "outputs": [
    {
     "name": "stderr",
     "output_type": "stream",
     "text": [
      "100%|██████████| 5/5 [00:00<00:00, 330.15it/s]\n"
     ]
    },
    {
     "data": {
      "text/html": [
       "<div>\n",
       "<style scoped>\n",
       "    .dataframe tbody tr th:only-of-type {\n",
       "        vertical-align: middle;\n",
       "    }\n",
       "\n",
       "    .dataframe tbody tr th {\n",
       "        vertical-align: top;\n",
       "    }\n",
       "\n",
       "    .dataframe thead th {\n",
       "        text-align: right;\n",
       "    }\n",
       "</style>\n",
       "<table border=\"1\" class=\"dataframe\">\n",
       "  <thead>\n",
       "    <tr style=\"text-align: right;\">\n",
       "      <th></th>\n",
       "      <th>id</th>\n",
       "      <th>text</th>\n",
       "    </tr>\n",
       "  </thead>\n",
       "  <tbody>\n",
       "    <tr>\n",
       "      <th>0</th>\n",
       "      <td>0FB0700DAF44</td>\n",
       "      <td>During a group project, have you ever asked a ...</td>\n",
       "    </tr>\n",
       "    <tr>\n",
       "      <th>1</th>\n",
       "      <td>D72CB1C11673</td>\n",
       "      <td>Making choices in life can be very difficult. ...</td>\n",
       "    </tr>\n",
       "    <tr>\n",
       "      <th>2</th>\n",
       "      <td>18409261F5C2</td>\n",
       "      <td>80% of Americans believe seeking multiple opin...</td>\n",
       "    </tr>\n",
       "    <tr>\n",
       "      <th>3</th>\n",
       "      <td>DF920E0A7337</td>\n",
       "      <td>Have you ever asked more than one person for h...</td>\n",
       "    </tr>\n",
       "    <tr>\n",
       "      <th>4</th>\n",
       "      <td>D46BCB48440A</td>\n",
       "      <td>When people ask for advice,they sometimes talk...</td>\n",
       "    </tr>\n",
       "  </tbody>\n",
       "</table>\n",
       "</div>"
      ],
      "text/plain": [
       "             id                                               text\n",
       "0  0FB0700DAF44  During a group project, have you ever asked a ...\n",
       "1  D72CB1C11673  Making choices in life can be very difficult. ...\n",
       "2  18409261F5C2  80% of Americans believe seeking multiple opin...\n",
       "3  DF920E0A7337  Have you ever asked more than one person for h...\n",
       "4  D46BCB48440A  When people ask for advice,they sometimes talk..."
      ]
     },
     "execution_count": 37,
     "metadata": {},
     "output_type": "execute_result"
    }
   ],
   "source": [
    "test_names, test_texts = [], []\n",
    "for f in tqdm(list(os.listdir('../input/feedback-prize-2021/test'))):\n",
    "    test_names.append(f.replace('.txt', ''))\n",
    "    test_texts.append(open('../input/feedback-prize-2021/test/' + f, 'r').read())\n",
    "test_texts = pd.DataFrame({'id': test_names, 'text': test_texts})\n",
    "# test_texts['text'] = test_texts['text'].apply(lambda x:x.split())\n",
    "test_texts.head()"
   ]
  },
  {
   "cell_type": "code",
   "execution_count": 38,
   "id": "11d4f9de",
   "metadata": {
    "execution": {
     "iopub.execute_input": "2022-03-15T21:02:24.533640Z",
     "iopub.status.busy": "2022-03-15T21:02:24.532796Z",
     "iopub.status.idle": "2022-03-15T21:02:24.673520Z",
     "shell.execute_reply": "2022-03-15T21:02:24.673039Z"
    },
    "papermill": {
     "duration": 1.599582,
     "end_time": "2022-03-15T21:02:24.673652",
     "exception": false,
     "start_time": "2022-03-15T21:02:23.074070",
     "status": "completed"
    },
    "tags": []
   },
   "outputs": [],
   "source": [
    "# test_texts = train_text_df['text'].tolist()[:10]\n",
    "y_pred = []\n",
    "\n",
    "for i, t in enumerate(test_texts['text'].tolist()):\n",
    "    o,o_t = inference(t)\n",
    "    y_pred.append(o)\n",
    "    l = train_text_df['entities'][i]"
   ]
  },
  {
   "cell_type": "code",
   "execution_count": 39,
   "id": "bdbf3add",
   "metadata": {
    "execution": {
     "iopub.execute_input": "2022-03-15T21:02:27.513519Z",
     "iopub.status.busy": "2022-03-15T21:02:27.512936Z",
     "iopub.status.idle": "2022-03-15T21:02:27.524863Z",
     "shell.execute_reply": "2022-03-15T21:02:27.525436Z"
    },
    "papermill": {
     "duration": 1.437311,
     "end_time": "2022-03-15T21:02:27.525620",
     "exception": false,
     "start_time": "2022-03-15T21:02:26.088309",
     "status": "completed"
    },
    "tags": []
   },
   "outputs": [
    {
     "name": "stderr",
     "output_type": "stream",
     "text": [
      "100%|██████████| 5/5 [00:00<00:00, 2391.01it/s]"
     ]
    },
    {
     "name": "stdout",
     "output_type": "stream",
     "text": [
      "('0FB0700DAF44', 'Claim', '49 50 51 52 53 54 55 56 57 58 59 60 61 62 63 64 65 66 67 68 69 70 71 72 73 74 75 76 77 78 79 80 81 82 83 84 85 86 87')\n"
     ]
    },
    {
     "name": "stderr",
     "output_type": "stream",
     "text": [
      "\n"
     ]
    }
   ],
   "source": [
    "final_preds = []\n",
    "import pdb\n",
    "for i in tqdm(range(len(test_texts))):\n",
    "#     pdb.set_trace()\n",
    "    idx = test_texts.id.values[i]\n",
    "#     pred = ['']*len(test_texts[i])\n",
    "\n",
    "#     for j in range(len(y_pred[i])):\n",
    "#         if words[i][j] != None:\n",
    "#             pred[words[i][j]] = labels[y_pred[i][j]]\n",
    "\n",
    "    pred = [x.replace('B-','').replace('I-','') for x in y_pred[i]]\n",
    "#     print(pred)\n",
    "    preds = []\n",
    "    j = 0\n",
    "    while j < len(pred):\n",
    "        cls = pred[j]\n",
    "#         pdb.set_trace()\n",
    "        if cls == 'O':\n",
    "            j += 1\n",
    "        end = j + 1\n",
    "        while end < len(pred) and pred[end] == cls:\n",
    "            end += 1\n",
    "            \n",
    "        if cls != 'O' and cls != '' and end - j > 10:\n",
    "            final_preds.append((idx, cls, ' '.join(map(str, list(range(j, end))))))\n",
    "        \n",
    "        j = end\n",
    "        \n",
    "print(final_preds[1])"
   ]
  },
  {
   "cell_type": "code",
   "execution_count": 40,
   "id": "1afd2f52",
   "metadata": {
    "execution": {
     "iopub.execute_input": "2022-03-15T21:02:30.366084Z",
     "iopub.status.busy": "2022-03-15T21:02:30.365305Z",
     "iopub.status.idle": "2022-03-15T21:02:30.379719Z",
     "shell.execute_reply": "2022-03-15T21:02:30.380430Z"
    },
    "papermill": {
     "duration": 1.446403,
     "end_time": "2022-03-15T21:02:30.380627",
     "exception": false,
     "start_time": "2022-03-15T21:02:28.934224",
     "status": "completed"
    },
    "tags": []
   },
   "outputs": [
    {
     "name": "stdout",
     "output_type": "stream",
     "text": [
      "33\n"
     ]
    },
    {
     "data": {
      "text/html": [
       "<div>\n",
       "<style scoped>\n",
       "    .dataframe tbody tr th:only-of-type {\n",
       "        vertical-align: middle;\n",
       "    }\n",
       "\n",
       "    .dataframe tbody tr th {\n",
       "        vertical-align: top;\n",
       "    }\n",
       "\n",
       "    .dataframe thead th {\n",
       "        text-align: right;\n",
       "    }\n",
       "</style>\n",
       "<table border=\"1\" class=\"dataframe\">\n",
       "  <thead>\n",
       "    <tr style=\"text-align: right;\">\n",
       "      <th></th>\n",
       "      <th>id</th>\n",
       "      <th>class</th>\n",
       "      <th>predictionstring</th>\n",
       "    </tr>\n",
       "  </thead>\n",
       "  <tbody>\n",
       "    <tr>\n",
       "      <th>0</th>\n",
       "      <td>18409261F5C2</td>\n",
       "      <td>NaN</td>\n",
       "      <td>NaN</td>\n",
       "    </tr>\n",
       "    <tr>\n",
       "      <th>1</th>\n",
       "      <td>D46BCB48440A</td>\n",
       "      <td>NaN</td>\n",
       "      <td>NaN</td>\n",
       "    </tr>\n",
       "    <tr>\n",
       "      <th>2</th>\n",
       "      <td>0FB0700DAF44</td>\n",
       "      <td>NaN</td>\n",
       "      <td>NaN</td>\n",
       "    </tr>\n",
       "    <tr>\n",
       "      <th>3</th>\n",
       "      <td>D72CB1C11673</td>\n",
       "      <td>NaN</td>\n",
       "      <td>NaN</td>\n",
       "    </tr>\n",
       "    <tr>\n",
       "      <th>4</th>\n",
       "      <td>DF920E0A7337</td>\n",
       "      <td>NaN</td>\n",
       "      <td>NaN</td>\n",
       "    </tr>\n",
       "  </tbody>\n",
       "</table>\n",
       "</div>"
      ],
      "text/plain": [
       "             id  class  predictionstring\n",
       "0  18409261F5C2    NaN               NaN\n",
       "1  D46BCB48440A    NaN               NaN\n",
       "2  0FB0700DAF44    NaN               NaN\n",
       "3  D72CB1C11673    NaN               NaN\n",
       "4  DF920E0A7337    NaN               NaN"
      ]
     },
     "execution_count": 40,
     "metadata": {},
     "output_type": "execute_result"
    }
   ],
   "source": [
    "print(len(final_preds))\n",
    "test_df = pd.read_csv('../input/feedback-prize-2021/sample_submission.csv')\n",
    "test_df"
   ]
  },
  {
   "cell_type": "code",
   "execution_count": 41,
   "id": "3497c060",
   "metadata": {
    "execution": {
     "iopub.execute_input": "2022-03-15T21:02:33.941962Z",
     "iopub.status.busy": "2022-03-15T21:02:33.941049Z",
     "iopub.status.idle": "2022-03-15T21:02:33.942996Z",
     "shell.execute_reply": "2022-03-15T21:02:33.943470Z"
    },
    "papermill": {
     "duration": 1.851692,
     "end_time": "2022-03-15T21:02:33.943620",
     "exception": false,
     "start_time": "2022-03-15T21:02:32.091928",
     "status": "completed"
    },
    "tags": []
   },
   "outputs": [],
   "source": [
    "sub = pd.DataFrame(final_preds)\n",
    "sub.columns = test_df.columns"
   ]
  },
  {
   "cell_type": "code",
   "execution_count": 42,
   "id": "22d63b8d",
   "metadata": {
    "execution": {
     "iopub.execute_input": "2022-03-15T21:02:36.864117Z",
     "iopub.status.busy": "2022-03-15T21:02:36.863606Z",
     "iopub.status.idle": "2022-03-15T21:02:36.869313Z",
     "shell.execute_reply": "2022-03-15T21:02:36.868844Z"
    },
    "papermill": {
     "duration": 1.479955,
     "end_time": "2022-03-15T21:02:36.869433",
     "exception": false,
     "start_time": "2022-03-15T21:02:35.389478",
     "status": "completed"
    },
    "tags": []
   },
   "outputs": [
    {
     "data": {
      "text/html": [
       "<div>\n",
       "<style scoped>\n",
       "    .dataframe tbody tr th:only-of-type {\n",
       "        vertical-align: middle;\n",
       "    }\n",
       "\n",
       "    .dataframe tbody tr th {\n",
       "        vertical-align: top;\n",
       "    }\n",
       "\n",
       "    .dataframe thead th {\n",
       "        text-align: right;\n",
       "    }\n",
       "</style>\n",
       "<table border=\"1\" class=\"dataframe\">\n",
       "  <thead>\n",
       "    <tr style=\"text-align: right;\">\n",
       "      <th></th>\n",
       "      <th>id</th>\n",
       "      <th>class</th>\n",
       "      <th>predictionstring</th>\n",
       "    </tr>\n",
       "  </thead>\n",
       "  <tbody>\n",
       "    <tr>\n",
       "      <th>0</th>\n",
       "      <td>0FB0700DAF44</td>\n",
       "      <td>Lead</td>\n",
       "      <td>0 1 2 3 4 5 6 7 8 9 10 11 12 13 14 15 16 17 18...</td>\n",
       "    </tr>\n",
       "    <tr>\n",
       "      <th>1</th>\n",
       "      <td>0FB0700DAF44</td>\n",
       "      <td>Claim</td>\n",
       "      <td>49 50 51 52 53 54 55 56 57 58 59 60 61 62 63 6...</td>\n",
       "    </tr>\n",
       "    <tr>\n",
       "      <th>2</th>\n",
       "      <td>0FB0700DAF44</td>\n",
       "      <td>Claim</td>\n",
       "      <td>90 91 92 93 94 95 96 97 98 99 100 101 102</td>\n",
       "    </tr>\n",
       "    <tr>\n",
       "      <th>3</th>\n",
       "      <td>0FB0700DAF44</td>\n",
       "      <td>Position</td>\n",
       "      <td>108 109 110 111 112 113 114 115 116 117 118 119</td>\n",
       "    </tr>\n",
       "    <tr>\n",
       "      <th>4</th>\n",
       "      <td>0FB0700DAF44</td>\n",
       "      <td>Claim</td>\n",
       "      <td>120 121 122 123 124 125 126 127 128 129 130 13...</td>\n",
       "    </tr>\n",
       "  </tbody>\n",
       "</table>\n",
       "</div>"
      ],
      "text/plain": [
       "             id     class                                   predictionstring\n",
       "0  0FB0700DAF44      Lead  0 1 2 3 4 5 6 7 8 9 10 11 12 13 14 15 16 17 18...\n",
       "1  0FB0700DAF44     Claim  49 50 51 52 53 54 55 56 57 58 59 60 61 62 63 6...\n",
       "2  0FB0700DAF44     Claim          90 91 92 93 94 95 96 97 98 99 100 101 102\n",
       "3  0FB0700DAF44  Position    108 109 110 111 112 113 114 115 116 117 118 119\n",
       "4  0FB0700DAF44     Claim  120 121 122 123 124 125 126 127 128 129 130 13..."
      ]
     },
     "execution_count": 42,
     "metadata": {},
     "output_type": "execute_result"
    }
   ],
   "source": [
    "sub.head()"
   ]
  },
  {
   "cell_type": "code",
   "execution_count": 43,
   "id": "19a12fe8",
   "metadata": {
    "execution": {
     "iopub.execute_input": "2022-03-15T21:02:39.817108Z",
     "iopub.status.busy": "2022-03-15T21:02:39.816319Z",
     "iopub.status.idle": "2022-03-15T21:02:39.822815Z",
     "shell.execute_reply": "2022-03-15T21:02:39.822363Z"
    },
    "papermill": {
     "duration": 1.539144,
     "end_time": "2022-03-15T21:02:39.822924",
     "exception": false,
     "start_time": "2022-03-15T21:02:38.283780",
     "status": "completed"
    },
    "tags": []
   },
   "outputs": [],
   "source": [
    "sub.to_csv(\"submission.csv\", index=False)"
   ]
  },
  {
   "cell_type": "code",
   "execution_count": null,
   "id": "32ce9591",
   "metadata": {
    "papermill": {
     "duration": 1.426655,
     "end_time": "2022-03-15T21:02:42.700376",
     "exception": false,
     "start_time": "2022-03-15T21:02:41.273721",
     "status": "completed"
    },
    "tags": []
   },
   "outputs": [],
   "source": []
  },
  {
   "cell_type": "code",
   "execution_count": null,
   "id": "10ff57ec",
   "metadata": {
    "papermill": {
     "duration": 1.431021,
     "end_time": "2022-03-15T21:02:45.830380",
     "exception": false,
     "start_time": "2022-03-15T21:02:44.399359",
     "status": "completed"
    },
    "tags": []
   },
   "outputs": [],
   "source": []
  },
  {
   "cell_type": "code",
   "execution_count": null,
   "id": "9bed4c3a",
   "metadata": {
    "papermill": {
     "duration": 1.463298,
     "end_time": "2022-03-15T21:02:48.765393",
     "exception": false,
     "start_time": "2022-03-15T21:02:47.302095",
     "status": "completed"
    },
    "tags": []
   },
   "outputs": [],
   "source": []
  }
 ],
 "metadata": {
  "kernelspec": {
   "display_name": "Python 3",
   "language": "python",
   "name": "python3"
  },
  "language_info": {
   "codemirror_mode": {
    "name": "ipython",
    "version": 3
   },
   "file_extension": ".py",
   "mimetype": "text/x-python",
   "name": "python",
   "nbconvert_exporter": "python",
   "pygments_lexer": "ipython3",
   "version": "3.7.12"
  },
  "papermill": {
   "default_parameters": {},
   "duration": 2890.570113,
   "end_time": "2022-03-15T21:02:53.324383",
   "environment_variables": {},
   "exception": null,
   "input_path": "__notebook__.ipynb",
   "output_path": "__notebook__.ipynb",
   "parameters": {},
   "start_time": "2022-03-15T20:14:42.754270",
   "version": "2.3.3"
  }
 },
 "nbformat": 4,
 "nbformat_minor": 5
}
