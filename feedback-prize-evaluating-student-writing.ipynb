{
 "cells": [
  {
   "cell_type": "markdown",
   "id": "724fd37e",
   "metadata": {
    "papermill": {
     "duration": 0.013528,
     "end_time": "2022-07-01T19:39:02.312892",
     "exception": false,
     "start_time": "2022-07-01T19:39:02.299364",
     "status": "completed"
    },
    "tags": []
   },
   "source": [
    "---\n",
    "$\\Huge{Feedback\\ Prize\\ -\\ Evaluating\\ Student\\ Writing}$\n",
    "\n",
    "$Analyze\\ argumentative\\ writing\\ elements\\ from\\ students\\ grade\\ 6-12$\n",
    "\n",
    "---"
   ]
  },
  {
   "cell_type": "markdown",
   "id": "e4ecece2",
   "metadata": {
    "papermill": {
     "duration": 0.010574,
     "end_time": "2022-07-01T19:39:02.334942",
     "exception": false,
     "start_time": "2022-07-01T19:39:02.324368",
     "status": "completed"
    },
    "tags": []
   },
   "source": []
  },
  {
   "cell_type": "markdown",
   "id": "2e30cb80",
   "metadata": {
    "papermill": {
     "duration": 0.010523,
     "end_time": "2022-07-01T19:39:02.356163",
     "exception": false,
     "start_time": "2022-07-01T19:39:02.345640",
     "status": "completed"
    },
    "tags": []
   },
   "source": []
  },
  {
   "cell_type": "markdown",
   "id": "4b930600",
   "metadata": {
    "papermill": {
     "duration": 0.011387,
     "end_time": "2022-07-01T19:39:02.378281",
     "exception": false,
     "start_time": "2022-07-01T19:39:02.366894",
     "status": "completed"
    },
    "tags": []
   },
   "source": [
    "# Libraries Import\n",
    "\n",
    "## Regular Libraries"
   ]
  },
  {
   "cell_type": "code",
   "execution_count": null,
   "id": "4d4e1c5c",
   "metadata": {
    "papermill": {
     "duration": 0.010629,
     "end_time": "2022-07-01T19:39:02.399741",
     "exception": false,
     "start_time": "2022-07-01T19:39:02.389112",
     "status": "completed"
    },
    "tags": []
   },
   "outputs": [],
   "source": []
  },
  {
   "cell_type": "code",
   "execution_count": 1,
   "id": "f47bfe44",
   "metadata": {
    "execution": {
     "iopub.execute_input": "2022-07-01T19:39:02.423063Z",
     "iopub.status.busy": "2022-07-01T19:39:02.422638Z",
     "iopub.status.idle": "2022-07-01T19:39:02.433597Z",
     "shell.execute_reply": "2022-07-01T19:39:02.432781Z"
    },
    "papermill": {
     "duration": 0.025053,
     "end_time": "2022-07-01T19:39:02.435527",
     "exception": false,
     "start_time": "2022-07-01T19:39:02.410474",
     "status": "completed"
    },
    "tags": []
   },
   "outputs": [],
   "source": [
    "import numpy as np\n",
    "import pandas as pd\n",
    "import os"
   ]
  },
  {
   "cell_type": "markdown",
   "id": "eef2ab1f",
   "metadata": {
    "papermill": {
     "duration": 0.010673,
     "end_time": "2022-07-01T19:39:02.456981",
     "exception": false,
     "start_time": "2022-07-01T19:39:02.446308",
     "status": "completed"
    },
    "tags": []
   },
   "source": [
    "## Auxiliary Library"
   ]
  },
  {
   "cell_type": "code",
   "execution_count": 2,
   "id": "ba55cc6c",
   "metadata": {
    "execution": {
     "iopub.execute_input": "2022-07-01T19:39:02.480911Z",
     "iopub.status.busy": "2022-07-01T19:39:02.480156Z",
     "iopub.status.idle": "2022-07-01T19:39:02.484573Z",
     "shell.execute_reply": "2022-07-01T19:39:02.483807Z"
    },
    "papermill": {
     "duration": 0.01832,
     "end_time": "2022-07-01T19:39:02.486355",
     "exception": false,
     "start_time": "2022-07-01T19:39:02.468035",
     "status": "completed"
    },
    "tags": []
   },
   "outputs": [],
   "source": [
    "from glob import glob\n",
    "\n",
    "from tqdm import tqdm\n",
    "\n",
    "import random"
   ]
  },
  {
   "cell_type": "markdown",
   "id": "8fe74a6a",
   "metadata": {
    "papermill": {
     "duration": 0.010622,
     "end_time": "2022-07-01T19:39:02.507727",
     "exception": false,
     "start_time": "2022-07-01T19:39:02.497105",
     "status": "completed"
    },
    "tags": []
   },
   "source": [
    "## Data Visualization Library"
   ]
  },
  {
   "cell_type": "code",
   "execution_count": 3,
   "id": "517531bb",
   "metadata": {
    "execution": {
     "iopub.execute_input": "2022-07-01T19:39:02.530684Z",
     "iopub.status.busy": "2022-07-01T19:39:02.530017Z",
     "iopub.status.idle": "2022-07-01T19:39:02.534045Z",
     "shell.execute_reply": "2022-07-01T19:39:02.533186Z"
    },
    "papermill": {
     "duration": 0.017351,
     "end_time": "2022-07-01T19:39:02.535858",
     "exception": false,
     "start_time": "2022-07-01T19:39:02.518507",
     "status": "completed"
    },
    "tags": []
   },
   "outputs": [],
   "source": [
    "import matplotlib.pyplot as plt"
   ]
  },
  {
   "cell_type": "code",
   "execution_count": 4,
   "id": "752b1138",
   "metadata": {
    "execution": {
     "iopub.execute_input": "2022-07-01T19:39:02.558842Z",
     "iopub.status.busy": "2022-07-01T19:39:02.558100Z",
     "iopub.status.idle": "2022-07-01T19:39:09.336452Z",
     "shell.execute_reply": "2022-07-01T19:39:09.335495Z"
    },
    "papermill": {
     "duration": 6.792759,
     "end_time": "2022-07-01T19:39:09.339321",
     "exception": false,
     "start_time": "2022-07-01T19:39:02.546562",
     "status": "completed"
    },
    "tags": []
   },
   "outputs": [],
   "source": [
    "from transformers import RobertaTokenizerFast, RobertaForTokenClassification\n",
    "from torch.utils.data import Dataset, DataLoader\n",
    "import pdb\n",
    "import torch\n",
    "from torch import cuda\n",
    "from sklearn.metrics import accuracy_score\n",
    "\n",
    "MODEL_NAME = \"../input/roberta-base\""
   ]
  },
  {
   "cell_type": "markdown",
   "id": "26f3d94a",
   "metadata": {
    "papermill": {
     "duration": 0.01073,
     "end_time": "2022-07-01T19:39:09.361639",
     "exception": false,
     "start_time": "2022-07-01T19:39:09.350909",
     "status": "completed"
    },
    "tags": []
   },
   "source": [
    "---"
   ]
  },
  {
   "cell_type": "markdown",
   "id": "16b574c4",
   "metadata": {
    "papermill": {
     "duration": 0.01088,
     "end_time": "2022-07-01T19:39:09.383321",
     "exception": false,
     "start_time": "2022-07-01T19:39:09.372441",
     "status": "completed"
    },
    "tags": []
   },
   "source": [
    "# Data Extraction\n",
    "\n",
    "## Main Data"
   ]
  },
  {
   "cell_type": "code",
   "execution_count": 5,
   "id": "4616f17d",
   "metadata": {
    "execution": {
     "iopub.execute_input": "2022-07-01T19:39:09.406479Z",
     "iopub.status.busy": "2022-07-01T19:39:09.405971Z",
     "iopub.status.idle": "2022-07-01T19:39:10.785245Z",
     "shell.execute_reply": "2022-07-01T19:39:10.784301Z"
    },
    "papermill": {
     "duration": 1.393278,
     "end_time": "2022-07-01T19:39:10.787509",
     "exception": false,
     "start_time": "2022-07-01T19:39:09.394231",
     "status": "completed"
    },
    "tags": []
   },
   "outputs": [],
   "source": [
    "train = pd.read_csv('../input/feedback-prize-2021/train.csv')\n",
    "sample_submission = pd.read_csv('../input/feedback-prize-2021/sample_submission.csv')"
   ]
  },
  {
   "cell_type": "code",
   "execution_count": 6,
   "id": "611c886f",
   "metadata": {
    "execution": {
     "iopub.execute_input": "2022-07-01T19:39:10.811449Z",
     "iopub.status.busy": "2022-07-01T19:39:10.811138Z",
     "iopub.status.idle": "2022-07-01T19:39:10.833467Z",
     "shell.execute_reply": "2022-07-01T19:39:10.831921Z"
    },
    "papermill": {
     "duration": 0.037381,
     "end_time": "2022-07-01T19:39:10.836384",
     "exception": false,
     "start_time": "2022-07-01T19:39:10.799003",
     "status": "completed"
    },
    "tags": []
   },
   "outputs": [
    {
     "name": "stdout",
     "output_type": "stream",
     "text": [
      "(144293, 8)\n"
     ]
    },
    {
     "data": {
      "text/html": [
       "<div>\n",
       "<style scoped>\n",
       "    .dataframe tbody tr th:only-of-type {\n",
       "        vertical-align: middle;\n",
       "    }\n",
       "\n",
       "    .dataframe tbody tr th {\n",
       "        vertical-align: top;\n",
       "    }\n",
       "\n",
       "    .dataframe thead th {\n",
       "        text-align: right;\n",
       "    }\n",
       "</style>\n",
       "<table border=\"1\" class=\"dataframe\">\n",
       "  <thead>\n",
       "    <tr style=\"text-align: right;\">\n",
       "      <th></th>\n",
       "      <th>id</th>\n",
       "      <th>discourse_id</th>\n",
       "      <th>discourse_start</th>\n",
       "      <th>discourse_end</th>\n",
       "      <th>discourse_text</th>\n",
       "      <th>discourse_type</th>\n",
       "      <th>discourse_type_num</th>\n",
       "      <th>predictionstring</th>\n",
       "    </tr>\n",
       "  </thead>\n",
       "  <tbody>\n",
       "    <tr>\n",
       "      <th>0</th>\n",
       "      <td>423A1CA112E2</td>\n",
       "      <td>1.622628e+12</td>\n",
       "      <td>8.0</td>\n",
       "      <td>229.0</td>\n",
       "      <td>Modern humans today are always on their phone....</td>\n",
       "      <td>Lead</td>\n",
       "      <td>Lead 1</td>\n",
       "      <td>1 2 3 4 5 6 7 8 9 10 11 12 13 14 15 16 17 18 1...</td>\n",
       "    </tr>\n",
       "    <tr>\n",
       "      <th>1</th>\n",
       "      <td>423A1CA112E2</td>\n",
       "      <td>1.622628e+12</td>\n",
       "      <td>230.0</td>\n",
       "      <td>312.0</td>\n",
       "      <td>They are some really bad consequences when stu...</td>\n",
       "      <td>Position</td>\n",
       "      <td>Position 1</td>\n",
       "      <td>45 46 47 48 49 50 51 52 53 54 55 56 57 58 59</td>\n",
       "    </tr>\n",
       "    <tr>\n",
       "      <th>2</th>\n",
       "      <td>423A1CA112E2</td>\n",
       "      <td>1.622628e+12</td>\n",
       "      <td>313.0</td>\n",
       "      <td>401.0</td>\n",
       "      <td>Some certain areas in the United States ban ph...</td>\n",
       "      <td>Evidence</td>\n",
       "      <td>Evidence 1</td>\n",
       "      <td>60 61 62 63 64 65 66 67 68 69 70 71 72 73 74 75</td>\n",
       "    </tr>\n",
       "    <tr>\n",
       "      <th>3</th>\n",
       "      <td>423A1CA112E2</td>\n",
       "      <td>1.622628e+12</td>\n",
       "      <td>402.0</td>\n",
       "      <td>758.0</td>\n",
       "      <td>When people have phones, they know about certa...</td>\n",
       "      <td>Evidence</td>\n",
       "      <td>Evidence 2</td>\n",
       "      <td>76 77 78 79 80 81 82 83 84 85 86 87 88 89 90 9...</td>\n",
       "    </tr>\n",
       "    <tr>\n",
       "      <th>4</th>\n",
       "      <td>423A1CA112E2</td>\n",
       "      <td>1.622628e+12</td>\n",
       "      <td>759.0</td>\n",
       "      <td>886.0</td>\n",
       "      <td>Driving is one of the way how to get around. P...</td>\n",
       "      <td>Claim</td>\n",
       "      <td>Claim 1</td>\n",
       "      <td>139 140 141 142 143 144 145 146 147 148 149 15...</td>\n",
       "    </tr>\n",
       "  </tbody>\n",
       "</table>\n",
       "</div>"
      ],
      "text/plain": [
       "             id  discourse_id  discourse_start  discourse_end  \\\n",
       "0  423A1CA112E2  1.622628e+12              8.0          229.0   \n",
       "1  423A1CA112E2  1.622628e+12            230.0          312.0   \n",
       "2  423A1CA112E2  1.622628e+12            313.0          401.0   \n",
       "3  423A1CA112E2  1.622628e+12            402.0          758.0   \n",
       "4  423A1CA112E2  1.622628e+12            759.0          886.0   \n",
       "\n",
       "                                      discourse_text discourse_type  \\\n",
       "0  Modern humans today are always on their phone....           Lead   \n",
       "1  They are some really bad consequences when stu...       Position   \n",
       "2  Some certain areas in the United States ban ph...       Evidence   \n",
       "3  When people have phones, they know about certa...       Evidence   \n",
       "4  Driving is one of the way how to get around. P...          Claim   \n",
       "\n",
       "  discourse_type_num                                   predictionstring  \n",
       "0             Lead 1  1 2 3 4 5 6 7 8 9 10 11 12 13 14 15 16 17 18 1...  \n",
       "1         Position 1       45 46 47 48 49 50 51 52 53 54 55 56 57 58 59  \n",
       "2         Evidence 1    60 61 62 63 64 65 66 67 68 69 70 71 72 73 74 75  \n",
       "3         Evidence 2  76 77 78 79 80 81 82 83 84 85 86 87 88 89 90 9...  \n",
       "4            Claim 1  139 140 141 142 143 144 145 146 147 148 149 15...  "
      ]
     },
     "execution_count": 6,
     "metadata": {},
     "output_type": "execute_result"
    }
   ],
   "source": [
    "print(train.shape)\n",
    "train.head()"
   ]
  },
  {
   "cell_type": "code",
   "execution_count": null,
   "id": "910084d8",
   "metadata": {
    "papermill": {
     "duration": 0.011,
     "end_time": "2022-07-01T19:39:10.859746",
     "exception": false,
     "start_time": "2022-07-01T19:39:10.848746",
     "status": "completed"
    },
    "tags": []
   },
   "outputs": [],
   "source": []
  },
  {
   "cell_type": "code",
   "execution_count": 7,
   "id": "3beb6e63",
   "metadata": {
    "execution": {
     "iopub.execute_input": "2022-07-01T19:39:10.883099Z",
     "iopub.status.busy": "2022-07-01T19:39:10.882564Z",
     "iopub.status.idle": "2022-07-01T19:39:10.888258Z",
     "shell.execute_reply": "2022-07-01T19:39:10.887356Z"
    },
    "papermill": {
     "duration": 0.019944,
     "end_time": "2022-07-01T19:39:10.890758",
     "exception": false,
     "start_time": "2022-07-01T19:39:10.870814",
     "status": "completed"
    },
    "tags": []
   },
   "outputs": [
    {
     "name": "stdout",
     "output_type": "stream",
     "text": [
      "Training data consists of 144293 annotaions\n"
     ]
    }
   ],
   "source": [
    "print(f'Training data consists of {train.shape[0]} annotaions')"
   ]
  },
  {
   "cell_type": "code",
   "execution_count": 8,
   "id": "983d170e",
   "metadata": {
    "execution": {
     "iopub.execute_input": "2022-07-01T19:39:10.915641Z",
     "iopub.status.busy": "2022-07-01T19:39:10.914840Z",
     "iopub.status.idle": "2022-07-01T19:39:11.016720Z",
     "shell.execute_reply": "2022-07-01T19:39:11.015216Z"
    },
    "papermill": {
     "duration": 0.115793,
     "end_time": "2022-07-01T19:39:11.018826",
     "exception": false,
     "start_time": "2022-07-01T19:39:10.903033",
     "status": "completed"
    },
    "tags": []
   },
   "outputs": [
    {
     "name": "stdout",
     "output_type": "stream",
     "text": [
      "50355\n",
      "------------------------------------\n",
      "44\n",
      "['Lead 1' 'Position 1' 'Evidence 1' 'Evidence 2' 'Claim 1' 'Evidence 3'\n",
      " 'Evidence 4' 'Claim 2' 'Evidence 5' 'Concluding Statement 1'\n",
      " 'Counterclaim 1' 'Rebuttal 1' 'Claim 3' 'Claim 4' 'Claim 5' 'Claim 6'\n",
      " 'Claim 7' 'Counterclaim 2' 'Rebuttal 2' 'Counterclaim 3' 'Rebuttal 3'\n",
      " 'Evidence 6' 'Lead 2' 'Counterclaim 4' 'Counterclaim 5' 'Counterclaim 6'\n",
      " 'Evidence 7' 'Claim 8' 'Evidence 8' 'Concluding Statement 2' 'Rebuttal 4'\n",
      " 'Rebuttal 5' 'Claim 9' 'Position 2' 'Claim 10' 'Claim 11' 'Claim 12'\n",
      " 'Evidence 9' 'Concluding Statement 3' 'Concluding Statement 4'\n",
      " 'Evidence 10' 'Evidence 11' 'Rebuttal 6' 'Evidence 12']\n",
      "------------------------------------\n",
      "['Lead' 'Position' 'Evidence' 'Claim' 'Concluding Statement'\n",
      " 'Counterclaim' 'Rebuttal']\n"
     ]
    }
   ],
   "source": [
    "print(train[\"predictionstring\"].nunique())\n",
    "print(\"------------------------------------\")\n",
    "print(train[\"discourse_type_num\"].nunique())\n",
    "print(train[\"discourse_type_num\"].unique())\n",
    "print(\"------------------------------------\")\n",
    "print(train[\"discourse_type\"].unique())"
   ]
  },
  {
   "cell_type": "code",
   "execution_count": 9,
   "id": "0aa0c2e6",
   "metadata": {
    "execution": {
     "iopub.execute_input": "2022-07-01T19:39:11.043120Z",
     "iopub.status.busy": "2022-07-01T19:39:11.042392Z",
     "iopub.status.idle": "2022-07-01T19:39:11.456603Z",
     "shell.execute_reply": "2022-07-01T19:39:11.455703Z"
    },
    "papermill": {
     "duration": 0.428821,
     "end_time": "2022-07-01T19:39:11.459028",
     "exception": false,
     "start_time": "2022-07-01T19:39:11.030207",
     "status": "completed"
    },
    "tags": []
   },
   "outputs": [],
   "source": [
    "train[\"discourse_len\"] = train[\"discourse_text\"].apply(lambda x:len(x.split()))"
   ]
  },
  {
   "cell_type": "code",
   "execution_count": 10,
   "id": "058f5171",
   "metadata": {
    "execution": {
     "iopub.execute_input": "2022-07-01T19:39:11.483634Z",
     "iopub.status.busy": "2022-07-01T19:39:11.483352Z",
     "iopub.status.idle": "2022-07-01T19:39:11.806854Z",
     "shell.execute_reply": "2022-07-01T19:39:11.805935Z"
    },
    "papermill": {
     "duration": 0.338609,
     "end_time": "2022-07-01T19:39:11.808874",
     "exception": false,
     "start_time": "2022-07-01T19:39:11.470265",
     "status": "completed"
    },
    "tags": []
   },
   "outputs": [],
   "source": [
    "train[\"predictionstring_len\"] = train[\"predictionstring\"].apply(lambda x:len(x.split()))"
   ]
  },
  {
   "cell_type": "code",
   "execution_count": 11,
   "id": "f5dd1003",
   "metadata": {
    "execution": {
     "iopub.execute_input": "2022-07-01T19:39:11.832708Z",
     "iopub.status.busy": "2022-07-01T19:39:11.832419Z",
     "iopub.status.idle": "2022-07-01T19:39:11.837365Z",
     "shell.execute_reply": "2022-07-01T19:39:11.836367Z"
    },
    "papermill": {
     "duration": 0.019236,
     "end_time": "2022-07-01T19:39:11.839566",
     "exception": false,
     "start_time": "2022-07-01T19:39:11.820330",
     "status": "completed"
    },
    "tags": []
   },
   "outputs": [],
   "source": [
    "train[\"len_predict\"] = 0"
   ]
  },
  {
   "cell_type": "code",
   "execution_count": 12,
   "id": "d9bf6f01",
   "metadata": {
    "execution": {
     "iopub.execute_input": "2022-07-01T19:39:11.863434Z",
     "iopub.status.busy": "2022-07-01T19:39:11.863184Z",
     "iopub.status.idle": "2022-07-01T19:39:46.544942Z",
     "shell.execute_reply": "2022-07-01T19:39:46.543953Z"
    },
    "papermill": {
     "duration": 34.696582,
     "end_time": "2022-07-01T19:39:46.547278",
     "exception": false,
     "start_time": "2022-07-01T19:39:11.850696",
     "status": "completed"
    },
    "tags": []
   },
   "outputs": [
    {
     "name": "stderr",
     "output_type": "stream",
     "text": [
      "/opt/conda/lib/python3.7/site-packages/ipykernel_launcher.py:3: SettingWithCopyWarning: \n",
      "A value is trying to be set on a copy of a slice from a DataFrame\n",
      "\n",
      "See the caveats in the documentation: https://pandas.pydata.org/pandas-docs/stable/user_guide/indexing.html#returning-a-view-versus-a-copy\n",
      "  This is separate from the ipykernel package so we can avoid doing imports until\n",
      "/opt/conda/lib/python3.7/site-packages/ipykernel_launcher.py:5: SettingWithCopyWarning: \n",
      "A value is trying to be set on a copy of a slice from a DataFrame\n",
      "\n",
      "See the caveats in the documentation: https://pandas.pydata.org/pandas-docs/stable/user_guide/indexing.html#returning-a-view-versus-a-copy\n",
      "  \"\"\"\n"
     ]
    }
   ],
   "source": [
    "for i in range(0,len(train[\"discourse_len\"])):\n",
    "    if train[\"discourse_len\"][i] == train[\"predictionstring_len\"][i]:\n",
    "        train[\"len_predict\"][i] = 0\n",
    "    else:\n",
    "        train[\"len_predict\"][i] = 1"
   ]
  },
  {
   "cell_type": "code",
   "execution_count": 13,
   "id": "e88d2738",
   "metadata": {
    "execution": {
     "iopub.execute_input": "2022-07-01T19:39:46.572008Z",
     "iopub.status.busy": "2022-07-01T19:39:46.571339Z",
     "iopub.status.idle": "2022-07-01T19:39:46.579130Z",
     "shell.execute_reply": "2022-07-01T19:39:46.578307Z"
    },
    "papermill": {
     "duration": 0.021946,
     "end_time": "2022-07-01T19:39:46.581026",
     "exception": false,
     "start_time": "2022-07-01T19:39:46.559080",
     "status": "completed"
    },
    "tags": []
   },
   "outputs": [
    {
     "data": {
      "text/plain": [
       "468"
      ]
     },
     "execution_count": 13,
     "metadata": {},
     "output_type": "execute_result"
    }
   ],
   "source": [
    "train[\"len_predict\"].sum()"
   ]
  },
  {
   "cell_type": "code",
   "execution_count": 14,
   "id": "85a556d6",
   "metadata": {
    "execution": {
     "iopub.execute_input": "2022-07-01T19:39:46.604587Z",
     "iopub.status.busy": "2022-07-01T19:39:46.604331Z",
     "iopub.status.idle": "2022-07-01T19:39:46.619456Z",
     "shell.execute_reply": "2022-07-01T19:39:46.618543Z"
    },
    "papermill": {
     "duration": 0.029049,
     "end_time": "2022-07-01T19:39:46.621360",
     "exception": false,
     "start_time": "2022-07-01T19:39:46.592311",
     "status": "completed"
    },
    "tags": []
   },
   "outputs": [
    {
     "data": {
      "text/html": [
       "<div>\n",
       "<style scoped>\n",
       "    .dataframe tbody tr th:only-of-type {\n",
       "        vertical-align: middle;\n",
       "    }\n",
       "\n",
       "    .dataframe tbody tr th {\n",
       "        vertical-align: top;\n",
       "    }\n",
       "\n",
       "    .dataframe thead th {\n",
       "        text-align: right;\n",
       "    }\n",
       "</style>\n",
       "<table border=\"1\" class=\"dataframe\">\n",
       "  <thead>\n",
       "    <tr style=\"text-align: right;\">\n",
       "      <th></th>\n",
       "      <th>id</th>\n",
       "      <th>discourse_id</th>\n",
       "      <th>discourse_start</th>\n",
       "      <th>discourse_end</th>\n",
       "      <th>discourse_text</th>\n",
       "      <th>discourse_type</th>\n",
       "      <th>discourse_type_num</th>\n",
       "      <th>predictionstring</th>\n",
       "      <th>discourse_len</th>\n",
       "      <th>predictionstring_len</th>\n",
       "      <th>len_predict</th>\n",
       "    </tr>\n",
       "  </thead>\n",
       "  <tbody>\n",
       "    <tr>\n",
       "      <th>0</th>\n",
       "      <td>423A1CA112E2</td>\n",
       "      <td>1.622628e+12</td>\n",
       "      <td>8.0</td>\n",
       "      <td>229.0</td>\n",
       "      <td>Modern humans today are always on their phone....</td>\n",
       "      <td>Lead</td>\n",
       "      <td>Lead 1</td>\n",
       "      <td>1 2 3 4 5 6 7 8 9 10 11 12 13 14 15 16 17 18 1...</td>\n",
       "      <td>44</td>\n",
       "      <td>44</td>\n",
       "      <td>0</td>\n",
       "    </tr>\n",
       "    <tr>\n",
       "      <th>1</th>\n",
       "      <td>423A1CA112E2</td>\n",
       "      <td>1.622628e+12</td>\n",
       "      <td>230.0</td>\n",
       "      <td>312.0</td>\n",
       "      <td>They are some really bad consequences when stu...</td>\n",
       "      <td>Position</td>\n",
       "      <td>Position 1</td>\n",
       "      <td>45 46 47 48 49 50 51 52 53 54 55 56 57 58 59</td>\n",
       "      <td>15</td>\n",
       "      <td>15</td>\n",
       "      <td>0</td>\n",
       "    </tr>\n",
       "    <tr>\n",
       "      <th>2</th>\n",
       "      <td>423A1CA112E2</td>\n",
       "      <td>1.622628e+12</td>\n",
       "      <td>313.0</td>\n",
       "      <td>401.0</td>\n",
       "      <td>Some certain areas in the United States ban ph...</td>\n",
       "      <td>Evidence</td>\n",
       "      <td>Evidence 1</td>\n",
       "      <td>60 61 62 63 64 65 66 67 68 69 70 71 72 73 74 75</td>\n",
       "      <td>16</td>\n",
       "      <td>16</td>\n",
       "      <td>0</td>\n",
       "    </tr>\n",
       "    <tr>\n",
       "      <th>3</th>\n",
       "      <td>423A1CA112E2</td>\n",
       "      <td>1.622628e+12</td>\n",
       "      <td>402.0</td>\n",
       "      <td>758.0</td>\n",
       "      <td>When people have phones, they know about certa...</td>\n",
       "      <td>Evidence</td>\n",
       "      <td>Evidence 2</td>\n",
       "      <td>76 77 78 79 80 81 82 83 84 85 86 87 88 89 90 9...</td>\n",
       "      <td>63</td>\n",
       "      <td>63</td>\n",
       "      <td>0</td>\n",
       "    </tr>\n",
       "    <tr>\n",
       "      <th>4</th>\n",
       "      <td>423A1CA112E2</td>\n",
       "      <td>1.622628e+12</td>\n",
       "      <td>759.0</td>\n",
       "      <td>886.0</td>\n",
       "      <td>Driving is one of the way how to get around. P...</td>\n",
       "      <td>Claim</td>\n",
       "      <td>Claim 1</td>\n",
       "      <td>139 140 141 142 143 144 145 146 147 148 149 15...</td>\n",
       "      <td>24</td>\n",
       "      <td>24</td>\n",
       "      <td>0</td>\n",
       "    </tr>\n",
       "  </tbody>\n",
       "</table>\n",
       "</div>"
      ],
      "text/plain": [
       "             id  discourse_id  discourse_start  discourse_end  \\\n",
       "0  423A1CA112E2  1.622628e+12              8.0          229.0   \n",
       "1  423A1CA112E2  1.622628e+12            230.0          312.0   \n",
       "2  423A1CA112E2  1.622628e+12            313.0          401.0   \n",
       "3  423A1CA112E2  1.622628e+12            402.0          758.0   \n",
       "4  423A1CA112E2  1.622628e+12            759.0          886.0   \n",
       "\n",
       "                                      discourse_text discourse_type  \\\n",
       "0  Modern humans today are always on their phone....           Lead   \n",
       "1  They are some really bad consequences when stu...       Position   \n",
       "2  Some certain areas in the United States ban ph...       Evidence   \n",
       "3  When people have phones, they know about certa...       Evidence   \n",
       "4  Driving is one of the way how to get around. P...          Claim   \n",
       "\n",
       "  discourse_type_num                                   predictionstring  \\\n",
       "0             Lead 1  1 2 3 4 5 6 7 8 9 10 11 12 13 14 15 16 17 18 1...   \n",
       "1         Position 1       45 46 47 48 49 50 51 52 53 54 55 56 57 58 59   \n",
       "2         Evidence 1    60 61 62 63 64 65 66 67 68 69 70 71 72 73 74 75   \n",
       "3         Evidence 2  76 77 78 79 80 81 82 83 84 85 86 87 88 89 90 9...   \n",
       "4            Claim 1  139 140 141 142 143 144 145 146 147 148 149 15...   \n",
       "\n",
       "   discourse_len  predictionstring_len  len_predict  \n",
       "0             44                    44            0  \n",
       "1             15                    15            0  \n",
       "2             16                    16            0  \n",
       "3             63                    63            0  \n",
       "4             24                    24            0  "
      ]
     },
     "execution_count": 14,
     "metadata": {},
     "output_type": "execute_result"
    }
   ],
   "source": [
    "train.head()"
   ]
  },
  {
   "cell_type": "code",
   "execution_count": 15,
   "id": "922b4477",
   "metadata": {
    "execution": {
     "iopub.execute_input": "2022-07-01T19:39:46.646570Z",
     "iopub.status.busy": "2022-07-01T19:39:46.645972Z",
     "iopub.status.idle": "2022-07-01T19:39:46.649734Z",
     "shell.execute_reply": "2022-07-01T19:39:46.648872Z"
    },
    "papermill": {
     "duration": 0.018028,
     "end_time": "2022-07-01T19:39:46.651670",
     "exception": false,
     "start_time": "2022-07-01T19:39:46.633642",
     "status": "completed"
    },
    "tags": []
   },
   "outputs": [],
   "source": [
    "#test_names, test_texts = [], []\n",
    "#for f in tqdm(list(os.listdir('../input/feedback-prize-2021/test'))):\n",
    "#    test_names.append(f.replace('.txt', ''))\n",
    "#    test_texts.append(open('../input/feedback-prize-2021/test/' + f, 'r').read())\n",
    "#test_texts = pd.DataFrame({'id': test_names, 'text': test_texts})\n",
    "#\n",
    "#test_texts.head()"
   ]
  },
  {
   "cell_type": "code",
   "execution_count": 16,
   "id": "d83e97ff",
   "metadata": {
    "execution": {
     "iopub.execute_input": "2022-07-01T19:39:46.676247Z",
     "iopub.status.busy": "2022-07-01T19:39:46.675637Z",
     "iopub.status.idle": "2022-07-01T19:41:06.257232Z",
     "shell.execute_reply": "2022-07-01T19:41:06.256294Z"
    },
    "papermill": {
     "duration": 79.59598,
     "end_time": "2022-07-01T19:41:06.259138",
     "exception": false,
     "start_time": "2022-07-01T19:39:46.663158",
     "status": "completed"
    },
    "tags": []
   },
   "outputs": [
    {
     "name": "stderr",
     "output_type": "stream",
     "text": [
      "100%|██████████| 15594/15594 [01:19<00:00, 197.03it/s]\n"
     ]
    },
    {
     "data": {
      "text/html": [
       "<div>\n",
       "<style scoped>\n",
       "    .dataframe tbody tr th:only-of-type {\n",
       "        vertical-align: middle;\n",
       "    }\n",
       "\n",
       "    .dataframe tbody tr th {\n",
       "        vertical-align: top;\n",
       "    }\n",
       "\n",
       "    .dataframe thead th {\n",
       "        text-align: right;\n",
       "    }\n",
       "</style>\n",
       "<table border=\"1\" class=\"dataframe\">\n",
       "  <thead>\n",
       "    <tr style=\"text-align: right;\">\n",
       "      <th></th>\n",
       "      <th>id</th>\n",
       "      <th>text</th>\n",
       "    </tr>\n",
       "  </thead>\n",
       "  <tbody>\n",
       "    <tr>\n",
       "      <th>0</th>\n",
       "      <td>62C57C524CD2</td>\n",
       "      <td>I think we should be able to play in a sport i...</td>\n",
       "    </tr>\n",
       "    <tr>\n",
       "      <th>1</th>\n",
       "      <td>80667AD3FFD8</td>\n",
       "      <td>Some schools require summer projects for stude...</td>\n",
       "    </tr>\n",
       "    <tr>\n",
       "      <th>2</th>\n",
       "      <td>21868C40B94F</td>\n",
       "      <td>Driverless cars have been argued and talked ab...</td>\n",
       "    </tr>\n",
       "    <tr>\n",
       "      <th>3</th>\n",
       "      <td>87A6EF3113C6</td>\n",
       "      <td>The author of \"The Challenge of Exploring Venu...</td>\n",
       "    </tr>\n",
       "    <tr>\n",
       "      <th>4</th>\n",
       "      <td>24687D08CFDA</td>\n",
       "      <td>Wow, from the mar really look like humans face...</td>\n",
       "    </tr>\n",
       "  </tbody>\n",
       "</table>\n",
       "</div>"
      ],
      "text/plain": [
       "             id                                               text\n",
       "0  62C57C524CD2  I think we should be able to play in a sport i...\n",
       "1  80667AD3FFD8  Some schools require summer projects for stude...\n",
       "2  21868C40B94F  Driverless cars have been argued and talked ab...\n",
       "3  87A6EF3113C6  The author of \"The Challenge of Exploring Venu...\n",
       "4  24687D08CFDA  Wow, from the mar really look like humans face..."
      ]
     },
     "execution_count": 16,
     "metadata": {},
     "output_type": "execute_result"
    }
   ],
   "source": [
    "test_names, train_texts = [], []\n",
    "for f in tqdm(list(os.listdir('../input/feedback-prize-2021/train'))):\n",
    "    test_names.append(f.replace('.txt', ''))\n",
    "    train_texts.append(open('../input/feedback-prize-2021/train/' + f, 'r').read())\n",
    "train_text_df = pd.DataFrame({'id': test_names, 'text': train_texts})\n",
    "\n",
    "train_text_df.head()"
   ]
  },
  {
   "cell_type": "code",
   "execution_count": 17,
   "id": "4896578c",
   "metadata": {
    "execution": {
     "iopub.execute_input": "2022-07-01T19:41:06.371886Z",
     "iopub.status.busy": "2022-07-01T19:41:06.371039Z",
     "iopub.status.idle": "2022-07-01T19:46:45.066451Z",
     "shell.execute_reply": "2022-07-01T19:46:45.065496Z"
    },
    "papermill": {
     "duration": 338.753881,
     "end_time": "2022-07-01T19:46:45.069053",
     "exception": false,
     "start_time": "2022-07-01T19:41:06.315172",
     "status": "completed"
    },
    "tags": []
   },
   "outputs": [
    {
     "name": "stderr",
     "output_type": "stream",
     "text": [
      "15594it [05:38, 46.05it/s]\n"
     ]
    }
   ],
   "source": [
    "train_df = train.copy()\n",
    "all_entities = []\n",
    "for i in tqdm(train_text_df.iterrows()):\n",
    "    total = i[1]['text'].split(' ').__len__()\n",
    "    start = -1\n",
    "    entities = []\n",
    "    for j in train_df[train_df['id'] == i[1]['id']].iterrows():\n",
    "        discourse = j[1]['discourse_type']\n",
    "        list_ix = j[1]['predictionstring'].split(' ')\n",
    "        ent = [f\"I-{discourse}\" for ix in list_ix]\n",
    "        ent[0] = f\"B-{discourse}\"\n",
    "        ds = int(list_ix[0])\n",
    "        de = int(list_ix[-1])\n",
    "        if start < ds-1:\n",
    "            ent_add = ['O' for ix in range(int(ds-1-start))]\n",
    "            ent = ent_add + ent\n",
    "        entities.extend(ent)\n",
    "        start = de\n",
    "    if len(entities) < total:\n",
    "        ent_add = [\"O\" for ix in range(total-len(entities))]\n",
    "        entities += ent_add\n",
    "    else:\n",
    "        entities = entities[:total]\n",
    "    all_entities.append(entities)"
   ]
  },
  {
   "cell_type": "code",
   "execution_count": 18,
   "id": "ad3defef",
   "metadata": {
    "execution": {
     "iopub.execute_input": "2022-07-01T19:46:45.532033Z",
     "iopub.status.busy": "2022-07-01T19:46:45.531712Z",
     "iopub.status.idle": "2022-07-01T19:46:45.554802Z",
     "shell.execute_reply": "2022-07-01T19:46:45.553808Z"
    },
    "papermill": {
     "duration": 0.254896,
     "end_time": "2022-07-01T19:46:45.556979",
     "exception": false,
     "start_time": "2022-07-01T19:46:45.302083",
     "status": "completed"
    },
    "tags": []
   },
   "outputs": [
    {
     "data": {
      "text/html": [
       "<div>\n",
       "<style scoped>\n",
       "    .dataframe tbody tr th:only-of-type {\n",
       "        vertical-align: middle;\n",
       "    }\n",
       "\n",
       "    .dataframe tbody tr th {\n",
       "        vertical-align: top;\n",
       "    }\n",
       "\n",
       "    .dataframe thead th {\n",
       "        text-align: right;\n",
       "    }\n",
       "</style>\n",
       "<table border=\"1\" class=\"dataframe\">\n",
       "  <thead>\n",
       "    <tr style=\"text-align: right;\">\n",
       "      <th></th>\n",
       "      <th>id</th>\n",
       "      <th>text</th>\n",
       "      <th>entities</th>\n",
       "    </tr>\n",
       "  </thead>\n",
       "  <tbody>\n",
       "    <tr>\n",
       "      <th>0</th>\n",
       "      <td>62C57C524CD2</td>\n",
       "      <td>I think we should be able to play in a sport i...</td>\n",
       "      <td>[B-Position, I-Position, I-Position, I-Positio...</td>\n",
       "    </tr>\n",
       "    <tr>\n",
       "      <th>1</th>\n",
       "      <td>80667AD3FFD8</td>\n",
       "      <td>Some schools require summer projects for stude...</td>\n",
       "      <td>[B-Position, I-Position, I-Position, I-Positio...</td>\n",
       "    </tr>\n",
       "    <tr>\n",
       "      <th>2</th>\n",
       "      <td>21868C40B94F</td>\n",
       "      <td>Driverless cars have been argued and talked ab...</td>\n",
       "      <td>[B-Lead, I-Lead, I-Lead, I-Lead, I-Lead, I-Lea...</td>\n",
       "    </tr>\n",
       "    <tr>\n",
       "      <th>3</th>\n",
       "      <td>87A6EF3113C6</td>\n",
       "      <td>The author of \"The Challenge of Exploring Venu...</td>\n",
       "      <td>[B-Position, I-Position, I-Position, I-Positio...</td>\n",
       "    </tr>\n",
       "    <tr>\n",
       "      <th>4</th>\n",
       "      <td>24687D08CFDA</td>\n",
       "      <td>Wow, from the mar really look like humans face...</td>\n",
       "      <td>[B-Lead, I-Lead, I-Lead, I-Lead, I-Lead, I-Lea...</td>\n",
       "    </tr>\n",
       "  </tbody>\n",
       "</table>\n",
       "</div>"
      ],
      "text/plain": [
       "             id                                               text  \\\n",
       "0  62C57C524CD2  I think we should be able to play in a sport i...   \n",
       "1  80667AD3FFD8  Some schools require summer projects for stude...   \n",
       "2  21868C40B94F  Driverless cars have been argued and talked ab...   \n",
       "3  87A6EF3113C6  The author of \"The Challenge of Exploring Venu...   \n",
       "4  24687D08CFDA  Wow, from the mar really look like humans face...   \n",
       "\n",
       "                                            entities  \n",
       "0  [B-Position, I-Position, I-Position, I-Positio...  \n",
       "1  [B-Position, I-Position, I-Position, I-Positio...  \n",
       "2  [B-Lead, I-Lead, I-Lead, I-Lead, I-Lead, I-Lea...  \n",
       "3  [B-Position, I-Position, I-Position, I-Positio...  \n",
       "4  [B-Lead, I-Lead, I-Lead, I-Lead, I-Lead, I-Lea...  "
      ]
     },
     "execution_count": 18,
     "metadata": {},
     "output_type": "execute_result"
    }
   ],
   "source": [
    "train_text_df['entities'] = all_entities\n",
    "train_text_df.head()"
   ]
  },
  {
   "cell_type": "code",
   "execution_count": 19,
   "id": "49f1c6c0",
   "metadata": {
    "execution": {
     "iopub.execute_input": "2022-07-01T19:46:46.025141Z",
     "iopub.status.busy": "2022-07-01T19:46:46.024794Z",
     "iopub.status.idle": "2022-07-01T19:46:46.087927Z",
     "shell.execute_reply": "2022-07-01T19:46:46.086992Z"
    },
    "papermill": {
     "duration": 0.302537,
     "end_time": "2022-07-01T19:46:46.090051",
     "exception": false,
     "start_time": "2022-07-01T19:46:45.787514",
     "status": "completed"
    },
    "tags": []
   },
   "outputs": [],
   "source": [
    "config = {'model_name': '/kaggle/input/roberta-base/',\n",
    "         'max_length': 512,\n",
    "         'train_batch_size':8,\n",
    "         'valid_batch_size':16,\n",
    "         'epochs':3,\n",
    "         'learning_rate':1e-05,\n",
    "         'max_grad_norm':10,\n",
    "         'device': 'cuda' if cuda.is_available() else 'cpu'}"
   ]
  },
  {
   "cell_type": "code",
   "execution_count": 20,
   "id": "4b4de34d",
   "metadata": {
    "execution": {
     "iopub.execute_input": "2022-07-01T19:46:46.596728Z",
     "iopub.status.busy": "2022-07-01T19:46:46.595779Z",
     "iopub.status.idle": "2022-07-01T19:46:46.602115Z",
     "shell.execute_reply": "2022-07-01T19:46:46.601165Z"
    },
    "papermill": {
     "duration": 0.239062,
     "end_time": "2022-07-01T19:46:46.604008",
     "exception": false,
     "start_time": "2022-07-01T19:46:46.364946",
     "status": "completed"
    },
    "tags": []
   },
   "outputs": [],
   "source": [
    "output_labels = ['O', 'B-Lead', 'I-Lead', 'B-Position', 'I-Position', 'B-Claim', 'I-Claim', 'B-Counterclaim', 'I-Counterclaim', \n",
    "          'B-Rebuttal', 'I-Rebuttal', 'B-Evidence', 'I-Evidence', 'B-Concluding Statement', 'I-Concluding Statement']\n",
    "\n",
    "labels_to_ids = {v:k for k,v in enumerate(output_labels)}\n",
    "ids_to_labels = {k:v for k,v in enumerate(output_labels)}"
   ]
  },
  {
   "cell_type": "code",
   "execution_count": 21,
   "id": "2037eb76",
   "metadata": {
    "execution": {
     "iopub.execute_input": "2022-07-01T19:46:47.064313Z",
     "iopub.status.busy": "2022-07-01T19:46:47.063981Z",
     "iopub.status.idle": "2022-07-01T19:46:47.068801Z",
     "shell.execute_reply": "2022-07-01T19:46:47.067893Z"
    },
    "papermill": {
     "duration": 0.238815,
     "end_time": "2022-07-01T19:46:47.071548",
     "exception": false,
     "start_time": "2022-07-01T19:46:46.832733",
     "status": "completed"
    },
    "tags": []
   },
   "outputs": [
    {
     "name": "stdout",
     "output_type": "stream",
     "text": [
      "{'O': 0, 'B-Lead': 1, 'I-Lead': 2, 'B-Position': 3, 'I-Position': 4, 'B-Claim': 5, 'I-Claim': 6, 'B-Counterclaim': 7, 'I-Counterclaim': 8, 'B-Rebuttal': 9, 'I-Rebuttal': 10, 'B-Evidence': 11, 'I-Evidence': 12, 'B-Concluding Statement': 13, 'I-Concluding Statement': 14}\n",
      "{0: 'O', 1: 'B-Lead', 2: 'I-Lead', 3: 'B-Position', 4: 'I-Position', 5: 'B-Claim', 6: 'I-Claim', 7: 'B-Counterclaim', 8: 'I-Counterclaim', 9: 'B-Rebuttal', 10: 'I-Rebuttal', 11: 'B-Evidence', 12: 'I-Evidence', 13: 'B-Concluding Statement', 14: 'I-Concluding Statement'}\n"
     ]
    }
   ],
   "source": [
    "print(labels_to_ids)\n",
    "print(ids_to_labels)"
   ]
  },
  {
   "cell_type": "code",
   "execution_count": 22,
   "id": "479debb5",
   "metadata": {
    "execution": {
     "iopub.execute_input": "2022-07-01T19:46:47.536699Z",
     "iopub.status.busy": "2022-07-01T19:46:47.536362Z",
     "iopub.status.idle": "2022-07-01T19:46:53.368993Z",
     "shell.execute_reply": "2022-07-01T19:46:53.367969Z"
    },
    "papermill": {
     "duration": 6.069894,
     "end_time": "2022-07-01T19:46:53.371290",
     "exception": false,
     "start_time": "2022-07-01T19:46:47.301396",
     "status": "completed"
    },
    "tags": []
   },
   "outputs": [
    {
     "name": "stderr",
     "output_type": "stream",
     "text": [
      "Some weights of the model checkpoint at /kaggle/input/roberta-base/ were not used when initializing RobertaForTokenClassification: ['lm_head.dense.bias', 'lm_head.dense.weight', 'lm_head.bias', 'lm_head.layer_norm.weight', 'lm_head.layer_norm.bias', 'lm_head.decoder.weight']\n",
      "- This IS expected if you are initializing RobertaForTokenClassification from the checkpoint of a model trained on another task or with another architecture (e.g. initializing a BertForSequenceClassification model from a BertForPreTraining model).\n",
      "- This IS NOT expected if you are initializing RobertaForTokenClassification from the checkpoint of a model that you expect to be exactly identical (initializing a BertForSequenceClassification model from a BertForSequenceClassification model).\n",
      "Some weights of RobertaForTokenClassification were not initialized from the model checkpoint at /kaggle/input/roberta-base/ and are newly initialized: ['classifier.weight', 'classifier.bias']\n",
      "You should probably TRAIN this model on a down-stream task to be able to use it for predictions and inference.\n"
     ]
    }
   ],
   "source": [
    "tokenizer = RobertaTokenizerFast.from_pretrained(MODEL_NAME)\n",
    "\n",
    "model = RobertaForTokenClassification.from_pretrained(config['model_name'], num_labels=len(output_labels))"
   ]
  },
  {
   "cell_type": "code",
   "execution_count": 23,
   "id": "f0950451",
   "metadata": {
    "execution": {
     "iopub.execute_input": "2022-07-01T19:46:53.874236Z",
     "iopub.status.busy": "2022-07-01T19:46:53.873890Z",
     "iopub.status.idle": "2022-07-01T19:46:53.885319Z",
     "shell.execute_reply": "2022-07-01T19:46:53.884340Z"
    },
    "papermill": {
     "duration": 0.284921,
     "end_time": "2022-07-01T19:46:53.887294",
     "exception": false,
     "start_time": "2022-07-01T19:46:53.602373",
     "status": "completed"
    },
    "tags": []
   },
   "outputs": [],
   "source": [
    "class dataset(Dataset):\n",
    "    def __init__(self, dataframe, tokenizer, max_len):\n",
    "        self.len = len(dataframe)\n",
    "        self.data = dataframe\n",
    "        self.tokenizer = tokenizer\n",
    "        self.max_len = max_len\n",
    "\n",
    "    def __getitem__(self, index):\n",
    "        # step 1: get the sentence and word labels \n",
    "        sentence = self.data.text[index]\n",
    "        word_labels = self.data.entities[index]\n",
    "\n",
    "        # step 2: use tokenizer to encode sentence (includes padding/truncation up to max length)\n",
    "        # BertTokenizerFast provides a handy \"return_offsets_mapping\" functionality for individual tokens\n",
    "        encoding = self.tokenizer(sentence,\n",
    "#                              is_pretokenized=True, \n",
    "#                                   is_split_into_words=True,\n",
    "                             return_offsets_mapping=True, \n",
    "                             padding='max_length', \n",
    "                             truncation=True,\n",
    "                            max_length=self.max_len)\n",
    "        \n",
    "        # step 3: create token labels only for first word pieces of each tokenized word\n",
    "#         pdb.set_trace()\n",
    "        labels = [labels_to_ids[label] for label in word_labels] \n",
    "        # code based on https://huggingface.co/transformers/custom_datasets.html#tok-ner\n",
    "        # create an empty array of -100 of length max_length\n",
    "        encoded_labels = np.ones(len(encoding[\"offset_mapping\"]), dtype=int) * -100\n",
    "#         print(len(sentence), len(labels))\n",
    "        # set only labels whose first offset position is 0 and the second is not 0\n",
    "        i = 0\n",
    "        for idx, mapping in enumerate(encoding[\"offset_mapping\"]):\n",
    "#             print(idx)\n",
    "            if mapping[0] != 0 and mapping[0] != encoding['offset_mapping'][idx-1][1]:\n",
    "            # overwrite label\n",
    "#             pdb.set_trace()\n",
    "#             print(mapping)\n",
    "#             print(encoded_labels.shape, len(labels), idx, i)\n",
    "                try:\n",
    "                    encoded_labels[idx] = labels[i]\n",
    "                except:\n",
    "                    pass\n",
    "                i += 1\n",
    "            else:\n",
    "                if idx==1:\n",
    "    #                 print(idx)\n",
    "                    encoded_labels[idx] = labels[i]\n",
    "                    i += 1\n",
    "        # step 4: turn everything into PyTorch tensors\n",
    "        item = {key: torch.as_tensor(val) for key, val in encoding.items()}\n",
    "        item['labels'] = torch.as_tensor(encoded_labels)\n",
    "        \n",
    "        return item\n",
    "\n",
    "    def __len__(self):\n",
    "        return self.len\n",
    "                                  "
   ]
  },
  {
   "cell_type": "code",
   "execution_count": 24,
   "id": "0aa2c0c9",
   "metadata": {
    "execution": {
     "iopub.execute_input": "2022-07-01T19:46:54.346273Z",
     "iopub.status.busy": "2022-07-01T19:46:54.345950Z",
     "iopub.status.idle": "2022-07-01T19:46:54.365814Z",
     "shell.execute_reply": "2022-07-01T19:46:54.364402Z"
    },
    "papermill": {
     "duration": 0.25145,
     "end_time": "2022-07-01T19:46:54.368125",
     "exception": false,
     "start_time": "2022-07-01T19:46:54.116675",
     "status": "completed"
    },
    "tags": []
   },
   "outputs": [
    {
     "name": "stdout",
     "output_type": "stream",
     "text": [
      "FULL Dataset: (15594, 2)\n",
      "TRAIN Dataset: (12475, 2)\n",
      "TEST Dataset: (3119, 2)\n"
     ]
    }
   ],
   "source": [
    "data = train_text_df[['text', 'entities']]\n",
    "train_size = 0.8\n",
    "train_dataset = data.sample(frac=train_size,random_state=200)\n",
    "test_dataset = data.drop(train_dataset.index).reset_index(drop=True)\n",
    "train_dataset = train_dataset.reset_index(drop=True)\n",
    "\n",
    "print(\"FULL Dataset: {}\".format(data.shape))\n",
    "print(\"TRAIN Dataset: {}\".format(train_dataset.shape))\n",
    "print(\"TEST Dataset: {}\".format(test_dataset.shape))\n",
    "\n",
    "training_set = dataset(train_dataset, tokenizer, config['max_length'])\n",
    "testing_set = dataset(test_dataset, tokenizer, config['max_length'])"
   ]
  },
  {
   "cell_type": "code",
   "execution_count": 25,
   "id": "c280e604",
   "metadata": {
    "execution": {
     "iopub.execute_input": "2022-07-01T19:46:54.854133Z",
     "iopub.status.busy": "2022-07-01T19:46:54.853803Z",
     "iopub.status.idle": "2022-07-01T19:46:54.859863Z",
     "shell.execute_reply": "2022-07-01T19:46:54.858866Z"
    },
    "papermill": {
     "duration": 0.262964,
     "end_time": "2022-07-01T19:46:54.861889",
     "exception": false,
     "start_time": "2022-07-01T19:46:54.598925",
     "status": "completed"
    },
    "tags": []
   },
   "outputs": [],
   "source": [
    "train_params = {'batch_size': config['train_batch_size'],\n",
    "                'shuffle': True,\n",
    "                'num_workers': 1,\n",
    "                'pin_memory':True\n",
    "                }\n",
    "\n",
    "test_params = {'batch_size': config['valid_batch_size'],\n",
    "                'shuffle': True,\n",
    "                'num_workers': 1,\n",
    "                'pin_memory':True\n",
    "                }\n",
    "\n",
    "training_loader = DataLoader(training_set, **train_params)\n",
    "testing_loader = DataLoader(testing_set, **test_params)"
   ]
  },
  {
   "cell_type": "code",
   "execution_count": 26,
   "id": "e7d20fb8",
   "metadata": {
    "execution": {
     "iopub.execute_input": "2022-07-01T19:46:55.326397Z",
     "iopub.status.busy": "2022-07-01T19:46:55.325712Z",
     "iopub.status.idle": "2022-07-01T19:46:55.331545Z",
     "shell.execute_reply": "2022-07-01T19:46:55.330676Z"
    },
    "papermill": {
     "duration": 0.239793,
     "end_time": "2022-07-01T19:46:55.333699",
     "exception": false,
     "start_time": "2022-07-01T19:46:55.093906",
     "status": "completed"
    },
    "tags": []
   },
   "outputs": [
    {
     "data": {
      "text/plain": [
       "'cuda'"
      ]
     },
     "execution_count": 26,
     "metadata": {},
     "output_type": "execute_result"
    }
   ],
   "source": [
    "device = config['device']\n",
    "device"
   ]
  },
  {
   "cell_type": "code",
   "execution_count": 27,
   "id": "7fd53b1f",
   "metadata": {
    "execution": {
     "iopub.execute_input": "2022-07-01T19:46:55.839390Z",
     "iopub.status.busy": "2022-07-01T19:46:55.839050Z",
     "iopub.status.idle": "2022-07-01T19:46:56.155110Z",
     "shell.execute_reply": "2022-07-01T19:46:56.154190Z"
    },
    "papermill": {
     "duration": 0.593403,
     "end_time": "2022-07-01T19:46:56.157293",
     "exception": false,
     "start_time": "2022-07-01T19:46:55.563890",
     "status": "completed"
    },
    "tags": []
   },
   "outputs": [],
   "source": [
    "import gc\n",
    "\n",
    "gc.collect()\n",
    "torch.cuda.empty_cache()"
   ]
  },
  {
   "cell_type": "code",
   "execution_count": 28,
   "id": "79a4e21f",
   "metadata": {
    "execution": {
     "iopub.execute_input": "2022-07-01T19:46:56.619603Z",
     "iopub.status.busy": "2022-07-01T19:46:56.619246Z",
     "iopub.status.idle": "2022-07-01T19:47:02.122455Z",
     "shell.execute_reply": "2022-07-01T19:47:02.121544Z"
    },
    "papermill": {
     "duration": 5.737663,
     "end_time": "2022-07-01T19:47:02.124738",
     "exception": false,
     "start_time": "2022-07-01T19:46:56.387075",
     "status": "completed"
    },
    "tags": []
   },
   "outputs": [
    {
     "data": {
      "text/plain": [
       "tensor(2.9420, device='cuda:0', grad_fn=<NllLossBackward0>)"
      ]
     },
     "execution_count": 28,
     "metadata": {},
     "output_type": "execute_result"
    }
   ],
   "source": [
    "model.to(device)\n",
    "inputs = training_set[2]\n",
    "input_ids = inputs[\"input_ids\"].unsqueeze(0)\n",
    "attention_mask = inputs[\"attention_mask\"].unsqueeze(0)\n",
    "labels = inputs[\"labels\"].unsqueeze(0)\n",
    "\n",
    "input_ids = input_ids.to(device)\n",
    "attention_mask = attention_mask.to(device)\n",
    "labels = labels.to(device)\n",
    "\n",
    "outputs = model(input_ids, attention_mask=attention_mask, labels=labels,\n",
    "               return_dict=False)\n",
    "initial_loss = outputs[0]\n",
    "initial_loss"
   ]
  },
  {
   "cell_type": "code",
   "execution_count": 29,
   "id": "c9355196",
   "metadata": {
    "execution": {
     "iopub.execute_input": "2022-07-01T19:47:02.592213Z",
     "iopub.status.busy": "2022-07-01T19:47:02.591557Z",
     "iopub.status.idle": "2022-07-01T19:47:02.597538Z",
     "shell.execute_reply": "2022-07-01T19:47:02.596611Z"
    },
    "papermill": {
     "duration": 0.240806,
     "end_time": "2022-07-01T19:47:02.599673",
     "exception": false,
     "start_time": "2022-07-01T19:47:02.358867",
     "status": "completed"
    },
    "tags": []
   },
   "outputs": [],
   "source": [
    "optimizer = torch.optim.Adam(params=model.parameters(), lr=config['learning_rate'])"
   ]
  },
  {
   "cell_type": "code",
   "execution_count": 30,
   "id": "5d0d26dc",
   "metadata": {
    "execution": {
     "iopub.execute_input": "2022-07-01T19:47:03.064585Z",
     "iopub.status.busy": "2022-07-01T19:47:03.064262Z",
     "iopub.status.idle": "2022-07-01T19:47:03.078969Z",
     "shell.execute_reply": "2022-07-01T19:47:03.078138Z"
    },
    "papermill": {
     "duration": 0.24973,
     "end_time": "2022-07-01T19:47:03.080966",
     "exception": false,
     "start_time": "2022-07-01T19:47:02.831236",
     "status": "completed"
    },
    "tags": []
   },
   "outputs": [],
   "source": [
    "# Defining the training function on the 80% of the dataset for tuning the bert model\n",
    "def train(epoch):\n",
    "    tr_loss, tr_accuracy = 0, 0\n",
    "    nb_tr_examples, nb_tr_steps = 0, 0\n",
    "    tr_preds, tr_labels = [], []\n",
    "    # put model in training mode\n",
    "    model.train()\n",
    "    \n",
    "    for idx, batch in enumerate(training_loader):\n",
    "        \n",
    "        ids = batch['input_ids'].to(device, dtype = torch.long)\n",
    "        mask = batch['attention_mask'].to(device, dtype = torch.long)\n",
    "        labels = batch['labels'].to(device, dtype = torch.long)\n",
    "\n",
    "        loss, tr_logits = model(input_ids=ids, attention_mask=mask, labels=labels,\n",
    "                               return_dict=False)\n",
    "        tr_loss += loss.item()\n",
    "\n",
    "        nb_tr_steps += 1\n",
    "        nb_tr_examples += labels.size(0)\n",
    "        \n",
    "        if idx % 100==0:\n",
    "            loss_step = tr_loss/nb_tr_steps\n",
    "            print(f\"Training loss per 100 training steps: {loss_step}\")\n",
    "           \n",
    "        # compute training accuracy\n",
    "        flattened_targets = labels.view(-1) # shape (batch_size * seq_len,)\n",
    "        active_logits = tr_logits.view(-1, model.num_labels) # shape (batch_size * seq_len, num_labels)\n",
    "        flattened_predictions = torch.argmax(active_logits, axis=1) # shape (batch_size * seq_len,)\n",
    "        \n",
    "        # only compute accuracy at active labels\n",
    "        active_accuracy = labels.view(-1) != -100 # shape (batch_size, seq_len)\n",
    "        #active_labels = torch.where(active_accuracy, labels.view(-1), torch.tensor(-100).type_as(labels))\n",
    "        \n",
    "        labels = torch.masked_select(flattened_targets, active_accuracy)\n",
    "        predictions = torch.masked_select(flattened_predictions, active_accuracy)\n",
    "        \n",
    "        tr_labels.extend(labels)\n",
    "        tr_preds.extend(predictions)\n",
    "        \n",
    "        tmp_tr_accuracy = accuracy_score(labels.cpu().numpy(), predictions.cpu().numpy())\n",
    "        tr_accuracy += tmp_tr_accuracy\n",
    "    \n",
    "        # gradient clipping\n",
    "        torch.nn.utils.clip_grad_norm_(\n",
    "            parameters=model.parameters(), max_norm=config['max_grad_norm']\n",
    "        )\n",
    "        \n",
    "        # backward pass\n",
    "        optimizer.zero_grad()\n",
    "        loss.backward()\n",
    "        optimizer.step()\n",
    "\n",
    "    epoch_loss = tr_loss / nb_tr_steps\n",
    "    tr_accuracy = tr_accuracy / nb_tr_steps\n",
    "    print(f\"Training loss epoch: {epoch_loss}\")\n",
    "    print(f\"Training accuracy epoch: {tr_accuracy}\")"
   ]
  },
  {
   "cell_type": "code",
   "execution_count": 31,
   "id": "7bce11ca",
   "metadata": {
    "execution": {
     "iopub.execute_input": "2022-07-01T19:47:03.588006Z",
     "iopub.status.busy": "2022-07-01T19:47:03.587642Z",
     "iopub.status.idle": "2022-07-01T20:23:05.015123Z",
     "shell.execute_reply": "2022-07-01T20:23:05.014068Z"
    },
    "papermill": {
     "duration": 2161.951461,
     "end_time": "2022-07-01T20:23:05.305786",
     "exception": false,
     "start_time": "2022-07-01T19:47:03.354325",
     "status": "completed"
    },
    "tags": []
   },
   "outputs": [
    {
     "name": "stdout",
     "output_type": "stream",
     "text": [
      "Training epoch: 1\n",
      "huggingface/tokenizers: The current process just got forked, after parallelism has already been used. Disabling parallelism to avoid deadlocks...\n",
      "To disable this warning, you can either:\n",
      "\t- Avoid using `tokenizers` before the fork if possible\n",
      "\t- Explicitly set the environment variable TOKENIZERS_PARALLELISM=(true | false)\n",
      "Training loss per 100 training steps: 2.9195218086242676\n",
      "Training loss per 100 training steps: 1.5621010755548383\n",
      "Training loss per 100 training steps: 1.2996055824839654\n",
      "Training loss per 100 training steps: 1.176252276992481\n",
      "Training loss per 100 training steps: 1.0977812966800984\n",
      "Training loss per 100 training steps: 1.0483855357665026\n",
      "Training loss per 100 training steps: 1.010343783359956\n",
      "Training loss per 100 training steps: 0.9781114772366049\n",
      "Training loss per 100 training steps: 0.9539019591576151\n",
      "Training loss per 100 training steps: 0.9352848240723224\n",
      "Training loss per 100 training steps: 0.9159651756822527\n",
      "Training loss per 100 training steps: 0.9014156214710153\n",
      "Training loss per 100 training steps: 0.8894574830524133\n",
      "Training loss per 100 training steps: 0.8765409601183692\n",
      "Training loss per 100 training steps: 0.8664204592070011\n",
      "Training loss per 100 training steps: 0.855045934147552\n",
      "Training loss epoch: 0.8502036287998542\n",
      "Training accuracy epoch: 0.7323985528324872\n",
      "Training epoch: 2\n",
      "huggingface/tokenizers: The current process just got forked, after parallelism has already been used. Disabling parallelism to avoid deadlocks...\n",
      "To disable this warning, you can either:\n",
      "\t- Avoid using `tokenizers` before the fork if possible\n",
      "\t- Explicitly set the environment variable TOKENIZERS_PARALLELISM=(true | false)\n",
      "Training loss per 100 training steps: 0.6132574081420898\n",
      "Training loss per 100 training steps: 0.6604236323054474\n",
      "Training loss per 100 training steps: 0.658352956101669\n",
      "Training loss per 100 training steps: 0.6572990449164001\n",
      "Training loss per 100 training steps: 0.6617860550297763\n",
      "Training loss per 100 training steps: 0.6688205988821155\n",
      "Training loss per 100 training steps: 0.6667031468250192\n",
      "Training loss per 100 training steps: 0.6698900260530763\n",
      "Training loss per 100 training steps: 0.6680226747909289\n",
      "Training loss per 100 training steps: 0.665369201645867\n",
      "Training loss per 100 training steps: 0.6646595725884566\n",
      "Training loss per 100 training steps: 0.6658775739568022\n",
      "Training loss per 100 training steps: 0.666166840420476\n",
      "Training loss per 100 training steps: 0.665646867258195\n",
      "Training loss per 100 training steps: 0.6634974445852528\n",
      "Training loss per 100 training steps: 0.6607933635317748\n",
      "Training loss epoch: 0.661117395089987\n",
      "Training accuracy epoch: 0.781182971480251\n",
      "Training epoch: 3\n",
      "huggingface/tokenizers: The current process just got forked, after parallelism has already been used. Disabling parallelism to avoid deadlocks...\n",
      "To disable this warning, you can either:\n",
      "\t- Avoid using `tokenizers` before the fork if possible\n",
      "\t- Explicitly set the environment variable TOKENIZERS_PARALLELISM=(true | false)\n",
      "Training loss per 100 training steps: 0.5830634832382202\n",
      "Training loss per 100 training steps: 0.6122076048119234\n",
      "Training loss per 100 training steps: 0.6058687520264393\n",
      "Training loss per 100 training steps: 0.603314417244192\n",
      "Training loss per 100 training steps: 0.6027683817834926\n",
      "Training loss per 100 training steps: 0.6002919017792699\n",
      "Training loss per 100 training steps: 0.5975273643773725\n",
      "Training loss per 100 training steps: 0.5958869320774894\n",
      "Training loss per 100 training steps: 0.5971414129460201\n",
      "Training loss per 100 training steps: 0.5944629119053797\n",
      "Training loss per 100 training steps: 0.5953573948972589\n",
      "Training loss per 100 training steps: 0.5956240992292722\n",
      "Training loss per 100 training steps: 0.5968466786718885\n",
      "Training loss per 100 training steps: 0.5955467158148235\n",
      "Training loss per 100 training steps: 0.5952526979536605\n",
      "Training loss per 100 training steps: 0.5939884390694391\n",
      "Training loss epoch: 0.5938796169673786\n",
      "Training accuracy epoch: 0.7994983329209273\n"
     ]
    }
   ],
   "source": [
    "for epoch in range(config['epochs']):\n",
    "    print(f\"Training epoch: {epoch + 1}\")\n",
    "    train(epoch)"
   ]
  },
  {
   "cell_type": "code",
   "execution_count": 32,
   "id": "b72f7869",
   "metadata": {
    "execution": {
     "iopub.execute_input": "2022-07-01T20:23:05.780262Z",
     "iopub.status.busy": "2022-07-01T20:23:05.779897Z",
     "iopub.status.idle": "2022-07-01T20:23:05.794682Z",
     "shell.execute_reply": "2022-07-01T20:23:05.793796Z"
    },
    "papermill": {
     "duration": 0.254397,
     "end_time": "2022-07-01T20:23:05.796749",
     "exception": false,
     "start_time": "2022-07-01T20:23:05.542352",
     "status": "completed"
    },
    "tags": []
   },
   "outputs": [],
   "source": [
    "def valid(model, testing_loader):\n",
    "    # put model in evaluation mode\n",
    "    model.eval()\n",
    "    \n",
    "    eval_loss, eval_accuracy = 0, 0\n",
    "    nb_eval_examples, nb_eval_steps = 0, 0\n",
    "    eval_preds, eval_labels = [], []\n",
    "    \n",
    "    with torch.no_grad():\n",
    "        for idx, batch in enumerate(testing_loader):\n",
    "            \n",
    "            ids = batch['input_ids'].to(device, dtype = torch.long)\n",
    "            mask = batch['attention_mask'].to(device, dtype = torch.long)\n",
    "            labels = batch['labels'].to(device, dtype = torch.long)\n",
    "            \n",
    "            loss, eval_logits = model(input_ids=ids, attention_mask=mask, labels=labels,\n",
    "                                     return_dict=False)\n",
    "            \n",
    "            eval_loss += loss.item()\n",
    "\n",
    "            nb_eval_steps += 1\n",
    "            nb_eval_examples += labels.size(0)\n",
    "            nb_eval_steps += 1\n",
    "            nb_eval_examples += labels.size(0)\n",
    "        \n",
    "            if idx % 100==0:\n",
    "                loss_step = eval_loss/nb_eval_steps\n",
    "                print(f\"Validation loss per 100 evaluation steps: {loss_step}\")\n",
    "              \n",
    "            # compute evaluation accuracy\n",
    "            flattened_targets = labels.view(-1) # shape (batch_size * seq_len,)\n",
    "            active_logits = eval_logits.view(-1, model.num_labels) # shape (batch_size * seq_len, num_labels)\n",
    "            flattened_predictions = torch.argmax(active_logits, axis=1) # shape (batch_size * seq_len,)\n",
    "            \n",
    "            # only compute accuracy at active labels\n",
    "            active_accuracy = labels.view(-1) != -100 # shape (batch_size, seq_len)\n",
    "        \n",
    "            labels = torch.masked_select(flattened_targets, active_accuracy)\n",
    "            predictions = torch.masked_select(flattened_predictions, active_accuracy)\n",
    "            \n",
    "            eval_labels.extend(labels)\n",
    "            eval_preds.extend(predictions)\n",
    "            \n",
    "            tmp_eval_accuracy = accuracy_score(labels.cpu().numpy(), predictions.cpu().numpy())\n",
    "            eval_accuracy += tmp_eval_accuracy\n",
    "\n",
    "    labels = [ids_to_labels[id.item()] for id in eval_labels]\n",
    "    predictions = [ids_to_labels[id.item()] for id in eval_preds]\n",
    "    \n",
    "    eval_loss = eval_loss / nb_eval_steps\n",
    "    eval_accuracy = eval_accuracy / nb_eval_steps\n",
    "    print(f\"Validation Loss: {eval_loss}\")\n",
    "    print(f\"Validation Accuracy: {eval_accuracy}\")\n",
    "\n",
    "    return labels, predictions"
   ]
  },
  {
   "cell_type": "code",
   "execution_count": 33,
   "id": "13ee67d2",
   "metadata": {
    "execution": {
     "iopub.execute_input": "2022-07-01T20:23:06.268470Z",
     "iopub.status.busy": "2022-07-01T20:23:06.268114Z",
     "iopub.status.idle": "2022-07-01T20:24:28.310036Z",
     "shell.execute_reply": "2022-07-01T20:24:28.308968Z"
    },
    "papermill": {
     "duration": 82.516209,
     "end_time": "2022-07-01T20:24:28.548596",
     "exception": false,
     "start_time": "2022-07-01T20:23:06.032387",
     "status": "completed"
    },
    "tags": []
   },
   "outputs": [
    {
     "name": "stdout",
     "output_type": "stream",
     "text": [
      "huggingface/tokenizers: The current process just got forked, after parallelism has already been used. Disabling parallelism to avoid deadlocks...\n",
      "To disable this warning, you can either:\n",
      "\t- Avoid using `tokenizers` before the fork if possible\n",
      "\t- Explicitly set the environment variable TOKENIZERS_PARALLELISM=(true | false)\n",
      "Validation loss per 100 evaluation steps: 0.41100481152534485\n",
      "Validation loss per 100 evaluation steps: 0.3210321409572469\n",
      "Validation Loss: 0.3246691919290102\n",
      "Validation Accuracy: 0.38996767512763825\n"
     ]
    }
   ],
   "source": [
    "labels, predictions = valid(model, testing_loader)"
   ]
  },
  {
   "cell_type": "code",
   "execution_count": 34,
   "id": "f36e1e6a",
   "metadata": {
    "execution": {
     "iopub.execute_input": "2022-07-01T20:24:29.017159Z",
     "iopub.status.busy": "2022-07-01T20:24:29.016815Z",
     "iopub.status.idle": "2022-07-01T20:24:29.040207Z",
     "shell.execute_reply": "2022-07-01T20:24:29.039084Z"
    },
    "papermill": {
     "duration": 0.260867,
     "end_time": "2022-07-01T20:24:29.042434",
     "exception": false,
     "start_time": "2022-07-01T20:24:28.781567",
     "status": "completed"
    },
    "tags": []
   },
   "outputs": [],
   "source": [
    "sentence = \"@HuggingFace is a company based in New York, but is also has employees working in Paris\"\n",
    "model.eval()\n",
    "def inference(sentence):\n",
    "    inputs = tokenizer(sentence,\n",
    "#                         is_split_into_words=True, \n",
    "                        return_offsets_mapping=True, \n",
    "                        padding='max_length', \n",
    "                        truncation=True, \n",
    "                        max_length=config['max_length'],\n",
    "                        return_tensors=\"pt\")\n",
    "\n",
    "    # move to gpu\n",
    "    ids = inputs[\"input_ids\"].to(device)\n",
    "    mask = inputs[\"attention_mask\"].to(device)\n",
    "    # forward pass\n",
    "    outputs = model(ids, attention_mask=mask, return_dict=False)\n",
    "    logits = outputs[0]\n",
    "    \n",
    "    active_logits = logits.view(-1, model.num_labels) # shape (batch_size * seq_len, num_labels)\n",
    "    flattened_predictions = torch.argmax(active_logits, axis=1) # shape (batch_size*seq_len,) - predictions at the token level\n",
    "\n",
    "    tokens = tokenizer.convert_ids_to_tokens(ids.squeeze().tolist())\n",
    "    token_predictions = [ids_to_labels[i] for i in flattened_predictions.cpu().numpy()]\n",
    "    wp_preds = list(zip(tokens, token_predictions)) # list of tuples. Each tuple = (wordpiece, prediction)\n",
    "\n",
    "    prediction = []\n",
    "    out_str = []\n",
    "    off_list = inputs[\"offset_mapping\"].squeeze().tolist()\n",
    "    for idx, mapping in enumerate(off_list):\n",
    "#         print(mapping, token_pred[1], token_pred[0],\"####\")\n",
    "\n",
    "#         only predictions on first word pieces are important\n",
    "        if mapping[0] != 0 and mapping[0] != off_list[idx-1][1]:\n",
    "#             print(mapping, token_pred[1], token_pred[0])\n",
    "            prediction.append(wp_preds[idx][1])\n",
    "            out_str.append(wp_preds[idx][0])\n",
    "        else:\n",
    "            if idx == 1:\n",
    "                prediction.append(wp_preds[idx][1])\n",
    "                out_str.append(wp_preds[idx][0])\n",
    "            continue\n",
    "    return prediction, out_str"
   ]
  },
  {
   "cell_type": "code",
   "execution_count": 35,
   "id": "87c1dc2d",
   "metadata": {
    "execution": {
     "iopub.execute_input": "2022-07-01T20:24:29.511767Z",
     "iopub.status.busy": "2022-07-01T20:24:29.510870Z",
     "iopub.status.idle": "2022-07-01T20:24:29.567583Z",
     "shell.execute_reply": "2022-07-01T20:24:29.566701Z"
    },
    "papermill": {
     "duration": 0.293052,
     "end_time": "2022-07-01T20:24:29.569681",
     "exception": false,
     "start_time": "2022-07-01T20:24:29.276629",
     "status": "completed"
    },
    "tags": []
   },
   "outputs": [
    {
     "name": "stderr",
     "output_type": "stream",
     "text": [
      "100%|██████████| 5/5 [00:00<00:00, 223.41it/s]\n"
     ]
    },
    {
     "data": {
      "text/html": [
       "<div>\n",
       "<style scoped>\n",
       "    .dataframe tbody tr th:only-of-type {\n",
       "        vertical-align: middle;\n",
       "    }\n",
       "\n",
       "    .dataframe tbody tr th {\n",
       "        vertical-align: top;\n",
       "    }\n",
       "\n",
       "    .dataframe thead th {\n",
       "        text-align: right;\n",
       "    }\n",
       "</style>\n",
       "<table border=\"1\" class=\"dataframe\">\n",
       "  <thead>\n",
       "    <tr style=\"text-align: right;\">\n",
       "      <th></th>\n",
       "      <th>id</th>\n",
       "      <th>text</th>\n",
       "    </tr>\n",
       "  </thead>\n",
       "  <tbody>\n",
       "    <tr>\n",
       "      <th>0</th>\n",
       "      <td>0FB0700DAF44</td>\n",
       "      <td>During a group project, have you ever asked a ...</td>\n",
       "    </tr>\n",
       "    <tr>\n",
       "      <th>1</th>\n",
       "      <td>D72CB1C11673</td>\n",
       "      <td>Making choices in life can be very difficult. ...</td>\n",
       "    </tr>\n",
       "    <tr>\n",
       "      <th>2</th>\n",
       "      <td>18409261F5C2</td>\n",
       "      <td>80% of Americans believe seeking multiple opin...</td>\n",
       "    </tr>\n",
       "    <tr>\n",
       "      <th>3</th>\n",
       "      <td>DF920E0A7337</td>\n",
       "      <td>Have you ever asked more than one person for h...</td>\n",
       "    </tr>\n",
       "    <tr>\n",
       "      <th>4</th>\n",
       "      <td>D46BCB48440A</td>\n",
       "      <td>When people ask for advice,they sometimes talk...</td>\n",
       "    </tr>\n",
       "  </tbody>\n",
       "</table>\n",
       "</div>"
      ],
      "text/plain": [
       "             id                                               text\n",
       "0  0FB0700DAF44  During a group project, have you ever asked a ...\n",
       "1  D72CB1C11673  Making choices in life can be very difficult. ...\n",
       "2  18409261F5C2  80% of Americans believe seeking multiple opin...\n",
       "3  DF920E0A7337  Have you ever asked more than one person for h...\n",
       "4  D46BCB48440A  When people ask for advice,they sometimes talk..."
      ]
     },
     "execution_count": 35,
     "metadata": {},
     "output_type": "execute_result"
    }
   ],
   "source": [
    "test_names, test_texts = [], []\n",
    "for f in tqdm(list(os.listdir('../input/feedback-prize-2021/test'))):\n",
    "    test_names.append(f.replace('.txt', ''))\n",
    "    test_texts.append(open('../input/feedback-prize-2021/test/' + f, 'r').read())\n",
    "test_texts = pd.DataFrame({'id': test_names, 'text': test_texts})\n",
    "# test_texts['text'] = test_texts['text'].apply(lambda x:x.split())\n",
    "test_texts.head()"
   ]
  },
  {
   "cell_type": "code",
   "execution_count": 36,
   "id": "5446617b",
   "metadata": {
    "execution": {
     "iopub.execute_input": "2022-07-01T20:24:30.086618Z",
     "iopub.status.busy": "2022-07-01T20:24:30.085586Z",
     "iopub.status.idle": "2022-07-01T20:24:30.230596Z",
     "shell.execute_reply": "2022-07-01T20:24:30.229703Z"
    },
    "papermill": {
     "duration": 0.383622,
     "end_time": "2022-07-01T20:24:30.232783",
     "exception": false,
     "start_time": "2022-07-01T20:24:29.849161",
     "status": "completed"
    },
    "tags": []
   },
   "outputs": [],
   "source": [
    "# test_texts = train_text_df['text'].tolist()[:10]\n",
    "y_pred = []\n",
    "\n",
    "for i, t in enumerate(test_texts['text'].tolist()):\n",
    "    o,o_t = inference(t)\n",
    "    y_pred.append(o)\n",
    "    l = train_text_df['entities'][i]"
   ]
  },
  {
   "cell_type": "code",
   "execution_count": 37,
   "id": "c5f63b84",
   "metadata": {
    "execution": {
     "iopub.execute_input": "2022-07-01T20:24:30.704774Z",
     "iopub.status.busy": "2022-07-01T20:24:30.704418Z",
     "iopub.status.idle": "2022-07-01T20:24:30.720036Z",
     "shell.execute_reply": "2022-07-01T20:24:30.719066Z"
    },
    "papermill": {
     "duration": 0.251204,
     "end_time": "2022-07-01T20:24:30.722042",
     "exception": false,
     "start_time": "2022-07-01T20:24:30.470838",
     "status": "completed"
    },
    "tags": []
   },
   "outputs": [
    {
     "name": "stderr",
     "output_type": "stream",
     "text": [
      "100%|██████████| 5/5 [00:00<00:00, 1620.55it/s]"
     ]
    },
    {
     "name": "stdout",
     "output_type": "stream",
     "text": [
      "('0FB0700DAF44', 'Claim', '48 49 50 51 52 53 54 55 56 57 58 59 60 61 62 63 64 65 66 67 68 69 70 71 72 73 74 75 76 77 78 79 80 81 82 83 84 85 86 87 88 89 90 91 92 93 94 95 96 97 98 99 100 101 102 103 104 105 106 107')\n"
     ]
    },
    {
     "name": "stderr",
     "output_type": "stream",
     "text": [
      "\n"
     ]
    }
   ],
   "source": [
    "final_preds = []\n",
    "for i in tqdm(range(len(test_texts))):\n",
    "#     pdb.set_trace()\n",
    "    idx = test_texts.id.values[i]\n",
    "#     pred = ['']*len(test_texts[i])\n",
    "\n",
    "#     for j in range(len(y_pred[i])):\n",
    "#         if words[i][j] != None:\n",
    "#             pred[words[i][j]] = labels[y_pred[i][j]]\n",
    "\n",
    "    pred = [x.replace('B-','').replace('I-','') for x in y_pred[i]]\n",
    "#     print(pred)\n",
    "    preds = []\n",
    "    j = 0\n",
    "    while j < len(pred):\n",
    "        cls = pred[j]\n",
    "#         pdb.set_trace()\n",
    "        if cls == 'O':\n",
    "            j += 1\n",
    "        end = j + 1\n",
    "        while end < len(pred) and pred[end] == cls:\n",
    "            end += 1\n",
    "            \n",
    "        if cls != 'O' and cls != '' and end - j > 10:\n",
    "            final_preds.append((idx, cls, ' '.join(map(str, list(range(j, end))))))\n",
    "        \n",
    "        j = end\n",
    "        \n",
    "print(final_preds[1])"
   ]
  },
  {
   "cell_type": "code",
   "execution_count": 38,
   "id": "ffd71952",
   "metadata": {
    "execution": {
     "iopub.execute_input": "2022-07-01T20:24:31.188517Z",
     "iopub.status.busy": "2022-07-01T20:24:31.188139Z",
     "iopub.status.idle": "2022-07-01T20:24:31.204396Z",
     "shell.execute_reply": "2022-07-01T20:24:31.203386Z"
    },
    "papermill": {
     "duration": 0.252765,
     "end_time": "2022-07-01T20:24:31.206355",
     "exception": false,
     "start_time": "2022-07-01T20:24:30.953590",
     "status": "completed"
    },
    "tags": []
   },
   "outputs": [
    {
     "name": "stdout",
     "output_type": "stream",
     "text": [
      "29\n"
     ]
    },
    {
     "data": {
      "text/html": [
       "<div>\n",
       "<style scoped>\n",
       "    .dataframe tbody tr th:only-of-type {\n",
       "        vertical-align: middle;\n",
       "    }\n",
       "\n",
       "    .dataframe tbody tr th {\n",
       "        vertical-align: top;\n",
       "    }\n",
       "\n",
       "    .dataframe thead th {\n",
       "        text-align: right;\n",
       "    }\n",
       "</style>\n",
       "<table border=\"1\" class=\"dataframe\">\n",
       "  <thead>\n",
       "    <tr style=\"text-align: right;\">\n",
       "      <th></th>\n",
       "      <th>id</th>\n",
       "      <th>class</th>\n",
       "      <th>predictionstring</th>\n",
       "    </tr>\n",
       "  </thead>\n",
       "  <tbody>\n",
       "    <tr>\n",
       "      <th>0</th>\n",
       "      <td>18409261F5C2</td>\n",
       "      <td>NaN</td>\n",
       "      <td>NaN</td>\n",
       "    </tr>\n",
       "    <tr>\n",
       "      <th>1</th>\n",
       "      <td>D46BCB48440A</td>\n",
       "      <td>NaN</td>\n",
       "      <td>NaN</td>\n",
       "    </tr>\n",
       "    <tr>\n",
       "      <th>2</th>\n",
       "      <td>0FB0700DAF44</td>\n",
       "      <td>NaN</td>\n",
       "      <td>NaN</td>\n",
       "    </tr>\n",
       "    <tr>\n",
       "      <th>3</th>\n",
       "      <td>D72CB1C11673</td>\n",
       "      <td>NaN</td>\n",
       "      <td>NaN</td>\n",
       "    </tr>\n",
       "    <tr>\n",
       "      <th>4</th>\n",
       "      <td>DF920E0A7337</td>\n",
       "      <td>NaN</td>\n",
       "      <td>NaN</td>\n",
       "    </tr>\n",
       "  </tbody>\n",
       "</table>\n",
       "</div>"
      ],
      "text/plain": [
       "             id  class  predictionstring\n",
       "0  18409261F5C2    NaN               NaN\n",
       "1  D46BCB48440A    NaN               NaN\n",
       "2  0FB0700DAF44    NaN               NaN\n",
       "3  D72CB1C11673    NaN               NaN\n",
       "4  DF920E0A7337    NaN               NaN"
      ]
     },
     "execution_count": 38,
     "metadata": {},
     "output_type": "execute_result"
    }
   ],
   "source": [
    "print(len(final_preds))\n",
    "test_df = pd.read_csv('../input/feedback-prize-2021/sample_submission.csv')\n",
    "test_df"
   ]
  },
  {
   "cell_type": "code",
   "execution_count": 39,
   "id": "a3eeb4ad",
   "metadata": {
    "execution": {
     "iopub.execute_input": "2022-07-01T20:24:31.719691Z",
     "iopub.status.busy": "2022-07-01T20:24:31.718772Z",
     "iopub.status.idle": "2022-07-01T20:24:31.724603Z",
     "shell.execute_reply": "2022-07-01T20:24:31.723728Z"
    },
    "papermill": {
     "duration": 0.286027,
     "end_time": "2022-07-01T20:24:31.726530",
     "exception": false,
     "start_time": "2022-07-01T20:24:31.440503",
     "status": "completed"
    },
    "tags": []
   },
   "outputs": [],
   "source": [
    "sub = pd.DataFrame(final_preds)\n",
    "sub.columns = test_df.columns"
   ]
  },
  {
   "cell_type": "code",
   "execution_count": 40,
   "id": "ed64c110",
   "metadata": {
    "execution": {
     "iopub.execute_input": "2022-07-01T20:24:32.200323Z",
     "iopub.status.busy": "2022-07-01T20:24:32.199972Z",
     "iopub.status.idle": "2022-07-01T20:24:32.210078Z",
     "shell.execute_reply": "2022-07-01T20:24:32.209161Z"
    },
    "papermill": {
     "duration": 0.248017,
     "end_time": "2022-07-01T20:24:32.212091",
     "exception": false,
     "start_time": "2022-07-01T20:24:31.964074",
     "status": "completed"
    },
    "tags": []
   },
   "outputs": [
    {
     "data": {
      "text/html": [
       "<div>\n",
       "<style scoped>\n",
       "    .dataframe tbody tr th:only-of-type {\n",
       "        vertical-align: middle;\n",
       "    }\n",
       "\n",
       "    .dataframe tbody tr th {\n",
       "        vertical-align: top;\n",
       "    }\n",
       "\n",
       "    .dataframe thead th {\n",
       "        text-align: right;\n",
       "    }\n",
       "</style>\n",
       "<table border=\"1\" class=\"dataframe\">\n",
       "  <thead>\n",
       "    <tr style=\"text-align: right;\">\n",
       "      <th></th>\n",
       "      <th>id</th>\n",
       "      <th>class</th>\n",
       "      <th>predictionstring</th>\n",
       "    </tr>\n",
       "  </thead>\n",
       "  <tbody>\n",
       "    <tr>\n",
       "      <th>0</th>\n",
       "      <td>0FB0700DAF44</td>\n",
       "      <td>Lead</td>\n",
       "      <td>0 1 2 3 4 5 6 7 8 9 10 11 12 13 14 15 16 17 18...</td>\n",
       "    </tr>\n",
       "    <tr>\n",
       "      <th>1</th>\n",
       "      <td>0FB0700DAF44</td>\n",
       "      <td>Claim</td>\n",
       "      <td>48 49 50 51 52 53 54 55 56 57 58 59 60 61 62 6...</td>\n",
       "    </tr>\n",
       "    <tr>\n",
       "      <th>2</th>\n",
       "      <td>0FB0700DAF44</td>\n",
       "      <td>Claim</td>\n",
       "      <td>120 121 122 123 124 125 126 127 128 129 130 13...</td>\n",
       "    </tr>\n",
       "    <tr>\n",
       "      <th>3</th>\n",
       "      <td>0FB0700DAF44</td>\n",
       "      <td>Evidence</td>\n",
       "      <td>146 147 148 149 150 151 152 153 154 155 156 15...</td>\n",
       "    </tr>\n",
       "    <tr>\n",
       "      <th>4</th>\n",
       "      <td>0FB0700DAF44</td>\n",
       "      <td>Claim</td>\n",
       "      <td>315 316 317 318 319 320 321 322 323 324 325 32...</td>\n",
       "    </tr>\n",
       "  </tbody>\n",
       "</table>\n",
       "</div>"
      ],
      "text/plain": [
       "             id     class                                   predictionstring\n",
       "0  0FB0700DAF44      Lead  0 1 2 3 4 5 6 7 8 9 10 11 12 13 14 15 16 17 18...\n",
       "1  0FB0700DAF44     Claim  48 49 50 51 52 53 54 55 56 57 58 59 60 61 62 6...\n",
       "2  0FB0700DAF44     Claim  120 121 122 123 124 125 126 127 128 129 130 13...\n",
       "3  0FB0700DAF44  Evidence  146 147 148 149 150 151 152 153 154 155 156 15...\n",
       "4  0FB0700DAF44     Claim  315 316 317 318 319 320 321 322 323 324 325 32..."
      ]
     },
     "execution_count": 40,
     "metadata": {},
     "output_type": "execute_result"
    }
   ],
   "source": [
    "sub.head()"
   ]
  },
  {
   "cell_type": "code",
   "execution_count": 41,
   "id": "c8aa1f50",
   "metadata": {
    "execution": {
     "iopub.execute_input": "2022-07-01T20:24:32.679456Z",
     "iopub.status.busy": "2022-07-01T20:24:32.679121Z",
     "iopub.status.idle": "2022-07-01T20:24:32.687453Z",
     "shell.execute_reply": "2022-07-01T20:24:32.686595Z"
    },
    "papermill": {
     "duration": 0.245349,
     "end_time": "2022-07-01T20:24:32.689407",
     "exception": false,
     "start_time": "2022-07-01T20:24:32.444058",
     "status": "completed"
    },
    "tags": []
   },
   "outputs": [],
   "source": [
    "sub.to_csv(\"submission.csv\", index=False)"
   ]
  },
  {
   "cell_type": "code",
   "execution_count": null,
   "id": "a28b64f9",
   "metadata": {
    "papermill": {
     "duration": 0.23347,
     "end_time": "2022-07-01T20:24:33.157572",
     "exception": false,
     "start_time": "2022-07-01T20:24:32.924102",
     "status": "completed"
    },
    "tags": []
   },
   "outputs": [],
   "source": []
  },
  {
   "cell_type": "code",
   "execution_count": null,
   "id": "d0b8f870",
   "metadata": {
    "papermill": {
     "duration": 0.238024,
     "end_time": "2022-07-01T20:24:33.628529",
     "exception": false,
     "start_time": "2022-07-01T20:24:33.390505",
     "status": "completed"
    },
    "tags": []
   },
   "outputs": [],
   "source": []
  },
  {
   "cell_type": "code",
   "execution_count": null,
   "id": "e59ca291",
   "metadata": {
    "papermill": {
     "duration": 0.235586,
     "end_time": "2022-07-01T20:24:34.145793",
     "exception": false,
     "start_time": "2022-07-01T20:24:33.910207",
     "status": "completed"
    },
    "tags": []
   },
   "outputs": [],
   "source": []
  }
 ],
 "metadata": {
  "kernelspec": {
   "display_name": "Python 3",
   "language": "python",
   "name": "python3"
  },
  "language_info": {
   "codemirror_mode": {
    "name": "ipython",
    "version": 3
   },
   "file_extension": ".py",
   "mimetype": "text/x-python",
   "name": "python",
   "nbconvert_exporter": "python",
   "pygments_lexer": "ipython3",
   "version": "3.7.12"
  },
  "papermill": {
   "default_parameters": {},
   "duration": 2743.599831,
   "end_time": "2022-07-01T20:24:38.054429",
   "environment_variables": {},
   "exception": null,
   "input_path": "__notebook__.ipynb",
   "output_path": "__notebook__.ipynb",
   "parameters": {},
   "start_time": "2022-07-01T19:38:54.454598",
   "version": "2.3.4"
  }
 },
 "nbformat": 4,
 "nbformat_minor": 5
}
