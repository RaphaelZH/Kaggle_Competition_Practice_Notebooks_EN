{
 "cells": [
  {
   "cell_type": "markdown",
   "id": "5bf7d2f6",
   "metadata": {
    "papermill": {
     "duration": 0.037876,
     "end_time": "2022-03-15T21:03:17.685599",
     "exception": false,
     "start_time": "2022-03-15T21:03:17.647723",
     "status": "completed"
    },
    "tags": []
   },
   "source": []
  },
  {
   "cell_type": "markdown",
   "id": "cab703cd",
   "metadata": {
    "papermill": {
     "duration": 0.037422,
     "end_time": "2022-03-15T21:03:17.761305",
     "exception": false,
     "start_time": "2022-03-15T21:03:17.723883",
     "status": "completed"
    },
    "tags": []
   },
   "source": [
    "# Libraries Import\n",
    "\n",
    "## Regular Libraries"
   ]
  },
  {
   "cell_type": "code",
   "execution_count": null,
   "id": "09af4624",
   "metadata": {
    "papermill": {
     "duration": 0.036683,
     "end_time": "2022-03-15T21:03:17.833882",
     "exception": false,
     "start_time": "2022-03-15T21:03:17.797199",
     "status": "completed"
    },
    "tags": []
   },
   "outputs": [],
   "source": []
  },
  {
   "cell_type": "code",
   "execution_count": 1,
   "id": "acb64b72",
   "metadata": {
    "execution": {
     "iopub.execute_input": "2022-03-15T21:03:17.924077Z",
     "iopub.status.busy": "2022-03-15T21:03:17.922262Z",
     "iopub.status.idle": "2022-03-15T21:03:17.927654Z",
     "shell.execute_reply": "2022-03-15T21:03:17.927145Z",
     "shell.execute_reply.started": "2022-03-15T21:02:47.003024Z"
    },
    "papermill": {
     "duration": 0.055455,
     "end_time": "2022-03-15T21:03:17.927790",
     "exception": false,
     "start_time": "2022-03-15T21:03:17.872335",
     "status": "completed"
    },
    "tags": []
   },
   "outputs": [],
   "source": [
    "import numpy as np\n",
    "import pandas as pd\n",
    "import os"
   ]
  },
  {
   "cell_type": "markdown",
   "id": "b9959c36",
   "metadata": {
    "papermill": {
     "duration": 0.035301,
     "end_time": "2022-03-15T21:03:17.998611",
     "exception": false,
     "start_time": "2022-03-15T21:03:17.963310",
     "status": "completed"
    },
    "tags": []
   },
   "source": [
    "## Auxiliary Library"
   ]
  },
  {
   "cell_type": "code",
   "execution_count": 2,
   "id": "531a0e5f",
   "metadata": {
    "execution": {
     "iopub.execute_input": "2022-03-15T21:03:18.072556Z",
     "iopub.status.busy": "2022-03-15T21:03:18.071722Z",
     "iopub.status.idle": "2022-03-15T21:03:18.075544Z",
     "shell.execute_reply": "2022-03-15T21:03:18.075946Z",
     "shell.execute_reply.started": "2022-03-15T21:02:47.009194Z"
    },
    "papermill": {
     "duration": 0.042009,
     "end_time": "2022-03-15T21:03:18.076083",
     "exception": false,
     "start_time": "2022-03-15T21:03:18.034074",
     "status": "completed"
    },
    "tags": []
   },
   "outputs": [],
   "source": [
    "from glob import glob\n",
    "\n",
    "from tqdm import tqdm\n",
    "\n",
    "import random"
   ]
  },
  {
   "cell_type": "markdown",
   "id": "05d4737e",
   "metadata": {
    "papermill": {
     "duration": 0.042196,
     "end_time": "2022-03-15T21:03:18.153511",
     "exception": false,
     "start_time": "2022-03-15T21:03:18.111315",
     "status": "completed"
    },
    "tags": []
   },
   "source": [
    "## Data Visualization Library"
   ]
  },
  {
   "cell_type": "code",
   "execution_count": 3,
   "id": "b9810089",
   "metadata": {
    "execution": {
     "iopub.execute_input": "2022-03-15T21:03:18.259564Z",
     "iopub.status.busy": "2022-03-15T21:03:18.257932Z",
     "iopub.status.idle": "2022-03-15T21:03:18.260129Z",
     "shell.execute_reply": "2022-03-15T21:03:18.260545Z",
     "shell.execute_reply.started": "2022-03-15T21:02:47.019237Z"
    },
    "papermill": {
     "duration": 0.050395,
     "end_time": "2022-03-15T21:03:18.260679",
     "exception": false,
     "start_time": "2022-03-15T21:03:18.210284",
     "status": "completed"
    },
    "tags": []
   },
   "outputs": [],
   "source": [
    "import matplotlib.pyplot as plt"
   ]
  },
  {
   "cell_type": "code",
   "execution_count": 4,
   "id": "d7f83648",
   "metadata": {
    "execution": {
     "iopub.execute_input": "2022-03-15T21:03:18.335028Z",
     "iopub.status.busy": "2022-03-15T21:03:18.334343Z",
     "iopub.status.idle": "2022-03-15T21:03:21.113375Z",
     "shell.execute_reply": "2022-03-15T21:03:21.112801Z",
     "shell.execute_reply.started": "2022-03-15T21:02:47.029019Z"
    },
    "papermill": {
     "duration": 2.81774,
     "end_time": "2022-03-15T21:03:21.113574",
     "exception": false,
     "start_time": "2022-03-15T21:03:18.295834",
     "status": "completed"
    },
    "tags": []
   },
   "outputs": [],
   "source": [
    "from transformers import RobertaTokenizerFast, RobertaForTokenClassification\n",
    "from torch.utils.data import Dataset, DataLoader\n",
    "import pdb\n",
    "import torch\n",
    "from torch import cuda\n",
    "from sklearn.metrics import accuracy_score\n",
    "\n",
    "MODEL_NAME = \"../input/roberta-base\""
   ]
  },
  {
   "cell_type": "markdown",
   "id": "25831938",
   "metadata": {
    "papermill": {
     "duration": 0.039471,
     "end_time": "2022-03-15T21:03:21.194648",
     "exception": false,
     "start_time": "2022-03-15T21:03:21.155177",
     "status": "completed"
    },
    "tags": []
   },
   "source": [
    "---"
   ]
  },
  {
   "cell_type": "markdown",
   "id": "3fecc6bd",
   "metadata": {
    "papermill": {
     "duration": 0.040453,
     "end_time": "2022-03-15T21:03:21.274523",
     "exception": false,
     "start_time": "2022-03-15T21:03:21.234070",
     "status": "completed"
    },
    "tags": []
   },
   "source": [
    "# Data Extraction\n",
    "\n",
    "## Main Data"
   ]
  },
  {
   "cell_type": "code",
   "execution_count": 5,
   "id": "6ee91dd1",
   "metadata": {
    "execution": {
     "iopub.execute_input": "2022-03-15T21:03:21.353506Z",
     "iopub.status.busy": "2022-03-15T21:03:21.352626Z",
     "iopub.status.idle": "2022-03-15T21:03:22.754210Z",
     "shell.execute_reply": "2022-03-15T21:03:22.753233Z",
     "shell.execute_reply.started": "2022-03-15T21:02:47.038997Z"
    },
    "papermill": {
     "duration": 1.441926,
     "end_time": "2022-03-15T21:03:22.754355",
     "exception": false,
     "start_time": "2022-03-15T21:03:21.312429",
     "status": "completed"
    },
    "tags": []
   },
   "outputs": [],
   "source": [
    "train = pd.read_csv('../input/feedback-prize-2021/train.csv')\n",
    "sample_submission = pd.read_csv('../input/feedback-prize-2021/sample_submission.csv')"
   ]
  },
  {
   "cell_type": "code",
   "execution_count": 6,
   "id": "47791140",
   "metadata": {
    "execution": {
     "iopub.execute_input": "2022-03-15T21:03:22.833557Z",
     "iopub.status.busy": "2022-03-15T21:03:22.832999Z",
     "iopub.status.idle": "2022-03-15T21:03:22.852381Z",
     "shell.execute_reply": "2022-03-15T21:03:22.851979Z",
     "shell.execute_reply.started": "2022-03-15T21:02:47.856951Z"
    },
    "papermill": {
     "duration": 0.061992,
     "end_time": "2022-03-15T21:03:22.852530",
     "exception": false,
     "start_time": "2022-03-15T21:03:22.790538",
     "status": "completed"
    },
    "tags": []
   },
   "outputs": [
    {
     "name": "stdout",
     "output_type": "stream",
     "text": [
      "(144293, 8)\n"
     ]
    },
    {
     "data": {
      "text/html": [
       "<div>\n",
       "<style scoped>\n",
       "    .dataframe tbody tr th:only-of-type {\n",
       "        vertical-align: middle;\n",
       "    }\n",
       "\n",
       "    .dataframe tbody tr th {\n",
       "        vertical-align: top;\n",
       "    }\n",
       "\n",
       "    .dataframe thead th {\n",
       "        text-align: right;\n",
       "    }\n",
       "</style>\n",
       "<table border=\"1\" class=\"dataframe\">\n",
       "  <thead>\n",
       "    <tr style=\"text-align: right;\">\n",
       "      <th></th>\n",
       "      <th>id</th>\n",
       "      <th>discourse_id</th>\n",
       "      <th>discourse_start</th>\n",
       "      <th>discourse_end</th>\n",
       "      <th>discourse_text</th>\n",
       "      <th>discourse_type</th>\n",
       "      <th>discourse_type_num</th>\n",
       "      <th>predictionstring</th>\n",
       "    </tr>\n",
       "  </thead>\n",
       "  <tbody>\n",
       "    <tr>\n",
       "      <th>0</th>\n",
       "      <td>423A1CA112E2</td>\n",
       "      <td>1.622628e+12</td>\n",
       "      <td>8.0</td>\n",
       "      <td>229.0</td>\n",
       "      <td>Modern humans today are always on their phone....</td>\n",
       "      <td>Lead</td>\n",
       "      <td>Lead 1</td>\n",
       "      <td>1 2 3 4 5 6 7 8 9 10 11 12 13 14 15 16 17 18 1...</td>\n",
       "    </tr>\n",
       "    <tr>\n",
       "      <th>1</th>\n",
       "      <td>423A1CA112E2</td>\n",
       "      <td>1.622628e+12</td>\n",
       "      <td>230.0</td>\n",
       "      <td>312.0</td>\n",
       "      <td>They are some really bad consequences when stu...</td>\n",
       "      <td>Position</td>\n",
       "      <td>Position 1</td>\n",
       "      <td>45 46 47 48 49 50 51 52 53 54 55 56 57 58 59</td>\n",
       "    </tr>\n",
       "    <tr>\n",
       "      <th>2</th>\n",
       "      <td>423A1CA112E2</td>\n",
       "      <td>1.622628e+12</td>\n",
       "      <td>313.0</td>\n",
       "      <td>401.0</td>\n",
       "      <td>Some certain areas in the United States ban ph...</td>\n",
       "      <td>Evidence</td>\n",
       "      <td>Evidence 1</td>\n",
       "      <td>60 61 62 63 64 65 66 67 68 69 70 71 72 73 74 75</td>\n",
       "    </tr>\n",
       "    <tr>\n",
       "      <th>3</th>\n",
       "      <td>423A1CA112E2</td>\n",
       "      <td>1.622628e+12</td>\n",
       "      <td>402.0</td>\n",
       "      <td>758.0</td>\n",
       "      <td>When people have phones, they know about certa...</td>\n",
       "      <td>Evidence</td>\n",
       "      <td>Evidence 2</td>\n",
       "      <td>76 77 78 79 80 81 82 83 84 85 86 87 88 89 90 9...</td>\n",
       "    </tr>\n",
       "    <tr>\n",
       "      <th>4</th>\n",
       "      <td>423A1CA112E2</td>\n",
       "      <td>1.622628e+12</td>\n",
       "      <td>759.0</td>\n",
       "      <td>886.0</td>\n",
       "      <td>Driving is one of the way how to get around. P...</td>\n",
       "      <td>Claim</td>\n",
       "      <td>Claim 1</td>\n",
       "      <td>139 140 141 142 143 144 145 146 147 148 149 15...</td>\n",
       "    </tr>\n",
       "  </tbody>\n",
       "</table>\n",
       "</div>"
      ],
      "text/plain": [
       "             id  discourse_id  discourse_start  discourse_end  \\\n",
       "0  423A1CA112E2  1.622628e+12              8.0          229.0   \n",
       "1  423A1CA112E2  1.622628e+12            230.0          312.0   \n",
       "2  423A1CA112E2  1.622628e+12            313.0          401.0   \n",
       "3  423A1CA112E2  1.622628e+12            402.0          758.0   \n",
       "4  423A1CA112E2  1.622628e+12            759.0          886.0   \n",
       "\n",
       "                                      discourse_text discourse_type  \\\n",
       "0  Modern humans today are always on their phone....           Lead   \n",
       "1  They are some really bad consequences when stu...       Position   \n",
       "2  Some certain areas in the United States ban ph...       Evidence   \n",
       "3  When people have phones, they know about certa...       Evidence   \n",
       "4  Driving is one of the way how to get around. P...          Claim   \n",
       "\n",
       "  discourse_type_num                                   predictionstring  \n",
       "0             Lead 1  1 2 3 4 5 6 7 8 9 10 11 12 13 14 15 16 17 18 1...  \n",
       "1         Position 1       45 46 47 48 49 50 51 52 53 54 55 56 57 58 59  \n",
       "2         Evidence 1    60 61 62 63 64 65 66 67 68 69 70 71 72 73 74 75  \n",
       "3         Evidence 2  76 77 78 79 80 81 82 83 84 85 86 87 88 89 90 9...  \n",
       "4            Claim 1  139 140 141 142 143 144 145 146 147 148 149 15...  "
      ]
     },
     "execution_count": 6,
     "metadata": {},
     "output_type": "execute_result"
    }
   ],
   "source": [
    "print(train.shape)\n",
    "train.head()"
   ]
  },
  {
   "cell_type": "code",
   "execution_count": null,
   "id": "37c7c624",
   "metadata": {
    "papermill": {
     "duration": 0.036142,
     "end_time": "2022-03-15T21:03:22.925149",
     "exception": false,
     "start_time": "2022-03-15T21:03:22.889007",
     "status": "completed"
    },
    "tags": []
   },
   "outputs": [],
   "source": []
  },
  {
   "cell_type": "code",
   "execution_count": 7,
   "id": "e0af55ea",
   "metadata": {
    "execution": {
     "iopub.execute_input": "2022-03-15T21:03:23.003084Z",
     "iopub.status.busy": "2022-03-15T21:03:23.002174Z",
     "iopub.status.idle": "2022-03-15T21:03:23.005291Z",
     "shell.execute_reply": "2022-03-15T21:03:23.005762Z",
     "shell.execute_reply.started": "2022-03-15T21:02:47.878464Z"
    },
    "papermill": {
     "duration": 0.044401,
     "end_time": "2022-03-15T21:03:23.005900",
     "exception": false,
     "start_time": "2022-03-15T21:03:22.961499",
     "status": "completed"
    },
    "tags": []
   },
   "outputs": [
    {
     "name": "stdout",
     "output_type": "stream",
     "text": [
      "Training data consists of 144293 annotaions\n"
     ]
    }
   ],
   "source": [
    "print(f'Training data consists of {train.shape[0]} annotaions')"
   ]
  },
  {
   "cell_type": "code",
   "execution_count": 8,
   "id": "32b4456d",
   "metadata": {
    "execution": {
     "iopub.execute_input": "2022-03-15T21:03:23.104223Z",
     "iopub.status.busy": "2022-03-15T21:03:23.103354Z",
     "iopub.status.idle": "2022-03-15T21:03:23.202838Z",
     "shell.execute_reply": "2022-03-15T21:03:23.203490Z",
     "shell.execute_reply.started": "2022-03-15T21:02:47.884686Z"
    },
    "papermill": {
     "duration": 0.160919,
     "end_time": "2022-03-15T21:03:23.203693",
     "exception": false,
     "start_time": "2022-03-15T21:03:23.042774",
     "status": "completed"
    },
    "tags": []
   },
   "outputs": [
    {
     "name": "stdout",
     "output_type": "stream",
     "text": [
      "50355\n",
      "------------------------------------\n",
      "44\n",
      "['Lead 1' 'Position 1' 'Evidence 1' 'Evidence 2' 'Claim 1' 'Evidence 3'\n",
      " 'Evidence 4' 'Claim 2' 'Evidence 5' 'Concluding Statement 1'\n",
      " 'Counterclaim 1' 'Rebuttal 1' 'Claim 3' 'Claim 4' 'Claim 5' 'Claim 6'\n",
      " 'Claim 7' 'Counterclaim 2' 'Rebuttal 2' 'Counterclaim 3' 'Rebuttal 3'\n",
      " 'Evidence 6' 'Lead 2' 'Counterclaim 4' 'Counterclaim 5' 'Counterclaim 6'\n",
      " 'Evidence 7' 'Claim 8' 'Evidence 8' 'Concluding Statement 2' 'Rebuttal 4'\n",
      " 'Rebuttal 5' 'Claim 9' 'Position 2' 'Claim 10' 'Claim 11' 'Claim 12'\n",
      " 'Evidence 9' 'Concluding Statement 3' 'Concluding Statement 4'\n",
      " 'Evidence 10' 'Evidence 11' 'Rebuttal 6' 'Evidence 12']\n",
      "------------------------------------\n",
      "['Lead' 'Position' 'Evidence' 'Claim' 'Concluding Statement'\n",
      " 'Counterclaim' 'Rebuttal']\n"
     ]
    }
   ],
   "source": [
    "print(train[\"predictionstring\"].nunique())\n",
    "print(\"------------------------------------\")\n",
    "print(train[\"discourse_type_num\"].nunique())\n",
    "print(train[\"discourse_type_num\"].unique())\n",
    "print(\"------------------------------------\")\n",
    "print(train[\"discourse_type\"].unique())"
   ]
  },
  {
   "cell_type": "code",
   "execution_count": 9,
   "id": "b2d590ad",
   "metadata": {
    "execution": {
     "iopub.execute_input": "2022-03-15T21:03:23.293153Z",
     "iopub.status.busy": "2022-03-15T21:03:23.292336Z",
     "iopub.status.idle": "2022-03-15T21:03:23.733384Z",
     "shell.execute_reply": "2022-03-15T21:03:23.732935Z"
    },
    "papermill": {
     "duration": 0.48876,
     "end_time": "2022-03-15T21:03:23.733547",
     "exception": false,
     "start_time": "2022-03-15T21:03:23.244787",
     "status": "completed"
    },
    "tags": []
   },
   "outputs": [],
   "source": [
    "train[\"discourse_len\"] = train[\"discourse_text\"].apply(lambda x:len(x.split()))"
   ]
  },
  {
   "cell_type": "code",
   "execution_count": 10,
   "id": "74bb97ef",
   "metadata": {
    "execution": {
     "iopub.execute_input": "2022-03-15T21:03:23.845219Z",
     "iopub.status.busy": "2022-03-15T21:03:23.824886Z",
     "iopub.status.idle": "2022-03-15T21:03:24.144880Z",
     "shell.execute_reply": "2022-03-15T21:03:24.143997Z"
    },
    "papermill": {
     "duration": 0.373828,
     "end_time": "2022-03-15T21:03:24.145029",
     "exception": false,
     "start_time": "2022-03-15T21:03:23.771201",
     "status": "completed"
    },
    "tags": []
   },
   "outputs": [],
   "source": [
    "train[\"predictionstring_len\"] = train[\"predictionstring\"].apply(lambda x:len(x.split()))"
   ]
  },
  {
   "cell_type": "code",
   "execution_count": 11,
   "id": "b63062b4",
   "metadata": {
    "execution": {
     "iopub.execute_input": "2022-03-15T21:03:24.237572Z",
     "iopub.status.busy": "2022-03-15T21:03:24.235824Z",
     "iopub.status.idle": "2022-03-15T21:03:24.238197Z",
     "shell.execute_reply": "2022-03-15T21:03:24.238668Z"
    },
    "papermill": {
     "duration": 0.050727,
     "end_time": "2022-03-15T21:03:24.238815",
     "exception": false,
     "start_time": "2022-03-15T21:03:24.188088",
     "status": "completed"
    },
    "tags": []
   },
   "outputs": [],
   "source": [
    "train[\"len_predict\"] = 0"
   ]
  },
  {
   "cell_type": "code",
   "execution_count": 12,
   "id": "d96b4288",
   "metadata": {
    "execution": {
     "iopub.execute_input": "2022-03-15T21:03:24.330492Z",
     "iopub.status.busy": "2022-03-15T21:03:24.329755Z",
     "iopub.status.idle": "2022-03-15T21:03:59.636665Z",
     "shell.execute_reply": "2022-03-15T21:03:59.635787Z"
    },
    "papermill": {
     "duration": 35.355375,
     "end_time": "2022-03-15T21:03:59.636811",
     "exception": false,
     "start_time": "2022-03-15T21:03:24.281436",
     "status": "completed"
    },
    "tags": []
   },
   "outputs": [
    {
     "name": "stderr",
     "output_type": "stream",
     "text": [
      "/opt/conda/lib/python3.7/site-packages/ipykernel_launcher.py:3: SettingWithCopyWarning: \n",
      "A value is trying to be set on a copy of a slice from a DataFrame\n",
      "\n",
      "See the caveats in the documentation: https://pandas.pydata.org/pandas-docs/stable/user_guide/indexing.html#returning-a-view-versus-a-copy\n",
      "  This is separate from the ipykernel package so we can avoid doing imports until\n",
      "/opt/conda/lib/python3.7/site-packages/ipykernel_launcher.py:5: SettingWithCopyWarning: \n",
      "A value is trying to be set on a copy of a slice from a DataFrame\n",
      "\n",
      "See the caveats in the documentation: https://pandas.pydata.org/pandas-docs/stable/user_guide/indexing.html#returning-a-view-versus-a-copy\n",
      "  \"\"\"\n"
     ]
    }
   ],
   "source": [
    "for i in range(0,len(train[\"discourse_len\"])):\n",
    "    if train[\"discourse_len\"][i] == train[\"predictionstring_len\"][i]:\n",
    "        train[\"len_predict\"][i] = 0\n",
    "    else:\n",
    "        train[\"len_predict\"][i] = 1"
   ]
  },
  {
   "cell_type": "code",
   "execution_count": 13,
   "id": "0711d549",
   "metadata": {
    "execution": {
     "iopub.execute_input": "2022-03-15T21:03:59.717298Z",
     "iopub.status.busy": "2022-03-15T21:03:59.715988Z",
     "iopub.status.idle": "2022-03-15T21:03:59.720834Z",
     "shell.execute_reply": "2022-03-15T21:03:59.720215Z"
    },
    "papermill": {
     "duration": 0.045791,
     "end_time": "2022-03-15T21:03:59.720966",
     "exception": false,
     "start_time": "2022-03-15T21:03:59.675175",
     "status": "completed"
    },
    "tags": []
   },
   "outputs": [
    {
     "data": {
      "text/plain": [
       "468"
      ]
     },
     "execution_count": 13,
     "metadata": {},
     "output_type": "execute_result"
    }
   ],
   "source": [
    "train[\"len_predict\"].sum()"
   ]
  },
  {
   "cell_type": "code",
   "execution_count": 14,
   "id": "cc8b6ced",
   "metadata": {
    "execution": {
     "iopub.execute_input": "2022-03-15T21:03:59.801101Z",
     "iopub.status.busy": "2022-03-15T21:03:59.800328Z",
     "iopub.status.idle": "2022-03-15T21:03:59.812753Z",
     "shell.execute_reply": "2022-03-15T21:03:59.812320Z"
    },
    "papermill": {
     "duration": 0.05385,
     "end_time": "2022-03-15T21:03:59.812856",
     "exception": false,
     "start_time": "2022-03-15T21:03:59.759006",
     "status": "completed"
    },
    "tags": []
   },
   "outputs": [
    {
     "data": {
      "text/html": [
       "<div>\n",
       "<style scoped>\n",
       "    .dataframe tbody tr th:only-of-type {\n",
       "        vertical-align: middle;\n",
       "    }\n",
       "\n",
       "    .dataframe tbody tr th {\n",
       "        vertical-align: top;\n",
       "    }\n",
       "\n",
       "    .dataframe thead th {\n",
       "        text-align: right;\n",
       "    }\n",
       "</style>\n",
       "<table border=\"1\" class=\"dataframe\">\n",
       "  <thead>\n",
       "    <tr style=\"text-align: right;\">\n",
       "      <th></th>\n",
       "      <th>id</th>\n",
       "      <th>discourse_id</th>\n",
       "      <th>discourse_start</th>\n",
       "      <th>discourse_end</th>\n",
       "      <th>discourse_text</th>\n",
       "      <th>discourse_type</th>\n",
       "      <th>discourse_type_num</th>\n",
       "      <th>predictionstring</th>\n",
       "      <th>discourse_len</th>\n",
       "      <th>predictionstring_len</th>\n",
       "      <th>len_predict</th>\n",
       "    </tr>\n",
       "  </thead>\n",
       "  <tbody>\n",
       "    <tr>\n",
       "      <th>0</th>\n",
       "      <td>423A1CA112E2</td>\n",
       "      <td>1.622628e+12</td>\n",
       "      <td>8.0</td>\n",
       "      <td>229.0</td>\n",
       "      <td>Modern humans today are always on their phone....</td>\n",
       "      <td>Lead</td>\n",
       "      <td>Lead 1</td>\n",
       "      <td>1 2 3 4 5 6 7 8 9 10 11 12 13 14 15 16 17 18 1...</td>\n",
       "      <td>44</td>\n",
       "      <td>44</td>\n",
       "      <td>0</td>\n",
       "    </tr>\n",
       "    <tr>\n",
       "      <th>1</th>\n",
       "      <td>423A1CA112E2</td>\n",
       "      <td>1.622628e+12</td>\n",
       "      <td>230.0</td>\n",
       "      <td>312.0</td>\n",
       "      <td>They are some really bad consequences when stu...</td>\n",
       "      <td>Position</td>\n",
       "      <td>Position 1</td>\n",
       "      <td>45 46 47 48 49 50 51 52 53 54 55 56 57 58 59</td>\n",
       "      <td>15</td>\n",
       "      <td>15</td>\n",
       "      <td>0</td>\n",
       "    </tr>\n",
       "    <tr>\n",
       "      <th>2</th>\n",
       "      <td>423A1CA112E2</td>\n",
       "      <td>1.622628e+12</td>\n",
       "      <td>313.0</td>\n",
       "      <td>401.0</td>\n",
       "      <td>Some certain areas in the United States ban ph...</td>\n",
       "      <td>Evidence</td>\n",
       "      <td>Evidence 1</td>\n",
       "      <td>60 61 62 63 64 65 66 67 68 69 70 71 72 73 74 75</td>\n",
       "      <td>16</td>\n",
       "      <td>16</td>\n",
       "      <td>0</td>\n",
       "    </tr>\n",
       "    <tr>\n",
       "      <th>3</th>\n",
       "      <td>423A1CA112E2</td>\n",
       "      <td>1.622628e+12</td>\n",
       "      <td>402.0</td>\n",
       "      <td>758.0</td>\n",
       "      <td>When people have phones, they know about certa...</td>\n",
       "      <td>Evidence</td>\n",
       "      <td>Evidence 2</td>\n",
       "      <td>76 77 78 79 80 81 82 83 84 85 86 87 88 89 90 9...</td>\n",
       "      <td>63</td>\n",
       "      <td>63</td>\n",
       "      <td>0</td>\n",
       "    </tr>\n",
       "    <tr>\n",
       "      <th>4</th>\n",
       "      <td>423A1CA112E2</td>\n",
       "      <td>1.622628e+12</td>\n",
       "      <td>759.0</td>\n",
       "      <td>886.0</td>\n",
       "      <td>Driving is one of the way how to get around. P...</td>\n",
       "      <td>Claim</td>\n",
       "      <td>Claim 1</td>\n",
       "      <td>139 140 141 142 143 144 145 146 147 148 149 15...</td>\n",
       "      <td>24</td>\n",
       "      <td>24</td>\n",
       "      <td>0</td>\n",
       "    </tr>\n",
       "  </tbody>\n",
       "</table>\n",
       "</div>"
      ],
      "text/plain": [
       "             id  discourse_id  discourse_start  discourse_end  \\\n",
       "0  423A1CA112E2  1.622628e+12              8.0          229.0   \n",
       "1  423A1CA112E2  1.622628e+12            230.0          312.0   \n",
       "2  423A1CA112E2  1.622628e+12            313.0          401.0   \n",
       "3  423A1CA112E2  1.622628e+12            402.0          758.0   \n",
       "4  423A1CA112E2  1.622628e+12            759.0          886.0   \n",
       "\n",
       "                                      discourse_text discourse_type  \\\n",
       "0  Modern humans today are always on their phone....           Lead   \n",
       "1  They are some really bad consequences when stu...       Position   \n",
       "2  Some certain areas in the United States ban ph...       Evidence   \n",
       "3  When people have phones, they know about certa...       Evidence   \n",
       "4  Driving is one of the way how to get around. P...          Claim   \n",
       "\n",
       "  discourse_type_num                                   predictionstring  \\\n",
       "0             Lead 1  1 2 3 4 5 6 7 8 9 10 11 12 13 14 15 16 17 18 1...   \n",
       "1         Position 1       45 46 47 48 49 50 51 52 53 54 55 56 57 58 59   \n",
       "2         Evidence 1    60 61 62 63 64 65 66 67 68 69 70 71 72 73 74 75   \n",
       "3         Evidence 2  76 77 78 79 80 81 82 83 84 85 86 87 88 89 90 9...   \n",
       "4            Claim 1  139 140 141 142 143 144 145 146 147 148 149 15...   \n",
       "\n",
       "   discourse_len  predictionstring_len  len_predict  \n",
       "0             44                    44            0  \n",
       "1             15                    15            0  \n",
       "2             16                    16            0  \n",
       "3             63                    63            0  \n",
       "4             24                    24            0  "
      ]
     },
     "execution_count": 14,
     "metadata": {},
     "output_type": "execute_result"
    }
   ],
   "source": [
    "train.head()"
   ]
  },
  {
   "cell_type": "code",
   "execution_count": 15,
   "id": "d98af496",
   "metadata": {
    "execution": {
     "iopub.execute_input": "2022-03-15T21:03:59.894577Z",
     "iopub.status.busy": "2022-03-15T21:03:59.893770Z",
     "iopub.status.idle": "2022-03-15T21:03:59.895505Z",
     "shell.execute_reply": "2022-03-15T21:03:59.895935Z"
    },
    "papermill": {
     "duration": 0.044182,
     "end_time": "2022-03-15T21:03:59.896061",
     "exception": false,
     "start_time": "2022-03-15T21:03:59.851879",
     "status": "completed"
    },
    "tags": []
   },
   "outputs": [],
   "source": [
    "#test_names, test_texts = [], []\n",
    "#for f in tqdm(list(os.listdir('../input/feedback-prize-2021/test'))):\n",
    "#    test_names.append(f.replace('.txt', ''))\n",
    "#    test_texts.append(open('../input/feedback-prize-2021/test/' + f, 'r').read())\n",
    "#test_texts = pd.DataFrame({'id': test_names, 'text': test_texts})\n",
    "#\n",
    "#test_texts.head()"
   ]
  },
  {
   "cell_type": "code",
   "execution_count": 16,
   "id": "9cf3bf65",
   "metadata": {
    "execution": {
     "iopub.execute_input": "2022-03-15T21:03:59.982222Z",
     "iopub.status.busy": "2022-03-15T21:03:59.979338Z",
     "iopub.status.idle": "2022-03-15T21:05:05.714649Z",
     "shell.execute_reply": "2022-03-15T21:05:05.715050Z"
    },
    "papermill": {
     "duration": 65.780137,
     "end_time": "2022-03-15T21:05:05.715194",
     "exception": false,
     "start_time": "2022-03-15T21:03:59.935057",
     "status": "completed"
    },
    "tags": []
   },
   "outputs": [
    {
     "name": "stderr",
     "output_type": "stream",
     "text": [
      "100%|██████████| 15594/15594 [01:05<00:00, 238.29it/s]\n"
     ]
    },
    {
     "data": {
      "text/html": [
       "<div>\n",
       "<style scoped>\n",
       "    .dataframe tbody tr th:only-of-type {\n",
       "        vertical-align: middle;\n",
       "    }\n",
       "\n",
       "    .dataframe tbody tr th {\n",
       "        vertical-align: top;\n",
       "    }\n",
       "\n",
       "    .dataframe thead th {\n",
       "        text-align: right;\n",
       "    }\n",
       "</style>\n",
       "<table border=\"1\" class=\"dataframe\">\n",
       "  <thead>\n",
       "    <tr style=\"text-align: right;\">\n",
       "      <th></th>\n",
       "      <th>id</th>\n",
       "      <th>text</th>\n",
       "    </tr>\n",
       "  </thead>\n",
       "  <tbody>\n",
       "    <tr>\n",
       "      <th>0</th>\n",
       "      <td>62C57C524CD2</td>\n",
       "      <td>I think we should be able to play in a sport i...</td>\n",
       "    </tr>\n",
       "    <tr>\n",
       "      <th>1</th>\n",
       "      <td>80667AD3FFD8</td>\n",
       "      <td>Some schools require summer projects for stude...</td>\n",
       "    </tr>\n",
       "    <tr>\n",
       "      <th>2</th>\n",
       "      <td>21868C40B94F</td>\n",
       "      <td>Driverless cars have been argued and talked ab...</td>\n",
       "    </tr>\n",
       "    <tr>\n",
       "      <th>3</th>\n",
       "      <td>87A6EF3113C6</td>\n",
       "      <td>The author of \"The Challenge of Exploring Venu...</td>\n",
       "    </tr>\n",
       "    <tr>\n",
       "      <th>4</th>\n",
       "      <td>24687D08CFDA</td>\n",
       "      <td>Wow, from the mar really look like humans face...</td>\n",
       "    </tr>\n",
       "  </tbody>\n",
       "</table>\n",
       "</div>"
      ],
      "text/plain": [
       "             id                                               text\n",
       "0  62C57C524CD2  I think we should be able to play in a sport i...\n",
       "1  80667AD3FFD8  Some schools require summer projects for stude...\n",
       "2  21868C40B94F  Driverless cars have been argued and talked ab...\n",
       "3  87A6EF3113C6  The author of \"The Challenge of Exploring Venu...\n",
       "4  24687D08CFDA  Wow, from the mar really look like humans face..."
      ]
     },
     "execution_count": 16,
     "metadata": {},
     "output_type": "execute_result"
    }
   ],
   "source": [
    "test_names, train_texts = [], []\n",
    "for f in tqdm(list(os.listdir('../input/feedback-prize-2021/train'))):\n",
    "    test_names.append(f.replace('.txt', ''))\n",
    "    train_texts.append(open('../input/feedback-prize-2021/train/' + f, 'r').read())\n",
    "train_text_df = pd.DataFrame({'id': test_names, 'text': train_texts})\n",
    "\n",
    "train_text_df.head()"
   ]
  },
  {
   "cell_type": "code",
   "execution_count": 17,
   "id": "3c10843f",
   "metadata": {
    "execution": {
     "iopub.execute_input": "2022-03-15T21:05:06.199338Z",
     "iopub.status.busy": "2022-03-15T21:05:06.198285Z",
     "iopub.status.idle": "2022-03-15T21:10:50.205465Z",
     "shell.execute_reply": "2022-03-15T21:10:50.195806Z"
    },
    "papermill": {
     "duration": 344.26117,
     "end_time": "2022-03-15T21:10:50.205679",
     "exception": false,
     "start_time": "2022-03-15T21:05:05.944509",
     "status": "completed"
    },
    "tags": []
   },
   "outputs": [
    {
     "name": "stderr",
     "output_type": "stream",
     "text": [
      "15594it [05:43, 45.40it/s]\n"
     ]
    }
   ],
   "source": [
    "train_df = train.copy()\n",
    "all_entities = []\n",
    "for i in tqdm(train_text_df.iterrows()):\n",
    "    total = i[1]['text'].split(' ').__len__()\n",
    "    start = -1\n",
    "    entities = []\n",
    "    for j in train_df[train_df['id'] == i[1]['id']].iterrows():\n",
    "        discourse = j[1]['discourse_type']\n",
    "        list_ix = j[1]['predictionstring'].split(' ')\n",
    "        ent = [f\"I-{discourse}\" for ix in list_ix]\n",
    "        ent[0] = f\"B-{discourse}\"\n",
    "        ds = int(list_ix[0])\n",
    "        de = int(list_ix[-1])\n",
    "        if start < ds-1:\n",
    "            ent_add = ['O' for ix in range(int(ds-1-start))]\n",
    "            ent = ent_add + ent\n",
    "        entities.extend(ent)\n",
    "        start = de\n",
    "    if len(entities) < total:\n",
    "        ent_add = [\"O\" for ix in range(total-len(entities))]\n",
    "        entities += ent_add\n",
    "    else:\n",
    "        entities = entities[:total]\n",
    "    all_entities.append(entities)"
   ]
  },
  {
   "cell_type": "code",
   "execution_count": 18,
   "id": "e3fed12e",
   "metadata": {
    "execution": {
     "iopub.execute_input": "2022-03-15T21:10:52.878033Z",
     "iopub.status.busy": "2022-03-15T21:10:52.877341Z",
     "iopub.status.idle": "2022-03-15T21:10:52.880174Z",
     "shell.execute_reply": "2022-03-15T21:10:52.880607Z"
    },
    "papermill": {
     "duration": 1.288843,
     "end_time": "2022-03-15T21:10:52.880753",
     "exception": false,
     "start_time": "2022-03-15T21:10:51.591910",
     "status": "completed"
    },
    "tags": []
   },
   "outputs": [
    {
     "data": {
      "text/html": [
       "<div>\n",
       "<style scoped>\n",
       "    .dataframe tbody tr th:only-of-type {\n",
       "        vertical-align: middle;\n",
       "    }\n",
       "\n",
       "    .dataframe tbody tr th {\n",
       "        vertical-align: top;\n",
       "    }\n",
       "\n",
       "    .dataframe thead th {\n",
       "        text-align: right;\n",
       "    }\n",
       "</style>\n",
       "<table border=\"1\" class=\"dataframe\">\n",
       "  <thead>\n",
       "    <tr style=\"text-align: right;\">\n",
       "      <th></th>\n",
       "      <th>id</th>\n",
       "      <th>text</th>\n",
       "      <th>entities</th>\n",
       "    </tr>\n",
       "  </thead>\n",
       "  <tbody>\n",
       "    <tr>\n",
       "      <th>0</th>\n",
       "      <td>62C57C524CD2</td>\n",
       "      <td>I think we should be able to play in a sport i...</td>\n",
       "      <td>[B-Position, I-Position, I-Position, I-Positio...</td>\n",
       "    </tr>\n",
       "    <tr>\n",
       "      <th>1</th>\n",
       "      <td>80667AD3FFD8</td>\n",
       "      <td>Some schools require summer projects for stude...</td>\n",
       "      <td>[B-Position, I-Position, I-Position, I-Positio...</td>\n",
       "    </tr>\n",
       "    <tr>\n",
       "      <th>2</th>\n",
       "      <td>21868C40B94F</td>\n",
       "      <td>Driverless cars have been argued and talked ab...</td>\n",
       "      <td>[B-Lead, I-Lead, I-Lead, I-Lead, I-Lead, I-Lea...</td>\n",
       "    </tr>\n",
       "    <tr>\n",
       "      <th>3</th>\n",
       "      <td>87A6EF3113C6</td>\n",
       "      <td>The author of \"The Challenge of Exploring Venu...</td>\n",
       "      <td>[B-Position, I-Position, I-Position, I-Positio...</td>\n",
       "    </tr>\n",
       "    <tr>\n",
       "      <th>4</th>\n",
       "      <td>24687D08CFDA</td>\n",
       "      <td>Wow, from the mar really look like humans face...</td>\n",
       "      <td>[B-Lead, I-Lead, I-Lead, I-Lead, I-Lead, I-Lea...</td>\n",
       "    </tr>\n",
       "  </tbody>\n",
       "</table>\n",
       "</div>"
      ],
      "text/plain": [
       "             id                                               text  \\\n",
       "0  62C57C524CD2  I think we should be able to play in a sport i...   \n",
       "1  80667AD3FFD8  Some schools require summer projects for stude...   \n",
       "2  21868C40B94F  Driverless cars have been argued and talked ab...   \n",
       "3  87A6EF3113C6  The author of \"The Challenge of Exploring Venu...   \n",
       "4  24687D08CFDA  Wow, from the mar really look like humans face...   \n",
       "\n",
       "                                            entities  \n",
       "0  [B-Position, I-Position, I-Position, I-Positio...  \n",
       "1  [B-Position, I-Position, I-Position, I-Positio...  \n",
       "2  [B-Lead, I-Lead, I-Lead, I-Lead, I-Lead, I-Lea...  \n",
       "3  [B-Position, I-Position, I-Position, I-Positio...  \n",
       "4  [B-Lead, I-Lead, I-Lead, I-Lead, I-Lead, I-Lea...  "
      ]
     },
     "execution_count": 18,
     "metadata": {},
     "output_type": "execute_result"
    }
   ],
   "source": [
    "train_text_df['entities'] = all_entities\n",
    "train_text_df.head()"
   ]
  },
  {
   "cell_type": "code",
   "execution_count": 19,
   "id": "10236187",
   "metadata": {
    "execution": {
     "iopub.execute_input": "2022-03-15T21:10:55.324028Z",
     "iopub.status.busy": "2022-03-15T21:10:55.322816Z",
     "iopub.status.idle": "2022-03-15T21:10:55.326660Z",
     "shell.execute_reply": "2022-03-15T21:10:55.326137Z"
    },
    "papermill": {
     "duration": 1.244666,
     "end_time": "2022-03-15T21:10:55.326797",
     "exception": false,
     "start_time": "2022-03-15T21:10:54.082131",
     "status": "completed"
    },
    "tags": []
   },
   "outputs": [],
   "source": [
    "config = {'model_name': '/kaggle/input/roberta-base/',\n",
    "         'max_length': 512,\n",
    "         'train_batch_size':8,\n",
    "         'valid_batch_size':16,\n",
    "         'epochs':3,\n",
    "         'learning_rate':1e-05,\n",
    "         'max_grad_norm':10,\n",
    "         'device': 'cuda' if cuda.is_available() else 'cpu'}"
   ]
  },
  {
   "cell_type": "code",
   "execution_count": 20,
   "id": "7a2b960b",
   "metadata": {
    "execution": {
     "iopub.execute_input": "2022-03-15T21:10:57.747744Z",
     "iopub.status.busy": "2022-03-15T21:10:57.746965Z",
     "iopub.status.idle": "2022-03-15T21:10:57.749375Z",
     "shell.execute_reply": "2022-03-15T21:10:57.748947Z"
    },
    "papermill": {
     "duration": 1.235341,
     "end_time": "2022-03-15T21:10:57.749525",
     "exception": false,
     "start_time": "2022-03-15T21:10:56.514184",
     "status": "completed"
    },
    "tags": []
   },
   "outputs": [],
   "source": [
    "output_labels = ['O', 'B-Lead', 'I-Lead', 'B-Position', 'I-Position', 'B-Claim', 'I-Claim', 'B-Counterclaim', 'I-Counterclaim', \n",
    "          'B-Rebuttal', 'I-Rebuttal', 'B-Evidence', 'I-Evidence', 'B-Concluding Statement', 'I-Concluding Statement']\n",
    "\n",
    "labels_to_ids = {v:k for k,v in enumerate(output_labels)}\n",
    "ids_to_labels = {k:v for k,v in enumerate(output_labels)}"
   ]
  },
  {
   "cell_type": "code",
   "execution_count": 21,
   "id": "6ce5738f",
   "metadata": {
    "execution": {
     "iopub.execute_input": "2022-03-15T21:11:00.141624Z",
     "iopub.status.busy": "2022-03-15T21:11:00.140996Z",
     "iopub.status.idle": "2022-03-15T21:11:00.144056Z",
     "shell.execute_reply": "2022-03-15T21:11:00.144466Z"
    },
    "papermill": {
     "duration": 1.198103,
     "end_time": "2022-03-15T21:11:00.144613",
     "exception": false,
     "start_time": "2022-03-15T21:10:58.946510",
     "status": "completed"
    },
    "tags": []
   },
   "outputs": [
    {
     "name": "stdout",
     "output_type": "stream",
     "text": [
      "{'O': 0, 'B-Lead': 1, 'I-Lead': 2, 'B-Position': 3, 'I-Position': 4, 'B-Claim': 5, 'I-Claim': 6, 'B-Counterclaim': 7, 'I-Counterclaim': 8, 'B-Rebuttal': 9, 'I-Rebuttal': 10, 'B-Evidence': 11, 'I-Evidence': 12, 'B-Concluding Statement': 13, 'I-Concluding Statement': 14}\n",
      "{0: 'O', 1: 'B-Lead', 2: 'I-Lead', 3: 'B-Position', 4: 'I-Position', 5: 'B-Claim', 6: 'I-Claim', 7: 'B-Counterclaim', 8: 'I-Counterclaim', 9: 'B-Rebuttal', 10: 'I-Rebuttal', 11: 'B-Evidence', 12: 'I-Evidence', 13: 'B-Concluding Statement', 14: 'I-Concluding Statement'}\n"
     ]
    }
   ],
   "source": [
    "print(labels_to_ids)\n",
    "print(ids_to_labels)"
   ]
  },
  {
   "cell_type": "code",
   "execution_count": 22,
   "id": "36b4f3be",
   "metadata": {
    "execution": {
     "iopub.execute_input": "2022-03-15T21:11:02.784007Z",
     "iopub.status.busy": "2022-03-15T21:11:02.783335Z",
     "iopub.status.idle": "2022-03-15T21:11:09.048356Z",
     "shell.execute_reply": "2022-03-15T21:11:09.048770Z"
    },
    "papermill": {
     "duration": 7.715058,
     "end_time": "2022-03-15T21:11:09.048925",
     "exception": false,
     "start_time": "2022-03-15T21:11:01.333867",
     "status": "completed"
    },
    "tags": []
   },
   "outputs": [
    {
     "name": "stderr",
     "output_type": "stream",
     "text": [
      "Some weights of the model checkpoint at /kaggle/input/roberta-base/ were not used when initializing RobertaForTokenClassification: ['lm_head.bias', 'lm_head.decoder.weight', 'lm_head.layer_norm.bias', 'lm_head.layer_norm.weight', 'lm_head.dense.weight', 'lm_head.dense.bias']\n",
      "- This IS expected if you are initializing RobertaForTokenClassification from the checkpoint of a model trained on another task or with another architecture (e.g. initializing a BertForSequenceClassification model from a BertForPreTraining model).\n",
      "- This IS NOT expected if you are initializing RobertaForTokenClassification from the checkpoint of a model that you expect to be exactly identical (initializing a BertForSequenceClassification model from a BertForSequenceClassification model).\n",
      "Some weights of RobertaForTokenClassification were not initialized from the model checkpoint at /kaggle/input/roberta-base/ and are newly initialized: ['classifier.bias', 'classifier.weight']\n",
      "You should probably TRAIN this model on a down-stream task to be able to use it for predictions and inference.\n"
     ]
    }
   ],
   "source": [
    "tokenizer = RobertaTokenizerFast.from_pretrained(MODEL_NAME)\n",
    "\n",
    "model = RobertaForTokenClassification.from_pretrained(config['model_name'], num_labels=len(output_labels))"
   ]
  },
  {
   "cell_type": "code",
   "execution_count": 23,
   "id": "b26e6667",
   "metadata": {
    "execution": {
     "iopub.execute_input": "2022-03-15T21:11:11.423629Z",
     "iopub.status.busy": "2022-03-15T21:11:11.422917Z",
     "iopub.status.idle": "2022-03-15T21:11:11.425682Z",
     "shell.execute_reply": "2022-03-15T21:11:11.425233Z"
    },
    "papermill": {
     "duration": 1.19448,
     "end_time": "2022-03-15T21:11:11.425802",
     "exception": false,
     "start_time": "2022-03-15T21:11:10.231322",
     "status": "completed"
    },
    "tags": []
   },
   "outputs": [],
   "source": [
    "class dataset(Dataset):\n",
    "    def __init__(self, dataframe, tokenizer, max_len):\n",
    "        self.len = len(dataframe)\n",
    "        self.data = dataframe\n",
    "        self.tokenizer = tokenizer\n",
    "        self.max_len = max_len\n",
    "\n",
    "    def __getitem__(self, index):\n",
    "        # step 1: get the sentence and word labels \n",
    "        sentence = self.data.text[index]\n",
    "        word_labels = self.data.entities[index]\n",
    "\n",
    "        # step 2: use tokenizer to encode sentence (includes padding/truncation up to max length)\n",
    "        # BertTokenizerFast provides a handy \"return_offsets_mapping\" functionality for individual tokens\n",
    "        encoding = self.tokenizer(sentence,\n",
    "#                              is_pretokenized=True, \n",
    "#                                   is_split_into_words=True,\n",
    "                             return_offsets_mapping=True, \n",
    "                             padding='max_length', \n",
    "                             truncation=True,\n",
    "                            max_length=self.max_len)\n",
    "        \n",
    "        # step 3: create token labels only for first word pieces of each tokenized word\n",
    "#         pdb.set_trace()\n",
    "        labels = [labels_to_ids[label] for label in word_labels] \n",
    "        # code based on https://huggingface.co/transformers/custom_datasets.html#tok-ner\n",
    "        # create an empty array of -100 of length max_length\n",
    "        encoded_labels = np.ones(len(encoding[\"offset_mapping\"]), dtype=int) * -100\n",
    "#         print(len(sentence), len(labels))\n",
    "        # set only labels whose first offset position is 0 and the second is not 0\n",
    "        i = 0\n",
    "        for idx, mapping in enumerate(encoding[\"offset_mapping\"]):\n",
    "#             print(idx)\n",
    "            if mapping[0] != 0 and mapping[0] != encoding['offset_mapping'][idx-1][1]:\n",
    "            # overwrite label\n",
    "#             pdb.set_trace()\n",
    "#             print(mapping)\n",
    "#             print(encoded_labels.shape, len(labels), idx, i)\n",
    "                try:\n",
    "                    encoded_labels[idx] = labels[i]\n",
    "                except:\n",
    "                    pass\n",
    "                i += 1\n",
    "            else:\n",
    "                if idx==1:\n",
    "    #                 print(idx)\n",
    "                    encoded_labels[idx] = labels[i]\n",
    "                    i += 1\n",
    "        # step 4: turn everything into PyTorch tensors\n",
    "        item = {key: torch.as_tensor(val) for key, val in encoding.items()}\n",
    "        item['labels'] = torch.as_tensor(encoded_labels)\n",
    "        \n",
    "        return item\n",
    "\n",
    "    def __len__(self):\n",
    "        return self.len\n",
    "                                  "
   ]
  },
  {
   "cell_type": "code",
   "execution_count": 24,
   "id": "d2697e4d",
   "metadata": {
    "execution": {
     "iopub.execute_input": "2022-03-15T21:11:14.114792Z",
     "iopub.status.busy": "2022-03-15T21:11:14.113862Z",
     "iopub.status.idle": "2022-03-15T21:11:14.130470Z",
     "shell.execute_reply": "2022-03-15T21:11:14.129622Z"
    },
    "papermill": {
     "duration": 1.479609,
     "end_time": "2022-03-15T21:11:14.130696",
     "exception": false,
     "start_time": "2022-03-15T21:11:12.651087",
     "status": "completed"
    },
    "tags": []
   },
   "outputs": [
    {
     "name": "stdout",
     "output_type": "stream",
     "text": [
      "FULL Dataset: (15594, 2)\n",
      "TRAIN Dataset: (12475, 2)\n",
      "TEST Dataset: (3119, 2)\n"
     ]
    }
   ],
   "source": [
    "data = train_text_df[['text', 'entities']]\n",
    "train_size = 0.8\n",
    "train_dataset = data.sample(frac=train_size,random_state=200)\n",
    "test_dataset = data.drop(train_dataset.index).reset_index(drop=True)\n",
    "train_dataset = train_dataset.reset_index(drop=True)\n",
    "\n",
    "print(\"FULL Dataset: {}\".format(data.shape))\n",
    "print(\"TRAIN Dataset: {}\".format(train_dataset.shape))\n",
    "print(\"TEST Dataset: {}\".format(test_dataset.shape))\n",
    "\n",
    "training_set = dataset(train_dataset, tokenizer, config['max_length'])\n",
    "testing_set = dataset(test_dataset, tokenizer, config['max_length'])"
   ]
  },
  {
   "cell_type": "code",
   "execution_count": 25,
   "id": "db71a1fb",
   "metadata": {
    "execution": {
     "iopub.execute_input": "2022-03-15T21:11:16.522339Z",
     "iopub.status.busy": "2022-03-15T21:11:16.521486Z",
     "iopub.status.idle": "2022-03-15T21:11:16.524045Z",
     "shell.execute_reply": "2022-03-15T21:11:16.523578Z"
    },
    "papermill": {
     "duration": 1.188801,
     "end_time": "2022-03-15T21:11:16.524155",
     "exception": false,
     "start_time": "2022-03-15T21:11:15.335354",
     "status": "completed"
    },
    "tags": []
   },
   "outputs": [],
   "source": [
    "train_params = {'batch_size': config['train_batch_size'],\n",
    "                'shuffle': True,\n",
    "                'num_workers': 1,\n",
    "                'pin_memory':True\n",
    "                }\n",
    "\n",
    "test_params = {'batch_size': config['valid_batch_size'],\n",
    "                'shuffle': True,\n",
    "                'num_workers': 1,\n",
    "                'pin_memory':True\n",
    "                }\n",
    "\n",
    "training_loader = DataLoader(training_set, **train_params)\n",
    "testing_loader = DataLoader(testing_set, **test_params)"
   ]
  },
  {
   "cell_type": "code",
   "execution_count": 26,
   "id": "3fb7a4ce",
   "metadata": {
    "execution": {
     "iopub.execute_input": "2022-03-15T21:11:19.157706Z",
     "iopub.status.busy": "2022-03-15T21:11:19.155296Z",
     "iopub.status.idle": "2022-03-15T21:11:19.163775Z",
     "shell.execute_reply": "2022-03-15T21:11:19.164408Z"
    },
    "papermill": {
     "duration": 1.463863,
     "end_time": "2022-03-15T21:11:19.164666",
     "exception": false,
     "start_time": "2022-03-15T21:11:17.700803",
     "status": "completed"
    },
    "tags": []
   },
   "outputs": [
    {
     "data": {
      "text/plain": [
       "'cuda'"
      ]
     },
     "execution_count": 26,
     "metadata": {},
     "output_type": "execute_result"
    }
   ],
   "source": [
    "device = config['device']\n",
    "device"
   ]
  },
  {
   "cell_type": "code",
   "execution_count": 27,
   "id": "50abb830",
   "metadata": {
    "execution": {
     "iopub.execute_input": "2022-03-15T21:11:22.080162Z",
     "iopub.status.busy": "2022-03-15T21:11:22.079480Z",
     "iopub.status.idle": "2022-03-15T21:11:22.083929Z",
     "shell.execute_reply": "2022-03-15T21:11:22.083396Z"
    },
    "papermill": {
     "duration": 1.490581,
     "end_time": "2022-03-15T21:11:22.084069",
     "exception": false,
     "start_time": "2022-03-15T21:11:20.593488",
     "status": "completed"
    },
    "tags": []
   },
   "outputs": [],
   "source": [
    "import gc\n",
    "\n",
    "gc.collect()\n",
    "torch.cuda.empty_cache()"
   ]
  },
  {
   "cell_type": "code",
   "execution_count": 28,
   "id": "c17c999e",
   "metadata": {
    "execution": {
     "iopub.execute_input": "2022-03-15T21:11:24.851120Z",
     "iopub.status.busy": "2022-03-15T21:11:24.850524Z",
     "iopub.status.idle": "2022-03-15T21:11:28.619759Z",
     "shell.execute_reply": "2022-03-15T21:11:28.619286Z"
    },
    "papermill": {
     "duration": 5.277463,
     "end_time": "2022-03-15T21:11:28.619893",
     "exception": false,
     "start_time": "2022-03-15T21:11:23.342430",
     "status": "completed"
    },
    "tags": []
   },
   "outputs": [
    {
     "data": {
      "text/plain": [
       "tensor(2.9545, device='cuda:0', grad_fn=<NllLossBackward>)"
      ]
     },
     "execution_count": 28,
     "metadata": {},
     "output_type": "execute_result"
    }
   ],
   "source": [
    "model.to(device)\n",
    "inputs = training_set[2]\n",
    "input_ids = inputs[\"input_ids\"].unsqueeze(0)\n",
    "attention_mask = inputs[\"attention_mask\"].unsqueeze(0)\n",
    "labels = inputs[\"labels\"].unsqueeze(0)\n",
    "\n",
    "input_ids = input_ids.to(device)\n",
    "attention_mask = attention_mask.to(device)\n",
    "labels = labels.to(device)\n",
    "\n",
    "outputs = model(input_ids, attention_mask=attention_mask, labels=labels,\n",
    "               return_dict=False)\n",
    "initial_loss = outputs[0]\n",
    "initial_loss"
   ]
  },
  {
   "cell_type": "code",
   "execution_count": 29,
   "id": "4da18cf2",
   "metadata": {
    "execution": {
     "iopub.execute_input": "2022-03-15T21:11:31.019209Z",
     "iopub.status.busy": "2022-03-15T21:11:31.018337Z",
     "iopub.status.idle": "2022-03-15T21:11:31.020201Z",
     "shell.execute_reply": "2022-03-15T21:11:31.020610Z"
    },
    "papermill": {
     "duration": 1.219998,
     "end_time": "2022-03-15T21:11:31.020746",
     "exception": false,
     "start_time": "2022-03-15T21:11:29.800748",
     "status": "completed"
    },
    "tags": []
   },
   "outputs": [],
   "source": [
    "optimizer = torch.optim.Adam(params=model.parameters(), lr=config['learning_rate'])"
   ]
  },
  {
   "cell_type": "code",
   "execution_count": 30,
   "id": "d940555b",
   "metadata": {
    "execution": {
     "iopub.execute_input": "2022-03-15T21:11:33.419093Z",
     "iopub.status.busy": "2022-03-15T21:11:33.418153Z",
     "iopub.status.idle": "2022-03-15T21:11:33.425017Z",
     "shell.execute_reply": "2022-03-15T21:11:33.424590Z"
    },
    "papermill": {
     "duration": 1.199035,
     "end_time": "2022-03-15T21:11:33.425123",
     "exception": false,
     "start_time": "2022-03-15T21:11:32.226088",
     "status": "completed"
    },
    "tags": []
   },
   "outputs": [],
   "source": [
    "# Defining the training function on the 80% of the dataset for tuning the bert model\n",
    "def train(epoch):\n",
    "    tr_loss, tr_accuracy = 0, 0\n",
    "    nb_tr_examples, nb_tr_steps = 0, 0\n",
    "    tr_preds, tr_labels = [], []\n",
    "    # put model in training mode\n",
    "    model.train()\n",
    "    \n",
    "    for idx, batch in enumerate(training_loader):\n",
    "        \n",
    "        ids = batch['input_ids'].to(device, dtype = torch.long)\n",
    "        mask = batch['attention_mask'].to(device, dtype = torch.long)\n",
    "        labels = batch['labels'].to(device, dtype = torch.long)\n",
    "\n",
    "        loss, tr_logits = model(input_ids=ids, attention_mask=mask, labels=labels,\n",
    "                               return_dict=False)\n",
    "        tr_loss += loss.item()\n",
    "\n",
    "        nb_tr_steps += 1\n",
    "        nb_tr_examples += labels.size(0)\n",
    "        \n",
    "        if idx % 100==0:\n",
    "            loss_step = tr_loss/nb_tr_steps\n",
    "            print(f\"Training loss per 100 training steps: {loss_step}\")\n",
    "           \n",
    "        # compute training accuracy\n",
    "        flattened_targets = labels.view(-1) # shape (batch_size * seq_len,)\n",
    "        active_logits = tr_logits.view(-1, model.num_labels) # shape (batch_size * seq_len, num_labels)\n",
    "        flattened_predictions = torch.argmax(active_logits, axis=1) # shape (batch_size * seq_len,)\n",
    "        \n",
    "        # only compute accuracy at active labels\n",
    "        active_accuracy = labels.view(-1) != -100 # shape (batch_size, seq_len)\n",
    "        #active_labels = torch.where(active_accuracy, labels.view(-1), torch.tensor(-100).type_as(labels))\n",
    "        \n",
    "        labels = torch.masked_select(flattened_targets, active_accuracy)\n",
    "        predictions = torch.masked_select(flattened_predictions, active_accuracy)\n",
    "        \n",
    "        tr_labels.extend(labels)\n",
    "        tr_preds.extend(predictions)\n",
    "        \n",
    "        tmp_tr_accuracy = accuracy_score(labels.cpu().numpy(), predictions.cpu().numpy())\n",
    "        tr_accuracy += tmp_tr_accuracy\n",
    "    \n",
    "        # gradient clipping\n",
    "        torch.nn.utils.clip_grad_norm_(\n",
    "            parameters=model.parameters(), max_norm=config['max_grad_norm']\n",
    "        )\n",
    "        \n",
    "        # backward pass\n",
    "        optimizer.zero_grad()\n",
    "        loss.backward()\n",
    "        optimizer.step()\n",
    "\n",
    "    epoch_loss = tr_loss / nb_tr_steps\n",
    "    tr_accuracy = tr_accuracy / nb_tr_steps\n",
    "    print(f\"Training loss epoch: {epoch_loss}\")\n",
    "    print(f\"Training accuracy epoch: {tr_accuracy}\")"
   ]
  },
  {
   "cell_type": "code",
   "execution_count": 31,
   "id": "a68f2aa8",
   "metadata": {
    "execution": {
     "iopub.execute_input": "2022-03-15T21:11:36.159516Z",
     "iopub.status.busy": "2022-03-15T21:11:36.158653Z",
     "iopub.status.idle": "2022-03-15T21:48:50.973357Z",
     "shell.execute_reply": "2022-03-15T21:48:50.972184Z"
    },
    "papermill": {
     "duration": 2236.291316,
     "end_time": "2022-03-15T21:48:50.973554",
     "exception": false,
     "start_time": "2022-03-15T21:11:34.682238",
     "status": "completed"
    },
    "tags": []
   },
   "outputs": [
    {
     "name": "stdout",
     "output_type": "stream",
     "text": [
      "Training epoch: 1\n",
      "huggingface/tokenizers: The current process just got forked, after parallelism has already been used. Disabling parallelism to avoid deadlocks...\n",
      "To disable this warning, you can either:\n",
      "\t- Avoid using `tokenizers` before the fork if possible\n",
      "\t- Explicitly set the environment variable TOKENIZERS_PARALLELISM=(true | false)\n",
      "Training loss per 100 training steps: 2.918163299560547\n",
      "Training loss per 100 training steps: 1.5868904873876288\n",
      "Training loss per 100 training steps: 1.3530007648230784\n",
      "Training loss per 100 training steps: 1.2328100917347247\n",
      "Training loss per 100 training steps: 1.157837126320437\n",
      "Training loss per 100 training steps: 1.1064888686239125\n",
      "Training loss per 100 training steps: 1.0693214369097883\n",
      "Training loss per 100 training steps: 1.0380558656387764\n",
      "Training loss per 100 training steps: 1.0143122671546412\n",
      "Training loss per 100 training steps: 0.9943706076364803\n",
      "Training loss per 100 training steps: 0.9728972908857462\n",
      "Training loss per 100 training steps: 0.9557553674284703\n",
      "Training loss per 100 training steps: 0.9404514778365104\n",
      "Training loss per 100 training steps: 0.9267718702623424\n",
      "Training loss per 100 training steps: 0.9167665525005172\n",
      "Training loss per 100 training steps: 0.9056759547941055\n",
      "Training loss epoch: 0.8987433367623733\n",
      "Training accuracy epoch: 0.7221874520070956\n",
      "Training epoch: 2\n",
      "huggingface/tokenizers: The current process just got forked, after parallelism has already been used. Disabling parallelism to avoid deadlocks...\n",
      "To disable this warning, you can either:\n",
      "\t- Avoid using `tokenizers` before the fork if possible\n",
      "\t- Explicitly set the environment variable TOKENIZERS_PARALLELISM=(true | false)\n",
      "Training loss per 100 training steps: 0.8363351225852966\n",
      "Training loss per 100 training steps: 0.71039017208732\n",
      "Training loss per 100 training steps: 0.7229417829371211\n",
      "Training loss per 100 training steps: 0.7178578416374435\n",
      "Training loss per 100 training steps: 0.713103361334884\n",
      "Training loss per 100 training steps: 0.7142630633479821\n",
      "Training loss per 100 training steps: 0.7072890123194348\n",
      "Training loss per 100 training steps: 0.7016033031545931\n",
      "Training loss per 100 training steps: 0.6991873773445053\n",
      "Training loss per 100 training steps: 0.6943326295745227\n",
      "Training loss per 100 training steps: 0.6968055249570491\n",
      "Training loss per 100 training steps: 0.6936295471550875\n",
      "Training loss per 100 training steps: 0.6913581983086271\n",
      "Training loss per 100 training steps: 0.6897396810644869\n",
      "Training loss per 100 training steps: 0.6866164974533261\n",
      "Training loss per 100 training steps: 0.6843534488427011\n",
      "Training loss epoch: 0.6832697985932613\n",
      "Training accuracy epoch: 0.7756873207071623\n",
      "Training epoch: 3\n",
      "huggingface/tokenizers: The current process just got forked, after parallelism has already been used. Disabling parallelism to avoid deadlocks...\n",
      "To disable this warning, you can either:\n",
      "\t- Avoid using `tokenizers` before the fork if possible\n",
      "\t- Explicitly set the environment variable TOKENIZERS_PARALLELISM=(true | false)\n",
      "Training loss per 100 training steps: 0.5489980578422546\n",
      "Training loss per 100 training steps: 0.6130594755753432\n",
      "Training loss per 100 training steps: 0.6224260966279613\n",
      "Training loss per 100 training steps: 0.6237571766210157\n",
      "Training loss per 100 training steps: 0.6233240251529246\n",
      "Training loss per 100 training steps: 0.6218864708365557\n",
      "Training loss per 100 training steps: 0.6199675671471138\n",
      "Training loss per 100 training steps: 0.6181260675149365\n",
      "Training loss per 100 training steps: 0.6187916706117351\n",
      "Training loss per 100 training steps: 0.6175775500831011\n",
      "Training loss per 100 training steps: 0.6175410505774972\n",
      "Training loss per 100 training steps: 0.6192236708360407\n",
      "Training loss per 100 training steps: 0.6178928173948188\n",
      "Training loss per 100 training steps: 0.6168428339653983\n",
      "Training loss per 100 training steps: 0.6166020920453626\n",
      "Training loss per 100 training steps: 0.6158199731625373\n",
      "Training loss epoch: 0.6163596301315687\n",
      "Training accuracy epoch: 0.7932721875298572\n"
     ]
    }
   ],
   "source": [
    "for epoch in range(config['epochs']):\n",
    "    print(f\"Training epoch: {epoch + 1}\")\n",
    "    train(epoch)"
   ]
  },
  {
   "cell_type": "code",
   "execution_count": 32,
   "id": "e5867909",
   "metadata": {
    "execution": {
     "iopub.execute_input": "2022-03-15T21:48:53.471301Z",
     "iopub.status.busy": "2022-03-15T21:48:53.470412Z",
     "iopub.status.idle": "2022-03-15T21:48:53.472872Z",
     "shell.execute_reply": "2022-03-15T21:48:53.472417Z"
    },
    "papermill": {
     "duration": 1.262248,
     "end_time": "2022-03-15T21:48:53.472984",
     "exception": false,
     "start_time": "2022-03-15T21:48:52.210736",
     "status": "completed"
    },
    "tags": []
   },
   "outputs": [],
   "source": [
    "def valid(model, testing_loader):\n",
    "    # put model in evaluation mode\n",
    "    model.eval()\n",
    "    \n",
    "    eval_loss, eval_accuracy = 0, 0\n",
    "    nb_eval_examples, nb_eval_steps = 0, 0\n",
    "    eval_preds, eval_labels = [], []\n",
    "    \n",
    "    with torch.no_grad():\n",
    "        for idx, batch in enumerate(testing_loader):\n",
    "            \n",
    "            ids = batch['input_ids'].to(device, dtype = torch.long)\n",
    "            mask = batch['attention_mask'].to(device, dtype = torch.long)\n",
    "            labels = batch['labels'].to(device, dtype = torch.long)\n",
    "            \n",
    "            loss, eval_logits = model(input_ids=ids, attention_mask=mask, labels=labels,\n",
    "                                     return_dict=False)\n",
    "            \n",
    "            eval_loss += loss.item()\n",
    "\n",
    "            nb_eval_steps += 1\n",
    "            nb_eval_examples += labels.size(0)\n",
    "            nb_eval_steps += 1\n",
    "            nb_eval_examples += labels.size(0)\n",
    "        \n",
    "            if idx % 100==0:\n",
    "                loss_step = eval_loss/nb_eval_steps\n",
    "                print(f\"Validation loss per 100 evaluation steps: {loss_step}\")\n",
    "              \n",
    "            # compute evaluation accuracy\n",
    "            flattened_targets = labels.view(-1) # shape (batch_size * seq_len,)\n",
    "            active_logits = eval_logits.view(-1, model.num_labels) # shape (batch_size * seq_len, num_labels)\n",
    "            flattened_predictions = torch.argmax(active_logits, axis=1) # shape (batch_size * seq_len,)\n",
    "            \n",
    "            # only compute accuracy at active labels\n",
    "            active_accuracy = labels.view(-1) != -100 # shape (batch_size, seq_len)\n",
    "        \n",
    "            labels = torch.masked_select(flattened_targets, active_accuracy)\n",
    "            predictions = torch.masked_select(flattened_predictions, active_accuracy)\n",
    "            \n",
    "            eval_labels.extend(labels)\n",
    "            eval_preds.extend(predictions)\n",
    "            \n",
    "            tmp_eval_accuracy = accuracy_score(labels.cpu().numpy(), predictions.cpu().numpy())\n",
    "            eval_accuracy += tmp_eval_accuracy\n",
    "\n",
    "    labels = [ids_to_labels[id.item()] for id in eval_labels]\n",
    "    predictions = [ids_to_labels[id.item()] for id in eval_preds]\n",
    "    \n",
    "    eval_loss = eval_loss / nb_eval_steps\n",
    "    eval_accuracy = eval_accuracy / nb_eval_steps\n",
    "    print(f\"Validation Loss: {eval_loss}\")\n",
    "    print(f\"Validation Accuracy: {eval_accuracy}\")\n",
    "\n",
    "    return labels, predictions"
   ]
  },
  {
   "cell_type": "code",
   "execution_count": 33,
   "id": "4cab42ff",
   "metadata": {
    "execution": {
     "iopub.execute_input": "2022-03-15T21:48:56.120400Z",
     "iopub.status.busy": "2022-03-15T21:48:56.119497Z",
     "iopub.status.idle": "2022-03-15T21:50:27.920963Z",
     "shell.execute_reply": "2022-03-15T21:50:27.921669Z"
    },
    "papermill": {
     "duration": 93.137525,
     "end_time": "2022-03-15T21:50:27.921885",
     "exception": false,
     "start_time": "2022-03-15T21:48:54.784360",
     "status": "completed"
    },
    "tags": []
   },
   "outputs": [
    {
     "name": "stdout",
     "output_type": "stream",
     "text": [
      "huggingface/tokenizers: The current process just got forked, after parallelism has already been used. Disabling parallelism to avoid deadlocks...\n",
      "To disable this warning, you can either:\n",
      "\t- Avoid using `tokenizers` before the fork if possible\n",
      "\t- Explicitly set the environment variable TOKENIZERS_PARALLELISM=(true | false)\n",
      "Validation loss per 100 evaluation steps: 0.3423628509044647\n",
      "Validation loss per 100 evaluation steps: 0.33017254716689043\n",
      "Validation Loss: 0.33508592973916956\n",
      "Validation Accuracy: 0.38759424866601255\n"
     ]
    }
   ],
   "source": [
    "labels, predictions = valid(model, testing_loader)"
   ]
  },
  {
   "cell_type": "code",
   "execution_count": 34,
   "id": "db675bd7",
   "metadata": {
    "execution": {
     "iopub.execute_input": "2022-03-15T21:50:30.476034Z",
     "iopub.status.busy": "2022-03-15T21:50:30.475287Z",
     "iopub.status.idle": "2022-03-15T21:50:30.478299Z",
     "shell.execute_reply": "2022-03-15T21:50:30.478711Z"
    },
    "papermill": {
     "duration": 1.276855,
     "end_time": "2022-03-15T21:50:30.478860",
     "exception": false,
     "start_time": "2022-03-15T21:50:29.202005",
     "status": "completed"
    },
    "tags": []
   },
   "outputs": [],
   "source": [
    "sentence = \"@HuggingFace is a company based in New York, but is also has employees working in Paris\"\n",
    "model.eval()\n",
    "def inference(sentence):\n",
    "    inputs = tokenizer(sentence,\n",
    "#                         is_split_into_words=True, \n",
    "                        return_offsets_mapping=True, \n",
    "                        padding='max_length', \n",
    "                        truncation=True, \n",
    "                        max_length=config['max_length'],\n",
    "                        return_tensors=\"pt\")\n",
    "\n",
    "    # move to gpu\n",
    "    ids = inputs[\"input_ids\"].to(device)\n",
    "    mask = inputs[\"attention_mask\"].to(device)\n",
    "    # forward pass\n",
    "    outputs = model(ids, attention_mask=mask, return_dict=False)\n",
    "    logits = outputs[0]\n",
    "    \n",
    "    active_logits = logits.view(-1, model.num_labels) # shape (batch_size * seq_len, num_labels)\n",
    "    flattened_predictions = torch.argmax(active_logits, axis=1) # shape (batch_size*seq_len,) - predictions at the token level\n",
    "\n",
    "    tokens = tokenizer.convert_ids_to_tokens(ids.squeeze().tolist())\n",
    "    token_predictions = [ids_to_labels[i] for i in flattened_predictions.cpu().numpy()]\n",
    "    wp_preds = list(zip(tokens, token_predictions)) # list of tuples. Each tuple = (wordpiece, prediction)\n",
    "\n",
    "    prediction = []\n",
    "    out_str = []\n",
    "    off_list = inputs[\"offset_mapping\"].squeeze().tolist()\n",
    "    for idx, mapping in enumerate(off_list):\n",
    "#         print(mapping, token_pred[1], token_pred[0],\"####\")\n",
    "\n",
    "#         only predictions on first word pieces are important\n",
    "        if mapping[0] != 0 and mapping[0] != off_list[idx-1][1]:\n",
    "#             print(mapping, token_pred[1], token_pred[0])\n",
    "            prediction.append(wp_preds[idx][1])\n",
    "            out_str.append(wp_preds[idx][0])\n",
    "        else:\n",
    "            if idx == 1:\n",
    "                prediction.append(wp_preds[idx][1])\n",
    "                out_str.append(wp_preds[idx][0])\n",
    "            continue\n",
    "    return prediction, out_str"
   ]
  },
  {
   "cell_type": "code",
   "execution_count": 35,
   "id": "f955b4e3",
   "metadata": {
    "execution": {
     "iopub.execute_input": "2022-03-15T21:50:32.951672Z",
     "iopub.status.busy": "2022-03-15T21:50:32.950864Z",
     "iopub.status.idle": "2022-03-15T21:50:32.992271Z",
     "shell.execute_reply": "2022-03-15T21:50:32.992779Z"
    },
    "papermill": {
     "duration": 1.277961,
     "end_time": "2022-03-15T21:50:32.992924",
     "exception": false,
     "start_time": "2022-03-15T21:50:31.714963",
     "status": "completed"
    },
    "tags": []
   },
   "outputs": [
    {
     "name": "stderr",
     "output_type": "stream",
     "text": [
      "100%|██████████| 5/5 [00:00<00:00, 296.42it/s]\n"
     ]
    },
    {
     "data": {
      "text/html": [
       "<div>\n",
       "<style scoped>\n",
       "    .dataframe tbody tr th:only-of-type {\n",
       "        vertical-align: middle;\n",
       "    }\n",
       "\n",
       "    .dataframe tbody tr th {\n",
       "        vertical-align: top;\n",
       "    }\n",
       "\n",
       "    .dataframe thead th {\n",
       "        text-align: right;\n",
       "    }\n",
       "</style>\n",
       "<table border=\"1\" class=\"dataframe\">\n",
       "  <thead>\n",
       "    <tr style=\"text-align: right;\">\n",
       "      <th></th>\n",
       "      <th>id</th>\n",
       "      <th>text</th>\n",
       "    </tr>\n",
       "  </thead>\n",
       "  <tbody>\n",
       "    <tr>\n",
       "      <th>0</th>\n",
       "      <td>0FB0700DAF44</td>\n",
       "      <td>During a group project, have you ever asked a ...</td>\n",
       "    </tr>\n",
       "    <tr>\n",
       "      <th>1</th>\n",
       "      <td>D72CB1C11673</td>\n",
       "      <td>Making choices in life can be very difficult. ...</td>\n",
       "    </tr>\n",
       "    <tr>\n",
       "      <th>2</th>\n",
       "      <td>18409261F5C2</td>\n",
       "      <td>80% of Americans believe seeking multiple opin...</td>\n",
       "    </tr>\n",
       "    <tr>\n",
       "      <th>3</th>\n",
       "      <td>DF920E0A7337</td>\n",
       "      <td>Have you ever asked more than one person for h...</td>\n",
       "    </tr>\n",
       "    <tr>\n",
       "      <th>4</th>\n",
       "      <td>D46BCB48440A</td>\n",
       "      <td>When people ask for advice,they sometimes talk...</td>\n",
       "    </tr>\n",
       "  </tbody>\n",
       "</table>\n",
       "</div>"
      ],
      "text/plain": [
       "             id                                               text\n",
       "0  0FB0700DAF44  During a group project, have you ever asked a ...\n",
       "1  D72CB1C11673  Making choices in life can be very difficult. ...\n",
       "2  18409261F5C2  80% of Americans believe seeking multiple opin...\n",
       "3  DF920E0A7337  Have you ever asked more than one person for h...\n",
       "4  D46BCB48440A  When people ask for advice,they sometimes talk..."
      ]
     },
     "execution_count": 35,
     "metadata": {},
     "output_type": "execute_result"
    }
   ],
   "source": [
    "test_names, test_texts = [], []\n",
    "for f in tqdm(list(os.listdir('../input/feedback-prize-2021/test'))):\n",
    "    test_names.append(f.replace('.txt', ''))\n",
    "    test_texts.append(open('../input/feedback-prize-2021/test/' + f, 'r').read())\n",
    "test_texts = pd.DataFrame({'id': test_names, 'text': test_texts})\n",
    "# test_texts['text'] = test_texts['text'].apply(lambda x:x.split())\n",
    "test_texts.head()"
   ]
  },
  {
   "cell_type": "code",
   "execution_count": 36,
   "id": "649a0b95",
   "metadata": {
    "execution": {
     "iopub.execute_input": "2022-03-15T21:50:35.445413Z",
     "iopub.status.busy": "2022-03-15T21:50:35.444618Z",
     "iopub.status.idle": "2022-03-15T21:50:35.591048Z",
     "shell.execute_reply": "2022-03-15T21:50:35.591434Z"
    },
    "papermill": {
     "duration": 1.35701,
     "end_time": "2022-03-15T21:50:35.591619",
     "exception": false,
     "start_time": "2022-03-15T21:50:34.234609",
     "status": "completed"
    },
    "tags": []
   },
   "outputs": [],
   "source": [
    "# test_texts = train_text_df['text'].tolist()[:10]\n",
    "y_pred = []\n",
    "\n",
    "for i, t in enumerate(test_texts['text'].tolist()):\n",
    "    o,o_t = inference(t)\n",
    "    y_pred.append(o)\n",
    "    l = train_text_df['entities'][i]"
   ]
  },
  {
   "cell_type": "code",
   "execution_count": 37,
   "id": "70f2ecf2",
   "metadata": {
    "execution": {
     "iopub.execute_input": "2022-03-15T21:50:38.047359Z",
     "iopub.status.busy": "2022-03-15T21:50:38.046799Z",
     "iopub.status.idle": "2022-03-15T21:50:38.058264Z",
     "shell.execute_reply": "2022-03-15T21:50:38.057659Z"
    },
    "papermill": {
     "duration": 1.239985,
     "end_time": "2022-03-15T21:50:38.058413",
     "exception": false,
     "start_time": "2022-03-15T21:50:36.818428",
     "status": "completed"
    },
    "tags": []
   },
   "outputs": [
    {
     "name": "stderr",
     "output_type": "stream",
     "text": [
      "100%|██████████| 5/5 [00:00<00:00, 2415.52it/s]"
     ]
    },
    {
     "name": "stdout",
     "output_type": "stream",
     "text": [
      "('0FB0700DAF44', 'Claim', '48 49 50 51 52 53 54 55 56 57 58 59 60 61 62 63 64 65 66 67 68 69 70 71 72 73 74 75 76 77 78 79 80 81 82 83 84 85 86 87 88 89 90 91 92 93 94 95 96 97 98 99 100 101 102 103 104 105 106 107')\n"
     ]
    },
    {
     "name": "stderr",
     "output_type": "stream",
     "text": [
      "\n"
     ]
    }
   ],
   "source": [
    "final_preds = []\n",
    "import pdb\n",
    "for i in tqdm(range(len(test_texts))):\n",
    "#     pdb.set_trace()\n",
    "    idx = test_texts.id.values[i]\n",
    "#     pred = ['']*len(test_texts[i])\n",
    "\n",
    "#     for j in range(len(y_pred[i])):\n",
    "#         if words[i][j] != None:\n",
    "#             pred[words[i][j]] = labels[y_pred[i][j]]\n",
    "\n",
    "    pred = [x.replace('B-','').replace('I-','') for x in y_pred[i]]\n",
    "#     print(pred)\n",
    "    preds = []\n",
    "    j = 0\n",
    "    while j < len(pred):\n",
    "        cls = pred[j]\n",
    "#         pdb.set_trace()\n",
    "        if cls == 'O':\n",
    "            j += 1\n",
    "        end = j + 1\n",
    "        while end < len(pred) and pred[end] == cls:\n",
    "            end += 1\n",
    "            \n",
    "        if cls != 'O' and cls != '' and end - j > 10:\n",
    "            final_preds.append((idx, cls, ' '.join(map(str, list(range(j, end))))))\n",
    "        \n",
    "        j = end\n",
    "        \n",
    "print(final_preds[1])"
   ]
  },
  {
   "cell_type": "code",
   "execution_count": 38,
   "id": "273d182d",
   "metadata": {
    "execution": {
     "iopub.execute_input": "2022-03-15T21:50:41.085225Z",
     "iopub.status.busy": "2022-03-15T21:50:41.083940Z",
     "iopub.status.idle": "2022-03-15T21:50:41.108344Z",
     "shell.execute_reply": "2022-03-15T21:50:41.114010Z"
    },
    "papermill": {
     "duration": 1.502916,
     "end_time": "2022-03-15T21:50:41.114212",
     "exception": false,
     "start_time": "2022-03-15T21:50:39.611296",
     "status": "completed"
    },
    "tags": []
   },
   "outputs": [
    {
     "name": "stdout",
     "output_type": "stream",
     "text": [
      "30\n"
     ]
    },
    {
     "data": {
      "text/html": [
       "<div>\n",
       "<style scoped>\n",
       "    .dataframe tbody tr th:only-of-type {\n",
       "        vertical-align: middle;\n",
       "    }\n",
       "\n",
       "    .dataframe tbody tr th {\n",
       "        vertical-align: top;\n",
       "    }\n",
       "\n",
       "    .dataframe thead th {\n",
       "        text-align: right;\n",
       "    }\n",
       "</style>\n",
       "<table border=\"1\" class=\"dataframe\">\n",
       "  <thead>\n",
       "    <tr style=\"text-align: right;\">\n",
       "      <th></th>\n",
       "      <th>id</th>\n",
       "      <th>class</th>\n",
       "      <th>predictionstring</th>\n",
       "    </tr>\n",
       "  </thead>\n",
       "  <tbody>\n",
       "    <tr>\n",
       "      <th>0</th>\n",
       "      <td>18409261F5C2</td>\n",
       "      <td>NaN</td>\n",
       "      <td>NaN</td>\n",
       "    </tr>\n",
       "    <tr>\n",
       "      <th>1</th>\n",
       "      <td>D46BCB48440A</td>\n",
       "      <td>NaN</td>\n",
       "      <td>NaN</td>\n",
       "    </tr>\n",
       "    <tr>\n",
       "      <th>2</th>\n",
       "      <td>0FB0700DAF44</td>\n",
       "      <td>NaN</td>\n",
       "      <td>NaN</td>\n",
       "    </tr>\n",
       "    <tr>\n",
       "      <th>3</th>\n",
       "      <td>D72CB1C11673</td>\n",
       "      <td>NaN</td>\n",
       "      <td>NaN</td>\n",
       "    </tr>\n",
       "    <tr>\n",
       "      <th>4</th>\n",
       "      <td>DF920E0A7337</td>\n",
       "      <td>NaN</td>\n",
       "      <td>NaN</td>\n",
       "    </tr>\n",
       "  </tbody>\n",
       "</table>\n",
       "</div>"
      ],
      "text/plain": [
       "             id  class  predictionstring\n",
       "0  18409261F5C2    NaN               NaN\n",
       "1  D46BCB48440A    NaN               NaN\n",
       "2  0FB0700DAF44    NaN               NaN\n",
       "3  D72CB1C11673    NaN               NaN\n",
       "4  DF920E0A7337    NaN               NaN"
      ]
     },
     "execution_count": 38,
     "metadata": {},
     "output_type": "execute_result"
    }
   ],
   "source": [
    "print(len(final_preds))\n",
    "test_df = pd.read_csv('../input/feedback-prize-2021/sample_submission.csv')\n",
    "test_df"
   ]
  },
  {
   "cell_type": "code",
   "execution_count": 39,
   "id": "45e92b16",
   "metadata": {
    "execution": {
     "iopub.execute_input": "2022-03-15T21:50:43.960226Z",
     "iopub.status.busy": "2022-03-15T21:50:43.959252Z",
     "iopub.status.idle": "2022-03-15T21:50:43.962184Z",
     "shell.execute_reply": "2022-03-15T21:50:43.961733Z"
    },
    "papermill": {
     "duration": 1.283199,
     "end_time": "2022-03-15T21:50:43.962298",
     "exception": false,
     "start_time": "2022-03-15T21:50:42.679099",
     "status": "completed"
    },
    "tags": []
   },
   "outputs": [],
   "source": [
    "sub = pd.DataFrame(final_preds)\n",
    "sub.columns = test_df.columns"
   ]
  },
  {
   "cell_type": "code",
   "execution_count": 40,
   "id": "c947f27b",
   "metadata": {
    "execution": {
     "iopub.execute_input": "2022-03-15T21:50:46.479840Z",
     "iopub.status.busy": "2022-03-15T21:50:46.479055Z",
     "iopub.status.idle": "2022-03-15T21:50:46.482139Z",
     "shell.execute_reply": "2022-03-15T21:50:46.482594Z"
    },
    "papermill": {
     "duration": 1.244116,
     "end_time": "2022-03-15T21:50:46.482740",
     "exception": false,
     "start_time": "2022-03-15T21:50:45.238624",
     "status": "completed"
    },
    "tags": []
   },
   "outputs": [
    {
     "data": {
      "text/html": [
       "<div>\n",
       "<style scoped>\n",
       "    .dataframe tbody tr th:only-of-type {\n",
       "        vertical-align: middle;\n",
       "    }\n",
       "\n",
       "    .dataframe tbody tr th {\n",
       "        vertical-align: top;\n",
       "    }\n",
       "\n",
       "    .dataframe thead th {\n",
       "        text-align: right;\n",
       "    }\n",
       "</style>\n",
       "<table border=\"1\" class=\"dataframe\">\n",
       "  <thead>\n",
       "    <tr style=\"text-align: right;\">\n",
       "      <th></th>\n",
       "      <th>id</th>\n",
       "      <th>class</th>\n",
       "      <th>predictionstring</th>\n",
       "    </tr>\n",
       "  </thead>\n",
       "  <tbody>\n",
       "    <tr>\n",
       "      <th>0</th>\n",
       "      <td>0FB0700DAF44</td>\n",
       "      <td>Lead</td>\n",
       "      <td>0 1 2 3 4 5 6 7 8 9 10 11 12 13 14 15 16 17 18...</td>\n",
       "    </tr>\n",
       "    <tr>\n",
       "      <th>1</th>\n",
       "      <td>0FB0700DAF44</td>\n",
       "      <td>Claim</td>\n",
       "      <td>48 49 50 51 52 53 54 55 56 57 58 59 60 61 62 6...</td>\n",
       "    </tr>\n",
       "    <tr>\n",
       "      <th>2</th>\n",
       "      <td>0FB0700DAF44</td>\n",
       "      <td>Position</td>\n",
       "      <td>108 109 110 111 112 113 114 115 116 117 118 119</td>\n",
       "    </tr>\n",
       "    <tr>\n",
       "      <th>3</th>\n",
       "      <td>0FB0700DAF44</td>\n",
       "      <td>Claim</td>\n",
       "      <td>122 123 124 125 126 127 128 129 130 131 132 13...</td>\n",
       "    </tr>\n",
       "    <tr>\n",
       "      <th>4</th>\n",
       "      <td>0FB0700DAF44</td>\n",
       "      <td>Evidence</td>\n",
       "      <td>147 148 149 150 151 152 153 154 155 156 157 15...</td>\n",
       "    </tr>\n",
       "  </tbody>\n",
       "</table>\n",
       "</div>"
      ],
      "text/plain": [
       "             id     class                                   predictionstring\n",
       "0  0FB0700DAF44      Lead  0 1 2 3 4 5 6 7 8 9 10 11 12 13 14 15 16 17 18...\n",
       "1  0FB0700DAF44     Claim  48 49 50 51 52 53 54 55 56 57 58 59 60 61 62 6...\n",
       "2  0FB0700DAF44  Position    108 109 110 111 112 113 114 115 116 117 118 119\n",
       "3  0FB0700DAF44     Claim  122 123 124 125 126 127 128 129 130 131 132 13...\n",
       "4  0FB0700DAF44  Evidence  147 148 149 150 151 152 153 154 155 156 157 15..."
      ]
     },
     "execution_count": 40,
     "metadata": {},
     "output_type": "execute_result"
    }
   ],
   "source": [
    "sub.head()"
   ]
  },
  {
   "cell_type": "code",
   "execution_count": 41,
   "id": "9017fe86",
   "metadata": {
    "execution": {
     "iopub.execute_input": "2022-03-15T21:50:48.999158Z",
     "iopub.status.busy": "2022-03-15T21:50:48.998283Z",
     "iopub.status.idle": "2022-03-15T21:50:49.004885Z",
     "shell.execute_reply": "2022-03-15T21:50:49.004436Z"
    },
    "papermill": {
     "duration": 1.26687,
     "end_time": "2022-03-15T21:50:49.005016",
     "exception": false,
     "start_time": "2022-03-15T21:50:47.738146",
     "status": "completed"
    },
    "tags": []
   },
   "outputs": [],
   "source": [
    "sub.to_csv(\"submission.csv\", index=False)"
   ]
  },
  {
   "cell_type": "code",
   "execution_count": null,
   "id": "2c70a6e8",
   "metadata": {
    "papermill": {
     "duration": 1.205248,
     "end_time": "2022-03-15T21:50:51.780260",
     "exception": false,
     "start_time": "2022-03-15T21:50:50.575012",
     "status": "completed"
    },
    "tags": []
   },
   "outputs": [],
   "source": []
  },
  {
   "cell_type": "code",
   "execution_count": null,
   "id": "6f135dc2",
   "metadata": {
    "papermill": {
     "duration": 1.283948,
     "end_time": "2022-03-15T21:50:54.296881",
     "exception": false,
     "start_time": "2022-03-15T21:50:53.012933",
     "status": "completed"
    },
    "tags": []
   },
   "outputs": [],
   "source": []
  },
  {
   "cell_type": "code",
   "execution_count": null,
   "id": "a15c6596",
   "metadata": {
    "papermill": {
     "duration": 1.286469,
     "end_time": "2022-03-15T21:50:56.812826",
     "exception": false,
     "start_time": "2022-03-15T21:50:55.526357",
     "status": "completed"
    },
    "tags": []
   },
   "outputs": [],
   "source": []
  }
 ],
 "metadata": {
  "kernelspec": {
   "display_name": "Python 3",
   "language": "python",
   "name": "python3"
  },
  "language_info": {
   "codemirror_mode": {
    "name": "ipython",
    "version": 3
   },
   "file_extension": ".py",
   "mimetype": "text/x-python",
   "name": "python",
   "nbconvert_exporter": "python",
   "pygments_lexer": "ipython3",
   "version": "3.7.12"
  },
  "papermill": {
   "default_parameters": {},
   "duration": 2872.130312,
   "end_time": "2022-03-15T21:51:01.556229",
   "environment_variables": {},
   "exception": null,
   "input_path": "__notebook__.ipynb",
   "output_path": "__notebook__.ipynb",
   "parameters": {},
   "start_time": "2022-03-15T21:03:09.425917",
   "version": "2.3.3"
  }
 },
 "nbformat": 4,
 "nbformat_minor": 5
}
