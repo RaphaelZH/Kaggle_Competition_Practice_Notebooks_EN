{
 "cells": [
  {
   "cell_type": "markdown",
   "id": "ad7da575",
   "metadata": {
    "papermill": {
     "duration": 0.018065,
     "end_time": "2022-03-13T22:29:46.420129",
     "exception": false,
     "start_time": "2022-03-13T22:29:46.402064",
     "status": "completed"
    },
    "tags": []
   },
   "source": []
  },
  {
   "cell_type": "markdown",
   "id": "545dd6d7",
   "metadata": {
    "papermill": {
     "duration": 0.015799,
     "end_time": "2022-03-13T22:29:46.453418",
     "exception": false,
     "start_time": "2022-03-13T22:29:46.437619",
     "status": "completed"
    },
    "tags": []
   },
   "source": [
    "# Libraries Import\n",
    "\n",
    "## Regular Libraries"
   ]
  },
  {
   "cell_type": "code",
   "execution_count": 1,
   "id": "76412689",
   "metadata": {
    "execution": {
     "iopub.execute_input": "2022-03-13T22:29:46.496065Z",
     "iopub.status.busy": "2022-03-13T22:29:46.495382Z",
     "iopub.status.idle": "2022-03-13T22:29:46.498385Z",
     "shell.execute_reply": "2022-03-13T22:29:46.499038Z",
     "shell.execute_reply.started": "2022-03-12T23:15:35.946032Z"
    },
    "papermill": {
     "duration": 0.029622,
     "end_time": "2022-03-13T22:29:46.499342",
     "exception": false,
     "start_time": "2022-03-13T22:29:46.469720",
     "status": "completed"
    },
    "tags": []
   },
   "outputs": [],
   "source": [
    "import numpy as np # linear algebra\n",
    "import pandas as pd # data processing, CSV file I/O (e.g. pd.read_csv)\n",
    "\n",
    "import os"
   ]
  },
  {
   "cell_type": "markdown",
   "id": "7c649a7d",
   "metadata": {
    "papermill": {
     "duration": 0.015915,
     "end_time": "2022-03-13T22:29:46.531776",
     "exception": false,
     "start_time": "2022-03-13T22:29:46.515861",
     "status": "completed"
    },
    "tags": []
   },
   "source": [
    "## Auxiliary Libraries"
   ]
  },
  {
   "cell_type": "code",
   "execution_count": 2,
   "id": "ae5b7c41",
   "metadata": {
    "execution": {
     "iopub.execute_input": "2022-03-13T22:29:46.567280Z",
     "iopub.status.busy": "2022-03-13T22:29:46.566581Z",
     "iopub.status.idle": "2022-03-13T22:29:46.570119Z",
     "shell.execute_reply": "2022-03-13T22:29:46.570642Z"
    },
    "papermill": {
     "duration": 0.022926,
     "end_time": "2022-03-13T22:29:46.570816",
     "exception": false,
     "start_time": "2022-03-13T22:29:46.547890",
     "status": "completed"
    },
    "tags": []
   },
   "outputs": [],
   "source": [
    "from glob import glob"
   ]
  },
  {
   "cell_type": "markdown",
   "id": "b1a4b0c0",
   "metadata": {
    "papermill": {
     "duration": 0.015938,
     "end_time": "2022-03-13T22:29:46.603062",
     "exception": false,
     "start_time": "2022-03-13T22:29:46.587124",
     "status": "completed"
    },
    "tags": []
   },
   "source": [
    "## Data Visualization Libraries"
   ]
  },
  {
   "cell_type": "code",
   "execution_count": 3,
   "id": "46ccf73b",
   "metadata": {
    "execution": {
     "iopub.execute_input": "2022-03-13T22:29:46.640256Z",
     "iopub.status.busy": "2022-03-13T22:29:46.639597Z",
     "iopub.status.idle": "2022-03-13T22:30:02.847664Z",
     "shell.execute_reply": "2022-03-13T22:30:02.847103Z",
     "shell.execute_reply.started": "2022-03-12T23:06:24.598843Z"
    },
    "papermill": {
     "duration": 16.226989,
     "end_time": "2022-03-13T22:30:02.847842",
     "exception": false,
     "start_time": "2022-03-13T22:29:46.620853",
     "status": "completed"
    },
    "tags": []
   },
   "outputs": [],
   "source": [
    "import matplotlib.pyplot as plt\n",
    "from glob import glob\n",
    "\n",
    "\n",
    "\n",
    "import matplotlib.pyplot as plt\n",
    "#from nltk.corpus import stopwords\n",
    "import tensorflow as tf\n",
    "from transformers import *\n"
   ]
  },
  {
   "cell_type": "markdown",
   "id": "1bf22b41",
   "metadata": {
    "papermill": {
     "duration": 0.01655,
     "end_time": "2022-03-13T22:30:02.880908",
     "exception": false,
     "start_time": "2022-03-13T22:30:02.864358",
     "status": "completed"
    },
    "tags": []
   },
   "source": []
  },
  {
   "cell_type": "code",
   "execution_count": 4,
   "id": "5fb3adec",
   "metadata": {
    "execution": {
     "iopub.execute_input": "2022-03-13T22:30:02.919528Z",
     "iopub.status.busy": "2022-03-13T22:30:02.918448Z",
     "iopub.status.idle": "2022-03-13T22:30:04.807457Z",
     "shell.execute_reply": "2022-03-13T22:30:04.808003Z",
     "shell.execute_reply.started": "2022-03-12T23:06:39.304297Z"
    },
    "papermill": {
     "duration": 1.910542,
     "end_time": "2022-03-13T22:30:04.808274",
     "exception": false,
     "start_time": "2022-03-13T22:30:02.897732",
     "status": "completed"
    },
    "tags": []
   },
   "outputs": [],
   "source": [
    "train = pd.read_csv('../input/feedback-prize-2021/train.csv')\n",
    "sample_submission = pd.read_csv('../input/feedback-prize-2021/sample_submission.csv')"
   ]
  },
  {
   "cell_type": "code",
   "execution_count": 5,
   "id": "cf62e885",
   "metadata": {
    "execution": {
     "iopub.execute_input": "2022-03-13T22:30:04.845399Z",
     "iopub.status.busy": "2022-03-13T22:30:04.844397Z",
     "iopub.status.idle": "2022-03-13T22:30:05.181810Z",
     "shell.execute_reply": "2022-03-13T22:30:05.182519Z",
     "shell.execute_reply.started": "2022-03-12T23:06:41.135865Z"
    },
    "papermill": {
     "duration": 0.35738,
     "end_time": "2022-03-13T22:30:05.182781",
     "exception": false,
     "start_time": "2022-03-13T22:30:04.825401",
     "status": "completed"
    },
    "tags": []
   },
   "outputs": [
    {
     "name": "stdout",
     "output_type": "stream",
     "text": [
      "Training data consists of 15594 texts\n",
      "Training data consists of 144293 annotaions\n",
      "Each essay contains average 9.3 annotaions.\n"
     ]
    }
   ],
   "source": [
    "raw_text_files = os.listdir('/kaggle/input/feedback-prize-2021/train')\n",
    "print(f'Training data consists of {len(raw_text_files)} texts')\n",
    "print(f'Training data consists of {train.shape[0]} annotaions')\n",
    "print(f'Each essay contains average {round(train.shape[0]/len(raw_text_files), 1)} annotaions.')"
   ]
  },
  {
   "cell_type": "code",
   "execution_count": 6,
   "id": "9d3fed49",
   "metadata": {
    "execution": {
     "iopub.execute_input": "2022-03-13T22:30:05.222846Z",
     "iopub.status.busy": "2022-03-13T22:30:05.222139Z",
     "iopub.status.idle": "2022-03-13T22:30:05.228365Z",
     "shell.execute_reply": "2022-03-13T22:30:05.228891Z",
     "shell.execute_reply.started": "2022-03-12T23:06:41.437065Z"
    },
    "papermill": {
     "duration": 0.028394,
     "end_time": "2022-03-13T22:30:05.229095",
     "exception": false,
     "start_time": "2022-03-13T22:30:05.200701",
     "status": "completed"
    },
    "tags": []
   },
   "outputs": [
    {
     "name": "stdout",
     "output_type": "stream",
     "text": [
      "Phones\n",
      "\n",
      "Modern humans today are always on their phone. They are always on their phone more than 5 hours a day no stop .All they do is text back and forward and just have group Chats on social media. They even do it while driving. They are some really bad consequences when stuff happens when it comes to a phone. Some certain areas in the United States ban phones from class rooms just because of it.\n",
      "\n",
      "When people have phones, they know about certain apps that they have .Apps like Facebook Twitter Instagram and Snapchat. So like if a friend moves away and you want to be in contact you can still be in contact by posting videos or text messages. People always have different ways how to communicate with a phone. Phones have changed due to our generation.\n",
      "\n",
      "Driving is one of the way how to get around. People always be on their phones while doing it. Which can cause serious Problems. That's why there's a thing that's called no texting while driving. That's a really important thing to remember. Some people still do it because they think It's stupid. No matter what they do they still have to obey it because that's the only way how did he save.\n",
      "\n",
      "Sometimes on the news there is either an accident or a suicide. It might involve someone not looking where they're going or tweet that someone sent. It either injury or death. If a mysterious number says I'm going to kill you and they know where you live but you don't know the person's contact\n",
      "\n",
      ",It makes you puzzled and make you start to freak out. Which can end up really badly.\n",
      "\n",
      "Phones are fine to use and it's also the best way to come over help. If you go through a problem and you can't find help you ,always have a phone there with you. Even though phones are used almost every day as long as you're safe it would come into use if you get into trouble. Make sure you do not be like this phone while you're in the middle of driving. The news always updated when people do something stupid around that involves their phones. The safest way is the best way to stay safe.    \n"
     ]
    }
   ],
   "source": [
    "with open('../input/feedback-prize-2021/train/423A1CA112E2.txt', 'r') as file:\n",
    "    first_txt = file.read()\n",
    "print(first_txt)"
   ]
  },
  {
   "cell_type": "code",
   "execution_count": 7,
   "id": "8d58d3c5",
   "metadata": {
    "execution": {
     "iopub.execute_input": "2022-03-13T22:30:05.303024Z",
     "iopub.status.busy": "2022-03-13T22:30:05.302316Z",
     "iopub.status.idle": "2022-03-13T22:30:05.335864Z",
     "shell.execute_reply": "2022-03-13T22:30:05.335205Z",
     "shell.execute_reply.started": "2022-03-12T23:06:41.446747Z"
    },
    "papermill": {
     "duration": 0.087699,
     "end_time": "2022-03-13T22:30:05.336025",
     "exception": false,
     "start_time": "2022-03-13T22:30:05.248326",
     "status": "completed"
    },
    "tags": []
   },
   "outputs": [
    {
     "data": {
      "text/html": [
       "<div>\n",
       "<style scoped>\n",
       "    .dataframe tbody tr th:only-of-type {\n",
       "        vertical-align: middle;\n",
       "    }\n",
       "\n",
       "    .dataframe tbody tr th {\n",
       "        vertical-align: top;\n",
       "    }\n",
       "\n",
       "    .dataframe thead th {\n",
       "        text-align: right;\n",
       "    }\n",
       "</style>\n",
       "<table border=\"1\" class=\"dataframe\">\n",
       "  <thead>\n",
       "    <tr style=\"text-align: right;\">\n",
       "      <th></th>\n",
       "      <th>id</th>\n",
       "      <th>discourse_id</th>\n",
       "      <th>discourse_start</th>\n",
       "      <th>discourse_end</th>\n",
       "      <th>discourse_text</th>\n",
       "      <th>discourse_type</th>\n",
       "      <th>discourse_type_num</th>\n",
       "      <th>predictionstring</th>\n",
       "    </tr>\n",
       "  </thead>\n",
       "  <tbody>\n",
       "    <tr>\n",
       "      <th>0</th>\n",
       "      <td>423A1CA112E2</td>\n",
       "      <td>1.622628e+12</td>\n",
       "      <td>8.0</td>\n",
       "      <td>229.0</td>\n",
       "      <td>Modern humans today are always on their phone....</td>\n",
       "      <td>Lead</td>\n",
       "      <td>Lead 1</td>\n",
       "      <td>1 2 3 4 5 6 7 8 9 10 11 12 13 14 15 16 17 18 1...</td>\n",
       "    </tr>\n",
       "    <tr>\n",
       "      <th>1</th>\n",
       "      <td>423A1CA112E2</td>\n",
       "      <td>1.622628e+12</td>\n",
       "      <td>230.0</td>\n",
       "      <td>312.0</td>\n",
       "      <td>They are some really bad consequences when stu...</td>\n",
       "      <td>Position</td>\n",
       "      <td>Position 1</td>\n",
       "      <td>45 46 47 48 49 50 51 52 53 54 55 56 57 58 59</td>\n",
       "    </tr>\n",
       "    <tr>\n",
       "      <th>2</th>\n",
       "      <td>423A1CA112E2</td>\n",
       "      <td>1.622628e+12</td>\n",
       "      <td>313.0</td>\n",
       "      <td>401.0</td>\n",
       "      <td>Some certain areas in the United States ban ph...</td>\n",
       "      <td>Evidence</td>\n",
       "      <td>Evidence 1</td>\n",
       "      <td>60 61 62 63 64 65 66 67 68 69 70 71 72 73 74 75</td>\n",
       "    </tr>\n",
       "    <tr>\n",
       "      <th>3</th>\n",
       "      <td>423A1CA112E2</td>\n",
       "      <td>1.622628e+12</td>\n",
       "      <td>402.0</td>\n",
       "      <td>758.0</td>\n",
       "      <td>When people have phones, they know about certa...</td>\n",
       "      <td>Evidence</td>\n",
       "      <td>Evidence 2</td>\n",
       "      <td>76 77 78 79 80 81 82 83 84 85 86 87 88 89 90 9...</td>\n",
       "    </tr>\n",
       "    <tr>\n",
       "      <th>4</th>\n",
       "      <td>423A1CA112E2</td>\n",
       "      <td>1.622628e+12</td>\n",
       "      <td>759.0</td>\n",
       "      <td>886.0</td>\n",
       "      <td>Driving is one of the way how to get around. P...</td>\n",
       "      <td>Claim</td>\n",
       "      <td>Claim 1</td>\n",
       "      <td>139 140 141 142 143 144 145 146 147 148 149 15...</td>\n",
       "    </tr>\n",
       "    <tr>\n",
       "      <th>5</th>\n",
       "      <td>423A1CA112E2</td>\n",
       "      <td>1.622628e+12</td>\n",
       "      <td>887.0</td>\n",
       "      <td>1150.0</td>\n",
       "      <td>That's why there's a thing that's called no te...</td>\n",
       "      <td>Evidence</td>\n",
       "      <td>Evidence 3</td>\n",
       "      <td>163 164 165 166 167 168 169 170 171 172 173 17...</td>\n",
       "    </tr>\n",
       "    <tr>\n",
       "      <th>6</th>\n",
       "      <td>423A1CA112E2</td>\n",
       "      <td>1.622628e+12</td>\n",
       "      <td>1151.0</td>\n",
       "      <td>1533.0</td>\n",
       "      <td>Sometimes on the news there is either an accid...</td>\n",
       "      <td>Evidence</td>\n",
       "      <td>Evidence 4</td>\n",
       "      <td>211 212 213 214 215 216 217 218 219 220 221 22...</td>\n",
       "    </tr>\n",
       "    <tr>\n",
       "      <th>7</th>\n",
       "      <td>423A1CA112E2</td>\n",
       "      <td>1.622628e+12</td>\n",
       "      <td>1534.0</td>\n",
       "      <td>1602.0</td>\n",
       "      <td>Phones are fine to use and it's also the best ...</td>\n",
       "      <td>Claim</td>\n",
       "      <td>Claim 2</td>\n",
       "      <td>282 283 284 285 286 287 288 289 290 291 292 29...</td>\n",
       "    </tr>\n",
       "    <tr>\n",
       "      <th>8</th>\n",
       "      <td>423A1CA112E2</td>\n",
       "      <td>1.622628e+12</td>\n",
       "      <td>1603.0</td>\n",
       "      <td>1890.0</td>\n",
       "      <td>If you go through a problem and you can't find...</td>\n",
       "      <td>Evidence</td>\n",
       "      <td>Evidence 5</td>\n",
       "      <td>297 298 299 300 301 302 303 304 305 306 307 30...</td>\n",
       "    </tr>\n",
       "    <tr>\n",
       "      <th>9</th>\n",
       "      <td>423A1CA112E2</td>\n",
       "      <td>1.622628e+12</td>\n",
       "      <td>1891.0</td>\n",
       "      <td>2027.0</td>\n",
       "      <td>The news always updated when people do somethi...</td>\n",
       "      <td>Concluding Statement</td>\n",
       "      <td>Concluding Statement 1</td>\n",
       "      <td>355 356 357 358 359 360 361 362 363 364 365 36...</td>\n",
       "    </tr>\n",
       "  </tbody>\n",
       "</table>\n",
       "</div>"
      ],
      "text/plain": [
       "             id  discourse_id  discourse_start  discourse_end  \\\n",
       "0  423A1CA112E2  1.622628e+12              8.0          229.0   \n",
       "1  423A1CA112E2  1.622628e+12            230.0          312.0   \n",
       "2  423A1CA112E2  1.622628e+12            313.0          401.0   \n",
       "3  423A1CA112E2  1.622628e+12            402.0          758.0   \n",
       "4  423A1CA112E2  1.622628e+12            759.0          886.0   \n",
       "5  423A1CA112E2  1.622628e+12            887.0         1150.0   \n",
       "6  423A1CA112E2  1.622628e+12           1151.0         1533.0   \n",
       "7  423A1CA112E2  1.622628e+12           1534.0         1602.0   \n",
       "8  423A1CA112E2  1.622628e+12           1603.0         1890.0   \n",
       "9  423A1CA112E2  1.622628e+12           1891.0         2027.0   \n",
       "\n",
       "                                      discourse_text        discourse_type  \\\n",
       "0  Modern humans today are always on their phone....                  Lead   \n",
       "1  They are some really bad consequences when stu...              Position   \n",
       "2  Some certain areas in the United States ban ph...              Evidence   \n",
       "3  When people have phones, they know about certa...              Evidence   \n",
       "4  Driving is one of the way how to get around. P...                 Claim   \n",
       "5  That's why there's a thing that's called no te...              Evidence   \n",
       "6  Sometimes on the news there is either an accid...              Evidence   \n",
       "7  Phones are fine to use and it's also the best ...                 Claim   \n",
       "8  If you go through a problem and you can't find...              Evidence   \n",
       "9  The news always updated when people do somethi...  Concluding Statement   \n",
       "\n",
       "       discourse_type_num                                   predictionstring  \n",
       "0                  Lead 1  1 2 3 4 5 6 7 8 9 10 11 12 13 14 15 16 17 18 1...  \n",
       "1              Position 1       45 46 47 48 49 50 51 52 53 54 55 56 57 58 59  \n",
       "2              Evidence 1    60 61 62 63 64 65 66 67 68 69 70 71 72 73 74 75  \n",
       "3              Evidence 2  76 77 78 79 80 81 82 83 84 85 86 87 88 89 90 9...  \n",
       "4                 Claim 1  139 140 141 142 143 144 145 146 147 148 149 15...  \n",
       "5              Evidence 3  163 164 165 166 167 168 169 170 171 172 173 17...  \n",
       "6              Evidence 4  211 212 213 214 215 216 217 218 219 220 221 22...  \n",
       "7                 Claim 2  282 283 284 285 286 287 288 289 290 291 292 29...  \n",
       "8              Evidence 5  297 298 299 300 301 302 303 304 305 306 307 30...  \n",
       "9  Concluding Statement 1  355 356 357 358 359 360 361 362 363 364 365 36...  "
      ]
     },
     "execution_count": 7,
     "metadata": {},
     "output_type": "execute_result"
    }
   ],
   "source": [
    "train[train['id'] == \"423A1CA112E2\"]"
   ]
  },
  {
   "cell_type": "code",
   "execution_count": 8,
   "id": "67bdc26f",
   "metadata": {
    "execution": {
     "iopub.execute_input": "2022-03-13T22:30:05.383671Z",
     "iopub.status.busy": "2022-03-13T22:30:05.382524Z",
     "iopub.status.idle": "2022-03-13T22:30:05.384508Z",
     "shell.execute_reply": "2022-03-13T22:30:05.385150Z",
     "shell.execute_reply.started": "2022-03-12T23:06:41.500688Z"
    },
    "papermill": {
     "duration": 0.030218,
     "end_time": "2022-03-13T22:30:05.385322",
     "exception": false,
     "start_time": "2022-03-13T22:30:05.355104",
     "status": "completed"
    },
    "tags": []
   },
   "outputs": [],
   "source": [
    "text_df = pd.DataFrame(columns = ['id', 'text'])"
   ]
  },
  {
   "cell_type": "code",
   "execution_count": 9,
   "id": "bfaa7035",
   "metadata": {
    "execution": {
     "iopub.execute_input": "2022-03-13T22:30:05.429540Z",
     "iopub.status.busy": "2022-03-13T22:30:05.428466Z",
     "iopub.status.idle": "2022-03-13T22:31:04.264729Z",
     "shell.execute_reply": "2022-03-13T22:31:04.265555Z",
     "shell.execute_reply.started": "2022-03-12T23:06:41.509871Z"
    },
    "papermill": {
     "duration": 58.861173,
     "end_time": "2022-03-13T22:31:04.265834",
     "exception": false,
     "start_time": "2022-03-13T22:30:05.404661",
     "status": "completed"
    },
    "tags": []
   },
   "outputs": [
    {
     "name": "stdout",
     "output_type": "stream",
     "text": [
      "CPU times: user 2.85 s, sys: 2.83 s, total: 5.68 s\n",
      "Wall time: 58.8 s\n"
     ]
    }
   ],
   "source": [
    "%%time\n",
    "texts = []\n",
    "for file in raw_text_files:\n",
    "    with open(f'/kaggle/input/feedback-prize-2021/train/{file}') as f:\n",
    "        texts.append({'id': file[:-4], 'text': f.read()})\n",
    "        #text_df.append(pd.Series({'id': file[:-4], 'text': f.read()}), ignore_index = True)\n",
    "texts_df = pd.DataFrame(texts)"
   ]
  },
  {
   "cell_type": "code",
   "execution_count": 10,
   "id": "167336ed",
   "metadata": {
    "execution": {
     "iopub.execute_input": "2022-03-13T22:31:04.314542Z",
     "iopub.status.busy": "2022-03-13T22:31:04.313777Z",
     "iopub.status.idle": "2022-03-13T22:31:04.317928Z",
     "shell.execute_reply": "2022-03-13T22:31:04.318443Z",
     "shell.execute_reply.started": "2022-03-12T23:07:29.510627Z"
    },
    "papermill": {
     "duration": 0.033282,
     "end_time": "2022-03-13T22:31:04.318624",
     "exception": false,
     "start_time": "2022-03-13T22:31:04.285342",
     "status": "completed"
    },
    "tags": []
   },
   "outputs": [
    {
     "data": {
      "text/html": [
       "<div>\n",
       "<style scoped>\n",
       "    .dataframe tbody tr th:only-of-type {\n",
       "        vertical-align: middle;\n",
       "    }\n",
       "\n",
       "    .dataframe tbody tr th {\n",
       "        vertical-align: top;\n",
       "    }\n",
       "\n",
       "    .dataframe thead th {\n",
       "        text-align: right;\n",
       "    }\n",
       "</style>\n",
       "<table border=\"1\" class=\"dataframe\">\n",
       "  <thead>\n",
       "    <tr style=\"text-align: right;\">\n",
       "      <th></th>\n",
       "      <th>id</th>\n",
       "      <th>text</th>\n",
       "    </tr>\n",
       "  </thead>\n",
       "  <tbody>\n",
       "    <tr>\n",
       "      <th>0</th>\n",
       "      <td>62C57C524CD2</td>\n",
       "      <td>I think we should be able to play in a sport i...</td>\n",
       "    </tr>\n",
       "    <tr>\n",
       "      <th>1</th>\n",
       "      <td>80667AD3FFD8</td>\n",
       "      <td>Some schools require summer projects for stude...</td>\n",
       "    </tr>\n",
       "    <tr>\n",
       "      <th>2</th>\n",
       "      <td>21868C40B94F</td>\n",
       "      <td>Driverless cars have been argued and talked ab...</td>\n",
       "    </tr>\n",
       "    <tr>\n",
       "      <th>3</th>\n",
       "      <td>87A6EF3113C6</td>\n",
       "      <td>The author of \"The Challenge of Exploring Venu...</td>\n",
       "    </tr>\n",
       "    <tr>\n",
       "      <th>4</th>\n",
       "      <td>24687D08CFDA</td>\n",
       "      <td>Wow, from the mar really look like humans face...</td>\n",
       "    </tr>\n",
       "  </tbody>\n",
       "</table>\n",
       "</div>"
      ],
      "text/plain": [
       "             id                                               text\n",
       "0  62C57C524CD2  I think we should be able to play in a sport i...\n",
       "1  80667AD3FFD8  Some schools require summer projects for stude...\n",
       "2  21868C40B94F  Driverless cars have been argued and talked ab...\n",
       "3  87A6EF3113C6  The author of \"The Challenge of Exploring Venu...\n",
       "4  24687D08CFDA  Wow, from the mar really look like humans face..."
      ]
     },
     "execution_count": 10,
     "metadata": {},
     "output_type": "execute_result"
    }
   ],
   "source": [
    "texts_df.head()"
   ]
  },
  {
   "cell_type": "code",
   "execution_count": null,
   "id": "8025c85c",
   "metadata": {
    "papermill": {
     "duration": 0.019957,
     "end_time": "2022-03-13T22:31:04.359441",
     "exception": false,
     "start_time": "2022-03-13T22:31:04.339484",
     "status": "completed"
    },
    "tags": []
   },
   "outputs": [],
   "source": []
  },
  {
   "cell_type": "code",
   "execution_count": null,
   "id": "0a156a30",
   "metadata": {
    "papermill": {
     "duration": 0.01956,
     "end_time": "2022-03-13T22:31:04.398011",
     "exception": false,
     "start_time": "2022-03-13T22:31:04.378451",
     "status": "completed"
    },
    "tags": []
   },
   "outputs": [],
   "source": []
  },
  {
   "cell_type": "code",
   "execution_count": null,
   "id": "dc0d9a1f",
   "metadata": {
    "papermill": {
     "duration": 0.019472,
     "end_time": "2022-03-13T22:31:04.436299",
     "exception": false,
     "start_time": "2022-03-13T22:31:04.416827",
     "status": "completed"
    },
    "tags": []
   },
   "outputs": [],
   "source": []
  }
 ],
 "metadata": {
  "kernelspec": {
   "display_name": "Python 3",
   "language": "python",
   "name": "python3"
  },
  "language_info": {
   "codemirror_mode": {
    "name": "ipython",
    "version": 3
   },
   "file_extension": ".py",
   "mimetype": "text/x-python",
   "name": "python",
   "nbconvert_exporter": "python",
   "pygments_lexer": "ipython3",
   "version": "3.7.12"
  },
  "papermill": {
   "default_parameters": {},
   "duration": 91.929251,
   "end_time": "2022-03-13T22:31:07.186899",
   "environment_variables": {},
   "exception": null,
   "input_path": "__notebook__.ipynb",
   "output_path": "__notebook__.ipynb",
   "parameters": {},
   "start_time": "2022-03-13T22:29:35.257648",
   "version": "2.3.3"
  }
 },
 "nbformat": 4,
 "nbformat_minor": 5
}
