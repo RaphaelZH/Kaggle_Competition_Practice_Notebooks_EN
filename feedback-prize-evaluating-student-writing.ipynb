{
 "cells": [
  {
   "cell_type": "markdown",
   "id": "bd7a29d2",
   "metadata": {
    "papermill": {
     "duration": 0.02962,
     "end_time": "2022-03-15T17:27:42.804891",
     "exception": false,
     "start_time": "2022-03-15T17:27:42.775271",
     "status": "completed"
    },
    "tags": []
   },
   "source": []
  },
  {
   "cell_type": "markdown",
   "id": "335456a9",
   "metadata": {
    "papermill": {
     "duration": 0.028555,
     "end_time": "2022-03-15T17:27:42.864963",
     "exception": false,
     "start_time": "2022-03-15T17:27:42.836408",
     "status": "completed"
    },
    "tags": []
   },
   "source": [
    "# Libraries Import\n",
    "\n",
    "## Regular Libraries"
   ]
  },
  {
   "cell_type": "code",
   "execution_count": 1,
   "id": "3971c4b4",
   "metadata": {
    "execution": {
     "iopub.execute_input": "2022-03-15T17:27:42.928263Z",
     "iopub.status.busy": "2022-03-15T17:27:42.926816Z",
     "iopub.status.idle": "2022-03-15T17:27:42.935653Z",
     "shell.execute_reply": "2022-03-15T17:27:42.935175Z",
     "shell.execute_reply.started": "2022-03-15T17:20:19.092225Z"
    },
    "papermill": {
     "duration": 0.042117,
     "end_time": "2022-03-15T17:27:42.935807",
     "exception": false,
     "start_time": "2022-03-15T17:27:42.893690",
     "status": "completed"
    },
    "tags": []
   },
   "outputs": [],
   "source": [
    "import numpy as np\n",
    "import pandas as pd\n",
    "import os"
   ]
  },
  {
   "cell_type": "markdown",
   "id": "2920f905",
   "metadata": {
    "papermill": {
     "duration": 0.030244,
     "end_time": "2022-03-15T17:27:42.995240",
     "exception": false,
     "start_time": "2022-03-15T17:27:42.964996",
     "status": "completed"
    },
    "tags": []
   },
   "source": [
    "## Auxiliary Library"
   ]
  },
  {
   "cell_type": "code",
   "execution_count": 2,
   "id": "dfe00963",
   "metadata": {
    "execution": {
     "iopub.execute_input": "2022-03-15T17:27:43.057937Z",
     "iopub.status.busy": "2022-03-15T17:27:43.057155Z",
     "iopub.status.idle": "2022-03-15T17:27:43.059502Z",
     "shell.execute_reply": "2022-03-15T17:27:43.059113Z",
     "shell.execute_reply.started": "2022-03-15T17:20:19.098258Z"
    },
    "papermill": {
     "duration": 0.035262,
     "end_time": "2022-03-15T17:27:43.059607",
     "exception": false,
     "start_time": "2022-03-15T17:27:43.024345",
     "status": "completed"
    },
    "tags": []
   },
   "outputs": [],
   "source": [
    "from glob import glob\n",
    "\n",
    "from tqdm import tqdm\n",
    "\n",
    "import random"
   ]
  },
  {
   "cell_type": "markdown",
   "id": "23ec1703",
   "metadata": {
    "papermill": {
     "duration": 0.031317,
     "end_time": "2022-03-15T17:27:43.120311",
     "exception": false,
     "start_time": "2022-03-15T17:27:43.088994",
     "status": "completed"
    },
    "tags": []
   },
   "source": [
    "## Data Visualization Library"
   ]
  },
  {
   "cell_type": "code",
   "execution_count": 3,
   "id": "4d800fbb",
   "metadata": {
    "execution": {
     "iopub.execute_input": "2022-03-15T17:27:43.182025Z",
     "iopub.status.busy": "2022-03-15T17:27:43.181216Z",
     "iopub.status.idle": "2022-03-15T17:27:43.183153Z",
     "shell.execute_reply": "2022-03-15T17:27:43.183548Z",
     "shell.execute_reply.started": "2022-03-15T17:20:19.112631Z"
    },
    "papermill": {
     "duration": 0.034899,
     "end_time": "2022-03-15T17:27:43.183668",
     "exception": false,
     "start_time": "2022-03-15T17:27:43.148769",
     "status": "completed"
    },
    "tags": []
   },
   "outputs": [],
   "source": [
    "import matplotlib.pyplot as plt"
   ]
  },
  {
   "cell_type": "code",
   "execution_count": 4,
   "id": "144db572",
   "metadata": {
    "execution": {
     "iopub.execute_input": "2022-03-15T17:27:43.248092Z",
     "iopub.status.busy": "2022-03-15T17:27:43.247479Z",
     "iopub.status.idle": "2022-03-15T17:28:00.113643Z",
     "shell.execute_reply": "2022-03-15T17:28:00.112687Z",
     "shell.execute_reply.started": "2022-03-15T17:20:19.124852Z"
    },
    "papermill": {
     "duration": 16.899487,
     "end_time": "2022-03-15T17:28:00.113817",
     "exception": false,
     "start_time": "2022-03-15T17:27:43.214330",
     "status": "completed"
    },
    "tags": []
   },
   "outputs": [],
   "source": [
    "import tensorflow as tf\n",
    "from transformers import *"
   ]
  },
  {
   "cell_type": "code",
   "execution_count": 5,
   "id": "0c9c097c",
   "metadata": {
    "execution": {
     "iopub.execute_input": "2022-03-15T17:28:00.177099Z",
     "iopub.status.busy": "2022-03-15T17:28:00.176504Z",
     "iopub.status.idle": "2022-03-15T17:28:00.950729Z",
     "shell.execute_reply": "2022-03-15T17:28:00.950200Z",
     "shell.execute_reply.started": "2022-03-15T17:20:19.155295Z"
    },
    "papermill": {
     "duration": 0.807697,
     "end_time": "2022-03-15T17:28:00.950885",
     "exception": false,
     "start_time": "2022-03-15T17:28:00.143188",
     "status": "completed"
    },
    "tags": []
   },
   "outputs": [],
   "source": [
    "import torch\n",
    "torch.cuda.empty_cache()\n",
    "from torch.utils.data import Dataset,DataLoader\n",
    "from transformers import RobertaTokenizerFast, RobertaForTokenClassification\n",
    "\n",
    "import pytorch_lightning as pl\n",
    "\n",
    "import pdb\n",
    "from torch import cuda\n",
    "from sklearn.metrics import accuracy_score\n",
    "\n",
    "MODEL_NAME = \"../input/roberta-base\""
   ]
  },
  {
   "cell_type": "markdown",
   "id": "f2cfd12b",
   "metadata": {
    "papermill": {
     "duration": 0.029125,
     "end_time": "2022-03-15T17:28:01.008569",
     "exception": false,
     "start_time": "2022-03-15T17:28:00.979444",
     "status": "completed"
    },
    "tags": []
   },
   "source": [
    "---"
   ]
  },
  {
   "cell_type": "markdown",
   "id": "f1ac7e0d",
   "metadata": {
    "papermill": {
     "duration": 0.028444,
     "end_time": "2022-03-15T17:28:01.065990",
     "exception": false,
     "start_time": "2022-03-15T17:28:01.037546",
     "status": "completed"
    },
    "tags": []
   },
   "source": [
    "# Data Extraction\n",
    "\n",
    "## Main Data"
   ]
  },
  {
   "cell_type": "code",
   "execution_count": 6,
   "id": "43037872",
   "metadata": {
    "execution": {
     "iopub.execute_input": "2022-03-15T17:28:01.129077Z",
     "iopub.status.busy": "2022-03-15T17:28:01.126605Z",
     "iopub.status.idle": "2022-03-15T17:28:02.714189Z",
     "shell.execute_reply": "2022-03-15T17:28:02.713651Z",
     "shell.execute_reply.started": "2022-03-15T17:20:19.168701Z"
    },
    "papermill": {
     "duration": 1.619509,
     "end_time": "2022-03-15T17:28:02.714319",
     "exception": false,
     "start_time": "2022-03-15T17:28:01.094810",
     "status": "completed"
    },
    "tags": []
   },
   "outputs": [],
   "source": [
    "train = pd.read_csv('../input/feedback-prize-2021/train.csv')\n",
    "sample_submission = pd.read_csv('../input/feedback-prize-2021/sample_submission.csv')"
   ]
  },
  {
   "cell_type": "code",
   "execution_count": 7,
   "id": "a7c53b39",
   "metadata": {
    "execution": {
     "iopub.execute_input": "2022-03-15T17:28:02.780469Z",
     "iopub.status.busy": "2022-03-15T17:28:02.774234Z",
     "iopub.status.idle": "2022-03-15T17:28:02.798012Z",
     "shell.execute_reply": "2022-03-15T17:28:02.798415Z",
     "shell.execute_reply.started": "2022-03-15T17:20:19.966617Z"
    },
    "papermill": {
     "duration": 0.054783,
     "end_time": "2022-03-15T17:28:02.798538",
     "exception": false,
     "start_time": "2022-03-15T17:28:02.743755",
     "status": "completed"
    },
    "tags": []
   },
   "outputs": [
    {
     "name": "stdout",
     "output_type": "stream",
     "text": [
      "(144293, 8)\n"
     ]
    },
    {
     "data": {
      "text/html": [
       "<div>\n",
       "<style scoped>\n",
       "    .dataframe tbody tr th:only-of-type {\n",
       "        vertical-align: middle;\n",
       "    }\n",
       "\n",
       "    .dataframe tbody tr th {\n",
       "        vertical-align: top;\n",
       "    }\n",
       "\n",
       "    .dataframe thead th {\n",
       "        text-align: right;\n",
       "    }\n",
       "</style>\n",
       "<table border=\"1\" class=\"dataframe\">\n",
       "  <thead>\n",
       "    <tr style=\"text-align: right;\">\n",
       "      <th></th>\n",
       "      <th>id</th>\n",
       "      <th>discourse_id</th>\n",
       "      <th>discourse_start</th>\n",
       "      <th>discourse_end</th>\n",
       "      <th>discourse_text</th>\n",
       "      <th>discourse_type</th>\n",
       "      <th>discourse_type_num</th>\n",
       "      <th>predictionstring</th>\n",
       "    </tr>\n",
       "  </thead>\n",
       "  <tbody>\n",
       "    <tr>\n",
       "      <th>0</th>\n",
       "      <td>423A1CA112E2</td>\n",
       "      <td>1.622628e+12</td>\n",
       "      <td>8.0</td>\n",
       "      <td>229.0</td>\n",
       "      <td>Modern humans today are always on their phone....</td>\n",
       "      <td>Lead</td>\n",
       "      <td>Lead 1</td>\n",
       "      <td>1 2 3 4 5 6 7 8 9 10 11 12 13 14 15 16 17 18 1...</td>\n",
       "    </tr>\n",
       "    <tr>\n",
       "      <th>1</th>\n",
       "      <td>423A1CA112E2</td>\n",
       "      <td>1.622628e+12</td>\n",
       "      <td>230.0</td>\n",
       "      <td>312.0</td>\n",
       "      <td>They are some really bad consequences when stu...</td>\n",
       "      <td>Position</td>\n",
       "      <td>Position 1</td>\n",
       "      <td>45 46 47 48 49 50 51 52 53 54 55 56 57 58 59</td>\n",
       "    </tr>\n",
       "    <tr>\n",
       "      <th>2</th>\n",
       "      <td>423A1CA112E2</td>\n",
       "      <td>1.622628e+12</td>\n",
       "      <td>313.0</td>\n",
       "      <td>401.0</td>\n",
       "      <td>Some certain areas in the United States ban ph...</td>\n",
       "      <td>Evidence</td>\n",
       "      <td>Evidence 1</td>\n",
       "      <td>60 61 62 63 64 65 66 67 68 69 70 71 72 73 74 75</td>\n",
       "    </tr>\n",
       "    <tr>\n",
       "      <th>3</th>\n",
       "      <td>423A1CA112E2</td>\n",
       "      <td>1.622628e+12</td>\n",
       "      <td>402.0</td>\n",
       "      <td>758.0</td>\n",
       "      <td>When people have phones, they know about certa...</td>\n",
       "      <td>Evidence</td>\n",
       "      <td>Evidence 2</td>\n",
       "      <td>76 77 78 79 80 81 82 83 84 85 86 87 88 89 90 9...</td>\n",
       "    </tr>\n",
       "    <tr>\n",
       "      <th>4</th>\n",
       "      <td>423A1CA112E2</td>\n",
       "      <td>1.622628e+12</td>\n",
       "      <td>759.0</td>\n",
       "      <td>886.0</td>\n",
       "      <td>Driving is one of the way how to get around. P...</td>\n",
       "      <td>Claim</td>\n",
       "      <td>Claim 1</td>\n",
       "      <td>139 140 141 142 143 144 145 146 147 148 149 15...</td>\n",
       "    </tr>\n",
       "  </tbody>\n",
       "</table>\n",
       "</div>"
      ],
      "text/plain": [
       "             id  discourse_id  discourse_start  discourse_end  \\\n",
       "0  423A1CA112E2  1.622628e+12              8.0          229.0   \n",
       "1  423A1CA112E2  1.622628e+12            230.0          312.0   \n",
       "2  423A1CA112E2  1.622628e+12            313.0          401.0   \n",
       "3  423A1CA112E2  1.622628e+12            402.0          758.0   \n",
       "4  423A1CA112E2  1.622628e+12            759.0          886.0   \n",
       "\n",
       "                                      discourse_text discourse_type  \\\n",
       "0  Modern humans today are always on their phone....           Lead   \n",
       "1  They are some really bad consequences when stu...       Position   \n",
       "2  Some certain areas in the United States ban ph...       Evidence   \n",
       "3  When people have phones, they know about certa...       Evidence   \n",
       "4  Driving is one of the way how to get around. P...          Claim   \n",
       "\n",
       "  discourse_type_num                                   predictionstring  \n",
       "0             Lead 1  1 2 3 4 5 6 7 8 9 10 11 12 13 14 15 16 17 18 1...  \n",
       "1         Position 1       45 46 47 48 49 50 51 52 53 54 55 56 57 58 59  \n",
       "2         Evidence 1    60 61 62 63 64 65 66 67 68 69 70 71 72 73 74 75  \n",
       "3         Evidence 2  76 77 78 79 80 81 82 83 84 85 86 87 88 89 90 9...  \n",
       "4            Claim 1  139 140 141 142 143 144 145 146 147 148 149 15...  "
      ]
     },
     "execution_count": 7,
     "metadata": {},
     "output_type": "execute_result"
    }
   ],
   "source": [
    "print(train.shape)\n",
    "train.head()"
   ]
  },
  {
   "cell_type": "code",
   "execution_count": null,
   "id": "2eb061a6",
   "metadata": {
    "papermill": {
     "duration": 0.029732,
     "end_time": "2022-03-15T17:28:02.857758",
     "exception": false,
     "start_time": "2022-03-15T17:28:02.828026",
     "status": "completed"
    },
    "tags": []
   },
   "outputs": [],
   "source": []
  },
  {
   "cell_type": "code",
   "execution_count": 8,
   "id": "34aa06ae",
   "metadata": {
    "execution": {
     "iopub.execute_input": "2022-03-15T17:28:02.920940Z",
     "iopub.status.busy": "2022-03-15T17:28:02.920373Z",
     "iopub.status.idle": "2022-03-15T17:28:02.924788Z",
     "shell.execute_reply": "2022-03-15T17:28:02.924170Z",
     "shell.execute_reply.started": "2022-03-15T17:20:19.983884Z"
    },
    "papermill": {
     "duration": 0.037907,
     "end_time": "2022-03-15T17:28:02.924929",
     "exception": false,
     "start_time": "2022-03-15T17:28:02.887022",
     "status": "completed"
    },
    "tags": []
   },
   "outputs": [
    {
     "name": "stdout",
     "output_type": "stream",
     "text": [
      "Training data consists of 144293 annotaions\n"
     ]
    }
   ],
   "source": [
    "print(f'Training data consists of {train.shape[0]} annotaions')"
   ]
  },
  {
   "cell_type": "code",
   "execution_count": 9,
   "id": "ac0d1186",
   "metadata": {
    "execution": {
     "iopub.execute_input": "2022-03-15T17:28:03.008198Z",
     "iopub.status.busy": "2022-03-15T17:28:02.986587Z",
     "iopub.status.idle": "2022-03-15T17:28:03.100628Z",
     "shell.execute_reply": "2022-03-15T17:28:03.101233Z",
     "shell.execute_reply.started": "2022-03-15T17:20:19.993262Z"
    },
    "papermill": {
     "duration": 0.145975,
     "end_time": "2022-03-15T17:28:03.101433",
     "exception": false,
     "start_time": "2022-03-15T17:28:02.955458",
     "status": "completed"
    },
    "tags": []
   },
   "outputs": [
    {
     "name": "stdout",
     "output_type": "stream",
     "text": [
      "50355\n",
      "------------------------------------\n",
      "44\n",
      "['Lead 1' 'Position 1' 'Evidence 1' 'Evidence 2' 'Claim 1' 'Evidence 3'\n",
      " 'Evidence 4' 'Claim 2' 'Evidence 5' 'Concluding Statement 1'\n",
      " 'Counterclaim 1' 'Rebuttal 1' 'Claim 3' 'Claim 4' 'Claim 5' 'Claim 6'\n",
      " 'Claim 7' 'Counterclaim 2' 'Rebuttal 2' 'Counterclaim 3' 'Rebuttal 3'\n",
      " 'Evidence 6' 'Lead 2' 'Counterclaim 4' 'Counterclaim 5' 'Counterclaim 6'\n",
      " 'Evidence 7' 'Claim 8' 'Evidence 8' 'Concluding Statement 2' 'Rebuttal 4'\n",
      " 'Rebuttal 5' 'Claim 9' 'Position 2' 'Claim 10' 'Claim 11' 'Claim 12'\n",
      " 'Evidence 9' 'Concluding Statement 3' 'Concluding Statement 4'\n",
      " 'Evidence 10' 'Evidence 11' 'Rebuttal 6' 'Evidence 12']\n",
      "------------------------------------\n",
      "['Lead' 'Position' 'Evidence' 'Claim' 'Concluding Statement'\n",
      " 'Counterclaim' 'Rebuttal']\n"
     ]
    }
   ],
   "source": [
    "print(train[\"predictionstring\"].nunique())\n",
    "print(\"------------------------------------\")\n",
    "print(train[\"discourse_type_num\"].nunique())\n",
    "print(train[\"discourse_type_num\"].unique())\n",
    "print(\"------------------------------------\")\n",
    "print(train[\"discourse_type\"].unique())"
   ]
  },
  {
   "cell_type": "code",
   "execution_count": 10,
   "id": "9df21c3d",
   "metadata": {
    "execution": {
     "iopub.execute_input": "2022-03-15T17:28:03.175399Z",
     "iopub.status.busy": "2022-03-15T17:28:03.170050Z",
     "iopub.status.idle": "2022-03-15T17:28:03.597324Z",
     "shell.execute_reply": "2022-03-15T17:28:03.596814Z",
     "shell.execute_reply.started": "2022-03-15T17:20:20.103553Z"
    },
    "papermill": {
     "duration": 0.464276,
     "end_time": "2022-03-15T17:28:03.597452",
     "exception": false,
     "start_time": "2022-03-15T17:28:03.133176",
     "status": "completed"
    },
    "tags": []
   },
   "outputs": [],
   "source": [
    "train[\"discourse_len\"] = train[\"discourse_text\"].apply(lambda x:len(x.split()))"
   ]
  },
  {
   "cell_type": "code",
   "execution_count": 11,
   "id": "1eb1cb25",
   "metadata": {
    "execution": {
     "iopub.execute_input": "2022-03-15T17:28:03.664005Z",
     "iopub.status.busy": "2022-03-15T17:28:03.663248Z",
     "iopub.status.idle": "2022-03-15T17:28:03.994703Z",
     "shell.execute_reply": "2022-03-15T17:28:03.994196Z",
     "shell.execute_reply.started": "2022-03-15T17:20:20.536897Z"
    },
    "papermill": {
     "duration": 0.367302,
     "end_time": "2022-03-15T17:28:03.994956",
     "exception": false,
     "start_time": "2022-03-15T17:28:03.627654",
     "status": "completed"
    },
    "tags": []
   },
   "outputs": [],
   "source": [
    "train[\"predictionstring_len\"] = train[\"predictionstring\"].apply(lambda x:len(x.split()))"
   ]
  },
  {
   "cell_type": "code",
   "execution_count": 12,
   "id": "3e962d73",
   "metadata": {
    "execution": {
     "iopub.execute_input": "2022-03-15T17:28:04.060703Z",
     "iopub.status.busy": "2022-03-15T17:28:04.060201Z",
     "iopub.status.idle": "2022-03-15T17:28:04.063656Z",
     "shell.execute_reply": "2022-03-15T17:28:04.063220Z",
     "shell.execute_reply.started": "2022-03-15T17:20:20.869578Z"
    },
    "papermill": {
     "duration": 0.038229,
     "end_time": "2022-03-15T17:28:04.063758",
     "exception": false,
     "start_time": "2022-03-15T17:28:04.025529",
     "status": "completed"
    },
    "tags": []
   },
   "outputs": [],
   "source": [
    "train[\"len_predict\"] = 0"
   ]
  },
  {
   "cell_type": "code",
   "execution_count": 13,
   "id": "bbbf53b8",
   "metadata": {
    "execution": {
     "iopub.execute_input": "2022-03-15T17:28:04.131947Z",
     "iopub.status.busy": "2022-03-15T17:28:04.131388Z",
     "iopub.status.idle": "2022-03-15T17:28:40.031414Z",
     "shell.execute_reply": "2022-03-15T17:28:40.032371Z",
     "shell.execute_reply.started": "2022-03-15T17:20:20.877430Z"
    },
    "papermill": {
     "duration": 35.937017,
     "end_time": "2022-03-15T17:28:40.032585",
     "exception": false,
     "start_time": "2022-03-15T17:28:04.095568",
     "status": "completed"
    },
    "tags": []
   },
   "outputs": [
    {
     "name": "stderr",
     "output_type": "stream",
     "text": [
      "/opt/conda/lib/python3.7/site-packages/ipykernel_launcher.py:3: SettingWithCopyWarning: \n",
      "A value is trying to be set on a copy of a slice from a DataFrame\n",
      "\n",
      "See the caveats in the documentation: https://pandas.pydata.org/pandas-docs/stable/user_guide/indexing.html#returning-a-view-versus-a-copy\n",
      "  This is separate from the ipykernel package so we can avoid doing imports until\n",
      "/opt/conda/lib/python3.7/site-packages/ipykernel_launcher.py:5: SettingWithCopyWarning: \n",
      "A value is trying to be set on a copy of a slice from a DataFrame\n",
      "\n",
      "See the caveats in the documentation: https://pandas.pydata.org/pandas-docs/stable/user_guide/indexing.html#returning-a-view-versus-a-copy\n",
      "  \"\"\"\n"
     ]
    }
   ],
   "source": [
    "for i in range(0,len(train[\"discourse_len\"])):\n",
    "    if train[\"discourse_len\"][i] == train[\"predictionstring_len\"][i]:\n",
    "        train[\"len_predict\"][i] = 0\n",
    "    else:\n",
    "        train[\"len_predict\"][i] = 1"
   ]
  },
  {
   "cell_type": "code",
   "execution_count": 14,
   "id": "6613a180",
   "metadata": {
    "execution": {
     "iopub.execute_input": "2022-03-15T17:28:40.140340Z",
     "iopub.status.busy": "2022-03-15T17:28:40.139565Z",
     "iopub.status.idle": "2022-03-15T17:28:40.144418Z",
     "shell.execute_reply": "2022-03-15T17:28:40.144984Z",
     "shell.execute_reply.started": "2022-03-15T17:20:55.851381Z"
    },
    "papermill": {
     "duration": 0.062616,
     "end_time": "2022-03-15T17:28:40.145159",
     "exception": false,
     "start_time": "2022-03-15T17:28:40.082543",
     "status": "completed"
    },
    "tags": []
   },
   "outputs": [
    {
     "data": {
      "text/plain": [
       "468"
      ]
     },
     "execution_count": 14,
     "metadata": {},
     "output_type": "execute_result"
    }
   ],
   "source": [
    "train[\"len_predict\"].sum()"
   ]
  },
  {
   "cell_type": "code",
   "execution_count": 15,
   "id": "5b1d2fd2",
   "metadata": {
    "execution": {
     "iopub.execute_input": "2022-03-15T17:28:40.257513Z",
     "iopub.status.busy": "2022-03-15T17:28:40.256786Z",
     "iopub.status.idle": "2022-03-15T17:28:40.269555Z",
     "shell.execute_reply": "2022-03-15T17:28:40.270499Z",
     "shell.execute_reply.started": "2022-03-15T17:20:55.860921Z"
    },
    "papermill": {
     "duration": 0.074778,
     "end_time": "2022-03-15T17:28:40.270669",
     "exception": false,
     "start_time": "2022-03-15T17:28:40.195891",
     "status": "completed"
    },
    "tags": []
   },
   "outputs": [
    {
     "data": {
      "text/html": [
       "<div>\n",
       "<style scoped>\n",
       "    .dataframe tbody tr th:only-of-type {\n",
       "        vertical-align: middle;\n",
       "    }\n",
       "\n",
       "    .dataframe tbody tr th {\n",
       "        vertical-align: top;\n",
       "    }\n",
       "\n",
       "    .dataframe thead th {\n",
       "        text-align: right;\n",
       "    }\n",
       "</style>\n",
       "<table border=\"1\" class=\"dataframe\">\n",
       "  <thead>\n",
       "    <tr style=\"text-align: right;\">\n",
       "      <th></th>\n",
       "      <th>id</th>\n",
       "      <th>discourse_id</th>\n",
       "      <th>discourse_start</th>\n",
       "      <th>discourse_end</th>\n",
       "      <th>discourse_text</th>\n",
       "      <th>discourse_type</th>\n",
       "      <th>discourse_type_num</th>\n",
       "      <th>predictionstring</th>\n",
       "      <th>discourse_len</th>\n",
       "      <th>predictionstring_len</th>\n",
       "      <th>len_predict</th>\n",
       "    </tr>\n",
       "  </thead>\n",
       "  <tbody>\n",
       "    <tr>\n",
       "      <th>0</th>\n",
       "      <td>423A1CA112E2</td>\n",
       "      <td>1.622628e+12</td>\n",
       "      <td>8.0</td>\n",
       "      <td>229.0</td>\n",
       "      <td>Modern humans today are always on their phone....</td>\n",
       "      <td>Lead</td>\n",
       "      <td>Lead 1</td>\n",
       "      <td>1 2 3 4 5 6 7 8 9 10 11 12 13 14 15 16 17 18 1...</td>\n",
       "      <td>44</td>\n",
       "      <td>44</td>\n",
       "      <td>0</td>\n",
       "    </tr>\n",
       "    <tr>\n",
       "      <th>1</th>\n",
       "      <td>423A1CA112E2</td>\n",
       "      <td>1.622628e+12</td>\n",
       "      <td>230.0</td>\n",
       "      <td>312.0</td>\n",
       "      <td>They are some really bad consequences when stu...</td>\n",
       "      <td>Position</td>\n",
       "      <td>Position 1</td>\n",
       "      <td>45 46 47 48 49 50 51 52 53 54 55 56 57 58 59</td>\n",
       "      <td>15</td>\n",
       "      <td>15</td>\n",
       "      <td>0</td>\n",
       "    </tr>\n",
       "    <tr>\n",
       "      <th>2</th>\n",
       "      <td>423A1CA112E2</td>\n",
       "      <td>1.622628e+12</td>\n",
       "      <td>313.0</td>\n",
       "      <td>401.0</td>\n",
       "      <td>Some certain areas in the United States ban ph...</td>\n",
       "      <td>Evidence</td>\n",
       "      <td>Evidence 1</td>\n",
       "      <td>60 61 62 63 64 65 66 67 68 69 70 71 72 73 74 75</td>\n",
       "      <td>16</td>\n",
       "      <td>16</td>\n",
       "      <td>0</td>\n",
       "    </tr>\n",
       "    <tr>\n",
       "      <th>3</th>\n",
       "      <td>423A1CA112E2</td>\n",
       "      <td>1.622628e+12</td>\n",
       "      <td>402.0</td>\n",
       "      <td>758.0</td>\n",
       "      <td>When people have phones, they know about certa...</td>\n",
       "      <td>Evidence</td>\n",
       "      <td>Evidence 2</td>\n",
       "      <td>76 77 78 79 80 81 82 83 84 85 86 87 88 89 90 9...</td>\n",
       "      <td>63</td>\n",
       "      <td>63</td>\n",
       "      <td>0</td>\n",
       "    </tr>\n",
       "    <tr>\n",
       "      <th>4</th>\n",
       "      <td>423A1CA112E2</td>\n",
       "      <td>1.622628e+12</td>\n",
       "      <td>759.0</td>\n",
       "      <td>886.0</td>\n",
       "      <td>Driving is one of the way how to get around. P...</td>\n",
       "      <td>Claim</td>\n",
       "      <td>Claim 1</td>\n",
       "      <td>139 140 141 142 143 144 145 146 147 148 149 15...</td>\n",
       "      <td>24</td>\n",
       "      <td>24</td>\n",
       "      <td>0</td>\n",
       "    </tr>\n",
       "  </tbody>\n",
       "</table>\n",
       "</div>"
      ],
      "text/plain": [
       "             id  discourse_id  discourse_start  discourse_end  \\\n",
       "0  423A1CA112E2  1.622628e+12              8.0          229.0   \n",
       "1  423A1CA112E2  1.622628e+12            230.0          312.0   \n",
       "2  423A1CA112E2  1.622628e+12            313.0          401.0   \n",
       "3  423A1CA112E2  1.622628e+12            402.0          758.0   \n",
       "4  423A1CA112E2  1.622628e+12            759.0          886.0   \n",
       "\n",
       "                                      discourse_text discourse_type  \\\n",
       "0  Modern humans today are always on their phone....           Lead   \n",
       "1  They are some really bad consequences when stu...       Position   \n",
       "2  Some certain areas in the United States ban ph...       Evidence   \n",
       "3  When people have phones, they know about certa...       Evidence   \n",
       "4  Driving is one of the way how to get around. P...          Claim   \n",
       "\n",
       "  discourse_type_num                                   predictionstring  \\\n",
       "0             Lead 1  1 2 3 4 5 6 7 8 9 10 11 12 13 14 15 16 17 18 1...   \n",
       "1         Position 1       45 46 47 48 49 50 51 52 53 54 55 56 57 58 59   \n",
       "2         Evidence 1    60 61 62 63 64 65 66 67 68 69 70 71 72 73 74 75   \n",
       "3         Evidence 2  76 77 78 79 80 81 82 83 84 85 86 87 88 89 90 9...   \n",
       "4            Claim 1  139 140 141 142 143 144 145 146 147 148 149 15...   \n",
       "\n",
       "   discourse_len  predictionstring_len  len_predict  \n",
       "0             44                    44            0  \n",
       "1             15                    15            0  \n",
       "2             16                    16            0  \n",
       "3             63                    63            0  \n",
       "4             24                    24            0  "
      ]
     },
     "execution_count": 15,
     "metadata": {},
     "output_type": "execute_result"
    }
   ],
   "source": [
    "train.head()"
   ]
  },
  {
   "cell_type": "code",
   "execution_count": 16,
   "id": "2e63cc1a",
   "metadata": {
    "execution": {
     "iopub.execute_input": "2022-03-15T17:28:40.379083Z",
     "iopub.status.busy": "2022-03-15T17:28:40.378233Z",
     "iopub.status.idle": "2022-03-15T17:28:40.380391Z",
     "shell.execute_reply": "2022-03-15T17:28:40.379761Z",
     "shell.execute_reply.started": "2022-03-15T17:20:55.879992Z"
    },
    "papermill": {
     "duration": 0.05871,
     "end_time": "2022-03-15T17:28:40.380540",
     "exception": false,
     "start_time": "2022-03-15T17:28:40.321830",
     "status": "completed"
    },
    "tags": []
   },
   "outputs": [],
   "source": [
    "#test_names, test_texts = [], []\n",
    "#for f in tqdm(list(os.listdir('../input/feedback-prize-2021/test'))):\n",
    "#    test_names.append(f.replace('.txt', ''))\n",
    "#    test_texts.append(open('../input/feedback-prize-2021/test/' + f, 'r').read())\n",
    "#test_texts = pd.DataFrame({'id': test_names, 'text': test_texts})\n",
    "#\n",
    "#test_texts.head()"
   ]
  },
  {
   "cell_type": "code",
   "execution_count": 17,
   "id": "55c41550",
   "metadata": {
    "execution": {
     "iopub.execute_input": "2022-03-15T17:28:40.489584Z",
     "iopub.status.busy": "2022-03-15T17:28:40.488380Z",
     "iopub.status.idle": "2022-03-15T17:29:30.448850Z",
     "shell.execute_reply": "2022-03-15T17:29:30.448381Z",
     "shell.execute_reply.started": "2022-03-15T17:20:55.887510Z"
    },
    "papermill": {
     "duration": 50.017713,
     "end_time": "2022-03-15T17:29:30.448970",
     "exception": false,
     "start_time": "2022-03-15T17:28:40.431257",
     "status": "completed"
    },
    "tags": []
   },
   "outputs": [
    {
     "name": "stderr",
     "output_type": "stream",
     "text": [
      "100%|██████████| 15594/15594 [00:49<00:00, 313.81it/s]\n"
     ]
    },
    {
     "data": {
      "text/html": [
       "<div>\n",
       "<style scoped>\n",
       "    .dataframe tbody tr th:only-of-type {\n",
       "        vertical-align: middle;\n",
       "    }\n",
       "\n",
       "    .dataframe tbody tr th {\n",
       "        vertical-align: top;\n",
       "    }\n",
       "\n",
       "    .dataframe thead th {\n",
       "        text-align: right;\n",
       "    }\n",
       "</style>\n",
       "<table border=\"1\" class=\"dataframe\">\n",
       "  <thead>\n",
       "    <tr style=\"text-align: right;\">\n",
       "      <th></th>\n",
       "      <th>id</th>\n",
       "      <th>text</th>\n",
       "    </tr>\n",
       "  </thead>\n",
       "  <tbody>\n",
       "    <tr>\n",
       "      <th>0</th>\n",
       "      <td>62C57C524CD2</td>\n",
       "      <td>I think we should be able to play in a sport i...</td>\n",
       "    </tr>\n",
       "    <tr>\n",
       "      <th>1</th>\n",
       "      <td>80667AD3FFD8</td>\n",
       "      <td>Some schools require summer projects for stude...</td>\n",
       "    </tr>\n",
       "    <tr>\n",
       "      <th>2</th>\n",
       "      <td>21868C40B94F</td>\n",
       "      <td>Driverless cars have been argued and talked ab...</td>\n",
       "    </tr>\n",
       "    <tr>\n",
       "      <th>3</th>\n",
       "      <td>87A6EF3113C6</td>\n",
       "      <td>The author of \"The Challenge of Exploring Venu...</td>\n",
       "    </tr>\n",
       "    <tr>\n",
       "      <th>4</th>\n",
       "      <td>24687D08CFDA</td>\n",
       "      <td>Wow, from the mar really look like humans face...</td>\n",
       "    </tr>\n",
       "  </tbody>\n",
       "</table>\n",
       "</div>"
      ],
      "text/plain": [
       "             id                                               text\n",
       "0  62C57C524CD2  I think we should be able to play in a sport i...\n",
       "1  80667AD3FFD8  Some schools require summer projects for stude...\n",
       "2  21868C40B94F  Driverless cars have been argued and talked ab...\n",
       "3  87A6EF3113C6  The author of \"The Challenge of Exploring Venu...\n",
       "4  24687D08CFDA  Wow, from the mar really look like humans face..."
      ]
     },
     "execution_count": 17,
     "metadata": {},
     "output_type": "execute_result"
    }
   ],
   "source": [
    "test_names, train_texts = [], []\n",
    "for f in tqdm(list(os.listdir('../input/feedback-prize-2021/train'))):\n",
    "    test_names.append(f.replace('.txt', ''))\n",
    "    train_texts.append(open('../input/feedback-prize-2021/train/' + f, 'r').read())\n",
    "train_text_df = pd.DataFrame({'id': test_names, 'text': train_texts})\n",
    "\n",
    "train_text_df.head()"
   ]
  },
  {
   "cell_type": "code",
   "execution_count": 18,
   "id": "ee4cb7de",
   "metadata": {
    "execution": {
     "iopub.execute_input": "2022-03-15T17:29:30.820547Z",
     "iopub.status.busy": "2022-03-15T17:29:30.819568Z",
     "iopub.status.idle": "2022-03-15T17:35:11.034757Z",
     "shell.execute_reply": "2022-03-15T17:35:11.035264Z",
     "shell.execute_reply.started": "2022-03-15T17:21:03.533318Z"
    },
    "papermill": {
     "duration": 340.406926,
     "end_time": "2022-03-15T17:35:11.035430",
     "exception": false,
     "start_time": "2022-03-15T17:29:30.628504",
     "status": "completed"
    },
    "tags": []
   },
   "outputs": [
    {
     "name": "stderr",
     "output_type": "stream",
     "text": [
      "15594it [05:40, 45.84it/s]\n"
     ]
    }
   ],
   "source": [
    "train_df = train.copy()\n",
    "all_entities = []\n",
    "for i in tqdm(train_text_df.iterrows()):\n",
    "    total = i[1]['text'].split(' ').__len__()\n",
    "    start = -1\n",
    "    entities = []\n",
    "    for j in train_df[train_df['id'] == i[1]['id']].iterrows():\n",
    "        discourse = j[1]['discourse_type']\n",
    "        list_ix = j[1]['predictionstring'].split(' ')\n",
    "        ent = [f\"I-{discourse}\" for ix in list_ix]\n",
    "        ent[0] = f\"B-{discourse}\"\n",
    "        ds = int(list_ix[0])\n",
    "        de = int(list_ix[-1])\n",
    "        if start < ds-1:\n",
    "            ent_add = ['O' for ix in range(int(ds-1-start))]\n",
    "            ent = ent_add + ent\n",
    "        entities.extend(ent)\n",
    "        start = de\n",
    "    if len(entities) < total:\n",
    "        ent_add = [\"O\" for ix in range(total-len(entities))]\n",
    "        entities += ent_add\n",
    "    else:\n",
    "        entities = entities[:total]\n",
    "    all_entities.append(entities)"
   ]
  },
  {
   "cell_type": "code",
   "execution_count": 19,
   "id": "7a942e13",
   "metadata": {
    "execution": {
     "iopub.execute_input": "2022-03-15T17:35:13.813550Z",
     "iopub.status.busy": "2022-03-15T17:35:13.812806Z",
     "iopub.status.idle": "2022-03-15T17:35:13.815853Z",
     "shell.execute_reply": "2022-03-15T17:35:13.816260Z",
     "shell.execute_reply.started": "2022-03-15T17:26:46.447320Z"
    },
    "papermill": {
     "duration": 1.616202,
     "end_time": "2022-03-15T17:35:13.816395",
     "exception": false,
     "start_time": "2022-03-15T17:35:12.200193",
     "status": "completed"
    },
    "tags": []
   },
   "outputs": [
    {
     "data": {
      "text/html": [
       "<div>\n",
       "<style scoped>\n",
       "    .dataframe tbody tr th:only-of-type {\n",
       "        vertical-align: middle;\n",
       "    }\n",
       "\n",
       "    .dataframe tbody tr th {\n",
       "        vertical-align: top;\n",
       "    }\n",
       "\n",
       "    .dataframe thead th {\n",
       "        text-align: right;\n",
       "    }\n",
       "</style>\n",
       "<table border=\"1\" class=\"dataframe\">\n",
       "  <thead>\n",
       "    <tr style=\"text-align: right;\">\n",
       "      <th></th>\n",
       "      <th>id</th>\n",
       "      <th>text</th>\n",
       "      <th>entities</th>\n",
       "    </tr>\n",
       "  </thead>\n",
       "  <tbody>\n",
       "    <tr>\n",
       "      <th>0</th>\n",
       "      <td>62C57C524CD2</td>\n",
       "      <td>I think we should be able to play in a sport i...</td>\n",
       "      <td>[B-Position, I-Position, I-Position, I-Positio...</td>\n",
       "    </tr>\n",
       "    <tr>\n",
       "      <th>1</th>\n",
       "      <td>80667AD3FFD8</td>\n",
       "      <td>Some schools require summer projects for stude...</td>\n",
       "      <td>[B-Position, I-Position, I-Position, I-Positio...</td>\n",
       "    </tr>\n",
       "    <tr>\n",
       "      <th>2</th>\n",
       "      <td>21868C40B94F</td>\n",
       "      <td>Driverless cars have been argued and talked ab...</td>\n",
       "      <td>[B-Lead, I-Lead, I-Lead, I-Lead, I-Lead, I-Lea...</td>\n",
       "    </tr>\n",
       "    <tr>\n",
       "      <th>3</th>\n",
       "      <td>87A6EF3113C6</td>\n",
       "      <td>The author of \"The Challenge of Exploring Venu...</td>\n",
       "      <td>[B-Position, I-Position, I-Position, I-Positio...</td>\n",
       "    </tr>\n",
       "    <tr>\n",
       "      <th>4</th>\n",
       "      <td>24687D08CFDA</td>\n",
       "      <td>Wow, from the mar really look like humans face...</td>\n",
       "      <td>[B-Lead, I-Lead, I-Lead, I-Lead, I-Lead, I-Lea...</td>\n",
       "    </tr>\n",
       "  </tbody>\n",
       "</table>\n",
       "</div>"
      ],
      "text/plain": [
       "             id                                               text  \\\n",
       "0  62C57C524CD2  I think we should be able to play in a sport i...   \n",
       "1  80667AD3FFD8  Some schools require summer projects for stude...   \n",
       "2  21868C40B94F  Driverless cars have been argued and talked ab...   \n",
       "3  87A6EF3113C6  The author of \"The Challenge of Exploring Venu...   \n",
       "4  24687D08CFDA  Wow, from the mar really look like humans face...   \n",
       "\n",
       "                                            entities  \n",
       "0  [B-Position, I-Position, I-Position, I-Positio...  \n",
       "1  [B-Position, I-Position, I-Position, I-Positio...  \n",
       "2  [B-Lead, I-Lead, I-Lead, I-Lead, I-Lead, I-Lea...  \n",
       "3  [B-Position, I-Position, I-Position, I-Positio...  \n",
       "4  [B-Lead, I-Lead, I-Lead, I-Lead, I-Lead, I-Lea...  "
      ]
     },
     "execution_count": 19,
     "metadata": {},
     "output_type": "execute_result"
    }
   ],
   "source": [
    "train_text_df['entities'] = all_entities\n",
    "train_text_df.head()"
   ]
  },
  {
   "cell_type": "code",
   "execution_count": 20,
   "id": "0c478c97",
   "metadata": {
    "execution": {
     "iopub.execute_input": "2022-03-15T17:35:16.353955Z",
     "iopub.status.busy": "2022-03-15T17:35:16.353065Z",
     "iopub.status.idle": "2022-03-15T17:35:16.354696Z",
     "shell.execute_reply": "2022-03-15T17:35:16.355194Z",
     "shell.execute_reply.started": "2022-03-15T17:26:46.472256Z"
    },
    "papermill": {
     "duration": 1.39908,
     "end_time": "2022-03-15T17:35:16.355325",
     "exception": false,
     "start_time": "2022-03-15T17:35:14.956245",
     "status": "completed"
    },
    "tags": []
   },
   "outputs": [],
   "source": [
    "config = {'model_name': '/kaggle/input/roberta-base/',\n",
    "         'max_length': 512,\n",
    "         'train_batch_size':8,\n",
    "         'valid_batch_size':8,\n",
    "         'epochs':3,\n",
    "         'learning_rate':1e-05,\n",
    "         'max_grad_norm':10,\n",
    "         'device': 'cuda' if cuda.is_available() else 'cpu'}"
   ]
  },
  {
   "cell_type": "code",
   "execution_count": 21,
   "id": "b5314add",
   "metadata": {
    "execution": {
     "iopub.execute_input": "2022-03-15T17:35:18.646074Z",
     "iopub.status.busy": "2022-03-15T17:35:18.645222Z",
     "iopub.status.idle": "2022-03-15T17:35:18.647604Z",
     "shell.execute_reply": "2022-03-15T17:35:18.647212Z",
     "shell.execute_reply.started": "2022-03-15T17:26:46.485575Z"
    },
    "papermill": {
     "duration": 1.15272,
     "end_time": "2022-03-15T17:35:18.647714",
     "exception": false,
     "start_time": "2022-03-15T17:35:17.494994",
     "status": "completed"
    },
    "tags": []
   },
   "outputs": [],
   "source": [
    "output_labels = ['O', 'B-Lead', 'I-Lead', 'B-Position', 'I-Position', 'B-Claim', 'I-Claim', 'B-Counterclaim', 'I-Counterclaim', \n",
    "          'B-Rebuttal', 'I-Rebuttal', 'B-Evidence', 'I-Evidence', 'B-Concluding Statement', 'I-Concluding Statement']\n",
    "\n",
    "labels_to_ids = {v:k for k,v in enumerate(output_labels)}\n",
    "ids_to_labels = {k:v for k,v in enumerate(output_labels)}"
   ]
  },
  {
   "cell_type": "code",
   "execution_count": 22,
   "id": "a113a920",
   "metadata": {
    "execution": {
     "iopub.execute_input": "2022-03-15T17:35:20.991886Z",
     "iopub.status.busy": "2022-03-15T17:35:20.991117Z",
     "iopub.status.idle": "2022-03-15T17:35:20.994350Z",
     "shell.execute_reply": "2022-03-15T17:35:20.994883Z",
     "shell.execute_reply.started": "2022-03-15T17:26:46.493053Z"
    },
    "papermill": {
     "duration": 1.158813,
     "end_time": "2022-03-15T17:35:20.995037",
     "exception": false,
     "start_time": "2022-03-15T17:35:19.836224",
     "status": "completed"
    },
    "tags": []
   },
   "outputs": [
    {
     "name": "stdout",
     "output_type": "stream",
     "text": [
      "{'O': 0, 'B-Lead': 1, 'I-Lead': 2, 'B-Position': 3, 'I-Position': 4, 'B-Claim': 5, 'I-Claim': 6, 'B-Counterclaim': 7, 'I-Counterclaim': 8, 'B-Rebuttal': 9, 'I-Rebuttal': 10, 'B-Evidence': 11, 'I-Evidence': 12, 'B-Concluding Statement': 13, 'I-Concluding Statement': 14}\n",
      "{0: 'O', 1: 'B-Lead', 2: 'I-Lead', 3: 'B-Position', 4: 'I-Position', 5: 'B-Claim', 6: 'I-Claim', 7: 'B-Counterclaim', 8: 'I-Counterclaim', 9: 'B-Rebuttal', 10: 'I-Rebuttal', 11: 'B-Evidence', 12: 'I-Evidence', 13: 'B-Concluding Statement', 14: 'I-Concluding Statement'}\n"
     ]
    }
   ],
   "source": [
    "print(labels_to_ids)\n",
    "print(ids_to_labels)"
   ]
  },
  {
   "cell_type": "code",
   "execution_count": 23,
   "id": "a56645e5",
   "metadata": {
    "execution": {
     "iopub.execute_input": "2022-03-15T17:35:23.308646Z",
     "iopub.status.busy": "2022-03-15T17:35:23.307979Z",
     "iopub.status.idle": "2022-03-15T17:35:29.589223Z",
     "shell.execute_reply": "2022-03-15T17:35:29.588697Z",
     "shell.execute_reply.started": "2022-03-15T17:26:46.503567Z"
    },
    "papermill": {
     "duration": 7.429323,
     "end_time": "2022-03-15T17:35:29.589365",
     "exception": false,
     "start_time": "2022-03-15T17:35:22.160042",
     "status": "completed"
    },
    "tags": []
   },
   "outputs": [
    {
     "name": "stderr",
     "output_type": "stream",
     "text": [
      "Some weights of the model checkpoint at /kaggle/input/roberta-base/ were not used when initializing RobertaForTokenClassification: ['lm_head.decoder.weight', 'lm_head.dense.bias', 'lm_head.bias', 'lm_head.layer_norm.weight', 'lm_head.dense.weight', 'lm_head.layer_norm.bias']\n",
      "- This IS expected if you are initializing RobertaForTokenClassification from the checkpoint of a model trained on another task or with another architecture (e.g. initializing a BertForSequenceClassification model from a BertForPreTraining model).\n",
      "- This IS NOT expected if you are initializing RobertaForTokenClassification from the checkpoint of a model that you expect to be exactly identical (initializing a BertForSequenceClassification model from a BertForSequenceClassification model).\n",
      "Some weights of RobertaForTokenClassification were not initialized from the model checkpoint at /kaggle/input/roberta-base/ and are newly initialized: ['classifier.weight', 'classifier.bias']\n",
      "You should probably TRAIN this model on a down-stream task to be able to use it for predictions and inference.\n"
     ]
    }
   ],
   "source": [
    "tokenizer = RobertaTokenizerFast.from_pretrained(MODEL_NAME)\n",
    "\n",
    "model = RobertaForTokenClassification.from_pretrained(config['model_name'], num_labels=len(output_labels))"
   ]
  },
  {
   "cell_type": "code",
   "execution_count": 24,
   "id": "4fef2ebd",
   "metadata": {
    "execution": {
     "iopub.execute_input": "2022-03-15T17:35:31.876599Z",
     "iopub.status.busy": "2022-03-15T17:35:31.875770Z",
     "iopub.status.idle": "2022-03-15T17:35:31.878397Z",
     "shell.execute_reply": "2022-03-15T17:35:31.877980Z",
     "shell.execute_reply.started": "2022-03-15T17:26:48.015488Z"
    },
    "papermill": {
     "duration": 1.146041,
     "end_time": "2022-03-15T17:35:31.878504",
     "exception": false,
     "start_time": "2022-03-15T17:35:30.732463",
     "status": "completed"
    },
    "tags": []
   },
   "outputs": [],
   "source": [
    "class dataset(Dataset):\n",
    "    def __init__(self, dataframe, tokenizer, max_len):\n",
    "        self.len = len(dataframe)\n",
    "        self.data = dataframe\n",
    "        self.tokenizer = tokenizer\n",
    "        self.max_len = max_len\n",
    "\n",
    "    def __getitem__(self, index):\n",
    "        # step 1: get the sentence and word labels \n",
    "        sentence = self.data.text[index]\n",
    "        word_labels = self.data.entities[index]\n",
    "\n",
    "        # step 2: use tokenizer to encode sentence (includes padding/truncation up to max length)\n",
    "        # BertTokenizerFast provides a handy \"return_offsets_mapping\" functionality for individual tokens\n",
    "        encoding = self.tokenizer(sentence,\n",
    "#                              is_pretokenized=True, \n",
    "#                                   is_split_into_words=True,\n",
    "                             return_offsets_mapping=True, \n",
    "                             padding='max_length', \n",
    "                             truncation=True,\n",
    "                            max_length=self.max_len)\n",
    "        \n",
    "        # step 3: create token labels only for first word pieces of each tokenized word\n",
    "#         pdb.set_trace()\n",
    "        labels = [labels_to_ids[label] for label in word_labels] \n",
    "        # code based on https://huggingface.co/transformers/custom_datasets.html#tok-ner\n",
    "        # create an empty array of -100 of length max_length\n",
    "        encoded_labels = np.ones(len(encoding[\"offset_mapping\"]), dtype=int) * -100\n",
    "#         print(len(sentence), len(labels))\n",
    "        # set only labels whose first offset position is 0 and the second is not 0\n",
    "        i = 0\n",
    "        for idx, mapping in enumerate(encoding[\"offset_mapping\"]):\n",
    "#             print(idx)\n",
    "            if mapping[0] != 0 and mapping[0] != encoding['offset_mapping'][idx-1][1]:\n",
    "            # overwrite label\n",
    "#             pdb.set_trace()\n",
    "#             print(mapping)\n",
    "#             print(encoded_labels.shape, len(labels), idx, i)\n",
    "                try:\n",
    "                    encoded_labels[idx] = labels[i]\n",
    "                except:\n",
    "                    pass\n",
    "                i += 1\n",
    "            else:\n",
    "                if idx==1:\n",
    "    #                 print(idx)\n",
    "                    encoded_labels[idx] = labels[i]\n",
    "                    i += 1\n",
    "        # step 4: turn everything into PyTorch tensors\n",
    "        item = {key: torch.as_tensor(val) for key, val in encoding.items()}\n",
    "        item['labels'] = torch.as_tensor(encoded_labels)\n",
    "        \n",
    "        return item\n",
    "\n",
    "    def __len__(self):\n",
    "        return self.len\n",
    "                                  "
   ]
  },
  {
   "cell_type": "code",
   "execution_count": 25,
   "id": "dcf219b1",
   "metadata": {
    "execution": {
     "iopub.execute_input": "2022-03-15T17:35:34.194853Z",
     "iopub.status.busy": "2022-03-15T17:35:34.193934Z",
     "iopub.status.idle": "2022-03-15T17:35:34.207340Z",
     "shell.execute_reply": "2022-03-15T17:35:34.207738Z",
     "shell.execute_reply.started": "2022-03-15T17:26:48.028698Z"
    },
    "papermill": {
     "duration": 1.152171,
     "end_time": "2022-03-15T17:35:34.207905",
     "exception": false,
     "start_time": "2022-03-15T17:35:33.055734",
     "status": "completed"
    },
    "tags": []
   },
   "outputs": [
    {
     "name": "stdout",
     "output_type": "stream",
     "text": [
      "FULL Dataset: (15594, 2)\n",
      "TRAIN Dataset: (12475, 2)\n",
      "TEST Dataset: (3119, 2)\n"
     ]
    }
   ],
   "source": [
    "data = train_text_df[['text', 'entities']]\n",
    "train_size = 0.8\n",
    "train_dataset = data.sample(frac=train_size,random_state=200)\n",
    "test_dataset = data.drop(train_dataset.index).reset_index(drop=True)\n",
    "train_dataset = train_dataset.reset_index(drop=True)\n",
    "\n",
    "print(\"FULL Dataset: {}\".format(data.shape))\n",
    "print(\"TRAIN Dataset: {}\".format(train_dataset.shape))\n",
    "print(\"TEST Dataset: {}\".format(test_dataset.shape))\n",
    "\n",
    "training_set = dataset(train_dataset, tokenizer, config['max_length'])\n",
    "testing_set = dataset(test_dataset, tokenizer, config['max_length'])"
   ]
  },
  {
   "cell_type": "code",
   "execution_count": 26,
   "id": "ed1d7d5b",
   "metadata": {
    "execution": {
     "iopub.execute_input": "2022-03-15T17:35:36.526345Z",
     "iopub.status.busy": "2022-03-15T17:35:36.525547Z",
     "iopub.status.idle": "2022-03-15T17:35:36.530196Z",
     "shell.execute_reply": "2022-03-15T17:35:36.529703Z",
     "shell.execute_reply.started": "2022-03-15T17:26:48.055758Z"
    },
    "papermill": {
     "duration": 1.18439,
     "end_time": "2022-03-15T17:35:36.530328",
     "exception": false,
     "start_time": "2022-03-15T17:35:35.345938",
     "status": "completed"
    },
    "tags": []
   },
   "outputs": [],
   "source": [
    "train_params = {'batch_size': config['train_batch_size'],\n",
    "                'shuffle': True,\n",
    "                'num_workers': 1,\n",
    "                'pin_memory':True\n",
    "                }\n",
    "\n",
    "test_params = {'batch_size': config['valid_batch_size'],\n",
    "                'shuffle': True,\n",
    "                'num_workers': 1,\n",
    "                'pin_memory':True\n",
    "                }\n",
    "\n",
    "training_loader = DataLoader(training_set, **train_params)\n",
    "testing_loader = DataLoader(testing_set, **test_params)"
   ]
  },
  {
   "cell_type": "code",
   "execution_count": 27,
   "id": "b2bd0d01",
   "metadata": {
    "execution": {
     "iopub.execute_input": "2022-03-15T17:35:39.127372Z",
     "iopub.status.busy": "2022-03-15T17:35:39.126744Z",
     "iopub.status.idle": "2022-03-15T17:35:39.129473Z",
     "shell.execute_reply": "2022-03-15T17:35:39.129892Z",
     "shell.execute_reply.started": "2022-03-15T17:26:48.083548Z"
    },
    "papermill": {
     "duration": 1.191919,
     "end_time": "2022-03-15T17:35:39.130026",
     "exception": false,
     "start_time": "2022-03-15T17:35:37.938107",
     "status": "completed"
    },
    "tags": []
   },
   "outputs": [
    {
     "data": {
      "text/plain": [
       "'cuda'"
      ]
     },
     "execution_count": 27,
     "metadata": {},
     "output_type": "execute_result"
    }
   ],
   "source": [
    "device = config['device']\n",
    "device"
   ]
  },
  {
   "cell_type": "code",
   "execution_count": 28,
   "id": "e730d4e5",
   "metadata": {
    "execution": {
     "iopub.execute_input": "2022-03-15T17:35:41.805616Z",
     "iopub.status.busy": "2022-03-15T17:35:41.804874Z",
     "iopub.status.idle": "2022-03-15T17:35:41.807712Z",
     "shell.execute_reply": "2022-03-15T17:35:41.807309Z",
     "shell.execute_reply.started": "2022-03-15T17:26:48.096885Z"
    },
    "papermill": {
     "duration": 1.542824,
     "end_time": "2022-03-15T17:35:41.807857",
     "exception": false,
     "start_time": "2022-03-15T17:35:40.265033",
     "status": "completed"
    },
    "tags": []
   },
   "outputs": [],
   "source": [
    "import gc\n",
    "\n",
    "gc.collect()\n",
    "torch.cuda.empty_cache()"
   ]
  },
  {
   "cell_type": "code",
   "execution_count": null,
   "id": "2ba8e3a8",
   "metadata": {
    "execution": {
     "iopub.execute_input": "2022-03-15T17:26:48.635253Z",
     "iopub.status.busy": "2022-03-15T17:26:48.634437Z",
     "iopub.status.idle": "2022-03-15T17:26:48.683309Z",
     "shell.execute_reply": "2022-03-15T17:26:48.682238Z",
     "shell.execute_reply.started": "2022-03-15T17:26:48.635215Z"
    },
    "papermill": {
     "duration": 1.132044,
     "end_time": "2022-03-15T17:35:44.107741",
     "exception": false,
     "start_time": "2022-03-15T17:35:42.975697",
     "status": "completed"
    },
    "tags": []
   },
   "outputs": [],
   "source": []
  },
  {
   "cell_type": "code",
   "execution_count": null,
   "id": "075d6d00",
   "metadata": {
    "papermill": {
     "duration": 1.311607,
     "end_time": "2022-03-15T17:35:46.881846",
     "exception": false,
     "start_time": "2022-03-15T17:35:45.570239",
     "status": "completed"
    },
    "tags": []
   },
   "outputs": [],
   "source": []
  }
 ],
 "metadata": {
  "kernelspec": {
   "display_name": "Python 3",
   "language": "python",
   "name": "python3"
  },
  "language_info": {
   "codemirror_mode": {
    "name": "ipython",
    "version": 3
   },
   "file_extension": ".py",
   "mimetype": "text/x-python",
   "name": "python",
   "nbconvert_exporter": "python",
   "pygments_lexer": "ipython3",
   "version": "3.7.12"
  },
  "papermill": {
   "default_parameters": {},
   "duration": 497.213302,
   "end_time": "2022-03-15T17:35:51.731027",
   "environment_variables": {},
   "exception": null,
   "input_path": "__notebook__.ipynb",
   "output_path": "__notebook__.ipynb",
   "parameters": {},
   "start_time": "2022-03-15T17:27:34.517725",
   "version": "2.3.3"
  }
 },
 "nbformat": 4,
 "nbformat_minor": 5
}
