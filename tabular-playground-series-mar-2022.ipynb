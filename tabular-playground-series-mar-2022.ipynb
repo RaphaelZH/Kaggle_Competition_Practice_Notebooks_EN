{
 "cells": [
  {
   "cell_type": "markdown",
   "id": "0b294c69",
   "metadata": {
    "papermill": {
     "duration": 0.013414,
     "end_time": "2022-03-16T22:53:32.102912",
     "exception": false,
     "start_time": "2022-03-16T22:53:32.089498",
     "status": "completed"
    },
    "tags": []
   },
   "source": [
    "# Libraries Import\n",
    "## Regular Libraries"
   ]
  },
  {
   "cell_type": "code",
   "execution_count": 1,
   "id": "45b2502b",
   "metadata": {
    "execution": {
     "iopub.execute_input": "2022-03-16T22:53:32.132546Z",
     "iopub.status.busy": "2022-03-16T22:53:32.130719Z",
     "iopub.status.idle": "2022-03-16T22:53:32.142061Z",
     "shell.execute_reply": "2022-03-16T22:53:32.142590Z",
     "shell.execute_reply.started": "2022-03-16T22:09:02.359930Z"
    },
    "papermill": {
     "duration": 0.027872,
     "end_time": "2022-03-16T22:53:32.142913",
     "exception": false,
     "start_time": "2022-03-16T22:53:32.115041",
     "status": "completed"
    },
    "tags": []
   },
   "outputs": [],
   "source": [
    "import numpy as np\n",
    "import pandas as pd\n",
    "import os"
   ]
  },
  {
   "cell_type": "code",
   "execution_count": null,
   "id": "5cd31670",
   "metadata": {
    "papermill": {
     "duration": 0.011226,
     "end_time": "2022-03-16T22:53:32.166287",
     "exception": false,
     "start_time": "2022-03-16T22:53:32.155061",
     "status": "completed"
    },
    "tags": []
   },
   "outputs": [],
   "source": []
  },
  {
   "cell_type": "code",
   "execution_count": 2,
   "id": "64b2c1de",
   "metadata": {
    "execution": {
     "iopub.execute_input": "2022-03-16T22:53:32.193433Z",
     "iopub.status.busy": "2022-03-16T22:53:32.192689Z",
     "iopub.status.idle": "2022-03-16T22:53:33.330486Z",
     "shell.execute_reply": "2022-03-16T22:53:33.329311Z",
     "shell.execute_reply.started": "2022-03-16T22:16:21.669992Z"
    },
    "papermill": {
     "duration": 1.152495,
     "end_time": "2022-03-16T22:53:33.330641",
     "exception": false,
     "start_time": "2022-03-16T22:53:32.178146",
     "status": "completed"
    },
    "tags": []
   },
   "outputs": [],
   "source": [
    "train = pd.read_csv('../input/tabular-playground-series-mar-2022/train.csv', index_col=0, parse_dates=['time'])\n",
    "test = pd.read_csv('../input/tabular-playground-series-mar-2022/test.csv', index_col=0, parse_dates=['time'])"
   ]
  },
  {
   "cell_type": "code",
   "execution_count": null,
   "id": "92b6c3e9",
   "metadata": {
    "papermill": {
     "duration": 0.011564,
     "end_time": "2022-03-16T22:53:33.354670",
     "exception": false,
     "start_time": "2022-03-16T22:53:33.343106",
     "status": "completed"
    },
    "tags": []
   },
   "outputs": [],
   "source": []
  },
  {
   "cell_type": "code",
   "execution_count": null,
   "id": "0bcbd172",
   "metadata": {
    "papermill": {
     "duration": 0.011277,
     "end_time": "2022-03-16T22:53:33.377993",
     "exception": false,
     "start_time": "2022-03-16T22:53:33.366716",
     "status": "completed"
    },
    "tags": []
   },
   "outputs": [],
   "source": []
  },
  {
   "cell_type": "code",
   "execution_count": null,
   "id": "812f66e6",
   "metadata": {
    "papermill": {
     "duration": 0.01086,
     "end_time": "2022-03-16T22:53:33.401332",
     "exception": false,
     "start_time": "2022-03-16T22:53:33.390472",
     "status": "completed"
    },
    "tags": []
   },
   "outputs": [],
   "source": []
  },
  {
   "cell_type": "code",
   "execution_count": null,
   "id": "ce574274",
   "metadata": {
    "papermill": {
     "duration": 0.01161,
     "end_time": "2022-03-16T22:53:33.423988",
     "exception": false,
     "start_time": "2022-03-16T22:53:33.412378",
     "status": "completed"
    },
    "tags": []
   },
   "outputs": [],
   "source": []
  },
  {
   "cell_type": "code",
   "execution_count": null,
   "id": "26c63764",
   "metadata": {
    "papermill": {
     "duration": 0.010911,
     "end_time": "2022-03-16T22:53:33.446684",
     "exception": false,
     "start_time": "2022-03-16T22:53:33.435773",
     "status": "completed"
    },
    "tags": []
   },
   "outputs": [],
   "source": []
  },
  {
   "cell_type": "code",
   "execution_count": null,
   "id": "dc64fe10",
   "metadata": {
    "papermill": {
     "duration": 0.010906,
     "end_time": "2022-03-16T22:53:33.468859",
     "exception": false,
     "start_time": "2022-03-16T22:53:33.457953",
     "status": "completed"
    },
    "tags": []
   },
   "outputs": [],
   "source": []
  },
  {
   "cell_type": "code",
   "execution_count": null,
   "id": "bc413e7f",
   "metadata": {
    "papermill": {
     "duration": 0.01065,
     "end_time": "2022-03-16T22:53:33.490520",
     "exception": false,
     "start_time": "2022-03-16T22:53:33.479870",
     "status": "completed"
    },
    "tags": []
   },
   "outputs": [],
   "source": []
  },
  {
   "cell_type": "code",
   "execution_count": null,
   "id": "0c1568d5",
   "metadata": {
    "papermill": {
     "duration": 0.010623,
     "end_time": "2022-03-16T22:53:33.512895",
     "exception": false,
     "start_time": "2022-03-16T22:53:33.502272",
     "status": "completed"
    },
    "tags": []
   },
   "outputs": [],
   "source": []
  }
 ],
 "metadata": {
  "kernelspec": {
   "display_name": "Python 3",
   "language": "python",
   "name": "python3"
  },
  "language_info": {
   "codemirror_mode": {
    "name": "ipython",
    "version": 3
   },
   "file_extension": ".py",
   "mimetype": "text/x-python",
   "name": "python",
   "nbconvert_exporter": "python",
   "pygments_lexer": "ipython3",
   "version": "3.7.12"
  },
  "papermill": {
   "default_parameters": {},
   "duration": 13.074139,
   "end_time": "2022-03-16T22:53:34.135310",
   "environment_variables": {},
   "exception": null,
   "input_path": "__notebook__.ipynb",
   "output_path": "__notebook__.ipynb",
   "parameters": {},
   "start_time": "2022-03-16T22:53:21.061171",
   "version": "2.3.3"
  }
 },
 "nbformat": 4,
 "nbformat_minor": 5
}
