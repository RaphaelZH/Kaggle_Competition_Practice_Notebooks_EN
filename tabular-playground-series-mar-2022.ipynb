{
 "cells": [
  {
   "cell_type": "markdown",
   "id": "7333d488",
   "metadata": {
    "papermill": {
     "duration": 0.03028,
     "end_time": "2022-03-28T19:45:58.991903",
     "exception": false,
     "start_time": "2022-03-28T19:45:58.961623",
     "status": "completed"
    },
    "tags": []
   },
   "source": [
    "---\n",
    "$\\Huge{Tabular\\ Playground\\ Series\\ -\\ Mar\\ 2022}$\n",
    "\n",
    "$Practice\\ your\\ ML\\ skills\\ on\\ this\\ approachable\\ dataset!$\n",
    "\n",
    "---"
   ]
  },
  {
   "cell_type": "markdown",
   "id": "f4f97e34",
   "metadata": {
    "papermill": {
     "duration": 0.028164,
     "end_time": "2022-03-28T19:45:59.051187",
     "exception": false,
     "start_time": "2022-03-28T19:45:59.023023",
     "status": "completed"
    },
    "tags": []
   },
   "source": [
    "# Overview\n",
    "\n",
    "## Description\n",
    "\n",
    "For the March edition of the 2022 Tabular Playground Series you're challenged to forecast twelve-hours of traffic flow in a U.S. metropolis. The time series in this dataset are labelled with both location coordinates and a direction of travel -- a combination of features that will test your skill at spatio-temporal forecasting within a highly dynamic traffic network.\n",
    "\n",
    "Which model will prevail? The venerable linear regression? The deservedly-popular ensemble of decision trees? Or maybe a cutting-edge graph neural-network? We can't wait to see!\n",
    "\n",
    "### About the Tabular Playground Series\n",
    "\n",
    "Kaggle competitions are incredibly fun and rewarding, but they can also be intimidating for people who are relatively new in their data science journey. In the past, we've launched many Playground competitions that are more approachable than our Featured competitions and thus, more beginner-friendly.\n",
    "\n",
    "The goal of these competitions is to provide a fun and approachable-for-anyone tabular dataset to model. These competitions are a great choice for people looking for something in between the Titanic Getting Started competition and the Featured competitions. If you're an established competitions master or grandmaster, these probably won't be much of a challenge for you; thus, we encourage you to avoid saturating the leaderboard.\n",
    "\n",
    "For each monthly competition, we'll be offering Kaggle Merchandise for the top three teams. And finally, because we want these competitions to be more about learning, we're limiting team sizes to 3 individuals."
   ]
  },
  {
   "cell_type": "markdown",
   "id": "9ebfeb34",
   "metadata": {
    "papermill": {
     "duration": 0.028336,
     "end_time": "2022-03-28T19:45:59.107601",
     "exception": false,
     "start_time": "2022-03-28T19:45:59.079265",
     "status": "completed"
    },
    "tags": []
   },
   "source": []
  },
  {
   "cell_type": "markdown",
   "id": "7707e181",
   "metadata": {
    "papermill": {
     "duration": 0.029657,
     "end_time": "2022-03-28T19:45:59.167034",
     "exception": false,
     "start_time": "2022-03-28T19:45:59.137377",
     "status": "completed"
    },
    "tags": []
   },
   "source": []
  },
  {
   "cell_type": "markdown",
   "id": "2ec3c584",
   "metadata": {
    "papermill": {
     "duration": 0.029609,
     "end_time": "2022-03-28T19:45:59.225060",
     "exception": false,
     "start_time": "2022-03-28T19:45:59.195451",
     "status": "completed"
    },
    "tags": []
   },
   "source": []
  },
  {
   "cell_type": "markdown",
   "id": "fcf13e1c",
   "metadata": {
    "papermill": {
     "duration": 0.030224,
     "end_time": "2022-03-28T19:45:59.283508",
     "exception": false,
     "start_time": "2022-03-28T19:45:59.253284",
     "status": "completed"
    },
    "tags": []
   },
   "source": [
    "# Libraries Import\n",
    "## Regular Libraries"
   ]
  },
  {
   "cell_type": "code",
   "execution_count": 1,
   "id": "11635260",
   "metadata": {
    "execution": {
     "iopub.execute_input": "2022-03-28T19:45:59.349675Z",
     "iopub.status.busy": "2022-03-28T19:45:59.348876Z",
     "iopub.status.idle": "2022-03-28T19:45:59.352559Z",
     "shell.execute_reply": "2022-03-28T19:45:59.352054Z",
     "shell.execute_reply.started": "2022-03-28T19:43:33.328360Z"
    },
    "papermill": {
     "duration": 0.041246,
     "end_time": "2022-03-28T19:45:59.352677",
     "exception": false,
     "start_time": "2022-03-28T19:45:59.311431",
     "status": "completed"
    },
    "tags": []
   },
   "outputs": [],
   "source": [
    "import numpy as np\n",
    "import pandas as pd\n",
    "import os"
   ]
  },
  {
   "cell_type": "code",
   "execution_count": null,
   "id": "e25ac221",
   "metadata": {
    "papermill": {
     "duration": 0.028314,
     "end_time": "2022-03-28T19:45:59.409731",
     "exception": false,
     "start_time": "2022-03-28T19:45:59.381417",
     "status": "completed"
    },
    "tags": []
   },
   "outputs": [],
   "source": []
  },
  {
   "cell_type": "code",
   "execution_count": 2,
   "id": "691bed48",
   "metadata": {
    "execution": {
     "iopub.execute_input": "2022-03-28T19:45:59.470891Z",
     "iopub.status.busy": "2022-03-28T19:45:59.470297Z",
     "iopub.status.idle": "2022-03-28T19:46:00.578303Z",
     "shell.execute_reply": "2022-03-28T19:46:00.577306Z",
     "shell.execute_reply.started": "2022-03-28T19:43:33.369747Z"
    },
    "papermill": {
     "duration": 1.140265,
     "end_time": "2022-03-28T19:46:00.578448",
     "exception": false,
     "start_time": "2022-03-28T19:45:59.438183",
     "status": "completed"
    },
    "tags": []
   },
   "outputs": [],
   "source": [
    "train = pd.read_csv('../input/tabular-playground-series-mar-2022/train.csv', index_col=0, parse_dates=['time'])\n",
    "test = pd.read_csv('../input/tabular-playground-series-mar-2022/test.csv', index_col=0, parse_dates=['time'])"
   ]
  },
  {
   "cell_type": "code",
   "execution_count": 3,
   "id": "ae498298",
   "metadata": {
    "execution": {
     "iopub.execute_input": "2022-03-28T19:46:00.648425Z",
     "iopub.status.busy": "2022-03-28T19:46:00.647654Z",
     "iopub.status.idle": "2022-03-28T19:46:00.649679Z",
     "shell.execute_reply": "2022-03-28T19:46:00.650081Z",
     "shell.execute_reply.started": "2022-03-28T19:43:34.381392Z"
    },
    "papermill": {
     "duration": 0.04279,
     "end_time": "2022-03-28T19:46:00.650214",
     "exception": false,
     "start_time": "2022-03-28T19:46:00.607424",
     "status": "completed"
    },
    "tags": []
   },
   "outputs": [],
   "source": [
    "def reduce_mem_usage(df, verbose=True):\n",
    "    numerics = ['int16', 'int32', 'int64', 'float16', 'float32', 'float64']\n",
    "    start_mem = df.memory_usage().sum() / 1024**2    \n",
    "    for col in df.columns:\n",
    "        col_type = df[col].dtypes\n",
    "        if col_type in numerics:\n",
    "            c_min = df[col].min()\n",
    "            c_max = df[col].max()\n",
    "            if str(col_type)[:3] == 'int':\n",
    "                if c_min > np.iinfo(np.int8).min and c_max < np.iinfo(np.int8).max:\n",
    "                    df[col] = df[col].astype(np.int8)\n",
    "                elif c_min > np.iinfo(np.int16).min and c_max < np.iinfo(np.int16).max:\n",
    "                    df[col] = df[col].astype(np.int16)\n",
    "                elif c_min > np.iinfo(np.int32).min and c_max < np.iinfo(np.int32).max:\n",
    "                    df[col] = df[col].astype(np.int32)\n",
    "                elif c_min > np.iinfo(np.int64).min and c_max < np.iinfo(np.int64).max:\n",
    "                    df[col] = df[col].astype(np.int64)  \n",
    "            else:\n",
    "                if c_min > np.finfo(np.float16).min and c_max < np.finfo(np.float16).max:\n",
    "                    df[col] = df[col].astype(np.float16)\n",
    "                elif c_min > np.finfo(np.float32).min and c_max < np.finfo(np.float32).max:\n",
    "                    df[col] = df[col].astype(np.float32)\n",
    "                else:\n",
    "                    df[col] = df[col].astype(np.float64)  \n",
    "        else:\n",
    "            df[col] = df[col].astype('category')\n",
    "    end_mem = df.memory_usage().sum() / 1024**2\n",
    "    if verbose: print('Mem. usage decreased to {:5.2f} Mb ({:.1f}% reduction)'.format(end_mem, 100 * (start_mem - end_mem) / start_mem))\n",
    "    return df"
   ]
  },
  {
   "cell_type": "code",
   "execution_count": 4,
   "id": "1c4671c0",
   "metadata": {
    "execution": {
     "iopub.execute_input": "2022-03-28T19:46:00.715445Z",
     "iopub.status.busy": "2022-03-28T19:46:00.714620Z",
     "iopub.status.idle": "2022-03-28T19:46:00.831206Z",
     "shell.execute_reply": "2022-03-28T19:46:00.831739Z",
     "shell.execute_reply.started": "2022-03-28T19:43:34.397872Z"
    },
    "papermill": {
     "duration": 0.153092,
     "end_time": "2022-03-28T19:46:00.831957",
     "exception": false,
     "start_time": "2022-03-28T19:46:00.678865",
     "status": "completed"
    },
    "tags": []
   },
   "outputs": [
    {
     "name": "stdout",
     "output_type": "stream",
     "text": [
      "Mem. usage decreased to 11.94 Mb (69.3% reduction)\n",
      "Mem. usage decreased to  0.03 Mb (68.2% reduction)\n"
     ]
    }
   ],
   "source": [
    "train = reduce_mem_usage(train)\n",
    "test = reduce_mem_usage(test)"
   ]
  },
  {
   "cell_type": "code",
   "execution_count": 5,
   "id": "4addcf5e",
   "metadata": {
    "execution": {
     "iopub.execute_input": "2022-03-28T19:46:00.895811Z",
     "iopub.status.busy": "2022-03-28T19:46:00.895257Z",
     "iopub.status.idle": "2022-03-28T19:46:03.290353Z",
     "shell.execute_reply": "2022-03-28T19:46:03.289846Z",
     "shell.execute_reply.started": "2022-03-28T19:43:34.522048Z"
    },
    "papermill": {
     "duration": 2.428508,
     "end_time": "2022-03-28T19:46:03.290470",
     "exception": false,
     "start_time": "2022-03-28T19:46:00.861962",
     "status": "completed"
    },
    "tags": []
   },
   "outputs": [],
   "source": [
    "from datetime import datetime\n",
    "from math import sin, cos, pi\n",
    "\n",
    "\n",
    "from sklearn.preprocessing import OneHotEncoder, StandardScaler\n",
    "from sklearn.model_selection import train_test_split\n",
    "\n",
    "\n",
    "import torch\n",
    "from torch import nn\n",
    "from torch.utils.data import DataLoader\n",
    "from torch.utils.data import TensorDataset\n",
    "import torch.optim as optim\n",
    "\n",
    "import matplotlib.pyplot as plt"
   ]
  },
  {
   "cell_type": "code",
   "execution_count": 6,
   "id": "bb44ef5f",
   "metadata": {
    "execution": {
     "iopub.execute_input": "2022-03-28T19:46:03.355113Z",
     "iopub.status.busy": "2022-03-28T19:46:03.351890Z",
     "iopub.status.idle": "2022-03-28T19:46:03.808679Z",
     "shell.execute_reply": "2022-03-28T19:46:03.808131Z",
     "shell.execute_reply.started": "2022-03-28T19:43:36.899840Z"
    },
    "papermill": {
     "duration": 0.487999,
     "end_time": "2022-03-28T19:46:03.808821",
     "exception": false,
     "start_time": "2022-03-28T19:46:03.320822",
     "status": "completed"
    },
    "tags": []
   },
   "outputs": [],
   "source": [
    "# Memorial Day\n",
    "train = train[(train.time.dt.month != 5) | (train.time.dt.day != 27)]\n",
    "\n",
    "# July 4\n",
    "train = train[(train.time.dt.month != 7) | (train.time.dt.day != 4)]\n",
    "\n",
    "# Labor Day\n",
    "train = train[(train.time.dt.month != 9) | (train.time.dt.day != 2)]"
   ]
  },
  {
   "cell_type": "code",
   "execution_count": 7,
   "id": "b5623790",
   "metadata": {
    "execution": {
     "iopub.execute_input": "2022-03-28T19:46:03.874409Z",
     "iopub.status.busy": "2022-03-28T19:46:03.873633Z",
     "iopub.status.idle": "2022-03-28T19:46:03.876107Z",
     "shell.execute_reply": "2022-03-28T19:46:03.875651Z",
     "shell.execute_reply.started": "2022-03-28T19:43:37.359727Z"
    },
    "papermill": {
     "duration": 0.036688,
     "end_time": "2022-03-28T19:46:03.876216",
     "exception": false,
     "start_time": "2022-03-28T19:46:03.839528",
     "status": "completed"
    },
    "tags": []
   },
   "outputs": [],
   "source": [
    "def fe0(data):\n",
    "    data['weekday'] = data.time.dt.weekday\n",
    "    data['hour'] = data.time.dt.hour\n",
    "    data['timeofday'] = data.time.dt.time\n",
    "\n",
    "    data['saturday'] = data['weekday'] == 5\n",
    "    data['sunday'] = data['weekday'] == 6\n",
    "    data['minute'] = data.time.dt.minute\n",
    "    data = data.drop(columns='time')\n",
    "    return data"
   ]
  },
  {
   "cell_type": "code",
   "execution_count": 8,
   "id": "e529b869",
   "metadata": {
    "execution": {
     "iopub.execute_input": "2022-03-28T19:46:03.935634Z",
     "iopub.status.busy": "2022-03-28T19:46:03.934873Z",
     "iopub.status.idle": "2022-03-28T19:46:04.674393Z",
     "shell.execute_reply": "2022-03-28T19:46:04.673698Z",
     "shell.execute_reply.started": "2022-03-28T19:43:37.368798Z"
    },
    "papermill": {
     "duration": 0.770088,
     "end_time": "2022-03-28T19:46:04.674521",
     "exception": false,
     "start_time": "2022-03-28T19:46:03.904433",
     "status": "completed"
    },
    "tags": []
   },
   "outputs": [],
   "source": [
    "train = fe0(train)\n",
    "test = fe0(test)"
   ]
  },
  {
   "cell_type": "code",
   "execution_count": 9,
   "id": "b4780444",
   "metadata": {
    "execution": {
     "iopub.execute_input": "2022-03-28T19:46:04.742093Z",
     "iopub.status.busy": "2022-03-28T19:46:04.741482Z",
     "iopub.status.idle": "2022-03-28T19:46:05.252657Z",
     "shell.execute_reply": "2022-03-28T19:46:05.253092Z",
     "shell.execute_reply.started": "2022-03-28T19:43:38.103869Z"
    },
    "papermill": {
     "duration": 0.549715,
     "end_time": "2022-03-28T19:46:05.253244",
     "exception": false,
     "start_time": "2022-03-28T19:46:04.703529",
     "status": "completed"
    },
    "tags": []
   },
   "outputs": [
    {
     "data": {
      "image/png": "[encoded data removed]",
      "text/plain": [
       "<Figure size 1440x576 with 2 Axes>"
      ]
     },
     "metadata": {
      "needs_background": "light"
     },
     "output_type": "display_data"
    }
   ],
   "source": [
    "fig, axs = plt.subplots(1, 2, figsize=(20,8))\n",
    "bin_weekday = list(range(8))\n",
    "axs[0].hist(train.weekday, bin_weekday, rwidth=0.5)\n",
    "axs[0].set_title('weekday')\n",
    "axs[0].set_xticks(bin_weekday)\n",
    "axs[0].set_ylabel('count')\n",
    "\n",
    "bin_hour = list(range(25))\n",
    "axs[1].hist(train.hour, bin_hour, rwidth=0.7)\n",
    "axs[1].set_title('hour')\n",
    "axs[1].set_xticks(bin_hour)\n",
    "axs[1].set_ylabel('count')\n",
    "\n",
    "plt.show()"
   ]
  },
  {
   "cell_type": "code",
   "execution_count": 10,
   "id": "3747e596",
   "metadata": {
    "execution": {
     "iopub.execute_input": "2022-03-28T19:46:05.318407Z",
     "iopub.status.busy": "2022-03-28T19:46:05.317667Z",
     "iopub.status.idle": "2022-03-28T19:46:05.511607Z",
     "shell.execute_reply": "2022-03-28T19:46:05.511199Z",
     "shell.execute_reply.started": "2022-03-28T19:43:38.624883Z"
    },
    "papermill": {
     "duration": 0.228312,
     "end_time": "2022-03-28T19:46:05.511721",
     "exception": false,
     "start_time": "2022-03-28T19:46:05.283409",
     "status": "completed"
    },
    "tags": []
   },
   "outputs": [
    {
     "data": {
      "image/png": "[encoded data removed]",
      "text/plain": [
       "<Figure size 1296x432 with 1 Axes>"
      ]
     },
     "metadata": {
      "needs_background": "light"
     },
     "output_type": "display_data"
    }
   ],
   "source": [
    "temp = train.groupby(train.weekday).congestion.mean()\n",
    "plt.figure(figsize=(18, 6))\n",
    "plt.bar(temp.index, temp)\n",
    "plt.xticks(ticks=temp.index, labels='MTWTFSS')\n",
    "plt.xlabel('Days of the week')\n",
    "plt.ylabel('Mean of Congestion')\n",
    "plt.show()"
   ]
  },
  {
   "cell_type": "code",
   "execution_count": 11,
   "id": "dd384b0b",
   "metadata": {
    "execution": {
     "iopub.execute_input": "2022-03-28T19:46:05.578393Z",
     "iopub.status.busy": "2022-03-28T19:46:05.577523Z",
     "iopub.status.idle": "2022-03-28T19:46:05.944355Z",
     "shell.execute_reply": "2022-03-28T19:46:05.944735Z",
     "shell.execute_reply.started": "2022-03-28T19:43:38.821025Z"
    },
    "papermill": {
     "duration": 0.402759,
     "end_time": "2022-03-28T19:46:05.944889",
     "exception": false,
     "start_time": "2022-03-28T19:46:05.542130",
     "status": "completed"
    },
    "tags": []
   },
   "outputs": [
    {
     "data": {
      "image/png": "[encoded data removed]",
      "text/plain": [
       "<Figure size 1440x576 with 2 Axes>"
      ]
     },
     "metadata": {
      "needs_background": "light"
     },
     "output_type": "display_data"
    }
   ],
   "source": [
    "fig, axs = plt.subplots(1, 2, figsize=(20,8))\n",
    "bin_weekday = list(range(8))\n",
    "axs[0].hist(test.weekday, bin_weekday, rwidth=0.5)\n",
    "axs[0].set_title('weekday')\n",
    "axs[0].set_xticks(bin_weekday)\n",
    "axs[0].set_ylabel('count')\n",
    "\n",
    "bin_hour = list(range(25))\n",
    "axs[1].hist(test.hour, bin_hour, rwidth=0.7)\n",
    "axs[1].set_title('hour')\n",
    "axs[1].set_xticks(bin_hour)\n",
    "axs[1].set_ylabel('count')\n",
    "\n",
    "plt.show()"
   ]
  },
  {
   "cell_type": "code",
   "execution_count": 12,
   "id": "7ea9607f",
   "metadata": {
    "execution": {
     "iopub.execute_input": "2022-03-28T19:46:06.011338Z",
     "iopub.status.busy": "2022-03-28T19:46:06.010558Z",
     "iopub.status.idle": "2022-03-28T19:46:06.039583Z",
     "shell.execute_reply": "2022-03-28T19:46:06.038933Z",
     "shell.execute_reply.started": "2022-03-28T19:43:39.191403Z"
    },
    "papermill": {
     "duration": 0.063626,
     "end_time": "2022-03-28T19:46:06.039713",
     "exception": false,
     "start_time": "2022-03-28T19:46:05.976087",
     "status": "completed"
    },
    "tags": []
   },
   "outputs": [],
   "source": [
    "train = train[train.hour >= 12]"
   ]
  },
  {
   "cell_type": "code",
   "execution_count": 13,
   "id": "1c9cd3e5",
   "metadata": {
    "execution": {
     "iopub.execute_input": "2022-03-28T19:46:06.105818Z",
     "iopub.status.busy": "2022-03-28T19:46:06.105057Z",
     "iopub.status.idle": "2022-03-28T19:46:06.116214Z",
     "shell.execute_reply": "2022-03-28T19:46:06.115738Z",
     "shell.execute_reply.started": "2022-03-28T19:43:39.224515Z"
    },
    "papermill": {
     "duration": 0.045241,
     "end_time": "2022-03-28T19:46:06.116322",
     "exception": false,
     "start_time": "2022-03-28T19:46:06.071081",
     "status": "completed"
    },
    "tags": []
   },
   "outputs": [],
   "source": [
    "target = train.congestion\n",
    "train = train.drop(columns='congestion')\n"
   ]
  },
  {
   "cell_type": "code",
   "execution_count": 14,
   "id": "23ffcc94",
   "metadata": {
    "execution": {
     "iopub.execute_input": "2022-03-28T19:46:06.181658Z",
     "iopub.status.busy": "2022-03-28T19:46:06.181171Z",
     "iopub.status.idle": "2022-03-28T19:46:06.194194Z",
     "shell.execute_reply": "2022-03-28T19:46:06.193738Z",
     "shell.execute_reply.started": "2022-03-28T19:43:39.241265Z"
    },
    "papermill": {
     "duration": 0.047615,
     "end_time": "2022-03-28T19:46:06.194296",
     "exception": false,
     "start_time": "2022-03-28T19:46:06.146681",
     "status": "completed"
    },
    "tags": []
   },
   "outputs": [
    {
     "data": {
      "text/html": [
       "<div>\n",
       "<style scoped>\n",
       "    .dataframe tbody tr th:only-of-type {\n",
       "        vertical-align: middle;\n",
       "    }\n",
       "\n",
       "    .dataframe tbody tr th {\n",
       "        vertical-align: top;\n",
       "    }\n",
       "\n",
       "    .dataframe thead th {\n",
       "        text-align: right;\n",
       "    }\n",
       "</style>\n",
       "<table border=\"1\" class=\"dataframe\">\n",
       "  <thead>\n",
       "    <tr style=\"text-align: right;\">\n",
       "      <th></th>\n",
       "      <th>x</th>\n",
       "      <th>y</th>\n",
       "      <th>direction</th>\n",
       "      <th>weekday</th>\n",
       "      <th>hour</th>\n",
       "      <th>timeofday</th>\n",
       "      <th>saturday</th>\n",
       "      <th>sunday</th>\n",
       "      <th>minute</th>\n",
       "    </tr>\n",
       "    <tr>\n",
       "      <th>row_id</th>\n",
       "      <th></th>\n",
       "      <th></th>\n",
       "      <th></th>\n",
       "      <th></th>\n",
       "      <th></th>\n",
       "      <th></th>\n",
       "      <th></th>\n",
       "      <th></th>\n",
       "      <th></th>\n",
       "    </tr>\n",
       "  </thead>\n",
       "  <tbody>\n",
       "    <tr>\n",
       "      <th>2340</th>\n",
       "      <td>0</td>\n",
       "      <td>0</td>\n",
       "      <td>EB</td>\n",
       "      <td>0</td>\n",
       "      <td>12</td>\n",
       "      <td>12:00:00</td>\n",
       "      <td>False</td>\n",
       "      <td>False</td>\n",
       "      <td>0</td>\n",
       "    </tr>\n",
       "    <tr>\n",
       "      <th>2341</th>\n",
       "      <td>0</td>\n",
       "      <td>0</td>\n",
       "      <td>NB</td>\n",
       "      <td>0</td>\n",
       "      <td>12</td>\n",
       "      <td>12:00:00</td>\n",
       "      <td>False</td>\n",
       "      <td>False</td>\n",
       "      <td>0</td>\n",
       "    </tr>\n",
       "    <tr>\n",
       "      <th>2342</th>\n",
       "      <td>0</td>\n",
       "      <td>0</td>\n",
       "      <td>SB</td>\n",
       "      <td>0</td>\n",
       "      <td>12</td>\n",
       "      <td>12:00:00</td>\n",
       "      <td>False</td>\n",
       "      <td>False</td>\n",
       "      <td>0</td>\n",
       "    </tr>\n",
       "    <tr>\n",
       "      <th>2343</th>\n",
       "      <td>0</td>\n",
       "      <td>1</td>\n",
       "      <td>EB</td>\n",
       "      <td>0</td>\n",
       "      <td>12</td>\n",
       "      <td>12:00:00</td>\n",
       "      <td>False</td>\n",
       "      <td>False</td>\n",
       "      <td>0</td>\n",
       "    </tr>\n",
       "    <tr>\n",
       "      <th>2344</th>\n",
       "      <td>0</td>\n",
       "      <td>1</td>\n",
       "      <td>NB</td>\n",
       "      <td>0</td>\n",
       "      <td>12</td>\n",
       "      <td>12:00:00</td>\n",
       "      <td>False</td>\n",
       "      <td>False</td>\n",
       "      <td>0</td>\n",
       "    </tr>\n",
       "  </tbody>\n",
       "</table>\n",
       "</div>"
      ],
      "text/plain": [
       "        x  y direction  weekday  hour timeofday  saturday  sunday  minute\n",
       "row_id                                                                   \n",
       "2340    0  0        EB        0    12  12:00:00     False   False       0\n",
       "2341    0  0        NB        0    12  12:00:00     False   False       0\n",
       "2342    0  0        SB        0    12  12:00:00     False   False       0\n",
       "2343    0  1        EB        0    12  12:00:00     False   False       0\n",
       "2344    0  1        NB        0    12  12:00:00     False   False       0"
      ]
     },
     "execution_count": 14,
     "metadata": {},
     "output_type": "execute_result"
    }
   ],
   "source": [
    "train.head()"
   ]
  },
  {
   "cell_type": "code",
   "execution_count": 15,
   "id": "6f504c47",
   "metadata": {
    "execution": {
     "iopub.execute_input": "2022-03-28T19:46:06.261445Z",
     "iopub.status.busy": "2022-03-28T19:46:06.260676Z",
     "iopub.status.idle": "2022-03-28T19:46:06.361138Z",
     "shell.execute_reply": "2022-03-28T19:46:06.360388Z",
     "shell.execute_reply.started": "2022-03-28T19:43:39.260999Z"
    },
    "papermill": {
     "duration": 0.135925,
     "end_time": "2022-03-28T19:46:06.361254",
     "exception": false,
     "start_time": "2022-03-28T19:46:06.225329",
     "status": "completed"
    },
    "tags": []
   },
   "outputs": [
    {
     "data": {
      "text/plain": [
       "OneHotEncoder(drop='first', sparse=False)"
      ]
     },
     "execution_count": 15,
     "metadata": {},
     "output_type": "execute_result"
    }
   ],
   "source": [
    "ohe = OneHotEncoder(drop='first', sparse=False)\n",
    "ohe.fit(train)"
   ]
  },
  {
   "cell_type": "code",
   "execution_count": 16,
   "id": "1921bd56",
   "metadata": {
    "execution": {
     "iopub.execute_input": "2022-03-28T19:46:06.428958Z",
     "iopub.status.busy": "2022-03-28T19:46:06.428160Z",
     "iopub.status.idle": "2022-03-28T19:46:06.430532Z",
     "shell.execute_reply": "2022-03-28T19:46:06.430116Z",
     "shell.execute_reply.started": "2022-03-28T19:43:39.368835Z"
    },
    "papermill": {
     "duration": 0.03779,
     "end_time": "2022-03-28T19:46:06.430632",
     "exception": false,
     "start_time": "2022-03-28T19:46:06.392842",
     "status": "completed"
    },
    "tags": []
   },
   "outputs": [],
   "source": [
    "def fe1(data):\n",
    "    data_ohe = ohe.transform(data)\n",
    "    df = pd.DataFrame(data_ohe, index=data.index)\n",
    "    return df"
   ]
  },
  {
   "cell_type": "code",
   "execution_count": 17,
   "id": "895d290d",
   "metadata": {
    "execution": {
     "iopub.execute_input": "2022-03-28T19:46:06.497585Z",
     "iopub.status.busy": "2022-03-28T19:46:06.496804Z",
     "iopub.status.idle": "2022-03-28T19:46:07.482085Z",
     "shell.execute_reply": "2022-03-28T19:46:07.482496Z",
     "shell.execute_reply.started": "2022-03-28T19:43:39.374863Z"
    },
    "papermill": {
     "duration": 1.020827,
     "end_time": "2022-03-28T19:46:07.482656",
     "exception": false,
     "start_time": "2022-03-28T19:46:06.461829",
     "status": "completed"
    },
    "tags": []
   },
   "outputs": [],
   "source": [
    "x_data = fe1(train)\n",
    "x_test = fe1(test)"
   ]
  },
  {
   "cell_type": "code",
   "execution_count": 18,
   "id": "c4590581",
   "metadata": {
    "execution": {
     "iopub.execute_input": "2022-03-28T19:46:07.550691Z",
     "iopub.status.busy": "2022-03-28T19:46:07.550093Z",
     "iopub.status.idle": "2022-03-28T19:46:07.552663Z",
     "shell.execute_reply": "2022-03-28T19:46:07.553070Z",
     "shell.execute_reply.started": "2022-03-28T19:43:40.372915Z"
    },
    "papermill": {
     "duration": 0.038727,
     "end_time": "2022-03-28T19:46:07.553187",
     "exception": false,
     "start_time": "2022-03-28T19:46:07.514460",
     "status": "completed"
    },
    "tags": []
   },
   "outputs": [
    {
     "data": {
      "text/plain": [
       "68"
      ]
     },
     "execution_count": 18,
     "metadata": {},
     "output_type": "execute_result"
    }
   ],
   "source": [
    "num_feature = x_data.shape[1]\n",
    "num_feature"
   ]
  },
  {
   "cell_type": "code",
   "execution_count": 19,
   "id": "e5076abb",
   "metadata": {
    "execution": {
     "iopub.execute_input": "2022-03-28T19:46:07.621478Z",
     "iopub.status.busy": "2022-03-28T19:46:07.620698Z",
     "iopub.status.idle": "2022-03-28T19:46:07.623129Z",
     "shell.execute_reply": "2022-03-28T19:46:07.622704Z",
     "shell.execute_reply.started": "2022-03-28T19:43:40.380196Z"
    },
    "papermill": {
     "duration": 0.037937,
     "end_time": "2022-03-28T19:46:07.623225",
     "exception": false,
     "start_time": "2022-03-28T19:46:07.585288",
     "status": "completed"
    },
    "tags": []
   },
   "outputs": [],
   "source": [
    "x_data = x_data.values\n",
    "x_test = x_test.values\n",
    "target = target.values.reshape(-1, 1)"
   ]
  },
  {
   "cell_type": "code",
   "execution_count": 20,
   "id": "0ae99c88",
   "metadata": {
    "execution": {
     "iopub.execute_input": "2022-03-28T19:46:07.700986Z",
     "iopub.status.busy": "2022-03-28T19:46:07.700459Z",
     "iopub.status.idle": "2022-03-28T19:46:07.854098Z",
     "shell.execute_reply": "2022-03-28T19:46:07.853585Z",
     "shell.execute_reply.started": "2022-03-28T19:43:40.389617Z"
    },
    "papermill": {
     "duration": 0.194245,
     "end_time": "2022-03-28T19:46:07.854220",
     "exception": false,
     "start_time": "2022-03-28T19:46:07.659975",
     "status": "completed"
    },
    "tags": []
   },
   "outputs": [],
   "source": [
    "x_data = torch.tensor(x_data)\n",
    "x_test = torch.tensor(x_test)\n",
    "target = torch.tensor(target)"
   ]
  },
  {
   "cell_type": "code",
   "execution_count": 21,
   "id": "b4f6c4e0",
   "metadata": {
    "execution": {
     "iopub.execute_input": "2022-03-28T19:46:07.980708Z",
     "iopub.status.busy": "2022-03-28T19:46:07.980079Z",
     "iopub.status.idle": "2022-03-28T19:46:07.983097Z",
     "shell.execute_reply": "2022-03-28T19:46:07.983666Z",
     "shell.execute_reply.started": "2022-03-28T19:43:40.550871Z"
    },
    "papermill": {
     "duration": 0.096108,
     "end_time": "2022-03-28T19:46:07.983850",
     "exception": false,
     "start_time": "2022-03-28T19:46:07.887742",
     "status": "completed"
    },
    "tags": []
   },
   "outputs": [
    {
     "name": "stdout",
     "output_type": "stream",
     "text": [
      "Using cuda device\n"
     ]
    }
   ],
   "source": [
    "device = 'cuda' if torch.cuda.is_available() else 'cpu'\n",
    "print(f'Using {device} device')"
   ]
  },
  {
   "cell_type": "code",
   "execution_count": 22,
   "id": "ee8b8293",
   "metadata": {
    "execution": {
     "iopub.execute_input": "2022-03-28T19:46:08.058972Z",
     "iopub.status.busy": "2022-03-28T19:46:08.058293Z",
     "iopub.status.idle": "2022-03-28T19:46:11.056385Z",
     "shell.execute_reply": "2022-03-28T19:46:11.057397Z",
     "shell.execute_reply.started": "2022-03-28T19:43:40.599548Z"
    },
    "papermill": {
     "duration": 3.040302,
     "end_time": "2022-03-28T19:46:11.057606",
     "exception": false,
     "start_time": "2022-03-28T19:46:08.017304",
     "status": "completed"
    },
    "tags": []
   },
   "outputs": [],
   "source": [
    "x_data = x_data.double().to(device)\n",
    "x_test = x_test.double().to(device)\n",
    "target = target.double().to(device)"
   ]
  },
  {
   "cell_type": "code",
   "execution_count": 23,
   "id": "a055969a",
   "metadata": {
    "execution": {
     "iopub.execute_input": "2022-03-28T19:46:11.168140Z",
     "iopub.status.busy": "2022-03-28T19:46:11.167398Z",
     "iopub.status.idle": "2022-03-28T19:46:11.204260Z",
     "shell.execute_reply": "2022-03-28T19:46:11.204624Z",
     "shell.execute_reply.started": "2022-03-28T19:43:43.408184Z"
    },
    "papermill": {
     "duration": 0.094087,
     "end_time": "2022-03-28T19:46:11.204778",
     "exception": false,
     "start_time": "2022-03-28T19:46:11.110691",
     "status": "completed"
    },
    "tags": []
   },
   "outputs": [],
   "source": [
    "x_train, x_val, y_train, y_val = train_test_split(x_data, target)"
   ]
  },
  {
   "cell_type": "code",
   "execution_count": 24,
   "id": "9ca5720a",
   "metadata": {
    "execution": {
     "iopub.execute_input": "2022-03-28T19:46:11.293245Z",
     "iopub.status.busy": "2022-03-28T19:46:11.292620Z",
     "iopub.status.idle": "2022-03-28T19:46:11.307825Z",
     "shell.execute_reply": "2022-03-28T19:46:11.307354Z",
     "shell.execute_reply.started": "2022-03-28T19:43:43.443518Z"
    },
    "papermill": {
     "duration": 0.057362,
     "end_time": "2022-03-28T19:46:11.307935",
     "exception": false,
     "start_time": "2022-03-28T19:46:11.250573",
     "status": "completed"
    },
    "tags": []
   },
   "outputs": [],
   "source": [
    "class Net(nn.Module):\n",
    "    \n",
    "    def __init__(self):\n",
    "        super(Net, self).__init__()\n",
    "        self.linear_relu_stack = nn.Sequential(\n",
    "            nn.Linear(num_feature, 300), \n",
    "            nn.ReLU(), \n",
    "            nn.Linear(300, 100), \n",
    "            nn.ReLU(),\n",
    "            nn.Linear(100, 50), \n",
    "            nn.ReLU(), \n",
    "            nn.Linear(50, 1)\n",
    "        )\n",
    "        \n",
    "    def forward(self, x):\n",
    "        logits = self.linear_relu_stack(x)\n",
    "        return logits\n",
    "    \n",
    "model = Net().double().to(device)"
   ]
  },
  {
   "cell_type": "code",
   "execution_count": 25,
   "id": "02fda526",
   "metadata": {
    "execution": {
     "iopub.execute_input": "2022-03-28T19:46:11.377447Z",
     "iopub.status.busy": "2022-03-28T19:46:11.376918Z",
     "iopub.status.idle": "2022-03-28T19:46:11.383564Z",
     "shell.execute_reply": "2022-03-28T19:46:11.383144Z",
     "shell.execute_reply.started": "2022-03-28T19:43:43.465113Z"
    },
    "papermill": {
     "duration": 0.043554,
     "end_time": "2022-03-28T19:46:11.383664",
     "exception": false,
     "start_time": "2022-03-28T19:46:11.340110",
     "status": "completed"
    },
    "tags": []
   },
   "outputs": [
    {
     "data": {
      "text/plain": [
       "Net(\n",
       "  (linear_relu_stack): Sequential(\n",
       "    (0): Linear(in_features=68, out_features=300, bias=True)\n",
       "    (1): ReLU()\n",
       "    (2): Linear(in_features=300, out_features=100, bias=True)\n",
       "    (3): ReLU()\n",
       "    (4): Linear(in_features=100, out_features=50, bias=True)\n",
       "    (5): ReLU()\n",
       "    (6): Linear(in_features=50, out_features=1, bias=True)\n",
       "  )\n",
       ")"
      ]
     },
     "execution_count": 25,
     "metadata": {},
     "output_type": "execute_result"
    }
   ],
   "source": [
    "def init_weight(layer):\n",
    "    if type(layer) == nn.Linear:\n",
    "        nn.init.xavier_normal_(layer.weight.data)\n",
    "model.apply(init_weight)"
   ]
  },
  {
   "cell_type": "code",
   "execution_count": 26,
   "id": "7c5fd4ee",
   "metadata": {
    "execution": {
     "iopub.execute_input": "2022-03-28T19:46:11.459284Z",
     "iopub.status.busy": "2022-03-28T19:46:11.458377Z",
     "iopub.status.idle": "2022-03-28T19:46:11.460313Z",
     "shell.execute_reply": "2022-03-28T19:46:11.460741Z",
     "shell.execute_reply.started": "2022-03-28T19:43:43.477752Z"
    },
    "papermill": {
     "duration": 0.043574,
     "end_time": "2022-03-28T19:46:11.460907",
     "exception": false,
     "start_time": "2022-03-28T19:46:11.417333",
     "status": "completed"
    },
    "tags": []
   },
   "outputs": [],
   "source": [
    "def train_loop(dataloader, model, loss_fn, optimizer):\n",
    "    size = len(dataloader.dataset)\n",
    "    for X, y in dataloader:\n",
    "        # Compute prediction and loss\n",
    "        pred = model(X)\n",
    "        loss = loss_fn(pred, y)\n",
    "\n",
    "        # Backpropagation\n",
    "        optimizer.zero_grad()\n",
    "        loss.backward()\n",
    "        optimizer.step()\n",
    "\n",
    "    return loss.data\n",
    "\n",
    "\n",
    "def test_loop(dataloader, model, loss_fn):\n",
    "    size = len(dataloader.dataset)\n",
    "    num_batches = len(dataloader)\n",
    "    test_loss = 0\n",
    "\n",
    "    with torch.no_grad():\n",
    "        for X, y in dataloader:\n",
    "            pred = model(X)\n",
    "            test_loss += loss_fn(pred, y).item()\n",
    "\n",
    "    test_loss /= num_batches\n",
    "    return test_loss"
   ]
  },
  {
   "cell_type": "code",
   "execution_count": 27,
   "id": "a0dc454e",
   "metadata": {
    "execution": {
     "iopub.execute_input": "2022-03-28T19:46:11.535055Z",
     "iopub.status.busy": "2022-03-28T19:46:11.534383Z",
     "iopub.status.idle": "2022-03-28T21:21:33.372453Z",
     "shell.execute_reply": "2022-03-28T21:21:33.372881Z"
    },
    "papermill": {
     "duration": 5721.878757,
     "end_time": "2022-03-28T21:21:33.373026",
     "exception": false,
     "start_time": "2022-03-28T19:46:11.494269",
     "status": "completed"
    },
    "tags": []
   },
   "outputs": [
    {
     "name": "stdout",
     "output_type": "stream",
     "text": [
      "epoch 0 loss 11.277157262210206\n",
      "epoch 50 loss 5.7615489912459985\n",
      "epoch 100 loss 5.735381135951092\n",
      "epoch 150 loss 5.717889972468779\n",
      "epoch 200 loss 5.697944486894786\n",
      "epoch 250 loss 5.716942624187609\n",
      "epoch 300 loss 5.728689523754544\n",
      "epoch 350 loss 5.676677217289932\n",
      "epoch 400 loss 5.697502370923407\n",
      "epoch 450 loss 5.681804735508629\n",
      "epoch 500 loss 5.722778917126354\n",
      "epoch 550 loss 5.738911133195306\n",
      "epoch 600 loss 5.752726187183447\n",
      "epoch 650 loss 5.685690859705295\n",
      "epoch 700 loss 5.695944336424816\n",
      "epoch 750 loss 5.698491414325681\n",
      "epoch 800 loss 5.684842412564704\n",
      "epoch 850 loss 5.69526306638407\n",
      "epoch 900 loss 5.705160991614995\n",
      "epoch 950 loss 5.69242858931522\n",
      "Done!\n"
     ]
    }
   ],
   "source": [
    "learning_rate = 1e-3\n",
    "batch_size = 128\n",
    "epochs = 1000\n",
    "\n",
    "loss_fn = nn.L1Loss()\n",
    "optimizer = torch.optim.SGD(model.parameters(), lr=learning_rate)\n",
    "\n",
    "train_dataset = TensorDataset(x_train, y_train)\n",
    "train_dataloader = DataLoader(train_dataset, batch_size=batch_size, shuffle=True)\n",
    "val_dataset = TensorDataset(x_val, y_val)\n",
    "val_dataloader = DataLoader(val_dataset, batch_size=batch_size, shuffle=True)\n",
    "\n",
    "loss_list_train = []\n",
    "loss_list_test = []\n",
    "for t in range(epochs):\n",
    "    loss_train = train_loop(train_dataloader, model, loss_fn, optimizer)\n",
    "    test_loss = test_loop(val_dataloader, model, loss_fn)\n",
    "    loss_list_train.append(loss_train)\n",
    "    loss_list_test.append(test_loss)\n",
    "    if t % 50 == 0:\n",
    "        print(f'epoch {t} loss {test_loss}')\n",
    "print(\"Done!\")"
   ]
  },
  {
   "cell_type": "code",
   "execution_count": 28,
   "id": "8777de34",
   "metadata": {
    "execution": {
     "iopub.execute_input": "2022-03-28T21:21:33.476451Z",
     "iopub.status.busy": "2022-03-28T21:21:33.475632Z",
     "iopub.status.idle": "2022-03-28T21:21:33.625733Z",
     "shell.execute_reply": "2022-03-28T21:21:33.625330Z"
    },
    "papermill": {
     "duration": 0.213308,
     "end_time": "2022-03-28T21:21:33.625862",
     "exception": false,
     "start_time": "2022-03-28T21:21:33.412554",
     "status": "completed"
    },
    "tags": []
   },
   "outputs": [
    {
     "data": {
      "image/png": "[encoded data removed]",
      "text/plain": [
       "<Figure size 432x288 with 1 Axes>"
      ]
     },
     "metadata": {
      "needs_background": "light"
     },
     "output_type": "display_data"
    }
   ],
   "source": [
    "plt.plot(range(epochs),loss_list_test)\n",
    "plt.xlabel(\"Number of Epochs\")\n",
    "plt.ylabel(\"Loss\")\n",
    "plt.show()"
   ]
  },
  {
   "cell_type": "code",
   "execution_count": 29,
   "id": "74e528bd",
   "metadata": {
    "execution": {
     "iopub.execute_input": "2022-03-28T21:21:33.710428Z",
     "iopub.status.busy": "2022-03-28T21:21:33.709741Z",
     "iopub.status.idle": "2022-03-28T21:21:33.752320Z",
     "shell.execute_reply": "2022-03-28T21:21:33.751903Z"
    },
    "papermill": {
     "duration": 0.086234,
     "end_time": "2022-03-28T21:21:33.752431",
     "exception": false,
     "start_time": "2022-03-28T21:21:33.666197",
     "status": "completed"
    },
    "tags": []
   },
   "outputs": [
    {
     "data": {
      "text/plain": [
       "tensor([[49.],\n",
       "        [36.],\n",
       "        [57.],\n",
       "        ...,\n",
       "        [72.],\n",
       "        [13.],\n",
       "        [41.]], device='cuda:0', dtype=torch.float64)"
      ]
     },
     "execution_count": 29,
     "metadata": {},
     "output_type": "execute_result"
    }
   ],
   "source": [
    "with torch.no_grad():\n",
    "    y_test = model(x_test)\n",
    "    y_test = torch.round(y_test)\n",
    "y_test"
   ]
  },
  {
   "cell_type": "code",
   "execution_count": 30,
   "id": "bb87e4c4",
   "metadata": {
    "execution": {
     "iopub.execute_input": "2022-03-28T21:21:33.838654Z",
     "iopub.status.busy": "2022-03-28T21:21:33.838042Z",
     "iopub.status.idle": "2022-03-28T21:21:33.861106Z",
     "shell.execute_reply": "2022-03-28T21:21:33.860328Z"
    },
    "papermill": {
     "duration": 0.067503,
     "end_time": "2022-03-28T21:21:33.861322",
     "exception": false,
     "start_time": "2022-03-28T21:21:33.793819",
     "status": "completed"
    },
    "tags": []
   },
   "outputs": [
    {
     "name": "stderr",
     "output_type": "stream",
     "text": [
      "/opt/conda/lib/python3.7/site-packages/ipykernel_launcher.py:2: UserWarning: Pandas doesn't allow columns to be created via a new attribute name - see https://pandas.pydata.org/pandas-docs/stable/indexing.html#attribute-access\n",
      "  \n"
     ]
    }
   ],
   "source": [
    "sub = pd.read_csv('../input/tabular-playground-series-mar-2022/sample_submission.csv')\n",
    "sub.congestion = y_test"
   ]
  }
 ],
 "metadata": {
  "kernelspec": {
   "display_name": "Python 3",
   "language": "python",
   "name": "python3"
  },
  "language_info": {
   "codemirror_mode": {
    "name": "ipython",
    "version": 3
   },
   "file_extension": ".py",
   "mimetype": "text/x-python",
   "name": "python",
   "nbconvert_exporter": "python",
   "pygments_lexer": "ipython3",
   "version": "3.7.12"
  },
  "papermill": {
   "default_parameters": {},
   "duration": 5744.456588,
   "end_time": "2022-03-28T21:21:35.023921",
   "environment_variables": {},
   "exception": null,
   "input_path": "__notebook__.ipynb",
   "output_path": "__notebook__.ipynb",
   "parameters": {},
   "start_time": "2022-03-28T19:45:50.567333",
   "version": "2.3.3"
  }
 },
 "nbformat": 4,
 "nbformat_minor": 5
}
