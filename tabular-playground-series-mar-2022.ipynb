{
 "cells": [
  {
   "cell_type": "markdown",
   "id": "aed43cd2",
   "metadata": {
    "papermill": {
     "duration": 0.033936,
     "end_time": "2022-03-28T21:56:29.443700",
     "exception": false,
     "start_time": "2022-03-28T21:56:29.409764",
     "status": "completed"
    },
    "tags": []
   },
   "source": [
    "---\n",
    "$\\Huge{Tabular\\ Playground\\ Series\\ -\\ Mar\\ 2022}$\n",
    "\n",
    "$Practice\\ your\\ ML\\ skills\\ on\\ this\\ approachable\\ dataset!$\n",
    "\n",
    "---"
   ]
  },
  {
   "cell_type": "markdown",
   "id": "bfdb5cf8",
   "metadata": {
    "papermill": {
     "duration": 0.032092,
     "end_time": "2022-03-28T21:56:29.508586",
     "exception": false,
     "start_time": "2022-03-28T21:56:29.476494",
     "status": "completed"
    },
    "tags": []
   },
   "source": [
    "# Overview\n",
    "\n",
    "## Description\n",
    "\n",
    "For the March edition of the 2022 Tabular Playground Series you're challenged to forecast twelve-hours of traffic flow in a U.S. metropolis. The time series in this dataset are labelled with both location coordinates and a direction of travel -- a combination of features that will test your skill at spatio-temporal forecasting within a highly dynamic traffic network.\n",
    "\n",
    "Which model will prevail? The venerable linear regression? The deservedly-popular ensemble of decision trees? Or maybe a cutting-edge graph neural-network? We can't wait to see!\n",
    "\n",
    "### About the Tabular Playground Series\n",
    "\n",
    "Kaggle competitions are incredibly fun and rewarding, but they can also be intimidating for people who are relatively new in their data science journey. In the past, we've launched many Playground competitions that are more approachable than our Featured competitions and thus, more beginner-friendly.\n",
    "\n",
    "The goal of these competitions is to provide a fun and approachable-for-anyone tabular dataset to model. These competitions are a great choice for people looking for something in between the Titanic Getting Started competition and the Featured competitions. If you're an established competitions master or grandmaster, these probably won't be much of a challenge for you; thus, we encourage you to avoid saturating the leaderboard.\n",
    "\n",
    "For each monthly competition, we'll be offering Kaggle Merchandise for the top three teams. And finally, because we want these competitions to be more about learning, we're limiting team sizes to 3 individuals."
   ]
  },
  {
   "cell_type": "markdown",
   "id": "32d4cf3b",
   "metadata": {
    "papermill": {
     "duration": 0.032204,
     "end_time": "2022-03-28T21:56:29.573295",
     "exception": false,
     "start_time": "2022-03-28T21:56:29.541091",
     "status": "completed"
    },
    "tags": []
   },
   "source": []
  },
  {
   "cell_type": "markdown",
   "id": "01760589",
   "metadata": {
    "papermill": {
     "duration": 0.033428,
     "end_time": "2022-03-28T21:56:29.641350",
     "exception": false,
     "start_time": "2022-03-28T21:56:29.607922",
     "status": "completed"
    },
    "tags": []
   },
   "source": []
  },
  {
   "cell_type": "markdown",
   "id": "da074b3d",
   "metadata": {
    "papermill": {
     "duration": 0.03214,
     "end_time": "2022-03-28T21:56:29.706061",
     "exception": false,
     "start_time": "2022-03-28T21:56:29.673921",
     "status": "completed"
    },
    "tags": []
   },
   "source": []
  },
  {
   "cell_type": "markdown",
   "id": "69eba425",
   "metadata": {
    "papermill": {
     "duration": 0.032758,
     "end_time": "2022-03-28T21:56:29.771466",
     "exception": false,
     "start_time": "2022-03-28T21:56:29.738708",
     "status": "completed"
    },
    "tags": []
   },
   "source": [
    "# Libraries Import\n",
    "## Regular Libraries"
   ]
  },
  {
   "cell_type": "code",
   "execution_count": 1,
   "id": "6d9fa5ce",
   "metadata": {
    "execution": {
     "iopub.execute_input": "2022-03-28T21:56:29.854256Z",
     "iopub.status.busy": "2022-03-28T21:56:29.853348Z",
     "iopub.status.idle": "2022-03-28T21:56:29.857301Z",
     "shell.execute_reply": "2022-03-28T21:56:29.856778Z",
     "shell.execute_reply.started": "2022-03-28T19:43:33.328360Z"
    },
    "papermill": {
     "duration": 0.049215,
     "end_time": "2022-03-28T21:56:29.857454",
     "exception": false,
     "start_time": "2022-03-28T21:56:29.808239",
     "status": "completed"
    },
    "tags": []
   },
   "outputs": [],
   "source": [
    "import numpy as np\n",
    "import pandas as pd\n",
    "import os"
   ]
  },
  {
   "cell_type": "code",
   "execution_count": null,
   "id": "964ae537",
   "metadata": {
    "papermill": {
     "duration": 0.035151,
     "end_time": "2022-03-28T21:56:29.929891",
     "exception": false,
     "start_time": "2022-03-28T21:56:29.894740",
     "status": "completed"
    },
    "tags": []
   },
   "outputs": [],
   "source": []
  },
  {
   "cell_type": "code",
   "execution_count": 2,
   "id": "d743c559",
   "metadata": {
    "execution": {
     "iopub.execute_input": "2022-03-28T21:56:30.003870Z",
     "iopub.status.busy": "2022-03-28T21:56:30.003084Z",
     "iopub.status.idle": "2022-03-28T21:56:30.958622Z",
     "shell.execute_reply": "2022-03-28T21:56:30.959216Z",
     "shell.execute_reply.started": "2022-03-28T19:43:33.369747Z"
    },
    "papermill": {
     "duration": 0.994666,
     "end_time": "2022-03-28T21:56:30.959457",
     "exception": false,
     "start_time": "2022-03-28T21:56:29.964791",
     "status": "completed"
    },
    "tags": []
   },
   "outputs": [],
   "source": [
    "train = pd.read_csv('../input/tabular-playground-series-mar-2022/train.csv', index_col=0, parse_dates=['time'])\n",
    "test = pd.read_csv('../input/tabular-playground-series-mar-2022/test.csv', index_col=0, parse_dates=['time'])"
   ]
  },
  {
   "cell_type": "code",
   "execution_count": 3,
   "id": "d38b73b5",
   "metadata": {
    "execution": {
     "iopub.execute_input": "2022-03-28T21:56:31.102191Z",
     "iopub.status.busy": "2022-03-28T21:56:31.101329Z",
     "iopub.status.idle": "2022-03-28T21:56:31.108811Z",
     "shell.execute_reply": "2022-03-28T21:56:31.109774Z",
     "shell.execute_reply.started": "2022-03-28T19:43:34.381392Z"
    },
    "papermill": {
     "duration": 0.076403,
     "end_time": "2022-03-28T21:56:31.109965",
     "exception": false,
     "start_time": "2022-03-28T21:56:31.033562",
     "status": "completed"
    },
    "tags": []
   },
   "outputs": [],
   "source": [
    "def reduce_mem_usage(df, verbose=True):\n",
    "    numerics = ['int16', 'int32', 'int64', 'float16', 'float32', 'float64']\n",
    "    start_mem = df.memory_usage().sum() / 1024**2    \n",
    "    for col in df.columns:\n",
    "        col_type = df[col].dtypes\n",
    "        if col_type in numerics:\n",
    "            c_min = df[col].min()\n",
    "            c_max = df[col].max()\n",
    "            if str(col_type)[:3] == 'int':\n",
    "                if c_min > np.iinfo(np.int8).min and c_max < np.iinfo(np.int8).max:\n",
    "                    df[col] = df[col].astype(np.int8)\n",
    "                elif c_min > np.iinfo(np.int16).min and c_max < np.iinfo(np.int16).max:\n",
    "                    df[col] = df[col].astype(np.int16)\n",
    "                elif c_min > np.iinfo(np.int32).min and c_max < np.iinfo(np.int32).max:\n",
    "                    df[col] = df[col].astype(np.int32)\n",
    "                elif c_min > np.iinfo(np.int64).min and c_max < np.iinfo(np.int64).max:\n",
    "                    df[col] = df[col].astype(np.int64)  \n",
    "            else:\n",
    "                if c_min > np.finfo(np.float16).min and c_max < np.finfo(np.float16).max:\n",
    "                    df[col] = df[col].astype(np.float16)\n",
    "                elif c_min > np.finfo(np.float32).min and c_max < np.finfo(np.float32).max:\n",
    "                    df[col] = df[col].astype(np.float32)\n",
    "                else:\n",
    "                    df[col] = df[col].astype(np.float64)  \n",
    "        else:\n",
    "            df[col] = df[col].astype('category')\n",
    "    end_mem = df.memory_usage().sum() / 1024**2\n",
    "    if verbose: print('Mem. usage decreased to {:5.2f} Mb ({:.1f}% reduction)'.format(end_mem, 100 * (start_mem - end_mem) / start_mem))\n",
    "    return df"
   ]
  },
  {
   "cell_type": "code",
   "execution_count": 4,
   "id": "e0bcb111",
   "metadata": {
    "execution": {
     "iopub.execute_input": "2022-03-28T21:56:31.225851Z",
     "iopub.status.busy": "2022-03-28T21:56:31.225094Z",
     "iopub.status.idle": "2022-03-28T21:56:31.395165Z",
     "shell.execute_reply": "2022-03-28T21:56:31.396137Z",
     "shell.execute_reply.started": "2022-03-28T19:43:34.397872Z"
    },
    "papermill": {
     "duration": 0.232022,
     "end_time": "2022-03-28T21:56:31.396352",
     "exception": false,
     "start_time": "2022-03-28T21:56:31.164330",
     "status": "completed"
    },
    "tags": []
   },
   "outputs": [
    {
     "name": "stdout",
     "output_type": "stream",
     "text": [
      "Mem. usage decreased to 11.94 Mb (69.3% reduction)\n",
      "Mem. usage decreased to  0.03 Mb (68.2% reduction)\n"
     ]
    }
   ],
   "source": [
    "train = reduce_mem_usage(train)\n",
    "test = reduce_mem_usage(test)"
   ]
  },
  {
   "cell_type": "code",
   "execution_count": 5,
   "id": "5583a906",
   "metadata": {
    "execution": {
     "iopub.execute_input": "2022-03-28T21:56:31.499738Z",
     "iopub.status.busy": "2022-03-28T21:56:31.499075Z",
     "iopub.status.idle": "2022-03-28T21:56:33.710440Z",
     "shell.execute_reply": "2022-03-28T21:56:33.709951Z",
     "shell.execute_reply.started": "2022-03-28T19:43:34.522048Z"
    },
    "papermill": {
     "duration": 2.259893,
     "end_time": "2022-03-28T21:56:33.710582",
     "exception": false,
     "start_time": "2022-03-28T21:56:31.450689",
     "status": "completed"
    },
    "tags": []
   },
   "outputs": [],
   "source": [
    "from datetime import datetime\n",
    "from math import sin, cos, pi\n",
    "\n",
    "\n",
    "from sklearn.preprocessing import OneHotEncoder, StandardScaler\n",
    "from sklearn.model_selection import train_test_split\n",
    "\n",
    "\n",
    "import torch\n",
    "from torch import nn\n",
    "from torch.utils.data import DataLoader\n",
    "from torch.utils.data import TensorDataset\n",
    "import torch.optim as optim\n",
    "\n",
    "import matplotlib.pyplot as plt"
   ]
  },
  {
   "cell_type": "code",
   "execution_count": 6,
   "id": "1422d714",
   "metadata": {
    "execution": {
     "iopub.execute_input": "2022-03-28T21:56:33.783013Z",
     "iopub.status.busy": "2022-03-28T21:56:33.782045Z",
     "iopub.status.idle": "2022-03-28T21:56:34.241061Z",
     "shell.execute_reply": "2022-03-28T21:56:34.240445Z",
     "shell.execute_reply.started": "2022-03-28T19:43:36.899840Z"
    },
    "papermill": {
     "duration": 0.49726,
     "end_time": "2022-03-28T21:56:34.241190",
     "exception": false,
     "start_time": "2022-03-28T21:56:33.743930",
     "status": "completed"
    },
    "tags": []
   },
   "outputs": [],
   "source": [
    "# Memorial Day\n",
    "train = train[(train.time.dt.month != 5) | (train.time.dt.day != 27)]\n",
    "\n",
    "# July 4\n",
    "train = train[(train.time.dt.month != 7) | (train.time.dt.day != 4)]\n",
    "\n",
    "# Labor Day\n",
    "train = train[(train.time.dt.month != 9) | (train.time.dt.day != 2)]"
   ]
  },
  {
   "cell_type": "code",
   "execution_count": 7,
   "id": "26eaeb19",
   "metadata": {
    "execution": {
     "iopub.execute_input": "2022-03-28T21:56:34.314695Z",
     "iopub.status.busy": "2022-03-28T21:56:34.313955Z",
     "iopub.status.idle": "2022-03-28T21:56:34.316287Z",
     "shell.execute_reply": "2022-03-28T21:56:34.315881Z",
     "shell.execute_reply.started": "2022-03-28T19:43:37.359727Z"
    },
    "papermill": {
     "duration": 0.040801,
     "end_time": "2022-03-28T21:56:34.316417",
     "exception": false,
     "start_time": "2022-03-28T21:56:34.275616",
     "status": "completed"
    },
    "tags": []
   },
   "outputs": [],
   "source": [
    "def fe0(data):\n",
    "    data['weekday'] = data.time.dt.weekday\n",
    "    data['hour'] = data.time.dt.hour\n",
    "    data['timeofday'] = data.time.dt.time\n",
    "\n",
    "    data['saturday'] = data['weekday'] == 5\n",
    "    data['sunday'] = data['weekday'] == 6\n",
    "    data['minute'] = data.time.dt.minute\n",
    "    data = data.drop(columns='time')\n",
    "    return data"
   ]
  },
  {
   "cell_type": "code",
   "execution_count": 8,
   "id": "0aac678b",
   "metadata": {
    "execution": {
     "iopub.execute_input": "2022-03-28T21:56:34.385968Z",
     "iopub.status.busy": "2022-03-28T21:56:34.385065Z",
     "iopub.status.idle": "2022-03-28T21:56:35.133728Z",
     "shell.execute_reply": "2022-03-28T21:56:35.134165Z",
     "shell.execute_reply.started": "2022-03-28T19:43:37.368798Z"
    },
    "papermill": {
     "duration": 0.785382,
     "end_time": "2022-03-28T21:56:35.134337",
     "exception": false,
     "start_time": "2022-03-28T21:56:34.348955",
     "status": "completed"
    },
    "tags": []
   },
   "outputs": [],
   "source": [
    "train = fe0(train)\n",
    "test = fe0(test)"
   ]
  },
  {
   "cell_type": "code",
   "execution_count": 9,
   "id": "f11e2a77",
   "metadata": {
    "execution": {
     "iopub.execute_input": "2022-03-28T21:56:35.210797Z",
     "iopub.status.busy": "2022-03-28T21:56:35.209987Z",
     "iopub.status.idle": "2022-03-28T21:56:35.713362Z",
     "shell.execute_reply": "2022-03-28T21:56:35.713783Z",
     "shell.execute_reply.started": "2022-03-28T19:43:38.103869Z"
    },
    "papermill": {
     "duration": 0.546134,
     "end_time": "2022-03-28T21:56:35.713937",
     "exception": false,
     "start_time": "2022-03-28T21:56:35.167803",
     "status": "completed"
    },
    "tags": []
   },
   "outputs": [
    {
     "data": {
      "image/png": "[encoded data removed]",
      "text/plain": [
       "<Figure size 1440x576 with 2 Axes>"
      ]
     },
     "metadata": {
      "needs_background": "light"
     },
     "output_type": "display_data"
    }
   ],
   "source": [
    "fig, axs = plt.subplots(1, 2, figsize=(20,8))\n",
    "bin_weekday = list(range(8))\n",
    "axs[0].hist(train.weekday, bin_weekday, rwidth=0.5)\n",
    "axs[0].set_title('weekday')\n",
    "axs[0].set_xticks(bin_weekday)\n",
    "axs[0].set_ylabel('count')\n",
    "\n",
    "bin_hour = list(range(25))\n",
    "axs[1].hist(train.hour, bin_hour, rwidth=0.7)\n",
    "axs[1].set_title('hour')\n",
    "axs[1].set_xticks(bin_hour)\n",
    "axs[1].set_ylabel('count')\n",
    "\n",
    "plt.show()"
   ]
  },
  {
   "cell_type": "code",
   "execution_count": 10,
   "id": "69d62b96",
   "metadata": {
    "execution": {
     "iopub.execute_input": "2022-03-28T21:56:35.787046Z",
     "iopub.status.busy": "2022-03-28T21:56:35.786304Z",
     "iopub.status.idle": "2022-03-28T21:56:35.976483Z",
     "shell.execute_reply": "2022-03-28T21:56:35.976034Z",
     "shell.execute_reply.started": "2022-03-28T19:43:38.624883Z"
    },
    "papermill": {
     "duration": 0.228742,
     "end_time": "2022-03-28T21:56:35.976614",
     "exception": false,
     "start_time": "2022-03-28T21:56:35.747872",
     "status": "completed"
    },
    "tags": []
   },
   "outputs": [
    {
     "data": {
      "image/png": "[encoded data removed]",
      "text/plain": [
       "<Figure size 1296x432 with 1 Axes>"
      ]
     },
     "metadata": {
      "needs_background": "light"
     },
     "output_type": "display_data"
    }
   ],
   "source": [
    "temp = train.groupby(train.weekday).congestion.mean()\n",
    "plt.figure(figsize=(18, 6))\n",
    "plt.bar(temp.index, temp)\n",
    "plt.xticks(ticks=temp.index, labels='MTWTFSS')\n",
    "plt.xlabel('Days of the week')\n",
    "plt.ylabel('Mean of Congestion')\n",
    "plt.show()"
   ]
  },
  {
   "cell_type": "code",
   "execution_count": 11,
   "id": "89f1510a",
   "metadata": {
    "execution": {
     "iopub.execute_input": "2022-03-28T21:56:36.053699Z",
     "iopub.status.busy": "2022-03-28T21:56:36.050174Z",
     "iopub.status.idle": "2022-03-28T21:56:36.411978Z",
     "shell.execute_reply": "2022-03-28T21:56:36.410988Z",
     "shell.execute_reply.started": "2022-03-28T19:43:38.821025Z"
    },
    "papermill": {
     "duration": 0.400574,
     "end_time": "2022-03-28T21:56:36.412116",
     "exception": false,
     "start_time": "2022-03-28T21:56:36.011542",
     "status": "completed"
    },
    "tags": []
   },
   "outputs": [
    {
     "data": {
      "image/png": "[encoded data removed]",
      "text/plain": [
       "<Figure size 1440x576 with 2 Axes>"
      ]
     },
     "metadata": {
      "needs_background": "light"
     },
     "output_type": "display_data"
    }
   ],
   "source": [
    "fig, axs = plt.subplots(1, 2, figsize=(20,8))\n",
    "bin_weekday = list(range(8))\n",
    "axs[0].hist(test.weekday, bin_weekday, rwidth=0.5)\n",
    "axs[0].set_title('weekday')\n",
    "axs[0].set_xticks(bin_weekday)\n",
    "axs[0].set_ylabel('count')\n",
    "\n",
    "bin_hour = list(range(25))\n",
    "axs[1].hist(test.hour, bin_hour, rwidth=0.7)\n",
    "axs[1].set_title('hour')\n",
    "axs[1].set_xticks(bin_hour)\n",
    "axs[1].set_ylabel('count')\n",
    "\n",
    "plt.show()"
   ]
  },
  {
   "cell_type": "code",
   "execution_count": 12,
   "id": "5df566a8",
   "metadata": {
    "execution": {
     "iopub.execute_input": "2022-03-28T21:56:36.487194Z",
     "iopub.status.busy": "2022-03-28T21:56:36.486350Z",
     "iopub.status.idle": "2022-03-28T21:56:36.514797Z",
     "shell.execute_reply": "2022-03-28T21:56:36.514308Z",
     "shell.execute_reply.started": "2022-03-28T19:43:39.191403Z"
    },
    "papermill": {
     "duration": 0.067408,
     "end_time": "2022-03-28T21:56:36.514914",
     "exception": false,
     "start_time": "2022-03-28T21:56:36.447506",
     "status": "completed"
    },
    "tags": []
   },
   "outputs": [],
   "source": [
    "train = train[train.hour >= 12]"
   ]
  },
  {
   "cell_type": "code",
   "execution_count": 13,
   "id": "d0ed3b3f",
   "metadata": {
    "execution": {
     "iopub.execute_input": "2022-03-28T21:56:36.593322Z",
     "iopub.status.busy": "2022-03-28T21:56:36.592472Z",
     "iopub.status.idle": "2022-03-28T21:56:36.600476Z",
     "shell.execute_reply": "2022-03-28T21:56:36.600035Z",
     "shell.execute_reply.started": "2022-03-28T19:43:39.224515Z"
    },
    "papermill": {
     "duration": 0.050504,
     "end_time": "2022-03-28T21:56:36.600593",
     "exception": false,
     "start_time": "2022-03-28T21:56:36.550089",
     "status": "completed"
    },
    "tags": []
   },
   "outputs": [],
   "source": [
    "target = train.congestion\n",
    "train = train.drop(columns='congestion')\n"
   ]
  },
  {
   "cell_type": "code",
   "execution_count": 14,
   "id": "837c8d5b",
   "metadata": {
    "execution": {
     "iopub.execute_input": "2022-03-28T21:56:36.676123Z",
     "iopub.status.busy": "2022-03-28T21:56:36.675508Z",
     "iopub.status.idle": "2022-03-28T21:56:36.687765Z",
     "shell.execute_reply": "2022-03-28T21:56:36.688160Z",
     "shell.execute_reply.started": "2022-03-28T19:43:39.241265Z"
    },
    "papermill": {
     "duration": 0.051748,
     "end_time": "2022-03-28T21:56:36.688276",
     "exception": false,
     "start_time": "2022-03-28T21:56:36.636528",
     "status": "completed"
    },
    "tags": []
   },
   "outputs": [
    {
     "data": {
      "text/html": [
       "<div>\n",
       "<style scoped>\n",
       "    .dataframe tbody tr th:only-of-type {\n",
       "        vertical-align: middle;\n",
       "    }\n",
       "\n",
       "    .dataframe tbody tr th {\n",
       "        vertical-align: top;\n",
       "    }\n",
       "\n",
       "    .dataframe thead th {\n",
       "        text-align: right;\n",
       "    }\n",
       "</style>\n",
       "<table border=\"1\" class=\"dataframe\">\n",
       "  <thead>\n",
       "    <tr style=\"text-align: right;\">\n",
       "      <th></th>\n",
       "      <th>x</th>\n",
       "      <th>y</th>\n",
       "      <th>direction</th>\n",
       "      <th>weekday</th>\n",
       "      <th>hour</th>\n",
       "      <th>timeofday</th>\n",
       "      <th>saturday</th>\n",
       "      <th>sunday</th>\n",
       "      <th>minute</th>\n",
       "    </tr>\n",
       "    <tr>\n",
       "      <th>row_id</th>\n",
       "      <th></th>\n",
       "      <th></th>\n",
       "      <th></th>\n",
       "      <th></th>\n",
       "      <th></th>\n",
       "      <th></th>\n",
       "      <th></th>\n",
       "      <th></th>\n",
       "      <th></th>\n",
       "    </tr>\n",
       "  </thead>\n",
       "  <tbody>\n",
       "    <tr>\n",
       "      <th>2340</th>\n",
       "      <td>0</td>\n",
       "      <td>0</td>\n",
       "      <td>EB</td>\n",
       "      <td>0</td>\n",
       "      <td>12</td>\n",
       "      <td>12:00:00</td>\n",
       "      <td>False</td>\n",
       "      <td>False</td>\n",
       "      <td>0</td>\n",
       "    </tr>\n",
       "    <tr>\n",
       "      <th>2341</th>\n",
       "      <td>0</td>\n",
       "      <td>0</td>\n",
       "      <td>NB</td>\n",
       "      <td>0</td>\n",
       "      <td>12</td>\n",
       "      <td>12:00:00</td>\n",
       "      <td>False</td>\n",
       "      <td>False</td>\n",
       "      <td>0</td>\n",
       "    </tr>\n",
       "    <tr>\n",
       "      <th>2342</th>\n",
       "      <td>0</td>\n",
       "      <td>0</td>\n",
       "      <td>SB</td>\n",
       "      <td>0</td>\n",
       "      <td>12</td>\n",
       "      <td>12:00:00</td>\n",
       "      <td>False</td>\n",
       "      <td>False</td>\n",
       "      <td>0</td>\n",
       "    </tr>\n",
       "    <tr>\n",
       "      <th>2343</th>\n",
       "      <td>0</td>\n",
       "      <td>1</td>\n",
       "      <td>EB</td>\n",
       "      <td>0</td>\n",
       "      <td>12</td>\n",
       "      <td>12:00:00</td>\n",
       "      <td>False</td>\n",
       "      <td>False</td>\n",
       "      <td>0</td>\n",
       "    </tr>\n",
       "    <tr>\n",
       "      <th>2344</th>\n",
       "      <td>0</td>\n",
       "      <td>1</td>\n",
       "      <td>NB</td>\n",
       "      <td>0</td>\n",
       "      <td>12</td>\n",
       "      <td>12:00:00</td>\n",
       "      <td>False</td>\n",
       "      <td>False</td>\n",
       "      <td>0</td>\n",
       "    </tr>\n",
       "  </tbody>\n",
       "</table>\n",
       "</div>"
      ],
      "text/plain": [
       "        x  y direction  weekday  hour timeofday  saturday  sunday  minute\n",
       "row_id                                                                   \n",
       "2340    0  0        EB        0    12  12:00:00     False   False       0\n",
       "2341    0  0        NB        0    12  12:00:00     False   False       0\n",
       "2342    0  0        SB        0    12  12:00:00     False   False       0\n",
       "2343    0  1        EB        0    12  12:00:00     False   False       0\n",
       "2344    0  1        NB        0    12  12:00:00     False   False       0"
      ]
     },
     "execution_count": 14,
     "metadata": {},
     "output_type": "execute_result"
    }
   ],
   "source": [
    "train.head()"
   ]
  },
  {
   "cell_type": "code",
   "execution_count": 15,
   "id": "e77c3c25",
   "metadata": {
    "execution": {
     "iopub.execute_input": "2022-03-28T21:56:36.763357Z",
     "iopub.status.busy": "2022-03-28T21:56:36.762866Z",
     "iopub.status.idle": "2022-03-28T21:56:36.863784Z",
     "shell.execute_reply": "2022-03-28T21:56:36.864524Z",
     "shell.execute_reply.started": "2022-03-28T19:43:39.260999Z"
    },
    "papermill": {
     "duration": 0.140918,
     "end_time": "2022-03-28T21:56:36.864682",
     "exception": false,
     "start_time": "2022-03-28T21:56:36.723764",
     "status": "completed"
    },
    "tags": []
   },
   "outputs": [
    {
     "data": {
      "text/plain": [
       "OneHotEncoder(drop='first', sparse=False)"
      ]
     },
     "execution_count": 15,
     "metadata": {},
     "output_type": "execute_result"
    }
   ],
   "source": [
    "ohe = OneHotEncoder(drop='first', sparse=False)\n",
    "ohe.fit(train)"
   ]
  },
  {
   "cell_type": "code",
   "execution_count": 16,
   "id": "83cc01ce",
   "metadata": {
    "execution": {
     "iopub.execute_input": "2022-03-28T21:56:36.942257Z",
     "iopub.status.busy": "2022-03-28T21:56:36.941398Z",
     "iopub.status.idle": "2022-03-28T21:56:36.943213Z",
     "shell.execute_reply": "2022-03-28T21:56:36.943688Z",
     "shell.execute_reply.started": "2022-03-28T19:43:39.368835Z"
    },
    "papermill": {
     "duration": 0.042879,
     "end_time": "2022-03-28T21:56:36.943830",
     "exception": false,
     "start_time": "2022-03-28T21:56:36.900951",
     "status": "completed"
    },
    "tags": []
   },
   "outputs": [],
   "source": [
    "def fe1(data):\n",
    "    data_ohe = ohe.transform(data)\n",
    "    df = pd.DataFrame(data_ohe, index=data.index)\n",
    "    return df"
   ]
  },
  {
   "cell_type": "code",
   "execution_count": 17,
   "id": "c7ef9b87",
   "metadata": {
    "execution": {
     "iopub.execute_input": "2022-03-28T21:56:37.022539Z",
     "iopub.status.busy": "2022-03-28T21:56:37.021755Z",
     "iopub.status.idle": "2022-03-28T21:56:38.010602Z",
     "shell.execute_reply": "2022-03-28T21:56:38.010091Z",
     "shell.execute_reply.started": "2022-03-28T19:43:39.374863Z"
    },
    "papermill": {
     "duration": 1.030192,
     "end_time": "2022-03-28T21:56:38.010746",
     "exception": false,
     "start_time": "2022-03-28T21:56:36.980554",
     "status": "completed"
    },
    "tags": []
   },
   "outputs": [],
   "source": [
    "x_data = fe1(train)\n",
    "x_test = fe1(test)"
   ]
  },
  {
   "cell_type": "code",
   "execution_count": 18,
   "id": "045ca7e7",
   "metadata": {
    "execution": {
     "iopub.execute_input": "2022-03-28T21:56:38.089478Z",
     "iopub.status.busy": "2022-03-28T21:56:38.088321Z",
     "iopub.status.idle": "2022-03-28T21:56:38.091411Z",
     "shell.execute_reply": "2022-03-28T21:56:38.091805Z",
     "shell.execute_reply.started": "2022-03-28T19:43:40.372915Z"
    },
    "papermill": {
     "duration": 0.044757,
     "end_time": "2022-03-28T21:56:38.091926",
     "exception": false,
     "start_time": "2022-03-28T21:56:38.047169",
     "status": "completed"
    },
    "tags": []
   },
   "outputs": [
    {
     "data": {
      "text/plain": [
       "68"
      ]
     },
     "execution_count": 18,
     "metadata": {},
     "output_type": "execute_result"
    }
   ],
   "source": [
    "num_feature = x_data.shape[1]\n",
    "num_feature"
   ]
  },
  {
   "cell_type": "code",
   "execution_count": 19,
   "id": "05019600",
   "metadata": {
    "execution": {
     "iopub.execute_input": "2022-03-28T21:56:38.168531Z",
     "iopub.status.busy": "2022-03-28T21:56:38.167991Z",
     "iopub.status.idle": "2022-03-28T21:56:38.171565Z",
     "shell.execute_reply": "2022-03-28T21:56:38.171123Z",
     "shell.execute_reply.started": "2022-03-28T19:43:40.380196Z"
    },
    "papermill": {
     "duration": 0.04356,
     "end_time": "2022-03-28T21:56:38.171677",
     "exception": false,
     "start_time": "2022-03-28T21:56:38.128117",
     "status": "completed"
    },
    "tags": []
   },
   "outputs": [],
   "source": [
    "x_data = x_data.values\n",
    "x_test = x_test.values\n",
    "target = target.values.reshape(-1, 1)"
   ]
  },
  {
   "cell_type": "code",
   "execution_count": 20,
   "id": "c2d32cd1",
   "metadata": {
    "execution": {
     "iopub.execute_input": "2022-03-28T21:56:38.249241Z",
     "iopub.status.busy": "2022-03-28T21:56:38.248677Z",
     "iopub.status.idle": "2022-03-28T21:56:38.401588Z",
     "shell.execute_reply": "2022-03-28T21:56:38.401052Z",
     "shell.execute_reply.started": "2022-03-28T19:43:40.389617Z"
    },
    "papermill": {
     "duration": 0.193865,
     "end_time": "2022-03-28T21:56:38.401729",
     "exception": false,
     "start_time": "2022-03-28T21:56:38.207864",
     "status": "completed"
    },
    "tags": []
   },
   "outputs": [],
   "source": [
    "x_data = torch.tensor(x_data)\n",
    "x_test = torch.tensor(x_test)\n",
    "target = torch.tensor(target)"
   ]
  },
  {
   "cell_type": "code",
   "execution_count": 21,
   "id": "2ab9baba",
   "metadata": {
    "execution": {
     "iopub.execute_input": "2022-03-28T21:56:38.530306Z",
     "iopub.status.busy": "2022-03-28T21:56:38.529677Z",
     "iopub.status.idle": "2022-03-28T21:56:38.533018Z",
     "shell.execute_reply": "2022-03-28T21:56:38.533647Z",
     "shell.execute_reply.started": "2022-03-28T19:43:40.550871Z"
    },
    "papermill": {
     "duration": 0.093292,
     "end_time": "2022-03-28T21:56:38.533849",
     "exception": false,
     "start_time": "2022-03-28T21:56:38.440557",
     "status": "completed"
    },
    "tags": []
   },
   "outputs": [
    {
     "name": "stdout",
     "output_type": "stream",
     "text": [
      "Using cuda device\n"
     ]
    }
   ],
   "source": [
    "device = 'cuda' if torch.cuda.is_available() else 'cpu'\n",
    "print(f'Using {device} device')"
   ]
  },
  {
   "cell_type": "code",
   "execution_count": 22,
   "id": "09141283",
   "metadata": {
    "execution": {
     "iopub.execute_input": "2022-03-28T21:56:38.617736Z",
     "iopub.status.busy": "2022-03-28T21:56:38.617144Z",
     "iopub.status.idle": "2022-03-28T21:56:41.450772Z",
     "shell.execute_reply": "2022-03-28T21:56:41.450262Z",
     "shell.execute_reply.started": "2022-03-28T19:43:40.599548Z"
    },
    "papermill": {
     "duration": 2.877182,
     "end_time": "2022-03-28T21:56:41.450898",
     "exception": false,
     "start_time": "2022-03-28T21:56:38.573716",
     "status": "completed"
    },
    "tags": []
   },
   "outputs": [],
   "source": [
    "x_data = x_data.double().to(device)\n",
    "x_test = x_test.double().to(device)\n",
    "target = target.double().to(device)"
   ]
  },
  {
   "cell_type": "code",
   "execution_count": 23,
   "id": "3f2d138a",
   "metadata": {
    "execution": {
     "iopub.execute_input": "2022-03-28T21:56:41.529315Z",
     "iopub.status.busy": "2022-03-28T21:56:41.528618Z",
     "iopub.status.idle": "2022-03-28T21:56:41.557199Z",
     "shell.execute_reply": "2022-03-28T21:56:41.556785Z",
     "shell.execute_reply.started": "2022-03-28T19:43:43.408184Z"
    },
    "papermill": {
     "duration": 0.069324,
     "end_time": "2022-03-28T21:56:41.557325",
     "exception": false,
     "start_time": "2022-03-28T21:56:41.488001",
     "status": "completed"
    },
    "tags": []
   },
   "outputs": [],
   "source": [
    "x_train, x_val, y_train, y_val = train_test_split(x_data, target)"
   ]
  },
  {
   "cell_type": "code",
   "execution_count": 24,
   "id": "1f337468",
   "metadata": {
    "execution": {
     "iopub.execute_input": "2022-03-28T21:56:41.641944Z",
     "iopub.status.busy": "2022-03-28T21:56:41.641335Z",
     "iopub.status.idle": "2022-03-28T21:56:41.654808Z",
     "shell.execute_reply": "2022-03-28T21:56:41.654336Z",
     "shell.execute_reply.started": "2022-03-28T19:43:43.443518Z"
    },
    "papermill": {
     "duration": 0.060418,
     "end_time": "2022-03-28T21:56:41.654916",
     "exception": false,
     "start_time": "2022-03-28T21:56:41.594498",
     "status": "completed"
    },
    "tags": []
   },
   "outputs": [],
   "source": [
    "class Net(nn.Module):\n",
    "    \n",
    "    def __init__(self):\n",
    "        super(Net, self).__init__()\n",
    "        self.linear_relu_stack = nn.Sequential(\n",
    "            nn.Linear(num_feature, 300), \n",
    "            nn.ReLU(), \n",
    "            nn.Linear(300, 100), \n",
    "            nn.ReLU(),\n",
    "            nn.Linear(100, 50), \n",
    "            nn.ReLU(), \n",
    "            nn.Linear(50, 1)\n",
    "        )\n",
    "        \n",
    "    def forward(self, x):\n",
    "        logits = self.linear_relu_stack(x)\n",
    "        return logits\n",
    "    \n",
    "model = Net().double().to(device)"
   ]
  },
  {
   "cell_type": "code",
   "execution_count": 25,
   "id": "69e5b36e",
   "metadata": {
    "execution": {
     "iopub.execute_input": "2022-03-28T21:56:41.733455Z",
     "iopub.status.busy": "2022-03-28T21:56:41.732914Z",
     "iopub.status.idle": "2022-03-28T21:56:41.738923Z",
     "shell.execute_reply": "2022-03-28T21:56:41.738511Z",
     "shell.execute_reply.started": "2022-03-28T19:43:43.465113Z"
    },
    "papermill": {
     "duration": 0.047384,
     "end_time": "2022-03-28T21:56:41.739021",
     "exception": false,
     "start_time": "2022-03-28T21:56:41.691637",
     "status": "completed"
    },
    "tags": []
   },
   "outputs": [
    {
     "data": {
      "text/plain": [
       "Net(\n",
       "  (linear_relu_stack): Sequential(\n",
       "    (0): Linear(in_features=68, out_features=300, bias=True)\n",
       "    (1): ReLU()\n",
       "    (2): Linear(in_features=300, out_features=100, bias=True)\n",
       "    (3): ReLU()\n",
       "    (4): Linear(in_features=100, out_features=50, bias=True)\n",
       "    (5): ReLU()\n",
       "    (6): Linear(in_features=50, out_features=1, bias=True)\n",
       "  )\n",
       ")"
      ]
     },
     "execution_count": 25,
     "metadata": {},
     "output_type": "execute_result"
    }
   ],
   "source": [
    "def init_weight(layer):\n",
    "    if type(layer) == nn.Linear:\n",
    "        nn.init.xavier_normal_(layer.weight.data)\n",
    "model.apply(init_weight)"
   ]
  },
  {
   "cell_type": "code",
   "execution_count": 26,
   "id": "ccd7d41e",
   "metadata": {
    "execution": {
     "iopub.execute_input": "2022-03-28T21:56:41.819277Z",
     "iopub.status.busy": "2022-03-28T21:56:41.814450Z",
     "iopub.status.idle": "2022-03-28T21:56:41.821679Z",
     "shell.execute_reply": "2022-03-28T21:56:41.821229Z",
     "shell.execute_reply.started": "2022-03-28T19:43:43.477752Z"
    },
    "papermill": {
     "duration": 0.045996,
     "end_time": "2022-03-28T21:56:41.821792",
     "exception": false,
     "start_time": "2022-03-28T21:56:41.775796",
     "status": "completed"
    },
    "tags": []
   },
   "outputs": [],
   "source": [
    "def train_loop(dataloader, model, loss_fn, optimizer):\n",
    "    size = len(dataloader.dataset)\n",
    "    for X, y in dataloader:\n",
    "        # Compute prediction and loss\n",
    "        pred = model(X)\n",
    "        loss = loss_fn(pred, y)\n",
    "\n",
    "        # Backpropagation\n",
    "        optimizer.zero_grad()\n",
    "        loss.backward()\n",
    "        optimizer.step()\n",
    "\n",
    "    return loss.data\n",
    "\n",
    "\n",
    "def test_loop(dataloader, model, loss_fn):\n",
    "    size = len(dataloader.dataset)\n",
    "    num_batches = len(dataloader)\n",
    "    test_loss = 0\n",
    "\n",
    "    with torch.no_grad():\n",
    "        for X, y in dataloader:\n",
    "            pred = model(X)\n",
    "            test_loss += loss_fn(pred, y).item()\n",
    "\n",
    "    test_loss /= num_batches\n",
    "    return test_loss"
   ]
  },
  {
   "cell_type": "code",
   "execution_count": 27,
   "id": "a1f7ec6a",
   "metadata": {
    "execution": {
     "iopub.execute_input": "2022-03-28T21:56:41.921111Z",
     "iopub.status.busy": "2022-03-28T21:56:41.920309Z",
     "iopub.status.idle": "2022-03-28T23:40:06.572664Z",
     "shell.execute_reply": "2022-03-28T23:40:06.573122Z",
     "shell.execute_reply.started": "2022-03-28T19:43:43.487578Z"
    },
    "papermill": {
     "duration": 6204.714309,
     "end_time": "2022-03-28T23:40:06.573287",
     "exception": false,
     "start_time": "2022-03-28T21:56:41.858978",
     "status": "completed"
    },
    "tags": []
   },
   "outputs": [
    {
     "name": "stdout",
     "output_type": "stream",
     "text": [
      "epoch 0 loss 11.288669142329764\n",
      "epoch 50 loss 5.82589418858515\n",
      "epoch 100 loss 5.739732695719896\n",
      "epoch 150 loss 5.731009324965175\n",
      "epoch 200 loss 5.795506817315725\n",
      "epoch 250 loss 5.6982620562702895\n",
      "epoch 300 loss 5.7046951499607745\n",
      "epoch 350 loss 5.716865200094061\n",
      "epoch 400 loss 5.715220881657291\n",
      "epoch 450 loss 5.74073186851981\n",
      "epoch 500 loss 5.804057841917283\n",
      "epoch 550 loss 5.718379739538898\n",
      "epoch 600 loss 5.709260882887307\n",
      "epoch 650 loss 5.736693583926188\n",
      "epoch 700 loss 5.728914996258386\n",
      "epoch 750 loss 5.72979879790411\n",
      "epoch 800 loss 5.734235756784653\n",
      "epoch 850 loss 5.721788681737722\n",
      "epoch 900 loss 5.739688754114116\n",
      "epoch 950 loss 5.725732842793372\n",
      "Done!\n"
     ]
    }
   ],
   "source": [
    "learning_rate = 1e-3\n",
    "batch_size = 128\n",
    "epochs = 1000\n",
    "\n",
    "loss_fn = nn.L1Loss()\n",
    "optimizer = torch.optim.SGD(model.parameters(), lr=learning_rate)\n",
    "\n",
    "train_dataset = TensorDataset(x_train, y_train)\n",
    "train_dataloader = DataLoader(train_dataset, batch_size=batch_size, shuffle=True)\n",
    "val_dataset = TensorDataset(x_val, y_val)\n",
    "val_dataloader = DataLoader(val_dataset, batch_size=batch_size, shuffle=True)\n",
    "\n",
    "loss_list_train = []\n",
    "loss_list_test = []\n",
    "for t in range(epochs):\n",
    "    loss_train = train_loop(train_dataloader, model, loss_fn, optimizer)\n",
    "    test_loss = test_loop(val_dataloader, model, loss_fn)\n",
    "    loss_list_train.append(loss_train)\n",
    "    loss_list_test.append(test_loss)\n",
    "    if t % 50 == 0:\n",
    "        print(f'epoch {t} loss {test_loss}')\n",
    "print(\"Done!\")"
   ]
  },
  {
   "cell_type": "code",
   "execution_count": 28,
   "id": "8f7feb80",
   "metadata": {
    "execution": {
     "iopub.execute_input": "2022-03-28T23:40:06.706950Z",
     "iopub.status.busy": "2022-03-28T23:40:06.704557Z",
     "iopub.status.idle": "2022-03-28T23:40:06.862088Z",
     "shell.execute_reply": "2022-03-28T23:40:06.861187Z",
     "shell.execute_reply.started": "2022-03-28T21:19:51.716373Z"
    },
    "papermill": {
     "duration": 0.239113,
     "end_time": "2022-03-28T23:40:06.862222",
     "exception": false,
     "start_time": "2022-03-28T23:40:06.623109",
     "status": "completed"
    },
    "tags": []
   },
   "outputs": [
    {
     "data": {
      "image/png": "[encoded data removed]",
      "text/plain": [
       "<Figure size 432x288 with 1 Axes>"
      ]
     },
     "metadata": {
      "needs_background": "light"
     },
     "output_type": "display_data"
    }
   ],
   "source": [
    "plt.plot(range(epochs),loss_list_test)\n",
    "plt.xlabel(\"Number of Epochs\")\n",
    "plt.ylabel(\"Loss\")\n",
    "plt.show()"
   ]
  },
  {
   "cell_type": "code",
   "execution_count": 29,
   "id": "b17596e5",
   "metadata": {
    "execution": {
     "iopub.execute_input": "2022-03-28T23:40:06.974437Z",
     "iopub.status.busy": "2022-03-28T23:40:06.973722Z",
     "iopub.status.idle": "2022-03-28T23:40:07.013553Z",
     "shell.execute_reply": "2022-03-28T23:40:07.013989Z",
     "shell.execute_reply.started": "2022-03-28T21:19:51.893943Z"
    },
    "papermill": {
     "duration": 0.098118,
     "end_time": "2022-03-28T23:40:07.014147",
     "exception": false,
     "start_time": "2022-03-28T23:40:06.916029",
     "status": "completed"
    },
    "tags": []
   },
   "outputs": [
    {
     "data": {
      "text/plain": [
       "tensor([[47.],\n",
       "        [35.],\n",
       "        [56.],\n",
       "        ...,\n",
       "        [72.],\n",
       "        [12.],\n",
       "        [40.]], device='cuda:0', dtype=torch.float64)"
      ]
     },
     "execution_count": 29,
     "metadata": {},
     "output_type": "execute_result"
    }
   ],
   "source": [
    "with torch.no_grad():\n",
    "    y_test = model(x_test)\n",
    "    y_test = torch.round(y_test)\n",
    "y_test"
   ]
  },
  {
   "cell_type": "code",
   "execution_count": 30,
   "id": "4744ddc4",
   "metadata": {
    "execution": {
     "iopub.execute_input": "2022-03-28T23:40:07.123287Z",
     "iopub.status.busy": "2022-03-28T23:40:07.122499Z",
     "iopub.status.idle": "2022-03-28T23:40:07.159014Z",
     "shell.execute_reply": "2022-03-28T23:40:07.158553Z",
     "shell.execute_reply.started": "2022-03-28T21:39:47.447212Z"
    },
    "papermill": {
     "duration": 0.092689,
     "end_time": "2022-03-28T23:40:07.159140",
     "exception": false,
     "start_time": "2022-03-28T23:40:07.066451",
     "status": "completed"
    },
    "tags": []
   },
   "outputs": [],
   "source": [
    "sub = pd.read_csv('../input/tabular-playground-series-mar-2022/sample_submission.csv')"
   ]
  },
  {
   "cell_type": "code",
   "execution_count": 31,
   "id": "54b90156",
   "metadata": {
    "execution": {
     "iopub.execute_input": "2022-03-28T23:40:07.268544Z",
     "iopub.status.busy": "2022-03-28T23:40:07.267546Z",
     "iopub.status.idle": "2022-03-28T23:40:07.275609Z",
     "shell.execute_reply": "2022-03-28T23:40:07.276012Z",
     "shell.execute_reply.started": "2022-03-28T21:53:45.697503Z"
    },
    "papermill": {
     "duration": 0.06506,
     "end_time": "2022-03-28T23:40:07.276134",
     "exception": false,
     "start_time": "2022-03-28T23:40:07.211074",
     "status": "completed"
    },
    "tags": []
   },
   "outputs": [
    {
     "data": {
      "text/html": [
       "<div>\n",
       "<style scoped>\n",
       "    .dataframe tbody tr th:only-of-type {\n",
       "        vertical-align: middle;\n",
       "    }\n",
       "\n",
       "    .dataframe tbody tr th {\n",
       "        vertical-align: top;\n",
       "    }\n",
       "\n",
       "    .dataframe thead th {\n",
       "        text-align: right;\n",
       "    }\n",
       "</style>\n",
       "<table border=\"1\" class=\"dataframe\">\n",
       "  <thead>\n",
       "    <tr style=\"text-align: right;\">\n",
       "      <th></th>\n",
       "      <th>0</th>\n",
       "    </tr>\n",
       "  </thead>\n",
       "  <tbody>\n",
       "    <tr>\n",
       "      <th>0</th>\n",
       "      <td>47.0</td>\n",
       "    </tr>\n",
       "    <tr>\n",
       "      <th>1</th>\n",
       "      <td>35.0</td>\n",
       "    </tr>\n",
       "    <tr>\n",
       "      <th>2</th>\n",
       "      <td>56.0</td>\n",
       "    </tr>\n",
       "    <tr>\n",
       "      <th>3</th>\n",
       "      <td>23.0</td>\n",
       "    </tr>\n",
       "    <tr>\n",
       "      <th>4</th>\n",
       "      <td>74.0</td>\n",
       "    </tr>\n",
       "    <tr>\n",
       "      <th>...</th>\n",
       "      <td>...</td>\n",
       "    </tr>\n",
       "    <tr>\n",
       "      <th>2335</th>\n",
       "      <td>67.0</td>\n",
       "    </tr>\n",
       "    <tr>\n",
       "      <th>2336</th>\n",
       "      <td>27.0</td>\n",
       "    </tr>\n",
       "    <tr>\n",
       "      <th>2337</th>\n",
       "      <td>72.0</td>\n",
       "    </tr>\n",
       "    <tr>\n",
       "      <th>2338</th>\n",
       "      <td>12.0</td>\n",
       "    </tr>\n",
       "    <tr>\n",
       "      <th>2339</th>\n",
       "      <td>40.0</td>\n",
       "    </tr>\n",
       "  </tbody>\n",
       "</table>\n",
       "<p>2340 rows × 1 columns</p>\n",
       "</div>"
      ],
      "text/plain": [
       "         0\n",
       "0     47.0\n",
       "1     35.0\n",
       "2     56.0\n",
       "3     23.0\n",
       "4     74.0\n",
       "...    ...\n",
       "2335  67.0\n",
       "2336  27.0\n",
       "2337  72.0\n",
       "2338  12.0\n",
       "2339  40.0\n",
       "\n",
       "[2340 rows x 1 columns]"
      ]
     },
     "execution_count": 31,
     "metadata": {},
     "output_type": "execute_result"
    }
   ],
   "source": [
    "pd_y_test = pd.DataFrame(y_test.cpu().numpy())\n",
    "pd_y_test"
   ]
  },
  {
   "cell_type": "code",
   "execution_count": 32,
   "id": "ed3546b9",
   "metadata": {
    "execution": {
     "iopub.execute_input": "2022-03-28T23:40:07.383532Z",
     "iopub.status.busy": "2022-03-28T23:40:07.382689Z",
     "iopub.status.idle": "2022-03-28T23:40:07.385354Z",
     "shell.execute_reply": "2022-03-28T23:40:07.384926Z",
     "shell.execute_reply.started": "2022-03-28T21:54:19.197105Z"
    },
    "papermill": {
     "duration": 0.058634,
     "end_time": "2022-03-28T23:40:07.385487",
     "exception": false,
     "start_time": "2022-03-28T23:40:07.326853",
     "status": "completed"
    },
    "tags": []
   },
   "outputs": [],
   "source": [
    "sub.congestion = pd_y_test"
   ]
  },
  {
   "cell_type": "code",
   "execution_count": 33,
   "id": "cd5da560",
   "metadata": {
    "execution": {
     "iopub.execute_input": "2022-03-28T23:40:07.487514Z",
     "iopub.status.busy": "2022-03-28T23:40:07.486725Z",
     "iopub.status.idle": "2022-03-28T23:40:07.489606Z",
     "shell.execute_reply": "2022-03-28T23:40:07.490033Z",
     "shell.execute_reply.started": "2022-03-28T21:54:23.163200Z"
    },
    "papermill": {
     "duration": 0.05853,
     "end_time": "2022-03-28T23:40:07.490147",
     "exception": false,
     "start_time": "2022-03-28T23:40:07.431617",
     "status": "completed"
    },
    "tags": []
   },
   "outputs": [
    {
     "data": {
      "text/html": [
       "<div>\n",
       "<style scoped>\n",
       "    .dataframe tbody tr th:only-of-type {\n",
       "        vertical-align: middle;\n",
       "    }\n",
       "\n",
       "    .dataframe tbody tr th {\n",
       "        vertical-align: top;\n",
       "    }\n",
       "\n",
       "    .dataframe thead th {\n",
       "        text-align: right;\n",
       "    }\n",
       "</style>\n",
       "<table border=\"1\" class=\"dataframe\">\n",
       "  <thead>\n",
       "    <tr style=\"text-align: right;\">\n",
       "      <th></th>\n",
       "      <th>row_id</th>\n",
       "      <th>congestion</th>\n",
       "    </tr>\n",
       "  </thead>\n",
       "  <tbody>\n",
       "    <tr>\n",
       "      <th>0</th>\n",
       "      <td>848835</td>\n",
       "      <td>47.0</td>\n",
       "    </tr>\n",
       "    <tr>\n",
       "      <th>1</th>\n",
       "      <td>848836</td>\n",
       "      <td>35.0</td>\n",
       "    </tr>\n",
       "    <tr>\n",
       "      <th>2</th>\n",
       "      <td>848837</td>\n",
       "      <td>56.0</td>\n",
       "    </tr>\n",
       "    <tr>\n",
       "      <th>3</th>\n",
       "      <td>848838</td>\n",
       "      <td>23.0</td>\n",
       "    </tr>\n",
       "    <tr>\n",
       "      <th>4</th>\n",
       "      <td>848839</td>\n",
       "      <td>74.0</td>\n",
       "    </tr>\n",
       "    <tr>\n",
       "      <th>...</th>\n",
       "      <td>...</td>\n",
       "      <td>...</td>\n",
       "    </tr>\n",
       "    <tr>\n",
       "      <th>2335</th>\n",
       "      <td>851170</td>\n",
       "      <td>67.0</td>\n",
       "    </tr>\n",
       "    <tr>\n",
       "      <th>2336</th>\n",
       "      <td>851171</td>\n",
       "      <td>27.0</td>\n",
       "    </tr>\n",
       "    <tr>\n",
       "      <th>2337</th>\n",
       "      <td>851172</td>\n",
       "      <td>72.0</td>\n",
       "    </tr>\n",
       "    <tr>\n",
       "      <th>2338</th>\n",
       "      <td>851173</td>\n",
       "      <td>12.0</td>\n",
       "    </tr>\n",
       "    <tr>\n",
       "      <th>2339</th>\n",
       "      <td>851174</td>\n",
       "      <td>40.0</td>\n",
       "    </tr>\n",
       "  </tbody>\n",
       "</table>\n",
       "<p>2340 rows × 2 columns</p>\n",
       "</div>"
      ],
      "text/plain": [
       "      row_id  congestion\n",
       "0     848835        47.0\n",
       "1     848836        35.0\n",
       "2     848837        56.0\n",
       "3     848838        23.0\n",
       "4     848839        74.0\n",
       "...      ...         ...\n",
       "2335  851170        67.0\n",
       "2336  851171        27.0\n",
       "2337  851172        72.0\n",
       "2338  851173        12.0\n",
       "2339  851174        40.0\n",
       "\n",
       "[2340 rows x 2 columns]"
      ]
     },
     "execution_count": 33,
     "metadata": {},
     "output_type": "execute_result"
    }
   ],
   "source": [
    "sub"
   ]
  },
  {
   "cell_type": "code",
   "execution_count": 34,
   "id": "4cfe8306",
   "metadata": {
    "execution": {
     "iopub.execute_input": "2022-03-28T23:40:07.585834Z",
     "iopub.status.busy": "2022-03-28T23:40:07.585222Z",
     "iopub.status.idle": "2022-03-28T23:40:07.594843Z",
     "shell.execute_reply": "2022-03-28T23:40:07.594428Z",
     "shell.execute_reply.started": "2022-03-28T21:55:36.041622Z"
    },
    "papermill": {
     "duration": 0.058869,
     "end_time": "2022-03-28T23:40:07.594959",
     "exception": false,
     "start_time": "2022-03-28T23:40:07.536090",
     "status": "completed"
    },
    "tags": []
   },
   "outputs": [],
   "source": [
    "sub.to_csv(\"submission.csv\", index=False)"
   ]
  },
  {
   "cell_type": "code",
   "execution_count": null,
   "id": "692056bd",
   "metadata": {
    "papermill": {
     "duration": 0.047422,
     "end_time": "2022-03-28T23:40:07.688335",
     "exception": false,
     "start_time": "2022-03-28T23:40:07.640913",
     "status": "completed"
    },
    "tags": []
   },
   "outputs": [],
   "source": []
  }
 ],
 "metadata": {
  "kernelspec": {
   "display_name": "Python 3",
   "language": "python",
   "name": "python3"
  },
  "language_info": {
   "codemirror_mode": {
    "name": "ipython",
    "version": 3
   },
   "file_extension": ".py",
   "mimetype": "text/x-python",
   "name": "python",
   "nbconvert_exporter": "python",
   "pygments_lexer": "ipython3",
   "version": "3.7.12"
  },
  "papermill": {
   "default_parameters": {},
   "duration": 6227.605333,
   "end_time": "2022-03-28T23:40:08.871306",
   "environment_variables": {},
   "exception": null,
   "input_path": "__notebook__.ipynb",
   "output_path": "__notebook__.ipynb",
   "parameters": {},
   "start_time": "2022-03-28T21:56:21.265973",
   "version": "2.3.3"
  }
 },
 "nbformat": 4,
 "nbformat_minor": 5
}
