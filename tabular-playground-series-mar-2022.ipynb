{
 "cells": [
  {
   "cell_type": "markdown",
   "id": "15b62b4a",
   "metadata": {
    "papermill": {
     "duration": 0.026577,
     "end_time": "2022-03-25T21:30:18.976741",
     "exception": false,
     "start_time": "2022-03-25T21:30:18.950164",
     "status": "completed"
    },
    "tags": []
   },
   "source": [
    "---\n",
    "$\\Huge{Tabular\\ Playground\\ Series\\ -\\ Mar\\ 2022}$\n",
    "\n",
    "$Practice\\ your\\ ML\\ skills\\ on\\ this\\ approachable\\ dataset!$\n",
    "\n",
    "---"
   ]
  },
  {
   "cell_type": "markdown",
   "id": "e3f5dffc",
   "metadata": {
    "papermill": {
     "duration": 0.024656,
     "end_time": "2022-03-25T21:30:19.028582",
     "exception": false,
     "start_time": "2022-03-25T21:30:19.003926",
     "status": "completed"
    },
    "tags": []
   },
   "source": [
    "# Overview\n",
    "\n",
    "## Description\n",
    "\n",
    "For the March edition of the 2022 Tabular Playground Series you're challenged to forecast twelve-hours of traffic flow in a U.S. metropolis. The time series in this dataset are labelled with both location coordinates and a direction of travel -- a combination of features that will test your skill at spatio-temporal forecasting within a highly dynamic traffic network.\n",
    "\n",
    "Which model will prevail? The venerable linear regression? The deservedly-popular ensemble of decision trees? Or maybe a cutting-edge graph neural-network? We can't wait to see!\n",
    "\n",
    "### About the Tabular Playground Series\n",
    "\n",
    "Kaggle competitions are incredibly fun and rewarding, but they can also be intimidating for people who are relatively new in their data science journey. In the past, we've launched many Playground competitions that are more approachable than our Featured competitions and thus, more beginner-friendly.\n",
    "\n",
    "The goal of these competitions is to provide a fun and approachable-for-anyone tabular dataset to model. These competitions are a great choice for people looking for something in between the Titanic Getting Started competition and the Featured competitions. If you're an established competitions master or grandmaster, these probably won't be much of a challenge for you; thus, we encourage you to avoid saturating the leaderboard.\n",
    "\n",
    "For each monthly competition, we'll be offering Kaggle Merchandise for the top three teams. And finally, because we want these competitions to be more about learning, we're limiting team sizes to 3 individuals."
   ]
  },
  {
   "cell_type": "markdown",
   "id": "cb59d6cf",
   "metadata": {
    "papermill": {
     "duration": 0.024155,
     "end_time": "2022-03-25T21:30:19.076970",
     "exception": false,
     "start_time": "2022-03-25T21:30:19.052815",
     "status": "completed"
    },
    "tags": []
   },
   "source": []
  },
  {
   "cell_type": "markdown",
   "id": "a4c46128",
   "metadata": {
    "papermill": {
     "duration": 0.024721,
     "end_time": "2022-03-25T21:30:19.126864",
     "exception": false,
     "start_time": "2022-03-25T21:30:19.102143",
     "status": "completed"
    },
    "tags": []
   },
   "source": []
  },
  {
   "cell_type": "markdown",
   "id": "4493e45b",
   "metadata": {
    "papermill": {
     "duration": 0.024889,
     "end_time": "2022-03-25T21:30:19.177037",
     "exception": false,
     "start_time": "2022-03-25T21:30:19.152148",
     "status": "completed"
    },
    "tags": []
   },
   "source": []
  },
  {
   "cell_type": "markdown",
   "id": "9e756b4a",
   "metadata": {
    "papermill": {
     "duration": 0.024856,
     "end_time": "2022-03-25T21:30:19.229877",
     "exception": false,
     "start_time": "2022-03-25T21:30:19.205021",
     "status": "completed"
    },
    "tags": []
   },
   "source": [
    "# Libraries Import\n",
    "## Regular Libraries"
   ]
  },
  {
   "cell_type": "code",
   "execution_count": 1,
   "id": "b5e0151f",
   "metadata": {
    "execution": {
     "iopub.execute_input": "2022-03-25T21:30:19.291880Z",
     "iopub.status.busy": "2022-03-25T21:30:19.291010Z",
     "iopub.status.idle": "2022-03-25T21:30:19.295165Z",
     "shell.execute_reply": "2022-03-25T21:30:19.294646Z",
     "shell.execute_reply.started": "2022-03-25T21:29:53.681847Z"
    },
    "papermill": {
     "duration": 0.039904,
     "end_time": "2022-03-25T21:30:19.295302",
     "exception": false,
     "start_time": "2022-03-25T21:30:19.255398",
     "status": "completed"
    },
    "tags": []
   },
   "outputs": [],
   "source": [
    "import numpy as np\n",
    "import pandas as pd\n",
    "import os"
   ]
  },
  {
   "cell_type": "code",
   "execution_count": null,
   "id": "c9733f02",
   "metadata": {
    "papermill": {
     "duration": 0.024711,
     "end_time": "2022-03-25T21:30:19.346209",
     "exception": false,
     "start_time": "2022-03-25T21:30:19.321498",
     "status": "completed"
    },
    "tags": []
   },
   "outputs": [],
   "source": []
  },
  {
   "cell_type": "code",
   "execution_count": 2,
   "id": "1e7ab330",
   "metadata": {
    "execution": {
     "iopub.execute_input": "2022-03-25T21:30:19.400457Z",
     "iopub.status.busy": "2022-03-25T21:30:19.399834Z",
     "iopub.status.idle": "2022-03-25T21:30:20.427100Z",
     "shell.execute_reply": "2022-03-25T21:30:20.426616Z",
     "shell.execute_reply.started": "2022-03-25T21:29:53.691149Z"
    },
    "papermill": {
     "duration": 1.056588,
     "end_time": "2022-03-25T21:30:20.427234",
     "exception": false,
     "start_time": "2022-03-25T21:30:19.370646",
     "status": "completed"
    },
    "tags": []
   },
   "outputs": [],
   "source": [
    "train = pd.read_csv('../input/tabular-playground-series-mar-2022/train.csv', index_col=0, parse_dates=['time'])\n",
    "test = pd.read_csv('../input/tabular-playground-series-mar-2022/test.csv', index_col=0, parse_dates=['time'])"
   ]
  },
  {
   "cell_type": "code",
   "execution_count": 3,
   "id": "6ea8835e",
   "metadata": {
    "execution": {
     "iopub.execute_input": "2022-03-25T21:30:20.492618Z",
     "iopub.status.busy": "2022-03-25T21:30:20.491637Z",
     "iopub.status.idle": "2022-03-25T21:30:20.493547Z",
     "shell.execute_reply": "2022-03-25T21:30:20.493942Z",
     "shell.execute_reply.started": "2022-03-25T21:29:54.386435Z"
    },
    "papermill": {
     "duration": 0.042373,
     "end_time": "2022-03-25T21:30:20.494112",
     "exception": false,
     "start_time": "2022-03-25T21:30:20.451739",
     "status": "completed"
    },
    "tags": []
   },
   "outputs": [],
   "source": [
    "def reduce_mem_usage(df, verbose=True):\n",
    "    numerics = ['int16', 'int32', 'int64', 'float16', 'float32', 'float64']\n",
    "    start_mem = df.memory_usage().sum() / 1024**2    \n",
    "    for col in df.columns:\n",
    "        col_type = df[col].dtypes\n",
    "        if col_type in numerics:\n",
    "            c_min = df[col].min()\n",
    "            c_max = df[col].max()\n",
    "            if str(col_type)[:3] == 'int':\n",
    "                if c_min > np.iinfo(np.int8).min and c_max < np.iinfo(np.int8).max:\n",
    "                    df[col] = df[col].astype(np.int8)\n",
    "                elif c_min > np.iinfo(np.int16).min and c_max < np.iinfo(np.int16).max:\n",
    "                    df[col] = df[col].astype(np.int16)\n",
    "                elif c_min > np.iinfo(np.int32).min and c_max < np.iinfo(np.int32).max:\n",
    "                    df[col] = df[col].astype(np.int32)\n",
    "                elif c_min > np.iinfo(np.int64).min and c_max < np.iinfo(np.int64).max:\n",
    "                    df[col] = df[col].astype(np.int64)  \n",
    "            else:\n",
    "                if c_min > np.finfo(np.float16).min and c_max < np.finfo(np.float16).max:\n",
    "                    df[col] = df[col].astype(np.float16)\n",
    "                elif c_min > np.finfo(np.float32).min and c_max < np.finfo(np.float32).max:\n",
    "                    df[col] = df[col].astype(np.float32)\n",
    "                else:\n",
    "                    df[col] = df[col].astype(np.float64)  \n",
    "        else:\n",
    "            df[col] = df[col].astype('category')\n",
    "    end_mem = df.memory_usage().sum() / 1024**2\n",
    "    if verbose: print('Mem. usage decreased to {:5.2f} Mb ({:.1f}% reduction)'.format(end_mem, 100 * (start_mem - end_mem) / start_mem))\n",
    "    return df"
   ]
  },
  {
   "cell_type": "code",
   "execution_count": 4,
   "id": "979bc1cb",
   "metadata": {
    "execution": {
     "iopub.execute_input": "2022-03-25T21:30:20.553830Z",
     "iopub.status.busy": "2022-03-25T21:30:20.552886Z",
     "iopub.status.idle": "2022-03-25T21:30:20.702405Z",
     "shell.execute_reply": "2022-03-25T21:30:20.703023Z",
     "shell.execute_reply.started": "2022-03-25T21:29:54.401946Z"
    },
    "papermill": {
     "duration": 0.183162,
     "end_time": "2022-03-25T21:30:20.703217",
     "exception": false,
     "start_time": "2022-03-25T21:30:20.520055",
     "status": "completed"
    },
    "tags": []
   },
   "outputs": [
    {
     "name": "stdout",
     "output_type": "stream",
     "text": [
      "Mem. usage decreased to 11.94 Mb (69.3% reduction)\n",
      "Mem. usage decreased to  0.03 Mb (68.2% reduction)\n"
     ]
    }
   ],
   "source": [
    "train = reduce_mem_usage(train)\n",
    "test = reduce_mem_usage(test)"
   ]
  },
  {
   "cell_type": "code",
   "execution_count": 5,
   "id": "f0d076f3",
   "metadata": {
    "execution": {
     "iopub.execute_input": "2022-03-25T21:30:20.761274Z",
     "iopub.status.busy": "2022-03-25T21:30:20.760633Z",
     "iopub.status.idle": "2022-03-25T21:30:23.042515Z",
     "shell.execute_reply": "2022-03-25T21:30:23.041962Z"
    },
    "papermill": {
     "duration": 2.312913,
     "end_time": "2022-03-25T21:30:23.042665",
     "exception": false,
     "start_time": "2022-03-25T21:30:20.729752",
     "status": "completed"
    },
    "tags": []
   },
   "outputs": [],
   "source": [
    "from datetime import datetime\n",
    "from math import sin, cos, pi\n",
    "\n",
    "\n",
    "from sklearn.preprocessing import OneHotEncoder, StandardScaler\n",
    "from sklearn.model_selection import train_test_split\n",
    "\n",
    "\n",
    "import torch\n",
    "from torch import nn\n",
    "from torch.utils.data import DataLoader\n",
    "from torch.utils.data import TensorDataset\n",
    "import torch.optim as optim\n",
    "\n",
    "import matplotlib.pyplot as plt"
   ]
  },
  {
   "cell_type": "code",
   "execution_count": 6,
   "id": "7fa4b391",
   "metadata": {
    "execution": {
     "iopub.execute_input": "2022-03-25T21:30:23.106637Z",
     "iopub.status.busy": "2022-03-25T21:30:23.105559Z",
     "iopub.status.idle": "2022-03-25T21:30:23.587999Z",
     "shell.execute_reply": "2022-03-25T21:30:23.587513Z"
    },
    "papermill": {
     "duration": 0.517197,
     "end_time": "2022-03-25T21:30:23.588138",
     "exception": false,
     "start_time": "2022-03-25T21:30:23.070941",
     "status": "completed"
    },
    "tags": []
   },
   "outputs": [],
   "source": [
    "# Memorial Day\n",
    "train = train[(train.time.dt.month != 5) | (train.time.dt.day != 27)]\n",
    "\n",
    "# July 4\n",
    "train = train[(train.time.dt.month != 7) | (train.time.dt.day != 4)]\n",
    "\n",
    "# Labor Day\n",
    "train = train[(train.time.dt.month != 9) | (train.time.dt.day != 2)]"
   ]
  },
  {
   "cell_type": "code",
   "execution_count": 7,
   "id": "821861b1",
   "metadata": {
    "execution": {
     "iopub.execute_input": "2022-03-25T21:30:23.646566Z",
     "iopub.status.busy": "2022-03-25T21:30:23.645685Z",
     "iopub.status.idle": "2022-03-25T21:30:23.648074Z",
     "shell.execute_reply": "2022-03-25T21:30:23.647673Z"
    },
    "papermill": {
     "duration": 0.033421,
     "end_time": "2022-03-25T21:30:23.648186",
     "exception": false,
     "start_time": "2022-03-25T21:30:23.614765",
     "status": "completed"
    },
    "tags": []
   },
   "outputs": [],
   "source": [
    "def fe0(data):\n",
    "    data['weekday'] = data.time.dt.weekday\n",
    "    data['hour'] = data.time.dt.hour\n",
    "    data['timeofday'] = data.time.dt.time\n",
    "\n",
    "    data['saturday'] = data['weekday'] == 5\n",
    "    data['sunday'] = data['weekday'] == 6\n",
    "    data['minute'] = data.time.dt.minute\n",
    "    data = data.drop(columns='time')\n",
    "    return data"
   ]
  },
  {
   "cell_type": "code",
   "execution_count": 8,
   "id": "f8ca3e71",
   "metadata": {
    "execution": {
     "iopub.execute_input": "2022-03-25T21:30:23.705375Z",
     "iopub.status.busy": "2022-03-25T21:30:23.704369Z",
     "iopub.status.idle": "2022-03-25T21:30:24.453034Z",
     "shell.execute_reply": "2022-03-25T21:30:24.453456Z"
    },
    "papermill": {
     "duration": 0.78026,
     "end_time": "2022-03-25T21:30:24.453646",
     "exception": false,
     "start_time": "2022-03-25T21:30:23.673386",
     "status": "completed"
    },
    "tags": []
   },
   "outputs": [],
   "source": [
    "train = fe0(train)\n",
    "test = fe0(test)"
   ]
  },
  {
   "cell_type": "code",
   "execution_count": 9,
   "id": "73268605",
   "metadata": {
    "execution": {
     "iopub.execute_input": "2022-03-25T21:30:24.521679Z",
     "iopub.status.busy": "2022-03-25T21:30:24.520698Z",
     "iopub.status.idle": "2022-03-25T21:30:25.079450Z",
     "shell.execute_reply": "2022-03-25T21:30:25.078971Z"
    },
    "papermill": {
     "duration": 0.598625,
     "end_time": "2022-03-25T21:30:25.079611",
     "exception": false,
     "start_time": "2022-03-25T21:30:24.480986",
     "status": "completed"
    },
    "tags": []
   },
   "outputs": [
    {
     "data": {
      "image/png": "[encoded data removed]",
      "text/plain": [
       "<Figure size 1440x576 with 2 Axes>"
      ]
     },
     "metadata": {
      "needs_background": "light"
     },
     "output_type": "display_data"
    }
   ],
   "source": [
    "fig, axs = plt.subplots(1, 2, figsize=(20,8))\n",
    "bin_weekday = list(range(8))\n",
    "axs[0].hist(train.weekday, bin_weekday, rwidth=0.5)\n",
    "axs[0].set_title('weekday')\n",
    "axs[0].set_xticks(bin_weekday)\n",
    "axs[0].set_ylabel('count')\n",
    "\n",
    "bin_hour = list(range(25))\n",
    "axs[1].hist(train.hour, bin_hour, rwidth=0.7)\n",
    "axs[1].set_title('hour')\n",
    "axs[1].set_xticks(bin_hour)\n",
    "axs[1].set_ylabel('count')\n",
    "\n",
    "plt.show()"
   ]
  },
  {
   "cell_type": "code",
   "execution_count": 10,
   "id": "fa6c63fa",
   "metadata": {
    "execution": {
     "iopub.execute_input": "2022-03-25T21:30:25.138673Z",
     "iopub.status.busy": "2022-03-25T21:30:25.137844Z",
     "iopub.status.idle": "2022-03-25T21:30:25.338450Z",
     "shell.execute_reply": "2022-03-25T21:30:25.338019Z"
    },
    "papermill": {
     "duration": 0.232327,
     "end_time": "2022-03-25T21:30:25.338614",
     "exception": false,
     "start_time": "2022-03-25T21:30:25.106287",
     "status": "completed"
    },
    "tags": []
   },
   "outputs": [
    {
     "data": {
      "image/png": "[encoded data removed]",
      "text/plain": [
       "<Figure size 1296x432 with 1 Axes>"
      ]
     },
     "metadata": {
      "needs_background": "light"
     },
     "output_type": "display_data"
    }
   ],
   "source": [
    "temp = train.groupby(train.weekday).congestion.mean()\n",
    "plt.figure(figsize=(18, 6))\n",
    "plt.bar(temp.index, temp)\n",
    "plt.xticks(ticks=temp.index, labels='MTWTFSS')\n",
    "plt.xlabel('Days of the week')\n",
    "plt.ylabel('Mean of Congestion')\n",
    "plt.show()"
   ]
  },
  {
   "cell_type": "code",
   "execution_count": 11,
   "id": "e3b588d8",
   "metadata": {
    "execution": {
     "iopub.execute_input": "2022-03-25T21:30:25.414768Z",
     "iopub.status.busy": "2022-03-25T21:30:25.413722Z",
     "iopub.status.idle": "2022-03-25T21:30:25.791075Z",
     "shell.execute_reply": "2022-03-25T21:30:25.790615Z"
    },
    "papermill": {
     "duration": 0.425004,
     "end_time": "2022-03-25T21:30:25.791202",
     "exception": false,
     "start_time": "2022-03-25T21:30:25.366198",
     "status": "completed"
    },
    "tags": []
   },
   "outputs": [
    {
     "data": {
      "image/png": "[encoded data removed]",
      "text/plain": [
       "<Figure size 1440x576 with 2 Axes>"
      ]
     },
     "metadata": {
      "needs_background": "light"
     },
     "output_type": "display_data"
    }
   ],
   "source": [
    "fig, axs = plt.subplots(1, 2, figsize=(20,8))\n",
    "bin_weekday = list(range(8))\n",
    "axs[0].hist(test.weekday, bin_weekday, rwidth=0.5)\n",
    "axs[0].set_title('weekday')\n",
    "axs[0].set_xticks(bin_weekday)\n",
    "axs[0].set_ylabel('count')\n",
    "\n",
    "bin_hour = list(range(25))\n",
    "axs[1].hist(test.hour, bin_hour, rwidth=0.7)\n",
    "axs[1].set_title('hour')\n",
    "axs[1].set_xticks(bin_hour)\n",
    "axs[1].set_ylabel('count')\n",
    "\n",
    "plt.show()"
   ]
  },
  {
   "cell_type": "code",
   "execution_count": 12,
   "id": "7fd4e915",
   "metadata": {
    "execution": {
     "iopub.execute_input": "2022-03-25T21:30:25.856636Z",
     "iopub.status.busy": "2022-03-25T21:30:25.855757Z",
     "iopub.status.idle": "2022-03-25T21:30:25.885056Z",
     "shell.execute_reply": "2022-03-25T21:30:25.884589Z"
    },
    "papermill": {
     "duration": 0.063892,
     "end_time": "2022-03-25T21:30:25.885182",
     "exception": false,
     "start_time": "2022-03-25T21:30:25.821290",
     "status": "completed"
    },
    "tags": []
   },
   "outputs": [],
   "source": [
    "train = train[train.hour >= 12]"
   ]
  },
  {
   "cell_type": "code",
   "execution_count": 13,
   "id": "b21811ce",
   "metadata": {
    "execution": {
     "iopub.execute_input": "2022-03-25T21:30:25.958361Z",
     "iopub.status.busy": "2022-03-25T21:30:25.956775Z",
     "iopub.status.idle": "2022-03-25T21:30:25.958976Z",
     "shell.execute_reply": "2022-03-25T21:30:25.959373Z"
    },
    "papermill": {
     "duration": 0.043835,
     "end_time": "2022-03-25T21:30:25.959543",
     "exception": false,
     "start_time": "2022-03-25T21:30:25.915708",
     "status": "completed"
    },
    "tags": []
   },
   "outputs": [],
   "source": [
    "target = train.congestion\n",
    "train = train.drop(columns='congestion')\n"
   ]
  },
  {
   "cell_type": "code",
   "execution_count": 14,
   "id": "42b6c038",
   "metadata": {
    "execution": {
     "iopub.execute_input": "2022-03-25T21:30:26.021773Z",
     "iopub.status.busy": "2022-03-25T21:30:26.020937Z",
     "iopub.status.idle": "2022-03-25T21:30:26.032743Z",
     "shell.execute_reply": "2022-03-25T21:30:26.033181Z"
    },
    "papermill": {
     "duration": 0.0455,
     "end_time": "2022-03-25T21:30:26.033322",
     "exception": false,
     "start_time": "2022-03-25T21:30:25.987822",
     "status": "completed"
    },
    "tags": []
   },
   "outputs": [
    {
     "data": {
      "text/html": [
       "<div>\n",
       "<style scoped>\n",
       "    .dataframe tbody tr th:only-of-type {\n",
       "        vertical-align: middle;\n",
       "    }\n",
       "\n",
       "    .dataframe tbody tr th {\n",
       "        vertical-align: top;\n",
       "    }\n",
       "\n",
       "    .dataframe thead th {\n",
       "        text-align: right;\n",
       "    }\n",
       "</style>\n",
       "<table border=\"1\" class=\"dataframe\">\n",
       "  <thead>\n",
       "    <tr style=\"text-align: right;\">\n",
       "      <th></th>\n",
       "      <th>x</th>\n",
       "      <th>y</th>\n",
       "      <th>direction</th>\n",
       "      <th>weekday</th>\n",
       "      <th>hour</th>\n",
       "      <th>timeofday</th>\n",
       "      <th>saturday</th>\n",
       "      <th>sunday</th>\n",
       "      <th>minute</th>\n",
       "    </tr>\n",
       "    <tr>\n",
       "      <th>row_id</th>\n",
       "      <th></th>\n",
       "      <th></th>\n",
       "      <th></th>\n",
       "      <th></th>\n",
       "      <th></th>\n",
       "      <th></th>\n",
       "      <th></th>\n",
       "      <th></th>\n",
       "      <th></th>\n",
       "    </tr>\n",
       "  </thead>\n",
       "  <tbody>\n",
       "    <tr>\n",
       "      <th>2340</th>\n",
       "      <td>0</td>\n",
       "      <td>0</td>\n",
       "      <td>EB</td>\n",
       "      <td>0</td>\n",
       "      <td>12</td>\n",
       "      <td>12:00:00</td>\n",
       "      <td>False</td>\n",
       "      <td>False</td>\n",
       "      <td>0</td>\n",
       "    </tr>\n",
       "    <tr>\n",
       "      <th>2341</th>\n",
       "      <td>0</td>\n",
       "      <td>0</td>\n",
       "      <td>NB</td>\n",
       "      <td>0</td>\n",
       "      <td>12</td>\n",
       "      <td>12:00:00</td>\n",
       "      <td>False</td>\n",
       "      <td>False</td>\n",
       "      <td>0</td>\n",
       "    </tr>\n",
       "    <tr>\n",
       "      <th>2342</th>\n",
       "      <td>0</td>\n",
       "      <td>0</td>\n",
       "      <td>SB</td>\n",
       "      <td>0</td>\n",
       "      <td>12</td>\n",
       "      <td>12:00:00</td>\n",
       "      <td>False</td>\n",
       "      <td>False</td>\n",
       "      <td>0</td>\n",
       "    </tr>\n",
       "    <tr>\n",
       "      <th>2343</th>\n",
       "      <td>0</td>\n",
       "      <td>1</td>\n",
       "      <td>EB</td>\n",
       "      <td>0</td>\n",
       "      <td>12</td>\n",
       "      <td>12:00:00</td>\n",
       "      <td>False</td>\n",
       "      <td>False</td>\n",
       "      <td>0</td>\n",
       "    </tr>\n",
       "    <tr>\n",
       "      <th>2344</th>\n",
       "      <td>0</td>\n",
       "      <td>1</td>\n",
       "      <td>NB</td>\n",
       "      <td>0</td>\n",
       "      <td>12</td>\n",
       "      <td>12:00:00</td>\n",
       "      <td>False</td>\n",
       "      <td>False</td>\n",
       "      <td>0</td>\n",
       "    </tr>\n",
       "  </tbody>\n",
       "</table>\n",
       "</div>"
      ],
      "text/plain": [
       "        x  y direction  weekday  hour timeofday  saturday  sunday  minute\n",
       "row_id                                                                   \n",
       "2340    0  0        EB        0    12  12:00:00     False   False       0\n",
       "2341    0  0        NB        0    12  12:00:00     False   False       0\n",
       "2342    0  0        SB        0    12  12:00:00     False   False       0\n",
       "2343    0  1        EB        0    12  12:00:00     False   False       0\n",
       "2344    0  1        NB        0    12  12:00:00     False   False       0"
      ]
     },
     "execution_count": 14,
     "metadata": {},
     "output_type": "execute_result"
    }
   ],
   "source": [
    "train.head()"
   ]
  },
  {
   "cell_type": "code",
   "execution_count": 15,
   "id": "3da89480",
   "metadata": {
    "execution": {
     "iopub.execute_input": "2022-03-25T21:30:26.097098Z",
     "iopub.status.busy": "2022-03-25T21:30:26.096247Z",
     "iopub.status.idle": "2022-03-25T21:30:26.199058Z",
     "shell.execute_reply": "2022-03-25T21:30:26.199488Z"
    },
    "papermill": {
     "duration": 0.137405,
     "end_time": "2022-03-25T21:30:26.199647",
     "exception": false,
     "start_time": "2022-03-25T21:30:26.062242",
     "status": "completed"
    },
    "tags": []
   },
   "outputs": [
    {
     "data": {
      "text/plain": [
       "OneHotEncoder(drop='first', sparse=False)"
      ]
     },
     "execution_count": 15,
     "metadata": {},
     "output_type": "execute_result"
    }
   ],
   "source": [
    "ohe = OneHotEncoder(drop='first', sparse=False)\n",
    "ohe.fit(train)"
   ]
  },
  {
   "cell_type": "code",
   "execution_count": 16,
   "id": "25c9934a",
   "metadata": {
    "execution": {
     "iopub.execute_input": "2022-03-25T21:30:26.265240Z",
     "iopub.status.busy": "2022-03-25T21:30:26.264375Z",
     "iopub.status.idle": "2022-03-25T21:30:26.266280Z",
     "shell.execute_reply": "2022-03-25T21:30:26.266735Z"
    },
    "papermill": {
     "duration": 0.036159,
     "end_time": "2022-03-25T21:30:26.266865",
     "exception": false,
     "start_time": "2022-03-25T21:30:26.230706",
     "status": "completed"
    },
    "tags": []
   },
   "outputs": [],
   "source": [
    "def fe1(data):\n",
    "    data_ohe = ohe.transform(data)\n",
    "    df = pd.DataFrame(data_ohe, index=data.index)\n",
    "    return df"
   ]
  },
  {
   "cell_type": "code",
   "execution_count": 17,
   "id": "47f954da",
   "metadata": {
    "execution": {
     "iopub.execute_input": "2022-03-25T21:30:26.331351Z",
     "iopub.status.busy": "2022-03-25T21:30:26.330541Z",
     "iopub.status.idle": "2022-03-25T21:30:27.385773Z",
     "shell.execute_reply": "2022-03-25T21:30:27.385256Z"
    },
    "papermill": {
     "duration": 1.089681,
     "end_time": "2022-03-25T21:30:27.385912",
     "exception": false,
     "start_time": "2022-03-25T21:30:26.296231",
     "status": "completed"
    },
    "tags": []
   },
   "outputs": [],
   "source": [
    "x_data = fe1(train)\n",
    "x_test = fe1(test)"
   ]
  },
  {
   "cell_type": "code",
   "execution_count": 18,
   "id": "7375d246",
   "metadata": {
    "execution": {
     "iopub.execute_input": "2022-03-25T21:30:27.455144Z",
     "iopub.status.busy": "2022-03-25T21:30:27.453778Z",
     "iopub.status.idle": "2022-03-25T21:30:27.457506Z",
     "shell.execute_reply": "2022-03-25T21:30:27.457051Z"
    },
    "papermill": {
     "duration": 0.041451,
     "end_time": "2022-03-25T21:30:27.457630",
     "exception": false,
     "start_time": "2022-03-25T21:30:27.416179",
     "status": "completed"
    },
    "tags": []
   },
   "outputs": [
    {
     "data": {
      "text/plain": [
       "68"
      ]
     },
     "execution_count": 18,
     "metadata": {},
     "output_type": "execute_result"
    }
   ],
   "source": [
    "num_feature = x_data.shape[1]\n",
    "num_feature"
   ]
  },
  {
   "cell_type": "code",
   "execution_count": 19,
   "id": "5d96c2ca",
   "metadata": {
    "execution": {
     "iopub.execute_input": "2022-03-25T21:30:27.528690Z",
     "iopub.status.busy": "2022-03-25T21:30:27.527729Z",
     "iopub.status.idle": "2022-03-25T21:30:27.529696Z",
     "shell.execute_reply": "2022-03-25T21:30:27.530200Z"
    },
    "papermill": {
     "duration": 0.041932,
     "end_time": "2022-03-25T21:30:27.530342",
     "exception": false,
     "start_time": "2022-03-25T21:30:27.488410",
     "status": "completed"
    },
    "tags": []
   },
   "outputs": [],
   "source": [
    "x_data = x_data.values\n",
    "x_test = x_test.values\n",
    "target = target.values.reshape(-1, 1)"
   ]
  },
  {
   "cell_type": "code",
   "execution_count": 20,
   "id": "3dd93777",
   "metadata": {
    "execution": {
     "iopub.execute_input": "2022-03-25T21:30:27.607422Z",
     "iopub.status.busy": "2022-03-25T21:30:27.606760Z",
     "iopub.status.idle": "2022-03-25T21:30:27.763083Z",
     "shell.execute_reply": "2022-03-25T21:30:27.762527Z"
    },
    "papermill": {
     "duration": 0.197136,
     "end_time": "2022-03-25T21:30:27.763212",
     "exception": false,
     "start_time": "2022-03-25T21:30:27.566076",
     "status": "completed"
    },
    "tags": []
   },
   "outputs": [],
   "source": [
    "x_data = torch.tensor(x_data)\n",
    "x_test = torch.tensor(x_test)\n",
    "target = torch.tensor(target)"
   ]
  },
  {
   "cell_type": "code",
   "execution_count": 21,
   "id": "dd19e648",
   "metadata": {
    "execution": {
     "iopub.execute_input": "2022-03-25T21:30:27.877985Z",
     "iopub.status.busy": "2022-03-25T21:30:27.877352Z",
     "iopub.status.idle": "2022-03-25T21:30:27.882241Z",
     "shell.execute_reply": "2022-03-25T21:30:27.881765Z"
    },
    "papermill": {
     "duration": 0.086344,
     "end_time": "2022-03-25T21:30:27.882360",
     "exception": false,
     "start_time": "2022-03-25T21:30:27.796016",
     "status": "completed"
    },
    "tags": []
   },
   "outputs": [
    {
     "name": "stdout",
     "output_type": "stream",
     "text": [
      "Using cuda device\n"
     ]
    }
   ],
   "source": [
    "device = 'cuda' if torch.cuda.is_available() else 'cpu'\n",
    "print(f'Using {device} device')"
   ]
  },
  {
   "cell_type": "code",
   "execution_count": 22,
   "id": "b49ca553",
   "metadata": {
    "execution": {
     "iopub.execute_input": "2022-03-25T21:30:27.954170Z",
     "iopub.status.busy": "2022-03-25T21:30:27.953564Z",
     "iopub.status.idle": "2022-03-25T21:30:30.908933Z",
     "shell.execute_reply": "2022-03-25T21:30:30.907980Z"
    },
    "papermill": {
     "duration": 2.994441,
     "end_time": "2022-03-25T21:30:30.909085",
     "exception": false,
     "start_time": "2022-03-25T21:30:27.914644",
     "status": "completed"
    },
    "tags": []
   },
   "outputs": [],
   "source": [
    "x_data = x_data.double().to(device)\n",
    "x_test = x_test.double().to(device)\n",
    "target = target.double().to(device)"
   ]
  },
  {
   "cell_type": "code",
   "execution_count": 23,
   "id": "8c6ccb27",
   "metadata": {
    "execution": {
     "iopub.execute_input": "2022-03-25T21:30:30.979774Z",
     "iopub.status.busy": "2022-03-25T21:30:30.979019Z",
     "iopub.status.idle": "2022-03-25T21:30:31.009444Z",
     "shell.execute_reply": "2022-03-25T21:30:31.008986Z"
    },
    "papermill": {
     "duration": 0.068382,
     "end_time": "2022-03-25T21:30:31.009612",
     "exception": false,
     "start_time": "2022-03-25T21:30:30.941230",
     "status": "completed"
    },
    "tags": []
   },
   "outputs": [],
   "source": [
    "x_train, x_val, y_train, y_val = train_test_split(x_data, target)"
   ]
  },
  {
   "cell_type": "code",
   "execution_count": 24,
   "id": "51b53007",
   "metadata": {
    "execution": {
     "iopub.execute_input": "2022-03-25T21:30:31.082924Z",
     "iopub.status.busy": "2022-03-25T21:30:31.082280Z",
     "iopub.status.idle": "2022-03-25T21:30:31.095280Z",
     "shell.execute_reply": "2022-03-25T21:30:31.094851Z"
    },
    "papermill": {
     "duration": 0.05406,
     "end_time": "2022-03-25T21:30:31.095394",
     "exception": false,
     "start_time": "2022-03-25T21:30:31.041334",
     "status": "completed"
    },
    "tags": []
   },
   "outputs": [],
   "source": [
    "class Net(nn.Module):\n",
    "    \n",
    "    def __init__(self):\n",
    "        super(Net, self).__init__()\n",
    "        self.linear_relu_stack = nn.Sequential(\n",
    "            nn.Linear(num_feature, 300), \n",
    "            nn.ReLU(), \n",
    "            nn.Linear(300, 100), \n",
    "            nn.ReLU(),\n",
    "            nn.Linear(100, 50), \n",
    "            nn.ReLU(), \n",
    "            nn.Linear(50, 1)\n",
    "        )\n",
    "        \n",
    "    def forward(self, x):\n",
    "        logits = self.linear_relu_stack(x)\n",
    "        return logits\n",
    "    \n",
    "model = Net().double().to(device)"
   ]
  },
  {
   "cell_type": "code",
   "execution_count": 25,
   "id": "05552f5c",
   "metadata": {
    "execution": {
     "iopub.execute_input": "2022-03-25T21:30:31.164446Z",
     "iopub.status.busy": "2022-03-25T21:30:31.163815Z",
     "iopub.status.idle": "2022-03-25T21:30:31.170427Z",
     "shell.execute_reply": "2022-03-25T21:30:31.169992Z"
    },
    "papermill": {
     "duration": 0.043434,
     "end_time": "2022-03-25T21:30:31.170559",
     "exception": false,
     "start_time": "2022-03-25T21:30:31.127125",
     "status": "completed"
    },
    "tags": []
   },
   "outputs": [
    {
     "data": {
      "text/plain": [
       "Net(\n",
       "  (linear_relu_stack): Sequential(\n",
       "    (0): Linear(in_features=68, out_features=300, bias=True)\n",
       "    (1): ReLU()\n",
       "    (2): Linear(in_features=300, out_features=100, bias=True)\n",
       "    (3): ReLU()\n",
       "    (4): Linear(in_features=100, out_features=50, bias=True)\n",
       "    (5): ReLU()\n",
       "    (6): Linear(in_features=50, out_features=1, bias=True)\n",
       "  )\n",
       ")"
      ]
     },
     "execution_count": 25,
     "metadata": {},
     "output_type": "execute_result"
    }
   ],
   "source": [
    "def init_weight(layer):\n",
    "    if type(layer) == nn.Linear:\n",
    "        nn.init.xavier_normal_(layer.weight.data)\n",
    "model.apply(init_weight)"
   ]
  },
  {
   "cell_type": "code",
   "execution_count": 26,
   "id": "b4dc6da2",
   "metadata": {
    "execution": {
     "iopub.execute_input": "2022-03-25T21:30:31.244222Z",
     "iopub.status.busy": "2022-03-25T21:30:31.243331Z",
     "iopub.status.idle": "2022-03-25T21:30:31.245283Z",
     "shell.execute_reply": "2022-03-25T21:30:31.245723Z"
    },
    "papermill": {
     "duration": 0.042728,
     "end_time": "2022-03-25T21:30:31.245855",
     "exception": false,
     "start_time": "2022-03-25T21:30:31.203127",
     "status": "completed"
    },
    "tags": []
   },
   "outputs": [],
   "source": [
    "def train_loop(dataloader, model, loss_fn, optimizer):\n",
    "    size = len(dataloader.dataset)\n",
    "    for X, y in dataloader:\n",
    "        # Compute prediction and loss\n",
    "        pred = model(X)\n",
    "        loss = loss_fn(pred, y)\n",
    "\n",
    "        # Backpropagation\n",
    "        optimizer.zero_grad()\n",
    "        loss.backward()\n",
    "        optimizer.step()\n",
    "\n",
    "    return loss.data\n",
    "\n",
    "\n",
    "def test_loop(dataloader, model, loss_fn):\n",
    "    size = len(dataloader.dataset)\n",
    "    num_batches = len(dataloader)\n",
    "    test_loss = 0\n",
    "\n",
    "    with torch.no_grad():\n",
    "        for X, y in dataloader:\n",
    "            pred = model(X)\n",
    "            test_loss += loss_fn(pred, y).item()\n",
    "\n",
    "    test_loss /= num_batches\n",
    "    return test_loss"
   ]
  },
  {
   "cell_type": "code",
   "execution_count": 27,
   "id": "3b450696",
   "metadata": {
    "execution": {
     "iopub.execute_input": "2022-03-25T21:30:31.320118Z",
     "iopub.status.busy": "2022-03-25T21:30:31.319484Z",
     "iopub.status.idle": "2022-03-25T23:08:46.058917Z",
     "shell.execute_reply": "2022-03-25T23:08:46.059351Z"
    },
    "papermill": {
     "duration": 5894.780392,
     "end_time": "2022-03-25T23:08:46.059537",
     "exception": false,
     "start_time": "2022-03-25T21:30:31.279145",
     "status": "completed"
    },
    "tags": []
   },
   "outputs": [
    {
     "name": "stdout",
     "output_type": "stream",
     "text": [
      "epoch 0 loss 11.351018837755898\n",
      "epoch 50 loss 5.732136426546901\n",
      "epoch 100 loss 5.698714825420678\n",
      "epoch 150 loss 5.737375952603536\n",
      "epoch 200 loss 5.718527123110847\n",
      "epoch 250 loss 5.713945917020678\n",
      "epoch 300 loss 5.69282008712719\n",
      "epoch 350 loss 5.700982009490829\n",
      "epoch 400 loss 5.703882538586884\n",
      "epoch 450 loss 5.6996402980816\n",
      "epoch 500 loss 5.699168910330353\n",
      "epoch 550 loss 5.716497956494359\n",
      "epoch 600 loss 5.697471378107997\n",
      "epoch 650 loss 5.69968302617401\n",
      "epoch 700 loss 5.7104716251898155\n",
      "epoch 750 loss 5.723105060837013\n",
      "epoch 800 loss 5.707666886146995\n",
      "epoch 850 loss 5.704359384762072\n",
      "epoch 900 loss 5.711884434439877\n",
      "epoch 950 loss 5.713556990646019\n",
      "Done!\n"
     ]
    }
   ],
   "source": [
    "learning_rate = 1e-3\n",
    "batch_size = 128\n",
    "epochs = 1000\n",
    "\n",
    "loss_fn = nn.L1Loss()\n",
    "optimizer = torch.optim.SGD(model.parameters(), lr=learning_rate)\n",
    "\n",
    "train_dataset = TensorDataset(x_train, y_train)\n",
    "train_dataloader = DataLoader(train_dataset, batch_size=batch_size, shuffle=True)\n",
    "val_dataset = TensorDataset(x_val, y_val)\n",
    "val_dataloader = DataLoader(val_dataset, batch_size=batch_size, shuffle=True)\n",
    "\n",
    "loss_list_train = []\n",
    "loss_list_test = []\n",
    "for t in range(epochs):\n",
    "    loss_train = train_loop(train_dataloader, model, loss_fn, optimizer)\n",
    "    test_loss = test_loop(val_dataloader, model, loss_fn)\n",
    "    loss_list_train.append(loss_train)\n",
    "    loss_list_test.append(test_loss)\n",
    "    if t % 50 == 0:\n",
    "        print(f'epoch {t} loss {test_loss}')\n",
    "print(\"Done!\")"
   ]
  },
  {
   "cell_type": "code",
   "execution_count": 28,
   "id": "7180b664",
   "metadata": {
    "execution": {
     "iopub.execute_input": "2022-03-25T23:08:46.149593Z",
     "iopub.status.busy": "2022-03-25T23:08:46.148598Z",
     "iopub.status.idle": "2022-03-25T23:08:46.310178Z",
     "shell.execute_reply": "2022-03-25T23:08:46.309710Z"
    },
    "papermill": {
     "duration": 0.21246,
     "end_time": "2022-03-25T23:08:46.310301",
     "exception": false,
     "start_time": "2022-03-25T23:08:46.097841",
     "status": "completed"
    },
    "tags": []
   },
   "outputs": [
    {
     "data": {
      "image/png": "[encoded data removed]",
      "text/plain": [
       "<Figure size 432x288 with 1 Axes>"
      ]
     },
     "metadata": {
      "needs_background": "light"
     },
     "output_type": "display_data"
    }
   ],
   "source": [
    "plt.plot(range(epochs),loss_list_test)\n",
    "plt.xlabel(\"Number of Epochs\")\n",
    "plt.ylabel(\"Loss\")\n",
    "plt.show()"
   ]
  },
  {
   "cell_type": "code",
   "execution_count": null,
   "id": "5ad3c48f",
   "metadata": {
    "papermill": {
     "duration": 0.040476,
     "end_time": "2022-03-25T23:08:46.391402",
     "exception": false,
     "start_time": "2022-03-25T23:08:46.350926",
     "status": "completed"
    },
    "tags": []
   },
   "outputs": [],
   "source": []
  }
 ],
 "metadata": {
  "kernelspec": {
   "display_name": "Python 3",
   "language": "python",
   "name": "python3"
  },
  "language_info": {
   "codemirror_mode": {
    "name": "ipython",
    "version": 3
   },
   "file_extension": ".py",
   "mimetype": "text/x-python",
   "name": "python",
   "nbconvert_exporter": "python",
   "pygments_lexer": "ipython3",
   "version": "3.7.12"
  },
  "papermill": {
   "default_parameters": {},
   "duration": 5916.992683,
   "end_time": "2022-03-25T23:08:47.653511",
   "environment_variables": {},
   "exception": null,
   "input_path": "__notebook__.ipynb",
   "output_path": "__notebook__.ipynb",
   "parameters": {},
   "start_time": "2022-03-25T21:30:10.660828",
   "version": "2.3.3"
  }
 },
 "nbformat": 4,
 "nbformat_minor": 5
}
