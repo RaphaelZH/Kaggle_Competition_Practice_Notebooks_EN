{
 "cells": [
  {
   "cell_type": "markdown",
   "id": "35288cf7",
   "metadata": {
    "papermill": {
     "duration": 0.030265,
     "end_time": "2022-03-25T21:13:39.520002",
     "exception": false,
     "start_time": "2022-03-25T21:13:39.489737",
     "status": "completed"
    },
    "tags": []
   },
   "source": [
    "---\n",
    "$\\Huge{Tabular\\ Playground\\ Series\\ -\\ Mar\\ 2022}$\n",
    "\n",
    "$Practice\\ your\\ ML\\ skills\\ on\\ this\\ approachable\\ dataset!$\n",
    "\n",
    "---"
   ]
  },
  {
   "cell_type": "markdown",
   "id": "6919574f",
   "metadata": {
    "papermill": {
     "duration": 0.028292,
     "end_time": "2022-03-25T21:13:39.577455",
     "exception": false,
     "start_time": "2022-03-25T21:13:39.549163",
     "status": "completed"
    },
    "tags": []
   },
   "source": [
    "# Overview\n",
    "\n",
    "## Description\n",
    "\n",
    "For the March edition of the 2022 Tabular Playground Series you're challenged to forecast twelve-hours of traffic flow in a U.S. metropolis. The time series in this dataset are labelled with both location coordinates and a direction of travel -- a combination of features that will test your skill at spatio-temporal forecasting within a highly dynamic traffic network.\n",
    "\n",
    "Which model will prevail? The venerable linear regression? The deservedly-popular ensemble of decision trees? Or maybe a cutting-edge graph neural-network? We can't wait to see!\n",
    "\n",
    "### About the Tabular Playground Series\n",
    "\n",
    "Kaggle competitions are incredibly fun and rewarding, but they can also be intimidating for people who are relatively new in their data science journey. In the past, we've launched many Playground competitions that are more approachable than our Featured competitions and thus, more beginner-friendly.\n",
    "\n",
    "The goal of these competitions is to provide a fun and approachable-for-anyone tabular dataset to model. These competitions are a great choice for people looking for something in between the Titanic Getting Started competition and the Featured competitions. If you're an established competitions master or grandmaster, these probably won't be much of a challenge for you; thus, we encourage you to avoid saturating the leaderboard.\n",
    "\n",
    "For each monthly competition, we'll be offering Kaggle Merchandise for the top three teams. And finally, because we want these competitions to be more about learning, we're limiting team sizes to 3 individuals."
   ]
  },
  {
   "cell_type": "markdown",
   "id": "2897362e",
   "metadata": {
    "papermill": {
     "duration": 0.028267,
     "end_time": "2022-03-25T21:13:39.634365",
     "exception": false,
     "start_time": "2022-03-25T21:13:39.606098",
     "status": "completed"
    },
    "tags": []
   },
   "source": []
  },
  {
   "cell_type": "markdown",
   "id": "59f625e9",
   "metadata": {
    "papermill": {
     "duration": 0.028825,
     "end_time": "2022-03-25T21:13:39.692245",
     "exception": false,
     "start_time": "2022-03-25T21:13:39.663420",
     "status": "completed"
    },
    "tags": []
   },
   "source": []
  },
  {
   "cell_type": "markdown",
   "id": "79d73057",
   "metadata": {
    "papermill": {
     "duration": 0.028395,
     "end_time": "2022-03-25T21:13:39.749650",
     "exception": false,
     "start_time": "2022-03-25T21:13:39.721255",
     "status": "completed"
    },
    "tags": []
   },
   "source": []
  },
  {
   "cell_type": "markdown",
   "id": "9b843faf",
   "metadata": {
    "papermill": {
     "duration": 0.028546,
     "end_time": "2022-03-25T21:13:39.806902",
     "exception": false,
     "start_time": "2022-03-25T21:13:39.778356",
     "status": "completed"
    },
    "tags": []
   },
   "source": [
    "# Libraries Import\n",
    "## Regular Libraries"
   ]
  },
  {
   "cell_type": "code",
   "execution_count": 1,
   "id": "809176e2",
   "metadata": {
    "execution": {
     "iopub.execute_input": "2022-03-25T21:13:39.878939Z",
     "iopub.status.busy": "2022-03-25T21:13:39.878003Z",
     "iopub.status.idle": "2022-03-25T21:13:39.882213Z",
     "shell.execute_reply": "2022-03-25T21:13:39.882839Z"
    },
    "papermill": {
     "duration": 0.047268,
     "end_time": "2022-03-25T21:13:39.883199",
     "exception": false,
     "start_time": "2022-03-25T21:13:39.835931",
     "status": "completed"
    },
    "tags": []
   },
   "outputs": [],
   "source": [
    "import numpy as np\n",
    "import pandas as pd\n",
    "import os"
   ]
  },
  {
   "cell_type": "code",
   "execution_count": null,
   "id": "26f499ca",
   "metadata": {
    "papermill": {
     "duration": 0.030053,
     "end_time": "2022-03-25T21:13:39.943575",
     "exception": false,
     "start_time": "2022-03-25T21:13:39.913522",
     "status": "completed"
    },
    "tags": []
   },
   "outputs": [],
   "source": []
  },
  {
   "cell_type": "code",
   "execution_count": 2,
   "id": "c5334388",
   "metadata": {
    "execution": {
     "iopub.execute_input": "2022-03-25T21:13:40.012629Z",
     "iopub.status.busy": "2022-03-25T21:13:40.011795Z",
     "iopub.status.idle": "2022-03-25T21:13:41.187198Z",
     "shell.execute_reply": "2022-03-25T21:13:41.186497Z"
    },
    "papermill": {
     "duration": 1.212088,
     "end_time": "2022-03-25T21:13:41.187390",
     "exception": false,
     "start_time": "2022-03-25T21:13:39.975302",
     "status": "completed"
    },
    "tags": []
   },
   "outputs": [],
   "source": [
    "train = pd.read_csv('../input/tabular-playground-series-mar-2022/train.csv', index_col=0, parse_dates=['time'])\n",
    "test = pd.read_csv('../input/tabular-playground-series-mar-2022/test.csv', index_col=0, parse_dates=['time'])"
   ]
  },
  {
   "cell_type": "code",
   "execution_count": 3,
   "id": "cca0dc0c",
   "metadata": {
    "execution": {
     "iopub.execute_input": "2022-03-25T21:13:41.264163Z",
     "iopub.status.busy": "2022-03-25T21:13:41.255943Z",
     "iopub.status.idle": "2022-03-25T21:13:41.266319Z",
     "shell.execute_reply": "2022-03-25T21:13:41.266877Z"
    },
    "papermill": {
     "duration": 0.049844,
     "end_time": "2022-03-25T21:13:41.267092",
     "exception": false,
     "start_time": "2022-03-25T21:13:41.217248",
     "status": "completed"
    },
    "tags": []
   },
   "outputs": [],
   "source": [
    "def reduce_mem_usage(df, verbose=True):\n",
    "    numerics = ['int16', 'int32', 'int64', 'float16', 'float32', 'float64']\n",
    "    start_mem = df.memory_usage().sum() / 1024**2    \n",
    "    for col in df.columns:\n",
    "        col_type = df[col].dtypes\n",
    "        if col_type in numerics:\n",
    "            c_min = df[col].min()\n",
    "            c_max = df[col].max()\n",
    "            if str(col_type)[:3] == 'int':\n",
    "                if c_min > np.iinfo(np.int8).min and c_max < np.iinfo(np.int8).max:\n",
    "                    df[col] = df[col].astype(np.int8)\n",
    "                elif c_min > np.iinfo(np.int16).min and c_max < np.iinfo(np.int16).max:\n",
    "                    df[col] = df[col].astype(np.int16)\n",
    "                elif c_min > np.iinfo(np.int32).min and c_max < np.iinfo(np.int32).max:\n",
    "                    df[col] = df[col].astype(np.int32)\n",
    "                elif c_min > np.iinfo(np.int64).min and c_max < np.iinfo(np.int64).max:\n",
    "                    df[col] = df[col].astype(np.int64)  \n",
    "            else:\n",
    "                if c_min > np.finfo(np.float16).min and c_max < np.finfo(np.float16).max:\n",
    "                    df[col] = df[col].astype(np.float16)\n",
    "                elif c_min > np.finfo(np.float32).min and c_max < np.finfo(np.float32).max:\n",
    "                    df[col] = df[col].astype(np.float32)\n",
    "                else:\n",
    "                    df[col] = df[col].astype(np.float64)  \n",
    "        else:\n",
    "            df[col] = df[col].astype('category')\n",
    "    end_mem = df.memory_usage().sum() / 1024**2\n",
    "    if verbose: print('Mem. usage decreased to {:5.2f} Mb ({:.1f}% reduction)'.format(end_mem, 100 * (start_mem - end_mem) / start_mem))\n",
    "    return df"
   ]
  },
  {
   "cell_type": "code",
   "execution_count": 4,
   "id": "c96019b5",
   "metadata": {
    "execution": {
     "iopub.execute_input": "2022-03-25T21:13:41.332067Z",
     "iopub.status.busy": "2022-03-25T21:13:41.331314Z",
     "iopub.status.idle": "2022-03-25T21:13:41.503511Z",
     "shell.execute_reply": "2022-03-25T21:13:41.504073Z"
    },
    "papermill": {
     "duration": 0.207704,
     "end_time": "2022-03-25T21:13:41.504295",
     "exception": false,
     "start_time": "2022-03-25T21:13:41.296591",
     "status": "completed"
    },
    "tags": []
   },
   "outputs": [
    {
     "name": "stdout",
     "output_type": "stream",
     "text": [
      "Mem. usage decreased to 11.94 Mb (69.3% reduction)\n",
      "Mem. usage decreased to  0.03 Mb (68.2% reduction)\n"
     ]
    }
   ],
   "source": [
    "train = reduce_mem_usage(train)\n",
    "test = reduce_mem_usage(test)"
   ]
  },
  {
   "cell_type": "code",
   "execution_count": 5,
   "id": "15b65445",
   "metadata": {
    "execution": {
     "iopub.execute_input": "2022-03-25T21:13:41.572728Z",
     "iopub.status.busy": "2022-03-25T21:13:41.571986Z",
     "iopub.status.idle": "2022-03-25T21:13:44.158577Z",
     "shell.execute_reply": "2022-03-25T21:13:44.157646Z"
    },
    "papermill": {
     "duration": 2.623997,
     "end_time": "2022-03-25T21:13:44.158804",
     "exception": false,
     "start_time": "2022-03-25T21:13:41.534807",
     "status": "completed"
    },
    "tags": []
   },
   "outputs": [],
   "source": [
    "from datetime import datetime\n",
    "from math import sin, cos, pi\n",
    "\n",
    "\n",
    "from sklearn.preprocessing import OneHotEncoder, StandardScaler\n",
    "from sklearn.model_selection import train_test_split\n",
    "\n",
    "\n",
    "import torch\n",
    "from torch import nn\n",
    "from torch.utils.data import DataLoader\n",
    "from torch.utils.data import TensorDataset\n",
    "import torch.optim as optim\n",
    "\n",
    "import matplotlib.pyplot as plt"
   ]
  },
  {
   "cell_type": "code",
   "execution_count": 6,
   "id": "20d65100",
   "metadata": {
    "execution": {
     "iopub.execute_input": "2022-03-25T21:13:44.232963Z",
     "iopub.status.busy": "2022-03-25T21:13:44.231270Z",
     "iopub.status.idle": "2022-03-25T21:13:44.842369Z",
     "shell.execute_reply": "2022-03-25T21:13:44.841679Z"
    },
    "papermill": {
     "duration": 0.651328,
     "end_time": "2022-03-25T21:13:44.842563",
     "exception": false,
     "start_time": "2022-03-25T21:13:44.191235",
     "status": "completed"
    },
    "tags": []
   },
   "outputs": [],
   "source": [
    "# Memorial Day\n",
    "train = train[(train.time.dt.month != 5) | (train.time.dt.day != 27)]\n",
    "\n",
    "# July 4\n",
    "train = train[(train.time.dt.month != 7) | (train.time.dt.day != 4)]\n",
    "\n",
    "# Labor Day\n",
    "train = train[(train.time.dt.month != 9) | (train.time.dt.day != 2)]"
   ]
  },
  {
   "cell_type": "code",
   "execution_count": 7,
   "id": "638d11b2",
   "metadata": {
    "execution": {
     "iopub.execute_input": "2022-03-25T21:13:44.916034Z",
     "iopub.status.busy": "2022-03-25T21:13:44.914714Z",
     "iopub.status.idle": "2022-03-25T21:13:44.917833Z",
     "shell.execute_reply": "2022-03-25T21:13:44.918376Z"
    },
    "papermill": {
     "duration": 0.0451,
     "end_time": "2022-03-25T21:13:44.918613",
     "exception": false,
     "start_time": "2022-03-25T21:13:44.873513",
     "status": "completed"
    },
    "tags": []
   },
   "outputs": [],
   "source": [
    "def fe0(data):\n",
    "    data['weekday'] = data.time.dt.weekday\n",
    "    data['hour'] = data.time.dt.hour\n",
    "    data['timeofday'] = data.time.dt.time\n",
    "\n",
    "    data['saturday'] = data['weekday'] == 5\n",
    "    data['sunday'] = data['weekday'] == 6\n",
    "    data['minute'] = data.time.dt.minute\n",
    "    data = data.drop(columns='time')\n",
    "    return data"
   ]
  },
  {
   "cell_type": "code",
   "execution_count": 8,
   "id": "94b3afed",
   "metadata": {
    "execution": {
     "iopub.execute_input": "2022-03-25T21:13:44.984825Z",
     "iopub.status.busy": "2022-03-25T21:13:44.983971Z",
     "iopub.status.idle": "2022-03-25T21:13:45.906958Z",
     "shell.execute_reply": "2022-03-25T21:13:45.906305Z"
    },
    "papermill": {
     "duration": 0.957585,
     "end_time": "2022-03-25T21:13:45.907150",
     "exception": false,
     "start_time": "2022-03-25T21:13:44.949565",
     "status": "completed"
    },
    "tags": []
   },
   "outputs": [],
   "source": [
    "train = fe0(train)\n",
    "test = fe0(test)"
   ]
  },
  {
   "cell_type": "code",
   "execution_count": 9,
   "id": "b596ae3c",
   "metadata": {
    "execution": {
     "iopub.execute_input": "2022-03-25T21:13:45.983641Z",
     "iopub.status.busy": "2022-03-25T21:13:45.982869Z",
     "iopub.status.idle": "2022-03-25T21:13:46.720819Z",
     "shell.execute_reply": "2022-03-25T21:13:46.721419Z"
    },
    "papermill": {
     "duration": 0.783166,
     "end_time": "2022-03-25T21:13:46.721632",
     "exception": false,
     "start_time": "2022-03-25T21:13:45.938466",
     "status": "completed"
    },
    "tags": []
   },
   "outputs": [
    {
     "data": {
      "image/png": "[encoded data removed]",
      "text/plain": [
       "<Figure size 1440x576 with 2 Axes>"
      ]
     },
     "metadata": {
      "needs_background": "light"
     },
     "output_type": "display_data"
    }
   ],
   "source": [
    "fig, axs = plt.subplots(1, 2, figsize=(20,8))\n",
    "bin_weekday = list(range(8))\n",
    "axs[0].hist(train.weekday, bin_weekday, rwidth=0.5)\n",
    "axs[0].set_title('weekday')\n",
    "axs[0].set_xticks(bin_weekday)\n",
    "axs[0].set_ylabel('count')\n",
    "\n",
    "bin_hour = list(range(25))\n",
    "axs[1].hist(train.hour, bin_hour, rwidth=0.7)\n",
    "axs[1].set_title('hour')\n",
    "axs[1].set_xticks(bin_hour)\n",
    "axs[1].set_ylabel('count')\n",
    "\n",
    "plt.show()"
   ]
  },
  {
   "cell_type": "code",
   "execution_count": 10,
   "id": "a226fae1",
   "metadata": {
    "execution": {
     "iopub.execute_input": "2022-03-25T21:13:46.793737Z",
     "iopub.status.busy": "2022-03-25T21:13:46.793063Z",
     "iopub.status.idle": "2022-03-25T21:13:47.011780Z",
     "shell.execute_reply": "2022-03-25T21:13:47.011181Z"
    },
    "papermill": {
     "duration": 0.257648,
     "end_time": "2022-03-25T21:13:47.011947",
     "exception": false,
     "start_time": "2022-03-25T21:13:46.754299",
     "status": "completed"
    },
    "tags": []
   },
   "outputs": [
    {
     "data": {
      "image/png": "[encoded data removed]",
      "text/plain": [
       "<Figure size 1296x432 with 1 Axes>"
      ]
     },
     "metadata": {
      "needs_background": "light"
     },
     "output_type": "display_data"
    }
   ],
   "source": [
    "temp = train.groupby(train.weekday).congestion.mean()\n",
    "plt.figure(figsize=(18, 6))\n",
    "plt.bar(temp.index, temp)\n",
    "plt.xticks(ticks=temp.index, labels='MTWTFSS')\n",
    "plt.xlabel('Days of the week')\n",
    "plt.ylabel('Mean of Congestion')\n",
    "plt.show()"
   ]
  },
  {
   "cell_type": "code",
   "execution_count": 11,
   "id": "1fb646da",
   "metadata": {
    "execution": {
     "iopub.execute_input": "2022-03-25T21:13:47.101595Z",
     "iopub.status.busy": "2022-03-25T21:13:47.082827Z",
     "iopub.status.idle": "2022-03-25T21:13:47.519045Z",
     "shell.execute_reply": "2022-03-25T21:13:47.518227Z"
    },
    "papermill": {
     "duration": 0.473348,
     "end_time": "2022-03-25T21:13:47.519242",
     "exception": false,
     "start_time": "2022-03-25T21:13:47.045894",
     "status": "completed"
    },
    "tags": []
   },
   "outputs": [
    {
     "data": {
      "image/png": "[encoded data removed]",
      "text/plain": [
       "<Figure size 1440x576 with 2 Axes>"
      ]
     },
     "metadata": {
      "needs_background": "light"
     },
     "output_type": "display_data"
    }
   ],
   "source": [
    "fig, axs = plt.subplots(1, 2, figsize=(20,8))\n",
    "bin_weekday = list(range(8))\n",
    "axs[0].hist(test.weekday, bin_weekday, rwidth=0.5)\n",
    "axs[0].set_title('weekday')\n",
    "axs[0].set_xticks(bin_weekday)\n",
    "axs[0].set_ylabel('count')\n",
    "\n",
    "bin_hour = list(range(25))\n",
    "axs[1].hist(test.hour, bin_hour, rwidth=0.7)\n",
    "axs[1].set_title('hour')\n",
    "axs[1].set_xticks(bin_hour)\n",
    "axs[1].set_ylabel('count')\n",
    "\n",
    "plt.show()"
   ]
  },
  {
   "cell_type": "code",
   "execution_count": 12,
   "id": "8ce05e12",
   "metadata": {
    "execution": {
     "iopub.execute_input": "2022-03-25T21:13:47.595899Z",
     "iopub.status.busy": "2022-03-25T21:13:47.595032Z",
     "iopub.status.idle": "2022-03-25T21:13:47.635526Z",
     "shell.execute_reply": "2022-03-25T21:13:47.634715Z"
    },
    "papermill": {
     "duration": 0.081822,
     "end_time": "2022-03-25T21:13:47.635728",
     "exception": false,
     "start_time": "2022-03-25T21:13:47.553906",
     "status": "completed"
    },
    "tags": []
   },
   "outputs": [],
   "source": [
    "train = train[train.hour >= 12]"
   ]
  },
  {
   "cell_type": "code",
   "execution_count": 13,
   "id": "c0e96e56",
   "metadata": {
    "execution": {
     "iopub.execute_input": "2022-03-25T21:13:47.711701Z",
     "iopub.status.busy": "2022-03-25T21:13:47.710924Z",
     "iopub.status.idle": "2022-03-25T21:13:47.727493Z",
     "shell.execute_reply": "2022-03-25T21:13:47.728131Z"
    },
    "papermill": {
     "duration": 0.057965,
     "end_time": "2022-03-25T21:13:47.728363",
     "exception": false,
     "start_time": "2022-03-25T21:13:47.670398",
     "status": "completed"
    },
    "tags": []
   },
   "outputs": [],
   "source": [
    "target = train.congestion\n",
    "train = train.drop(columns='congestion')\n"
   ]
  },
  {
   "cell_type": "code",
   "execution_count": 14,
   "id": "0c38fdd6",
   "metadata": {
    "execution": {
     "iopub.execute_input": "2022-03-25T21:13:47.802566Z",
     "iopub.status.busy": "2022-03-25T21:13:47.801834Z",
     "iopub.status.idle": "2022-03-25T21:13:47.824101Z",
     "shell.execute_reply": "2022-03-25T21:13:47.823531Z"
    },
    "papermill": {
     "duration": 0.060622,
     "end_time": "2022-03-25T21:13:47.824287",
     "exception": false,
     "start_time": "2022-03-25T21:13:47.763665",
     "status": "completed"
    },
    "tags": []
   },
   "outputs": [
    {
     "data": {
      "text/html": [
       "<div>\n",
       "<style scoped>\n",
       "    .dataframe tbody tr th:only-of-type {\n",
       "        vertical-align: middle;\n",
       "    }\n",
       "\n",
       "    .dataframe tbody tr th {\n",
       "        vertical-align: top;\n",
       "    }\n",
       "\n",
       "    .dataframe thead th {\n",
       "        text-align: right;\n",
       "    }\n",
       "</style>\n",
       "<table border=\"1\" class=\"dataframe\">\n",
       "  <thead>\n",
       "    <tr style=\"text-align: right;\">\n",
       "      <th></th>\n",
       "      <th>x</th>\n",
       "      <th>y</th>\n",
       "      <th>direction</th>\n",
       "      <th>weekday</th>\n",
       "      <th>hour</th>\n",
       "      <th>timeofday</th>\n",
       "      <th>saturday</th>\n",
       "      <th>sunday</th>\n",
       "      <th>minute</th>\n",
       "    </tr>\n",
       "    <tr>\n",
       "      <th>row_id</th>\n",
       "      <th></th>\n",
       "      <th></th>\n",
       "      <th></th>\n",
       "      <th></th>\n",
       "      <th></th>\n",
       "      <th></th>\n",
       "      <th></th>\n",
       "      <th></th>\n",
       "      <th></th>\n",
       "    </tr>\n",
       "  </thead>\n",
       "  <tbody>\n",
       "    <tr>\n",
       "      <th>2340</th>\n",
       "      <td>0</td>\n",
       "      <td>0</td>\n",
       "      <td>EB</td>\n",
       "      <td>0</td>\n",
       "      <td>12</td>\n",
       "      <td>12:00:00</td>\n",
       "      <td>False</td>\n",
       "      <td>False</td>\n",
       "      <td>0</td>\n",
       "    </tr>\n",
       "    <tr>\n",
       "      <th>2341</th>\n",
       "      <td>0</td>\n",
       "      <td>0</td>\n",
       "      <td>NB</td>\n",
       "      <td>0</td>\n",
       "      <td>12</td>\n",
       "      <td>12:00:00</td>\n",
       "      <td>False</td>\n",
       "      <td>False</td>\n",
       "      <td>0</td>\n",
       "    </tr>\n",
       "    <tr>\n",
       "      <th>2342</th>\n",
       "      <td>0</td>\n",
       "      <td>0</td>\n",
       "      <td>SB</td>\n",
       "      <td>0</td>\n",
       "      <td>12</td>\n",
       "      <td>12:00:00</td>\n",
       "      <td>False</td>\n",
       "      <td>False</td>\n",
       "      <td>0</td>\n",
       "    </tr>\n",
       "    <tr>\n",
       "      <th>2343</th>\n",
       "      <td>0</td>\n",
       "      <td>1</td>\n",
       "      <td>EB</td>\n",
       "      <td>0</td>\n",
       "      <td>12</td>\n",
       "      <td>12:00:00</td>\n",
       "      <td>False</td>\n",
       "      <td>False</td>\n",
       "      <td>0</td>\n",
       "    </tr>\n",
       "    <tr>\n",
       "      <th>2344</th>\n",
       "      <td>0</td>\n",
       "      <td>1</td>\n",
       "      <td>NB</td>\n",
       "      <td>0</td>\n",
       "      <td>12</td>\n",
       "      <td>12:00:00</td>\n",
       "      <td>False</td>\n",
       "      <td>False</td>\n",
       "      <td>0</td>\n",
       "    </tr>\n",
       "  </tbody>\n",
       "</table>\n",
       "</div>"
      ],
      "text/plain": [
       "        x  y direction  weekday  hour timeofday  saturday  sunday  minute\n",
       "row_id                                                                   \n",
       "2340    0  0        EB        0    12  12:00:00     False   False       0\n",
       "2341    0  0        NB        0    12  12:00:00     False   False       0\n",
       "2342    0  0        SB        0    12  12:00:00     False   False       0\n",
       "2343    0  1        EB        0    12  12:00:00     False   False       0\n",
       "2344    0  1        NB        0    12  12:00:00     False   False       0"
      ]
     },
     "execution_count": 14,
     "metadata": {},
     "output_type": "execute_result"
    }
   ],
   "source": [
    "train.head()"
   ]
  },
  {
   "cell_type": "code",
   "execution_count": 15,
   "id": "6fdd9f67",
   "metadata": {
    "execution": {
     "iopub.execute_input": "2022-03-25T21:13:47.904435Z",
     "iopub.status.busy": "2022-03-25T21:13:47.903469Z",
     "iopub.status.idle": "2022-03-25T21:13:48.031891Z",
     "shell.execute_reply": "2022-03-25T21:13:48.031080Z"
    },
    "papermill": {
     "duration": 0.172378,
     "end_time": "2022-03-25T21:13:48.032065",
     "exception": false,
     "start_time": "2022-03-25T21:13:47.859687",
     "status": "completed"
    },
    "tags": []
   },
   "outputs": [
    {
     "data": {
      "text/plain": [
       "OneHotEncoder(drop='first', sparse=False)"
      ]
     },
     "execution_count": 15,
     "metadata": {},
     "output_type": "execute_result"
    }
   ],
   "source": [
    "ohe = OneHotEncoder(drop='first', sparse=False)\n",
    "ohe.fit(train)"
   ]
  },
  {
   "cell_type": "code",
   "execution_count": 16,
   "id": "ba7a379e",
   "metadata": {
    "execution": {
     "iopub.execute_input": "2022-03-25T21:13:48.113167Z",
     "iopub.status.busy": "2022-03-25T21:13:48.112160Z",
     "iopub.status.idle": "2022-03-25T21:13:48.115254Z",
     "shell.execute_reply": "2022-03-25T21:13:48.114628Z"
    },
    "papermill": {
     "duration": 0.045693,
     "end_time": "2022-03-25T21:13:48.115434",
     "exception": false,
     "start_time": "2022-03-25T21:13:48.069741",
     "status": "completed"
    },
    "tags": []
   },
   "outputs": [],
   "source": [
    "def fe1(data):\n",
    "    data_ohe = ohe.transform(data)\n",
    "    df = pd.DataFrame(data_ohe, index=data.index)\n",
    "    return df"
   ]
  },
  {
   "cell_type": "code",
   "execution_count": 17,
   "id": "a4bda8f9",
   "metadata": {
    "execution": {
     "iopub.execute_input": "2022-03-25T21:13:48.192611Z",
     "iopub.status.busy": "2022-03-25T21:13:48.191846Z",
     "iopub.status.idle": "2022-03-25T21:13:49.446192Z",
     "shell.execute_reply": "2022-03-25T21:13:49.445507Z"
    },
    "papermill": {
     "duration": 1.294489,
     "end_time": "2022-03-25T21:13:49.446374",
     "exception": false,
     "start_time": "2022-03-25T21:13:48.151885",
     "status": "completed"
    },
    "tags": []
   },
   "outputs": [],
   "source": [
    "x_data = fe1(train)\n",
    "x_test = fe1(test)"
   ]
  },
  {
   "cell_type": "code",
   "execution_count": 18,
   "id": "643784c8",
   "metadata": {
    "execution": {
     "iopub.execute_input": "2022-03-25T21:13:49.523534Z",
     "iopub.status.busy": "2022-03-25T21:13:49.522662Z",
     "iopub.status.idle": "2022-03-25T21:13:49.528313Z",
     "shell.execute_reply": "2022-03-25T21:13:49.528849Z"
    },
    "papermill": {
     "duration": 0.046323,
     "end_time": "2022-03-25T21:13:49.529064",
     "exception": false,
     "start_time": "2022-03-25T21:13:49.482741",
     "status": "completed"
    },
    "tags": []
   },
   "outputs": [
    {
     "data": {
      "text/plain": [
       "68"
      ]
     },
     "execution_count": 18,
     "metadata": {},
     "output_type": "execute_result"
    }
   ],
   "source": [
    "num_feature = x_data.shape[1]\n",
    "num_feature"
   ]
  },
  {
   "cell_type": "code",
   "execution_count": 19,
   "id": "27c028e1",
   "metadata": {
    "execution": {
     "iopub.execute_input": "2022-03-25T21:13:49.607309Z",
     "iopub.status.busy": "2022-03-25T21:13:49.606544Z",
     "iopub.status.idle": "2022-03-25T21:13:49.611055Z",
     "shell.execute_reply": "2022-03-25T21:13:49.611617Z"
    },
    "papermill": {
     "duration": 0.045908,
     "end_time": "2022-03-25T21:13:49.611867",
     "exception": false,
     "start_time": "2022-03-25T21:13:49.565959",
     "status": "completed"
    },
    "tags": []
   },
   "outputs": [],
   "source": [
    "x_data = x_data.values\n",
    "x_test = x_test.values\n",
    "target = target.values.reshape(-1, 1)"
   ]
  },
  {
   "cell_type": "code",
   "execution_count": 20,
   "id": "210c7adb",
   "metadata": {
    "execution": {
     "iopub.execute_input": "2022-03-25T21:13:49.690953Z",
     "iopub.status.busy": "2022-03-25T21:13:49.690181Z",
     "iopub.status.idle": "2022-03-25T21:13:49.828717Z",
     "shell.execute_reply": "2022-03-25T21:13:49.828009Z"
    },
    "papermill": {
     "duration": 0.179159,
     "end_time": "2022-03-25T21:13:49.828973",
     "exception": false,
     "start_time": "2022-03-25T21:13:49.649814",
     "status": "completed"
    },
    "tags": []
   },
   "outputs": [],
   "source": [
    "x_data = torch.tensor(x_data)\n",
    "x_test = torch.tensor(x_test)\n",
    "target = torch.tensor(target)"
   ]
  },
  {
   "cell_type": "code",
   "execution_count": 21,
   "id": "0e638e8a",
   "metadata": {
    "execution": {
     "iopub.execute_input": "2022-03-25T21:13:49.913536Z",
     "iopub.status.busy": "2022-03-25T21:13:49.912775Z",
     "iopub.status.idle": "2022-03-25T21:13:49.916189Z",
     "shell.execute_reply": "2022-03-25T21:13:49.916843Z"
    },
    "papermill": {
     "duration": 0.049242,
     "end_time": "2022-03-25T21:13:49.917050",
     "exception": false,
     "start_time": "2022-03-25T21:13:49.867808",
     "status": "completed"
    },
    "tags": []
   },
   "outputs": [
    {
     "name": "stdout",
     "output_type": "stream",
     "text": [
      "Using cpu device\n"
     ]
    }
   ],
   "source": [
    "device = 'cuda' if torch.cuda.is_available() else 'cpu'\n",
    "print(f'Using {device} device')"
   ]
  },
  {
   "cell_type": "code",
   "execution_count": 22,
   "id": "0f5ea6a0",
   "metadata": {
    "execution": {
     "iopub.execute_input": "2022-03-25T21:13:49.996433Z",
     "iopub.status.busy": "2022-03-25T21:13:49.995655Z",
     "iopub.status.idle": "2022-03-25T21:13:50.005428Z",
     "shell.execute_reply": "2022-03-25T21:13:50.006082Z"
    },
    "papermill": {
     "duration": 0.051789,
     "end_time": "2022-03-25T21:13:50.006321",
     "exception": false,
     "start_time": "2022-03-25T21:13:49.954532",
     "status": "completed"
    },
    "tags": []
   },
   "outputs": [],
   "source": [
    "x_data = x_data.double().to(device)\n",
    "x_test = x_test.double().to(device)\n",
    "target = target.double().to(device)"
   ]
  },
  {
   "cell_type": "code",
   "execution_count": 23,
   "id": "01cd1a03",
   "metadata": {
    "execution": {
     "iopub.execute_input": "2022-03-25T21:13:50.087690Z",
     "iopub.status.busy": "2022-03-25T21:13:50.086934Z",
     "iopub.status.idle": "2022-03-25T21:13:50.288688Z",
     "shell.execute_reply": "2022-03-25T21:13:50.288028Z"
    },
    "papermill": {
     "duration": 0.24335,
     "end_time": "2022-03-25T21:13:50.288884",
     "exception": false,
     "start_time": "2022-03-25T21:13:50.045534",
     "status": "completed"
    },
    "tags": []
   },
   "outputs": [],
   "source": [
    "x_train, x_val, y_train, y_val = train_test_split(x_data, target)"
   ]
  },
  {
   "cell_type": "code",
   "execution_count": 24,
   "id": "4e285c0b",
   "metadata": {
    "execution": {
     "iopub.execute_input": "2022-03-25T21:13:50.381025Z",
     "iopub.status.busy": "2022-03-25T21:13:50.380195Z",
     "iopub.status.idle": "2022-03-25T21:13:50.400442Z",
     "shell.execute_reply": "2022-03-25T21:13:50.399724Z"
    },
    "papermill": {
     "duration": 0.073818,
     "end_time": "2022-03-25T21:13:50.400626",
     "exception": false,
     "start_time": "2022-03-25T21:13:50.326808",
     "status": "completed"
    },
    "tags": []
   },
   "outputs": [],
   "source": [
    "class Net(nn.Module):\n",
    "    \n",
    "    def __init__(self):\n",
    "        super(Net, self).__init__()\n",
    "        self.linear_relu_stack = nn.Sequential(\n",
    "            nn.Linear(num_feature, 300), \n",
    "            nn.ReLU(), \n",
    "            nn.Linear(300, 100), \n",
    "            nn.ReLU(),\n",
    "            nn.Linear(100, 50), \n",
    "            nn.ReLU(), \n",
    "            nn.Linear(50, 1)\n",
    "        )\n",
    "        \n",
    "    def forward(self, x):\n",
    "        logits = self.linear_relu_stack(x)\n",
    "        return logits\n",
    "    \n",
    "model = Net().double().to(device)"
   ]
  },
  {
   "cell_type": "code",
   "execution_count": 25,
   "id": "ce9bc67d",
   "metadata": {
    "execution": {
     "iopub.execute_input": "2022-03-25T21:13:50.486350Z",
     "iopub.status.busy": "2022-03-25T21:13:50.485456Z",
     "iopub.status.idle": "2022-03-25T21:13:50.496826Z",
     "shell.execute_reply": "2022-03-25T21:13:50.497439Z"
    },
    "papermill": {
     "duration": 0.058427,
     "end_time": "2022-03-25T21:13:50.497656",
     "exception": false,
     "start_time": "2022-03-25T21:13:50.439229",
     "status": "completed"
    },
    "tags": []
   },
   "outputs": [
    {
     "data": {
      "text/plain": [
       "Net(\n",
       "  (linear_relu_stack): Sequential(\n",
       "    (0): Linear(in_features=68, out_features=300, bias=True)\n",
       "    (1): ReLU()\n",
       "    (2): Linear(in_features=300, out_features=100, bias=True)\n",
       "    (3): ReLU()\n",
       "    (4): Linear(in_features=100, out_features=50, bias=True)\n",
       "    (5): ReLU()\n",
       "    (6): Linear(in_features=50, out_features=1, bias=True)\n",
       "  )\n",
       ")"
      ]
     },
     "execution_count": 25,
     "metadata": {},
     "output_type": "execute_result"
    }
   ],
   "source": [
    "def init_weight(layer):\n",
    "    if type(layer) == nn.Linear:\n",
    "        nn.init.xavier_normal_(layer.weight.data)\n",
    "model.apply(init_weight)"
   ]
  },
  {
   "cell_type": "code",
   "execution_count": 26,
   "id": "5b02eed3",
   "metadata": {
    "execution": {
     "iopub.execute_input": "2022-03-25T21:13:50.579488Z",
     "iopub.status.busy": "2022-03-25T21:13:50.578637Z",
     "iopub.status.idle": "2022-03-25T21:13:50.587029Z",
     "shell.execute_reply": "2022-03-25T21:13:50.587529Z"
    },
    "papermill": {
     "duration": 0.051515,
     "end_time": "2022-03-25T21:13:50.587763",
     "exception": false,
     "start_time": "2022-03-25T21:13:50.536248",
     "status": "completed"
    },
    "tags": []
   },
   "outputs": [],
   "source": [
    "def train_loop(dataloader, model, loss_fn, optimizer):\n",
    "    size = len(dataloader.dataset)\n",
    "    for X, y in dataloader:\n",
    "        # Compute prediction and loss\n",
    "        pred = model(X)\n",
    "        loss = loss_fn(pred, y)\n",
    "\n",
    "        # Backpropagation\n",
    "        optimizer.zero_grad()\n",
    "        loss.backward()\n",
    "        optimizer.step()\n",
    "\n",
    "    return loss.data\n",
    "\n",
    "\n",
    "def test_loop(dataloader, model, loss_fn):\n",
    "    size = len(dataloader.dataset)\n",
    "    num_batches = len(dataloader)\n",
    "    test_loss = 0\n",
    "\n",
    "    with torch.no_grad():\n",
    "        for X, y in dataloader:\n",
    "            pred = model(X)\n",
    "            test_loss += loss_fn(pred, y).item()\n",
    "\n",
    "    test_loss /= num_batches\n",
    "    return test_loss"
   ]
  },
  {
   "cell_type": "code",
   "execution_count": 27,
   "id": "25261e01",
   "metadata": {
    "execution": {
     "iopub.execute_input": "2022-03-25T21:13:50.670523Z",
     "iopub.status.busy": "2022-03-25T21:13:50.669703Z",
     "iopub.status.idle": "2022-03-25T23:29:42.689484Z",
     "shell.execute_reply": "2022-03-25T23:29:42.690057Z"
    },
    "papermill": {
     "duration": 8152.062994,
     "end_time": "2022-03-25T23:29:42.690360",
     "exception": false,
     "start_time": "2022-03-25T21:13:50.627366",
     "status": "completed"
    },
    "tags": []
   },
   "outputs": [
    {
     "name": "stdout",
     "output_type": "stream",
     "text": [
      "epoch 0 loss 11.335788334492042\n",
      "epoch 50 loss 5.744081630622428\n",
      "epoch 100 loss 5.682317966604548\n",
      "epoch 150 loss 5.696616983012851\n",
      "epoch 200 loss 5.758628532437014\n",
      "epoch 250 loss 5.69315567549999\n",
      "epoch 300 loss 5.694722282896818\n",
      "epoch 350 loss 5.674844173106691\n",
      "epoch 400 loss 5.6813811266520835\n",
      "epoch 450 loss 5.712146757988824\n",
      "epoch 500 loss 5.6821931505612415\n",
      "epoch 550 loss 5.6915937315882745\n",
      "epoch 600 loss 5.684748649769985\n",
      "epoch 650 loss 5.6881424668204215\n",
      "epoch 700 loss 5.710619642199209\n",
      "epoch 750 loss 5.713322303927402\n",
      "epoch 800 loss 5.6945442480742985\n",
      "epoch 850 loss 5.687104029631432\n",
      "epoch 900 loss 5.698833663858391\n",
      "epoch 950 loss 5.696521792783641\n",
      "Done!\n"
     ]
    }
   ],
   "source": [
    "learning_rate = 1e-3\n",
    "batch_size = 128\n",
    "epochs = 1000\n",
    "\n",
    "loss_fn = nn.L1Loss()\n",
    "optimizer = torch.optim.SGD(model.parameters(), lr=learning_rate)\n",
    "\n",
    "train_dataset = TensorDataset(x_train, y_train)\n",
    "train_dataloader = DataLoader(train_dataset, batch_size=batch_size, shuffle=True)\n",
    "val_dataset = TensorDataset(x_val, y_val)\n",
    "val_dataloader = DataLoader(val_dataset, batch_size=batch_size, shuffle=True)\n",
    "\n",
    "loss_list_train = []\n",
    "loss_list_test = []\n",
    "for t in range(epochs):\n",
    "    loss_train = train_loop(train_dataloader, model, loss_fn, optimizer)\n",
    "    test_loss = test_loop(val_dataloader, model, loss_fn)\n",
    "    loss_list_train.append(loss_train)\n",
    "    loss_list_test.append(test_loss)\n",
    "    if t % 50 == 0:\n",
    "        print(f'epoch {t} loss {test_loss}')\n",
    "print(\"Done!\")"
   ]
  },
  {
   "cell_type": "code",
   "execution_count": 28,
   "id": "2da0653e",
   "metadata": {
    "execution": {
     "iopub.execute_input": "2022-03-25T23:29:42.787679Z",
     "iopub.status.busy": "2022-03-25T23:29:42.787001Z",
     "iopub.status.idle": "2022-03-25T23:29:42.973890Z",
     "shell.execute_reply": "2022-03-25T23:29:42.974473Z"
    },
    "papermill": {
     "duration": 0.237729,
     "end_time": "2022-03-25T23:29:42.974655",
     "exception": false,
     "start_time": "2022-03-25T23:29:42.736926",
     "status": "completed"
    },
    "tags": []
   },
   "outputs": [
    {
     "data": {
      "image/png": "[encoded data removed]",
      "text/plain": [
       "<Figure size 432x288 with 1 Axes>"
      ]
     },
     "metadata": {
      "needs_background": "light"
     },
     "output_type": "display_data"
    }
   ],
   "source": [
    "plt.plot(range(epochs),loss_list_test)\n",
    "plt.xlabel(\"Number of Epochs\")\n",
    "plt.ylabel(\"Loss\")\n",
    "plt.show()"
   ]
  },
  {
   "cell_type": "code",
   "execution_count": null,
   "id": "b0dd0b61",
   "metadata": {
    "papermill": {
     "duration": 0.048007,
     "end_time": "2022-03-25T23:29:43.070168",
     "exception": false,
     "start_time": "2022-03-25T23:29:43.022161",
     "status": "completed"
    },
    "tags": []
   },
   "outputs": [],
   "source": []
  }
 ],
 "metadata": {
  "kernelspec": {
   "display_name": "Python 3",
   "language": "python",
   "name": "python3"
  },
  "language_info": {
   "codemirror_mode": {
    "name": "ipython",
    "version": 3
   },
   "file_extension": ".py",
   "mimetype": "text/x-python",
   "name": "python",
   "nbconvert_exporter": "python",
   "pygments_lexer": "ipython3",
   "version": "3.7.12"
  },
  "papermill": {
   "default_parameters": {},
   "duration": 8177.371552,
   "end_time": "2022-03-25T23:29:44.250204",
   "environment_variables": {},
   "exception": null,
   "input_path": "__notebook__.ipynb",
   "output_path": "__notebook__.ipynb",
   "parameters": {},
   "start_time": "2022-03-25T21:13:26.878652",
   "version": "2.3.3"
  }
 },
 "nbformat": 4,
 "nbformat_minor": 5
}
