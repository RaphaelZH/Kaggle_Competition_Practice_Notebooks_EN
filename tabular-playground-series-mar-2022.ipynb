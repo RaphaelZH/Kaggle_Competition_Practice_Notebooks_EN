{
 "cells": [
  {
   "cell_type": "markdown",
   "id": "ff1ff4c5",
   "metadata": {
    "papermill": {
     "duration": 0.010436,
     "end_time": "2022-03-17T20:46:37.766932",
     "exception": false,
     "start_time": "2022-03-17T20:46:37.756496",
     "status": "completed"
    },
    "tags": []
   },
   "source": [
    "# Libraries Import\n",
    "## Regular Libraries"
   ]
  },
  {
   "cell_type": "code",
   "execution_count": 1,
   "id": "f7d940eb",
   "metadata": {
    "execution": {
     "iopub.execute_input": "2022-03-17T20:46:37.792309Z",
     "iopub.status.busy": "2022-03-17T20:46:37.791432Z",
     "iopub.status.idle": "2022-03-17T20:46:37.801040Z",
     "shell.execute_reply": "2022-03-17T20:46:37.801406Z",
     "shell.execute_reply.started": "2022-03-17T20:45:32.574708Z"
    },
    "papermill": {
     "duration": 0.023152,
     "end_time": "2022-03-17T20:46:37.801621",
     "exception": false,
     "start_time": "2022-03-17T20:46:37.778469",
     "status": "completed"
    },
    "tags": []
   },
   "outputs": [],
   "source": [
    "import numpy as np\n",
    "import pandas as pd\n",
    "import os"
   ]
  },
  {
   "cell_type": "code",
   "execution_count": null,
   "id": "7856f9fe",
   "metadata": {
    "papermill": {
     "duration": 0.009374,
     "end_time": "2022-03-17T20:46:37.820839",
     "exception": false,
     "start_time": "2022-03-17T20:46:37.811465",
     "status": "completed"
    },
    "tags": []
   },
   "outputs": [],
   "source": []
  },
  {
   "cell_type": "code",
   "execution_count": 2,
   "id": "547e5410",
   "metadata": {
    "execution": {
     "iopub.execute_input": "2022-03-17T20:46:37.842420Z",
     "iopub.status.busy": "2022-03-17T20:46:37.841989Z",
     "iopub.status.idle": "2022-03-17T20:46:39.227034Z",
     "shell.execute_reply": "2022-03-17T20:46:39.227432Z",
     "shell.execute_reply.started": "2022-03-17T20:45:32.580227Z"
    },
    "papermill": {
     "duration": 1.397242,
     "end_time": "2022-03-17T20:46:39.227563",
     "exception": false,
     "start_time": "2022-03-17T20:46:37.830321",
     "status": "completed"
    },
    "tags": []
   },
   "outputs": [],
   "source": [
    "train = pd.read_csv('../input/tabular-playground-series-mar-2022/train.csv', index_col=0, parse_dates=['time'])\n",
    "test = pd.read_csv('../input/tabular-playground-series-mar-2022/test.csv', index_col=0, parse_dates=['time'])"
   ]
  },
  {
   "cell_type": "code",
   "execution_count": 3,
   "id": "c31db00f",
   "metadata": {
    "execution": {
     "iopub.execute_input": "2022-03-17T20:46:39.248897Z",
     "iopub.status.busy": "2022-03-17T20:46:39.248420Z",
     "iopub.status.idle": "2022-03-17T20:46:39.263190Z",
     "shell.execute_reply": "2022-03-17T20:46:39.263652Z",
     "shell.execute_reply.started": "2022-03-17T20:45:33.389167Z"
    },
    "papermill": {
     "duration": 0.02642,
     "end_time": "2022-03-17T20:46:39.263812",
     "exception": false,
     "start_time": "2022-03-17T20:46:39.237392",
     "status": "completed"
    },
    "tags": []
   },
   "outputs": [],
   "source": [
    "def reduce_mem_usage(df, verbose=True):\n",
    "    numerics = ['int16', 'int32', 'int64', 'float16', 'float32', 'float64']\n",
    "    start_mem = df.memory_usage().sum() / 1024**2    \n",
    "    for col in df.columns:\n",
    "        col_type = df[col].dtypes\n",
    "        if col_type in numerics:\n",
    "            c_min = df[col].min()\n",
    "            c_max = df[col].max()\n",
    "            if str(col_type)[:3] == 'int':\n",
    "                if c_min > np.iinfo(np.int8).min and c_max < np.iinfo(np.int8).max:\n",
    "                    df[col] = df[col].astype(np.int8)\n",
    "                elif c_min > np.iinfo(np.int16).min and c_max < np.iinfo(np.int16).max:\n",
    "                    df[col] = df[col].astype(np.int16)\n",
    "                elif c_min > np.iinfo(np.int32).min and c_max < np.iinfo(np.int32).max:\n",
    "                    df[col] = df[col].astype(np.int32)\n",
    "                elif c_min > np.iinfo(np.int64).min and c_max < np.iinfo(np.int64).max:\n",
    "                    df[col] = df[col].astype(np.int64)  \n",
    "            else:\n",
    "                if c_min > np.finfo(np.float16).min and c_max < np.finfo(np.float16).max:\n",
    "                    df[col] = df[col].astype(np.float16)\n",
    "                elif c_min > np.finfo(np.float32).min and c_max < np.finfo(np.float32).max:\n",
    "                    df[col] = df[col].astype(np.float32)\n",
    "                else:\n",
    "                    df[col] = df[col].astype(np.float64)  \n",
    "        else:\n",
    "            df[col] = df[col].astype('category')\n",
    "    end_mem = df.memory_usage().sum() / 1024**2\n",
    "    if verbose: print('Mem. usage decreased to {:5.2f} Mb ({:.1f}% reduction)'.format(end_mem, 100 * (start_mem - end_mem) / start_mem))\n",
    "    return df"
   ]
  },
  {
   "cell_type": "code",
   "execution_count": 4,
   "id": "9b28a1a5",
   "metadata": {
    "execution": {
     "iopub.execute_input": "2022-03-17T20:46:39.298919Z",
     "iopub.status.busy": "2022-03-17T20:46:39.298418Z",
     "iopub.status.idle": "2022-03-17T20:46:39.438386Z",
     "shell.execute_reply": "2022-03-17T20:46:39.437990Z",
     "shell.execute_reply.started": "2022-03-17T20:45:33.407522Z"
    },
    "papermill": {
     "duration": 0.160564,
     "end_time": "2022-03-17T20:46:39.438490",
     "exception": false,
     "start_time": "2022-03-17T20:46:39.277926",
     "status": "completed"
    },
    "tags": []
   },
   "outputs": [
    {
     "name": "stdout",
     "output_type": "stream",
     "text": [
      "Mem. usage decreased to 11.94 Mb (69.3% reduction)\n",
      "Mem. usage decreased to  0.03 Mb (68.2% reduction)\n"
     ]
    }
   ],
   "source": [
    "train = reduce_mem_usage(train)\n",
    "test = reduce_mem_usage(test)"
   ]
  },
  {
   "cell_type": "code",
   "execution_count": 5,
   "id": "9d0443ef",
   "metadata": {
    "execution": {
     "iopub.execute_input": "2022-03-17T20:46:39.465377Z",
     "iopub.status.busy": "2022-03-17T20:46:39.464887Z",
     "iopub.status.idle": "2022-03-17T20:46:41.317215Z",
     "shell.execute_reply": "2022-03-17T20:46:41.317671Z"
    },
    "papermill": {
     "duration": 1.868833,
     "end_time": "2022-03-17T20:46:41.317822",
     "exception": false,
     "start_time": "2022-03-17T20:46:39.448989",
     "status": "completed"
    },
    "tags": []
   },
   "outputs": [],
   "source": [
    "from datetime import datetime\n",
    "from math import sin, cos, pi\n",
    "\n",
    "\n",
    "from sklearn.preprocessing import OneHotEncoder, StandardScaler\n",
    "from sklearn.model_selection import train_test_split\n",
    "\n",
    "\n",
    "import torch\n",
    "from torch import nn\n",
    "from torch.utils.data import DataLoader\n",
    "from torch.utils.data import TensorDataset\n",
    "import torch.optim as optim\n",
    "\n",
    "import matplotlib.pyplot as plt"
   ]
  },
  {
   "cell_type": "code",
   "execution_count": 6,
   "id": "1b20f0ad",
   "metadata": {
    "execution": {
     "iopub.execute_input": "2022-03-17T20:46:41.342500Z",
     "iopub.status.busy": "2022-03-17T20:46:41.341821Z",
     "iopub.status.idle": "2022-03-17T20:46:41.883944Z",
     "shell.execute_reply": "2022-03-17T20:46:41.883504Z",
     "shell.execute_reply.started": "2022-03-17T20:46:08.442310Z"
    },
    "papermill": {
     "duration": 0.556234,
     "end_time": "2022-03-17T20:46:41.884056",
     "exception": false,
     "start_time": "2022-03-17T20:46:41.327822",
     "status": "completed"
    },
    "tags": []
   },
   "outputs": [],
   "source": [
    "# Memorial Day\n",
    "train = train[(train.time.dt.month != 5) | (train.time.dt.day != 27)]\n",
    "\n",
    "# July 4\n",
    "train = train[(train.time.dt.month != 7) | (train.time.dt.day != 4)]\n",
    "\n",
    "# Labor Day\n",
    "train = train[(train.time.dt.month != 9) | (train.time.dt.day != 2)]"
   ]
  },
  {
   "cell_type": "code",
   "execution_count": 7,
   "id": "a7cd3a07",
   "metadata": {
    "execution": {
     "iopub.execute_input": "2022-03-17T20:46:41.912249Z",
     "iopub.status.busy": "2022-03-17T20:46:41.910983Z",
     "iopub.status.idle": "2022-03-17T20:46:41.912786Z",
     "shell.execute_reply": "2022-03-17T20:46:41.913153Z",
     "shell.execute_reply.started": "2022-03-17T20:46:08.989701Z"
    },
    "papermill": {
     "duration": 0.01867,
     "end_time": "2022-03-17T20:46:41.913275",
     "exception": false,
     "start_time": "2022-03-17T20:46:41.894605",
     "status": "completed"
    },
    "tags": []
   },
   "outputs": [],
   "source": [
    "def fe0(data):\n",
    "    data['weekday'] = data.time.dt.weekday\n",
    "    data['hour'] = data.time.dt.hour\n",
    "    data['timeofday'] = data.time.dt.time\n",
    "\n",
    "    data['saturday'] = data['weekday'] == 5\n",
    "    data['sunday'] = data['weekday'] == 6\n",
    "    data['minute'] = data.time.dt.minute\n",
    "    data = data.drop(columns='time')\n",
    "    return data"
   ]
  },
  {
   "cell_type": "code",
   "execution_count": 8,
   "id": "e613f17a",
   "metadata": {
    "execution": {
     "iopub.execute_input": "2022-03-17T20:46:41.936135Z",
     "iopub.status.busy": "2022-03-17T20:46:41.935636Z",
     "iopub.status.idle": "2022-03-17T20:46:42.827804Z",
     "shell.execute_reply": "2022-03-17T20:46:42.828176Z",
     "shell.execute_reply.started": "2022-03-17T20:46:12.413079Z"
    },
    "papermill": {
     "duration": 0.904498,
     "end_time": "2022-03-17T20:46:42.828305",
     "exception": false,
     "start_time": "2022-03-17T20:46:41.923807",
     "status": "completed"
    },
    "tags": []
   },
   "outputs": [],
   "source": [
    "train = fe0(train)\n",
    "test = fe0(test)"
   ]
  },
  {
   "cell_type": "code",
   "execution_count": null,
   "id": "d2ad3df3",
   "metadata": {
    "papermill": {
     "duration": 0.00971,
     "end_time": "2022-03-17T20:46:42.848297",
     "exception": false,
     "start_time": "2022-03-17T20:46:42.838587",
     "status": "completed"
    },
    "tags": []
   },
   "outputs": [],
   "source": []
  },
  {
   "cell_type": "code",
   "execution_count": null,
   "id": "1046675a",
   "metadata": {
    "papermill": {
     "duration": 0.009543,
     "end_time": "2022-03-17T20:46:42.867407",
     "exception": false,
     "start_time": "2022-03-17T20:46:42.857864",
     "status": "completed"
    },
    "tags": []
   },
   "outputs": [],
   "source": []
  }
 ],
 "metadata": {
  "kernelspec": {
   "display_name": "Python 3",
   "language": "python",
   "name": "python3"
  },
  "language_info": {
   "codemirror_mode": {
    "name": "ipython",
    "version": 3
   },
   "file_extension": ".py",
   "mimetype": "text/x-python",
   "name": "python",
   "nbconvert_exporter": "python",
   "pygments_lexer": "ipython3",
   "version": "3.7.12"
  },
  "papermill": {
   "default_parameters": {},
   "duration": 15.75922,
   "end_time": "2022-03-17T20:46:43.685010",
   "environment_variables": {},
   "exception": null,
   "input_path": "__notebook__.ipynb",
   "output_path": "__notebook__.ipynb",
   "parameters": {},
   "start_time": "2022-03-17T20:46:27.925790",
   "version": "2.3.3"
  }
 },
 "nbformat": 4,
 "nbformat_minor": 5
}
