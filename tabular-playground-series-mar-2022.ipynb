{
 "cells": [
  {
   "cell_type": "markdown",
   "id": "a2c214a3",
   "metadata": {
    "papermill": {
     "duration": 0.014538,
     "end_time": "2022-03-18T19:48:30.093402",
     "exception": false,
     "start_time": "2022-03-18T19:48:30.078864",
     "status": "completed"
    },
    "tags": []
   },
   "source": [
    "# Libraries Import\n",
    "## Regular Libraries"
   ]
  },
  {
   "cell_type": "code",
   "execution_count": 1,
   "id": "64f88396",
   "metadata": {
    "execution": {
     "iopub.execute_input": "2022-03-18T19:48:30.129336Z",
     "iopub.status.busy": "2022-03-18T19:48:30.127714Z",
     "iopub.status.idle": "2022-03-18T19:48:30.136782Z",
     "shell.execute_reply": "2022-03-18T19:48:30.137228Z",
     "shell.execute_reply.started": "2022-03-18T19:41:41.523095Z"
    },
    "papermill": {
     "duration": 0.027869,
     "end_time": "2022-03-18T19:48:30.137465",
     "exception": false,
     "start_time": "2022-03-18T19:48:30.109596",
     "status": "completed"
    },
    "tags": []
   },
   "outputs": [],
   "source": [
    "import numpy as np\n",
    "import pandas as pd\n",
    "import os"
   ]
  },
  {
   "cell_type": "code",
   "execution_count": null,
   "id": "ec3046f7",
   "metadata": {
    "papermill": {
     "duration": 0.013468,
     "end_time": "2022-03-18T19:48:30.164320",
     "exception": false,
     "start_time": "2022-03-18T19:48:30.150852",
     "status": "completed"
    },
    "tags": []
   },
   "outputs": [],
   "source": []
  },
  {
   "cell_type": "code",
   "execution_count": 2,
   "id": "6d73d66a",
   "metadata": {
    "execution": {
     "iopub.execute_input": "2022-03-18T19:48:30.194553Z",
     "iopub.status.busy": "2022-03-18T19:48:30.193653Z",
     "iopub.status.idle": "2022-03-18T19:48:31.430633Z",
     "shell.execute_reply": "2022-03-18T19:48:31.429979Z",
     "shell.execute_reply.started": "2022-03-18T19:41:41.551129Z"
    },
    "papermill": {
     "duration": 1.253344,
     "end_time": "2022-03-18T19:48:31.430760",
     "exception": false,
     "start_time": "2022-03-18T19:48:30.177416",
     "status": "completed"
    },
    "tags": []
   },
   "outputs": [],
   "source": [
    "train = pd.read_csv('../input/tabular-playground-series-mar-2022/train.csv', index_col=0, parse_dates=['time'])\n",
    "test = pd.read_csv('../input/tabular-playground-series-mar-2022/test.csv', index_col=0, parse_dates=['time'])"
   ]
  },
  {
   "cell_type": "code",
   "execution_count": 3,
   "id": "f46c770d",
   "metadata": {
    "execution": {
     "iopub.execute_input": "2022-03-18T19:48:31.474242Z",
     "iopub.status.busy": "2022-03-18T19:48:31.472593Z",
     "iopub.status.idle": "2022-03-18T19:48:31.474828Z",
     "shell.execute_reply": "2022-03-18T19:48:31.475294Z",
     "shell.execute_reply.started": "2022-03-18T19:41:42.692220Z"
    },
    "papermill": {
     "duration": 0.030749,
     "end_time": "2022-03-18T19:48:31.475465",
     "exception": false,
     "start_time": "2022-03-18T19:48:31.444716",
     "status": "completed"
    },
    "tags": []
   },
   "outputs": [],
   "source": [
    "def reduce_mem_usage(df, verbose=True):\n",
    "    numerics = ['int16', 'int32', 'int64', 'float16', 'float32', 'float64']\n",
    "    start_mem = df.memory_usage().sum() / 1024**2    \n",
    "    for col in df.columns:\n",
    "        col_type = df[col].dtypes\n",
    "        if col_type in numerics:\n",
    "            c_min = df[col].min()\n",
    "            c_max = df[col].max()\n",
    "            if str(col_type)[:3] == 'int':\n",
    "                if c_min > np.iinfo(np.int8).min and c_max < np.iinfo(np.int8).max:\n",
    "                    df[col] = df[col].astype(np.int8)\n",
    "                elif c_min > np.iinfo(np.int16).min and c_max < np.iinfo(np.int16).max:\n",
    "                    df[col] = df[col].astype(np.int16)\n",
    "                elif c_min > np.iinfo(np.int32).min and c_max < np.iinfo(np.int32).max:\n",
    "                    df[col] = df[col].astype(np.int32)\n",
    "                elif c_min > np.iinfo(np.int64).min and c_max < np.iinfo(np.int64).max:\n",
    "                    df[col] = df[col].astype(np.int64)  \n",
    "            else:\n",
    "                if c_min > np.finfo(np.float16).min and c_max < np.finfo(np.float16).max:\n",
    "                    df[col] = df[col].astype(np.float16)\n",
    "                elif c_min > np.finfo(np.float32).min and c_max < np.finfo(np.float32).max:\n",
    "                    df[col] = df[col].astype(np.float32)\n",
    "                else:\n",
    "                    df[col] = df[col].astype(np.float64)  \n",
    "        else:\n",
    "            df[col] = df[col].astype('category')\n",
    "    end_mem = df.memory_usage().sum() / 1024**2\n",
    "    if verbose: print('Mem. usage decreased to {:5.2f} Mb ({:.1f}% reduction)'.format(end_mem, 100 * (start_mem - end_mem) / start_mem))\n",
    "    return df"
   ]
  },
  {
   "cell_type": "code",
   "execution_count": 4,
   "id": "c0e742e1",
   "metadata": {
    "execution": {
     "iopub.execute_input": "2022-03-18T19:48:31.510770Z",
     "iopub.status.busy": "2022-03-18T19:48:31.507734Z",
     "iopub.status.idle": "2022-03-18T19:48:31.642389Z",
     "shell.execute_reply": "2022-03-18T19:48:31.642827Z",
     "shell.execute_reply.started": "2022-03-18T19:41:42.709387Z"
    },
    "papermill": {
     "duration": 0.154026,
     "end_time": "2022-03-18T19:48:31.643013",
     "exception": false,
     "start_time": "2022-03-18T19:48:31.488987",
     "status": "completed"
    },
    "tags": []
   },
   "outputs": [
    {
     "name": "stdout",
     "output_type": "stream",
     "text": [
      "Mem. usage decreased to 11.94 Mb (69.3% reduction)\n",
      "Mem. usage decreased to  0.03 Mb (68.2% reduction)\n"
     ]
    }
   ],
   "source": [
    "train = reduce_mem_usage(train)\n",
    "test = reduce_mem_usage(test)"
   ]
  },
  {
   "cell_type": "code",
   "execution_count": 5,
   "id": "0e641434",
   "metadata": {
    "execution": {
     "iopub.execute_input": "2022-03-18T19:48:31.677522Z",
     "iopub.status.busy": "2022-03-18T19:48:31.676836Z",
     "iopub.status.idle": "2022-03-18T19:48:33.580283Z",
     "shell.execute_reply": "2022-03-18T19:48:33.580699Z",
     "shell.execute_reply.started": "2022-03-18T19:41:42.873397Z"
    },
    "papermill": {
     "duration": 1.922853,
     "end_time": "2022-03-18T19:48:33.580866",
     "exception": false,
     "start_time": "2022-03-18T19:48:31.658013",
     "status": "completed"
    },
    "tags": []
   },
   "outputs": [],
   "source": [
    "from datetime import datetime\n",
    "from math import sin, cos, pi\n",
    "\n",
    "\n",
    "from sklearn.preprocessing import OneHotEncoder, StandardScaler\n",
    "from sklearn.model_selection import train_test_split\n",
    "\n",
    "\n",
    "import torch\n",
    "from torch import nn\n",
    "from torch.utils.data import DataLoader\n",
    "from torch.utils.data import TensorDataset\n",
    "import torch.optim as optim\n",
    "\n",
    "import matplotlib.pyplot as plt"
   ]
  },
  {
   "cell_type": "code",
   "execution_count": 6,
   "id": "072fbc2b",
   "metadata": {
    "execution": {
     "iopub.execute_input": "2022-03-18T19:48:33.612060Z",
     "iopub.status.busy": "2022-03-18T19:48:33.611255Z",
     "iopub.status.idle": "2022-03-18T19:48:34.129054Z",
     "shell.execute_reply": "2022-03-18T19:48:34.129470Z",
     "shell.execute_reply.started": "2022-03-18T19:41:45.107243Z"
    },
    "papermill": {
     "duration": 0.535393,
     "end_time": "2022-03-18T19:48:34.129626",
     "exception": false,
     "start_time": "2022-03-18T19:48:33.594233",
     "status": "completed"
    },
    "tags": []
   },
   "outputs": [],
   "source": [
    "# Memorial Day\n",
    "train = train[(train.time.dt.month != 5) | (train.time.dt.day != 27)]\n",
    "\n",
    "# July 4\n",
    "train = train[(train.time.dt.month != 7) | (train.time.dt.day != 4)]\n",
    "\n",
    "# Labor Day\n",
    "train = train[(train.time.dt.month != 9) | (train.time.dt.day != 2)]"
   ]
  },
  {
   "cell_type": "code",
   "execution_count": 7,
   "id": "e3cb749c",
   "metadata": {
    "execution": {
     "iopub.execute_input": "2022-03-18T19:48:34.160144Z",
     "iopub.status.busy": "2022-03-18T19:48:34.159349Z",
     "iopub.status.idle": "2022-03-18T19:48:34.164235Z",
     "shell.execute_reply": "2022-03-18T19:48:34.164598Z",
     "shell.execute_reply.started": "2022-03-18T19:41:45.673178Z"
    },
    "papermill": {
     "duration": 0.021502,
     "end_time": "2022-03-18T19:48:34.164736",
     "exception": false,
     "start_time": "2022-03-18T19:48:34.143234",
     "status": "completed"
    },
    "tags": []
   },
   "outputs": [],
   "source": [
    "def fe0(data):\n",
    "    data['weekday'] = data.time.dt.weekday\n",
    "    data['hour'] = data.time.dt.hour\n",
    "    data['timeofday'] = data.time.dt.time\n",
    "\n",
    "    data['saturday'] = data['weekday'] == 5\n",
    "    data['sunday'] = data['weekday'] == 6\n",
    "    data['minute'] = data.time.dt.minute\n",
    "    data = data.drop(columns='time')\n",
    "    return data"
   ]
  },
  {
   "cell_type": "code",
   "execution_count": 8,
   "id": "4ec0fa54",
   "metadata": {
    "execution": {
     "iopub.execute_input": "2022-03-18T19:48:34.194656Z",
     "iopub.status.busy": "2022-03-18T19:48:34.193844Z",
     "iopub.status.idle": "2022-03-18T19:48:35.026537Z",
     "shell.execute_reply": "2022-03-18T19:48:35.027073Z",
     "shell.execute_reply.started": "2022-03-18T19:41:45.680825Z"
    },
    "papermill": {
     "duration": 0.849429,
     "end_time": "2022-03-18T19:48:35.027255",
     "exception": false,
     "start_time": "2022-03-18T19:48:34.177826",
     "status": "completed"
    },
    "tags": []
   },
   "outputs": [],
   "source": [
    "train = fe0(train)\n",
    "test = fe0(test)"
   ]
  },
  {
   "cell_type": "code",
   "execution_count": 9,
   "id": "d8454304",
   "metadata": {
    "execution": {
     "iopub.execute_input": "2022-03-18T19:48:35.059325Z",
     "iopub.status.busy": "2022-03-18T19:48:35.058401Z",
     "iopub.status.idle": "2022-03-18T19:48:35.641118Z",
     "shell.execute_reply": "2022-03-18T19:48:35.641663Z",
     "shell.execute_reply.started": "2022-03-18T19:47:42.662873Z"
    },
    "papermill": {
     "duration": 0.600245,
     "end_time": "2022-03-18T19:48:35.641835",
     "exception": false,
     "start_time": "2022-03-18T19:48:35.041590",
     "status": "completed"
    },
    "tags": []
   },
   "outputs": [
    {
     "data": {
      "image/png": "[encoded data removed]",
      "text/plain": [
       "<Figure size 1440x576 with 2 Axes>"
      ]
     },
     "metadata": {
      "needs_background": "light"
     },
     "output_type": "display_data"
    }
   ],
   "source": [
    "fig, axs = plt.subplots(1, 2, figsize=(20,8))\n",
    "bin_weekday = list(range(8))\n",
    "axs[0].hist(train.weekday, bin_weekday, rwidth=0.5)\n",
    "axs[0].set_title('weekday')\n",
    "axs[0].set_xticks(bin_weekday)\n",
    "axs[0].set_ylabel('count')\n",
    "\n",
    "bin_hour = list(range(25))\n",
    "axs[1].hist(train.hour, bin_hour, rwidth=0.7)\n",
    "axs[1].set_title('hour')\n",
    "axs[1].set_xticks(bin_hour)\n",
    "axs[1].set_ylabel('count')\n",
    "\n",
    "plt.show()"
   ]
  },
  {
   "cell_type": "code",
   "execution_count": 10,
   "id": "f06c2f54",
   "metadata": {
    "execution": {
     "iopub.execute_input": "2022-03-18T19:48:35.675939Z",
     "iopub.status.busy": "2022-03-18T19:48:35.675257Z",
     "iopub.status.idle": "2022-03-18T19:48:35.879233Z",
     "shell.execute_reply": "2022-03-18T19:48:35.878666Z",
     "shell.execute_reply.started": "2022-03-18T19:47:52.534402Z"
    },
    "papermill": {
     "duration": 0.222365,
     "end_time": "2022-03-18T19:48:35.879360",
     "exception": false,
     "start_time": "2022-03-18T19:48:35.656995",
     "status": "completed"
    },
    "tags": []
   },
   "outputs": [
    {
     "data": {
      "image/png": "[encoded data removed]",
      "text/plain": [
       "<Figure size 1296x432 with 1 Axes>"
      ]
     },
     "metadata": {
      "needs_background": "light"
     },
     "output_type": "display_data"
    }
   ],
   "source": [
    "temp = train.groupby(train.weekday).congestion.mean()\n",
    "plt.figure(figsize=(18, 6))\n",
    "plt.bar(temp.index, temp)\n",
    "plt.xticks(ticks=temp.index, labels='MTWTFSS')\n",
    "plt.xlabel('Days of the week')\n",
    "plt.ylabel('Mean of Congestion')\n",
    "plt.show()"
   ]
  },
  {
   "cell_type": "code",
   "execution_count": 11,
   "id": "f341f157",
   "metadata": {
    "execution": {
     "iopub.execute_input": "2022-03-18T19:48:35.928518Z",
     "iopub.status.busy": "2022-03-18T19:48:35.917638Z",
     "iopub.status.idle": "2022-03-18T19:48:36.311017Z",
     "shell.execute_reply": "2022-03-18T19:48:36.310477Z",
     "shell.execute_reply.started": "2022-03-18T19:48:05.398578Z"
    },
    "papermill": {
     "duration": 0.416251,
     "end_time": "2022-03-18T19:48:36.311228",
     "exception": false,
     "start_time": "2022-03-18T19:48:35.894977",
     "status": "completed"
    },
    "tags": []
   },
   "outputs": [
    {
     "data": {
      "image/png": "[encoded data removed]",
      "text/plain": [
       "<Figure size 1440x576 with 2 Axes>"
      ]
     },
     "metadata": {
      "needs_background": "light"
     },
     "output_type": "display_data"
    }
   ],
   "source": [
    "fig, axs = plt.subplots(1, 2, figsize=(20,8))\n",
    "bin_weekday = list(range(8))\n",
    "axs[0].hist(test.weekday, bin_weekday, rwidth=0.5)\n",
    "axs[0].set_title('weekday')\n",
    "axs[0].set_xticks(bin_weekday)\n",
    "axs[0].set_ylabel('count')\n",
    "\n",
    "bin_hour = list(range(25))\n",
    "axs[1].hist(test.hour, bin_hour, rwidth=0.7)\n",
    "axs[1].set_title('hour')\n",
    "axs[1].set_xticks(bin_hour)\n",
    "axs[1].set_ylabel('count')\n",
    "\n",
    "plt.show()"
   ]
  },
  {
   "cell_type": "code",
   "execution_count": null,
   "id": "6d96ee08",
   "metadata": {
    "papermill": {
     "duration": 0.017261,
     "end_time": "2022-03-18T19:48:36.346551",
     "exception": false,
     "start_time": "2022-03-18T19:48:36.329290",
     "status": "completed"
    },
    "tags": []
   },
   "outputs": [],
   "source": []
  }
 ],
 "metadata": {
  "kernelspec": {
   "display_name": "Python 3",
   "language": "python",
   "name": "python3"
  },
  "language_info": {
   "codemirror_mode": {
    "name": "ipython",
    "version": 3
   },
   "file_extension": ".py",
   "mimetype": "text/x-python",
   "name": "python",
   "nbconvert_exporter": "python",
   "pygments_lexer": "ipython3",
   "version": "3.7.12"
  },
  "papermill": {
   "default_parameters": {},
   "duration": 16.144422,
   "end_time": "2022-03-18T19:48:37.173522",
   "environment_variables": {},
   "exception": null,
   "input_path": "__notebook__.ipynb",
   "output_path": "__notebook__.ipynb",
   "parameters": {},
   "start_time": "2022-03-18T19:48:21.029100",
   "version": "2.3.3"
  }
 },
 "nbformat": 4,
 "nbformat_minor": 5
}
