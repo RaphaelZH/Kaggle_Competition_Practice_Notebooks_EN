{
 "cells": [
  {
   "cell_type": "markdown",
   "id": "29aa21d5",
   "metadata": {
    "papermill": {
     "duration": 0.014296,
     "end_time": "2022-03-16T22:17:44.974617",
     "exception": false,
     "start_time": "2022-03-16T22:17:44.960321",
     "status": "completed"
    },
    "tags": []
   },
   "source": [
    "# Libraries Import\n",
    "## Regular Libraries"
   ]
  },
  {
   "cell_type": "code",
   "execution_count": 1,
   "id": "1eaf6c85",
   "metadata": {
    "execution": {
     "iopub.execute_input": "2022-03-16T22:17:45.009716Z",
     "iopub.status.busy": "2022-03-16T22:17:45.008195Z",
     "iopub.status.idle": "2022-03-16T22:17:45.020082Z",
     "shell.execute_reply": "2022-03-16T22:17:45.020671Z",
     "shell.execute_reply.started": "2022-03-16T22:09:02.359930Z"
    },
    "papermill": {
     "duration": 0.030912,
     "end_time": "2022-03-16T22:17:45.021008",
     "exception": false,
     "start_time": "2022-03-16T22:17:44.990096",
     "status": "completed"
    },
    "tags": []
   },
   "outputs": [],
   "source": [
    "import numpy as np\n",
    "import pandas as pd\n",
    "import os"
   ]
  },
  {
   "cell_type": "code",
   "execution_count": null,
   "id": "d99a7aef",
   "metadata": {
    "papermill": {
     "duration": 0.013254,
     "end_time": "2022-03-16T22:17:45.048020",
     "exception": false,
     "start_time": "2022-03-16T22:17:45.034766",
     "status": "completed"
    },
    "tags": []
   },
   "outputs": [],
   "source": []
  },
  {
   "cell_type": "code",
   "execution_count": 2,
   "id": "b1fc3c10",
   "metadata": {
    "execution": {
     "iopub.execute_input": "2022-03-16T22:17:45.079764Z",
     "iopub.status.busy": "2022-03-16T22:17:45.079147Z",
     "iopub.status.idle": "2022-03-16T22:17:46.389587Z",
     "shell.execute_reply": "2022-03-16T22:17:46.390128Z",
     "shell.execute_reply.started": "2022-03-16T22:16:21.669992Z"
    },
    "papermill": {
     "duration": 1.329291,
     "end_time": "2022-03-16T22:17:46.390298",
     "exception": false,
     "start_time": "2022-03-16T22:17:45.061007",
     "status": "completed"
    },
    "tags": []
   },
   "outputs": [],
   "source": [
    "train = pd.read_csv('../input/tabular-playground-series-mar-2022/train.csv', index_col=0, parse_dates=['time'])\n",
    "test = pd.read_csv('../input/tabular-playground-series-mar-2022/test.csv', index_col=0, parse_dates=['time'])"
   ]
  },
  {
   "cell_type": "code",
   "execution_count": null,
   "id": "07575c0f",
   "metadata": {
    "papermill": {
     "duration": 0.013114,
     "end_time": "2022-03-16T22:17:46.417879",
     "exception": false,
     "start_time": "2022-03-16T22:17:46.404765",
     "status": "completed"
    },
    "tags": []
   },
   "outputs": [],
   "source": []
  },
  {
   "cell_type": "code",
   "execution_count": null,
   "id": "cb1926a3",
   "metadata": {
    "papermill": {
     "duration": 0.013183,
     "end_time": "2022-03-16T22:17:46.444644",
     "exception": false,
     "start_time": "2022-03-16T22:17:46.431461",
     "status": "completed"
    },
    "tags": []
   },
   "outputs": [],
   "source": []
  },
  {
   "cell_type": "code",
   "execution_count": null,
   "id": "2edb05bc",
   "metadata": {
    "papermill": {
     "duration": 0.013051,
     "end_time": "2022-03-16T22:17:46.471267",
     "exception": false,
     "start_time": "2022-03-16T22:17:46.458216",
     "status": "completed"
    },
    "tags": []
   },
   "outputs": [],
   "source": []
  },
  {
   "cell_type": "code",
   "execution_count": null,
   "id": "41f43d66",
   "metadata": {
    "papermill": {
     "duration": 0.013323,
     "end_time": "2022-03-16T22:17:46.498117",
     "exception": false,
     "start_time": "2022-03-16T22:17:46.484794",
     "status": "completed"
    },
    "tags": []
   },
   "outputs": [],
   "source": []
  },
  {
   "cell_type": "code",
   "execution_count": null,
   "id": "b7dd4f30",
   "metadata": {
    "papermill": {
     "duration": 0.013571,
     "end_time": "2022-03-16T22:17:46.525204",
     "exception": false,
     "start_time": "2022-03-16T22:17:46.511633",
     "status": "completed"
    },
    "tags": []
   },
   "outputs": [],
   "source": []
  },
  {
   "cell_type": "code",
   "execution_count": null,
   "id": "ee517ef6",
   "metadata": {
    "papermill": {
     "duration": 0.013385,
     "end_time": "2022-03-16T22:17:46.552305",
     "exception": false,
     "start_time": "2022-03-16T22:17:46.538920",
     "status": "completed"
    },
    "tags": []
   },
   "outputs": [],
   "source": []
  },
  {
   "cell_type": "code",
   "execution_count": null,
   "id": "799d5439",
   "metadata": {
    "papermill": {
     "duration": 0.013771,
     "end_time": "2022-03-16T22:17:46.579595",
     "exception": false,
     "start_time": "2022-03-16T22:17:46.565824",
     "status": "completed"
    },
    "tags": []
   },
   "outputs": [],
   "source": []
  },
  {
   "cell_type": "code",
   "execution_count": null,
   "id": "b23167b5",
   "metadata": {
    "papermill": {
     "duration": 0.013368,
     "end_time": "2022-03-16T22:17:46.607230",
     "exception": false,
     "start_time": "2022-03-16T22:17:46.593862",
     "status": "completed"
    },
    "tags": []
   },
   "outputs": [],
   "source": []
  }
 ],
 "metadata": {
  "kernelspec": {
   "display_name": "Python 3",
   "language": "python",
   "name": "python3"
  },
  "language_info": {
   "codemirror_mode": {
    "name": "ipython",
    "version": 3
   },
   "file_extension": ".py",
   "mimetype": "text/x-python",
   "name": "python",
   "nbconvert_exporter": "python",
   "pygments_lexer": "ipython3",
   "version": "3.7.12"
  },
  "papermill": {
   "default_parameters": {},
   "duration": 14.343419,
   "end_time": "2022-03-16T22:17:47.532752",
   "environment_variables": {},
   "exception": null,
   "input_path": "__notebook__.ipynb",
   "output_path": "__notebook__.ipynb",
   "parameters": {},
   "start_time": "2022-03-16T22:17:33.189333",
   "version": "2.3.3"
  }
 },
 "nbformat": 4,
 "nbformat_minor": 5
}
