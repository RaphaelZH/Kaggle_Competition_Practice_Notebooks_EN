{
 "cells": [
  {
   "cell_type": "code",
   "execution_count": 1,
   "id": "f7dc1ca5",
   "metadata": {
    "execution": {
     "iopub.execute_input": "2022-05-20T20:54:44.676465Z",
     "iopub.status.busy": "2022-05-20T20:54:44.676102Z",
     "iopub.status.idle": "2022-05-20T20:54:47.850891Z",
     "shell.execute_reply": "2022-05-20T20:54:47.849773Z"
    },
    "papermill": {
     "duration": 3.187535,
     "end_time": "2022-05-20T20:54:47.853621",
     "exception": false,
     "start_time": "2022-05-20T20:54:44.666086",
     "status": "completed"
    },
    "tags": []
   },
   "outputs": [
    {
     "data": {
      "text/html": [
       "<style type='text/css'>\n",
       ".datatable table.frame { margin-bottom: 0; }\n",
       ".datatable table.frame thead { border-bottom: none; }\n",
       ".datatable table.frame tr.coltypes td {  color: #FFFFFF;  line-height: 6px;  padding: 0 0.5em;}\n",
       ".datatable .bool    { background: #DDDD99; }\n",
       ".datatable .object  { background: #565656; }\n",
       ".datatable .int     { background: #5D9E5D; }\n",
       ".datatable .float   { background: #4040CC; }\n",
       ".datatable .str     { background: #CC4040; }\n",
       ".datatable .time    { background: #40CC40; }\n",
       ".datatable .row_index {  background: var(--jp-border-color3);  border-right: 1px solid var(--jp-border-color0);  color: var(--jp-ui-font-color3);  font-size: 9px;}\n",
       ".datatable .frame tbody td { text-align: left; }\n",
       ".datatable .frame tr.coltypes .row_index {  background: var(--jp-border-color0);}\n",
       ".datatable th:nth-child(2) { padding-left: 12px; }\n",
       ".datatable .hellipsis {  color: var(--jp-cell-editor-border-color);}\n",
       ".datatable .vellipsis {  background: var(--jp-layout-color0);  color: var(--jp-cell-editor-border-color);}\n",
       ".datatable .na {  color: var(--jp-cell-editor-border-color);  font-size: 80%;}\n",
       ".datatable .sp {  opacity: 0.25;}\n",
       ".datatable .footer { font-size: 9px; }\n",
       ".datatable .frame_dimensions {  background: var(--jp-border-color3);  border-top: 1px solid var(--jp-border-color0);  color: var(--jp-ui-font-color3);  display: inline-block;  opacity: 0.6;  padding: 1px 10px 1px 5px;}\n",
       "</style>\n"
      ],
      "text/plain": [
       "<IPython.core.display.HTML object>"
      ]
     },
     "metadata": {},
     "output_type": "display_data"
    }
   ],
   "source": [
    "import numpy as np # linear algebra\n",
    "import pandas as pd # data processing, CSV file I/O (e.g. pd.read_csv)\n",
    "\n",
    "import lightgbm as lgb\n",
    "\n",
    "from sklearn import preprocessing\n",
    "from sklearn.preprocessing import MinMaxScaler\n",
    "mmscaler = MinMaxScaler(feature_range=(0, 1), copy=True)\n",
    "from sklearn.preprocessing import LabelEncoder\n",
    "from sklearn.preprocessing import OrdinalEncoder\n",
    "from sklearn.model_selection import train_test_split\n",
    "from sklearn.metrics import mean_absolute_error\n",
    "#from sklearn.metrics import mean_squared_error\n",
    "#from sklearn.metrics import mean_squared_log_error\n",
    "from sklearn.metrics import r2_score\n",
    "import matplotlib.pyplot as plt\n",
    "import seaborn as sns\n",
    "sns.set()\n",
    "\n",
    "import missingno as msno\n",
    "import plotly.express as px\n",
    "\n",
    "import warnings\n",
    "warnings.filterwarnings(\"ignore\")"
   ]
  },
  {
   "cell_type": "markdown",
   "id": "fc31124d",
   "metadata": {
    "papermill": {
     "duration": 0.007311,
     "end_time": "2022-05-20T20:54:47.869526",
     "exception": false,
     "start_time": "2022-05-20T20:54:47.862215",
     "status": "completed"
    },
    "tags": []
   },
   "source": [
    "# Import data"
   ]
  },
  {
   "cell_type": "code",
   "execution_count": 2,
   "id": "f2cb19a2",
   "metadata": {
    "execution": {
     "iopub.execute_input": "2022-05-20T20:54:47.886866Z",
     "iopub.status.busy": "2022-05-20T20:54:47.886496Z",
     "iopub.status.idle": "2022-05-20T20:54:47.891643Z",
     "shell.execute_reply": "2022-05-20T20:54:47.890682Z"
    },
    "papermill": {
     "duration": 0.016704,
     "end_time": "2022-05-20T20:54:47.893868",
     "exception": false,
     "start_time": "2022-05-20T20:54:47.877164",
     "status": "completed"
    },
    "tags": []
   },
   "outputs": [],
   "source": [
    "pd.set_option('display.max_rows', 150)\n",
    "pd.set_option('display.max_columns', 600)\n",
    "pd.set_option('display.max_colwidth', None)\n",
    "pd.set_option('display.float_format', lambda x: '%.5f' % x)"
   ]
  },
  {
   "cell_type": "code",
   "execution_count": 3,
   "id": "daff7771",
   "metadata": {
    "execution": {
     "iopub.execute_input": "2022-05-20T20:54:47.911656Z",
     "iopub.status.busy": "2022-05-20T20:54:47.911266Z",
     "iopub.status.idle": "2022-05-20T20:55:04.308471Z",
     "shell.execute_reply": "2022-05-20T20:55:04.307486Z"
    },
    "papermill": {
     "duration": 16.409089,
     "end_time": "2022-05-20T20:55:04.311063",
     "exception": false,
     "start_time": "2022-05-20T20:54:47.901974",
     "status": "completed"
    },
    "tags": []
   },
   "outputs": [],
   "source": [
    "sample_submission = pd.read_csv(\"/kaggle/input/tabular-playground-series-may-2022/sample_submission.csv\")\n",
    "train = pd.read_csv(\"/kaggle/input/tabular-playground-series-may-2022/train.csv\")\n",
    "test = pd.read_csv(\"/kaggle/input/tabular-playground-series-may-2022/test.csv\")"
   ]
  },
  {
   "cell_type": "code",
   "execution_count": 4,
   "id": "d3fd9c8f",
   "metadata": {
    "execution": {
     "iopub.execute_input": "2022-05-20T20:55:04.329870Z",
     "iopub.status.busy": "2022-05-20T20:55:04.329550Z",
     "iopub.status.idle": "2022-05-20T20:55:04.346727Z",
     "shell.execute_reply": "2022-05-20T20:55:04.345776Z"
    },
    "papermill": {
     "duration": 0.028933,
     "end_time": "2022-05-20T20:55:04.348901",
     "exception": false,
     "start_time": "2022-05-20T20:55:04.319968",
     "status": "completed"
    },
    "tags": []
   },
   "outputs": [
    {
     "data": {
      "text/html": [
       "<div>\n",
       "<style scoped>\n",
       "    .dataframe tbody tr th:only-of-type {\n",
       "        vertical-align: middle;\n",
       "    }\n",
       "\n",
       "    .dataframe tbody tr th {\n",
       "        vertical-align: top;\n",
       "    }\n",
       "\n",
       "    .dataframe thead th {\n",
       "        text-align: right;\n",
       "    }\n",
       "</style>\n",
       "<table border=\"1\" class=\"dataframe\">\n",
       "  <thead>\n",
       "    <tr style=\"text-align: right;\">\n",
       "      <th></th>\n",
       "      <th>id</th>\n",
       "      <th>target</th>\n",
       "    </tr>\n",
       "  </thead>\n",
       "  <tbody>\n",
       "    <tr>\n",
       "      <th>0</th>\n",
       "      <td>900000</td>\n",
       "      <td>0.50000</td>\n",
       "    </tr>\n",
       "    <tr>\n",
       "      <th>1</th>\n",
       "      <td>900001</td>\n",
       "      <td>0.50000</td>\n",
       "    </tr>\n",
       "    <tr>\n",
       "      <th>2</th>\n",
       "      <td>900002</td>\n",
       "      <td>0.50000</td>\n",
       "    </tr>\n",
       "    <tr>\n",
       "      <th>3</th>\n",
       "      <td>900003</td>\n",
       "      <td>0.50000</td>\n",
       "    </tr>\n",
       "    <tr>\n",
       "      <th>4</th>\n",
       "      <td>900004</td>\n",
       "      <td>0.50000</td>\n",
       "    </tr>\n",
       "  </tbody>\n",
       "</table>\n",
       "</div>"
      ],
      "text/plain": [
       "       id  target\n",
       "0  900000 0.50000\n",
       "1  900001 0.50000\n",
       "2  900002 0.50000\n",
       "3  900003 0.50000\n",
       "4  900004 0.50000"
      ]
     },
     "execution_count": 4,
     "metadata": {},
     "output_type": "execute_result"
    }
   ],
   "source": [
    "sample_submission.head()"
   ]
  },
  {
   "cell_type": "code",
   "execution_count": null,
   "id": "7dec9b3e",
   "metadata": {
    "papermill": {
     "duration": 0.008622,
     "end_time": "2022-05-20T20:55:04.366125",
     "exception": false,
     "start_time": "2022-05-20T20:55:04.357503",
     "status": "completed"
    },
    "tags": []
   },
   "outputs": [],
   "source": []
  }
 ],
 "metadata": {
  "kernelspec": {
   "display_name": "Python 3",
   "language": "python",
   "name": "python3"
  },
  "language_info": {
   "codemirror_mode": {
    "name": "ipython",
    "version": 3
   },
   "file_extension": ".py",
   "mimetype": "text/x-python",
   "name": "python",
   "nbconvert_exporter": "python",
   "pygments_lexer": "ipython3",
   "version": "3.7.12"
  },
  "papermill": {
   "default_parameters": {},
   "duration": 31.432434,
   "end_time": "2022-05-20T20:55:05.404505",
   "environment_variables": {},
   "exception": null,
   "input_path": "__notebook__.ipynb",
   "output_path": "__notebook__.ipynb",
   "parameters": {},
   "start_time": "2022-05-20T20:54:33.972071",
   "version": "2.3.4"
  }
 },
 "nbformat": 4,
 "nbformat_minor": 5
}
